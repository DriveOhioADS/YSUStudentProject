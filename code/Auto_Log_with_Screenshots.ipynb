{
 "cells": [
  {
   "cell_type": "markdown",
   "id": "7d5fff77-da4e-4611-8ab4-7953dd8568be",
   "metadata": {},
   "source": [
    "# Auto log a single ID\n"
   ]
  },
  {
   "cell_type": "code",
   "execution_count": 167,
   "id": "41f9a81a-de71-4baa-9809-fcac81157f8f",
   "metadata": {},
   "outputs": [],
   "source": [
    "import plotly.express as px\n",
    "import pandas as pd\n",
    "\n",
    "import xlsxwriter\n",
    "import glob\n",
    "import os\n",
    "\n",
    "# Import plotly.express to utilize map"
   ]
  },
  {
   "cell_type": "markdown",
   "id": "62f79d62-f471-415c-9ff1-847bf328c327",
   "metadata": {},
   "source": [
    "### Import your groupMetadataID below\n"
   ]
  },
  {
   "cell_type": "code",
   "execution_count": 168,
   "id": "8aedcf9d-7ecb-458c-872e-f0e43b5d6803",
   "metadata": {},
   "outputs": [
    {
     "name": "stdout",
     "output_type": "stream",
     "text": [
      "chassis csv file found!\n",
      "best_pose csv file found!\n",
      "metadata csv file found!\n"
     ]
    }
   ],
   "source": [
    "gmID = '3a2a78cc-db21-11ee-a158-97f8443fd730'\n",
    "\n",
    "# set to False if data is stored as .csv file.\n",
    "# otherwise, set to True\n",
    "\n",
    "if os.path.isfile(f\"./data/chassis/{gmID}.csv\"):\n",
    "    queryChassis = False\n",
    "    print(\"chassis csv file found!\")\n",
    "else:\n",
    "    queryChassis = True\n",
    "    print(\"no chassis csv. Query for data necessary.\")\n",
    "\n",
    "if os.path.isfile(f\"./data/best_pose/{gmID}.csv\"):\n",
    "    queryPose = False\n",
    "    print(\"best_pose csv file found!\")\n",
    "else:\n",
    "    queryPose = True\n",
    "    print(\"no best_ose csv. Query for data necessary.\")\n",
    "\n",
    "if os.path.isfile(f\"./data/metadata/{gmID}.csv\"):\n",
    "    queryMeta = False\n",
    "    print(\"metadata csv file found!\")\n",
    "else:\n",
    "    queryMeta = True\n",
    "    print(\"no metadata csv. Query for data necessary.\")"
   ]
  },
  {
   "cell_type": "code",
   "execution_count": 169,
   "id": "0189332f",
   "metadata": {},
   "outputs": [],
   "source": [
    "from boto3.dynamodb.conditions import Key, Attr\n",
    "import boto3\n",
    "\n",
    "if queryPose or queryChassis or queryMeta:\n",
    "    # Get the service resource\n",
    "    dynamodb = boto3.resource('dynamodb')\n",
    "    # Instantiate a table resource object\n",
    "    table = dynamodb.Table('ads_passenger_processed')\n",
    "    table_meta = dynamodb.Table('ads_passenger_processed_metadata')"
   ]
  },
  {
   "cell_type": "code",
   "execution_count": 170,
   "id": "a0c8af00-2e62-49a8-a8fb-f89a1faf396d",
   "metadata": {},
   "outputs": [
    {
     "name": "stdout",
     "output_type": "stream",
     "text": [
      "Loaded best_pose data\n"
     ]
    },
    {
     "data": {
      "text/plain": [
       "(2001, 13)"
      ]
     },
     "execution_count": 170,
     "metadata": {},
     "output_type": "execute_result"
    }
   ],
   "source": [
    "\n",
    "if not os.path.exists(f\"./data/best_pose\"):\n",
    "        os.makedirs(f\"./data/best_pose\")\n",
    "\n",
    "if queryPose:\n",
    "\n",
    "    # query arguments for best_pose data\n",
    "    keywords = dict(\n",
    "        IndexName='topic-index',\n",
    "        KeyConditionExpression=Key('topic').eq(\n",
    "            '/apollo/sensor/gnss/best_pose'),\n",
    "        ProjectionExpression=\"groupMetadataID, #t, solStatus, solType, latitudeStdDev, longitudeStdDev, numSatsTracked, numSatsMulti, numSatsInSolution, differentialAge, solutionAge, latitude, longitude\",\n",
    "        Limit=1500,\n",
    "        ExpressionAttributeNames={'#t': 'time'},\n",
    "        FilterExpression=Key('groupMetadataID').eq(f'{gmID}')\n",
    "\n",
    "    )\n",
    "\n",
    "    # run initial query and coerce results into a dataframe\n",
    "    res = table.query(**keywords)\n",
    "    df_pose = pd.DataFrame.from_dict(\n",
    "        pd.json_normalize(res['Items']), orient='columns')\n",
    "\n",
    "    done = False\n",
    "    leek = res[\"LastEvaluatedKey\"]\n",
    "\n",
    "    while not done:\n",
    "        try:\n",
    "            leek = res[\"LastEvaluatedKey\"]\n",
    "            keywords[\"ExclusiveStartKey\"] = leek\n",
    "            res = table.query(**keywords)\n",
    "            tmpDF = pd.DataFrame.from_dict(\n",
    "                pd.json_normalize(res['Items']), orient='columns')\n",
    "            df_pose = pd.concat([df_pose, tmpDF])\n",
    "        except KeyError:\n",
    "            print(\"Done querying best_pose data\")\n",
    "            done = True\n",
    "\n",
    "    df_pose.to_csv(f\"./data/best_pose/{gmID}.csv\")\n",
    "    print(f\"Saved best_pose data at ./data/best_pose/{gmID}.csv\")\n",
    "\n",
    "\n",
    "else:\n",
    "    df_pose = pd.read_csv(f\"./data/best_pose/{gmID}.csv\")\n",
    "    print(\"Loaded best_pose data\")\n",
    "\n",
    "df_pose.shape"
   ]
  },
  {
   "cell_type": "code",
   "execution_count": 171,
   "id": "a5634079",
   "metadata": {},
   "outputs": [
    {
     "name": "stdout",
     "output_type": "stream",
     "text": [
      "Loaded chassis data\n",
      "(31903, 31)\n"
     ]
    }
   ],
   "source": [
    "if not os.path.exists(f\"./data/chassis\"):\n",
    "        os.makedirs(f\"./data/chassis\")\n",
    "        \n",
    "if queryChassis:\n",
    "    keywords = dict(\n",
    "        IndexName='topic-index',\n",
    "        KeyConditionExpression=Key('topic').eq(\n",
    "            '/apollo/canbus/chassis'),\n",
    "        Limit=2000,\n",
    "        FilterExpression=Key('groupMetadataID').eq(gmID)\n",
    "    )\n",
    "\n",
    "    res = table.query(**keywords)\n",
    "    df_chassis = pd.DataFrame.from_dict(\n",
    "        pd.json_normalize(res['Items']), orient='columns')\n",
    "\n",
    "    done = False\n",
    "    leek = res[\"LastEvaluatedKey\"]\n",
    "\n",
    "    while not done:\n",
    "        try:\n",
    "            leek = res[\"LastEvaluatedKey\"]\n",
    "            keywords[\"ExclusiveStartKey\"] = leek\n",
    "            res = table.query(**keywords)\n",
    "            tmpDF = pd.DataFrame.from_dict(\n",
    "                pd.json_normalize(res['Items']), orient='columns')\n",
    "            df_chassis = pd.concat([df_chassis, tmpDF])\n",
    "\n",
    "        except KeyError:\n",
    "            print(f\"done querying for chassis data\")\n",
    "            done = True\n",
    "\n",
    "    df_chassis.to_csv(f\"./data/chassis/{gmID}.csv\")\n",
    "    print(f\"Saved chassis data at ./data/chassis/{gmID}.csv\")\n",
    "else:\n",
    "    df_chassis = pd.read_csv(f\"./data/chassis/{gmID}.csv\")\n",
    "    print(\"Loaded chassis data\")\n",
    "\n",
    "print(df_chassis.shape)"
   ]
  },
  {
   "cell_type": "code",
   "execution_count": 172,
   "id": "0b8e278a",
   "metadata": {},
   "outputs": [
    {
     "name": "stdout",
     "output_type": "stream",
     "text": [
      "Loaded metadata\n",
      "(1, 8)\n"
     ]
    }
   ],
   "source": [
    "if not os.path.exists(f\"./data/metadata\"):\n",
    "        os.makedirs(f\"./data/metadata\")\n",
    "\n",
    "if queryMeta:\n",
    "\n",
    "    res = table_meta.query(\n",
    "        IndexName='groupMetadataID-index',\n",
    "        KeyConditionExpression=Key(\"groupMetadataID\").eq(gmID),\n",
    "        ProjectionExpression=\"groupMetadataID, #o.Weather, #o.#m, #o.Notes\",\n",
    "        Limit=1500,\n",
    "        ExpressionAttributeNames={\"#o\": \"other\", \"#m\": \"Map\"},\n",
    "    )\n",
    "\n",
    "    df_meta = pd.DataFrame.from_dict(\n",
    "        pd.json_normalize(res['Items']), orient='columns').drop_duplicates()\n",
    "\n",
    "    df_meta.to_csv(f\"./data/metadata/{gmID}.csv\")\n",
    "    print(f\"Saved metadata data at ./data/metadata/{gmID}.csv\")\n",
    "\n",
    "else:\n",
    "    df_meta = pd.read_csv(f\"./data/metadata/{gmID}.csv\")\n",
    "    print(\"Loaded metadata\")\n",
    "\n",
    "\n",
    "print(df_meta.shape)"
   ]
  },
  {
   "cell_type": "markdown",
   "id": "a7dff265-5962-47f8-963f-ea25552029f8",
   "metadata": {},
   "source": [
    "The output of this box will be messed up. It automatically sets row 0 to True. Not sure why, but it doesn't count as a transition in the end.\n",
    "We are also counting emergency mode as MANUAL\n"
   ]
  },
  {
   "cell_type": "code",
   "execution_count": 173,
   "id": "c692446b-fcff-4ea1-b0cf-a70d6d7a5384",
   "metadata": {},
   "outputs": [
    {
     "name": "stdout",
     "output_type": "stream",
     "text": [
      "transition\n",
      "False    31854\n",
      "True        49\n",
      "Name: count, dtype: int64\n"
     ]
    },
    {
     "name": "stdout",
     "output_type": "stream",
     "text": [
      "transitionType\n",
      "NONE    31871\n",
      "M->A       16\n",
      "A->M       16\n",
      "Name: count, dtype: int64\n"
     ]
    },
    {
     "data": {
      "text/html": [
       "<div>\n",
       "<style scoped>\n",
       "    .dataframe tbody tr th:only-of-type {\n",
       "        vertical-align: middle;\n",
       "    }\n",
       "\n",
       "    .dataframe tbody tr th {\n",
       "        vertical-align: top;\n",
       "    }\n",
       "\n",
       "    .dataframe thead th {\n",
       "        text-align: right;\n",
       "    }\n",
       "</style>\n",
       "<table border=\"1\" class=\"dataframe\">\n",
       "  <thead>\n",
       "    <tr style=\"text-align: right;\">\n",
       "      <th></th>\n",
       "      <th>time</th>\n",
       "    </tr>\n",
       "  </thead>\n",
       "  <tbody>\n",
       "    <tr>\n",
       "      <th>3092</th>\n",
       "      <td>2023-08-17 15:14:25</td>\n",
       "    </tr>\n",
       "    <tr>\n",
       "      <th>31671</th>\n",
       "      <td>2023-08-17 15:14:25</td>\n",
       "    </tr>\n",
       "    <tr>\n",
       "      <th>14369</th>\n",
       "      <td>2023-08-17 15:14:25</td>\n",
       "    </tr>\n",
       "    <tr>\n",
       "      <th>2187</th>\n",
       "      <td>2023-08-17 15:14:25</td>\n",
       "    </tr>\n",
       "    <tr>\n",
       "      <th>19724</th>\n",
       "      <td>2023-08-17 15:14:25</td>\n",
       "    </tr>\n",
       "    <tr>\n",
       "      <th>...</th>\n",
       "      <td>...</td>\n",
       "    </tr>\n",
       "    <tr>\n",
       "      <th>2064</th>\n",
       "      <td>2023-08-17 15:47:47</td>\n",
       "    </tr>\n",
       "    <tr>\n",
       "      <th>30421</th>\n",
       "      <td>2023-08-17 15:47:47</td>\n",
       "    </tr>\n",
       "    <tr>\n",
       "      <th>1938</th>\n",
       "      <td>2023-08-17 15:47:47</td>\n",
       "    </tr>\n",
       "    <tr>\n",
       "      <th>12877</th>\n",
       "      <td>2023-08-17 15:47:47</td>\n",
       "    </tr>\n",
       "    <tr>\n",
       "      <th>4983</th>\n",
       "      <td>2023-08-17 15:47:47</td>\n",
       "    </tr>\n",
       "  </tbody>\n",
       "</table>\n",
       "<p>31903 rows × 1 columns</p>\n",
       "</div>"
      ],
      "text/plain": [
       "                     time\n",
       "3092  2023-08-17 15:14:25\n",
       "31671 2023-08-17 15:14:25\n",
       "14369 2023-08-17 15:14:25\n",
       "2187  2023-08-17 15:14:25\n",
       "19724 2023-08-17 15:14:25\n",
       "...                   ...\n",
       "2064  2023-08-17 15:47:47\n",
       "30421 2023-08-17 15:47:47\n",
       "1938  2023-08-17 15:47:47\n",
       "12877 2023-08-17 15:47:47\n",
       "4983  2023-08-17 15:47:47\n",
       "\n",
       "[31903 rows x 1 columns]"
      ]
     },
     "execution_count": 173,
     "metadata": {},
     "output_type": "execute_result"
    }
   ],
   "source": [
    "# read the timeSorted csv\n",
    "pts = df_chassis.copy()\n",
    "pts = pts.sort_values('time')\n",
    "# reduce df to only time and drivingMode\n",
    "pts = pts[[\"time\", \"drivingMode\"]]\n",
    "# function to tell us what state transition it is\n",
    "\n",
    "\n",
    "def getState(old, new):\n",
    "    if old == \"COMPLETE_AUTO_DRIVE\" and new == \"COMPLETE_MANUAL\":\n",
    "        return \"A->M\"\n",
    "    elif old == \"COMPLETE_AUTO_DRIVE\" and new == \"EMERGENCY_MODE\":\n",
    "        return \"A->M\"\n",
    "    elif old == \"COMPLETE_MANUAL\" and new == \"COMPLETE_AUTO_DRIVE\":\n",
    "        return \"M->A\"\n",
    "    elif old == \"EMERGENCY_MODE\" and new == \"COMPLETE_AUTO_DRIVE\":\n",
    "        return \"M->A\"\n",
    "    else:\n",
    "        return \"NONE\"\n",
    "\n",
    "\n",
    "# we shift the drivingMode column down by 1\n",
    "pts[\"shift\"] = pts[\"drivingMode\"].shift()\n",
    "# create transition field\n",
    "pts['transition'] = (pts[\"drivingMode\"] != pts[\"shift\"])\n",
    "# set Transition type to NONE for all\n",
    "pts['transitionType'] = \"NONE\"\n",
    "# Set first transition to False, since it was auto True\n",
    "pts.loc[0, 'transition'] = False\n",
    "# print(pts['transition'])\n",
    "# Show counts for transitions\n",
    "print(pts['transition'].value_counts())\n",
    "# iterate over all rows and find the ones where transition is true. Then we compare shift and dM to see what\n",
    "# transition Type we have.\n",
    "for index, row in pts.iterrows():\n",
    "    if pts['transition'][index] == True:\n",
    "        old = pts['shift'][index]\n",
    "        new = pts['drivingMode'][index]\n",
    "        pts.loc[index, \"transitionType\"] = getState(old, new)\n",
    "print(pts['transitionType'].value_counts())\n",
    "pts = pts[['time', 'drivingMode', 'transition', 'transitionType']]\n",
    "pts = pts.sort_values('time')\n",
    "pts['time'] = pts['time'].astype(float)\n",
    "pts['time'] = pts['time'].astype('datetime64[ns]')\n",
    "pts['time'] = pts['time'].astype('datetime64[s]')\n",
    "pts[['time']]\n",
    "\n",
    "# show(pts)"
   ]
  },
  {
   "cell_type": "code",
   "execution_count": 174,
   "id": "4ba8ee8e-c2bf-46e5-a1bc-5f805200ee6a",
   "metadata": {},
   "outputs": [
    {
     "name": "stdout",
     "output_type": "stream",
     "text": [
      "no pair for 52: M->A\n",
      "137: A->M\n",
      "169: M->A\n",
      "226: A->M\n",
      "236: M->A\n",
      "289: A->M\n",
      "352: M->A\n",
      "372: A->M\n",
      "378: M->A\n",
      "398: A->M\n",
      "413: M->A\n",
      "500: A->M\n",
      "506: M->A\n",
      "568: A->M\n",
      "575: M->A\n",
      "777: A->M\n",
      "781: M->A\n",
      "806: A->M\n",
      "814: M->A\n",
      "875: A->M\n",
      "889: M->A\n",
      "892: A->M\n",
      "896: M->A\n",
      "912: A->M\n",
      "915: M->A\n",
      "949: A->M\n",
      "954: M->A\n",
      "978: A->M\n",
      "991: M->A\n",
      "992: A->M\n",
      "998: M->A\n",
      "1241: A->M\n"
     ]
    }
   ],
   "source": [
    "bestPos = df_pose.copy()\n",
    "bestPos = bestPos.sort_values('time')\n",
    "bestPos['time'] = bestPos['time'].astype(float)\n",
    "bestPos['time'] = bestPos['time'].astype('datetime64[ns]')\n",
    "bestPos['time'] = bestPos['time'].astype('datetime64[s]')\n",
    "bestPos = bestPos[['time', 'latitude', 'longitude']]\n",
    "merged_df = pd.merge(pts, bestPos, on='time')\n",
    "merged_df = merged_df.drop_duplicates(\n",
    "    subset=['time', 'transitionType']).reset_index()\n",
    "# remove all NONE transition columns\n",
    "automatedDF = merged_df[(merged_df['transitionType'] != 'NONE')]\n",
    "# show(automatedDF)\n",
    "# create a pairing system so we know start and end positions\n",
    "pair = True\n",
    "# list to hold the entries\n",
    "documents = []\n",
    "# iterate over the list\n",
    "for index, row in automatedDF.iterrows():\n",
    "    if pair == False:\n",
    "        print(f\"{index}:\", row['transitionType'])\n",
    "        # log the end time of transitioning back into automatic\n",
    "        endTime = row['time']\n",
    "        endingLoc = [row['latitude'], row['longitude']]\n",
    "        # create our document here since we know we have a pair at the moment\n",
    "        document = {\n",
    "            'gmID': gmID,\n",
    "            'Start Time': startTime,\n",
    "            'Stop Time': endTime,\n",
    "            'Start Lat': startingLoc[0],\n",
    "            'Start Long': startingLoc[1],\n",
    "            'Start Index': startingIndex,\n",
    "            'Stop Lat': endingLoc[0],\n",
    "            'Stop Long': endingLoc[1],\n",
    "            'Stop Index': index,\n",
    "            'Notes': '',\n",
    "            'Features Present': '',\n",
    "            'Image': ''\n",
    "        }\n",
    "        documents.append(document)\n",
    "        pair = True\n",
    "    elif row['transitionType'] == 'A->M':\n",
    "        print(f\"{index}:\", row['transitionType'])\n",
    "        startTime = row['time']\n",
    "        startingLoc = [row['latitude'], row['longitude']]\n",
    "        startingIndex = index\n",
    "        # print(f'{startTime} location: {startingLoc}')\n",
    "        pair = False\n",
    "    else:\n",
    "        print(f\"no pair for {index}:\", row['transitionType'])\n",
    "        # raise Exception(\"Error!\")\n",
    "\n",
    "\n",
    "if not os.path.exists(f\"./data/logged\"):\n",
    "    os.makedirs(f\"./data/logged\")\n",
    "# print(documents)\n",
    "autoOutput = pd.DataFrame(documents)\n",
    "\n",
    "# heatmap = pd.read_csv(\"heatmap_4.csv\")\n",
    "# heatmap = pd.concat([heatmap, merged_df])\n",
    "# heatmap = heatmap.drop(['Unnamed: 0'], axis='columns')\n",
    "# heatmap.to_csv(\"heatmap6.csv\")\n",
    "# heatmap"
   ]
  },
  {
   "cell_type": "code",
   "execution_count": 175,
   "id": "4e2a61be",
   "metadata": {},
   "outputs": [
    {
     "data": {
      "text/html": [
       "<div>\n",
       "<style scoped>\n",
       "    .dataframe tbody tr th:only-of-type {\n",
       "        vertical-align: middle;\n",
       "    }\n",
       "\n",
       "    .dataframe tbody tr th {\n",
       "        vertical-align: top;\n",
       "    }\n",
       "\n",
       "    .dataframe thead th {\n",
       "        text-align: right;\n",
       "    }\n",
       "</style>\n",
       "<table border=\"1\" class=\"dataframe\">\n",
       "  <thead>\n",
       "    <tr style=\"text-align: right;\">\n",
       "      <th></th>\n",
       "      <th>index</th>\n",
       "      <th>time</th>\n",
       "      <th>drivingMode</th>\n",
       "      <th>transition</th>\n",
       "      <th>transitionType</th>\n",
       "      <th>latitude</th>\n",
       "      <th>longitude</th>\n",
       "    </tr>\n",
       "  </thead>\n",
       "  <tbody>\n",
       "    <tr>\n",
       "      <th>0</th>\n",
       "      <td>0</td>\n",
       "      <td>2023-08-17 15:14:27</td>\n",
       "      <td>EMERGENCY_MODE</td>\n",
       "      <td>False</td>\n",
       "      <td>NONE</td>\n",
       "      <td>39.329602</td>\n",
       "      <td>-82.127926</td>\n",
       "    </tr>\n",
       "    <tr>\n",
       "      <th>1</th>\n",
       "      <td>30</td>\n",
       "      <td>2023-08-17 15:14:28</td>\n",
       "      <td>EMERGENCY_MODE</td>\n",
       "      <td>False</td>\n",
       "      <td>NONE</td>\n",
       "      <td>39.329603</td>\n",
       "      <td>-82.127926</td>\n",
       "    </tr>\n",
       "    <tr>\n",
       "      <th>2</th>\n",
       "      <td>60</td>\n",
       "      <td>2023-08-17 15:14:29</td>\n",
       "      <td>EMERGENCY_MODE</td>\n",
       "      <td>False</td>\n",
       "      <td>NONE</td>\n",
       "      <td>39.329602</td>\n",
       "      <td>-82.127926</td>\n",
       "    </tr>\n",
       "    <tr>\n",
       "      <th>3</th>\n",
       "      <td>91</td>\n",
       "      <td>2023-08-17 15:14:30</td>\n",
       "      <td>EMERGENCY_MODE</td>\n",
       "      <td>False</td>\n",
       "      <td>NONE</td>\n",
       "      <td>39.329603</td>\n",
       "      <td>-82.127926</td>\n",
       "    </tr>\n",
       "    <tr>\n",
       "      <th>4</th>\n",
       "      <td>121</td>\n",
       "      <td>2023-08-17 15:14:31</td>\n",
       "      <td>EMERGENCY_MODE</td>\n",
       "      <td>False</td>\n",
       "      <td>NONE</td>\n",
       "      <td>39.329602</td>\n",
       "      <td>-82.127926</td>\n",
       "    </tr>\n",
       "    <tr>\n",
       "      <th>...</th>\n",
       "      <td>...</td>\n",
       "      <td>...</td>\n",
       "      <td>...</td>\n",
       "      <td>...</td>\n",
       "      <td>...</td>\n",
       "      <td>...</td>\n",
       "      <td>...</td>\n",
       "    </tr>\n",
       "    <tr>\n",
       "      <th>1264</th>\n",
       "      <td>43707</td>\n",
       "      <td>2023-08-17 15:47:43</td>\n",
       "      <td>EMERGENCY_MODE</td>\n",
       "      <td>False</td>\n",
       "      <td>NONE</td>\n",
       "      <td>39.330517</td>\n",
       "      <td>-82.128211</td>\n",
       "    </tr>\n",
       "    <tr>\n",
       "      <th>1265</th>\n",
       "      <td>43737</td>\n",
       "      <td>2023-08-17 15:47:44</td>\n",
       "      <td>EMERGENCY_MODE</td>\n",
       "      <td>False</td>\n",
       "      <td>NONE</td>\n",
       "      <td>39.330517</td>\n",
       "      <td>-82.128211</td>\n",
       "    </tr>\n",
       "    <tr>\n",
       "      <th>1266</th>\n",
       "      <td>43767</td>\n",
       "      <td>2023-08-17 15:47:45</td>\n",
       "      <td>EMERGENCY_MODE</td>\n",
       "      <td>False</td>\n",
       "      <td>NONE</td>\n",
       "      <td>39.330517</td>\n",
       "      <td>-82.128211</td>\n",
       "    </tr>\n",
       "    <tr>\n",
       "      <th>1267</th>\n",
       "      <td>43786</td>\n",
       "      <td>2023-08-17 15:47:46</td>\n",
       "      <td>EMERGENCY_MODE</td>\n",
       "      <td>False</td>\n",
       "      <td>NONE</td>\n",
       "      <td>39.330517</td>\n",
       "      <td>-82.128211</td>\n",
       "    </tr>\n",
       "    <tr>\n",
       "      <th>1268</th>\n",
       "      <td>43828</td>\n",
       "      <td>2023-08-17 15:47:47</td>\n",
       "      <td>EMERGENCY_MODE</td>\n",
       "      <td>False</td>\n",
       "      <td>NONE</td>\n",
       "      <td>39.330517</td>\n",
       "      <td>-82.128211</td>\n",
       "    </tr>\n",
       "  </tbody>\n",
       "</table>\n",
       "<p>1269 rows × 7 columns</p>\n",
       "</div>"
      ],
      "text/plain": [
       "      index                time     drivingMode  transition transitionType  \\\n",
       "0         0 2023-08-17 15:14:27  EMERGENCY_MODE       False           NONE   \n",
       "1        30 2023-08-17 15:14:28  EMERGENCY_MODE       False           NONE   \n",
       "2        60 2023-08-17 15:14:29  EMERGENCY_MODE       False           NONE   \n",
       "3        91 2023-08-17 15:14:30  EMERGENCY_MODE       False           NONE   \n",
       "4       121 2023-08-17 15:14:31  EMERGENCY_MODE       False           NONE   \n",
       "...     ...                 ...             ...         ...            ...   \n",
       "1264  43707 2023-08-17 15:47:43  EMERGENCY_MODE       False           NONE   \n",
       "1265  43737 2023-08-17 15:47:44  EMERGENCY_MODE       False           NONE   \n",
       "1266  43767 2023-08-17 15:47:45  EMERGENCY_MODE       False           NONE   \n",
       "1267  43786 2023-08-17 15:47:46  EMERGENCY_MODE       False           NONE   \n",
       "1268  43828 2023-08-17 15:47:47  EMERGENCY_MODE       False           NONE   \n",
       "\n",
       "       latitude  longitude  \n",
       "0     39.329602 -82.127926  \n",
       "1     39.329603 -82.127926  \n",
       "2     39.329602 -82.127926  \n",
       "3     39.329603 -82.127926  \n",
       "4     39.329602 -82.127926  \n",
       "...         ...        ...  \n",
       "1264  39.330517 -82.128211  \n",
       "1265  39.330517 -82.128211  \n",
       "1266  39.330517 -82.128211  \n",
       "1267  39.330517 -82.128211  \n",
       "1268  39.330517 -82.128211  \n",
       "\n",
       "[1269 rows x 7 columns]"
      ]
     },
     "execution_count": 175,
     "metadata": {},
     "output_type": "execute_result"
    }
   ],
   "source": [
    "merged_df"
   ]
  },
  {
   "cell_type": "code",
   "execution_count": 176,
   "id": "f4edb23b",
   "metadata": {},
   "outputs": [
    {
     "data": {
      "text/html": [
       "<div>\n",
       "<style scoped>\n",
       "    .dataframe tbody tr th:only-of-type {\n",
       "        vertical-align: middle;\n",
       "    }\n",
       "\n",
       "    .dataframe tbody tr th {\n",
       "        vertical-align: top;\n",
       "    }\n",
       "\n",
       "    .dataframe thead th {\n",
       "        text-align: right;\n",
       "    }\n",
       "</style>\n",
       "<table border=\"1\" class=\"dataframe\">\n",
       "  <thead>\n",
       "    <tr style=\"text-align: right;\">\n",
       "      <th></th>\n",
       "      <th>gmID</th>\n",
       "      <th>Start Time</th>\n",
       "      <th>Stop Time</th>\n",
       "      <th>Start Lat</th>\n",
       "      <th>Start Long</th>\n",
       "      <th>Start Index</th>\n",
       "      <th>Stop Lat</th>\n",
       "      <th>Stop Long</th>\n",
       "      <th>Stop Index</th>\n",
       "      <th>Notes</th>\n",
       "      <th>Features Present</th>\n",
       "      <th>Image</th>\n",
       "    </tr>\n",
       "  </thead>\n",
       "  <tbody>\n",
       "    <tr>\n",
       "      <th>0</th>\n",
       "      <td>3a2a78cc-db21-11ee-a158-97f8443fd730</td>\n",
       "      <td>2023-08-17 15:16:50</td>\n",
       "      <td>2023-08-17 15:17:25</td>\n",
       "      <td>39.320644</td>\n",
       "      <td>-82.107480</td>\n",
       "      <td>137</td>\n",
       "      <td>39.319728</td>\n",
       "      <td>-82.105326</td>\n",
       "      <td>169</td>\n",
       "      <td></td>\n",
       "      <td></td>\n",
       "      <td></td>\n",
       "    </tr>\n",
       "    <tr>\n",
       "      <th>1</th>\n",
       "      <td>3a2a78cc-db21-11ee-a158-97f8443fd730</td>\n",
       "      <td>2023-08-17 15:18:57</td>\n",
       "      <td>2023-08-17 15:19:05</td>\n",
       "      <td>39.326691</td>\n",
       "      <td>-82.102714</td>\n",
       "      <td>226</td>\n",
       "      <td>39.326623</td>\n",
       "      <td>-82.101713</td>\n",
       "      <td>236</td>\n",
       "      <td></td>\n",
       "      <td></td>\n",
       "      <td></td>\n",
       "    </tr>\n",
       "    <tr>\n",
       "      <th>2</th>\n",
       "      <td>3a2a78cc-db21-11ee-a158-97f8443fd730</td>\n",
       "      <td>2023-08-17 15:20:52</td>\n",
       "      <td>2023-08-17 15:22:44</td>\n",
       "      <td>39.327251</td>\n",
       "      <td>-82.101367</td>\n",
       "      <td>289</td>\n",
       "      <td>39.329284</td>\n",
       "      <td>-82.102271</td>\n",
       "      <td>352</td>\n",
       "      <td></td>\n",
       "      <td></td>\n",
       "      <td></td>\n",
       "    </tr>\n",
       "    <tr>\n",
       "      <th>3</th>\n",
       "      <td>3a2a78cc-db21-11ee-a158-97f8443fd730</td>\n",
       "      <td>2023-08-17 15:23:09</td>\n",
       "      <td>2023-08-17 15:23:20</td>\n",
       "      <td>39.327785</td>\n",
       "      <td>-82.102740</td>\n",
       "      <td>372</td>\n",
       "      <td>39.327755</td>\n",
       "      <td>-82.102759</td>\n",
       "      <td>378</td>\n",
       "      <td></td>\n",
       "      <td></td>\n",
       "      <td></td>\n",
       "    </tr>\n",
       "    <tr>\n",
       "      <th>4</th>\n",
       "      <td>3a2a78cc-db21-11ee-a158-97f8443fd730</td>\n",
       "      <td>2023-08-17 15:23:56</td>\n",
       "      <td>2023-08-17 15:24:22</td>\n",
       "      <td>39.328951</td>\n",
       "      <td>-82.104938</td>\n",
       "      <td>398</td>\n",
       "      <td>39.329446</td>\n",
       "      <td>-82.107703</td>\n",
       "      <td>413</td>\n",
       "      <td></td>\n",
       "      <td></td>\n",
       "      <td></td>\n",
       "    </tr>\n",
       "    <tr>\n",
       "      <th>5</th>\n",
       "      <td>3a2a78cc-db21-11ee-a158-97f8443fd730</td>\n",
       "      <td>2023-08-17 15:27:26</td>\n",
       "      <td>2023-08-17 15:27:30</td>\n",
       "      <td>39.330921</td>\n",
       "      <td>-82.125786</td>\n",
       "      <td>500</td>\n",
       "      <td>39.330467</td>\n",
       "      <td>-82.127142</td>\n",
       "      <td>506</td>\n",
       "      <td></td>\n",
       "      <td></td>\n",
       "      <td></td>\n",
       "    </tr>\n",
       "    <tr>\n",
       "      <th>6</th>\n",
       "      <td>3a2a78cc-db21-11ee-a158-97f8443fd730</td>\n",
       "      <td>2023-08-17 15:28:58</td>\n",
       "      <td>2023-08-17 15:29:14</td>\n",
       "      <td>39.330473</td>\n",
       "      <td>-82.128025</td>\n",
       "      <td>568</td>\n",
       "      <td>39.331886</td>\n",
       "      <td>-82.129938</td>\n",
       "      <td>575</td>\n",
       "      <td></td>\n",
       "      <td></td>\n",
       "      <td></td>\n",
       "    </tr>\n",
       "    <tr>\n",
       "      <th>7</th>\n",
       "      <td>3a2a78cc-db21-11ee-a158-97f8443fd730</td>\n",
       "      <td>2023-08-17 15:34:32</td>\n",
       "      <td>2023-08-17 15:34:35</td>\n",
       "      <td>39.375829</td>\n",
       "      <td>-82.134407</td>\n",
       "      <td>777</td>\n",
       "      <td>39.376198</td>\n",
       "      <td>-82.134524</td>\n",
       "      <td>781</td>\n",
       "      <td></td>\n",
       "      <td></td>\n",
       "      <td></td>\n",
       "    </tr>\n",
       "    <tr>\n",
       "      <th>8</th>\n",
       "      <td>3a2a78cc-db21-11ee-a158-97f8443fd730</td>\n",
       "      <td>2023-08-17 15:35:08</td>\n",
       "      <td>2023-08-17 15:35:15</td>\n",
       "      <td>39.378515</td>\n",
       "      <td>-82.135271</td>\n",
       "      <td>806</td>\n",
       "      <td>39.379052</td>\n",
       "      <td>-82.135454</td>\n",
       "      <td>814</td>\n",
       "      <td></td>\n",
       "      <td></td>\n",
       "      <td></td>\n",
       "    </tr>\n",
       "    <tr>\n",
       "      <th>9</th>\n",
       "      <td>3a2a78cc-db21-11ee-a158-97f8443fd730</td>\n",
       "      <td>2023-08-17 15:36:29</td>\n",
       "      <td>2023-08-17 15:36:56</td>\n",
       "      <td>39.385880</td>\n",
       "      <td>-82.138236</td>\n",
       "      <td>875</td>\n",
       "      <td>39.387741</td>\n",
       "      <td>-82.140652</td>\n",
       "      <td>889</td>\n",
       "      <td></td>\n",
       "      <td></td>\n",
       "      <td></td>\n",
       "    </tr>\n",
       "    <tr>\n",
       "      <th>10</th>\n",
       "      <td>3a2a78cc-db21-11ee-a158-97f8443fd730</td>\n",
       "      <td>2023-08-17 15:36:58</td>\n",
       "      <td>2023-08-17 15:37:01</td>\n",
       "      <td>39.387612</td>\n",
       "      <td>-82.140784</td>\n",
       "      <td>892</td>\n",
       "      <td>39.387421</td>\n",
       "      <td>-82.141020</td>\n",
       "      <td>896</td>\n",
       "      <td></td>\n",
       "      <td></td>\n",
       "      <td></td>\n",
       "    </tr>\n",
       "    <tr>\n",
       "      <th>11</th>\n",
       "      <td>3a2a78cc-db21-11ee-a158-97f8443fd730</td>\n",
       "      <td>2023-08-17 15:37:36</td>\n",
       "      <td>2023-08-17 15:37:46</td>\n",
       "      <td>39.385872</td>\n",
       "      <td>-82.143904</td>\n",
       "      <td>912</td>\n",
       "      <td>39.385487</td>\n",
       "      <td>-82.143896</td>\n",
       "      <td>915</td>\n",
       "      <td></td>\n",
       "      <td></td>\n",
       "      <td></td>\n",
       "    </tr>\n",
       "    <tr>\n",
       "      <th>12</th>\n",
       "      <td>3a2a78cc-db21-11ee-a158-97f8443fd730</td>\n",
       "      <td>2023-08-17 15:38:49</td>\n",
       "      <td>2023-08-17 15:38:53</td>\n",
       "      <td>39.378639</td>\n",
       "      <td>-82.143574</td>\n",
       "      <td>949</td>\n",
       "      <td>39.378350</td>\n",
       "      <td>-82.143245</td>\n",
       "      <td>954</td>\n",
       "      <td></td>\n",
       "      <td></td>\n",
       "      <td></td>\n",
       "    </tr>\n",
       "    <tr>\n",
       "      <th>13</th>\n",
       "      <td>3a2a78cc-db21-11ee-a158-97f8443fd730</td>\n",
       "      <td>2023-08-17 15:39:42</td>\n",
       "      <td>2023-08-17 15:40:00</td>\n",
       "      <td>39.376975</td>\n",
       "      <td>-82.142026</td>\n",
       "      <td>978</td>\n",
       "      <td>39.376963</td>\n",
       "      <td>-82.141485</td>\n",
       "      <td>991</td>\n",
       "      <td></td>\n",
       "      <td></td>\n",
       "      <td></td>\n",
       "    </tr>\n",
       "    <tr>\n",
       "      <th>14</th>\n",
       "      <td>3a2a78cc-db21-11ee-a158-97f8443fd730</td>\n",
       "      <td>2023-08-17 15:40:05</td>\n",
       "      <td>2023-08-17 15:40:16</td>\n",
       "      <td>39.376987</td>\n",
       "      <td>-82.141389</td>\n",
       "      <td>992</td>\n",
       "      <td>39.377469</td>\n",
       "      <td>-82.140271</td>\n",
       "      <td>998</td>\n",
       "      <td></td>\n",
       "      <td></td>\n",
       "      <td></td>\n",
       "    </tr>\n",
       "  </tbody>\n",
       "</table>\n",
       "</div>"
      ],
      "text/plain": [
       "                                    gmID          Start Time  \\\n",
       "0   3a2a78cc-db21-11ee-a158-97f8443fd730 2023-08-17 15:16:50   \n",
       "1   3a2a78cc-db21-11ee-a158-97f8443fd730 2023-08-17 15:18:57   \n",
       "2   3a2a78cc-db21-11ee-a158-97f8443fd730 2023-08-17 15:20:52   \n",
       "3   3a2a78cc-db21-11ee-a158-97f8443fd730 2023-08-17 15:23:09   \n",
       "4   3a2a78cc-db21-11ee-a158-97f8443fd730 2023-08-17 15:23:56   \n",
       "5   3a2a78cc-db21-11ee-a158-97f8443fd730 2023-08-17 15:27:26   \n",
       "6   3a2a78cc-db21-11ee-a158-97f8443fd730 2023-08-17 15:28:58   \n",
       "7   3a2a78cc-db21-11ee-a158-97f8443fd730 2023-08-17 15:34:32   \n",
       "8   3a2a78cc-db21-11ee-a158-97f8443fd730 2023-08-17 15:35:08   \n",
       "9   3a2a78cc-db21-11ee-a158-97f8443fd730 2023-08-17 15:36:29   \n",
       "10  3a2a78cc-db21-11ee-a158-97f8443fd730 2023-08-17 15:36:58   \n",
       "11  3a2a78cc-db21-11ee-a158-97f8443fd730 2023-08-17 15:37:36   \n",
       "12  3a2a78cc-db21-11ee-a158-97f8443fd730 2023-08-17 15:38:49   \n",
       "13  3a2a78cc-db21-11ee-a158-97f8443fd730 2023-08-17 15:39:42   \n",
       "14  3a2a78cc-db21-11ee-a158-97f8443fd730 2023-08-17 15:40:05   \n",
       "\n",
       "             Stop Time  Start Lat  Start Long  Start Index   Stop Lat  \\\n",
       "0  2023-08-17 15:17:25  39.320644  -82.107480          137  39.319728   \n",
       "1  2023-08-17 15:19:05  39.326691  -82.102714          226  39.326623   \n",
       "2  2023-08-17 15:22:44  39.327251  -82.101367          289  39.329284   \n",
       "3  2023-08-17 15:23:20  39.327785  -82.102740          372  39.327755   \n",
       "4  2023-08-17 15:24:22  39.328951  -82.104938          398  39.329446   \n",
       "5  2023-08-17 15:27:30  39.330921  -82.125786          500  39.330467   \n",
       "6  2023-08-17 15:29:14  39.330473  -82.128025          568  39.331886   \n",
       "7  2023-08-17 15:34:35  39.375829  -82.134407          777  39.376198   \n",
       "8  2023-08-17 15:35:15  39.378515  -82.135271          806  39.379052   \n",
       "9  2023-08-17 15:36:56  39.385880  -82.138236          875  39.387741   \n",
       "10 2023-08-17 15:37:01  39.387612  -82.140784          892  39.387421   \n",
       "11 2023-08-17 15:37:46  39.385872  -82.143904          912  39.385487   \n",
       "12 2023-08-17 15:38:53  39.378639  -82.143574          949  39.378350   \n",
       "13 2023-08-17 15:40:00  39.376975  -82.142026          978  39.376963   \n",
       "14 2023-08-17 15:40:16  39.376987  -82.141389          992  39.377469   \n",
       "\n",
       "    Stop Long  Stop Index Notes Features Present Image  \n",
       "0  -82.105326         169                               \n",
       "1  -82.101713         236                               \n",
       "2  -82.102271         352                               \n",
       "3  -82.102759         378                               \n",
       "4  -82.107703         413                               \n",
       "5  -82.127142         506                               \n",
       "6  -82.129938         575                               \n",
       "7  -82.134524         781                               \n",
       "8  -82.135454         814                               \n",
       "9  -82.140652         889                               \n",
       "10 -82.141020         896                               \n",
       "11 -82.143896         915                               \n",
       "12 -82.143245         954                               \n",
       "13 -82.141485         991                               \n",
       "14 -82.140271         998                               "
      ]
     },
     "execution_count": 176,
     "metadata": {},
     "output_type": "execute_result"
    }
   ],
   "source": [
    "autoOutput"
   ]
  },
  {
   "cell_type": "code",
   "execution_count": 177,
   "id": "7b9813c2",
   "metadata": {},
   "outputs": [
    {
     "name": "stdout",
     "output_type": "stream",
     "text": [
      "0\n",
      "\n",
      "137 vs 5\n",
      "1099 vs 5\n",
      "\n",
      "1268\n",
      "Start: 132\n",
      "Stop: 174\n"
     ]
    }
   ],
   "source": [
    "i = 0\n",
    "print(i)\n",
    "print()\n",
    "start = autoOutput.iloc[i][\"Start Index\"] - \\\n",
    "    min(autoOutput.iloc[i][\"Start Index\"], 5)\n",
    "stop = autoOutput.iloc[i][\"Stop Index\"] + \\\n",
    "    min(merged_df.shape[0] - autoOutput.iloc[i][\"Stop Index\"], 5)\n",
    "\n",
    "print(autoOutput.iloc[i][\"Start Index\"], \"vs\", 5)\n",
    "print((merged_df.shape[0] - 1) - autoOutput.iloc[i][\"Stop Index\"], \"vs\", 5)\n",
    "\n",
    "print()\n",
    "print(merged_df.shape[0] -1)\n",
    "print(\"Start:\", start)\n",
    "print(\"Stop:\", stop)"
   ]
  },
  {
   "cell_type": "markdown",
   "id": "56c7cd4d-5c68-471d-a473-a37fcbfeac6c",
   "metadata": {},
   "source": [
    "### Mapping\n"
   ]
  },
  {
   "cell_type": "code",
   "execution_count": 178,
   "id": "df7e50d5",
   "metadata": {},
   "outputs": [
    {
     "data": {
      "text/html": [
       "<div>\n",
       "<style scoped>\n",
       "    .dataframe tbody tr th:only-of-type {\n",
       "        vertical-align: middle;\n",
       "    }\n",
       "\n",
       "    .dataframe tbody tr th {\n",
       "        vertical-align: top;\n",
       "    }\n",
       "\n",
       "    .dataframe thead th {\n",
       "        text-align: right;\n",
       "    }\n",
       "</style>\n",
       "<table border=\"1\" class=\"dataframe\">\n",
       "  <thead>\n",
       "    <tr style=\"text-align: right;\">\n",
       "      <th></th>\n",
       "      <th>index</th>\n",
       "      <th>time</th>\n",
       "      <th>drivingMode</th>\n",
       "      <th>transition</th>\n",
       "      <th>transitionType</th>\n",
       "      <th>latitude</th>\n",
       "      <th>longitude</th>\n",
       "    </tr>\n",
       "  </thead>\n",
       "  <tbody>\n",
       "    <tr>\n",
       "      <th>132</th>\n",
       "      <td>4068</td>\n",
       "      <td>2023-08-17 15:16:46</td>\n",
       "      <td>COMPLETE_AUTO_DRIVE</td>\n",
       "      <td>False</td>\n",
       "      <td>NONE</td>\n",
       "      <td>39.321171</td>\n",
       "      <td>-82.108258</td>\n",
       "    </tr>\n",
       "    <tr>\n",
       "      <th>133</th>\n",
       "      <td>4098</td>\n",
       "      <td>2023-08-17 15:16:47</td>\n",
       "      <td>COMPLETE_AUTO_DRIVE</td>\n",
       "      <td>False</td>\n",
       "      <td>NONE</td>\n",
       "      <td>39.321040</td>\n",
       "      <td>-82.108064</td>\n",
       "    </tr>\n",
       "    <tr>\n",
       "      <th>134</th>\n",
       "      <td>4128</td>\n",
       "      <td>2023-08-17 15:16:48</td>\n",
       "      <td>COMPLETE_AUTO_DRIVE</td>\n",
       "      <td>False</td>\n",
       "      <td>NONE</td>\n",
       "      <td>39.320908</td>\n",
       "      <td>-82.107869</td>\n",
       "    </tr>\n",
       "    <tr>\n",
       "      <th>135</th>\n",
       "      <td>4159</td>\n",
       "      <td>2023-08-17 15:16:49</td>\n",
       "      <td>COMPLETE_AUTO_DRIVE</td>\n",
       "      <td>False</td>\n",
       "      <td>NONE</td>\n",
       "      <td>39.320777</td>\n",
       "      <td>-82.107674</td>\n",
       "    </tr>\n",
       "    <tr>\n",
       "      <th>136</th>\n",
       "      <td>4189</td>\n",
       "      <td>2023-08-17 15:16:50</td>\n",
       "      <td>COMPLETE_AUTO_DRIVE</td>\n",
       "      <td>False</td>\n",
       "      <td>NONE</td>\n",
       "      <td>39.320644</td>\n",
       "      <td>-82.107480</td>\n",
       "    </tr>\n",
       "  </tbody>\n",
       "</table>\n",
       "</div>"
      ],
      "text/plain": [
       "     index                time          drivingMode  transition  \\\n",
       "132   4068 2023-08-17 15:16:46  COMPLETE_AUTO_DRIVE       False   \n",
       "133   4098 2023-08-17 15:16:47  COMPLETE_AUTO_DRIVE       False   \n",
       "134   4128 2023-08-17 15:16:48  COMPLETE_AUTO_DRIVE       False   \n",
       "135   4159 2023-08-17 15:16:49  COMPLETE_AUTO_DRIVE       False   \n",
       "136   4189 2023-08-17 15:16:50  COMPLETE_AUTO_DRIVE       False   \n",
       "\n",
       "    transitionType   latitude  longitude  \n",
       "132           NONE  39.321171 -82.108258  \n",
       "133           NONE  39.321040 -82.108064  \n",
       "134           NONE  39.320908 -82.107869  \n",
       "135           NONE  39.320777 -82.107674  \n",
       "136           NONE  39.320644 -82.107480  "
      ]
     },
     "execution_count": 178,
     "metadata": {},
     "output_type": "execute_result"
    }
   ],
   "source": [
    "# first full transition\n",
    "tran = merged_df[start:stop]\n",
    "tran.head()"
   ]
  },
  {
   "cell_type": "code",
   "execution_count": 179,
   "id": "59adfe8a-3bf3-4587-b105-5cbd73893c3d",
   "metadata": {
    "scrolled": true
   },
   "outputs": [
    {
     "name": "stderr",
     "output_type": "stream",
     "text": [
      "/home/vhepola_linux/do-env/lib/python3.10/site-packages/plotly/express/_core.py:2065: FutureWarning:\n",
      "\n",
      "When grouping with a length-1 list-like, you will need to pass a length-1 tuple to get_group in a future version of pandas. Pass `(name,)` instead of `name` to silence this warning.\n",
      "\n"
     ]
    },
    {
     "data": {
      "application/vnd.plotly.v1+json": {
       "config": {
        "plotlyServerURL": "https://plot.ly"
       },
       "data": [
        {
         "customdata": [
          [
           "2023-08-17T15:16:46",
           "COMPLETE_AUTO_DRIVE",
           "NONE"
          ],
          [
           "2023-08-17T15:16:47",
           "COMPLETE_AUTO_DRIVE",
           "NONE"
          ],
          [
           "2023-08-17T15:16:48",
           "COMPLETE_AUTO_DRIVE",
           "NONE"
          ],
          [
           "2023-08-17T15:16:49",
           "COMPLETE_AUTO_DRIVE",
           "NONE"
          ],
          [
           "2023-08-17T15:16:50",
           "COMPLETE_AUTO_DRIVE",
           "NONE"
          ],
          [
           "2023-08-17T15:17:25",
           "COMPLETE_AUTO_DRIVE",
           "M->A"
          ],
          [
           "2023-08-17T15:17:26",
           "COMPLETE_AUTO_DRIVE",
           "NONE"
          ],
          [
           "2023-08-17T15:17:27",
           "COMPLETE_AUTO_DRIVE",
           "NONE"
          ],
          [
           "2023-08-17T15:17:28",
           "COMPLETE_AUTO_DRIVE",
           "NONE"
          ],
          [
           "2023-08-17T15:17:29",
           "COMPLETE_AUTO_DRIVE",
           "NONE"
          ]
         ],
         "hovertemplate": "drivingMode=%{customdata[1]}<br>latitude=%{lat}<br>longitude=%{lon}<br>time=%{customdata[0]}<br>transitionType=%{customdata[2]}<extra></extra>",
         "lat": [
          39.32117080670987,
          39.32103974988423,
          39.32090823700556,
          39.3207768355927,
          39.32064429810596,
          39.31972779944398,
          39.319827022700544,
          39.31992323273762,
          39.32001989749179,
          39.32011745414408
         ],
         "legendgroup": "COMPLETE_AUTO_DRIVE",
         "lon": [
          -82.1082584723976,
          -82.10806384875364,
          -82.10786912494558,
          -82.10767403560075,
          -82.10748029121298,
          -82.10532571271145,
          -82.1052921718294,
          -82.10525775609788,
          -82.10522570025299,
          -82.10519554903746
         ],
         "marker": {
          "color": "#63ACBE",
          "size": 8
         },
         "mode": "markers",
         "name": "COMPLETE_AUTO_DRIVE",
         "showlegend": true,
         "subplot": "mapbox",
         "type": "scattermapbox"
        },
        {
         "customdata": [
          [
           "2023-08-17T15:16:50",
           "EMERGENCY_MODE",
           "A->M"
          ],
          [
           "2023-08-17T15:16:51",
           "EMERGENCY_MODE",
           "NONE"
          ],
          [
           "2023-08-17T15:16:52",
           "EMERGENCY_MODE",
           "NONE"
          ],
          [
           "2023-08-17T15:16:53",
           "EMERGENCY_MODE",
           "NONE"
          ],
          [
           "2023-08-17T15:16:54",
           "EMERGENCY_MODE",
           "NONE"
          ],
          [
           "2023-08-17T15:16:55",
           "EMERGENCY_MODE",
           "NONE"
          ],
          [
           "2023-08-17T15:16:56",
           "EMERGENCY_MODE",
           "NONE"
          ],
          [
           "2023-08-17T15:16:57",
           "EMERGENCY_MODE",
           "NONE"
          ],
          [
           "2023-08-17T15:16:58",
           "EMERGENCY_MODE",
           "NONE"
          ],
          [
           "2023-08-17T15:16:59",
           "EMERGENCY_MODE",
           "NONE"
          ],
          [
           "2023-08-17T15:17:04",
           "EMERGENCY_MODE",
           "NONE"
          ],
          [
           "2023-08-17T15:17:05",
           "EMERGENCY_MODE",
           "NONE"
          ],
          [
           "2023-08-17T15:17:06",
           "EMERGENCY_MODE",
           "NONE"
          ],
          [
           "2023-08-17T15:17:07",
           "EMERGENCY_MODE",
           "NONE"
          ],
          [
           "2023-08-17T15:17:08",
           "EMERGENCY_MODE",
           "NONE"
          ],
          [
           "2023-08-17T15:17:09",
           "EMERGENCY_MODE",
           "NONE"
          ],
          [
           "2023-08-17T15:17:10",
           "EMERGENCY_MODE",
           "NONE"
          ],
          [
           "2023-08-17T15:17:11",
           "EMERGENCY_MODE",
           "NONE"
          ],
          [
           "2023-08-17T15:17:12",
           "EMERGENCY_MODE",
           "NONE"
          ],
          [
           "2023-08-17T15:17:13",
           "EMERGENCY_MODE",
           "NONE"
          ],
          [
           "2023-08-17T15:17:14",
           "EMERGENCY_MODE",
           "NONE"
          ],
          [
           "2023-08-17T15:17:15",
           "EMERGENCY_MODE",
           "NONE"
          ],
          [
           "2023-08-17T15:17:16",
           "EMERGENCY_MODE",
           "NONE"
          ],
          [
           "2023-08-17T15:17:17",
           "EMERGENCY_MODE",
           "NONE"
          ],
          [
           "2023-08-17T15:17:18",
           "EMERGENCY_MODE",
           "NONE"
          ],
          [
           "2023-08-17T15:17:19",
           "EMERGENCY_MODE",
           "NONE"
          ],
          [
           "2023-08-17T15:17:20",
           "EMERGENCY_MODE",
           "NONE"
          ],
          [
           "2023-08-17T15:17:21",
           "EMERGENCY_MODE",
           "NONE"
          ],
          [
           "2023-08-17T15:17:22",
           "EMERGENCY_MODE",
           "NONE"
          ],
          [
           "2023-08-17T15:17:23",
           "EMERGENCY_MODE",
           "NONE"
          ],
          [
           "2023-08-17T15:17:24",
           "EMERGENCY_MODE",
           "NONE"
          ],
          [
           "2023-08-17T15:17:25",
           "EMERGENCY_MODE",
           "NONE"
          ]
         ],
         "hovertemplate": "drivingMode=%{customdata[1]}<br>latitude=%{lat}<br>longitude=%{lon}<br>time=%{customdata[0]}<br>transitionType=%{customdata[2]}<extra></extra>",
         "lat": [
          39.32064429810596,
          39.32051003973372,
          39.32037695221627,
          39.32025028620738,
          39.32013177620174,
          39.320020260943934,
          39.31991604877211,
          39.31981730523423,
          39.31972435308958,
          39.31964032465205,
          39.31956879832817,
          39.31932841494417,
          39.31930442709414,
          39.31929278849378,
          39.31928718409498,
          39.319280369368414,
          39.31926104803761,
          39.31921925415119,
          39.319159140889326,
          39.319096964866894,
          39.31904489323501,
          39.319012813891504,
          39.319008395965945,
          39.31903515075402,
          39.31909001041202,
          39.31916372440634,
          39.31924717347588,
          39.3193368605992,
          39.31943082038491,
          39.31952832657462,
          39.31962709137805,
          39.31972779944398
         ],
         "legendgroup": "EMERGENCY_MODE",
         "lon": [
          -82.10748029121298,
          -82.10728932467372,
          -82.10710494729965,
          -82.10693584821065,
          -82.10678443491629,
          -82.1066518060091,
          -82.10653709759626,
          -82.10643486304852,
          -82.10633986813625,
          -82.10624500521881,
          -82.10615657352888,
          -82.10582352153543,
          -82.10579973595779,
          -82.10578956838302,
          -82.10578481422708,
          -82.10577930672828,
          -82.10576533548567,
          -82.10574060428789,
          -82.10571124495875,
          -82.10567416244581,
          -82.10561777438403,
          -82.1055425203704,
          -82.10545460954835,
          -82.10537326257165,
          -82.10531438137373,
          -82.10529499421186,
          -82.10531676930763,
          -82.10535220312777,
          -82.10537718051754,
          -82.105380470828,
          -82.10535857272208,
          -82.10532571271145
         ],
         "marker": {
          "color": "#EE442F",
          "size": 8
         },
         "mode": "markers",
         "name": "EMERGENCY_MODE",
         "showlegend": true,
         "subplot": "mapbox",
         "type": "scattermapbox"
        }
       ],
       "layout": {
        "height": 700,
        "legend": {
         "title": {
          "text": "drivingMode"
         },
         "tracegroupgap": 0
        },
        "mapbox": {
         "center": {
          "lat": 39.31974377213723,
          "lon": -82.10609951115178
         },
         "domain": {
          "x": [
           0,
           1
          ],
          "y": [
           0,
           1
          ]
         },
         "style": "open-street-map",
         "zoom": 17
        },
        "margin": {
         "b": 0,
         "l": 0,
         "r": 0,
         "t": 0
        },
        "template": {
         "data": {
          "bar": [
           {
            "error_x": {
             "color": "#2a3f5f"
            },
            "error_y": {
             "color": "#2a3f5f"
            },
            "marker": {
             "line": {
              "color": "#E5ECF6",
              "width": 0.5
             },
             "pattern": {
              "fillmode": "overlay",
              "size": 10,
              "solidity": 0.2
             }
            },
            "type": "bar"
           }
          ],
          "barpolar": [
           {
            "marker": {
             "line": {
              "color": "#E5ECF6",
              "width": 0.5
             },
             "pattern": {
              "fillmode": "overlay",
              "size": 10,
              "solidity": 0.2
             }
            },
            "type": "barpolar"
           }
          ],
          "carpet": [
           {
            "aaxis": {
             "endlinecolor": "#2a3f5f",
             "gridcolor": "white",
             "linecolor": "white",
             "minorgridcolor": "white",
             "startlinecolor": "#2a3f5f"
            },
            "baxis": {
             "endlinecolor": "#2a3f5f",
             "gridcolor": "white",
             "linecolor": "white",
             "minorgridcolor": "white",
             "startlinecolor": "#2a3f5f"
            },
            "type": "carpet"
           }
          ],
          "choropleth": [
           {
            "colorbar": {
             "outlinewidth": 0,
             "ticks": ""
            },
            "type": "choropleth"
           }
          ],
          "contour": [
           {
            "colorbar": {
             "outlinewidth": 0,
             "ticks": ""
            },
            "colorscale": [
             [
              0,
              "#0d0887"
             ],
             [
              0.1111111111111111,
              "#46039f"
             ],
             [
              0.2222222222222222,
              "#7201a8"
             ],
             [
              0.3333333333333333,
              "#9c179e"
             ],
             [
              0.4444444444444444,
              "#bd3786"
             ],
             [
              0.5555555555555556,
              "#d8576b"
             ],
             [
              0.6666666666666666,
              "#ed7953"
             ],
             [
              0.7777777777777778,
              "#fb9f3a"
             ],
             [
              0.8888888888888888,
              "#fdca26"
             ],
             [
              1,
              "#f0f921"
             ]
            ],
            "type": "contour"
           }
          ],
          "contourcarpet": [
           {
            "colorbar": {
             "outlinewidth": 0,
             "ticks": ""
            },
            "type": "contourcarpet"
           }
          ],
          "heatmap": [
           {
            "colorbar": {
             "outlinewidth": 0,
             "ticks": ""
            },
            "colorscale": [
             [
              0,
              "#0d0887"
             ],
             [
              0.1111111111111111,
              "#46039f"
             ],
             [
              0.2222222222222222,
              "#7201a8"
             ],
             [
              0.3333333333333333,
              "#9c179e"
             ],
             [
              0.4444444444444444,
              "#bd3786"
             ],
             [
              0.5555555555555556,
              "#d8576b"
             ],
             [
              0.6666666666666666,
              "#ed7953"
             ],
             [
              0.7777777777777778,
              "#fb9f3a"
             ],
             [
              0.8888888888888888,
              "#fdca26"
             ],
             [
              1,
              "#f0f921"
             ]
            ],
            "type": "heatmap"
           }
          ],
          "heatmapgl": [
           {
            "colorbar": {
             "outlinewidth": 0,
             "ticks": ""
            },
            "colorscale": [
             [
              0,
              "#0d0887"
             ],
             [
              0.1111111111111111,
              "#46039f"
             ],
             [
              0.2222222222222222,
              "#7201a8"
             ],
             [
              0.3333333333333333,
              "#9c179e"
             ],
             [
              0.4444444444444444,
              "#bd3786"
             ],
             [
              0.5555555555555556,
              "#d8576b"
             ],
             [
              0.6666666666666666,
              "#ed7953"
             ],
             [
              0.7777777777777778,
              "#fb9f3a"
             ],
             [
              0.8888888888888888,
              "#fdca26"
             ],
             [
              1,
              "#f0f921"
             ]
            ],
            "type": "heatmapgl"
           }
          ],
          "histogram": [
           {
            "marker": {
             "pattern": {
              "fillmode": "overlay",
              "size": 10,
              "solidity": 0.2
             }
            },
            "type": "histogram"
           }
          ],
          "histogram2d": [
           {
            "colorbar": {
             "outlinewidth": 0,
             "ticks": ""
            },
            "colorscale": [
             [
              0,
              "#0d0887"
             ],
             [
              0.1111111111111111,
              "#46039f"
             ],
             [
              0.2222222222222222,
              "#7201a8"
             ],
             [
              0.3333333333333333,
              "#9c179e"
             ],
             [
              0.4444444444444444,
              "#bd3786"
             ],
             [
              0.5555555555555556,
              "#d8576b"
             ],
             [
              0.6666666666666666,
              "#ed7953"
             ],
             [
              0.7777777777777778,
              "#fb9f3a"
             ],
             [
              0.8888888888888888,
              "#fdca26"
             ],
             [
              1,
              "#f0f921"
             ]
            ],
            "type": "histogram2d"
           }
          ],
          "histogram2dcontour": [
           {
            "colorbar": {
             "outlinewidth": 0,
             "ticks": ""
            },
            "colorscale": [
             [
              0,
              "#0d0887"
             ],
             [
              0.1111111111111111,
              "#46039f"
             ],
             [
              0.2222222222222222,
              "#7201a8"
             ],
             [
              0.3333333333333333,
              "#9c179e"
             ],
             [
              0.4444444444444444,
              "#bd3786"
             ],
             [
              0.5555555555555556,
              "#d8576b"
             ],
             [
              0.6666666666666666,
              "#ed7953"
             ],
             [
              0.7777777777777778,
              "#fb9f3a"
             ],
             [
              0.8888888888888888,
              "#fdca26"
             ],
             [
              1,
              "#f0f921"
             ]
            ],
            "type": "histogram2dcontour"
           }
          ],
          "mesh3d": [
           {
            "colorbar": {
             "outlinewidth": 0,
             "ticks": ""
            },
            "type": "mesh3d"
           }
          ],
          "parcoords": [
           {
            "line": {
             "colorbar": {
              "outlinewidth": 0,
              "ticks": ""
             }
            },
            "type": "parcoords"
           }
          ],
          "pie": [
           {
            "automargin": true,
            "type": "pie"
           }
          ],
          "scatter": [
           {
            "fillpattern": {
             "fillmode": "overlay",
             "size": 10,
             "solidity": 0.2
            },
            "type": "scatter"
           }
          ],
          "scatter3d": [
           {
            "line": {
             "colorbar": {
              "outlinewidth": 0,
              "ticks": ""
             }
            },
            "marker": {
             "colorbar": {
              "outlinewidth": 0,
              "ticks": ""
             }
            },
            "type": "scatter3d"
           }
          ],
          "scattercarpet": [
           {
            "marker": {
             "colorbar": {
              "outlinewidth": 0,
              "ticks": ""
             }
            },
            "type": "scattercarpet"
           }
          ],
          "scattergeo": [
           {
            "marker": {
             "colorbar": {
              "outlinewidth": 0,
              "ticks": ""
             }
            },
            "type": "scattergeo"
           }
          ],
          "scattergl": [
           {
            "marker": {
             "colorbar": {
              "outlinewidth": 0,
              "ticks": ""
             }
            },
            "type": "scattergl"
           }
          ],
          "scattermapbox": [
           {
            "marker": {
             "colorbar": {
              "outlinewidth": 0,
              "ticks": ""
             }
            },
            "type": "scattermapbox"
           }
          ],
          "scatterpolar": [
           {
            "marker": {
             "colorbar": {
              "outlinewidth": 0,
              "ticks": ""
             }
            },
            "type": "scatterpolar"
           }
          ],
          "scatterpolargl": [
           {
            "marker": {
             "colorbar": {
              "outlinewidth": 0,
              "ticks": ""
             }
            },
            "type": "scatterpolargl"
           }
          ],
          "scatterternary": [
           {
            "marker": {
             "colorbar": {
              "outlinewidth": 0,
              "ticks": ""
             }
            },
            "type": "scatterternary"
           }
          ],
          "surface": [
           {
            "colorbar": {
             "outlinewidth": 0,
             "ticks": ""
            },
            "colorscale": [
             [
              0,
              "#0d0887"
             ],
             [
              0.1111111111111111,
              "#46039f"
             ],
             [
              0.2222222222222222,
              "#7201a8"
             ],
             [
              0.3333333333333333,
              "#9c179e"
             ],
             [
              0.4444444444444444,
              "#bd3786"
             ],
             [
              0.5555555555555556,
              "#d8576b"
             ],
             [
              0.6666666666666666,
              "#ed7953"
             ],
             [
              0.7777777777777778,
              "#fb9f3a"
             ],
             [
              0.8888888888888888,
              "#fdca26"
             ],
             [
              1,
              "#f0f921"
             ]
            ],
            "type": "surface"
           }
          ],
          "table": [
           {
            "cells": {
             "fill": {
              "color": "#EBF0F8"
             },
             "line": {
              "color": "white"
             }
            },
            "header": {
             "fill": {
              "color": "#C8D4E3"
             },
             "line": {
              "color": "white"
             }
            },
            "type": "table"
           }
          ]
         },
         "layout": {
          "annotationdefaults": {
           "arrowcolor": "#2a3f5f",
           "arrowhead": 0,
           "arrowwidth": 1
          },
          "autotypenumbers": "strict",
          "coloraxis": {
           "colorbar": {
            "outlinewidth": 0,
            "ticks": ""
           }
          },
          "colorscale": {
           "diverging": [
            [
             0,
             "#8e0152"
            ],
            [
             0.1,
             "#c51b7d"
            ],
            [
             0.2,
             "#de77ae"
            ],
            [
             0.3,
             "#f1b6da"
            ],
            [
             0.4,
             "#fde0ef"
            ],
            [
             0.5,
             "#f7f7f7"
            ],
            [
             0.6,
             "#e6f5d0"
            ],
            [
             0.7,
             "#b8e186"
            ],
            [
             0.8,
             "#7fbc41"
            ],
            [
             0.9,
             "#4d9221"
            ],
            [
             1,
             "#276419"
            ]
           ],
           "sequential": [
            [
             0,
             "#0d0887"
            ],
            [
             0.1111111111111111,
             "#46039f"
            ],
            [
             0.2222222222222222,
             "#7201a8"
            ],
            [
             0.3333333333333333,
             "#9c179e"
            ],
            [
             0.4444444444444444,
             "#bd3786"
            ],
            [
             0.5555555555555556,
             "#d8576b"
            ],
            [
             0.6666666666666666,
             "#ed7953"
            ],
            [
             0.7777777777777778,
             "#fb9f3a"
            ],
            [
             0.8888888888888888,
             "#fdca26"
            ],
            [
             1,
             "#f0f921"
            ]
           ],
           "sequentialminus": [
            [
             0,
             "#0d0887"
            ],
            [
             0.1111111111111111,
             "#46039f"
            ],
            [
             0.2222222222222222,
             "#7201a8"
            ],
            [
             0.3333333333333333,
             "#9c179e"
            ],
            [
             0.4444444444444444,
             "#bd3786"
            ],
            [
             0.5555555555555556,
             "#d8576b"
            ],
            [
             0.6666666666666666,
             "#ed7953"
            ],
            [
             0.7777777777777778,
             "#fb9f3a"
            ],
            [
             0.8888888888888888,
             "#fdca26"
            ],
            [
             1,
             "#f0f921"
            ]
           ]
          },
          "colorway": [
           "#636efa",
           "#EF553B",
           "#00cc96",
           "#ab63fa",
           "#FFA15A",
           "#19d3f3",
           "#FF6692",
           "#B6E880",
           "#FF97FF",
           "#FECB52"
          ],
          "font": {
           "color": "#2a3f5f"
          },
          "geo": {
           "bgcolor": "white",
           "lakecolor": "white",
           "landcolor": "#E5ECF6",
           "showlakes": true,
           "showland": true,
           "subunitcolor": "white"
          },
          "hoverlabel": {
           "align": "left"
          },
          "hovermode": "closest",
          "mapbox": {
           "style": "light"
          },
          "paper_bgcolor": "white",
          "plot_bgcolor": "#E5ECF6",
          "polar": {
           "angularaxis": {
            "gridcolor": "white",
            "linecolor": "white",
            "ticks": ""
           },
           "bgcolor": "#E5ECF6",
           "radialaxis": {
            "gridcolor": "white",
            "linecolor": "white",
            "ticks": ""
           }
          },
          "scene": {
           "xaxis": {
            "backgroundcolor": "#E5ECF6",
            "gridcolor": "white",
            "gridwidth": 2,
            "linecolor": "white",
            "showbackground": true,
            "ticks": "",
            "zerolinecolor": "white"
           },
           "yaxis": {
            "backgroundcolor": "#E5ECF6",
            "gridcolor": "white",
            "gridwidth": 2,
            "linecolor": "white",
            "showbackground": true,
            "ticks": "",
            "zerolinecolor": "white"
           },
           "zaxis": {
            "backgroundcolor": "#E5ECF6",
            "gridcolor": "white",
            "gridwidth": 2,
            "linecolor": "white",
            "showbackground": true,
            "ticks": "",
            "zerolinecolor": "white"
           }
          },
          "shapedefaults": {
           "line": {
            "color": "#2a3f5f"
           }
          },
          "ternary": {
           "aaxis": {
            "gridcolor": "white",
            "linecolor": "white",
            "ticks": ""
           },
           "baxis": {
            "gridcolor": "white",
            "linecolor": "white",
            "ticks": ""
           },
           "bgcolor": "#E5ECF6",
           "caxis": {
            "gridcolor": "white",
            "linecolor": "white",
            "ticks": ""
           }
          },
          "title": {
           "x": 0.05
          },
          "xaxis": {
           "automargin": true,
           "gridcolor": "white",
           "linecolor": "white",
           "ticks": "",
           "title": {
            "standoff": 15
           },
           "zerolinecolor": "white",
           "zerolinewidth": 2
          },
          "yaxis": {
           "automargin": true,
           "gridcolor": "white",
           "linecolor": "white",
           "ticks": "",
           "title": {
            "standoff": 15
           },
           "zerolinecolor": "white",
           "zerolinewidth": 2
          }
         }
        },
        "width": 1000
       }
      }
     },
     "metadata": {},
     "output_type": "display_data"
    }
   ],
   "source": [
    "# Show the first transition\n",
    "fig = px.scatter_mapbox(tran, lat=\"latitude\", lon=\"longitude\",\n",
    "                        hover_data=[\"time\", \"drivingMode\", \"transitionType\"], color=\"drivingMode\", zoom=17, height=700, width=1000,\n",
    "                        color_discrete_map={\n",
    "                            \"COMPLETE_MANUAL\": \"#601A4A\",\n",
    "                            \"COMPLETE_AUTO_DRIVE\": \"#63ACBE\",\n",
    "                            \"EMERGENCY_MODE\": \"#EE442F\",\n",
    "                        }\n",
    "                        )\n",
    "\n",
    "fig.update_traces(marker=dict(size=8))\n",
    "\n",
    "# Layout settings\n",
    "fig.update_layout(\n",
    "    mapbox_style=\"open-street-map\",\n",
    "    margin={\"r\": 0, \"t\": 0, \"l\": 0, \"b\": 0},\n",
    ")\n",
    "\n",
    "\n",
    "# Display the map\n",
    "# fig.show()"
   ]
  },
  {
   "cell_type": "code",
   "execution_count": 180,
   "id": "0bae4397",
   "metadata": {},
   "outputs": [
    {
     "name": "stdout",
     "output_type": "stream",
     "text": [
      "Start: 132 Stop: 174\n"
     ]
    },
    {
     "name": "stderr",
     "output_type": "stream",
     "text": [
      "/home/vhepola_linux/do-env/lib/python3.10/site-packages/plotly/express/_core.py:2065: FutureWarning:\n",
      "\n",
      "When grouping with a length-1 list-like, you will need to pass a length-1 tuple to get_group in a future version of pandas. Pass `(name,)` instead of `name` to silence this warning.\n",
      "\n"
     ]
    },
    {
     "name": "stdout",
     "output_type": "stream",
     "text": [
      "Start: 221 Stop: 241\n"
     ]
    },
    {
     "name": "stderr",
     "output_type": "stream",
     "text": [
      "/home/vhepola_linux/do-env/lib/python3.10/site-packages/plotly/express/_core.py:2065: FutureWarning:\n",
      "\n",
      "When grouping with a length-1 list-like, you will need to pass a length-1 tuple to get_group in a future version of pandas. Pass `(name,)` instead of `name` to silence this warning.\n",
      "\n"
     ]
    },
    {
     "name": "stdout",
     "output_type": "stream",
     "text": [
      "Start: 284 Stop: 357\n"
     ]
    },
    {
     "name": "stderr",
     "output_type": "stream",
     "text": [
      "/home/vhepola_linux/do-env/lib/python3.10/site-packages/plotly/express/_core.py:2065: FutureWarning:\n",
      "\n",
      "When grouping with a length-1 list-like, you will need to pass a length-1 tuple to get_group in a future version of pandas. Pass `(name,)` instead of `name` to silence this warning.\n",
      "\n"
     ]
    },
    {
     "name": "stdout",
     "output_type": "stream",
     "text": [
      "Start: 367 Stop: 383\n"
     ]
    },
    {
     "name": "stderr",
     "output_type": "stream",
     "text": [
      "/home/vhepola_linux/do-env/lib/python3.10/site-packages/plotly/express/_core.py:2065: FutureWarning:\n",
      "\n",
      "When grouping with a length-1 list-like, you will need to pass a length-1 tuple to get_group in a future version of pandas. Pass `(name,)` instead of `name` to silence this warning.\n",
      "\n"
     ]
    },
    {
     "name": "stdout",
     "output_type": "stream",
     "text": [
      "Start: 393 Stop: 418\n"
     ]
    },
    {
     "name": "stderr",
     "output_type": "stream",
     "text": [
      "/home/vhepola_linux/do-env/lib/python3.10/site-packages/plotly/express/_core.py:2065: FutureWarning:\n",
      "\n",
      "When grouping with a length-1 list-like, you will need to pass a length-1 tuple to get_group in a future version of pandas. Pass `(name,)` instead of `name` to silence this warning.\n",
      "\n"
     ]
    },
    {
     "name": "stdout",
     "output_type": "stream",
     "text": [
      "Start: 495 Stop: 511\n"
     ]
    },
    {
     "name": "stderr",
     "output_type": "stream",
     "text": [
      "/home/vhepola_linux/do-env/lib/python3.10/site-packages/plotly/express/_core.py:2065: FutureWarning:\n",
      "\n",
      "When grouping with a length-1 list-like, you will need to pass a length-1 tuple to get_group in a future version of pandas. Pass `(name,)` instead of `name` to silence this warning.\n",
      "\n"
     ]
    },
    {
     "name": "stdout",
     "output_type": "stream",
     "text": [
      "Start: 563 Stop: 580\n"
     ]
    },
    {
     "name": "stderr",
     "output_type": "stream",
     "text": [
      "/home/vhepola_linux/do-env/lib/python3.10/site-packages/plotly/express/_core.py:2065: FutureWarning:\n",
      "\n",
      "When grouping with a length-1 list-like, you will need to pass a length-1 tuple to get_group in a future version of pandas. Pass `(name,)` instead of `name` to silence this warning.\n",
      "\n"
     ]
    },
    {
     "name": "stdout",
     "output_type": "stream",
     "text": [
      "Start: 772 Stop: 786\n"
     ]
    },
    {
     "name": "stderr",
     "output_type": "stream",
     "text": [
      "/home/vhepola_linux/do-env/lib/python3.10/site-packages/plotly/express/_core.py:2065: FutureWarning:\n",
      "\n",
      "When grouping with a length-1 list-like, you will need to pass a length-1 tuple to get_group in a future version of pandas. Pass `(name,)` instead of `name` to silence this warning.\n",
      "\n"
     ]
    },
    {
     "name": "stdout",
     "output_type": "stream",
     "text": [
      "Start: 801 Stop: 819\n"
     ]
    },
    {
     "name": "stderr",
     "output_type": "stream",
     "text": [
      "/home/vhepola_linux/do-env/lib/python3.10/site-packages/plotly/express/_core.py:2065: FutureWarning:\n",
      "\n",
      "When grouping with a length-1 list-like, you will need to pass a length-1 tuple to get_group in a future version of pandas. Pass `(name,)` instead of `name` to silence this warning.\n",
      "\n"
     ]
    },
    {
     "name": "stdout",
     "output_type": "stream",
     "text": [
      "Start: 870 Stop: 894\n"
     ]
    },
    {
     "name": "stderr",
     "output_type": "stream",
     "text": [
      "/home/vhepola_linux/do-env/lib/python3.10/site-packages/plotly/express/_core.py:2065: FutureWarning:\n",
      "\n",
      "When grouping with a length-1 list-like, you will need to pass a length-1 tuple to get_group in a future version of pandas. Pass `(name,)` instead of `name` to silence this warning.\n",
      "\n"
     ]
    },
    {
     "name": "stdout",
     "output_type": "stream",
     "text": [
      "Start: 887 Stop: 901\n"
     ]
    },
    {
     "name": "stderr",
     "output_type": "stream",
     "text": [
      "/home/vhepola_linux/do-env/lib/python3.10/site-packages/plotly/express/_core.py:2065: FutureWarning:\n",
      "\n",
      "When grouping with a length-1 list-like, you will need to pass a length-1 tuple to get_group in a future version of pandas. Pass `(name,)` instead of `name` to silence this warning.\n",
      "\n"
     ]
    },
    {
     "name": "stdout",
     "output_type": "stream",
     "text": [
      "Start: 907 Stop: 920\n"
     ]
    },
    {
     "name": "stderr",
     "output_type": "stream",
     "text": [
      "/home/vhepola_linux/do-env/lib/python3.10/site-packages/plotly/express/_core.py:2065: FutureWarning:\n",
      "\n",
      "When grouping with a length-1 list-like, you will need to pass a length-1 tuple to get_group in a future version of pandas. Pass `(name,)` instead of `name` to silence this warning.\n",
      "\n"
     ]
    },
    {
     "name": "stdout",
     "output_type": "stream",
     "text": [
      "Start: 944 Stop: 959\n"
     ]
    },
    {
     "name": "stderr",
     "output_type": "stream",
     "text": [
      "/home/vhepola_linux/do-env/lib/python3.10/site-packages/plotly/express/_core.py:2065: FutureWarning:\n",
      "\n",
      "When grouping with a length-1 list-like, you will need to pass a length-1 tuple to get_group in a future version of pandas. Pass `(name,)` instead of `name` to silence this warning.\n",
      "\n"
     ]
    },
    {
     "name": "stdout",
     "output_type": "stream",
     "text": [
      "Start: 973 Stop: 996\n"
     ]
    },
    {
     "name": "stderr",
     "output_type": "stream",
     "text": [
      "/home/vhepola_linux/do-env/lib/python3.10/site-packages/plotly/express/_core.py:2065: FutureWarning:\n",
      "\n",
      "When grouping with a length-1 list-like, you will need to pass a length-1 tuple to get_group in a future version of pandas. Pass `(name,)` instead of `name` to silence this warning.\n",
      "\n"
     ]
    },
    {
     "name": "stdout",
     "output_type": "stream",
     "text": [
      "Start: 987 Stop: 1003\n"
     ]
    },
    {
     "name": "stderr",
     "output_type": "stream",
     "text": [
      "/home/vhepola_linux/do-env/lib/python3.10/site-packages/plotly/express/_core.py:2065: FutureWarning:\n",
      "\n",
      "When grouping with a length-1 list-like, you will need to pass a length-1 tuple to get_group in a future version of pandas. Pass `(name,)` instead of `name` to silence this warning.\n",
      "\n"
     ]
    }
   ],
   "source": [
    "if not os.path.exists(f\"./images/{gmID}\"):\n",
    "    os.makedirs(f\"./images/{gmID}\")\n",
    "\n",
    "links = []\n",
    "for index, row in autoOutput.iterrows():\n",
    "    start = autoOutput.iloc[index][\"Start Index\"] - \\\n",
    "        min(autoOutput.iloc[index][\"Start Index\"], 5)\n",
    "\n",
    "    stop = autoOutput.iloc[index][\"Stop Index\"] + \\\n",
    "        min(merged_df.shape[0] - 1 - autoOutput.iloc[index][\"Stop Index\"], 5)\n",
    "\n",
    "    print(\"Start:\", start, \"Stop:\", stop)\n",
    "    temp_tran = merged_df[start:stop]\n",
    "\n",
    "    fig = px.scatter_mapbox(temp_tran, lat=\"latitude\", lon=\"longitude\",\n",
    "                            hover_data=[\"time\", \"drivingMode\", \"transitionType\"], color=\"drivingMode\", zoom=17, height=700, width=1000,\n",
    "                            color_discrete_map={\n",
    "                                \"COMPLETE_MANUAL\": \"#601A4A\",\n",
    "                                \"COMPLETE_AUTO_DRIVE\": \"#63ACBE\",\n",
    "                                \"EMERGENCY_MODE\": \"#EE442F\",\n",
    "                            }\n",
    "                            )\n",
    "\n",
    "    # Layout settings\n",
    "    fig.update_layout(\n",
    "        mapbox_style=\"open-street-map\",\n",
    "        margin={\"r\": 0, \"t\": 0, \"l\": 0, \"b\": 0},\n",
    "    )\n",
    "\n",
    "    fig.update_traces(marker=dict(size=8))\n",
    "\n",
    "    name = f\"./images/{gmID}/tran_{index}.jpeg\"\n",
    "    links.append(name)\n",
    "\n",
    "    fig.write_image(name, engine=\"kaleido\")"
   ]
  },
  {
   "cell_type": "code",
   "execution_count": 181,
   "id": "658e1072",
   "metadata": {},
   "outputs": [
    {
     "data": {
      "text/html": [
       "<div>\n",
       "<style scoped>\n",
       "    .dataframe tbody tr th:only-of-type {\n",
       "        vertical-align: middle;\n",
       "    }\n",
       "\n",
       "    .dataframe tbody tr th {\n",
       "        vertical-align: top;\n",
       "    }\n",
       "\n",
       "    .dataframe thead th {\n",
       "        text-align: right;\n",
       "    }\n",
       "</style>\n",
       "<table border=\"1\" class=\"dataframe\">\n",
       "  <thead>\n",
       "    <tr style=\"text-align: right;\">\n",
       "      <th></th>\n",
       "      <th>gmID</th>\n",
       "      <th>Start Time</th>\n",
       "      <th>Stop Time</th>\n",
       "      <th>Start Lat</th>\n",
       "      <th>Start Long</th>\n",
       "      <th>Start Index</th>\n",
       "      <th>Stop Lat</th>\n",
       "      <th>Stop Long</th>\n",
       "      <th>Stop Index</th>\n",
       "      <th>Notes</th>\n",
       "      <th>Features Present</th>\n",
       "      <th>Image</th>\n",
       "    </tr>\n",
       "  </thead>\n",
       "  <tbody>\n",
       "    <tr>\n",
       "      <th>0</th>\n",
       "      <td>3a2a78cc-db21-11ee-a158-97f8443fd730</td>\n",
       "      <td>2023-08-17 15:16:50</td>\n",
       "      <td>2023-08-17 15:17:25</td>\n",
       "      <td>39.320644</td>\n",
       "      <td>-82.107480</td>\n",
       "      <td>137</td>\n",
       "      <td>39.319728</td>\n",
       "      <td>-82.105326</td>\n",
       "      <td>169</td>\n",
       "      <td></td>\n",
       "      <td></td>\n",
       "      <td></td>\n",
       "    </tr>\n",
       "    <tr>\n",
       "      <th>1</th>\n",
       "      <td>3a2a78cc-db21-11ee-a158-97f8443fd730</td>\n",
       "      <td>2023-08-17 15:18:57</td>\n",
       "      <td>2023-08-17 15:19:05</td>\n",
       "      <td>39.326691</td>\n",
       "      <td>-82.102714</td>\n",
       "      <td>226</td>\n",
       "      <td>39.326623</td>\n",
       "      <td>-82.101713</td>\n",
       "      <td>236</td>\n",
       "      <td></td>\n",
       "      <td></td>\n",
       "      <td></td>\n",
       "    </tr>\n",
       "    <tr>\n",
       "      <th>2</th>\n",
       "      <td>3a2a78cc-db21-11ee-a158-97f8443fd730</td>\n",
       "      <td>2023-08-17 15:20:52</td>\n",
       "      <td>2023-08-17 15:22:44</td>\n",
       "      <td>39.327251</td>\n",
       "      <td>-82.101367</td>\n",
       "      <td>289</td>\n",
       "      <td>39.329284</td>\n",
       "      <td>-82.102271</td>\n",
       "      <td>352</td>\n",
       "      <td></td>\n",
       "      <td></td>\n",
       "      <td></td>\n",
       "    </tr>\n",
       "    <tr>\n",
       "      <th>3</th>\n",
       "      <td>3a2a78cc-db21-11ee-a158-97f8443fd730</td>\n",
       "      <td>2023-08-17 15:23:09</td>\n",
       "      <td>2023-08-17 15:23:20</td>\n",
       "      <td>39.327785</td>\n",
       "      <td>-82.102740</td>\n",
       "      <td>372</td>\n",
       "      <td>39.327755</td>\n",
       "      <td>-82.102759</td>\n",
       "      <td>378</td>\n",
       "      <td></td>\n",
       "      <td></td>\n",
       "      <td></td>\n",
       "    </tr>\n",
       "    <tr>\n",
       "      <th>4</th>\n",
       "      <td>3a2a78cc-db21-11ee-a158-97f8443fd730</td>\n",
       "      <td>2023-08-17 15:23:56</td>\n",
       "      <td>2023-08-17 15:24:22</td>\n",
       "      <td>39.328951</td>\n",
       "      <td>-82.104938</td>\n",
       "      <td>398</td>\n",
       "      <td>39.329446</td>\n",
       "      <td>-82.107703</td>\n",
       "      <td>413</td>\n",
       "      <td></td>\n",
       "      <td></td>\n",
       "      <td></td>\n",
       "    </tr>\n",
       "    <tr>\n",
       "      <th>5</th>\n",
       "      <td>3a2a78cc-db21-11ee-a158-97f8443fd730</td>\n",
       "      <td>2023-08-17 15:27:26</td>\n",
       "      <td>2023-08-17 15:27:30</td>\n",
       "      <td>39.330921</td>\n",
       "      <td>-82.125786</td>\n",
       "      <td>500</td>\n",
       "      <td>39.330467</td>\n",
       "      <td>-82.127142</td>\n",
       "      <td>506</td>\n",
       "      <td></td>\n",
       "      <td></td>\n",
       "      <td></td>\n",
       "    </tr>\n",
       "    <tr>\n",
       "      <th>6</th>\n",
       "      <td>3a2a78cc-db21-11ee-a158-97f8443fd730</td>\n",
       "      <td>2023-08-17 15:28:58</td>\n",
       "      <td>2023-08-17 15:29:14</td>\n",
       "      <td>39.330473</td>\n",
       "      <td>-82.128025</td>\n",
       "      <td>568</td>\n",
       "      <td>39.331886</td>\n",
       "      <td>-82.129938</td>\n",
       "      <td>575</td>\n",
       "      <td></td>\n",
       "      <td></td>\n",
       "      <td></td>\n",
       "    </tr>\n",
       "    <tr>\n",
       "      <th>7</th>\n",
       "      <td>3a2a78cc-db21-11ee-a158-97f8443fd730</td>\n",
       "      <td>2023-08-17 15:34:32</td>\n",
       "      <td>2023-08-17 15:34:35</td>\n",
       "      <td>39.375829</td>\n",
       "      <td>-82.134407</td>\n",
       "      <td>777</td>\n",
       "      <td>39.376198</td>\n",
       "      <td>-82.134524</td>\n",
       "      <td>781</td>\n",
       "      <td></td>\n",
       "      <td></td>\n",
       "      <td></td>\n",
       "    </tr>\n",
       "    <tr>\n",
       "      <th>8</th>\n",
       "      <td>3a2a78cc-db21-11ee-a158-97f8443fd730</td>\n",
       "      <td>2023-08-17 15:35:08</td>\n",
       "      <td>2023-08-17 15:35:15</td>\n",
       "      <td>39.378515</td>\n",
       "      <td>-82.135271</td>\n",
       "      <td>806</td>\n",
       "      <td>39.379052</td>\n",
       "      <td>-82.135454</td>\n",
       "      <td>814</td>\n",
       "      <td></td>\n",
       "      <td></td>\n",
       "      <td></td>\n",
       "    </tr>\n",
       "    <tr>\n",
       "      <th>9</th>\n",
       "      <td>3a2a78cc-db21-11ee-a158-97f8443fd730</td>\n",
       "      <td>2023-08-17 15:36:29</td>\n",
       "      <td>2023-08-17 15:36:56</td>\n",
       "      <td>39.385880</td>\n",
       "      <td>-82.138236</td>\n",
       "      <td>875</td>\n",
       "      <td>39.387741</td>\n",
       "      <td>-82.140652</td>\n",
       "      <td>889</td>\n",
       "      <td></td>\n",
       "      <td></td>\n",
       "      <td></td>\n",
       "    </tr>\n",
       "    <tr>\n",
       "      <th>10</th>\n",
       "      <td>3a2a78cc-db21-11ee-a158-97f8443fd730</td>\n",
       "      <td>2023-08-17 15:36:58</td>\n",
       "      <td>2023-08-17 15:37:01</td>\n",
       "      <td>39.387612</td>\n",
       "      <td>-82.140784</td>\n",
       "      <td>892</td>\n",
       "      <td>39.387421</td>\n",
       "      <td>-82.141020</td>\n",
       "      <td>896</td>\n",
       "      <td></td>\n",
       "      <td></td>\n",
       "      <td></td>\n",
       "    </tr>\n",
       "    <tr>\n",
       "      <th>11</th>\n",
       "      <td>3a2a78cc-db21-11ee-a158-97f8443fd730</td>\n",
       "      <td>2023-08-17 15:37:36</td>\n",
       "      <td>2023-08-17 15:37:46</td>\n",
       "      <td>39.385872</td>\n",
       "      <td>-82.143904</td>\n",
       "      <td>912</td>\n",
       "      <td>39.385487</td>\n",
       "      <td>-82.143896</td>\n",
       "      <td>915</td>\n",
       "      <td></td>\n",
       "      <td></td>\n",
       "      <td></td>\n",
       "    </tr>\n",
       "    <tr>\n",
       "      <th>12</th>\n",
       "      <td>3a2a78cc-db21-11ee-a158-97f8443fd730</td>\n",
       "      <td>2023-08-17 15:38:49</td>\n",
       "      <td>2023-08-17 15:38:53</td>\n",
       "      <td>39.378639</td>\n",
       "      <td>-82.143574</td>\n",
       "      <td>949</td>\n",
       "      <td>39.378350</td>\n",
       "      <td>-82.143245</td>\n",
       "      <td>954</td>\n",
       "      <td></td>\n",
       "      <td></td>\n",
       "      <td></td>\n",
       "    </tr>\n",
       "    <tr>\n",
       "      <th>13</th>\n",
       "      <td>3a2a78cc-db21-11ee-a158-97f8443fd730</td>\n",
       "      <td>2023-08-17 15:39:42</td>\n",
       "      <td>2023-08-17 15:40:00</td>\n",
       "      <td>39.376975</td>\n",
       "      <td>-82.142026</td>\n",
       "      <td>978</td>\n",
       "      <td>39.376963</td>\n",
       "      <td>-82.141485</td>\n",
       "      <td>991</td>\n",
       "      <td></td>\n",
       "      <td></td>\n",
       "      <td></td>\n",
       "    </tr>\n",
       "    <tr>\n",
       "      <th>14</th>\n",
       "      <td>3a2a78cc-db21-11ee-a158-97f8443fd730</td>\n",
       "      <td>2023-08-17 15:40:05</td>\n",
       "      <td>2023-08-17 15:40:16</td>\n",
       "      <td>39.376987</td>\n",
       "      <td>-82.141389</td>\n",
       "      <td>992</td>\n",
       "      <td>39.377469</td>\n",
       "      <td>-82.140271</td>\n",
       "      <td>998</td>\n",
       "      <td></td>\n",
       "      <td></td>\n",
       "      <td></td>\n",
       "    </tr>\n",
       "  </tbody>\n",
       "</table>\n",
       "</div>"
      ],
      "text/plain": [
       "                                    gmID          Start Time  \\\n",
       "0   3a2a78cc-db21-11ee-a158-97f8443fd730 2023-08-17 15:16:50   \n",
       "1   3a2a78cc-db21-11ee-a158-97f8443fd730 2023-08-17 15:18:57   \n",
       "2   3a2a78cc-db21-11ee-a158-97f8443fd730 2023-08-17 15:20:52   \n",
       "3   3a2a78cc-db21-11ee-a158-97f8443fd730 2023-08-17 15:23:09   \n",
       "4   3a2a78cc-db21-11ee-a158-97f8443fd730 2023-08-17 15:23:56   \n",
       "5   3a2a78cc-db21-11ee-a158-97f8443fd730 2023-08-17 15:27:26   \n",
       "6   3a2a78cc-db21-11ee-a158-97f8443fd730 2023-08-17 15:28:58   \n",
       "7   3a2a78cc-db21-11ee-a158-97f8443fd730 2023-08-17 15:34:32   \n",
       "8   3a2a78cc-db21-11ee-a158-97f8443fd730 2023-08-17 15:35:08   \n",
       "9   3a2a78cc-db21-11ee-a158-97f8443fd730 2023-08-17 15:36:29   \n",
       "10  3a2a78cc-db21-11ee-a158-97f8443fd730 2023-08-17 15:36:58   \n",
       "11  3a2a78cc-db21-11ee-a158-97f8443fd730 2023-08-17 15:37:36   \n",
       "12  3a2a78cc-db21-11ee-a158-97f8443fd730 2023-08-17 15:38:49   \n",
       "13  3a2a78cc-db21-11ee-a158-97f8443fd730 2023-08-17 15:39:42   \n",
       "14  3a2a78cc-db21-11ee-a158-97f8443fd730 2023-08-17 15:40:05   \n",
       "\n",
       "             Stop Time  Start Lat  Start Long  Start Index   Stop Lat  \\\n",
       "0  2023-08-17 15:17:25  39.320644  -82.107480          137  39.319728   \n",
       "1  2023-08-17 15:19:05  39.326691  -82.102714          226  39.326623   \n",
       "2  2023-08-17 15:22:44  39.327251  -82.101367          289  39.329284   \n",
       "3  2023-08-17 15:23:20  39.327785  -82.102740          372  39.327755   \n",
       "4  2023-08-17 15:24:22  39.328951  -82.104938          398  39.329446   \n",
       "5  2023-08-17 15:27:30  39.330921  -82.125786          500  39.330467   \n",
       "6  2023-08-17 15:29:14  39.330473  -82.128025          568  39.331886   \n",
       "7  2023-08-17 15:34:35  39.375829  -82.134407          777  39.376198   \n",
       "8  2023-08-17 15:35:15  39.378515  -82.135271          806  39.379052   \n",
       "9  2023-08-17 15:36:56  39.385880  -82.138236          875  39.387741   \n",
       "10 2023-08-17 15:37:01  39.387612  -82.140784          892  39.387421   \n",
       "11 2023-08-17 15:37:46  39.385872  -82.143904          912  39.385487   \n",
       "12 2023-08-17 15:38:53  39.378639  -82.143574          949  39.378350   \n",
       "13 2023-08-17 15:40:00  39.376975  -82.142026          978  39.376963   \n",
       "14 2023-08-17 15:40:16  39.376987  -82.141389          992  39.377469   \n",
       "\n",
       "    Stop Long  Stop Index Notes Features Present Image  \n",
       "0  -82.105326         169                               \n",
       "1  -82.101713         236                               \n",
       "2  -82.102271         352                               \n",
       "3  -82.102759         378                               \n",
       "4  -82.107703         413                               \n",
       "5  -82.127142         506                               \n",
       "6  -82.129938         575                               \n",
       "7  -82.134524         781                               \n",
       "8  -82.135454         814                               \n",
       "9  -82.140652         889                               \n",
       "10 -82.141020         896                               \n",
       "11 -82.143896         915                               \n",
       "12 -82.143245         954                               \n",
       "13 -82.141485         991                               \n",
       "14 -82.140271         998                               "
      ]
     },
     "execution_count": 181,
     "metadata": {},
     "output_type": "execute_result"
    }
   ],
   "source": [
    "#autoOutput[\"Image\"] = links\n",
    "autoOutput\n",
    "#links"
   ]
  },
  {
   "cell_type": "code",
   "execution_count": 182,
   "id": "2660c52c",
   "metadata": {},
   "outputs": [
    {
     "name": "stdout",
     "output_type": "stream",
     "text": [
      "./images/3a2a78cc-db21-11ee-a158-97f8443fd730/tran_0.jpeg\n",
      "./images/3a2a78cc-db21-11ee-a158-97f8443fd730/tran_1.jpeg\n",
      "./images/3a2a78cc-db21-11ee-a158-97f8443fd730/tran_2.jpeg\n",
      "./images/3a2a78cc-db21-11ee-a158-97f8443fd730/tran_3.jpeg\n",
      "./images/3a2a78cc-db21-11ee-a158-97f8443fd730/tran_4.jpeg\n",
      "./images/3a2a78cc-db21-11ee-a158-97f8443fd730/tran_5.jpeg\n",
      "./images/3a2a78cc-db21-11ee-a158-97f8443fd730/tran_6.jpeg\n",
      "./images/3a2a78cc-db21-11ee-a158-97f8443fd730/tran_7.jpeg\n",
      "./images/3a2a78cc-db21-11ee-a158-97f8443fd730/tran_8.jpeg\n",
      "./images/3a2a78cc-db21-11ee-a158-97f8443fd730/tran_9.jpeg\n",
      "./images/3a2a78cc-db21-11ee-a158-97f8443fd730/tran_10.jpeg\n",
      "./images/3a2a78cc-db21-11ee-a158-97f8443fd730/tran_11.jpeg\n",
      "./images/3a2a78cc-db21-11ee-a158-97f8443fd730/tran_12.jpeg\n",
      "./images/3a2a78cc-db21-11ee-a158-97f8443fd730/tran_13.jpeg\n",
      "./images/3a2a78cc-db21-11ee-a158-97f8443fd730/tran_14.jpeg\n"
     ]
    }
   ],
   "source": [
    "writer = pd.ExcelWriter(f\"./data/logged/{gmID}.xlsx\", engine=\"xlsxwriter\")\n",
    "autoOutput.to_excel(writer, sheet_name='Sheet1')\n",
    "\n",
    "workbook = writer.book\n",
    "worksheet = writer.sheets[\"Sheet1\"]\n",
    "# resize cells\n",
    "# worksheet.set_column('B1:B5', 7)\n",
    "# worksheet.set_column(first_col=1, last_col=10, width=20)\n",
    "worksheet.autofit()\n",
    "\n",
    "worksheet.set_column(first_col=2, last_col=3, width=25)\n",
    "worksheet.set_column(first_col=10, last_col=11, width=50)\n",
    "worksheet.set_column(first_col=12, last_col=12, width=50)\n",
    "worksheet.set_row(row=0, height=15)\n",
    "\n",
    "\n",
    "image_row = 1\n",
    "image_col = 12\n",
    "for image in links:\n",
    "    print(image)\n",
    "    worksheet.set_row(row=image_row, height=300)\n",
    "    worksheet.insert_image(image_row,\n",
    "                          image_col,\n",
    "                          image,\n",
    "                          {   'x_scale': .5,\n",
    "                               'y_scale': .5,\n",
    "                               'x_offset': 5,\n",
    "                               'y_offset': 5,\n",
    "                              'positioning': 1,\n",
    "                          })\n",
    "    # positioning = 1 allows move and size with cells (may not always perform as expected)\n",
    "    image_row += 1\n",
    "\n",
    "#workbook.filename = f'./data/logged/{gmID}.xlsm'\n",
    "\n",
    "#workbook.add_vba_project('./vbaProject.bin')\n",
    "\n",
    "\n",
    "workbook.close()"
   ]
  },
  {
   "cell_type": "code",
   "execution_count": null,
   "id": "4763b196",
   "metadata": {},
   "outputs": [],
   "source": []
  },
  {
   "cell_type": "markdown",
   "id": "fc73446f",
   "metadata": {},
   "source": [
    "# Combine with metadata notes\n"
   ]
  },
  {
   "cell_type": "code",
   "execution_count": null,
   "id": "f8bf1d35",
   "metadata": {},
   "outputs": [],
   "source": []
  }
 ],
 "metadata": {
  "kernelspec": {
   "display_name": "Python 3 (ipykernel)",
   "language": "python",
   "name": "python3"
  },
  "language_info": {
   "codemirror_mode": {
    "name": "ipython",
    "version": 3
   },
   "file_extension": ".py",
   "mimetype": "text/x-python",
   "name": "python",
   "nbconvert_exporter": "python",
   "pygments_lexer": "ipython3",
   "version": "3.10.12"
  }
 },
 "nbformat": 4,
 "nbformat_minor": 5
}
