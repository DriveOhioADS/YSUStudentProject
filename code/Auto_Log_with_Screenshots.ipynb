{
 "cells": [
  {
   "cell_type": "markdown",
   "id": "7d5fff77-da4e-4611-8ab4-7953dd8568be",
   "metadata": {},
   "source": [
    "# Auto log a single ID\n"
   ]
  },
  {
   "cell_type": "code",
   "execution_count": 20,
   "id": "41f9a81a-de71-4baa-9809-fcac81157f8f",
   "metadata": {},
   "outputs": [],
   "source": [
    "import plotly.express as px\n",
    "import pandas as pd\n",
    "\n",
    "from pandasgui import show\n",
    "\n",
    "import xlsxwriter\n",
    "import glob\n",
    "import os\n",
    "\n",
    "# Import plotly.express to utilize map"
   ]
  },
  {
   "cell_type": "markdown",
   "id": "62f79d62-f471-415c-9ff1-847bf328c327",
   "metadata": {},
   "source": [
    "### Import your groupMetadataID below\n"
   ]
  },
  {
   "cell_type": "code",
   "execution_count": 21,
   "id": "8aedcf9d-7ecb-458c-872e-f0e43b5d6803",
   "metadata": {},
   "outputs": [
    {
     "name": "stdout",
     "output_type": "stream",
     "text": [
      "chassis csv file found!\n",
      "best_pose csv file found!\n",
      "metadata csv file found!\n"
     ]
    }
   ],
   "source": [
    "gmID = '3a2a78cc-db21-11ee-a158-97f8443fd730'\n",
    "\n",
    "# set to False if data is stored as .csv file.\n",
    "# otherwise, set to True\n",
    "\n",
    "if os.path.isfile(f\"./data/chassis/{gmID}.csv\"):\n",
    "    queryChassis = False\n",
    "    print(\"chassis csv file found!\")\n",
    "else:\n",
    "    queryChassis = True\n",
    "    print(\"no chassis csv. Query for data necessary.\")\n",
    "\n",
    "if os.path.isfile(f\"./data/best_pose/{gmID}.csv\"):\n",
    "    queryPose = False\n",
    "    print(\"best_pose csv file found!\")\n",
    "else:\n",
    "    queryPose = True\n",
    "    print(\"no best_ose csv. Query for data necessary.\")\n",
    "\n",
    "if os.path.isfile(f\"./data/metadata/{gmID}.csv\"):\n",
    "    queryMeta = False\n",
    "    print(\"metadata csv file found!\")\n",
    "else:\n",
    "    queryMeta = True\n",
    "    print(\"no metadata csv. Query for data necessary.\")"
   ]
  },
  {
   "cell_type": "code",
   "execution_count": 22,
   "id": "0189332f",
   "metadata": {},
   "outputs": [],
   "source": [
    "from boto3.dynamodb.conditions import Key, Attr\n",
    "import boto3\n",
    "\n",
    "if queryPose or queryChassis or queryMeta:\n",
    "    # Get the service resource\n",
    "    dynamodb = boto3.resource('dynamodb')\n",
    "    # Instantiate a table resource object\n",
    "    table = dynamodb.Table('ads_passenger_processed')\n",
    "    table_meta = dynamodb.Table('ads_passenger_processed_metadata')"
   ]
  },
  {
   "cell_type": "code",
   "execution_count": 23,
   "id": "a0c8af00-2e62-49a8-a8fb-f89a1faf396d",
   "metadata": {},
   "outputs": [
    {
     "name": "stdout",
     "output_type": "stream",
     "text": [
      "Loaded best_pose data\n"
     ]
    },
    {
     "data": {
      "text/plain": [
       "(2001, 13)"
      ]
     },
     "execution_count": 23,
     "metadata": {},
     "output_type": "execute_result"
    }
   ],
   "source": [
    "\n",
    "if not os.path.exists(f\"./data/best_pose\"):\n",
    "        os.makedirs(f\"./data/best_pose\")\n",
    "\n",
    "if queryPose:\n",
    "\n",
    "    # query arguments for best_pose data\n",
    "    keywords = dict(\n",
    "        IndexName='topic-index',\n",
    "        KeyConditionExpression=Key('topic').eq(\n",
    "            '/apollo/sensor/gnss/best_pose'),\n",
    "        ProjectionExpression=\"groupMetadataID, #t, solStatus, solType, latitudeStdDev, longitudeStdDev, numSatsTracked, numSatsMulti, numSatsInSolution, differentialAge, solutionAge, latitude, longitude\",\n",
    "        Limit=1500,\n",
    "        ExpressionAttributeNames={'#t': 'time'},\n",
    "        FilterExpression=Key('groupMetadataID').eq(f'{gmID}')\n",
    "\n",
    "    )\n",
    "\n",
    "    # run initial query and coerce results into a dataframe\n",
    "    res = table.query(**keywords)\n",
    "    df_pose = pd.DataFrame.from_dict(\n",
    "        pd.json_normalize(res['Items']), orient='columns')\n",
    "\n",
    "    done = False\n",
    "    leek = res[\"LastEvaluatedKey\"]\n",
    "\n",
    "    while not done:\n",
    "        try:\n",
    "            leek = res[\"LastEvaluatedKey\"]\n",
    "            keywords[\"ExclusiveStartKey\"] = leek\n",
    "            res = table.query(**keywords)\n",
    "            tmpDF = pd.DataFrame.from_dict(\n",
    "                pd.json_normalize(res['Items']), orient='columns')\n",
    "            df_pose = pd.concat([df_pose, tmpDF])\n",
    "        except KeyError:\n",
    "            print(\"Done querying best_pose data\")\n",
    "            done = True\n",
    "\n",
    "    df_pose.to_csv(f\"./data/best_pose/{gmID}.csv\")\n",
    "    print(f\"Saved best_pose data at ./data/best_pose/{gmID}.csv\")\n",
    "\n",
    "\n",
    "else:\n",
    "    df_pose = pd.read_csv(f\"./data/best_pose/{gmID}.csv\")\n",
    "    print(\"Loaded best_pose data\")\n",
    "\n",
    "df_pose.shape"
   ]
  },
  {
   "cell_type": "code",
   "execution_count": 24,
   "id": "a5634079",
   "metadata": {},
   "outputs": [
    {
     "name": "stdout",
     "output_type": "stream",
     "text": [
      "Loaded chassis data\n",
      "(31903, 31)\n"
     ]
    }
   ],
   "source": [
    "if not os.path.exists(f\"./data/chassis\"):\n",
    "        os.makedirs(f\"./data/chassis\")\n",
    "        \n",
    "if queryChassis:\n",
    "    keywords = dict(\n",
    "        IndexName='topic-index',\n",
    "        KeyConditionExpression=Key('topic').eq(\n",
    "            '/apollo/canbus/chassis'),\n",
    "        Limit=2000,\n",
    "        FilterExpression=Key('groupMetadataID').eq(gmID)\n",
    "    )\n",
    "\n",
    "    res = table.query(**keywords)\n",
    "    df_chassis = pd.DataFrame.from_dict(\n",
    "        pd.json_normalize(res['Items']), orient='columns')\n",
    "\n",
    "    done = False\n",
    "    leek = res[\"LastEvaluatedKey\"]\n",
    "\n",
    "    while not done:\n",
    "        try:\n",
    "            leek = res[\"LastEvaluatedKey\"]\n",
    "            keywords[\"ExclusiveStartKey\"] = leek\n",
    "            res = table.query(**keywords)\n",
    "            tmpDF = pd.DataFrame.from_dict(\n",
    "                pd.json_normalize(res['Items']), orient='columns')\n",
    "            df_chassis = pd.concat([df_chassis, tmpDF])\n",
    "\n",
    "        except KeyError:\n",
    "            print(f\"done querying for chassis data\")\n",
    "            done = True\n",
    "\n",
    "    df_chassis.to_csv(f\"./data/chassis/{gmID}.csv\")\n",
    "    print(f\"Saved chassis data at ./data/chassis/{gmID}.csv\")\n",
    "else:\n",
    "    df_chassis = pd.read_csv(f\"./data/chassis/{gmID}.csv\")\n",
    "    print(\"Loaded chassis data\")\n",
    "\n",
    "print(df_chassis.shape)"
   ]
  },
  {
   "cell_type": "code",
   "execution_count": 25,
   "id": "0b8e278a",
   "metadata": {},
   "outputs": [
    {
     "name": "stdout",
     "output_type": "stream",
     "text": [
      "Loaded metadata\n",
      "(1, 8)\n"
     ]
    }
   ],
   "source": [
    "if not os.path.exists(f\"./data/metadata\"):\n",
    "        os.makedirs(f\"./data/metadata\")\n",
    "\n",
    "if queryMeta:\n",
    "\n",
    "    res = table_meta.query(\n",
    "        IndexName='groupMetadataID-index',\n",
    "        KeyConditionExpression=Key(\"groupMetadataID\").eq(gmID),\n",
    "        ProjectionExpression=\"groupMetadataID, #o.Weather, #o.#m, #o.Notes\",\n",
    "        Limit=1500,\n",
    "        ExpressionAttributeNames={\"#o\": \"other\", \"#m\": \"Map\"},\n",
    "    )\n",
    "\n",
    "    df_meta = pd.DataFrame.from_dict(\n",
    "        pd.json_normalize(res['Items']), orient='columns').drop_duplicates()\n",
    "\n",
    "    df_meta.to_csv(f\"./data/metadata/{gmID}.csv\")\n",
    "    print(f\"Saved metadata data at ./data/metadata/{gmID}.csv\")\n",
    "\n",
    "else:\n",
    "    df_meta = pd.read_csv(f\"./data/metadata/{gmID}.csv\")\n",
    "    print(\"Loaded metadata\")\n",
    "\n",
    "\n",
    "print(df_meta.shape)"
   ]
  },
  {
   "cell_type": "markdown",
   "id": "a7dff265-5962-47f8-963f-ea25552029f8",
   "metadata": {},
   "source": [
    "The output of this box will be messed up. It automatically sets row 0 to True. Not sure why, but it doesn't count as a transition in the end.\n",
    "We are also counting emergency mode as MANUAL\n"
   ]
  },
  {
   "cell_type": "code",
   "execution_count": 26,
   "id": "c692446b-fcff-4ea1-b0cf-a70d6d7a5384",
   "metadata": {},
   "outputs": [
    {
     "name": "stdout",
     "output_type": "stream",
     "text": [
      "transition\n",
      "False    31854\n",
      "True        49\n",
      "Name: count, dtype: int64\n"
     ]
    },
    {
     "name": "stdout",
     "output_type": "stream",
     "text": [
      "transitionType\n",
      "NONE     31870\n",
      "M->A        16\n",
      "A->M        16\n",
      "ERROR        1\n",
      "Name: count, dtype: int64\n"
     ]
    },
    {
     "data": {
      "text/html": [
       "<div>\n",
       "<style scoped>\n",
       "    .dataframe tbody tr th:only-of-type {\n",
       "        vertical-align: middle;\n",
       "    }\n",
       "\n",
       "    .dataframe tbody tr th {\n",
       "        vertical-align: top;\n",
       "    }\n",
       "\n",
       "    .dataframe thead th {\n",
       "        text-align: right;\n",
       "    }\n",
       "</style>\n",
       "<table border=\"1\" class=\"dataframe\">\n",
       "  <thead>\n",
       "    <tr style=\"text-align: right;\">\n",
       "      <th></th>\n",
       "      <th>time</th>\n",
       "    </tr>\n",
       "  </thead>\n",
       "  <tbody>\n",
       "    <tr>\n",
       "      <th>3092</th>\n",
       "      <td>2023-08-17 15:14:25</td>\n",
       "    </tr>\n",
       "    <tr>\n",
       "      <th>31671</th>\n",
       "      <td>2023-08-17 15:14:25</td>\n",
       "    </tr>\n",
       "    <tr>\n",
       "      <th>14369</th>\n",
       "      <td>2023-08-17 15:14:25</td>\n",
       "    </tr>\n",
       "    <tr>\n",
       "      <th>2187</th>\n",
       "      <td>2023-08-17 15:14:25</td>\n",
       "    </tr>\n",
       "    <tr>\n",
       "      <th>19724</th>\n",
       "      <td>2023-08-17 15:14:25</td>\n",
       "    </tr>\n",
       "    <tr>\n",
       "      <th>...</th>\n",
       "      <td>...</td>\n",
       "    </tr>\n",
       "    <tr>\n",
       "      <th>2064</th>\n",
       "      <td>2023-08-17 15:47:47</td>\n",
       "    </tr>\n",
       "    <tr>\n",
       "      <th>30421</th>\n",
       "      <td>2023-08-17 15:47:47</td>\n",
       "    </tr>\n",
       "    <tr>\n",
       "      <th>1938</th>\n",
       "      <td>2023-08-17 15:47:47</td>\n",
       "    </tr>\n",
       "    <tr>\n",
       "      <th>12877</th>\n",
       "      <td>2023-08-17 15:47:47</td>\n",
       "    </tr>\n",
       "    <tr>\n",
       "      <th>4983</th>\n",
       "      <td>2023-08-17 15:47:47</td>\n",
       "    </tr>\n",
       "  </tbody>\n",
       "</table>\n",
       "<p>31903 rows × 1 columns</p>\n",
       "</div>"
      ],
      "text/plain": [
       "                     time\n",
       "3092  2023-08-17 15:14:25\n",
       "31671 2023-08-17 15:14:25\n",
       "14369 2023-08-17 15:14:25\n",
       "2187  2023-08-17 15:14:25\n",
       "19724 2023-08-17 15:14:25\n",
       "...                   ...\n",
       "2064  2023-08-17 15:47:47\n",
       "30421 2023-08-17 15:47:47\n",
       "1938  2023-08-17 15:47:47\n",
       "12877 2023-08-17 15:47:47\n",
       "4983  2023-08-17 15:47:47\n",
       "\n",
       "[31903 rows x 1 columns]"
      ]
     },
     "execution_count": 26,
     "metadata": {},
     "output_type": "execute_result"
    }
   ],
   "source": [
    "# read the timeSorted csv\n",
    "pts = df_chassis.copy()\n",
    "pts = pts.sort_values('time')\n",
    "# reduce df to only time and drivingMode\n",
    "pts = pts[[\"time\", \"drivingMode\"]]\n",
    "# function to tell us what state transition it is\n",
    "\n",
    "\n",
    "def getState(old, new):\n",
    "    if old == \"COMPLETE_AUTO_DRIVE\" and new == \"COMPLETE_MANUAL\":\n",
    "        return \"A->M\"\n",
    "    elif old == \"COMPLETE_AUTO_DRIVE\" and new == \"EMERGENCY_MODE\":\n",
    "        return \"A->M\"\n",
    "    elif old == \"COMPLETE_MANUAL\" and new == \"COMPLETE_AUTO_DRIVE\":\n",
    "        return \"M->A\"\n",
    "    elif old == \"COMPLETE_MANUAL\" and new == \"EMERGENCY_MODE\":\n",
    "        return \"NONE\"\n",
    "    elif old == \"EMERGENCY_MODE\" and new == \"COMPLETE_AUTO_DRIVE\":\n",
    "        return \"M->A\"\n",
    "    elif old == \"EMERGENCY_MODE\" and new == \"COMPLETE_MANUAL\":\n",
    "        return \"NONE\"\n",
    "    elif old == new:\n",
    "        return \"NONE\"\n",
    "    else:\n",
    "        return \"ERROR\"\n",
    "\n",
    "\n",
    "# we shift the drivingMode column down by 1\n",
    "pts[\"shift\"] = pts[\"drivingMode\"].shift()\n",
    "# create transition field\n",
    "pts['transition'] = (pts[\"drivingMode\"] != pts[\"shift\"])\n",
    "# set Transition type to NONE for all\n",
    "pts['transitionType'] = \"NONE\"\n",
    "# Set first transition to False, since it was auto True\n",
    "pts.loc[0, 'transition'] = False\n",
    "# print(pts['transition'])\n",
    "# Show counts for transitions\n",
    "print(pts['transition'].value_counts())\n",
    "# iterate over all rows and find the ones where transition is true. Then we compare shift and dM to see what\n",
    "# transition Type we have.\n",
    "for index, row in pts.iterrows():\n",
    "    if pts['transition'][index] == True:\n",
    "        old = pts['shift'][index]\n",
    "        new = pts['drivingMode'][index]\n",
    "        pts.loc[index, \"transitionType\"] = getState(old, new)\n",
    "print(pts['transitionType'].value_counts())\n",
    "pts = pts[['time', 'drivingMode', 'transition', 'transitionType']]\n",
    "pts = pts.sort_values('time')\n",
    "pts['time'] = pts['time'].astype(float)\n",
    "pts['time'] = pts['time'].astype('datetime64[ns]')\n",
    "pts['time'] = pts['time'].astype('datetime64[s]')\n",
    "pts[['time']]\n",
    "\n",
    "# show(pts)"
   ]
  },
  {
   "cell_type": "code",
   "execution_count": 27,
   "id": "a61259b4",
   "metadata": {},
   "outputs": [
    {
     "data": {
      "text/html": [
       "<div>\n",
       "<style scoped>\n",
       "    .dataframe tbody tr th:only-of-type {\n",
       "        vertical-align: middle;\n",
       "    }\n",
       "\n",
       "    .dataframe tbody tr th {\n",
       "        vertical-align: top;\n",
       "    }\n",
       "\n",
       "    .dataframe thead th {\n",
       "        text-align: right;\n",
       "    }\n",
       "</style>\n",
       "<table border=\"1\" class=\"dataframe\">\n",
       "  <thead>\n",
       "    <tr style=\"text-align: right;\">\n",
       "      <th></th>\n",
       "      <th>time</th>\n",
       "      <th>drivingMode</th>\n",
       "      <th>transition</th>\n",
       "      <th>transitionType</th>\n",
       "    </tr>\n",
       "  </thead>\n",
       "  <tbody>\n",
       "    <tr>\n",
       "      <th>3092</th>\n",
       "      <td>2023-08-17 15:14:25</td>\n",
       "      <td>EMERGENCY_MODE</td>\n",
       "      <td>True</td>\n",
       "      <td>ERROR</td>\n",
       "    </tr>\n",
       "    <tr>\n",
       "      <th>31671</th>\n",
       "      <td>2023-08-17 15:14:25</td>\n",
       "      <td>EMERGENCY_MODE</td>\n",
       "      <td>False</td>\n",
       "      <td>NONE</td>\n",
       "    </tr>\n",
       "    <tr>\n",
       "      <th>14369</th>\n",
       "      <td>2023-08-17 15:14:25</td>\n",
       "      <td>EMERGENCY_MODE</td>\n",
       "      <td>False</td>\n",
       "      <td>NONE</td>\n",
       "    </tr>\n",
       "    <tr>\n",
       "      <th>2187</th>\n",
       "      <td>2023-08-17 15:14:25</td>\n",
       "      <td>EMERGENCY_MODE</td>\n",
       "      <td>False</td>\n",
       "      <td>NONE</td>\n",
       "    </tr>\n",
       "    <tr>\n",
       "      <th>19724</th>\n",
       "      <td>2023-08-17 15:14:25</td>\n",
       "      <td>EMERGENCY_MODE</td>\n",
       "      <td>False</td>\n",
       "      <td>NONE</td>\n",
       "    </tr>\n",
       "    <tr>\n",
       "      <th>...</th>\n",
       "      <td>...</td>\n",
       "      <td>...</td>\n",
       "      <td>...</td>\n",
       "      <td>...</td>\n",
       "    </tr>\n",
       "    <tr>\n",
       "      <th>2064</th>\n",
       "      <td>2023-08-17 15:47:47</td>\n",
       "      <td>EMERGENCY_MODE</td>\n",
       "      <td>False</td>\n",
       "      <td>NONE</td>\n",
       "    </tr>\n",
       "    <tr>\n",
       "      <th>30421</th>\n",
       "      <td>2023-08-17 15:47:47</td>\n",
       "      <td>EMERGENCY_MODE</td>\n",
       "      <td>False</td>\n",
       "      <td>NONE</td>\n",
       "    </tr>\n",
       "    <tr>\n",
       "      <th>1938</th>\n",
       "      <td>2023-08-17 15:47:47</td>\n",
       "      <td>EMERGENCY_MODE</td>\n",
       "      <td>False</td>\n",
       "      <td>NONE</td>\n",
       "    </tr>\n",
       "    <tr>\n",
       "      <th>12877</th>\n",
       "      <td>2023-08-17 15:47:47</td>\n",
       "      <td>EMERGENCY_MODE</td>\n",
       "      <td>False</td>\n",
       "      <td>NONE</td>\n",
       "    </tr>\n",
       "    <tr>\n",
       "      <th>4983</th>\n",
       "      <td>2023-08-17 15:47:47</td>\n",
       "      <td>EMERGENCY_MODE</td>\n",
       "      <td>False</td>\n",
       "      <td>NONE</td>\n",
       "    </tr>\n",
       "  </tbody>\n",
       "</table>\n",
       "<p>31903 rows × 4 columns</p>\n",
       "</div>"
      ],
      "text/plain": [
       "                     time     drivingMode  transition transitionType\n",
       "3092  2023-08-17 15:14:25  EMERGENCY_MODE        True          ERROR\n",
       "31671 2023-08-17 15:14:25  EMERGENCY_MODE       False           NONE\n",
       "14369 2023-08-17 15:14:25  EMERGENCY_MODE       False           NONE\n",
       "2187  2023-08-17 15:14:25  EMERGENCY_MODE       False           NONE\n",
       "19724 2023-08-17 15:14:25  EMERGENCY_MODE       False           NONE\n",
       "...                   ...             ...         ...            ...\n",
       "2064  2023-08-17 15:47:47  EMERGENCY_MODE       False           NONE\n",
       "30421 2023-08-17 15:47:47  EMERGENCY_MODE       False           NONE\n",
       "1938  2023-08-17 15:47:47  EMERGENCY_MODE       False           NONE\n",
       "12877 2023-08-17 15:47:47  EMERGENCY_MODE       False           NONE\n",
       "4983  2023-08-17 15:47:47  EMERGENCY_MODE       False           NONE\n",
       "\n",
       "[31903 rows x 4 columns]"
      ]
     },
     "execution_count": 27,
     "metadata": {},
     "output_type": "execute_result"
    }
   ],
   "source": [
    "pts"
   ]
  },
  {
   "cell_type": "code",
   "execution_count": 28,
   "id": "a3d82518",
   "metadata": {},
   "outputs": [
    {
     "data": {
      "text/html": [
       "<div>\n",
       "<style scoped>\n",
       "    .dataframe tbody tr th:only-of-type {\n",
       "        vertical-align: middle;\n",
       "    }\n",
       "\n",
       "    .dataframe tbody tr th {\n",
       "        vertical-align: top;\n",
       "    }\n",
       "\n",
       "    .dataframe thead th {\n",
       "        text-align: right;\n",
       "    }\n",
       "</style>\n",
       "<table border=\"1\" class=\"dataframe\">\n",
       "  <thead>\n",
       "    <tr style=\"text-align: right;\">\n",
       "      <th></th>\n",
       "      <th>time</th>\n",
       "      <th>latitude</th>\n",
       "      <th>longitude</th>\n",
       "    </tr>\n",
       "  </thead>\n",
       "  <tbody>\n",
       "    <tr>\n",
       "      <th>1039</th>\n",
       "      <td>2023-08-17 15:14:27</td>\n",
       "      <td>39.329602</td>\n",
       "      <td>-82.127926</td>\n",
       "    </tr>\n",
       "    <tr>\n",
       "      <th>1448</th>\n",
       "      <td>2023-08-17 15:14:28</td>\n",
       "      <td>39.329603</td>\n",
       "      <td>-82.127926</td>\n",
       "    </tr>\n",
       "    <tr>\n",
       "      <th>1003</th>\n",
       "      <td>2023-08-17 15:14:29</td>\n",
       "      <td>39.329602</td>\n",
       "      <td>-82.127926</td>\n",
       "    </tr>\n",
       "    <tr>\n",
       "      <th>1050</th>\n",
       "      <td>2023-08-17 15:14:30</td>\n",
       "      <td>39.329603</td>\n",
       "      <td>-82.127926</td>\n",
       "    </tr>\n",
       "    <tr>\n",
       "      <th>389</th>\n",
       "      <td>2023-08-17 15:14:31</td>\n",
       "      <td>39.329602</td>\n",
       "      <td>-82.127926</td>\n",
       "    </tr>\n",
       "    <tr>\n",
       "      <th>...</th>\n",
       "      <td>...</td>\n",
       "      <td>...</td>\n",
       "      <td>...</td>\n",
       "    </tr>\n",
       "    <tr>\n",
       "      <th>1905</th>\n",
       "      <td>2023-08-17 15:47:43</td>\n",
       "      <td>39.330517</td>\n",
       "      <td>-82.128211</td>\n",
       "    </tr>\n",
       "    <tr>\n",
       "      <th>628</th>\n",
       "      <td>2023-08-17 15:47:44</td>\n",
       "      <td>39.330517</td>\n",
       "      <td>-82.128211</td>\n",
       "    </tr>\n",
       "    <tr>\n",
       "      <th>528</th>\n",
       "      <td>2023-08-17 15:47:45</td>\n",
       "      <td>39.330517</td>\n",
       "      <td>-82.128211</td>\n",
       "    </tr>\n",
       "    <tr>\n",
       "      <th>1904</th>\n",
       "      <td>2023-08-17 15:47:46</td>\n",
       "      <td>39.330517</td>\n",
       "      <td>-82.128211</td>\n",
       "    </tr>\n",
       "    <tr>\n",
       "      <th>881</th>\n",
       "      <td>2023-08-17 15:47:47</td>\n",
       "      <td>39.330517</td>\n",
       "      <td>-82.128211</td>\n",
       "    </tr>\n",
       "  </tbody>\n",
       "</table>\n",
       "<p>2001 rows × 3 columns</p>\n",
       "</div>"
      ],
      "text/plain": [
       "                    time   latitude  longitude\n",
       "1039 2023-08-17 15:14:27  39.329602 -82.127926\n",
       "1448 2023-08-17 15:14:28  39.329603 -82.127926\n",
       "1003 2023-08-17 15:14:29  39.329602 -82.127926\n",
       "1050 2023-08-17 15:14:30  39.329603 -82.127926\n",
       "389  2023-08-17 15:14:31  39.329602 -82.127926\n",
       "...                  ...        ...        ...\n",
       "1905 2023-08-17 15:47:43  39.330517 -82.128211\n",
       "628  2023-08-17 15:47:44  39.330517 -82.128211\n",
       "528  2023-08-17 15:47:45  39.330517 -82.128211\n",
       "1904 2023-08-17 15:47:46  39.330517 -82.128211\n",
       "881  2023-08-17 15:47:47  39.330517 -82.128211\n",
       "\n",
       "[2001 rows x 3 columns]"
      ]
     },
     "execution_count": 28,
     "metadata": {},
     "output_type": "execute_result"
    }
   ],
   "source": [
    "bestPos = df_pose.copy()\n",
    "bestPos = bestPos.sort_values('time')\n",
    "bestPos['time'] = bestPos['time'].astype(float)\n",
    "bestPos['time'] = bestPos['time'].astype('datetime64[ns]')\n",
    "bestPos['time'] = bestPos['time'].astype('datetime64[s]')\n",
    "bestPos = bestPos[['time', 'latitude', 'longitude']]\n",
    "\n",
    "bestPos"
   ]
  },
  {
   "cell_type": "code",
   "execution_count": 29,
   "id": "d84c2ad4",
   "metadata": {},
   "outputs": [],
   "source": [
    "full_merged_df = pd.merge(pts, bestPos, on='time').drop_duplicates()\n",
    "\n",
    "full_merged_df = full_merged_df.reset_index(drop = True).sort_values('time')\n",
    "\n",
    "merged_df = full_merged_df.drop_duplicates(\n",
    "    subset=['time', 'transitionType']\n",
    "    ).copy().reset_index().rename(columns={\"index\":\"full_index\"})\n",
    "# remove all NONE transition columns\n",
    "automatedDF = merged_df[(merged_df['transitionType'] != 'NONE')].copy()"
   ]
  },
  {
   "cell_type": "code",
   "execution_count": 30,
   "id": "d24ebb7a",
   "metadata": {},
   "outputs": [
    {
     "data": {
      "text/html": [
       "<div>\n",
       "<style scoped>\n",
       "    .dataframe tbody tr th:only-of-type {\n",
       "        vertical-align: middle;\n",
       "    }\n",
       "\n",
       "    .dataframe tbody tr th {\n",
       "        vertical-align: top;\n",
       "    }\n",
       "\n",
       "    .dataframe thead th {\n",
       "        text-align: right;\n",
       "    }\n",
       "</style>\n",
       "<table border=\"1\" class=\"dataframe\">\n",
       "  <thead>\n",
       "    <tr style=\"text-align: right;\">\n",
       "      <th></th>\n",
       "      <th>time</th>\n",
       "      <th>drivingMode</th>\n",
       "      <th>transition</th>\n",
       "      <th>transitionType</th>\n",
       "      <th>latitude</th>\n",
       "      <th>longitude</th>\n",
       "    </tr>\n",
       "  </thead>\n",
       "  <tbody>\n",
       "    <tr>\n",
       "      <th>0</th>\n",
       "      <td>2023-08-17 15:14:27</td>\n",
       "      <td>EMERGENCY_MODE</td>\n",
       "      <td>False</td>\n",
       "      <td>NONE</td>\n",
       "      <td>39.329602</td>\n",
       "      <td>-82.127926</td>\n",
       "    </tr>\n",
       "    <tr>\n",
       "      <th>1</th>\n",
       "      <td>2023-08-17 15:14:28</td>\n",
       "      <td>EMERGENCY_MODE</td>\n",
       "      <td>False</td>\n",
       "      <td>NONE</td>\n",
       "      <td>39.329603</td>\n",
       "      <td>-82.127926</td>\n",
       "    </tr>\n",
       "    <tr>\n",
       "      <th>2</th>\n",
       "      <td>2023-08-17 15:14:29</td>\n",
       "      <td>EMERGENCY_MODE</td>\n",
       "      <td>False</td>\n",
       "      <td>NONE</td>\n",
       "      <td>39.329602</td>\n",
       "      <td>-82.127926</td>\n",
       "    </tr>\n",
       "    <tr>\n",
       "      <th>3</th>\n",
       "      <td>2023-08-17 15:14:30</td>\n",
       "      <td>EMERGENCY_MODE</td>\n",
       "      <td>False</td>\n",
       "      <td>NONE</td>\n",
       "      <td>39.329603</td>\n",
       "      <td>-82.127926</td>\n",
       "    </tr>\n",
       "    <tr>\n",
       "      <th>4</th>\n",
       "      <td>2023-08-17 15:14:31</td>\n",
       "      <td>EMERGENCY_MODE</td>\n",
       "      <td>False</td>\n",
       "      <td>NONE</td>\n",
       "      <td>39.329602</td>\n",
       "      <td>-82.127926</td>\n",
       "    </tr>\n",
       "    <tr>\n",
       "      <th>...</th>\n",
       "      <td>...</td>\n",
       "      <td>...</td>\n",
       "      <td>...</td>\n",
       "      <td>...</td>\n",
       "      <td>...</td>\n",
       "      <td>...</td>\n",
       "    </tr>\n",
       "    <tr>\n",
       "      <th>2157</th>\n",
       "      <td>2023-08-17 15:47:43</td>\n",
       "      <td>EMERGENCY_MODE</td>\n",
       "      <td>False</td>\n",
       "      <td>NONE</td>\n",
       "      <td>39.330517</td>\n",
       "      <td>-82.128211</td>\n",
       "    </tr>\n",
       "    <tr>\n",
       "      <th>2158</th>\n",
       "      <td>2023-08-17 15:47:44</td>\n",
       "      <td>EMERGENCY_MODE</td>\n",
       "      <td>False</td>\n",
       "      <td>NONE</td>\n",
       "      <td>39.330517</td>\n",
       "      <td>-82.128211</td>\n",
       "    </tr>\n",
       "    <tr>\n",
       "      <th>2159</th>\n",
       "      <td>2023-08-17 15:47:45</td>\n",
       "      <td>EMERGENCY_MODE</td>\n",
       "      <td>False</td>\n",
       "      <td>NONE</td>\n",
       "      <td>39.330517</td>\n",
       "      <td>-82.128211</td>\n",
       "    </tr>\n",
       "    <tr>\n",
       "      <th>2160</th>\n",
       "      <td>2023-08-17 15:47:46</td>\n",
       "      <td>EMERGENCY_MODE</td>\n",
       "      <td>False</td>\n",
       "      <td>NONE</td>\n",
       "      <td>39.330517</td>\n",
       "      <td>-82.128211</td>\n",
       "    </tr>\n",
       "    <tr>\n",
       "      <th>2161</th>\n",
       "      <td>2023-08-17 15:47:47</td>\n",
       "      <td>EMERGENCY_MODE</td>\n",
       "      <td>False</td>\n",
       "      <td>NONE</td>\n",
       "      <td>39.330517</td>\n",
       "      <td>-82.128211</td>\n",
       "    </tr>\n",
       "  </tbody>\n",
       "</table>\n",
       "<p>2162 rows × 6 columns</p>\n",
       "</div>"
      ],
      "text/plain": [
       "                    time     drivingMode  transition transitionType  \\\n",
       "0    2023-08-17 15:14:27  EMERGENCY_MODE       False           NONE   \n",
       "1    2023-08-17 15:14:28  EMERGENCY_MODE       False           NONE   \n",
       "2    2023-08-17 15:14:29  EMERGENCY_MODE       False           NONE   \n",
       "3    2023-08-17 15:14:30  EMERGENCY_MODE       False           NONE   \n",
       "4    2023-08-17 15:14:31  EMERGENCY_MODE       False           NONE   \n",
       "...                  ...             ...         ...            ...   \n",
       "2157 2023-08-17 15:47:43  EMERGENCY_MODE       False           NONE   \n",
       "2158 2023-08-17 15:47:44  EMERGENCY_MODE       False           NONE   \n",
       "2159 2023-08-17 15:47:45  EMERGENCY_MODE       False           NONE   \n",
       "2160 2023-08-17 15:47:46  EMERGENCY_MODE       False           NONE   \n",
       "2161 2023-08-17 15:47:47  EMERGENCY_MODE       False           NONE   \n",
       "\n",
       "       latitude  longitude  \n",
       "0     39.329602 -82.127926  \n",
       "1     39.329603 -82.127926  \n",
       "2     39.329602 -82.127926  \n",
       "3     39.329603 -82.127926  \n",
       "4     39.329602 -82.127926  \n",
       "...         ...        ...  \n",
       "2157  39.330517 -82.128211  \n",
       "2158  39.330517 -82.128211  \n",
       "2159  39.330517 -82.128211  \n",
       "2160  39.330517 -82.128211  \n",
       "2161  39.330517 -82.128211  \n",
       "\n",
       "[2162 rows x 6 columns]"
      ]
     },
     "execution_count": 30,
     "metadata": {},
     "output_type": "execute_result"
    }
   ],
   "source": [
    "full_merged_df"
   ]
  },
  {
   "cell_type": "code",
   "execution_count": 31,
   "id": "6656340a",
   "metadata": {},
   "outputs": [
    {
     "data": {
      "text/html": [
       "<div>\n",
       "<style scoped>\n",
       "    .dataframe tbody tr th:only-of-type {\n",
       "        vertical-align: middle;\n",
       "    }\n",
       "\n",
       "    .dataframe tbody tr th {\n",
       "        vertical-align: top;\n",
       "    }\n",
       "\n",
       "    .dataframe thead th {\n",
       "        text-align: right;\n",
       "    }\n",
       "</style>\n",
       "<table border=\"1\" class=\"dataframe\">\n",
       "  <thead>\n",
       "    <tr style=\"text-align: right;\">\n",
       "      <th></th>\n",
       "      <th>full_index</th>\n",
       "      <th>time</th>\n",
       "      <th>drivingMode</th>\n",
       "      <th>transition</th>\n",
       "      <th>transitionType</th>\n",
       "      <th>latitude</th>\n",
       "      <th>longitude</th>\n",
       "    </tr>\n",
       "  </thead>\n",
       "  <tbody>\n",
       "    <tr>\n",
       "      <th>0</th>\n",
       "      <td>0</td>\n",
       "      <td>2023-08-17 15:14:27</td>\n",
       "      <td>EMERGENCY_MODE</td>\n",
       "      <td>False</td>\n",
       "      <td>NONE</td>\n",
       "      <td>39.329602</td>\n",
       "      <td>-82.127926</td>\n",
       "    </tr>\n",
       "    <tr>\n",
       "      <th>1</th>\n",
       "      <td>1</td>\n",
       "      <td>2023-08-17 15:14:28</td>\n",
       "      <td>EMERGENCY_MODE</td>\n",
       "      <td>False</td>\n",
       "      <td>NONE</td>\n",
       "      <td>39.329603</td>\n",
       "      <td>-82.127926</td>\n",
       "    </tr>\n",
       "    <tr>\n",
       "      <th>2</th>\n",
       "      <td>2</td>\n",
       "      <td>2023-08-17 15:14:29</td>\n",
       "      <td>EMERGENCY_MODE</td>\n",
       "      <td>False</td>\n",
       "      <td>NONE</td>\n",
       "      <td>39.329602</td>\n",
       "      <td>-82.127926</td>\n",
       "    </tr>\n",
       "    <tr>\n",
       "      <th>3</th>\n",
       "      <td>3</td>\n",
       "      <td>2023-08-17 15:14:30</td>\n",
       "      <td>EMERGENCY_MODE</td>\n",
       "      <td>False</td>\n",
       "      <td>NONE</td>\n",
       "      <td>39.329603</td>\n",
       "      <td>-82.127926</td>\n",
       "    </tr>\n",
       "    <tr>\n",
       "      <th>4</th>\n",
       "      <td>4</td>\n",
       "      <td>2023-08-17 15:14:31</td>\n",
       "      <td>EMERGENCY_MODE</td>\n",
       "      <td>False</td>\n",
       "      <td>NONE</td>\n",
       "      <td>39.329602</td>\n",
       "      <td>-82.127926</td>\n",
       "    </tr>\n",
       "    <tr>\n",
       "      <th>...</th>\n",
       "      <td>...</td>\n",
       "      <td>...</td>\n",
       "      <td>...</td>\n",
       "      <td>...</td>\n",
       "      <td>...</td>\n",
       "      <td>...</td>\n",
       "      <td>...</td>\n",
       "    </tr>\n",
       "    <tr>\n",
       "      <th>1264</th>\n",
       "      <td>2157</td>\n",
       "      <td>2023-08-17 15:47:43</td>\n",
       "      <td>EMERGENCY_MODE</td>\n",
       "      <td>False</td>\n",
       "      <td>NONE</td>\n",
       "      <td>39.330517</td>\n",
       "      <td>-82.128211</td>\n",
       "    </tr>\n",
       "    <tr>\n",
       "      <th>1265</th>\n",
       "      <td>2158</td>\n",
       "      <td>2023-08-17 15:47:44</td>\n",
       "      <td>EMERGENCY_MODE</td>\n",
       "      <td>False</td>\n",
       "      <td>NONE</td>\n",
       "      <td>39.330517</td>\n",
       "      <td>-82.128211</td>\n",
       "    </tr>\n",
       "    <tr>\n",
       "      <th>1266</th>\n",
       "      <td>2159</td>\n",
       "      <td>2023-08-17 15:47:45</td>\n",
       "      <td>EMERGENCY_MODE</td>\n",
       "      <td>False</td>\n",
       "      <td>NONE</td>\n",
       "      <td>39.330517</td>\n",
       "      <td>-82.128211</td>\n",
       "    </tr>\n",
       "    <tr>\n",
       "      <th>1267</th>\n",
       "      <td>2160</td>\n",
       "      <td>2023-08-17 15:47:46</td>\n",
       "      <td>EMERGENCY_MODE</td>\n",
       "      <td>False</td>\n",
       "      <td>NONE</td>\n",
       "      <td>39.330517</td>\n",
       "      <td>-82.128211</td>\n",
       "    </tr>\n",
       "    <tr>\n",
       "      <th>1268</th>\n",
       "      <td>2161</td>\n",
       "      <td>2023-08-17 15:47:47</td>\n",
       "      <td>EMERGENCY_MODE</td>\n",
       "      <td>False</td>\n",
       "      <td>NONE</td>\n",
       "      <td>39.330517</td>\n",
       "      <td>-82.128211</td>\n",
       "    </tr>\n",
       "  </tbody>\n",
       "</table>\n",
       "<p>1269 rows × 7 columns</p>\n",
       "</div>"
      ],
      "text/plain": [
       "      full_index                time     drivingMode  transition  \\\n",
       "0              0 2023-08-17 15:14:27  EMERGENCY_MODE       False   \n",
       "1              1 2023-08-17 15:14:28  EMERGENCY_MODE       False   \n",
       "2              2 2023-08-17 15:14:29  EMERGENCY_MODE       False   \n",
       "3              3 2023-08-17 15:14:30  EMERGENCY_MODE       False   \n",
       "4              4 2023-08-17 15:14:31  EMERGENCY_MODE       False   \n",
       "...          ...                 ...             ...         ...   \n",
       "1264        2157 2023-08-17 15:47:43  EMERGENCY_MODE       False   \n",
       "1265        2158 2023-08-17 15:47:44  EMERGENCY_MODE       False   \n",
       "1266        2159 2023-08-17 15:47:45  EMERGENCY_MODE       False   \n",
       "1267        2160 2023-08-17 15:47:46  EMERGENCY_MODE       False   \n",
       "1268        2161 2023-08-17 15:47:47  EMERGENCY_MODE       False   \n",
       "\n",
       "     transitionType   latitude  longitude  \n",
       "0              NONE  39.329602 -82.127926  \n",
       "1              NONE  39.329603 -82.127926  \n",
       "2              NONE  39.329602 -82.127926  \n",
       "3              NONE  39.329603 -82.127926  \n",
       "4              NONE  39.329602 -82.127926  \n",
       "...             ...        ...        ...  \n",
       "1264           NONE  39.330517 -82.128211  \n",
       "1265           NONE  39.330517 -82.128211  \n",
       "1266           NONE  39.330517 -82.128211  \n",
       "1267           NONE  39.330517 -82.128211  \n",
       "1268           NONE  39.330517 -82.128211  \n",
       "\n",
       "[1269 rows x 7 columns]"
      ]
     },
     "execution_count": 31,
     "metadata": {},
     "output_type": "execute_result"
    }
   ],
   "source": [
    "merged_df"
   ]
  },
  {
   "cell_type": "code",
   "execution_count": 32,
   "id": "7c682429",
   "metadata": {},
   "outputs": [
    {
     "data": {
      "text/html": [
       "<div>\n",
       "<style scoped>\n",
       "    .dataframe tbody tr th:only-of-type {\n",
       "        vertical-align: middle;\n",
       "    }\n",
       "\n",
       "    .dataframe tbody tr th {\n",
       "        vertical-align: top;\n",
       "    }\n",
       "\n",
       "    .dataframe thead th {\n",
       "        text-align: right;\n",
       "    }\n",
       "</style>\n",
       "<table border=\"1\" class=\"dataframe\">\n",
       "  <thead>\n",
       "    <tr style=\"text-align: right;\">\n",
       "      <th></th>\n",
       "      <th>full_index</th>\n",
       "      <th>time</th>\n",
       "      <th>drivingMode</th>\n",
       "      <th>transition</th>\n",
       "      <th>transitionType</th>\n",
       "      <th>latitude</th>\n",
       "      <th>longitude</th>\n",
       "    </tr>\n",
       "  </thead>\n",
       "  <tbody>\n",
       "    <tr>\n",
       "      <th>52</th>\n",
       "      <td>66</td>\n",
       "      <td>2023-08-17 15:15:22</td>\n",
       "      <td>COMPLETE_AUTO_DRIVE</td>\n",
       "      <td>True</td>\n",
       "      <td>M-&gt;A</td>\n",
       "      <td>39.329528</td>\n",
       "      <td>-82.126124</td>\n",
       "    </tr>\n",
       "    <tr>\n",
       "      <th>137</th>\n",
       "      <td>155</td>\n",
       "      <td>2023-08-17 15:16:50</td>\n",
       "      <td>EMERGENCY_MODE</td>\n",
       "      <td>True</td>\n",
       "      <td>A-&gt;M</td>\n",
       "      <td>39.320644</td>\n",
       "      <td>-82.107480</td>\n",
       "    </tr>\n",
       "    <tr>\n",
       "      <th>169</th>\n",
       "      <td>194</td>\n",
       "      <td>2023-08-17 15:17:25</td>\n",
       "      <td>COMPLETE_AUTO_DRIVE</td>\n",
       "      <td>True</td>\n",
       "      <td>M-&gt;A</td>\n",
       "      <td>39.319728</td>\n",
       "      <td>-82.105326</td>\n",
       "    </tr>\n",
       "    <tr>\n",
       "      <th>227</th>\n",
       "      <td>287</td>\n",
       "      <td>2023-08-17 15:18:57</td>\n",
       "      <td>EMERGENCY_MODE</td>\n",
       "      <td>True</td>\n",
       "      <td>A-&gt;M</td>\n",
       "      <td>39.326651</td>\n",
       "      <td>-82.102108</td>\n",
       "    </tr>\n",
       "    <tr>\n",
       "      <th>236</th>\n",
       "      <td>307</td>\n",
       "      <td>2023-08-17 15:19:05</td>\n",
       "      <td>COMPLETE_AUTO_DRIVE</td>\n",
       "      <td>True</td>\n",
       "      <td>M-&gt;A</td>\n",
       "      <td>39.326623</td>\n",
       "      <td>-82.101713</td>\n",
       "    </tr>\n",
       "    <tr>\n",
       "      <th>289</th>\n",
       "      <td>405</td>\n",
       "      <td>2023-08-17 15:20:52</td>\n",
       "      <td>EMERGENCY_MODE</td>\n",
       "      <td>True</td>\n",
       "      <td>A-&gt;M</td>\n",
       "      <td>39.327251</td>\n",
       "      <td>-82.101367</td>\n",
       "    </tr>\n",
       "    <tr>\n",
       "      <th>353</th>\n",
       "      <td>538</td>\n",
       "      <td>2023-08-17 15:22:44</td>\n",
       "      <td>COMPLETE_AUTO_DRIVE</td>\n",
       "      <td>True</td>\n",
       "      <td>M-&gt;A</td>\n",
       "      <td>39.329078</td>\n",
       "      <td>-82.102628</td>\n",
       "    </tr>\n",
       "    <tr>\n",
       "      <th>373</th>\n",
       "      <td>572</td>\n",
       "      <td>2023-08-17 15:23:09</td>\n",
       "      <td>EMERGENCY_MODE</td>\n",
       "      <td>True</td>\n",
       "      <td>A-&gt;M</td>\n",
       "      <td>39.327763</td>\n",
       "      <td>-82.102733</td>\n",
       "    </tr>\n",
       "    <tr>\n",
       "      <th>379</th>\n",
       "      <td>587</td>\n",
       "      <td>2023-08-17 15:23:20</td>\n",
       "      <td>COMPLETE_AUTO_DRIVE</td>\n",
       "      <td>True</td>\n",
       "      <td>M-&gt;A</td>\n",
       "      <td>39.327737</td>\n",
       "      <td>-82.102744</td>\n",
       "    </tr>\n",
       "    <tr>\n",
       "      <th>399</th>\n",
       "      <td>627</td>\n",
       "      <td>2023-08-17 15:23:56</td>\n",
       "      <td>EMERGENCY_MODE</td>\n",
       "      <td>True</td>\n",
       "      <td>A-&gt;M</td>\n",
       "      <td>39.328951</td>\n",
       "      <td>-82.104938</td>\n",
       "    </tr>\n",
       "    <tr>\n",
       "      <th>413</th>\n",
       "      <td>663</td>\n",
       "      <td>2023-08-17 15:24:22</td>\n",
       "      <td>COMPLETE_AUTO_DRIVE</td>\n",
       "      <td>True</td>\n",
       "      <td>M-&gt;A</td>\n",
       "      <td>39.329446</td>\n",
       "      <td>-82.107703</td>\n",
       "    </tr>\n",
       "    <tr>\n",
       "      <th>501</th>\n",
       "      <td>843</td>\n",
       "      <td>2023-08-17 15:27:26</td>\n",
       "      <td>EMERGENCY_MODE</td>\n",
       "      <td>True</td>\n",
       "      <td>A-&gt;M</td>\n",
       "      <td>39.330647</td>\n",
       "      <td>-82.126730</td>\n",
       "    </tr>\n",
       "    <tr>\n",
       "      <th>506</th>\n",
       "      <td>865</td>\n",
       "      <td>2023-08-17 15:27:30</td>\n",
       "      <td>COMPLETE_AUTO_DRIVE</td>\n",
       "      <td>True</td>\n",
       "      <td>M-&gt;A</td>\n",
       "      <td>39.330467</td>\n",
       "      <td>-82.127142</td>\n",
       "    </tr>\n",
       "    <tr>\n",
       "      <th>568</th>\n",
       "      <td>955</td>\n",
       "      <td>2023-08-17 15:28:58</td>\n",
       "      <td>EMERGENCY_MODE</td>\n",
       "      <td>True</td>\n",
       "      <td>A-&gt;M</td>\n",
       "      <td>39.330473</td>\n",
       "      <td>-82.128025</td>\n",
       "    </tr>\n",
       "    <tr>\n",
       "      <th>576</th>\n",
       "      <td>974</td>\n",
       "      <td>2023-08-17 15:29:14</td>\n",
       "      <td>COMPLETE_AUTO_DRIVE</td>\n",
       "      <td>True</td>\n",
       "      <td>M-&gt;A</td>\n",
       "      <td>39.332045</td>\n",
       "      <td>-82.130148</td>\n",
       "    </tr>\n",
       "    <tr>\n",
       "      <th>777</th>\n",
       "      <td>1299</td>\n",
       "      <td>2023-08-17 15:34:32</td>\n",
       "      <td>EMERGENCY_MODE</td>\n",
       "      <td>True</td>\n",
       "      <td>A-&gt;M</td>\n",
       "      <td>39.375908</td>\n",
       "      <td>-82.134433</td>\n",
       "    </tr>\n",
       "    <tr>\n",
       "      <th>780</th>\n",
       "      <td>1307</td>\n",
       "      <td>2023-08-17 15:34:35</td>\n",
       "      <td>COMPLETE_AUTO_DRIVE</td>\n",
       "      <td>True</td>\n",
       "      <td>M-&gt;A</td>\n",
       "      <td>39.376198</td>\n",
       "      <td>-82.134524</td>\n",
       "    </tr>\n",
       "    <tr>\n",
       "      <th>806</th>\n",
       "      <td>1342</td>\n",
       "      <td>2023-08-17 15:35:08</td>\n",
       "      <td>EMERGENCY_MODE</td>\n",
       "      <td>True</td>\n",
       "      <td>A-&gt;M</td>\n",
       "      <td>39.378515</td>\n",
       "      <td>-82.135271</td>\n",
       "    </tr>\n",
       "    <tr>\n",
       "      <th>814</th>\n",
       "      <td>1353</td>\n",
       "      <td>2023-08-17 15:35:15</td>\n",
       "      <td>COMPLETE_AUTO_DRIVE</td>\n",
       "      <td>True</td>\n",
       "      <td>M-&gt;A</td>\n",
       "      <td>39.379052</td>\n",
       "      <td>-82.135454</td>\n",
       "    </tr>\n",
       "    <tr>\n",
       "      <th>875</th>\n",
       "      <td>1425</td>\n",
       "      <td>2023-08-17 15:36:29</td>\n",
       "      <td>EMERGENCY_MODE</td>\n",
       "      <td>True</td>\n",
       "      <td>A-&gt;M</td>\n",
       "      <td>39.385880</td>\n",
       "      <td>-82.138236</td>\n",
       "    </tr>\n",
       "    <tr>\n",
       "      <th>889</th>\n",
       "      <td>1462</td>\n",
       "      <td>2023-08-17 15:36:56</td>\n",
       "      <td>COMPLETE_AUTO_DRIVE</td>\n",
       "      <td>True</td>\n",
       "      <td>M-&gt;A</td>\n",
       "      <td>39.387741</td>\n",
       "      <td>-82.140652</td>\n",
       "    </tr>\n",
       "    <tr>\n",
       "      <th>891</th>\n",
       "      <td>1466</td>\n",
       "      <td>2023-08-17 15:36:58</td>\n",
       "      <td>EMERGENCY_MODE</td>\n",
       "      <td>True</td>\n",
       "      <td>A-&gt;M</td>\n",
       "      <td>39.387612</td>\n",
       "      <td>-82.140784</td>\n",
       "    </tr>\n",
       "    <tr>\n",
       "      <th>896</th>\n",
       "      <td>1473</td>\n",
       "      <td>2023-08-17 15:37:01</td>\n",
       "      <td>COMPLETE_AUTO_DRIVE</td>\n",
       "      <td>True</td>\n",
       "      <td>M-&gt;A</td>\n",
       "      <td>39.387421</td>\n",
       "      <td>-82.141020</td>\n",
       "    </tr>\n",
       "    <tr>\n",
       "      <th>912</th>\n",
       "      <td>1506</td>\n",
       "      <td>2023-08-17 15:37:36</td>\n",
       "      <td>EMERGENCY_MODE</td>\n",
       "      <td>True</td>\n",
       "      <td>A-&gt;M</td>\n",
       "      <td>39.385872</td>\n",
       "      <td>-82.143904</td>\n",
       "    </tr>\n",
       "    <tr>\n",
       "      <th>916</th>\n",
       "      <td>1520</td>\n",
       "      <td>2023-08-17 15:37:46</td>\n",
       "      <td>COMPLETE_AUTO_DRIVE</td>\n",
       "      <td>True</td>\n",
       "      <td>M-&gt;A</td>\n",
       "      <td>39.384798</td>\n",
       "      <td>-82.143831</td>\n",
       "    </tr>\n",
       "    <tr>\n",
       "      <th>949</th>\n",
       "      <td>1594</td>\n",
       "      <td>2023-08-17 15:38:49</td>\n",
       "      <td>EMERGENCY_MODE</td>\n",
       "      <td>True</td>\n",
       "      <td>A-&gt;M</td>\n",
       "      <td>39.378639</td>\n",
       "      <td>-82.143574</td>\n",
       "    </tr>\n",
       "    <tr>\n",
       "      <th>954</th>\n",
       "      <td>1602</td>\n",
       "      <td>2023-08-17 15:38:53</td>\n",
       "      <td>COMPLETE_AUTO_DRIVE</td>\n",
       "      <td>True</td>\n",
       "      <td>M-&gt;A</td>\n",
       "      <td>39.378350</td>\n",
       "      <td>-82.143245</td>\n",
       "    </tr>\n",
       "    <tr>\n",
       "      <th>978</th>\n",
       "      <td>1653</td>\n",
       "      <td>2023-08-17 15:39:42</td>\n",
       "      <td>EMERGENCY_MODE</td>\n",
       "      <td>True</td>\n",
       "      <td>A-&gt;M</td>\n",
       "      <td>39.376975</td>\n",
       "      <td>-82.142026</td>\n",
       "    </tr>\n",
       "    <tr>\n",
       "      <th>991</th>\n",
       "      <td>1683</td>\n",
       "      <td>2023-08-17 15:40:00</td>\n",
       "      <td>COMPLETE_AUTO_DRIVE</td>\n",
       "      <td>True</td>\n",
       "      <td>M-&gt;A</td>\n",
       "      <td>39.376963</td>\n",
       "      <td>-82.141485</td>\n",
       "    </tr>\n",
       "    <tr>\n",
       "      <th>993</th>\n",
       "      <td>1687</td>\n",
       "      <td>2023-08-17 15:40:05</td>\n",
       "      <td>EMERGENCY_MODE</td>\n",
       "      <td>True</td>\n",
       "      <td>A-&gt;M</td>\n",
       "      <td>39.377027</td>\n",
       "      <td>-82.141229</td>\n",
       "    </tr>\n",
       "    <tr>\n",
       "      <th>999</th>\n",
       "      <td>1704</td>\n",
       "      <td>2023-08-17 15:40:16</td>\n",
       "      <td>COMPLETE_AUTO_DRIVE</td>\n",
       "      <td>True</td>\n",
       "      <td>M-&gt;A</td>\n",
       "      <td>39.377614</td>\n",
       "      <td>-82.140047</td>\n",
       "    </tr>\n",
       "    <tr>\n",
       "      <th>1240</th>\n",
       "      <td>2115</td>\n",
       "      <td>2023-08-17 15:47:01</td>\n",
       "      <td>EMERGENCY_MODE</td>\n",
       "      <td>True</td>\n",
       "      <td>A-&gt;M</td>\n",
       "      <td>39.333567</td>\n",
       "      <td>-82.131870</td>\n",
       "    </tr>\n",
       "  </tbody>\n",
       "</table>\n",
       "</div>"
      ],
      "text/plain": [
       "      full_index                time          drivingMode  transition  \\\n",
       "52            66 2023-08-17 15:15:22  COMPLETE_AUTO_DRIVE        True   \n",
       "137          155 2023-08-17 15:16:50       EMERGENCY_MODE        True   \n",
       "169          194 2023-08-17 15:17:25  COMPLETE_AUTO_DRIVE        True   \n",
       "227          287 2023-08-17 15:18:57       EMERGENCY_MODE        True   \n",
       "236          307 2023-08-17 15:19:05  COMPLETE_AUTO_DRIVE        True   \n",
       "289          405 2023-08-17 15:20:52       EMERGENCY_MODE        True   \n",
       "353          538 2023-08-17 15:22:44  COMPLETE_AUTO_DRIVE        True   \n",
       "373          572 2023-08-17 15:23:09       EMERGENCY_MODE        True   \n",
       "379          587 2023-08-17 15:23:20  COMPLETE_AUTO_DRIVE        True   \n",
       "399          627 2023-08-17 15:23:56       EMERGENCY_MODE        True   \n",
       "413          663 2023-08-17 15:24:22  COMPLETE_AUTO_DRIVE        True   \n",
       "501          843 2023-08-17 15:27:26       EMERGENCY_MODE        True   \n",
       "506          865 2023-08-17 15:27:30  COMPLETE_AUTO_DRIVE        True   \n",
       "568          955 2023-08-17 15:28:58       EMERGENCY_MODE        True   \n",
       "576          974 2023-08-17 15:29:14  COMPLETE_AUTO_DRIVE        True   \n",
       "777         1299 2023-08-17 15:34:32       EMERGENCY_MODE        True   \n",
       "780         1307 2023-08-17 15:34:35  COMPLETE_AUTO_DRIVE        True   \n",
       "806         1342 2023-08-17 15:35:08       EMERGENCY_MODE        True   \n",
       "814         1353 2023-08-17 15:35:15  COMPLETE_AUTO_DRIVE        True   \n",
       "875         1425 2023-08-17 15:36:29       EMERGENCY_MODE        True   \n",
       "889         1462 2023-08-17 15:36:56  COMPLETE_AUTO_DRIVE        True   \n",
       "891         1466 2023-08-17 15:36:58       EMERGENCY_MODE        True   \n",
       "896         1473 2023-08-17 15:37:01  COMPLETE_AUTO_DRIVE        True   \n",
       "912         1506 2023-08-17 15:37:36       EMERGENCY_MODE        True   \n",
       "916         1520 2023-08-17 15:37:46  COMPLETE_AUTO_DRIVE        True   \n",
       "949         1594 2023-08-17 15:38:49       EMERGENCY_MODE        True   \n",
       "954         1602 2023-08-17 15:38:53  COMPLETE_AUTO_DRIVE        True   \n",
       "978         1653 2023-08-17 15:39:42       EMERGENCY_MODE        True   \n",
       "991         1683 2023-08-17 15:40:00  COMPLETE_AUTO_DRIVE        True   \n",
       "993         1687 2023-08-17 15:40:05       EMERGENCY_MODE        True   \n",
       "999         1704 2023-08-17 15:40:16  COMPLETE_AUTO_DRIVE        True   \n",
       "1240        2115 2023-08-17 15:47:01       EMERGENCY_MODE        True   \n",
       "\n",
       "     transitionType   latitude  longitude  \n",
       "52             M->A  39.329528 -82.126124  \n",
       "137            A->M  39.320644 -82.107480  \n",
       "169            M->A  39.319728 -82.105326  \n",
       "227            A->M  39.326651 -82.102108  \n",
       "236            M->A  39.326623 -82.101713  \n",
       "289            A->M  39.327251 -82.101367  \n",
       "353            M->A  39.329078 -82.102628  \n",
       "373            A->M  39.327763 -82.102733  \n",
       "379            M->A  39.327737 -82.102744  \n",
       "399            A->M  39.328951 -82.104938  \n",
       "413            M->A  39.329446 -82.107703  \n",
       "501            A->M  39.330647 -82.126730  \n",
       "506            M->A  39.330467 -82.127142  \n",
       "568            A->M  39.330473 -82.128025  \n",
       "576            M->A  39.332045 -82.130148  \n",
       "777            A->M  39.375908 -82.134433  \n",
       "780            M->A  39.376198 -82.134524  \n",
       "806            A->M  39.378515 -82.135271  \n",
       "814            M->A  39.379052 -82.135454  \n",
       "875            A->M  39.385880 -82.138236  \n",
       "889            M->A  39.387741 -82.140652  \n",
       "891            A->M  39.387612 -82.140784  \n",
       "896            M->A  39.387421 -82.141020  \n",
       "912            A->M  39.385872 -82.143904  \n",
       "916            M->A  39.384798 -82.143831  \n",
       "949            A->M  39.378639 -82.143574  \n",
       "954            M->A  39.378350 -82.143245  \n",
       "978            A->M  39.376975 -82.142026  \n",
       "991            M->A  39.376963 -82.141485  \n",
       "993            A->M  39.377027 -82.141229  \n",
       "999            M->A  39.377614 -82.140047  \n",
       "1240           A->M  39.333567 -82.131870  "
      ]
     },
     "execution_count": 32,
     "metadata": {},
     "output_type": "execute_result"
    }
   ],
   "source": [
    "automatedDF"
   ]
  },
  {
   "cell_type": "code",
   "execution_count": 33,
   "id": "4ba8ee8e-c2bf-46e5-a1bc-5f805200ee6a",
   "metadata": {},
   "outputs": [
    {
     "name": "stdout",
     "output_type": "stream",
     "text": [
      "52: M->A\n",
      "no pair for 52: M->A\n",
      "137: A->M\n",
      "169: M->A\n",
      "227: A->M\n",
      "236: M->A\n",
      "289: A->M\n",
      "353: M->A\n",
      "373: A->M\n",
      "379: M->A\n",
      "399: A->M\n",
      "413: M->A\n",
      "501: A->M\n",
      "506: M->A\n",
      "568: A->M\n",
      "576: M->A\n",
      "777: A->M\n",
      "780: M->A\n",
      "806: A->M\n",
      "814: M->A\n",
      "875: A->M\n",
      "889: M->A\n",
      "891: A->M\n",
      "896: M->A\n",
      "912: A->M\n",
      "916: M->A\n",
      "949: A->M\n",
      "954: M->A\n",
      "978: A->M\n",
      "991: M->A\n",
      "993: A->M\n",
      "999: M->A\n",
      "1240: A->M\n"
     ]
    }
   ],
   "source": [
    "# create a pairing system so we know start and end positions\n",
    "pair = True\n",
    "# list to hold the entries\n",
    "documents = []\n",
    "# iterate over the list\n",
    "for index, row in automatedDF.iterrows():\n",
    "    print(f\"{index}:\", row['transitionType'])\n",
    "    if pair == False:\n",
    "        # log the end time of transitioning back into automatic\n",
    "        endTime = row['time']\n",
    "        endingLoc = [row['latitude'], row['longitude']]\n",
    "        stoppingIndex = row[\"full_index\"]\n",
    "        \n",
    "        # create our document here since we know we have a pair at the moment\n",
    "        document = {\n",
    "            'gmID': gmID,\n",
    "            'Start Time': startTime,\n",
    "            'Stop Time': endTime,\n",
    "            'Start Lat': startingLoc[0],\n",
    "            'Start Long': startingLoc[1],\n",
    "            'Start Index': startingIndex,\n",
    "            'Stop Lat': endingLoc[0],\n",
    "            'Stop Long': endingLoc[1],\n",
    "            'Stop Index': stoppingIndex,\n",
    "            'Notes': '',\n",
    "            'Features Present': '',\n",
    "            'Image': ''\n",
    "        }\n",
    "        documents.append(document)\n",
    "        pair = True\n",
    "    elif row['transitionType'] == 'A->M':\n",
    "        startTime = row['time']\n",
    "        startingLoc = [row['latitude'], row['longitude']]\n",
    "        startingIndex = row[\"full_index\"]\n",
    "        # print(f'{startTime} location: {startingLoc}')\n",
    "        pair = False\n",
    "    else:\n",
    "        print(f\"no pair for {index}:\", row['transitionType'])\n",
    "        # raise Exception(\"Error!\")\n",
    "\n",
    "\n",
    "if not os.path.exists(f\"./data/logged\"):\n",
    "    os.makedirs(f\"./data/logged\")\n",
    "# print(documents)\n",
    "autoOutput = pd.DataFrame(documents)"
   ]
  },
  {
   "cell_type": "code",
   "execution_count": 34,
   "id": "4e2a61be",
   "metadata": {},
   "outputs": [],
   "source": [
    "#show(merged_df)\n",
    "#show(full_merged_df)"
   ]
  },
  {
   "cell_type": "code",
   "execution_count": 35,
   "id": "f4edb23b",
   "metadata": {},
   "outputs": [
    {
     "data": {
      "text/html": [
       "<div>\n",
       "<style scoped>\n",
       "    .dataframe tbody tr th:only-of-type {\n",
       "        vertical-align: middle;\n",
       "    }\n",
       "\n",
       "    .dataframe tbody tr th {\n",
       "        vertical-align: top;\n",
       "    }\n",
       "\n",
       "    .dataframe thead th {\n",
       "        text-align: right;\n",
       "    }\n",
       "</style>\n",
       "<table border=\"1\" class=\"dataframe\">\n",
       "  <thead>\n",
       "    <tr style=\"text-align: right;\">\n",
       "      <th></th>\n",
       "      <th>gmID</th>\n",
       "      <th>Start Time</th>\n",
       "      <th>Stop Time</th>\n",
       "      <th>Start Lat</th>\n",
       "      <th>Start Long</th>\n",
       "      <th>Start Index</th>\n",
       "      <th>Stop Lat</th>\n",
       "      <th>Stop Long</th>\n",
       "      <th>Stop Index</th>\n",
       "      <th>Notes</th>\n",
       "      <th>Features Present</th>\n",
       "      <th>Image</th>\n",
       "    </tr>\n",
       "  </thead>\n",
       "  <tbody>\n",
       "    <tr>\n",
       "      <th>0</th>\n",
       "      <td>3a2a78cc-db21-11ee-a158-97f8443fd730</td>\n",
       "      <td>2023-08-17 15:16:50</td>\n",
       "      <td>2023-08-17 15:17:25</td>\n",
       "      <td>39.320644</td>\n",
       "      <td>-82.107480</td>\n",
       "      <td>155</td>\n",
       "      <td>39.319728</td>\n",
       "      <td>-82.105326</td>\n",
       "      <td>194</td>\n",
       "      <td></td>\n",
       "      <td></td>\n",
       "      <td></td>\n",
       "    </tr>\n",
       "    <tr>\n",
       "      <th>1</th>\n",
       "      <td>3a2a78cc-db21-11ee-a158-97f8443fd730</td>\n",
       "      <td>2023-08-17 15:18:57</td>\n",
       "      <td>2023-08-17 15:19:05</td>\n",
       "      <td>39.326651</td>\n",
       "      <td>-82.102108</td>\n",
       "      <td>287</td>\n",
       "      <td>39.326623</td>\n",
       "      <td>-82.101713</td>\n",
       "      <td>307</td>\n",
       "      <td></td>\n",
       "      <td></td>\n",
       "      <td></td>\n",
       "    </tr>\n",
       "    <tr>\n",
       "      <th>2</th>\n",
       "      <td>3a2a78cc-db21-11ee-a158-97f8443fd730</td>\n",
       "      <td>2023-08-17 15:20:52</td>\n",
       "      <td>2023-08-17 15:22:44</td>\n",
       "      <td>39.327251</td>\n",
       "      <td>-82.101367</td>\n",
       "      <td>405</td>\n",
       "      <td>39.329078</td>\n",
       "      <td>-82.102628</td>\n",
       "      <td>538</td>\n",
       "      <td></td>\n",
       "      <td></td>\n",
       "      <td></td>\n",
       "    </tr>\n",
       "    <tr>\n",
       "      <th>3</th>\n",
       "      <td>3a2a78cc-db21-11ee-a158-97f8443fd730</td>\n",
       "      <td>2023-08-17 15:23:09</td>\n",
       "      <td>2023-08-17 15:23:20</td>\n",
       "      <td>39.327763</td>\n",
       "      <td>-82.102733</td>\n",
       "      <td>572</td>\n",
       "      <td>39.327737</td>\n",
       "      <td>-82.102744</td>\n",
       "      <td>587</td>\n",
       "      <td></td>\n",
       "      <td></td>\n",
       "      <td></td>\n",
       "    </tr>\n",
       "    <tr>\n",
       "      <th>4</th>\n",
       "      <td>3a2a78cc-db21-11ee-a158-97f8443fd730</td>\n",
       "      <td>2023-08-17 15:23:56</td>\n",
       "      <td>2023-08-17 15:24:22</td>\n",
       "      <td>39.328951</td>\n",
       "      <td>-82.104938</td>\n",
       "      <td>627</td>\n",
       "      <td>39.329446</td>\n",
       "      <td>-82.107703</td>\n",
       "      <td>663</td>\n",
       "      <td></td>\n",
       "      <td></td>\n",
       "      <td></td>\n",
       "    </tr>\n",
       "    <tr>\n",
       "      <th>5</th>\n",
       "      <td>3a2a78cc-db21-11ee-a158-97f8443fd730</td>\n",
       "      <td>2023-08-17 15:27:26</td>\n",
       "      <td>2023-08-17 15:27:30</td>\n",
       "      <td>39.330647</td>\n",
       "      <td>-82.126730</td>\n",
       "      <td>843</td>\n",
       "      <td>39.330467</td>\n",
       "      <td>-82.127142</td>\n",
       "      <td>865</td>\n",
       "      <td></td>\n",
       "      <td></td>\n",
       "      <td></td>\n",
       "    </tr>\n",
       "    <tr>\n",
       "      <th>6</th>\n",
       "      <td>3a2a78cc-db21-11ee-a158-97f8443fd730</td>\n",
       "      <td>2023-08-17 15:28:58</td>\n",
       "      <td>2023-08-17 15:29:14</td>\n",
       "      <td>39.330473</td>\n",
       "      <td>-82.128025</td>\n",
       "      <td>955</td>\n",
       "      <td>39.332045</td>\n",
       "      <td>-82.130148</td>\n",
       "      <td>974</td>\n",
       "      <td></td>\n",
       "      <td></td>\n",
       "      <td></td>\n",
       "    </tr>\n",
       "    <tr>\n",
       "      <th>7</th>\n",
       "      <td>3a2a78cc-db21-11ee-a158-97f8443fd730</td>\n",
       "      <td>2023-08-17 15:34:32</td>\n",
       "      <td>2023-08-17 15:34:35</td>\n",
       "      <td>39.375908</td>\n",
       "      <td>-82.134433</td>\n",
       "      <td>1299</td>\n",
       "      <td>39.376198</td>\n",
       "      <td>-82.134524</td>\n",
       "      <td>1307</td>\n",
       "      <td></td>\n",
       "      <td></td>\n",
       "      <td></td>\n",
       "    </tr>\n",
       "    <tr>\n",
       "      <th>8</th>\n",
       "      <td>3a2a78cc-db21-11ee-a158-97f8443fd730</td>\n",
       "      <td>2023-08-17 15:35:08</td>\n",
       "      <td>2023-08-17 15:35:15</td>\n",
       "      <td>39.378515</td>\n",
       "      <td>-82.135271</td>\n",
       "      <td>1342</td>\n",
       "      <td>39.379052</td>\n",
       "      <td>-82.135454</td>\n",
       "      <td>1353</td>\n",
       "      <td></td>\n",
       "      <td></td>\n",
       "      <td></td>\n",
       "    </tr>\n",
       "    <tr>\n",
       "      <th>9</th>\n",
       "      <td>3a2a78cc-db21-11ee-a158-97f8443fd730</td>\n",
       "      <td>2023-08-17 15:36:29</td>\n",
       "      <td>2023-08-17 15:36:56</td>\n",
       "      <td>39.385880</td>\n",
       "      <td>-82.138236</td>\n",
       "      <td>1425</td>\n",
       "      <td>39.387741</td>\n",
       "      <td>-82.140652</td>\n",
       "      <td>1462</td>\n",
       "      <td></td>\n",
       "      <td></td>\n",
       "      <td></td>\n",
       "    </tr>\n",
       "    <tr>\n",
       "      <th>10</th>\n",
       "      <td>3a2a78cc-db21-11ee-a158-97f8443fd730</td>\n",
       "      <td>2023-08-17 15:36:58</td>\n",
       "      <td>2023-08-17 15:37:01</td>\n",
       "      <td>39.387612</td>\n",
       "      <td>-82.140784</td>\n",
       "      <td>1466</td>\n",
       "      <td>39.387421</td>\n",
       "      <td>-82.141020</td>\n",
       "      <td>1473</td>\n",
       "      <td></td>\n",
       "      <td></td>\n",
       "      <td></td>\n",
       "    </tr>\n",
       "    <tr>\n",
       "      <th>11</th>\n",
       "      <td>3a2a78cc-db21-11ee-a158-97f8443fd730</td>\n",
       "      <td>2023-08-17 15:37:36</td>\n",
       "      <td>2023-08-17 15:37:46</td>\n",
       "      <td>39.385872</td>\n",
       "      <td>-82.143904</td>\n",
       "      <td>1506</td>\n",
       "      <td>39.384798</td>\n",
       "      <td>-82.143831</td>\n",
       "      <td>1520</td>\n",
       "      <td></td>\n",
       "      <td></td>\n",
       "      <td></td>\n",
       "    </tr>\n",
       "    <tr>\n",
       "      <th>12</th>\n",
       "      <td>3a2a78cc-db21-11ee-a158-97f8443fd730</td>\n",
       "      <td>2023-08-17 15:38:49</td>\n",
       "      <td>2023-08-17 15:38:53</td>\n",
       "      <td>39.378639</td>\n",
       "      <td>-82.143574</td>\n",
       "      <td>1594</td>\n",
       "      <td>39.378350</td>\n",
       "      <td>-82.143245</td>\n",
       "      <td>1602</td>\n",
       "      <td></td>\n",
       "      <td></td>\n",
       "      <td></td>\n",
       "    </tr>\n",
       "    <tr>\n",
       "      <th>13</th>\n",
       "      <td>3a2a78cc-db21-11ee-a158-97f8443fd730</td>\n",
       "      <td>2023-08-17 15:39:42</td>\n",
       "      <td>2023-08-17 15:40:00</td>\n",
       "      <td>39.376975</td>\n",
       "      <td>-82.142026</td>\n",
       "      <td>1653</td>\n",
       "      <td>39.376963</td>\n",
       "      <td>-82.141485</td>\n",
       "      <td>1683</td>\n",
       "      <td></td>\n",
       "      <td></td>\n",
       "      <td></td>\n",
       "    </tr>\n",
       "    <tr>\n",
       "      <th>14</th>\n",
       "      <td>3a2a78cc-db21-11ee-a158-97f8443fd730</td>\n",
       "      <td>2023-08-17 15:40:05</td>\n",
       "      <td>2023-08-17 15:40:16</td>\n",
       "      <td>39.377027</td>\n",
       "      <td>-82.141229</td>\n",
       "      <td>1687</td>\n",
       "      <td>39.377614</td>\n",
       "      <td>-82.140047</td>\n",
       "      <td>1704</td>\n",
       "      <td></td>\n",
       "      <td></td>\n",
       "      <td></td>\n",
       "    </tr>\n",
       "  </tbody>\n",
       "</table>\n",
       "</div>"
      ],
      "text/plain": [
       "                                    gmID          Start Time  \\\n",
       "0   3a2a78cc-db21-11ee-a158-97f8443fd730 2023-08-17 15:16:50   \n",
       "1   3a2a78cc-db21-11ee-a158-97f8443fd730 2023-08-17 15:18:57   \n",
       "2   3a2a78cc-db21-11ee-a158-97f8443fd730 2023-08-17 15:20:52   \n",
       "3   3a2a78cc-db21-11ee-a158-97f8443fd730 2023-08-17 15:23:09   \n",
       "4   3a2a78cc-db21-11ee-a158-97f8443fd730 2023-08-17 15:23:56   \n",
       "5   3a2a78cc-db21-11ee-a158-97f8443fd730 2023-08-17 15:27:26   \n",
       "6   3a2a78cc-db21-11ee-a158-97f8443fd730 2023-08-17 15:28:58   \n",
       "7   3a2a78cc-db21-11ee-a158-97f8443fd730 2023-08-17 15:34:32   \n",
       "8   3a2a78cc-db21-11ee-a158-97f8443fd730 2023-08-17 15:35:08   \n",
       "9   3a2a78cc-db21-11ee-a158-97f8443fd730 2023-08-17 15:36:29   \n",
       "10  3a2a78cc-db21-11ee-a158-97f8443fd730 2023-08-17 15:36:58   \n",
       "11  3a2a78cc-db21-11ee-a158-97f8443fd730 2023-08-17 15:37:36   \n",
       "12  3a2a78cc-db21-11ee-a158-97f8443fd730 2023-08-17 15:38:49   \n",
       "13  3a2a78cc-db21-11ee-a158-97f8443fd730 2023-08-17 15:39:42   \n",
       "14  3a2a78cc-db21-11ee-a158-97f8443fd730 2023-08-17 15:40:05   \n",
       "\n",
       "             Stop Time  Start Lat  Start Long  Start Index   Stop Lat  \\\n",
       "0  2023-08-17 15:17:25  39.320644  -82.107480          155  39.319728   \n",
       "1  2023-08-17 15:19:05  39.326651  -82.102108          287  39.326623   \n",
       "2  2023-08-17 15:22:44  39.327251  -82.101367          405  39.329078   \n",
       "3  2023-08-17 15:23:20  39.327763  -82.102733          572  39.327737   \n",
       "4  2023-08-17 15:24:22  39.328951  -82.104938          627  39.329446   \n",
       "5  2023-08-17 15:27:30  39.330647  -82.126730          843  39.330467   \n",
       "6  2023-08-17 15:29:14  39.330473  -82.128025          955  39.332045   \n",
       "7  2023-08-17 15:34:35  39.375908  -82.134433         1299  39.376198   \n",
       "8  2023-08-17 15:35:15  39.378515  -82.135271         1342  39.379052   \n",
       "9  2023-08-17 15:36:56  39.385880  -82.138236         1425  39.387741   \n",
       "10 2023-08-17 15:37:01  39.387612  -82.140784         1466  39.387421   \n",
       "11 2023-08-17 15:37:46  39.385872  -82.143904         1506  39.384798   \n",
       "12 2023-08-17 15:38:53  39.378639  -82.143574         1594  39.378350   \n",
       "13 2023-08-17 15:40:00  39.376975  -82.142026         1653  39.376963   \n",
       "14 2023-08-17 15:40:16  39.377027  -82.141229         1687  39.377614   \n",
       "\n",
       "    Stop Long  Stop Index Notes Features Present Image  \n",
       "0  -82.105326         194                               \n",
       "1  -82.101713         307                               \n",
       "2  -82.102628         538                               \n",
       "3  -82.102744         587                               \n",
       "4  -82.107703         663                               \n",
       "5  -82.127142         865                               \n",
       "6  -82.130148         974                               \n",
       "7  -82.134524        1307                               \n",
       "8  -82.135454        1353                               \n",
       "9  -82.140652        1462                               \n",
       "10 -82.141020        1473                               \n",
       "11 -82.143831        1520                               \n",
       "12 -82.143245        1602                               \n",
       "13 -82.141485        1683                               \n",
       "14 -82.140047        1704                               "
      ]
     },
     "execution_count": 35,
     "metadata": {},
     "output_type": "execute_result"
    }
   ],
   "source": [
    "autoOutput"
   ]
  },
  {
   "cell_type": "markdown",
   "id": "56c7cd4d-5c68-471d-a473-a37fcbfeac6c",
   "metadata": {},
   "source": [
    "### Mapping\n"
   ]
  },
  {
   "cell_type": "code",
   "execution_count": 36,
   "metadata": {},
   "outputs": [
    {
     "name": "stdout",
     "output_type": "stream",
     "text": [
      "2161\n",
      "Start: 282\n",
      "Stop: 312\n",
      "lat: 39.32665052280984, Long: -82.10210842107911\n"
     ]
    },
    {
     "name": "stderr",
     "output_type": "stream",
     "text": [
      "/home/vhepola_linux/do-env/lib/python3.10/site-packages/plotly/express/_core.py:2065: FutureWarning:\n",
      "\n",
      "When grouping with a length-1 list-like, you will need to pass a length-1 tuple to get_group in a future version of pandas. Pass `(name,)` instead of `name` to silence this warning.\n",
      "\n"
     ]
    },
    {
     "data": {
      "application/vnd.plotly.v1+json": {
       "config": {
        "plotlyServerURL": "https://plot.ly"
       },
       "data": [
        {
         "customdata": [
          [
           "2023-08-17T15:18:57",
           "EMERGENCY_MODE",
           "NONE"
          ],
          [
           "2023-08-17T15:18:57",
           "EMERGENCY_MODE",
           "NONE"
          ],
          [
           "2023-08-17T15:18:57",
           "EMERGENCY_MODE",
           "NONE"
          ],
          [
           "2023-08-17T15:18:57",
           "EMERGENCY_MODE",
           "NONE"
          ],
          [
           "2023-08-17T15:18:57",
           "EMERGENCY_MODE",
           "NONE"
          ],
          [
           "2023-08-17T15:18:57",
           "EMERGENCY_MODE",
           "NONE"
          ],
          [
           "2023-08-17T15:18:57",
           "EMERGENCY_MODE",
           "A->M"
          ],
          [
           "2023-08-17T15:18:57",
           "EMERGENCY_MODE",
           "A->M"
          ],
          [
           "2023-08-17T15:18:57",
           "EMERGENCY_MODE",
           "A->M"
          ],
          [
           "2023-08-17T15:18:57",
           "EMERGENCY_MODE",
           "A->M"
          ],
          [
           "2023-08-17T15:18:57",
           "EMERGENCY_MODE",
           "A->M"
          ],
          [
           "2023-08-17T15:18:57",
           "EMERGENCY_MODE",
           "A->M"
          ],
          [
           "2023-08-17T15:18:57",
           "EMERGENCY_MODE",
           "A->M"
          ],
          [
           "2023-08-17T15:18:57",
           "EMERGENCY_MODE",
           "A->M"
          ],
          [
           "2023-08-17T15:18:57",
           "EMERGENCY_MODE",
           "A->M"
          ],
          [
           "2023-08-17T15:18:58",
           "EMERGENCY_MODE",
           "NONE"
          ],
          [
           "2023-08-17T15:18:59",
           "EMERGENCY_MODE",
           "NONE"
          ],
          [
           "2023-08-17T15:19:00",
           "EMERGENCY_MODE",
           "NONE"
          ],
          [
           "2023-08-17T15:19:01",
           "EMERGENCY_MODE",
           "NONE"
          ],
          [
           "2023-08-17T15:19:02",
           "EMERGENCY_MODE",
           "NONE"
          ],
          [
           "2023-08-17T15:19:03",
           "EMERGENCY_MODE",
           "NONE"
          ],
          [
           "2023-08-17T15:19:04",
           "EMERGENCY_MODE",
           "NONE"
          ]
         ],
         "hovertemplate": "drivingMode=%{customdata[1]}<br>latitude=%{lat}<br>longitude=%{lon}<br>time=%{customdata[0]}<br>transitionType=%{customdata[2]}<extra></extra>",
         "lat": [
          39.32665052280984,
          39.326656934271774,
          39.32665306010868,
          39.32669163376381,
          39.32666061930451,
          39.3266914340908,
          39.32665052280984,
          39.32665306010868,
          39.326656934271774,
          39.32666061930451,
          39.32666550662153,
          39.32667273050588,
          39.32668351633126,
          39.32669163376381,
          39.3266914340908,
          39.32664834061486,
          39.32664500714526,
          39.3266393893128,
          39.32663221512775,
          39.32662610635032,
          39.32662350553544,
          39.32662351228899
         ],
         "legendgroup": "EMERGENCY_MODE",
         "lon": [
          -82.10210842107911,
          -82.10223560767216,
          -82.10216680862126,
          -82.10263871206476,
          -82.10231168477722,
          -82.1027138271751,
          -82.10210842107911,
          -82.10216680862126,
          -82.10223560767216,
          -82.10231168477722,
          -82.1023856290629,
          -82.10246514857903,
          -82.10255365454243,
          -82.10263871206476,
          -82.1027138271751,
          -82.1020588344297,
          -82.10200335702086,
          -82.10194564177488,
          -82.10188903855278,
          -82.10183717809565,
          -82.10179008334532,
          -82.1017485204753
         ],
         "marker": {
          "color": "#EE442F",
          "size": 8
         },
         "mode": "markers",
         "name": "EMERGENCY_MODE",
         "showlegend": true,
         "subplot": "mapbox",
         "type": "scattermapbox"
        },
        {
         "customdata": [
          [
           "2023-08-17T15:19:04",
           "COMPLETE_MANUAL",
           "NONE"
          ],
          [
           "2023-08-17T15:19:04",
           "COMPLETE_MANUAL",
           "NONE"
          ],
          [
           "2023-08-17T15:19:05",
           "COMPLETE_MANUAL",
           "NONE"
          ]
         ],
         "hovertemplate": "drivingMode=%{customdata[1]}<br>latitude=%{lat}<br>longitude=%{lon}<br>time=%{customdata[0]}<br>transitionType=%{customdata[2]}<extra></extra>",
         "lat": [
          39.32662351228899,
          39.32662351228899,
          39.32662325604831
         ],
         "legendgroup": "COMPLETE_MANUAL",
         "lon": [
          -82.1017485204753,
          -82.1017485204753,
          -82.10171251718141
         ],
         "marker": {
          "color": "#601A4A",
          "size": 8
         },
         "mode": "markers",
         "name": "COMPLETE_MANUAL",
         "showlegend": true,
         "subplot": "mapbox",
         "type": "scattermapbox"
        },
        {
         "customdata": [
          [
           "2023-08-17T15:19:05",
           "COMPLETE_AUTO_DRIVE",
           "M->A"
          ],
          [
           "2023-08-17T15:19:05",
           "COMPLETE_AUTO_DRIVE",
           "NONE"
          ],
          [
           "2023-08-17T15:19:06",
           "COMPLETE_AUTO_DRIVE",
           "NONE"
          ],
          [
           "2023-08-17T15:19:07",
           "COMPLETE_AUTO_DRIVE",
           "NONE"
          ],
          [
           "2023-08-17T15:19:08",
           "COMPLETE_AUTO_DRIVE",
           "NONE"
          ]
         ],
         "hovertemplate": "drivingMode=%{customdata[1]}<br>latitude=%{lat}<br>longitude=%{lon}<br>time=%{customdata[0]}<br>transitionType=%{customdata[2]}<extra></extra>",
         "lat": [
          39.32662325604831,
          39.32662325604831,
          39.32662299699089,
          39.32662197322436,
          39.32662199209891
         ],
         "legendgroup": "COMPLETE_AUTO_DRIVE",
         "lon": [
          -82.10171251718141,
          -82.10171251718141,
          -82.10168160529125,
          -82.1016583140447,
          -82.10164235555621
         ],
         "marker": {
          "color": "#63ACBE",
          "size": 8
         },
         "mode": "markers",
         "name": "COMPLETE_AUTO_DRIVE",
         "showlegend": true,
         "subplot": "mapbox",
         "type": "scattermapbox"
        }
       ],
       "layout": {
        "height": 700,
        "legend": {
         "title": {
          "text": "drivingMode"
         },
         "tracegroupgap": 0
        },
        "mapbox": {
         "center": {
          "lat": 39.326648399785654,
          "lon": -82.10208813586819
         },
         "domain": {
          "x": [
           0,
           1
          ],
          "y": [
           0,
           1
          ]
         },
         "style": "open-street-map",
         "zoom": 17
        },
        "margin": {
         "b": 0,
         "l": 0,
         "r": 0,
         "t": 0
        },
        "template": {
         "data": {
          "bar": [
           {
            "error_x": {
             "color": "#2a3f5f"
            },
            "error_y": {
             "color": "#2a3f5f"
            },
            "marker": {
             "line": {
              "color": "#E5ECF6",
              "width": 0.5
             },
             "pattern": {
              "fillmode": "overlay",
              "size": 10,
              "solidity": 0.2
             }
            },
            "type": "bar"
           }
          ],
          "barpolar": [
           {
            "marker": {
             "line": {
              "color": "#E5ECF6",
              "width": 0.5
             },
             "pattern": {
              "fillmode": "overlay",
              "size": 10,
              "solidity": 0.2
             }
            },
            "type": "barpolar"
           }
          ],
          "carpet": [
           {
            "aaxis": {
             "endlinecolor": "#2a3f5f",
             "gridcolor": "white",
             "linecolor": "white",
             "minorgridcolor": "white",
             "startlinecolor": "#2a3f5f"
            },
            "baxis": {
             "endlinecolor": "#2a3f5f",
             "gridcolor": "white",
             "linecolor": "white",
             "minorgridcolor": "white",
             "startlinecolor": "#2a3f5f"
            },
            "type": "carpet"
           }
          ],
          "choropleth": [
           {
            "colorbar": {
             "outlinewidth": 0,
             "ticks": ""
            },
            "type": "choropleth"
           }
          ],
          "contour": [
           {
            "colorbar": {
             "outlinewidth": 0,
             "ticks": ""
            },
            "colorscale": [
             [
              0,
              "#0d0887"
             ],
             [
              0.1111111111111111,
              "#46039f"
             ],
             [
              0.2222222222222222,
              "#7201a8"
             ],
             [
              0.3333333333333333,
              "#9c179e"
             ],
             [
              0.4444444444444444,
              "#bd3786"
             ],
             [
              0.5555555555555556,
              "#d8576b"
             ],
             [
              0.6666666666666666,
              "#ed7953"
             ],
             [
              0.7777777777777778,
              "#fb9f3a"
             ],
             [
              0.8888888888888888,
              "#fdca26"
             ],
             [
              1,
              "#f0f921"
             ]
            ],
            "type": "contour"
           }
          ],
          "contourcarpet": [
           {
            "colorbar": {
             "outlinewidth": 0,
             "ticks": ""
            },
            "type": "contourcarpet"
           }
          ],
          "heatmap": [
           {
            "colorbar": {
             "outlinewidth": 0,
             "ticks": ""
            },
            "colorscale": [
             [
              0,
              "#0d0887"
             ],
             [
              0.1111111111111111,
              "#46039f"
             ],
             [
              0.2222222222222222,
              "#7201a8"
             ],
             [
              0.3333333333333333,
              "#9c179e"
             ],
             [
              0.4444444444444444,
              "#bd3786"
             ],
             [
              0.5555555555555556,
              "#d8576b"
             ],
             [
              0.6666666666666666,
              "#ed7953"
             ],
             [
              0.7777777777777778,
              "#fb9f3a"
             ],
             [
              0.8888888888888888,
              "#fdca26"
             ],
             [
              1,
              "#f0f921"
             ]
            ],
            "type": "heatmap"
           }
          ],
          "heatmapgl": [
           {
            "colorbar": {
             "outlinewidth": 0,
             "ticks": ""
            },
            "colorscale": [
             [
              0,
              "#0d0887"
             ],
             [
              0.1111111111111111,
              "#46039f"
             ],
             [
              0.2222222222222222,
              "#7201a8"
             ],
             [
              0.3333333333333333,
              "#9c179e"
             ],
             [
              0.4444444444444444,
              "#bd3786"
             ],
             [
              0.5555555555555556,
              "#d8576b"
             ],
             [
              0.6666666666666666,
              "#ed7953"
             ],
             [
              0.7777777777777778,
              "#fb9f3a"
             ],
             [
              0.8888888888888888,
              "#fdca26"
             ],
             [
              1,
              "#f0f921"
             ]
            ],
            "type": "heatmapgl"
           }
          ],
          "histogram": [
           {
            "marker": {
             "pattern": {
              "fillmode": "overlay",
              "size": 10,
              "solidity": 0.2
             }
            },
            "type": "histogram"
           }
          ],
          "histogram2d": [
           {
            "colorbar": {
             "outlinewidth": 0,
             "ticks": ""
            },
            "colorscale": [
             [
              0,
              "#0d0887"
             ],
             [
              0.1111111111111111,
              "#46039f"
             ],
             [
              0.2222222222222222,
              "#7201a8"
             ],
             [
              0.3333333333333333,
              "#9c179e"
             ],
             [
              0.4444444444444444,
              "#bd3786"
             ],
             [
              0.5555555555555556,
              "#d8576b"
             ],
             [
              0.6666666666666666,
              "#ed7953"
             ],
             [
              0.7777777777777778,
              "#fb9f3a"
             ],
             [
              0.8888888888888888,
              "#fdca26"
             ],
             [
              1,
              "#f0f921"
             ]
            ],
            "type": "histogram2d"
           }
          ],
          "histogram2dcontour": [
           {
            "colorbar": {
             "outlinewidth": 0,
             "ticks": ""
            },
            "colorscale": [
             [
              0,
              "#0d0887"
             ],
             [
              0.1111111111111111,
              "#46039f"
             ],
             [
              0.2222222222222222,
              "#7201a8"
             ],
             [
              0.3333333333333333,
              "#9c179e"
             ],
             [
              0.4444444444444444,
              "#bd3786"
             ],
             [
              0.5555555555555556,
              "#d8576b"
             ],
             [
              0.6666666666666666,
              "#ed7953"
             ],
             [
              0.7777777777777778,
              "#fb9f3a"
             ],
             [
              0.8888888888888888,
              "#fdca26"
             ],
             [
              1,
              "#f0f921"
             ]
            ],
            "type": "histogram2dcontour"
           }
          ],
          "mesh3d": [
           {
            "colorbar": {
             "outlinewidth": 0,
             "ticks": ""
            },
            "type": "mesh3d"
           }
          ],
          "parcoords": [
           {
            "line": {
             "colorbar": {
              "outlinewidth": 0,
              "ticks": ""
             }
            },
            "type": "parcoords"
           }
          ],
          "pie": [
           {
            "automargin": true,
            "type": "pie"
           }
          ],
          "scatter": [
           {
            "fillpattern": {
             "fillmode": "overlay",
             "size": 10,
             "solidity": 0.2
            },
            "type": "scatter"
           }
          ],
          "scatter3d": [
           {
            "line": {
             "colorbar": {
              "outlinewidth": 0,
              "ticks": ""
             }
            },
            "marker": {
             "colorbar": {
              "outlinewidth": 0,
              "ticks": ""
             }
            },
            "type": "scatter3d"
           }
          ],
          "scattercarpet": [
           {
            "marker": {
             "colorbar": {
              "outlinewidth": 0,
              "ticks": ""
             }
            },
            "type": "scattercarpet"
           }
          ],
          "scattergeo": [
           {
            "marker": {
             "colorbar": {
              "outlinewidth": 0,
              "ticks": ""
             }
            },
            "type": "scattergeo"
           }
          ],
          "scattergl": [
           {
            "marker": {
             "colorbar": {
              "outlinewidth": 0,
              "ticks": ""
             }
            },
            "type": "scattergl"
           }
          ],
          "scattermapbox": [
           {
            "marker": {
             "colorbar": {
              "outlinewidth": 0,
              "ticks": ""
             }
            },
            "type": "scattermapbox"
           }
          ],
          "scatterpolar": [
           {
            "marker": {
             "colorbar": {
              "outlinewidth": 0,
              "ticks": ""
             }
            },
            "type": "scatterpolar"
           }
          ],
          "scatterpolargl": [
           {
            "marker": {
             "colorbar": {
              "outlinewidth": 0,
              "ticks": ""
             }
            },
            "type": "scatterpolargl"
           }
          ],
          "scatterternary": [
           {
            "marker": {
             "colorbar": {
              "outlinewidth": 0,
              "ticks": ""
             }
            },
            "type": "scatterternary"
           }
          ],
          "surface": [
           {
            "colorbar": {
             "outlinewidth": 0,
             "ticks": ""
            },
            "colorscale": [
             [
              0,
              "#0d0887"
             ],
             [
              0.1111111111111111,
              "#46039f"
             ],
             [
              0.2222222222222222,
              "#7201a8"
             ],
             [
              0.3333333333333333,
              "#9c179e"
             ],
             [
              0.4444444444444444,
              "#bd3786"
             ],
             [
              0.5555555555555556,
              "#d8576b"
             ],
             [
              0.6666666666666666,
              "#ed7953"
             ],
             [
              0.7777777777777778,
              "#fb9f3a"
             ],
             [
              0.8888888888888888,
              "#fdca26"
             ],
             [
              1,
              "#f0f921"
             ]
            ],
            "type": "surface"
           }
          ],
          "table": [
           {
            "cells": {
             "fill": {
              "color": "#EBF0F8"
             },
             "line": {
              "color": "white"
             }
            },
            "header": {
             "fill": {
              "color": "#C8D4E3"
             },
             "line": {
              "color": "white"
             }
            },
            "type": "table"
           }
          ]
         },
         "layout": {
          "annotationdefaults": {
           "arrowcolor": "#2a3f5f",
           "arrowhead": 0,
           "arrowwidth": 1
          },
          "autotypenumbers": "strict",
          "coloraxis": {
           "colorbar": {
            "outlinewidth": 0,
            "ticks": ""
           }
          },
          "colorscale": {
           "diverging": [
            [
             0,
             "#8e0152"
            ],
            [
             0.1,
             "#c51b7d"
            ],
            [
             0.2,
             "#de77ae"
            ],
            [
             0.3,
             "#f1b6da"
            ],
            [
             0.4,
             "#fde0ef"
            ],
            [
             0.5,
             "#f7f7f7"
            ],
            [
             0.6,
             "#e6f5d0"
            ],
            [
             0.7,
             "#b8e186"
            ],
            [
             0.8,
             "#7fbc41"
            ],
            [
             0.9,
             "#4d9221"
            ],
            [
             1,
             "#276419"
            ]
           ],
           "sequential": [
            [
             0,
             "#0d0887"
            ],
            [
             0.1111111111111111,
             "#46039f"
            ],
            [
             0.2222222222222222,
             "#7201a8"
            ],
            [
             0.3333333333333333,
             "#9c179e"
            ],
            [
             0.4444444444444444,
             "#bd3786"
            ],
            [
             0.5555555555555556,
             "#d8576b"
            ],
            [
             0.6666666666666666,
             "#ed7953"
            ],
            [
             0.7777777777777778,
             "#fb9f3a"
            ],
            [
             0.8888888888888888,
             "#fdca26"
            ],
            [
             1,
             "#f0f921"
            ]
           ],
           "sequentialminus": [
            [
             0,
             "#0d0887"
            ],
            [
             0.1111111111111111,
             "#46039f"
            ],
            [
             0.2222222222222222,
             "#7201a8"
            ],
            [
             0.3333333333333333,
             "#9c179e"
            ],
            [
             0.4444444444444444,
             "#bd3786"
            ],
            [
             0.5555555555555556,
             "#d8576b"
            ],
            [
             0.6666666666666666,
             "#ed7953"
            ],
            [
             0.7777777777777778,
             "#fb9f3a"
            ],
            [
             0.8888888888888888,
             "#fdca26"
            ],
            [
             1,
             "#f0f921"
            ]
           ]
          },
          "colorway": [
           "#636efa",
           "#EF553B",
           "#00cc96",
           "#ab63fa",
           "#FFA15A",
           "#19d3f3",
           "#FF6692",
           "#B6E880",
           "#FF97FF",
           "#FECB52"
          ],
          "font": {
           "color": "#2a3f5f"
          },
          "geo": {
           "bgcolor": "white",
           "lakecolor": "white",
           "landcolor": "#E5ECF6",
           "showlakes": true,
           "showland": true,
           "subunitcolor": "white"
          },
          "hoverlabel": {
           "align": "left"
          },
          "hovermode": "closest",
          "mapbox": {
           "style": "light"
          },
          "paper_bgcolor": "white",
          "plot_bgcolor": "#E5ECF6",
          "polar": {
           "angularaxis": {
            "gridcolor": "white",
            "linecolor": "white",
            "ticks": ""
           },
           "bgcolor": "#E5ECF6",
           "radialaxis": {
            "gridcolor": "white",
            "linecolor": "white",
            "ticks": ""
           }
          },
          "scene": {
           "xaxis": {
            "backgroundcolor": "#E5ECF6",
            "gridcolor": "white",
            "gridwidth": 2,
            "linecolor": "white",
            "showbackground": true,
            "ticks": "",
            "zerolinecolor": "white"
           },
           "yaxis": {
            "backgroundcolor": "#E5ECF6",
            "gridcolor": "white",
            "gridwidth": 2,
            "linecolor": "white",
            "showbackground": true,
            "ticks": "",
            "zerolinecolor": "white"
           },
           "zaxis": {
            "backgroundcolor": "#E5ECF6",
            "gridcolor": "white",
            "gridwidth": 2,
            "linecolor": "white",
            "showbackground": true,
            "ticks": "",
            "zerolinecolor": "white"
           }
          },
          "shapedefaults": {
           "line": {
            "color": "#2a3f5f"
           }
          },
          "ternary": {
           "aaxis": {
            "gridcolor": "white",
            "linecolor": "white",
            "ticks": ""
           },
           "baxis": {
            "gridcolor": "white",
            "linecolor": "white",
            "ticks": ""
           },
           "bgcolor": "#E5ECF6",
           "caxis": {
            "gridcolor": "white",
            "linecolor": "white",
            "ticks": ""
           }
          },
          "title": {
           "x": 0.05
          },
          "xaxis": {
           "automargin": true,
           "gridcolor": "white",
           "linecolor": "white",
           "ticks": "",
           "title": {
            "standoff": 15
           },
           "zerolinecolor": "white",
           "zerolinewidth": 2
          },
          "yaxis": {
           "automargin": true,
           "gridcolor": "white",
           "linecolor": "white",
           "ticks": "",
           "title": {
            "standoff": 15
           },
           "zerolinecolor": "white",
           "zerolinewidth": 2
          }
         }
        },
        "width": 1000
       }
      }
     },
     "metadata": {},
     "output_type": "display_data"
    }
   ],
   "source": [
    "i = 1\n",
    "start = autoOutput.iloc[i][\"Start Index\"] - \\\n",
    "    min(autoOutput.iloc[i][\"Start Index\"] , 5)\n",
    "stop = autoOutput.iloc[i][\"Stop Index\"]  + \\\n",
    "    min(full_merged_df.shape[0]-1 - autoOutput.iloc[i][\"Stop Index\"] , 5)\n",
    "\n",
    "print(full_merged_df.shape[0]-1)\n",
    "\n",
    "print(\"Start:\", start)\n",
    "print(\"Stop:\", stop)\n",
    "\n",
    "print(f\"lat: {autoOutput.iloc[i]['Start Lat'] }, Long: {autoOutput.iloc[i]['Start Long']}\")\n",
    "\n",
    "tran = full_merged_df[start:stop]\n",
    "tran\n",
    "\n",
    "# Show the first transition\n",
    "fig = px.scatter_mapbox(tran, lat=\"latitude\", lon=\"longitude\",\n",
    "                        hover_data=[\"time\", \"drivingMode\", \"transitionType\"], color=\"drivingMode\", zoom=17, height=700, width=1000,\n",
    "                        color_discrete_map={\n",
    "                            \"COMPLETE_MANUAL\": \"#601A4A\",\n",
    "                            \"COMPLETE_AUTO_DRIVE\": \"#63ACBE\",\n",
    "                            \"EMERGENCY_MODE\": \"#EE442F\",\n",
    "                        }\n",
    "                        )\n",
    "\n",
    "\n",
    "# Layout settings\n",
    "fig.update_layout(\n",
    "    mapbox_style=\"open-street-map\",\n",
    "    margin={\"r\": 0, \"t\": 0, \"l\": 0, \"b\": 0},\n",
    ")\n",
    "\n",
    "fig.update_traces(marker=dict(size=8))\n",
    "\n",
    "name = \"test.jpeg\"\n",
    "\n",
    "fig.write_image(name, engine=\"kaleido\")\n",
    "\n",
    "\n",
    "# Display the map\n",
    "fig.show()"
   ]
  },
  {
   "cell_type": "code",
   "execution_count": 37,
   "id": "0bae4397",
   "metadata": {},
   "outputs": [
    {
     "name": "stdout",
     "output_type": "stream",
     "text": [
      "\n",
      "0\n",
      "2161\n",
      "Start: 150\n",
      "Stop: 199\n",
      "lat: 39.32064429810596, Long: -82.10748029121298\n"
     ]
    },
    {
     "name": "stderr",
     "output_type": "stream",
     "text": [
      "/home/vhepola_linux/do-env/lib/python3.10/site-packages/plotly/express/_core.py:2065: FutureWarning:\n",
      "\n",
      "When grouping with a length-1 list-like, you will need to pass a length-1 tuple to get_group in a future version of pandas. Pass `(name,)` instead of `name` to silence this warning.\n",
      "\n"
     ]
    },
    {
     "name": "stdout",
     "output_type": "stream",
     "text": [
      "\n",
      "1\n",
      "2161\n",
      "Start: 282\n",
      "Stop: 312\n",
      "lat: 39.32665052280984, Long: -82.10210842107911\n"
     ]
    },
    {
     "name": "stderr",
     "output_type": "stream",
     "text": [
      "/home/vhepola_linux/do-env/lib/python3.10/site-packages/plotly/express/_core.py:2065: FutureWarning:\n",
      "\n",
      "When grouping with a length-1 list-like, you will need to pass a length-1 tuple to get_group in a future version of pandas. Pass `(name,)` instead of `name` to silence this warning.\n",
      "\n"
     ]
    },
    {
     "name": "stdout",
     "output_type": "stream",
     "text": [
      "\n",
      "2\n",
      "2161\n",
      "Start: 400\n",
      "Stop: 543\n",
      "lat: 39.32725110491381, Long: -82.1013674955572\n"
     ]
    },
    {
     "name": "stderr",
     "output_type": "stream",
     "text": [
      "/home/vhepola_linux/do-env/lib/python3.10/site-packages/plotly/express/_core.py:2065: FutureWarning:\n",
      "\n",
      "When grouping with a length-1 list-like, you will need to pass a length-1 tuple to get_group in a future version of pandas. Pass `(name,)` instead of `name` to silence this warning.\n",
      "\n"
     ]
    },
    {
     "name": "stdout",
     "output_type": "stream",
     "text": [
      "\n",
      "3\n",
      "2161\n",
      "Start: 567\n",
      "Stop: 592\n",
      "lat: 39.32776305489956, Long: -82.10273277186896\n"
     ]
    },
    {
     "name": "stderr",
     "output_type": "stream",
     "text": [
      "/home/vhepola_linux/do-env/lib/python3.10/site-packages/plotly/express/_core.py:2065: FutureWarning:\n",
      "\n",
      "When grouping with a length-1 list-like, you will need to pass a length-1 tuple to get_group in a future version of pandas. Pass `(name,)` instead of `name` to silence this warning.\n",
      "\n"
     ]
    },
    {
     "name": "stdout",
     "output_type": "stream",
     "text": [
      "\n",
      "4\n",
      "2161\n",
      "Start: 622\n",
      "Stop: 668\n",
      "lat: 39.328950887201074, Long: -82.10493846107828\n"
     ]
    },
    {
     "name": "stderr",
     "output_type": "stream",
     "text": [
      "/home/vhepola_linux/do-env/lib/python3.10/site-packages/plotly/express/_core.py:2065: FutureWarning:\n",
      "\n",
      "When grouping with a length-1 list-like, you will need to pass a length-1 tuple to get_group in a future version of pandas. Pass `(name,)` instead of `name` to silence this warning.\n",
      "\n"
     ]
    },
    {
     "name": "stdout",
     "output_type": "stream",
     "text": [
      "\n",
      "5\n",
      "2161\n",
      "Start: 838\n",
      "Stop: 870\n",
      "lat: 39.33064744675281, Long: -82.12672989192234\n"
     ]
    },
    {
     "name": "stderr",
     "output_type": "stream",
     "text": [
      "/home/vhepola_linux/do-env/lib/python3.10/site-packages/plotly/express/_core.py:2065: FutureWarning:\n",
      "\n",
      "When grouping with a length-1 list-like, you will need to pass a length-1 tuple to get_group in a future version of pandas. Pass `(name,)` instead of `name` to silence this warning.\n",
      "\n"
     ]
    },
    {
     "name": "stdout",
     "output_type": "stream",
     "text": [
      "\n",
      "6\n",
      "2161\n",
      "Start: 950\n",
      "Stop: 979\n",
      "lat: 39.33047290414413, Long: -82.12802481145539\n"
     ]
    },
    {
     "name": "stderr",
     "output_type": "stream",
     "text": [
      "/home/vhepola_linux/do-env/lib/python3.10/site-packages/plotly/express/_core.py:2065: FutureWarning:\n",
      "\n",
      "When grouping with a length-1 list-like, you will need to pass a length-1 tuple to get_group in a future version of pandas. Pass `(name,)` instead of `name` to silence this warning.\n",
      "\n"
     ]
    },
    {
     "name": "stdout",
     "output_type": "stream",
     "text": [
      "\n",
      "7\n",
      "2161\n",
      "Start: 1294\n",
      "Stop: 1312\n",
      "lat: 39.375908236408456, Long: -82.13443318398542\n"
     ]
    },
    {
     "name": "stderr",
     "output_type": "stream",
     "text": [
      "/home/vhepola_linux/do-env/lib/python3.10/site-packages/plotly/express/_core.py:2065: FutureWarning:\n",
      "\n",
      "When grouping with a length-1 list-like, you will need to pass a length-1 tuple to get_group in a future version of pandas. Pass `(name,)` instead of `name` to silence this warning.\n",
      "\n"
     ]
    },
    {
     "name": "stdout",
     "output_type": "stream",
     "text": [
      "\n",
      "8\n",
      "2161\n",
      "Start: 1337\n",
      "Stop: 1358\n",
      "lat: 39.378514560172135, Long: -82.13527126256363\n"
     ]
    },
    {
     "name": "stderr",
     "output_type": "stream",
     "text": [
      "/home/vhepola_linux/do-env/lib/python3.10/site-packages/plotly/express/_core.py:2065: FutureWarning:\n",
      "\n",
      "When grouping with a length-1 list-like, you will need to pass a length-1 tuple to get_group in a future version of pandas. Pass `(name,)` instead of `name` to silence this warning.\n",
      "\n"
     ]
    },
    {
     "name": "stdout",
     "output_type": "stream",
     "text": [
      "\n",
      "9\n",
      "2161\n",
      "Start: 1420\n",
      "Stop: 1467\n",
      "lat: 39.385879953368246, Long: -82.13823646862211\n"
     ]
    },
    {
     "name": "stderr",
     "output_type": "stream",
     "text": [
      "/home/vhepola_linux/do-env/lib/python3.10/site-packages/plotly/express/_core.py:2065: FutureWarning:\n",
      "\n",
      "When grouping with a length-1 list-like, you will need to pass a length-1 tuple to get_group in a future version of pandas. Pass `(name,)` instead of `name` to silence this warning.\n",
      "\n"
     ]
    },
    {
     "name": "stdout",
     "output_type": "stream",
     "text": [
      "\n",
      "10\n",
      "2161\n",
      "Start: 1461\n",
      "Stop: 1478\n",
      "lat: 39.38761191798793, Long: -82.14078415508703\n"
     ]
    },
    {
     "name": "stderr",
     "output_type": "stream",
     "text": [
      "/home/vhepola_linux/do-env/lib/python3.10/site-packages/plotly/express/_core.py:2065: FutureWarning:\n",
      "\n",
      "When grouping with a length-1 list-like, you will need to pass a length-1 tuple to get_group in a future version of pandas. Pass `(name,)` instead of `name` to silence this warning.\n",
      "\n"
     ]
    },
    {
     "name": "stdout",
     "output_type": "stream",
     "text": [
      "\n",
      "11\n",
      "2161\n",
      "Start: 1501\n",
      "Stop: 1525\n",
      "lat: 39.385871603095225, Long: -82.14390398711758\n"
     ]
    },
    {
     "name": "stderr",
     "output_type": "stream",
     "text": [
      "/home/vhepola_linux/do-env/lib/python3.10/site-packages/plotly/express/_core.py:2065: FutureWarning:\n",
      "\n",
      "When grouping with a length-1 list-like, you will need to pass a length-1 tuple to get_group in a future version of pandas. Pass `(name,)` instead of `name` to silence this warning.\n",
      "\n"
     ]
    },
    {
     "name": "stdout",
     "output_type": "stream",
     "text": [
      "\n",
      "12\n",
      "2161\n",
      "Start: 1589\n",
      "Stop: 1607\n",
      "lat: 39.37863911835573, Long: -82.14357442292155\n"
     ]
    },
    {
     "name": "stderr",
     "output_type": "stream",
     "text": [
      "/home/vhepola_linux/do-env/lib/python3.10/site-packages/plotly/express/_core.py:2065: FutureWarning:\n",
      "\n",
      "When grouping with a length-1 list-like, you will need to pass a length-1 tuple to get_group in a future version of pandas. Pass `(name,)` instead of `name` to silence this warning.\n",
      "\n"
     ]
    },
    {
     "name": "stdout",
     "output_type": "stream",
     "text": [
      "\n",
      "13\n",
      "2161\n",
      "Start: 1648\n",
      "Stop: 1688\n",
      "lat: 39.37697495880481, Long: -82.14202574562886\n"
     ]
    },
    {
     "name": "stderr",
     "output_type": "stream",
     "text": [
      "/home/vhepola_linux/do-env/lib/python3.10/site-packages/plotly/express/_core.py:2065: FutureWarning:\n",
      "\n",
      "When grouping with a length-1 list-like, you will need to pass a length-1 tuple to get_group in a future version of pandas. Pass `(name,)` instead of `name` to silence this warning.\n",
      "\n"
     ]
    },
    {
     "name": "stdout",
     "output_type": "stream",
     "text": [
      "\n",
      "14\n",
      "2161\n",
      "Start: 1682\n",
      "Stop: 1709\n",
      "lat: 39.37702734557104, Long: -82.14122906074675\n"
     ]
    },
    {
     "name": "stderr",
     "output_type": "stream",
     "text": [
      "/home/vhepola_linux/do-env/lib/python3.10/site-packages/plotly/express/_core.py:2065: FutureWarning:\n",
      "\n",
      "When grouping with a length-1 list-like, you will need to pass a length-1 tuple to get_group in a future version of pandas. Pass `(name,)` instead of `name` to silence this warning.\n",
      "\n"
     ]
    }
   ],
   "source": [
    "if not os.path.exists(f\"./images/{gmID}\"):\n",
    "    os.makedirs(f\"./images/{gmID}\")\n",
    "\n",
    "links = []\n",
    "for index, row in autoOutput.iterrows():\n",
    "    \n",
    "    i = index\n",
    "    print(f\"\\n{i}\")\n",
    "    \n",
    "    start = autoOutput.iloc[i][\"Start Index\"] - \\\n",
    "        min(autoOutput.iloc[i][\"Start Index\"] , 5)\n",
    "    stop = autoOutput.iloc[i][\"Stop Index\"]  + \\\n",
    "        min(full_merged_df.shape[0]-1 - autoOutput.iloc[i][\"Stop Index\"] , 5)\n",
    "\n",
    "    print(full_merged_df.shape[0]-1)\n",
    "\n",
    "    print(\"Start:\", start)\n",
    "    print(\"Stop:\", stop)\n",
    "\n",
    "    print(f\"lat: {autoOutput.iloc[i]['Start Lat'] }, Long: {autoOutput.iloc[i]['Start Long']}\")\n",
    "\n",
    "    tran = full_merged_df[start:stop]\n",
    "\n",
    "    fig = px.scatter_mapbox(tran, lat=\"latitude\", lon=\"longitude\",\n",
    "                            hover_data=[\"time\", \"drivingMode\", \"transitionType\"], color=\"drivingMode\", zoom=17, height=700, width=1000,\n",
    "                            color_discrete_map={\n",
    "                                \"COMPLETE_MANUAL\": \"#601A4A\",\n",
    "                                \"COMPLETE_AUTO_DRIVE\": \"#63ACBE\",\n",
    "                                \"EMERGENCY_MODE\": \"#EE442F\",\n",
    "                            }\n",
    "                            )\n",
    "    \n",
    "    # Layout settings\n",
    "    fig.update_layout(\n",
    "        mapbox_style=\"open-street-map\",\n",
    "        margin={\"r\": 0, \"t\": 0, \"l\": 0, \"b\": 0},\n",
    "    )\n",
    "\n",
    "    fig.update_traces(marker=dict(size=8))\n",
    "\n",
    "    name = f\"./images/{gmID}/tran_{i}.jpeg\"\n",
    "    links.append(name)\n",
    "\n",
    "    fig.write_image(name, engine=\"kaleido\")\n",
    "    "
   ]
  },
  {
   "cell_type": "code",
   "execution_count": 38,
   "id": "2660c52c",
   "metadata": {},
   "outputs": [
    {
     "name": "stdout",
     "output_type": "stream",
     "text": [
      "./images/3a2a78cc-db21-11ee-a158-97f8443fd730/tran_0.jpeg\n",
      "./images/3a2a78cc-db21-11ee-a158-97f8443fd730/tran_1.jpeg\n",
      "./images/3a2a78cc-db21-11ee-a158-97f8443fd730/tran_2.jpeg\n",
      "./images/3a2a78cc-db21-11ee-a158-97f8443fd730/tran_3.jpeg\n",
      "./images/3a2a78cc-db21-11ee-a158-97f8443fd730/tran_4.jpeg\n",
      "./images/3a2a78cc-db21-11ee-a158-97f8443fd730/tran_5.jpeg\n",
      "./images/3a2a78cc-db21-11ee-a158-97f8443fd730/tran_6.jpeg\n",
      "./images/3a2a78cc-db21-11ee-a158-97f8443fd730/tran_7.jpeg\n",
      "./images/3a2a78cc-db21-11ee-a158-97f8443fd730/tran_8.jpeg\n",
      "./images/3a2a78cc-db21-11ee-a158-97f8443fd730/tran_9.jpeg\n",
      "./images/3a2a78cc-db21-11ee-a158-97f8443fd730/tran_10.jpeg\n",
      "./images/3a2a78cc-db21-11ee-a158-97f8443fd730/tran_11.jpeg\n",
      "./images/3a2a78cc-db21-11ee-a158-97f8443fd730/tran_12.jpeg\n",
      "./images/3a2a78cc-db21-11ee-a158-97f8443fd730/tran_13.jpeg\n",
      "./images/3a2a78cc-db21-11ee-a158-97f8443fd730/tran_14.jpeg\n"
     ]
    }
   ],
   "source": [
    "writer = pd.ExcelWriter(f\"./data/logged/{gmID}.xlsx\", engine=\"xlsxwriter\")\n",
    "autoOutput.to_excel(writer, sheet_name='Sheet1')\n",
    "\n",
    "workbook = writer.book\n",
    "worksheet = writer.sheets[\"Sheet1\"]\n",
    "# resize cells\n",
    "# worksheet.set_column('B1:B5', 7)\n",
    "# worksheet.set_column(first_col=1, last_col=10, width=20)\n",
    "worksheet.autofit()\n",
    "\n",
    "worksheet.set_column(first_col=2, last_col=3, width=25)\n",
    "worksheet.set_column(first_col=10, last_col=11, width=50)\n",
    "worksheet.set_column(first_col=12, last_col=12, width=50)\n",
    "worksheet.set_row(row=0, height=15)\n",
    "\n",
    "\n",
    "image_row = 1\n",
    "image_col = 12\n",
    "for image in links:\n",
    "    print(image)\n",
    "    worksheet.set_row(row=image_row, height=300)\n",
    "    worksheet.insert_image(image_row,\n",
    "                          image_col,\n",
    "                          image,\n",
    "                          {   'x_scale': .5,\n",
    "                               'y_scale': .5,\n",
    "                               'x_offset': 5,\n",
    "                               'y_offset': 5,\n",
    "                              'positioning': 1,\n",
    "                          })\n",
    "    # positioning = 1 allows move and size with cells (may not always perform as expected)\n",
    "    image_row += 1\n",
    "\n",
    "#workbook.filename = f'./data/logged/{gmID}.xlsm'\n",
    "\n",
    "#workbook.add_vba_project('./vbaProject.bin')\n",
    "\n",
    "\n",
    "workbook.close()"
   ]
  }
 ],
 "metadata": {
  "kernelspec": {
   "display_name": "Python 3 (ipykernel)",
   "language": "python",
   "name": "python3"
  },
  "language_info": {
   "codemirror_mode": {
    "name": "ipython",
    "version": 3
   },
   "file_extension": ".py",
   "mimetype": "text/x-python",
   "name": "python",
   "nbconvert_exporter": "python",
   "pygments_lexer": "ipython3",
   "version": "3.10.12"
  }
 },
 "nbformat": 4,
 "nbformat_minor": 5
}
