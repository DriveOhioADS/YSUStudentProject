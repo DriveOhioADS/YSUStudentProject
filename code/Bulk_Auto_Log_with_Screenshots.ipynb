{
 "cells": [
  {
   "cell_type": "markdown",
   "id": "7d5fff77-da4e-4611-8ab4-7953dd8568be",
   "metadata": {},
   "source": [
    "# Auto ALL Ids\n"
   ]
  },
  {
   "cell_type": "markdown",
   "id": "efa587c1",
   "metadata": {},
   "source": [
    "### Must run Metadata_tracking.ipynb and MassDataQuery.ipynb first to get list of all gmIDs plus data\n"
   ]
  },
  {
   "cell_type": "code",
   "execution_count": 1,
   "id": "41f9a81a-de71-4baa-9809-fcac81157f8f",
   "metadata": {},
   "outputs": [],
   "source": [
    "import plotly.express as px\n",
    "import pandas as pd\n",
    "\n",
    "import xlsxwriter\n",
    "import glob\n",
    "import os\n",
    "\n",
    "# Import plotly.express to utilize map"
   ]
  },
  {
   "cell_type": "markdown",
   "id": "62f79d62-f471-415c-9ff1-847bf328c327",
   "metadata": {},
   "source": [
    "### Import all ids from list\n"
   ]
  },
  {
   "cell_type": "code",
   "execution_count": 2,
   "id": "8aedcf9d-7ecb-458c-872e-f0e43b5d6803",
   "metadata": {},
   "outputs": [
    {
     "data": {
      "text/plain": [
       "(59, 1)"
      ]
     },
     "execution_count": 2,
     "metadata": {},
     "output_type": "execute_result"
    }
   ],
   "source": [
    "gmIDs = pd.read_csv(\"gmIDs.csv\")\n",
    "\n",
    "#gmIDs = gmIDs.head()\n",
    "\n",
    "\n",
    "gmIDs.shape"
   ]
  },
  {
   "cell_type": "code",
   "execution_count": 19,
   "id": "d6f8fc2e",
   "metadata": {},
   "outputs": [
    {
     "data": {
      "text/html": [
       "<div>\n",
       "<style scoped>\n",
       "    .dataframe tbody tr th:only-of-type {\n",
       "        vertical-align: middle;\n",
       "    }\n",
       "\n",
       "    .dataframe tbody tr th {\n",
       "        vertical-align: top;\n",
       "    }\n",
       "\n",
       "    .dataframe thead th {\n",
       "        text-align: right;\n",
       "    }\n",
       "</style>\n",
       "<table border=\"1\" class=\"dataframe\">\n",
       "  <thead>\n",
       "    <tr style=\"text-align: right;\">\n",
       "      <th></th>\n",
       "      <th>groupMetadataID</th>\n",
       "    </tr>\n",
       "  </thead>\n",
       "  <tbody>\n",
       "    <tr>\n",
       "      <th>0</th>\n",
       "      <td>2bc6ebb8-a529-11ee-88ec-eb6a8d5269b4</td>\n",
       "    </tr>\n",
       "    <tr>\n",
       "      <th>1</th>\n",
       "      <td>8fa6fe80-c869-11ee-a7fc-dd032dba19e8</td>\n",
       "    </tr>\n",
       "    <tr>\n",
       "      <th>2</th>\n",
       "      <td>837fc882-cb5a-11ee-909c-e1dc60cf66f9</td>\n",
       "    </tr>\n",
       "    <tr>\n",
       "      <th>3</th>\n",
       "      <td>3d8020aa-cb7f-11ee-909c-e1dc60cf66f9</td>\n",
       "    </tr>\n",
       "    <tr>\n",
       "      <th>4</th>\n",
       "      <td>559495ca-d270-11ee-b437-336917683bb8</td>\n",
       "    </tr>\n",
       "    <tr>\n",
       "      <th>5</th>\n",
       "      <td>47561998-d9c3-11ee-a158-97f8443fd730</td>\n",
       "    </tr>\n",
       "    <tr>\n",
       "      <th>6</th>\n",
       "      <td>25641404-cb66-11ee-909c-e1dc60cf66f9</td>\n",
       "    </tr>\n",
       "    <tr>\n",
       "      <th>7</th>\n",
       "      <td>286c70cc-d2f7-11ee-b437-336917683bb8</td>\n",
       "    </tr>\n",
       "    <tr>\n",
       "      <th>8</th>\n",
       "      <td>c9c6856c-d33c-11ee-b437-336917683bb8</td>\n",
       "    </tr>\n",
       "    <tr>\n",
       "      <th>9</th>\n",
       "      <td>7f09f6c6-a5b0-11ee-88ec-eb6a8d5269b4</td>\n",
       "    </tr>\n",
       "    <tr>\n",
       "      <th>10</th>\n",
       "      <td>d12cd1c4-caec-11ee-909c-e1dc60cf66f9</td>\n",
       "    </tr>\n",
       "    <tr>\n",
       "      <th>11</th>\n",
       "      <td>3c415ade-d353-11ee-b437-336917683bb8</td>\n",
       "    </tr>\n",
       "    <tr>\n",
       "      <th>12</th>\n",
       "      <td>3a2a78cc-db21-11ee-a158-97f8443fd730</td>\n",
       "    </tr>\n",
       "    <tr>\n",
       "      <th>13</th>\n",
       "      <td>e6d7d384-db40-11ee-a158-97f8443fd730</td>\n",
       "    </tr>\n",
       "    <tr>\n",
       "      <th>14</th>\n",
       "      <td>3a116996-93a9-11ee-956e-9da2d070324c</td>\n",
       "    </tr>\n",
       "    <tr>\n",
       "      <th>15</th>\n",
       "      <td>8437f77a-cab7-11ee-909c-e1dc60cf66f9</td>\n",
       "    </tr>\n",
       "    <tr>\n",
       "      <th>16</th>\n",
       "      <td>19b7ebd0-d9b7-11ee-a158-97f8443fd730</td>\n",
       "    </tr>\n",
       "    <tr>\n",
       "      <th>17</th>\n",
       "      <td>853ef120-cad3-11ee-909c-e1dc60cf66f9</td>\n",
       "    </tr>\n",
       "    <tr>\n",
       "      <th>18</th>\n",
       "      <td>64737d98-d312-11ee-b437-336917683bb8</td>\n",
       "    </tr>\n",
       "    <tr>\n",
       "      <th>19</th>\n",
       "      <td>5976b77a-a504-11ee-88ec-eb6a8d5269b4</td>\n",
       "    </tr>\n",
       "    <tr>\n",
       "      <th>20</th>\n",
       "      <td>baf0e4be-bede-11ee-835b-599066b5eb60</td>\n",
       "    </tr>\n",
       "    <tr>\n",
       "      <th>21</th>\n",
       "      <td>76683d3c-db18-11ee-a158-97f8443fd730</td>\n",
       "    </tr>\n",
       "    <tr>\n",
       "      <th>22</th>\n",
       "      <td>f671c05c-a5e4-11ee-88ec-eb6a8d5269b4</td>\n",
       "    </tr>\n",
       "    <tr>\n",
       "      <th>23</th>\n",
       "      <td>c338788a-d324-11ee-b437-336917683bb8</td>\n",
       "    </tr>\n",
       "    <tr>\n",
       "      <th>24</th>\n",
       "      <td>9830d896-d2dc-11ee-b437-336917683bb8</td>\n",
       "    </tr>\n",
       "    <tr>\n",
       "      <th>25</th>\n",
       "      <td>787d9684-d2c2-11ee-b437-336917683bb8</td>\n",
       "    </tr>\n",
       "    <tr>\n",
       "      <th>26</th>\n",
       "      <td>6d2ea45a-c839-11ee-a7fc-dd032dba19e8</td>\n",
       "    </tr>\n",
       "    <tr>\n",
       "      <th>27</th>\n",
       "      <td>b31aca98-cb95-11ee-909c-e1dc60cf66f9</td>\n",
       "    </tr>\n",
       "    <tr>\n",
       "      <th>28</th>\n",
       "      <td>7fb7b9c0-c881-11ee-a7fc-dd032dba19e8</td>\n",
       "    </tr>\n",
       "    <tr>\n",
       "      <th>29</th>\n",
       "      <td>aa86a660-dc05-11ee-a158-97f8443fd730</td>\n",
       "    </tr>\n",
       "    <tr>\n",
       "      <th>30</th>\n",
       "      <td>a253145a-d2a6-11ee-b437-336917683bb8</td>\n",
       "    </tr>\n",
       "    <tr>\n",
       "      <th>31</th>\n",
       "      <td>feaf2ba8-d28d-11ee-b437-336917683bb8</td>\n",
       "    </tr>\n",
       "    <tr>\n",
       "      <th>32</th>\n",
       "      <td>e2079a78-dc1d-11ee-a158-97f8443fd730</td>\n",
       "    </tr>\n",
       "    <tr>\n",
       "      <th>33</th>\n",
       "      <td>58263e34-a45c-11ee-88ec-eb6a8d5269b4</td>\n",
       "    </tr>\n",
       "    <tr>\n",
       "      <th>34</th>\n",
       "      <td>2837eb9c-9542-11ee-956e-9da2d070324c</td>\n",
       "    </tr>\n",
       "    <tr>\n",
       "      <th>35</th>\n",
       "      <td>69ab88ec-dc17-11ee-a158-97f8443fd730</td>\n",
       "    </tr>\n",
       "    <tr>\n",
       "      <th>36</th>\n",
       "      <td>dc39aa14-db32-11ee-a158-97f8443fd730</td>\n",
       "    </tr>\n",
       "    <tr>\n",
       "      <th>37</th>\n",
       "      <td>072ef896-cbac-11ee-909c-e1dc60cf66f9</td>\n",
       "    </tr>\n",
       "    <tr>\n",
       "      <th>38</th>\n",
       "      <td>6af236d6-d98f-11ee-a158-97f8443fd730</td>\n",
       "    </tr>\n",
       "    <tr>\n",
       "      <th>39</th>\n",
       "      <td>8c57e8ac-dbec-11ee-a158-97f8443fd730</td>\n",
       "    </tr>\n",
       "    <tr>\n",
       "      <th>40</th>\n",
       "      <td>8b0593cc-cb4e-11ee-909c-e1dc60cf66f9</td>\n",
       "    </tr>\n",
       "    <tr>\n",
       "      <th>41</th>\n",
       "      <td>c0624e24-d9aa-11ee-a158-97f8443fd730</td>\n",
       "    </tr>\n",
       "    <tr>\n",
       "      <th>42</th>\n",
       "      <td>51ef6da6-ca9f-11ee-909c-e1dc60cf66f9</td>\n",
       "    </tr>\n",
       "    <tr>\n",
       "      <th>43</th>\n",
       "      <td>86841630-d9d0-11ee-a158-97f8443fd730</td>\n",
       "    </tr>\n",
       "    <tr>\n",
       "      <th>44</th>\n",
       "      <td>c335d84c-a45c-11ee-88ec-eb6a8d5269b4</td>\n",
       "    </tr>\n",
       "    <tr>\n",
       "      <th>45</th>\n",
       "      <td>ba6e1072-9524-11ee-956e-9da2d070324c</td>\n",
       "    </tr>\n",
       "    <tr>\n",
       "      <th>46</th>\n",
       "      <td>a6539bd2-cb72-11ee-909c-e1dc60cf66f9</td>\n",
       "    </tr>\n",
       "    <tr>\n",
       "      <th>47</th>\n",
       "      <td>154fab12-a43f-11ee-88ec-eb6a8d5269b4</td>\n",
       "    </tr>\n",
       "    <tr>\n",
       "      <th>48</th>\n",
       "      <td>271fee10-cb8b-11ee-909c-e1dc60cf66f9</td>\n",
       "    </tr>\n",
       "    <tr>\n",
       "      <th>49</th>\n",
       "      <td>68c289fa-dbd4-11ee-a158-97f8443fd730</td>\n",
       "    </tr>\n",
       "    <tr>\n",
       "      <th>50</th>\n",
       "      <td>88b0613a-d35d-11ee-b437-336917683bb8</td>\n",
       "    </tr>\n",
       "    <tr>\n",
       "      <th>51</th>\n",
       "      <td>f9d62032-db2a-11ee-a158-97f8443fd730</td>\n",
       "    </tr>\n",
       "    <tr>\n",
       "      <th>52</th>\n",
       "      <td>90101c36-a621-11ee-88ec-eb6a8d5269b4</td>\n",
       "    </tr>\n",
       "    <tr>\n",
       "      <th>53</th>\n",
       "      <td>39ba7438-d0d5-11ee-9435-f7e542e2436c</td>\n",
       "    </tr>\n",
       "    <tr>\n",
       "      <th>54</th>\n",
       "      <td>06cbdbc0-db4d-11ee-a158-97f8443fd730</td>\n",
       "    </tr>\n",
       "    <tr>\n",
       "      <th>55</th>\n",
       "      <td>f6ac3c82-a445-11ee-88ec-eb6a8d5269b4</td>\n",
       "    </tr>\n",
       "    <tr>\n",
       "      <th>56</th>\n",
       "      <td>da853e0c-a10f-11ee-981c-d126ddbe9afa</td>\n",
       "    </tr>\n",
       "    <tr>\n",
       "      <th>57</th>\n",
       "      <td>1bbbfbae-c839-11ee-a7fc-dd032dba19e8</td>\n",
       "    </tr>\n",
       "    <tr>\n",
       "      <th>58</th>\n",
       "      <td>ed352100-cba0-11ee-909c-e1dc60cf66f9</td>\n",
       "    </tr>\n",
       "  </tbody>\n",
       "</table>\n",
       "</div>"
      ],
      "text/plain": [
       "                         groupMetadataID\n",
       "0   2bc6ebb8-a529-11ee-88ec-eb6a8d5269b4\n",
       "1   8fa6fe80-c869-11ee-a7fc-dd032dba19e8\n",
       "2   837fc882-cb5a-11ee-909c-e1dc60cf66f9\n",
       "3   3d8020aa-cb7f-11ee-909c-e1dc60cf66f9\n",
       "4   559495ca-d270-11ee-b437-336917683bb8\n",
       "5   47561998-d9c3-11ee-a158-97f8443fd730\n",
       "6   25641404-cb66-11ee-909c-e1dc60cf66f9\n",
       "7   286c70cc-d2f7-11ee-b437-336917683bb8\n",
       "8   c9c6856c-d33c-11ee-b437-336917683bb8\n",
       "9   7f09f6c6-a5b0-11ee-88ec-eb6a8d5269b4\n",
       "10  d12cd1c4-caec-11ee-909c-e1dc60cf66f9\n",
       "11  3c415ade-d353-11ee-b437-336917683bb8\n",
       "12  3a2a78cc-db21-11ee-a158-97f8443fd730\n",
       "13  e6d7d384-db40-11ee-a158-97f8443fd730\n",
       "14  3a116996-93a9-11ee-956e-9da2d070324c\n",
       "15  8437f77a-cab7-11ee-909c-e1dc60cf66f9\n",
       "16  19b7ebd0-d9b7-11ee-a158-97f8443fd730\n",
       "17  853ef120-cad3-11ee-909c-e1dc60cf66f9\n",
       "18  64737d98-d312-11ee-b437-336917683bb8\n",
       "19  5976b77a-a504-11ee-88ec-eb6a8d5269b4\n",
       "20  baf0e4be-bede-11ee-835b-599066b5eb60\n",
       "21  76683d3c-db18-11ee-a158-97f8443fd730\n",
       "22  f671c05c-a5e4-11ee-88ec-eb6a8d5269b4\n",
       "23  c338788a-d324-11ee-b437-336917683bb8\n",
       "24  9830d896-d2dc-11ee-b437-336917683bb8\n",
       "25  787d9684-d2c2-11ee-b437-336917683bb8\n",
       "26  6d2ea45a-c839-11ee-a7fc-dd032dba19e8\n",
       "27  b31aca98-cb95-11ee-909c-e1dc60cf66f9\n",
       "28  7fb7b9c0-c881-11ee-a7fc-dd032dba19e8\n",
       "29  aa86a660-dc05-11ee-a158-97f8443fd730\n",
       "30  a253145a-d2a6-11ee-b437-336917683bb8\n",
       "31  feaf2ba8-d28d-11ee-b437-336917683bb8\n",
       "32  e2079a78-dc1d-11ee-a158-97f8443fd730\n",
       "33  58263e34-a45c-11ee-88ec-eb6a8d5269b4\n",
       "34  2837eb9c-9542-11ee-956e-9da2d070324c\n",
       "35  69ab88ec-dc17-11ee-a158-97f8443fd730\n",
       "36  dc39aa14-db32-11ee-a158-97f8443fd730\n",
       "37  072ef896-cbac-11ee-909c-e1dc60cf66f9\n",
       "38  6af236d6-d98f-11ee-a158-97f8443fd730\n",
       "39  8c57e8ac-dbec-11ee-a158-97f8443fd730\n",
       "40  8b0593cc-cb4e-11ee-909c-e1dc60cf66f9\n",
       "41  c0624e24-d9aa-11ee-a158-97f8443fd730\n",
       "42  51ef6da6-ca9f-11ee-909c-e1dc60cf66f9\n",
       "43  86841630-d9d0-11ee-a158-97f8443fd730\n",
       "44  c335d84c-a45c-11ee-88ec-eb6a8d5269b4\n",
       "45  ba6e1072-9524-11ee-956e-9da2d070324c\n",
       "46  a6539bd2-cb72-11ee-909c-e1dc60cf66f9\n",
       "47  154fab12-a43f-11ee-88ec-eb6a8d5269b4\n",
       "48  271fee10-cb8b-11ee-909c-e1dc60cf66f9\n",
       "49  68c289fa-dbd4-11ee-a158-97f8443fd730\n",
       "50  88b0613a-d35d-11ee-b437-336917683bb8\n",
       "51  f9d62032-db2a-11ee-a158-97f8443fd730\n",
       "52  90101c36-a621-11ee-88ec-eb6a8d5269b4\n",
       "53  39ba7438-d0d5-11ee-9435-f7e542e2436c\n",
       "54  06cbdbc0-db4d-11ee-a158-97f8443fd730\n",
       "55  f6ac3c82-a445-11ee-88ec-eb6a8d5269b4\n",
       "56  da853e0c-a10f-11ee-981c-d126ddbe9afa\n",
       "57  1bbbfbae-c839-11ee-a7fc-dd032dba19e8\n",
       "58  ed352100-cba0-11ee-909c-e1dc60cf66f9"
      ]
     },
     "execution_count": 19,
     "metadata": {},
     "output_type": "execute_result"
    }
   ],
   "source": [
    "gmIDs"
   ]
  },
  {
   "cell_type": "code",
   "execution_count": 4,
   "id": "a0c8af00-2e62-49a8-a8fb-f89a1faf396d",
   "metadata": {},
   "outputs": [
    {
     "name": "stdout",
     "output_type": "stream",
     "text": [
      "(1847, 13)\n",
      "(2054, 13)\n",
      "(864, 13)\n",
      "(917, 13)\n",
      "(1992, 13)\n",
      "(1808, 13)\n",
      "(893, 13)\n",
      "(2204, 13)\n",
      "(1920, 13)\n",
      "(1899, 13)\n",
      "(1851, 13)\n",
      "(868, 13)\n",
      "(2001, 13)\n",
      "(1706, 13)\n",
      "(1907, 13)\n",
      "(1943, 13)\n",
      "(1731, 13)\n",
      "(1966, 13)\n",
      "(1474, 13)\n",
      "(2091, 13)\n",
      "(1756, 13)\n",
      "(1815, 13)\n",
      "(1898, 13)\n",
      "(1943, 13)\n",
      "(2102, 13)\n",
      "(1975, 13)\n",
      "(1862, 13)\n",
      "(877, 13)\n",
      "(1930, 13)\n",
      "(1837, 13)\n",
      "(2161, 13)\n",
      "(1947, 13)\n",
      "(1559, 13)\n",
      "(2011, 13)\n",
      "(1668, 13)\n",
      "(675, 13)\n",
      "(1827, 13)\n",
      "(889, 13)\n",
      "(1813, 13)\n",
      "(1614, 13)\n",
      "(935, 13)\n",
      "(1714, 13)\n",
      "(1799, 13)\n",
      "(965, 13)\n",
      "(1942, 13)\n",
      "(671, 13)\n",
      "(918, 13)\n",
      "(575, 13)\n",
      "(857, 13)\n",
      "(1690, 13)\n",
      "(882, 13)\n",
      "(1893, 13)\n",
      "(1731, 13)\n",
      "(1891, 13)\n",
      "(1756, 13)\n",
      "(245, 13)\n",
      "(472, 13)\n",
      "(165, 13)\n",
      "(890, 13)\n"
     ]
    },
    {
     "data": {
      "text/html": [
       "<div>\n",
       "<style scoped>\n",
       "    .dataframe tbody tr th:only-of-type {\n",
       "        vertical-align: middle;\n",
       "    }\n",
       "\n",
       "    .dataframe tbody tr th {\n",
       "        vertical-align: top;\n",
       "    }\n",
       "\n",
       "    .dataframe thead th {\n",
       "        text-align: right;\n",
       "    }\n",
       "</style>\n",
       "<table border=\"1\" class=\"dataframe\">\n",
       "  <thead>\n",
       "    <tr style=\"text-align: right;\">\n",
       "      <th></th>\n",
       "      <th>time</th>\n",
       "      <th>longitudeStdDev</th>\n",
       "      <th>numSatsMulti</th>\n",
       "      <th>groupMetadataID</th>\n",
       "      <th>numSatsTracked</th>\n",
       "      <th>latitudeStdDev</th>\n",
       "      <th>differentialAge</th>\n",
       "      <th>longitude</th>\n",
       "      <th>solType</th>\n",
       "      <th>solutionAge</th>\n",
       "      <th>solStatus</th>\n",
       "      <th>latitude</th>\n",
       "      <th>numSatsInSolution</th>\n",
       "    </tr>\n",
       "  </thead>\n",
       "  <tbody>\n",
       "    <tr>\n",
       "      <th>0</th>\n",
       "      <td>1696267162048124370</td>\n",
       "      <td>0.012680</td>\n",
       "      <td>14</td>\n",
       "      <td>2bc6ebb8-a529-11ee-88ec-eb6a8d5269b4</td>\n",
       "      <td>17</td>\n",
       "      <td>0.018686</td>\n",
       "      <td>1.0</td>\n",
       "      <td>-82.131206</td>\n",
       "      <td>NARROW_INT</td>\n",
       "      <td>0.0</td>\n",
       "      <td>SOL_COMPUTED</td>\n",
       "      <td>39.332827</td>\n",
       "      <td>15</td>\n",
       "    </tr>\n",
       "    <tr>\n",
       "      <th>1</th>\n",
       "      <td>1696267073040116005</td>\n",
       "      <td>0.009081</td>\n",
       "      <td>11</td>\n",
       "      <td>2bc6ebb8-a529-11ee-88ec-eb6a8d5269b4</td>\n",
       "      <td>15</td>\n",
       "      <td>0.027778</td>\n",
       "      <td>1.0</td>\n",
       "      <td>-82.122906</td>\n",
       "      <td>NARROW_INT</td>\n",
       "      <td>0.0</td>\n",
       "      <td>SOL_COMPUTED</td>\n",
       "      <td>39.331073</td>\n",
       "      <td>12</td>\n",
       "    </tr>\n",
       "    <tr>\n",
       "      <th>2</th>\n",
       "      <td>1696266836042326589</td>\n",
       "      <td>0.486654</td>\n",
       "      <td>8</td>\n",
       "      <td>2bc6ebb8-a529-11ee-88ec-eb6a8d5269b4</td>\n",
       "      <td>9</td>\n",
       "      <td>0.358059</td>\n",
       "      <td>1.0</td>\n",
       "      <td>-82.102746</td>\n",
       "      <td>NARROW_INT</td>\n",
       "      <td>0.0</td>\n",
       "      <td>SOL_COMPUTED</td>\n",
       "      <td>39.327769</td>\n",
       "      <td>8</td>\n",
       "    </tr>\n",
       "    <tr>\n",
       "      <th>3</th>\n",
       "      <td>1696265878044528530</td>\n",
       "      <td>0.258845</td>\n",
       "      <td>6</td>\n",
       "      <td>2bc6ebb8-a529-11ee-88ec-eb6a8d5269b4</td>\n",
       "      <td>7</td>\n",
       "      <td>0.115422</td>\n",
       "      <td>1.0</td>\n",
       "      <td>-82.144406</td>\n",
       "      <td>NARROW_INT</td>\n",
       "      <td>0.0</td>\n",
       "      <td>SOL_COMPUTED</td>\n",
       "      <td>39.379875</td>\n",
       "      <td>7</td>\n",
       "    </tr>\n",
       "    <tr>\n",
       "      <th>4</th>\n",
       "      <td>1696265453037847443</td>\n",
       "      <td>0.008756</td>\n",
       "      <td>12</td>\n",
       "      <td>2bc6ebb8-a529-11ee-88ec-eb6a8d5269b4</td>\n",
       "      <td>15</td>\n",
       "      <td>0.011150</td>\n",
       "      <td>1.0</td>\n",
       "      <td>-82.134549</td>\n",
       "      <td>NARROW_INT</td>\n",
       "      <td>0.0</td>\n",
       "      <td>SOL_COMPUTED</td>\n",
       "      <td>39.351926</td>\n",
       "      <td>15</td>\n",
       "    </tr>\n",
       "    <tr>\n",
       "      <th>...</th>\n",
       "      <td>...</td>\n",
       "      <td>...</td>\n",
       "      <td>...</td>\n",
       "      <td>...</td>\n",
       "      <td>...</td>\n",
       "      <td>...</td>\n",
       "      <td>...</td>\n",
       "      <td>...</td>\n",
       "      <td>...</td>\n",
       "      <td>...</td>\n",
       "      <td>...</td>\n",
       "      <td>...</td>\n",
       "      <td>...</td>\n",
       "    </tr>\n",
       "    <tr>\n",
       "      <th>885</th>\n",
       "      <td>1697742404039702567</td>\n",
       "      <td>0.010018</td>\n",
       "      <td>15</td>\n",
       "      <td>ed352100-cba0-11ee-909c-e1dc60cf66f9</td>\n",
       "      <td>15</td>\n",
       "      <td>0.010736</td>\n",
       "      <td>1.0</td>\n",
       "      <td>-82.449271</td>\n",
       "      <td>NARROW_INT</td>\n",
       "      <td>0.0</td>\n",
       "      <td>SOL_COMPUTED</td>\n",
       "      <td>39.298951</td>\n",
       "      <td>15</td>\n",
       "    </tr>\n",
       "    <tr>\n",
       "      <th>886</th>\n",
       "      <td>1697742800040477209</td>\n",
       "      <td>0.008388</td>\n",
       "      <td>15</td>\n",
       "      <td>ed352100-cba0-11ee-909c-e1dc60cf66f9</td>\n",
       "      <td>15</td>\n",
       "      <td>0.008765</td>\n",
       "      <td>1.0</td>\n",
       "      <td>-82.459612</td>\n",
       "      <td>NARROW_INT</td>\n",
       "      <td>0.0</td>\n",
       "      <td>SOL_COMPUTED</td>\n",
       "      <td>39.330875</td>\n",
       "      <td>15</td>\n",
       "    </tr>\n",
       "    <tr>\n",
       "      <th>887</th>\n",
       "      <td>1697742414181851967</td>\n",
       "      <td>0.020261</td>\n",
       "      <td>12</td>\n",
       "      <td>ed352100-cba0-11ee-909c-e1dc60cf66f9</td>\n",
       "      <td>14</td>\n",
       "      <td>0.016166</td>\n",
       "      <td>1.0</td>\n",
       "      <td>-82.449819</td>\n",
       "      <td>NARROW_INT</td>\n",
       "      <td>0.0</td>\n",
       "      <td>SOL_COMPUTED</td>\n",
       "      <td>39.297684</td>\n",
       "      <td>12</td>\n",
       "    </tr>\n",
       "    <tr>\n",
       "      <th>888</th>\n",
       "      <td>1697742700039436271</td>\n",
       "      <td>0.010091</td>\n",
       "      <td>15</td>\n",
       "      <td>ed352100-cba0-11ee-909c-e1dc60cf66f9</td>\n",
       "      <td>15</td>\n",
       "      <td>0.009493</td>\n",
       "      <td>1.0</td>\n",
       "      <td>-82.465361</td>\n",
       "      <td>NARROW_INT</td>\n",
       "      <td>0.0</td>\n",
       "      <td>SOL_COMPUTED</td>\n",
       "      <td>39.309788</td>\n",
       "      <td>15</td>\n",
       "    </tr>\n",
       "    <tr>\n",
       "      <th>889</th>\n",
       "      <td>1697742284140417373</td>\n",
       "      <td>0.013816</td>\n",
       "      <td>11</td>\n",
       "      <td>ed352100-cba0-11ee-909c-e1dc60cf66f9</td>\n",
       "      <td>15</td>\n",
       "      <td>0.012112</td>\n",
       "      <td>2.0</td>\n",
       "      <td>-82.436553</td>\n",
       "      <td>NARROW_INT</td>\n",
       "      <td>0.0</td>\n",
       "      <td>SOL_COMPUTED</td>\n",
       "      <td>39.311441</td>\n",
       "      <td>11</td>\n",
       "    </tr>\n",
       "  </tbody>\n",
       "</table>\n",
       "<p>90086 rows × 13 columns</p>\n",
       "</div>"
      ],
      "text/plain": [
       "                    time  longitudeStdDev  numSatsMulti  \\\n",
       "0    1696267162048124370         0.012680            14   \n",
       "1    1696267073040116005         0.009081            11   \n",
       "2    1696266836042326589         0.486654             8   \n",
       "3    1696265878044528530         0.258845             6   \n",
       "4    1696265453037847443         0.008756            12   \n",
       "..                   ...              ...           ...   \n",
       "885  1697742404039702567         0.010018            15   \n",
       "886  1697742800040477209         0.008388            15   \n",
       "887  1697742414181851967         0.020261            12   \n",
       "888  1697742700039436271         0.010091            15   \n",
       "889  1697742284140417373         0.013816            11   \n",
       "\n",
       "                          groupMetadataID  numSatsTracked  latitudeStdDev  \\\n",
       "0    2bc6ebb8-a529-11ee-88ec-eb6a8d5269b4              17        0.018686   \n",
       "1    2bc6ebb8-a529-11ee-88ec-eb6a8d5269b4              15        0.027778   \n",
       "2    2bc6ebb8-a529-11ee-88ec-eb6a8d5269b4               9        0.358059   \n",
       "3    2bc6ebb8-a529-11ee-88ec-eb6a8d5269b4               7        0.115422   \n",
       "4    2bc6ebb8-a529-11ee-88ec-eb6a8d5269b4              15        0.011150   \n",
       "..                                    ...             ...             ...   \n",
       "885  ed352100-cba0-11ee-909c-e1dc60cf66f9              15        0.010736   \n",
       "886  ed352100-cba0-11ee-909c-e1dc60cf66f9              15        0.008765   \n",
       "887  ed352100-cba0-11ee-909c-e1dc60cf66f9              14        0.016166   \n",
       "888  ed352100-cba0-11ee-909c-e1dc60cf66f9              15        0.009493   \n",
       "889  ed352100-cba0-11ee-909c-e1dc60cf66f9              15        0.012112   \n",
       "\n",
       "     differentialAge  longitude     solType  solutionAge     solStatus  \\\n",
       "0                1.0 -82.131206  NARROW_INT          0.0  SOL_COMPUTED   \n",
       "1                1.0 -82.122906  NARROW_INT          0.0  SOL_COMPUTED   \n",
       "2                1.0 -82.102746  NARROW_INT          0.0  SOL_COMPUTED   \n",
       "3                1.0 -82.144406  NARROW_INT          0.0  SOL_COMPUTED   \n",
       "4                1.0 -82.134549  NARROW_INT          0.0  SOL_COMPUTED   \n",
       "..               ...        ...         ...          ...           ...   \n",
       "885              1.0 -82.449271  NARROW_INT          0.0  SOL_COMPUTED   \n",
       "886              1.0 -82.459612  NARROW_INT          0.0  SOL_COMPUTED   \n",
       "887              1.0 -82.449819  NARROW_INT          0.0  SOL_COMPUTED   \n",
       "888              1.0 -82.465361  NARROW_INT          0.0  SOL_COMPUTED   \n",
       "889              2.0 -82.436553  NARROW_INT          0.0  SOL_COMPUTED   \n",
       "\n",
       "      latitude  numSatsInSolution  \n",
       "0    39.332827                 15  \n",
       "1    39.331073                 12  \n",
       "2    39.327769                  8  \n",
       "3    39.379875                  7  \n",
       "4    39.351926                 15  \n",
       "..         ...                ...  \n",
       "885  39.298951                 15  \n",
       "886  39.330875                 15  \n",
       "887  39.297684                 12  \n",
       "888  39.309788                 15  \n",
       "889  39.311441                 11  \n",
       "\n",
       "[90086 rows x 13 columns]"
      ]
     },
     "execution_count": 4,
     "metadata": {},
     "output_type": "execute_result"
    }
   ],
   "source": [
    "df_pose = pd.DataFrame()\n",
    "\n",
    "for gmID in gmIDs[\"groupMetadataID\"]:\n",
    "    tempDF = pd.read_csv(f\"./data/best_pose/{gmID}.csv\")\n",
    "    print(tempDF.shape)\n",
    "    \n",
    "    df_pose = pd.concat([df_pose, tempDF])\n",
    "\n",
    "df_pose"
   ]
  },
  {
   "cell_type": "code",
   "execution_count": 5,
   "id": "a5634079",
   "metadata": {},
   "outputs": [
    {
     "name": "stdout",
     "output_type": "stream",
     "text": [
      "0: (92224, 31)\n",
      "1: (102616, 31)\n",
      "2: (43236, 31)\n",
      "3: (45928, 31)\n",
      "4: (99538, 31)\n",
      "5: (54776, 31)\n",
      "6: (44617, 31)\n",
      "7: (110026, 31)\n",
      "8: (95940, 31)\n",
      "9: (94714, 31)\n",
      "10: (92510, 31)\n",
      "11: (43362, 31)\n",
      "12: (31903, 31)\n",
      "13: (51703, 31)\n",
      "14: (96636, 31)\n",
      "15: (96977, 31)\n",
      "16: (52458, 31)\n",
      "17: (98215, 31)\n",
      "18: (74415, 31)\n",
      "19: (104411, 31)\n",
      "20: (53187, 31)\n",
      "21: (26911, 31)\n",
      "22: (94677, 31)\n",
      "23: (97046, 31)\n",
      "24: (105045, 31)\n",
      "25: (98571, 31)\n",
      "26: (92997, 31)\n",
      "27: (43768, 31)\n",
      "28: (96366, 31)\n",
      "29: (55659, 31)\n",
      "30: (108425, 31)\n",
      "31: (97269, 31)\n",
      "32: (47236, 31)\n",
      "33: (100339, 31)\n",
      "34: (83521, 31)\n",
      "35: (20433, 31)\n",
      "36: (55896, 31)\n",
      "37: (44345, 31)\n",
      "38: (54917, 31)\n",
      "39: (48895, 31)\n",
      "40: (46634, 31)\n",
      "41: (51922, 31)\n",
      "42: (89802, 31)\n",
      "43: (29251, 31)\n",
      "44: (96892, 31)\n",
      "45: (33498, 31)\n",
      "46: (45939, 31)\n",
      "47: (28737, 31)\n",
      "48: (42781, 31)\n",
      "49: (51210, 31)\n",
      "50: (44106, 31)\n",
      "51: (26107, 31)\n",
      "52: (86510, 31)\n",
      "53: (57241, 31)\n",
      "54: (53207, 31)\n",
      "55: (12180, 31)\n",
      "56: (23541, 31)\n",
      "57: (8231, 31)\n",
      "58: (44389, 31)\n"
     ]
    },
    {
     "data": {
      "text/html": [
       "<div>\n",
       "<style scoped>\n",
       "    .dataframe tbody tr th:only-of-type {\n",
       "        vertical-align: middle;\n",
       "    }\n",
       "\n",
       "    .dataframe tbody tr th {\n",
       "        vertical-align: top;\n",
       "    }\n",
       "\n",
       "    .dataframe thead th {\n",
       "        text-align: right;\n",
       "    }\n",
       "</style>\n",
       "<table border=\"1\" class=\"dataframe\">\n",
       "  <thead>\n",
       "    <tr style=\"text-align: right;\">\n",
       "      <th></th>\n",
       "      <th>yawRate</th>\n",
       "      <th>drivingMode</th>\n",
       "      <th>topic</th>\n",
       "      <th>msgsize</th>\n",
       "      <th>time</th>\n",
       "      <th>gearLocation</th>\n",
       "      <th>metadataID</th>\n",
       "      <th>throttlePercentage</th>\n",
       "      <th>steeringPercentage</th>\n",
       "      <th>brakePercentage</th>\n",
       "      <th>...</th>\n",
       "      <th>header.sequenceNum</th>\n",
       "      <th>header.timestampSec</th>\n",
       "      <th>wheelSpeed.isWheelSpdRrValid</th>\n",
       "      <th>wheelSpeed.wheelSpdRr</th>\n",
       "      <th>wheelSpeed.isWheelSpdRlValid</th>\n",
       "      <th>wheelSpeed.wheelSpdFr</th>\n",
       "      <th>wheelSpeed.isWheelSpdFrValid</th>\n",
       "      <th>wheelSpeed.wheelSpdRl</th>\n",
       "      <th>wheelSpeed.wheelSpdFl</th>\n",
       "      <th>wheelSpeed.isWheelSpdFlValid</th>\n",
       "    </tr>\n",
       "  </thead>\n",
       "  <tbody>\n",
       "    <tr>\n",
       "      <th>0</th>\n",
       "      <td>0</td>\n",
       "      <td>COMPLETE_AUTO_DRIVE</td>\n",
       "      <td>/apollo/canbus/chassis</td>\n",
       "      <td>134</td>\n",
       "      <td>1696266413065745678</td>\n",
       "      <td>GEAR_DRIVE</td>\n",
       "      <td>fc3dd66e-a540-11ee-88ec-eb6a8d5269b4</td>\n",
       "      <td>19.2</td>\n",
       "      <td>11.876391</td>\n",
       "      <td>0.0</td>\n",
       "      <td>...</td>\n",
       "      <td>62003</td>\n",
       "      <td>1.696266e+09</td>\n",
       "      <td>True</td>\n",
       "      <td>0.000000</td>\n",
       "      <td>True</td>\n",
       "      <td>0.000000</td>\n",
       "      <td>True</td>\n",
       "      <td>0.000000</td>\n",
       "      <td>0.000000</td>\n",
       "      <td>True</td>\n",
       "    </tr>\n",
       "    <tr>\n",
       "      <th>1</th>\n",
       "      <td>0</td>\n",
       "      <td>COMPLETE_AUTO_DRIVE</td>\n",
       "      <td>/apollo/canbus/chassis</td>\n",
       "      <td>134</td>\n",
       "      <td>1696266579443736849</td>\n",
       "      <td>GEAR_DRIVE</td>\n",
       "      <td>c748521e-a544-11ee-88ec-eb6a8d5269b4</td>\n",
       "      <td>0.0</td>\n",
       "      <td>-0.537309</td>\n",
       "      <td>1.2</td>\n",
       "      <td>...</td>\n",
       "      <td>70322</td>\n",
       "      <td>1.696267e+09</td>\n",
       "      <td>True</td>\n",
       "      <td>21.467560</td>\n",
       "      <td>True</td>\n",
       "      <td>21.572279</td>\n",
       "      <td>True</td>\n",
       "      <td>21.572279</td>\n",
       "      <td>21.624640</td>\n",
       "      <td>True</td>\n",
       "    </tr>\n",
       "    <tr>\n",
       "      <th>2</th>\n",
       "      <td>0</td>\n",
       "      <td>COMPLETE_MANUAL</td>\n",
       "      <td>/apollo/canbus/chassis</td>\n",
       "      <td>134</td>\n",
       "      <td>1696266535863733522</td>\n",
       "      <td>GEAR_DRIVE</td>\n",
       "      <td>e2111b22-a543-11ee-88ec-eb6a8d5269b4</td>\n",
       "      <td>0.0</td>\n",
       "      <td>3.038578</td>\n",
       "      <td>16.4</td>\n",
       "      <td>...</td>\n",
       "      <td>68143</td>\n",
       "      <td>1.696267e+09</td>\n",
       "      <td>True</td>\n",
       "      <td>34.557533</td>\n",
       "      <td>True</td>\n",
       "      <td>34.609894</td>\n",
       "      <td>True</td>\n",
       "      <td>34.557533</td>\n",
       "      <td>34.400455</td>\n",
       "      <td>True</td>\n",
       "    </tr>\n",
       "    <tr>\n",
       "      <th>3</th>\n",
       "      <td>0</td>\n",
       "      <td>COMPLETE_AUTO_DRIVE</td>\n",
       "      <td>/apollo/canbus/chassis</td>\n",
       "      <td>134</td>\n",
       "      <td>1696265694483328130</td>\n",
       "      <td>GEAR_DRIVE</td>\n",
       "      <td>cd867264-a530-11ee-88ec-eb6a8d5269b4</td>\n",
       "      <td>0.0</td>\n",
       "      <td>0.222335</td>\n",
       "      <td>14.8</td>\n",
       "      <td>...</td>\n",
       "      <td>26074</td>\n",
       "      <td>1.696266e+09</td>\n",
       "      <td>True</td>\n",
       "      <td>31.258860</td>\n",
       "      <td>True</td>\n",
       "      <td>31.101780</td>\n",
       "      <td>True</td>\n",
       "      <td>31.363581</td>\n",
       "      <td>31.101780</td>\n",
       "      <td>True</td>\n",
       "    </tr>\n",
       "    <tr>\n",
       "      <th>4</th>\n",
       "      <td>0</td>\n",
       "      <td>COMPLETE_AUTO_DRIVE</td>\n",
       "      <td>/apollo/canbus/chassis</td>\n",
       "      <td>133</td>\n",
       "      <td>1696265448567803986</td>\n",
       "      <td>GEAR_DRIVE</td>\n",
       "      <td>a3fd5840-a52b-11ee-88ec-eb6a8d5269b4</td>\n",
       "      <td>16.0</td>\n",
       "      <td>0.500254</td>\n",
       "      <td>0.0</td>\n",
       "      <td>...</td>\n",
       "      <td>13778</td>\n",
       "      <td>1.696265e+09</td>\n",
       "      <td>True</td>\n",
       "      <td>53.930698</td>\n",
       "      <td>True</td>\n",
       "      <td>54.192497</td>\n",
       "      <td>True</td>\n",
       "      <td>54.192497</td>\n",
       "      <td>54.192497</td>\n",
       "      <td>True</td>\n",
       "    </tr>\n",
       "    <tr>\n",
       "      <th>...</th>\n",
       "      <td>...</td>\n",
       "      <td>...</td>\n",
       "      <td>...</td>\n",
       "      <td>...</td>\n",
       "      <td>...</td>\n",
       "      <td>...</td>\n",
       "      <td>...</td>\n",
       "      <td>...</td>\n",
       "      <td>...</td>\n",
       "      <td>...</td>\n",
       "      <td>...</td>\n",
       "      <td>...</td>\n",
       "      <td>...</td>\n",
       "      <td>...</td>\n",
       "      <td>...</td>\n",
       "      <td>...</td>\n",
       "      <td>...</td>\n",
       "      <td>...</td>\n",
       "      <td>...</td>\n",
       "      <td>...</td>\n",
       "      <td>...</td>\n",
       "    </tr>\n",
       "    <tr>\n",
       "      <th>44384</th>\n",
       "      <td>0</td>\n",
       "      <td>COMPLETE_AUTO_DRIVE</td>\n",
       "      <td>/apollo/canbus/chassis</td>\n",
       "      <td>134</td>\n",
       "      <td>1697742323843334611</td>\n",
       "      <td>GEAR_DRIVE</td>\n",
       "      <td>e19964b8-cba3-11ee-909c-e1dc60cf66f9</td>\n",
       "      <td>7.2</td>\n",
       "      <td>0.092640</td>\n",
       "      <td>0.0</td>\n",
       "      <td>...</td>\n",
       "      <td>152366</td>\n",
       "      <td>1.697742e+09</td>\n",
       "      <td>True</td>\n",
       "      <td>42.620960</td>\n",
       "      <td>True</td>\n",
       "      <td>42.830399</td>\n",
       "      <td>True</td>\n",
       "      <td>42.882759</td>\n",
       "      <td>42.830399</td>\n",
       "      <td>True</td>\n",
       "    </tr>\n",
       "    <tr>\n",
       "      <th>44385</th>\n",
       "      <td>0</td>\n",
       "      <td>COMPLETE_AUTO_DRIVE</td>\n",
       "      <td>/apollo/canbus/chassis</td>\n",
       "      <td>134</td>\n",
       "      <td>1697742267983813930</td>\n",
       "      <td>GEAR_DRIVE</td>\n",
       "      <td>4ace6669-cba3-11ee-909c-e1dc60cf66f9</td>\n",
       "      <td>9.2</td>\n",
       "      <td>-0.277919</td>\n",
       "      <td>0.0</td>\n",
       "      <td>...</td>\n",
       "      <td>149573</td>\n",
       "      <td>1.697742e+09</td>\n",
       "      <td>True</td>\n",
       "      <td>40.160042</td>\n",
       "      <td>True</td>\n",
       "      <td>40.474201</td>\n",
       "      <td>True</td>\n",
       "      <td>40.317123</td>\n",
       "      <td>40.421844</td>\n",
       "      <td>True</td>\n",
       "    </tr>\n",
       "    <tr>\n",
       "      <th>44386</th>\n",
       "      <td>0</td>\n",
       "      <td>COMPLETE_AUTO_DRIVE</td>\n",
       "      <td>/apollo/canbus/chassis</td>\n",
       "      <td>134</td>\n",
       "      <td>1697742828565274583</td>\n",
       "      <td>GEAR_DRIVE</td>\n",
       "      <td>114b476f-cbaa-11ee-909c-e1dc60cf66f9</td>\n",
       "      <td>8.0</td>\n",
       "      <td>-0.296447</td>\n",
       "      <td>0.0</td>\n",
       "      <td>...</td>\n",
       "      <td>177602</td>\n",
       "      <td>1.697743e+09</td>\n",
       "      <td>True</td>\n",
       "      <td>41.050163</td>\n",
       "      <td>True</td>\n",
       "      <td>41.364323</td>\n",
       "      <td>True</td>\n",
       "      <td>41.259602</td>\n",
       "      <td>41.364323</td>\n",
       "      <td>True</td>\n",
       "    </tr>\n",
       "    <tr>\n",
       "      <th>44387</th>\n",
       "      <td>0</td>\n",
       "      <td>COMPLETE_AUTO_DRIVE</td>\n",
       "      <td>/apollo/canbus/chassis</td>\n",
       "      <td>134</td>\n",
       "      <td>1697742415083377144</td>\n",
       "      <td>GEAR_DRIVE</td>\n",
       "      <td>0ee2a5f8-cba5-11ee-909c-e1dc60cf66f9</td>\n",
       "      <td>13.2</td>\n",
       "      <td>-1.371066</td>\n",
       "      <td>0.0</td>\n",
       "      <td>...</td>\n",
       "      <td>156928</td>\n",
       "      <td>1.697742e+09</td>\n",
       "      <td>True</td>\n",
       "      <td>41.521400</td>\n",
       "      <td>True</td>\n",
       "      <td>41.783199</td>\n",
       "      <td>True</td>\n",
       "      <td>42.044998</td>\n",
       "      <td>41.992641</td>\n",
       "      <td>True</td>\n",
       "    </tr>\n",
       "    <tr>\n",
       "      <th>44388</th>\n",
       "      <td>0</td>\n",
       "      <td>COMPLETE_AUTO_DRIVE</td>\n",
       "      <td>/apollo/canbus/chassis</td>\n",
       "      <td>134</td>\n",
       "      <td>1697742819684251951</td>\n",
       "      <td>GEAR_DRIVE</td>\n",
       "      <td>f4aef113-cba9-11ee-909c-e1dc60cf66f9</td>\n",
       "      <td>4.0</td>\n",
       "      <td>0.037056</td>\n",
       "      <td>0.0</td>\n",
       "      <td>...</td>\n",
       "      <td>177158</td>\n",
       "      <td>1.697743e+09</td>\n",
       "      <td>True</td>\n",
       "      <td>42.411518</td>\n",
       "      <td>True</td>\n",
       "      <td>42.725677</td>\n",
       "      <td>True</td>\n",
       "      <td>42.725677</td>\n",
       "      <td>42.778038</td>\n",
       "      <td>True</td>\n",
       "    </tr>\n",
       "  </tbody>\n",
       "</table>\n",
       "<p>3823886 rows × 31 columns</p>\n",
       "</div>"
      ],
      "text/plain": [
       "       yawRate          drivingMode                   topic  msgsize  \\\n",
       "0            0  COMPLETE_AUTO_DRIVE  /apollo/canbus/chassis      134   \n",
       "1            0  COMPLETE_AUTO_DRIVE  /apollo/canbus/chassis      134   \n",
       "2            0      COMPLETE_MANUAL  /apollo/canbus/chassis      134   \n",
       "3            0  COMPLETE_AUTO_DRIVE  /apollo/canbus/chassis      134   \n",
       "4            0  COMPLETE_AUTO_DRIVE  /apollo/canbus/chassis      133   \n",
       "...        ...                  ...                     ...      ...   \n",
       "44384        0  COMPLETE_AUTO_DRIVE  /apollo/canbus/chassis      134   \n",
       "44385        0  COMPLETE_AUTO_DRIVE  /apollo/canbus/chassis      134   \n",
       "44386        0  COMPLETE_AUTO_DRIVE  /apollo/canbus/chassis      134   \n",
       "44387        0  COMPLETE_AUTO_DRIVE  /apollo/canbus/chassis      134   \n",
       "44388        0  COMPLETE_AUTO_DRIVE  /apollo/canbus/chassis      134   \n",
       "\n",
       "                      time gearLocation                            metadataID  \\\n",
       "0      1696266413065745678   GEAR_DRIVE  fc3dd66e-a540-11ee-88ec-eb6a8d5269b4   \n",
       "1      1696266579443736849   GEAR_DRIVE  c748521e-a544-11ee-88ec-eb6a8d5269b4   \n",
       "2      1696266535863733522   GEAR_DRIVE  e2111b22-a543-11ee-88ec-eb6a8d5269b4   \n",
       "3      1696265694483328130   GEAR_DRIVE  cd867264-a530-11ee-88ec-eb6a8d5269b4   \n",
       "4      1696265448567803986   GEAR_DRIVE  a3fd5840-a52b-11ee-88ec-eb6a8d5269b4   \n",
       "...                    ...          ...                                   ...   \n",
       "44384  1697742323843334611   GEAR_DRIVE  e19964b8-cba3-11ee-909c-e1dc60cf66f9   \n",
       "44385  1697742267983813930   GEAR_DRIVE  4ace6669-cba3-11ee-909c-e1dc60cf66f9   \n",
       "44386  1697742828565274583   GEAR_DRIVE  114b476f-cbaa-11ee-909c-e1dc60cf66f9   \n",
       "44387  1697742415083377144   GEAR_DRIVE  0ee2a5f8-cba5-11ee-909c-e1dc60cf66f9   \n",
       "44388  1697742819684251951   GEAR_DRIVE  f4aef113-cba9-11ee-909c-e1dc60cf66f9   \n",
       "\n",
       "       throttlePercentage  steeringPercentage  brakePercentage  ...  \\\n",
       "0                    19.2           11.876391              0.0  ...   \n",
       "1                     0.0           -0.537309              1.2  ...   \n",
       "2                     0.0            3.038578             16.4  ...   \n",
       "3                     0.0            0.222335             14.8  ...   \n",
       "4                    16.0            0.500254              0.0  ...   \n",
       "...                   ...                 ...              ...  ...   \n",
       "44384                 7.2            0.092640              0.0  ...   \n",
       "44385                 9.2           -0.277919              0.0  ...   \n",
       "44386                 8.0           -0.296447              0.0  ...   \n",
       "44387                13.2           -1.371066              0.0  ...   \n",
       "44388                 4.0            0.037056              0.0  ...   \n",
       "\n",
       "      header.sequenceNum header.timestampSec  wheelSpeed.isWheelSpdRrValid  \\\n",
       "0                  62003        1.696266e+09                          True   \n",
       "1                  70322        1.696267e+09                          True   \n",
       "2                  68143        1.696267e+09                          True   \n",
       "3                  26074        1.696266e+09                          True   \n",
       "4                  13778        1.696265e+09                          True   \n",
       "...                  ...                 ...                           ...   \n",
       "44384             152366        1.697742e+09                          True   \n",
       "44385             149573        1.697742e+09                          True   \n",
       "44386             177602        1.697743e+09                          True   \n",
       "44387             156928        1.697742e+09                          True   \n",
       "44388             177158        1.697743e+09                          True   \n",
       "\n",
       "       wheelSpeed.wheelSpdRr  wheelSpeed.isWheelSpdRlValid  \\\n",
       "0                   0.000000                          True   \n",
       "1                  21.467560                          True   \n",
       "2                  34.557533                          True   \n",
       "3                  31.258860                          True   \n",
       "4                  53.930698                          True   \n",
       "...                      ...                           ...   \n",
       "44384              42.620960                          True   \n",
       "44385              40.160042                          True   \n",
       "44386              41.050163                          True   \n",
       "44387              41.521400                          True   \n",
       "44388              42.411518                          True   \n",
       "\n",
       "      wheelSpeed.wheelSpdFr  wheelSpeed.isWheelSpdFrValid  \\\n",
       "0                  0.000000                          True   \n",
       "1                 21.572279                          True   \n",
       "2                 34.609894                          True   \n",
       "3                 31.101780                          True   \n",
       "4                 54.192497                          True   \n",
       "...                     ...                           ...   \n",
       "44384             42.830399                          True   \n",
       "44385             40.474201                          True   \n",
       "44386             41.364323                          True   \n",
       "44387             41.783199                          True   \n",
       "44388             42.725677                          True   \n",
       "\n",
       "       wheelSpeed.wheelSpdRl wheelSpeed.wheelSpdFl  \\\n",
       "0                   0.000000              0.000000   \n",
       "1                  21.572279             21.624640   \n",
       "2                  34.557533             34.400455   \n",
       "3                  31.363581             31.101780   \n",
       "4                  54.192497             54.192497   \n",
       "...                      ...                   ...   \n",
       "44384              42.882759             42.830399   \n",
       "44385              40.317123             40.421844   \n",
       "44386              41.259602             41.364323   \n",
       "44387              42.044998             41.992641   \n",
       "44388              42.725677             42.778038   \n",
       "\n",
       "      wheelSpeed.isWheelSpdFlValid  \n",
       "0                             True  \n",
       "1                             True  \n",
       "2                             True  \n",
       "3                             True  \n",
       "4                             True  \n",
       "...                            ...  \n",
       "44384                         True  \n",
       "44385                         True  \n",
       "44386                         True  \n",
       "44387                         True  \n",
       "44388                         True  \n",
       "\n",
       "[3823886 rows x 31 columns]"
      ]
     },
     "execution_count": 5,
     "metadata": {},
     "output_type": "execute_result"
    }
   ],
   "source": [
    "df_chassis = pd.DataFrame()\n",
    "\n",
    "i =0 \n",
    "for gmID in gmIDs[\"groupMetadataID\"]:\n",
    "    tempDF = pd.read_csv(f\"./data/chassis/{gmID}.csv\")\n",
    "    print(f\"{i}: {tempDF.shape}\")\n",
    "    \n",
    "    df_chassis = pd.concat([df_chassis, tempDF])\n",
    "    \n",
    "    i += 1\n",
    "\n",
    "df_chassis"
   ]
  },
  {
   "cell_type": "code",
   "execution_count": 6,
   "id": "bff9b2bd",
   "metadata": {},
   "outputs": [
    {
     "name": "stdout",
     "output_type": "stream",
     "text": [
      "2bc6ebb8-a529-11ee-88ec-eb6a8d5269b4\n",
      "0: (1847, 13)\n",
      "\n",
      "8fa6fe80-c869-11ee-a7fc-dd032dba19e8\n",
      "1: (2054, 13)\n",
      "\n",
      "837fc882-cb5a-11ee-909c-e1dc60cf66f9\n",
      "2: (864, 13)\n",
      "\n",
      "3d8020aa-cb7f-11ee-909c-e1dc60cf66f9\n",
      "3: (917, 13)\n",
      "\n",
      "559495ca-d270-11ee-b437-336917683bb8\n",
      "4: (1992, 13)\n",
      "\n",
      "47561998-d9c3-11ee-a158-97f8443fd730\n",
      "5: (1808, 13)\n",
      "\n",
      "25641404-cb66-11ee-909c-e1dc60cf66f9\n",
      "6: (893, 13)\n",
      "\n",
      "286c70cc-d2f7-11ee-b437-336917683bb8\n",
      "7: (2204, 13)\n",
      "\n",
      "c9c6856c-d33c-11ee-b437-336917683bb8\n",
      "8: (1920, 13)\n",
      "\n",
      "7f09f6c6-a5b0-11ee-88ec-eb6a8d5269b4\n",
      "9: (1899, 13)\n",
      "\n",
      "d12cd1c4-caec-11ee-909c-e1dc60cf66f9\n",
      "10: (1851, 13)\n",
      "\n",
      "3c415ade-d353-11ee-b437-336917683bb8\n",
      "11: (868, 13)\n",
      "\n",
      "3a2a78cc-db21-11ee-a158-97f8443fd730\n",
      "12: (2001, 13)\n",
      "\n",
      "e6d7d384-db40-11ee-a158-97f8443fd730\n",
      "13: (1706, 13)\n",
      "\n",
      "3a116996-93a9-11ee-956e-9da2d070324c\n",
      "14: (1907, 13)\n",
      "\n",
      "8437f77a-cab7-11ee-909c-e1dc60cf66f9\n",
      "15: (1943, 13)\n",
      "\n",
      "19b7ebd0-d9b7-11ee-a158-97f8443fd730\n",
      "16: (1731, 13)\n",
      "\n",
      "853ef120-cad3-11ee-909c-e1dc60cf66f9\n",
      "17: (1966, 13)\n",
      "\n",
      "64737d98-d312-11ee-b437-336917683bb8\n",
      "18: (1474, 13)\n",
      "\n",
      "5976b77a-a504-11ee-88ec-eb6a8d5269b4\n",
      "19: (2091, 13)\n",
      "\n",
      "baf0e4be-bede-11ee-835b-599066b5eb60\n",
      "20: (1756, 13)\n",
      "\n",
      "76683d3c-db18-11ee-a158-97f8443fd730\n",
      "21: (1815, 13)\n",
      "\n",
      "f671c05c-a5e4-11ee-88ec-eb6a8d5269b4\n",
      "22: (1898, 13)\n",
      "\n",
      "c338788a-d324-11ee-b437-336917683bb8\n",
      "23: (1943, 13)\n",
      "\n",
      "9830d896-d2dc-11ee-b437-336917683bb8\n",
      "24: (2102, 13)\n",
      "\n",
      "787d9684-d2c2-11ee-b437-336917683bb8\n",
      "25: (1975, 13)\n",
      "\n",
      "6d2ea45a-c839-11ee-a7fc-dd032dba19e8\n",
      "26: (1862, 13)\n",
      "\n",
      "b31aca98-cb95-11ee-909c-e1dc60cf66f9\n",
      "27: (877, 13)\n",
      "\n",
      "7fb7b9c0-c881-11ee-a7fc-dd032dba19e8\n",
      "28: (1930, 13)\n",
      "\n",
      "aa86a660-dc05-11ee-a158-97f8443fd730\n",
      "29: (1837, 13)\n",
      "\n",
      "a253145a-d2a6-11ee-b437-336917683bb8\n",
      "30: (2161, 13)\n",
      "\n",
      "feaf2ba8-d28d-11ee-b437-336917683bb8\n",
      "31: (1947, 13)\n",
      "\n",
      "e2079a78-dc1d-11ee-a158-97f8443fd730\n",
      "32: (1559, 13)\n",
      "\n",
      "58263e34-a45c-11ee-88ec-eb6a8d5269b4\n",
      "33: (2011, 13)\n",
      "\n",
      "2837eb9c-9542-11ee-956e-9da2d070324c\n",
      "34: (1668, 13)\n",
      "\n",
      "69ab88ec-dc17-11ee-a158-97f8443fd730\n",
      "35: (675, 13)\n",
      "\n",
      "dc39aa14-db32-11ee-a158-97f8443fd730\n",
      "36: (1827, 13)\n",
      "\n",
      "072ef896-cbac-11ee-909c-e1dc60cf66f9\n",
      "37: (889, 13)\n",
      "\n",
      "6af236d6-d98f-11ee-a158-97f8443fd730\n",
      "38: (1813, 13)\n",
      "\n",
      "8c57e8ac-dbec-11ee-a158-97f8443fd730\n",
      "39: (1614, 13)\n",
      "\n",
      "8b0593cc-cb4e-11ee-909c-e1dc60cf66f9\n",
      "40: (935, 13)\n",
      "\n",
      "c0624e24-d9aa-11ee-a158-97f8443fd730\n",
      "41: (1714, 13)\n",
      "\n",
      "51ef6da6-ca9f-11ee-909c-e1dc60cf66f9\n",
      "42: (1799, 13)\n",
      "\n",
      "86841630-d9d0-11ee-a158-97f8443fd730\n",
      "43: (965, 13)\n",
      "\n",
      "c335d84c-a45c-11ee-88ec-eb6a8d5269b4\n",
      "44: (1942, 13)\n",
      "\n",
      "ba6e1072-9524-11ee-956e-9da2d070324c\n",
      "45: (671, 13)\n",
      "\n",
      "a6539bd2-cb72-11ee-909c-e1dc60cf66f9\n",
      "46: (918, 13)\n",
      "\n",
      "154fab12-a43f-11ee-88ec-eb6a8d5269b4\n",
      "47: (575, 13)\n",
      "\n",
      "271fee10-cb8b-11ee-909c-e1dc60cf66f9\n",
      "48: (857, 13)\n",
      "\n",
      "68c289fa-dbd4-11ee-a158-97f8443fd730\n",
      "49: (1690, 13)\n",
      "\n",
      "88b0613a-d35d-11ee-b437-336917683bb8\n",
      "50: (882, 13)\n",
      "\n",
      "f9d62032-db2a-11ee-a158-97f8443fd730\n",
      "51: (1893, 13)\n",
      "\n",
      "90101c36-a621-11ee-88ec-eb6a8d5269b4\n",
      "52: (1731, 13)\n",
      "\n",
      "39ba7438-d0d5-11ee-9435-f7e542e2436c\n",
      "53: (1891, 13)\n",
      "\n",
      "06cbdbc0-db4d-11ee-a158-97f8443fd730\n",
      "54: (1756, 13)\n",
      "\n",
      "f6ac3c82-a445-11ee-88ec-eb6a8d5269b4\n",
      "55: (245, 13)\n",
      "\n",
      "da853e0c-a10f-11ee-981c-d126ddbe9afa\n",
      "56: (472, 13)\n",
      "\n",
      "1bbbfbae-c839-11ee-a7fc-dd032dba19e8\n",
      "57: (165, 13)\n",
      "\n",
      "ed352100-cba0-11ee-909c-e1dc60cf66f9\n",
      "58: (890, 13)\n",
      "\n"
     ]
    }
   ],
   "source": [
    "dict_pose = {}\n",
    "i=0\n",
    "for gmID in gmIDs[\"groupMetadataID\"]:\n",
    "    print(gmID)\n",
    "    tempDF = df_pose[(df_pose[\"groupMetadataID\"] == gmID)]\n",
    "    print(f\"{i}: {tempDF.shape}\\n\")\n",
    "    \n",
    "    dict_pose.update({ gmID:tempDF})\n",
    "    \n",
    "    i += 1"
   ]
  },
  {
   "cell_type": "code",
   "execution_count": 7,
   "id": "ab6349e2",
   "metadata": {},
   "outputs": [
    {
     "data": {
      "text/html": [
       "<div>\n",
       "<style scoped>\n",
       "    .dataframe tbody tr th:only-of-type {\n",
       "        vertical-align: middle;\n",
       "    }\n",
       "\n",
       "    .dataframe tbody tr th {\n",
       "        vertical-align: top;\n",
       "    }\n",
       "\n",
       "    .dataframe thead th {\n",
       "        text-align: right;\n",
       "    }\n",
       "</style>\n",
       "<table border=\"1\" class=\"dataframe\">\n",
       "  <thead>\n",
       "    <tr style=\"text-align: right;\">\n",
       "      <th></th>\n",
       "      <th>time</th>\n",
       "      <th>longitudeStdDev</th>\n",
       "      <th>numSatsMulti</th>\n",
       "      <th>groupMetadataID</th>\n",
       "      <th>numSatsTracked</th>\n",
       "      <th>latitudeStdDev</th>\n",
       "      <th>differentialAge</th>\n",
       "      <th>longitude</th>\n",
       "      <th>solType</th>\n",
       "      <th>solutionAge</th>\n",
       "      <th>solStatus</th>\n",
       "      <th>latitude</th>\n",
       "      <th>numSatsInSolution</th>\n",
       "    </tr>\n",
       "  </thead>\n",
       "  <tbody>\n",
       "    <tr>\n",
       "      <th>0</th>\n",
       "      <td>1696267162048124370</td>\n",
       "      <td>0.012680</td>\n",
       "      <td>14</td>\n",
       "      <td>2bc6ebb8-a529-11ee-88ec-eb6a8d5269b4</td>\n",
       "      <td>17</td>\n",
       "      <td>0.018686</td>\n",
       "      <td>1.0</td>\n",
       "      <td>-82.131206</td>\n",
       "      <td>NARROW_INT</td>\n",
       "      <td>0.0</td>\n",
       "      <td>SOL_COMPUTED</td>\n",
       "      <td>39.332827</td>\n",
       "      <td>15</td>\n",
       "    </tr>\n",
       "    <tr>\n",
       "      <th>1</th>\n",
       "      <td>1696267073040116005</td>\n",
       "      <td>0.009081</td>\n",
       "      <td>11</td>\n",
       "      <td>2bc6ebb8-a529-11ee-88ec-eb6a8d5269b4</td>\n",
       "      <td>15</td>\n",
       "      <td>0.027778</td>\n",
       "      <td>1.0</td>\n",
       "      <td>-82.122906</td>\n",
       "      <td>NARROW_INT</td>\n",
       "      <td>0.0</td>\n",
       "      <td>SOL_COMPUTED</td>\n",
       "      <td>39.331073</td>\n",
       "      <td>12</td>\n",
       "    </tr>\n",
       "    <tr>\n",
       "      <th>2</th>\n",
       "      <td>1696266836042326589</td>\n",
       "      <td>0.486654</td>\n",
       "      <td>8</td>\n",
       "      <td>2bc6ebb8-a529-11ee-88ec-eb6a8d5269b4</td>\n",
       "      <td>9</td>\n",
       "      <td>0.358059</td>\n",
       "      <td>1.0</td>\n",
       "      <td>-82.102746</td>\n",
       "      <td>NARROW_INT</td>\n",
       "      <td>0.0</td>\n",
       "      <td>SOL_COMPUTED</td>\n",
       "      <td>39.327769</td>\n",
       "      <td>8</td>\n",
       "    </tr>\n",
       "    <tr>\n",
       "      <th>3</th>\n",
       "      <td>1696265878044528530</td>\n",
       "      <td>0.258845</td>\n",
       "      <td>6</td>\n",
       "      <td>2bc6ebb8-a529-11ee-88ec-eb6a8d5269b4</td>\n",
       "      <td>7</td>\n",
       "      <td>0.115422</td>\n",
       "      <td>1.0</td>\n",
       "      <td>-82.144406</td>\n",
       "      <td>NARROW_INT</td>\n",
       "      <td>0.0</td>\n",
       "      <td>SOL_COMPUTED</td>\n",
       "      <td>39.379875</td>\n",
       "      <td>7</td>\n",
       "    </tr>\n",
       "    <tr>\n",
       "      <th>4</th>\n",
       "      <td>1696265453037847443</td>\n",
       "      <td>0.008756</td>\n",
       "      <td>12</td>\n",
       "      <td>2bc6ebb8-a529-11ee-88ec-eb6a8d5269b4</td>\n",
       "      <td>15</td>\n",
       "      <td>0.011150</td>\n",
       "      <td>1.0</td>\n",
       "      <td>-82.134549</td>\n",
       "      <td>NARROW_INT</td>\n",
       "      <td>0.0</td>\n",
       "      <td>SOL_COMPUTED</td>\n",
       "      <td>39.351926</td>\n",
       "      <td>15</td>\n",
       "    </tr>\n",
       "    <tr>\n",
       "      <th>...</th>\n",
       "      <td>...</td>\n",
       "      <td>...</td>\n",
       "      <td>...</td>\n",
       "      <td>...</td>\n",
       "      <td>...</td>\n",
       "      <td>...</td>\n",
       "      <td>...</td>\n",
       "      <td>...</td>\n",
       "      <td>...</td>\n",
       "      <td>...</td>\n",
       "      <td>...</td>\n",
       "      <td>...</td>\n",
       "      <td>...</td>\n",
       "    </tr>\n",
       "    <tr>\n",
       "      <th>1842</th>\n",
       "      <td>1696266555040082973</td>\n",
       "      <td>0.008109</td>\n",
       "      <td>13</td>\n",
       "      <td>2bc6ebb8-a529-11ee-88ec-eb6a8d5269b4</td>\n",
       "      <td>14</td>\n",
       "      <td>0.010981</td>\n",
       "      <td>1.0</td>\n",
       "      <td>-82.105312</td>\n",
       "      <td>NARROW_INT</td>\n",
       "      <td>0.0</td>\n",
       "      <td>SOL_COMPUTED</td>\n",
       "      <td>39.319201</td>\n",
       "      <td>14</td>\n",
       "    </tr>\n",
       "    <tr>\n",
       "      <th>1843</th>\n",
       "      <td>1696267012048560926</td>\n",
       "      <td>0.009359</td>\n",
       "      <td>12</td>\n",
       "      <td>2bc6ebb8-a529-11ee-88ec-eb6a8d5269b4</td>\n",
       "      <td>16</td>\n",
       "      <td>0.013683</td>\n",
       "      <td>1.0</td>\n",
       "      <td>-82.113882</td>\n",
       "      <td>NARROW_INT</td>\n",
       "      <td>0.0</td>\n",
       "      <td>SOL_COMPUTED</td>\n",
       "      <td>39.329815</td>\n",
       "      <td>12</td>\n",
       "    </tr>\n",
       "    <tr>\n",
       "      <th>1844</th>\n",
       "      <td>1696266270039275433</td>\n",
       "      <td>0.012362</td>\n",
       "      <td>10</td>\n",
       "      <td>2bc6ebb8-a529-11ee-88ec-eb6a8d5269b4</td>\n",
       "      <td>10</td>\n",
       "      <td>0.014606</td>\n",
       "      <td>1.0</td>\n",
       "      <td>-82.137843</td>\n",
       "      <td>NARROW_INT</td>\n",
       "      <td>0.0</td>\n",
       "      <td>SOL_COMPUTED</td>\n",
       "      <td>39.342891</td>\n",
       "      <td>10</td>\n",
       "    </tr>\n",
       "    <tr>\n",
       "      <th>1845</th>\n",
       "      <td>1696266275041982941</td>\n",
       "      <td>0.014854</td>\n",
       "      <td>9</td>\n",
       "      <td>2bc6ebb8-a529-11ee-88ec-eb6a8d5269b4</td>\n",
       "      <td>11</td>\n",
       "      <td>0.014146</td>\n",
       "      <td>1.0</td>\n",
       "      <td>-82.137430</td>\n",
       "      <td>NARROW_INT</td>\n",
       "      <td>0.0</td>\n",
       "      <td>SOL_COMPUTED</td>\n",
       "      <td>39.342273</td>\n",
       "      <td>9</td>\n",
       "    </tr>\n",
       "    <tr>\n",
       "      <th>1846</th>\n",
       "      <td>1696266468040001493</td>\n",
       "      <td>0.010095</td>\n",
       "      <td>10</td>\n",
       "      <td>2bc6ebb8-a529-11ee-88ec-eb6a8d5269b4</td>\n",
       "      <td>12</td>\n",
       "      <td>0.029969</td>\n",
       "      <td>1.0</td>\n",
       "      <td>-82.118333</td>\n",
       "      <td>NARROW_INT</td>\n",
       "      <td>0.0</td>\n",
       "      <td>SOL_COMPUTED</td>\n",
       "      <td>39.326074</td>\n",
       "      <td>12</td>\n",
       "    </tr>\n",
       "  </tbody>\n",
       "</table>\n",
       "<p>1847 rows × 13 columns</p>\n",
       "</div>"
      ],
      "text/plain": [
       "                     time  longitudeStdDev  numSatsMulti  \\\n",
       "0     1696267162048124370         0.012680            14   \n",
       "1     1696267073040116005         0.009081            11   \n",
       "2     1696266836042326589         0.486654             8   \n",
       "3     1696265878044528530         0.258845             6   \n",
       "4     1696265453037847443         0.008756            12   \n",
       "...                   ...              ...           ...   \n",
       "1842  1696266555040082973         0.008109            13   \n",
       "1843  1696267012048560926         0.009359            12   \n",
       "1844  1696266270039275433         0.012362            10   \n",
       "1845  1696266275041982941         0.014854             9   \n",
       "1846  1696266468040001493         0.010095            10   \n",
       "\n",
       "                           groupMetadataID  numSatsTracked  latitudeStdDev  \\\n",
       "0     2bc6ebb8-a529-11ee-88ec-eb6a8d5269b4              17        0.018686   \n",
       "1     2bc6ebb8-a529-11ee-88ec-eb6a8d5269b4              15        0.027778   \n",
       "2     2bc6ebb8-a529-11ee-88ec-eb6a8d5269b4               9        0.358059   \n",
       "3     2bc6ebb8-a529-11ee-88ec-eb6a8d5269b4               7        0.115422   \n",
       "4     2bc6ebb8-a529-11ee-88ec-eb6a8d5269b4              15        0.011150   \n",
       "...                                    ...             ...             ...   \n",
       "1842  2bc6ebb8-a529-11ee-88ec-eb6a8d5269b4              14        0.010981   \n",
       "1843  2bc6ebb8-a529-11ee-88ec-eb6a8d5269b4              16        0.013683   \n",
       "1844  2bc6ebb8-a529-11ee-88ec-eb6a8d5269b4              10        0.014606   \n",
       "1845  2bc6ebb8-a529-11ee-88ec-eb6a8d5269b4              11        0.014146   \n",
       "1846  2bc6ebb8-a529-11ee-88ec-eb6a8d5269b4              12        0.029969   \n",
       "\n",
       "      differentialAge  longitude     solType  solutionAge     solStatus  \\\n",
       "0                 1.0 -82.131206  NARROW_INT          0.0  SOL_COMPUTED   \n",
       "1                 1.0 -82.122906  NARROW_INT          0.0  SOL_COMPUTED   \n",
       "2                 1.0 -82.102746  NARROW_INT          0.0  SOL_COMPUTED   \n",
       "3                 1.0 -82.144406  NARROW_INT          0.0  SOL_COMPUTED   \n",
       "4                 1.0 -82.134549  NARROW_INT          0.0  SOL_COMPUTED   \n",
       "...               ...        ...         ...          ...           ...   \n",
       "1842              1.0 -82.105312  NARROW_INT          0.0  SOL_COMPUTED   \n",
       "1843              1.0 -82.113882  NARROW_INT          0.0  SOL_COMPUTED   \n",
       "1844              1.0 -82.137843  NARROW_INT          0.0  SOL_COMPUTED   \n",
       "1845              1.0 -82.137430  NARROW_INT          0.0  SOL_COMPUTED   \n",
       "1846              1.0 -82.118333  NARROW_INT          0.0  SOL_COMPUTED   \n",
       "\n",
       "       latitude  numSatsInSolution  \n",
       "0     39.332827                 15  \n",
       "1     39.331073                 12  \n",
       "2     39.327769                  8  \n",
       "3     39.379875                  7  \n",
       "4     39.351926                 15  \n",
       "...         ...                ...  \n",
       "1842  39.319201                 14  \n",
       "1843  39.329815                 12  \n",
       "1844  39.342891                 10  \n",
       "1845  39.342273                  9  \n",
       "1846  39.326074                 12  \n",
       "\n",
       "[1847 rows x 13 columns]"
      ]
     },
     "execution_count": 7,
     "metadata": {},
     "output_type": "execute_result"
    }
   ],
   "source": [
    "dict_pose[\"2bc6ebb8-a529-11ee-88ec-eb6a8d5269b4\"]"
   ]
  },
  {
   "cell_type": "code",
   "execution_count": 8,
   "id": "9894e016",
   "metadata": {},
   "outputs": [
    {
     "name": "stdout",
     "output_type": "stream",
     "text": [
      "2bc6ebb8-a529-11ee-88ec-eb6a8d5269b4\n",
      "0: (92224, 31)\n",
      "\n",
      "8fa6fe80-c869-11ee-a7fc-dd032dba19e8\n",
      "1: (102616, 31)\n",
      "\n",
      "837fc882-cb5a-11ee-909c-e1dc60cf66f9\n",
      "2: (43236, 31)\n",
      "\n",
      "3d8020aa-cb7f-11ee-909c-e1dc60cf66f9\n",
      "3: (45928, 31)\n",
      "\n",
      "559495ca-d270-11ee-b437-336917683bb8\n",
      "4: (99538, 31)\n",
      "\n",
      "47561998-d9c3-11ee-a158-97f8443fd730\n",
      "5: (54776, 31)\n",
      "\n",
      "25641404-cb66-11ee-909c-e1dc60cf66f9\n",
      "6: (44617, 31)\n",
      "\n",
      "286c70cc-d2f7-11ee-b437-336917683bb8\n",
      "7: (110026, 31)\n",
      "\n",
      "c9c6856c-d33c-11ee-b437-336917683bb8\n",
      "8: (95940, 31)\n",
      "\n",
      "7f09f6c6-a5b0-11ee-88ec-eb6a8d5269b4\n",
      "9: (94714, 31)\n",
      "\n",
      "d12cd1c4-caec-11ee-909c-e1dc60cf66f9\n",
      "10: (92510, 31)\n",
      "\n",
      "3c415ade-d353-11ee-b437-336917683bb8\n",
      "11: (43362, 31)\n",
      "\n",
      "3a2a78cc-db21-11ee-a158-97f8443fd730\n",
      "12: (31903, 31)\n",
      "\n",
      "e6d7d384-db40-11ee-a158-97f8443fd730\n",
      "13: (51703, 31)\n",
      "\n",
      "3a116996-93a9-11ee-956e-9da2d070324c\n",
      "14: (96636, 31)\n",
      "\n",
      "8437f77a-cab7-11ee-909c-e1dc60cf66f9\n",
      "15: (96977, 31)\n",
      "\n",
      "19b7ebd0-d9b7-11ee-a158-97f8443fd730\n",
      "16: (52458, 31)\n",
      "\n",
      "853ef120-cad3-11ee-909c-e1dc60cf66f9\n",
      "17: (98215, 31)\n",
      "\n",
      "64737d98-d312-11ee-b437-336917683bb8\n",
      "18: (74415, 31)\n",
      "\n",
      "5976b77a-a504-11ee-88ec-eb6a8d5269b4\n",
      "19: (104411, 31)\n",
      "\n",
      "baf0e4be-bede-11ee-835b-599066b5eb60\n",
      "20: (53187, 31)\n",
      "\n",
      "76683d3c-db18-11ee-a158-97f8443fd730\n",
      "21: (26911, 31)\n",
      "\n",
      "f671c05c-a5e4-11ee-88ec-eb6a8d5269b4\n",
      "22: (94677, 31)\n",
      "\n",
      "c338788a-d324-11ee-b437-336917683bb8\n",
      "23: (97046, 31)\n",
      "\n",
      "9830d896-d2dc-11ee-b437-336917683bb8\n",
      "24: (105045, 31)\n",
      "\n",
      "787d9684-d2c2-11ee-b437-336917683bb8\n",
      "25: (98571, 31)\n",
      "\n",
      "6d2ea45a-c839-11ee-a7fc-dd032dba19e8\n",
      "26: (92997, 31)\n",
      "\n",
      "b31aca98-cb95-11ee-909c-e1dc60cf66f9\n",
      "27: (43768, 31)\n",
      "\n",
      "7fb7b9c0-c881-11ee-a7fc-dd032dba19e8\n",
      "28: (96366, 31)\n",
      "\n",
      "aa86a660-dc05-11ee-a158-97f8443fd730\n",
      "29: (55659, 31)\n",
      "\n",
      "a253145a-d2a6-11ee-b437-336917683bb8\n",
      "30: (108425, 31)\n",
      "\n",
      "feaf2ba8-d28d-11ee-b437-336917683bb8\n",
      "31: (97269, 31)\n",
      "\n",
      "e2079a78-dc1d-11ee-a158-97f8443fd730\n",
      "32: (47236, 31)\n",
      "\n",
      "58263e34-a45c-11ee-88ec-eb6a8d5269b4\n",
      "33: (100339, 31)\n",
      "\n",
      "2837eb9c-9542-11ee-956e-9da2d070324c\n",
      "34: (83521, 31)\n",
      "\n",
      "69ab88ec-dc17-11ee-a158-97f8443fd730\n",
      "35: (20433, 31)\n",
      "\n",
      "dc39aa14-db32-11ee-a158-97f8443fd730\n",
      "36: (55896, 31)\n",
      "\n",
      "072ef896-cbac-11ee-909c-e1dc60cf66f9\n",
      "37: (44345, 31)\n",
      "\n",
      "6af236d6-d98f-11ee-a158-97f8443fd730\n",
      "38: (54917, 31)\n",
      "\n",
      "8c57e8ac-dbec-11ee-a158-97f8443fd730\n",
      "39: (48895, 31)\n",
      "\n",
      "8b0593cc-cb4e-11ee-909c-e1dc60cf66f9\n",
      "40: (46634, 31)\n",
      "\n",
      "c0624e24-d9aa-11ee-a158-97f8443fd730\n",
      "41: (51922, 31)\n",
      "\n",
      "51ef6da6-ca9f-11ee-909c-e1dc60cf66f9\n",
      "42: (89802, 31)\n",
      "\n",
      "86841630-d9d0-11ee-a158-97f8443fd730\n",
      "43: (29251, 31)\n",
      "\n",
      "c335d84c-a45c-11ee-88ec-eb6a8d5269b4\n",
      "44: (96892, 31)\n",
      "\n",
      "ba6e1072-9524-11ee-956e-9da2d070324c\n",
      "45: (33498, 31)\n",
      "\n",
      "a6539bd2-cb72-11ee-909c-e1dc60cf66f9\n",
      "46: (45939, 31)\n",
      "\n",
      "154fab12-a43f-11ee-88ec-eb6a8d5269b4\n",
      "47: (28737, 31)\n",
      "\n",
      "271fee10-cb8b-11ee-909c-e1dc60cf66f9\n",
      "48: (42781, 31)\n",
      "\n",
      "68c289fa-dbd4-11ee-a158-97f8443fd730\n",
      "49: (51210, 31)\n",
      "\n",
      "88b0613a-d35d-11ee-b437-336917683bb8\n",
      "50: (44106, 31)\n",
      "\n",
      "f9d62032-db2a-11ee-a158-97f8443fd730\n",
      "51: (26107, 31)\n",
      "\n",
      "90101c36-a621-11ee-88ec-eb6a8d5269b4\n",
      "52: (86510, 31)\n",
      "\n",
      "39ba7438-d0d5-11ee-9435-f7e542e2436c\n",
      "53: (57241, 31)\n",
      "\n",
      "06cbdbc0-db4d-11ee-a158-97f8443fd730\n",
      "54: (53207, 31)\n",
      "\n",
      "f6ac3c82-a445-11ee-88ec-eb6a8d5269b4\n",
      "55: (12180, 31)\n",
      "\n",
      "da853e0c-a10f-11ee-981c-d126ddbe9afa\n",
      "56: (23541, 31)\n",
      "\n",
      "1bbbfbae-c839-11ee-a7fc-dd032dba19e8\n",
      "57: (8231, 31)\n",
      "\n",
      "ed352100-cba0-11ee-909c-e1dc60cf66f9\n",
      "58: (44389, 31)\n",
      "\n"
     ]
    }
   ],
   "source": [
    "dict_chassis = {}\n",
    "i=0\n",
    "for gmID in gmIDs[\"groupMetadataID\"]:\n",
    "    print(gmID)\n",
    "    tempDF = df_chassis[(df_chassis[\"groupMetadataID\"] == gmID)]\n",
    "    print(f\"{i}: {tempDF.shape}\\n\")\n",
    "    \n",
    "    dict_chassis.update({ gmID:tempDF})\n",
    "    \n",
    "    \n",
    "    \n",
    "    i += 1"
   ]
  },
  {
   "cell_type": "code",
   "execution_count": 9,
   "id": "1a4eb862",
   "metadata": {},
   "outputs": [
    {
     "data": {
      "text/html": [
       "<div>\n",
       "<style scoped>\n",
       "    .dataframe tbody tr th:only-of-type {\n",
       "        vertical-align: middle;\n",
       "    }\n",
       "\n",
       "    .dataframe tbody tr th {\n",
       "        vertical-align: top;\n",
       "    }\n",
       "\n",
       "    .dataframe thead th {\n",
       "        text-align: right;\n",
       "    }\n",
       "</style>\n",
       "<table border=\"1\" class=\"dataframe\">\n",
       "  <thead>\n",
       "    <tr style=\"text-align: right;\">\n",
       "      <th></th>\n",
       "      <th>yawRate</th>\n",
       "      <th>drivingMode</th>\n",
       "      <th>topic</th>\n",
       "      <th>msgsize</th>\n",
       "      <th>time</th>\n",
       "      <th>gearLocation</th>\n",
       "      <th>metadataID</th>\n",
       "      <th>throttlePercentage</th>\n",
       "      <th>steeringPercentage</th>\n",
       "      <th>brakePercentage</th>\n",
       "      <th>...</th>\n",
       "      <th>header.sequenceNum</th>\n",
       "      <th>header.timestampSec</th>\n",
       "      <th>wheelSpeed.isWheelSpdRrValid</th>\n",
       "      <th>wheelSpeed.wheelSpdRr</th>\n",
       "      <th>wheelSpeed.isWheelSpdRlValid</th>\n",
       "      <th>wheelSpeed.wheelSpdFr</th>\n",
       "      <th>wheelSpeed.isWheelSpdFrValid</th>\n",
       "      <th>wheelSpeed.wheelSpdRl</th>\n",
       "      <th>wheelSpeed.wheelSpdFl</th>\n",
       "      <th>wheelSpeed.isWheelSpdFlValid</th>\n",
       "    </tr>\n",
       "  </thead>\n",
       "  <tbody>\n",
       "    <tr>\n",
       "      <th>0</th>\n",
       "      <td>0</td>\n",
       "      <td>COMPLETE_AUTO_DRIVE</td>\n",
       "      <td>/apollo/canbus/chassis</td>\n",
       "      <td>134</td>\n",
       "      <td>1696266413065745678</td>\n",
       "      <td>GEAR_DRIVE</td>\n",
       "      <td>fc3dd66e-a540-11ee-88ec-eb6a8d5269b4</td>\n",
       "      <td>19.2</td>\n",
       "      <td>11.876391</td>\n",
       "      <td>0.0</td>\n",
       "      <td>...</td>\n",
       "      <td>62003</td>\n",
       "      <td>1.696266e+09</td>\n",
       "      <td>True</td>\n",
       "      <td>0.000000</td>\n",
       "      <td>True</td>\n",
       "      <td>0.000000</td>\n",
       "      <td>True</td>\n",
       "      <td>0.000000</td>\n",
       "      <td>0.000000</td>\n",
       "      <td>True</td>\n",
       "    </tr>\n",
       "    <tr>\n",
       "      <th>1</th>\n",
       "      <td>0</td>\n",
       "      <td>COMPLETE_AUTO_DRIVE</td>\n",
       "      <td>/apollo/canbus/chassis</td>\n",
       "      <td>134</td>\n",
       "      <td>1696266579443736849</td>\n",
       "      <td>GEAR_DRIVE</td>\n",
       "      <td>c748521e-a544-11ee-88ec-eb6a8d5269b4</td>\n",
       "      <td>0.0</td>\n",
       "      <td>-0.537309</td>\n",
       "      <td>1.2</td>\n",
       "      <td>...</td>\n",
       "      <td>70322</td>\n",
       "      <td>1.696267e+09</td>\n",
       "      <td>True</td>\n",
       "      <td>21.467560</td>\n",
       "      <td>True</td>\n",
       "      <td>21.572279</td>\n",
       "      <td>True</td>\n",
       "      <td>21.572279</td>\n",
       "      <td>21.624640</td>\n",
       "      <td>True</td>\n",
       "    </tr>\n",
       "    <tr>\n",
       "      <th>2</th>\n",
       "      <td>0</td>\n",
       "      <td>COMPLETE_MANUAL</td>\n",
       "      <td>/apollo/canbus/chassis</td>\n",
       "      <td>134</td>\n",
       "      <td>1696266535863733522</td>\n",
       "      <td>GEAR_DRIVE</td>\n",
       "      <td>e2111b22-a543-11ee-88ec-eb6a8d5269b4</td>\n",
       "      <td>0.0</td>\n",
       "      <td>3.038578</td>\n",
       "      <td>16.4</td>\n",
       "      <td>...</td>\n",
       "      <td>68143</td>\n",
       "      <td>1.696267e+09</td>\n",
       "      <td>True</td>\n",
       "      <td>34.557533</td>\n",
       "      <td>True</td>\n",
       "      <td>34.609894</td>\n",
       "      <td>True</td>\n",
       "      <td>34.557533</td>\n",
       "      <td>34.400455</td>\n",
       "      <td>True</td>\n",
       "    </tr>\n",
       "    <tr>\n",
       "      <th>3</th>\n",
       "      <td>0</td>\n",
       "      <td>COMPLETE_AUTO_DRIVE</td>\n",
       "      <td>/apollo/canbus/chassis</td>\n",
       "      <td>134</td>\n",
       "      <td>1696265694483328130</td>\n",
       "      <td>GEAR_DRIVE</td>\n",
       "      <td>cd867264-a530-11ee-88ec-eb6a8d5269b4</td>\n",
       "      <td>0.0</td>\n",
       "      <td>0.222335</td>\n",
       "      <td>14.8</td>\n",
       "      <td>...</td>\n",
       "      <td>26074</td>\n",
       "      <td>1.696266e+09</td>\n",
       "      <td>True</td>\n",
       "      <td>31.258860</td>\n",
       "      <td>True</td>\n",
       "      <td>31.101780</td>\n",
       "      <td>True</td>\n",
       "      <td>31.363581</td>\n",
       "      <td>31.101780</td>\n",
       "      <td>True</td>\n",
       "    </tr>\n",
       "    <tr>\n",
       "      <th>4</th>\n",
       "      <td>0</td>\n",
       "      <td>COMPLETE_AUTO_DRIVE</td>\n",
       "      <td>/apollo/canbus/chassis</td>\n",
       "      <td>133</td>\n",
       "      <td>1696265448567803986</td>\n",
       "      <td>GEAR_DRIVE</td>\n",
       "      <td>a3fd5840-a52b-11ee-88ec-eb6a8d5269b4</td>\n",
       "      <td>16.0</td>\n",
       "      <td>0.500254</td>\n",
       "      <td>0.0</td>\n",
       "      <td>...</td>\n",
       "      <td>13778</td>\n",
       "      <td>1.696265e+09</td>\n",
       "      <td>True</td>\n",
       "      <td>53.930698</td>\n",
       "      <td>True</td>\n",
       "      <td>54.192497</td>\n",
       "      <td>True</td>\n",
       "      <td>54.192497</td>\n",
       "      <td>54.192497</td>\n",
       "      <td>True</td>\n",
       "    </tr>\n",
       "    <tr>\n",
       "      <th>...</th>\n",
       "      <td>...</td>\n",
       "      <td>...</td>\n",
       "      <td>...</td>\n",
       "      <td>...</td>\n",
       "      <td>...</td>\n",
       "      <td>...</td>\n",
       "      <td>...</td>\n",
       "      <td>...</td>\n",
       "      <td>...</td>\n",
       "      <td>...</td>\n",
       "      <td>...</td>\n",
       "      <td>...</td>\n",
       "      <td>...</td>\n",
       "      <td>...</td>\n",
       "      <td>...</td>\n",
       "      <td>...</td>\n",
       "      <td>...</td>\n",
       "      <td>...</td>\n",
       "      <td>...</td>\n",
       "      <td>...</td>\n",
       "      <td>...</td>\n",
       "    </tr>\n",
       "    <tr>\n",
       "      <th>92219</th>\n",
       "      <td>0</td>\n",
       "      <td>COMPLETE_MANUAL</td>\n",
       "      <td>/apollo/canbus/chassis</td>\n",
       "      <td>133</td>\n",
       "      <td>1696265327224139912</td>\n",
       "      <td>GEAR_DRIVE</td>\n",
       "      <td>35da3ccc-a529-11ee-88ec-eb6a8d5269b4</td>\n",
       "      <td>12.0</td>\n",
       "      <td>1.630456</td>\n",
       "      <td>0.0</td>\n",
       "      <td>...</td>\n",
       "      <td>7711</td>\n",
       "      <td>1.696265e+09</td>\n",
       "      <td>True</td>\n",
       "      <td>43.720516</td>\n",
       "      <td>True</td>\n",
       "      <td>44.034676</td>\n",
       "      <td>True</td>\n",
       "      <td>43.772877</td>\n",
       "      <td>43.825237</td>\n",
       "      <td>True</td>\n",
       "    </tr>\n",
       "    <tr>\n",
       "      <th>92220</th>\n",
       "      <td>0</td>\n",
       "      <td>COMPLETE_AUTO_DRIVE</td>\n",
       "      <td>/apollo/canbus/chassis</td>\n",
       "      <td>133</td>\n",
       "      <td>1696265429123824495</td>\n",
       "      <td>GEAR_DRIVE</td>\n",
       "      <td>3a8c01cc-a52b-11ee-88ec-eb6a8d5269b4</td>\n",
       "      <td>17.6</td>\n",
       "      <td>-2.779187</td>\n",
       "      <td>0.0</td>\n",
       "      <td>...</td>\n",
       "      <td>12806</td>\n",
       "      <td>1.696265e+09</td>\n",
       "      <td>True</td>\n",
       "      <td>46.338512</td>\n",
       "      <td>True</td>\n",
       "      <td>46.705032</td>\n",
       "      <td>True</td>\n",
       "      <td>46.966831</td>\n",
       "      <td>47.123909</td>\n",
       "      <td>True</td>\n",
       "    </tr>\n",
       "    <tr>\n",
       "      <th>92221</th>\n",
       "      <td>0</td>\n",
       "      <td>COMPLETE_AUTO_DRIVE</td>\n",
       "      <td>/apollo/canbus/chassis</td>\n",
       "      <td>134</td>\n",
       "      <td>1696266188565054455</td>\n",
       "      <td>GEAR_DRIVE</td>\n",
       "      <td>c2784608-a53b-11ee-88ec-eb6a8d5269b4</td>\n",
       "      <td>18.4</td>\n",
       "      <td>-1.500761</td>\n",
       "      <td>0.0</td>\n",
       "      <td>...</td>\n",
       "      <td>50778</td>\n",
       "      <td>1.696266e+09</td>\n",
       "      <td>True</td>\n",
       "      <td>50.108425</td>\n",
       "      <td>True</td>\n",
       "      <td>50.632023</td>\n",
       "      <td>True</td>\n",
       "      <td>50.632023</td>\n",
       "      <td>50.789104</td>\n",
       "      <td>True</td>\n",
       "    </tr>\n",
       "    <tr>\n",
       "      <th>92222</th>\n",
       "      <td>0</td>\n",
       "      <td>EMERGENCY_MODE</td>\n",
       "      <td>/apollo/canbus/chassis</td>\n",
       "      <td>134</td>\n",
       "      <td>1696265756003170517</td>\n",
       "      <td>GEAR_DRIVE</td>\n",
       "      <td>4046124a-a532-11ee-88ec-eb6a8d5269b4</td>\n",
       "      <td>0.0</td>\n",
       "      <td>-2.186294</td>\n",
       "      <td>14.0</td>\n",
       "      <td>...</td>\n",
       "      <td>29150</td>\n",
       "      <td>1.696266e+09</td>\n",
       "      <td>True</td>\n",
       "      <td>7.906345</td>\n",
       "      <td>True</td>\n",
       "      <td>7.958705</td>\n",
       "      <td>True</td>\n",
       "      <td>8.011065</td>\n",
       "      <td>8.011065</td>\n",
       "      <td>True</td>\n",
       "    </tr>\n",
       "    <tr>\n",
       "      <th>92223</th>\n",
       "      <td>0</td>\n",
       "      <td>COMPLETE_MANUAL</td>\n",
       "      <td>/apollo/canbus/chassis</td>\n",
       "      <td>134</td>\n",
       "      <td>1696266790884390733</td>\n",
       "      <td>GEAR_DRIVE</td>\n",
       "      <td>0c4b6c52-a54a-11ee-88ec-eb6a8d5269b4</td>\n",
       "      <td>0.0</td>\n",
       "      <td>6.095683</td>\n",
       "      <td>30.0</td>\n",
       "      <td>...</td>\n",
       "      <td>80894</td>\n",
       "      <td>1.696267e+09</td>\n",
       "      <td>True</td>\n",
       "      <td>0.000000</td>\n",
       "      <td>True</td>\n",
       "      <td>0.000000</td>\n",
       "      <td>True</td>\n",
       "      <td>0.000000</td>\n",
       "      <td>0.000000</td>\n",
       "      <td>True</td>\n",
       "    </tr>\n",
       "  </tbody>\n",
       "</table>\n",
       "<p>92224 rows × 31 columns</p>\n",
       "</div>"
      ],
      "text/plain": [
       "       yawRate          drivingMode                   topic  msgsize  \\\n",
       "0            0  COMPLETE_AUTO_DRIVE  /apollo/canbus/chassis      134   \n",
       "1            0  COMPLETE_AUTO_DRIVE  /apollo/canbus/chassis      134   \n",
       "2            0      COMPLETE_MANUAL  /apollo/canbus/chassis      134   \n",
       "3            0  COMPLETE_AUTO_DRIVE  /apollo/canbus/chassis      134   \n",
       "4            0  COMPLETE_AUTO_DRIVE  /apollo/canbus/chassis      133   \n",
       "...        ...                  ...                     ...      ...   \n",
       "92219        0      COMPLETE_MANUAL  /apollo/canbus/chassis      133   \n",
       "92220        0  COMPLETE_AUTO_DRIVE  /apollo/canbus/chassis      133   \n",
       "92221        0  COMPLETE_AUTO_DRIVE  /apollo/canbus/chassis      134   \n",
       "92222        0       EMERGENCY_MODE  /apollo/canbus/chassis      134   \n",
       "92223        0      COMPLETE_MANUAL  /apollo/canbus/chassis      134   \n",
       "\n",
       "                      time gearLocation                            metadataID  \\\n",
       "0      1696266413065745678   GEAR_DRIVE  fc3dd66e-a540-11ee-88ec-eb6a8d5269b4   \n",
       "1      1696266579443736849   GEAR_DRIVE  c748521e-a544-11ee-88ec-eb6a8d5269b4   \n",
       "2      1696266535863733522   GEAR_DRIVE  e2111b22-a543-11ee-88ec-eb6a8d5269b4   \n",
       "3      1696265694483328130   GEAR_DRIVE  cd867264-a530-11ee-88ec-eb6a8d5269b4   \n",
       "4      1696265448567803986   GEAR_DRIVE  a3fd5840-a52b-11ee-88ec-eb6a8d5269b4   \n",
       "...                    ...          ...                                   ...   \n",
       "92219  1696265327224139912   GEAR_DRIVE  35da3ccc-a529-11ee-88ec-eb6a8d5269b4   \n",
       "92220  1696265429123824495   GEAR_DRIVE  3a8c01cc-a52b-11ee-88ec-eb6a8d5269b4   \n",
       "92221  1696266188565054455   GEAR_DRIVE  c2784608-a53b-11ee-88ec-eb6a8d5269b4   \n",
       "92222  1696265756003170517   GEAR_DRIVE  4046124a-a532-11ee-88ec-eb6a8d5269b4   \n",
       "92223  1696266790884390733   GEAR_DRIVE  0c4b6c52-a54a-11ee-88ec-eb6a8d5269b4   \n",
       "\n",
       "       throttlePercentage  steeringPercentage  brakePercentage  ...  \\\n",
       "0                    19.2           11.876391              0.0  ...   \n",
       "1                     0.0           -0.537309              1.2  ...   \n",
       "2                     0.0            3.038578             16.4  ...   \n",
       "3                     0.0            0.222335             14.8  ...   \n",
       "4                    16.0            0.500254              0.0  ...   \n",
       "...                   ...                 ...              ...  ...   \n",
       "92219                12.0            1.630456              0.0  ...   \n",
       "92220                17.6           -2.779187              0.0  ...   \n",
       "92221                18.4           -1.500761              0.0  ...   \n",
       "92222                 0.0           -2.186294             14.0  ...   \n",
       "92223                 0.0            6.095683             30.0  ...   \n",
       "\n",
       "      header.sequenceNum header.timestampSec  wheelSpeed.isWheelSpdRrValid  \\\n",
       "0                  62003        1.696266e+09                          True   \n",
       "1                  70322        1.696267e+09                          True   \n",
       "2                  68143        1.696267e+09                          True   \n",
       "3                  26074        1.696266e+09                          True   \n",
       "4                  13778        1.696265e+09                          True   \n",
       "...                  ...                 ...                           ...   \n",
       "92219               7711        1.696265e+09                          True   \n",
       "92220              12806        1.696265e+09                          True   \n",
       "92221              50778        1.696266e+09                          True   \n",
       "92222              29150        1.696266e+09                          True   \n",
       "92223              80894        1.696267e+09                          True   \n",
       "\n",
       "       wheelSpeed.wheelSpdRr  wheelSpeed.isWheelSpdRlValid  \\\n",
       "0                   0.000000                          True   \n",
       "1                  21.467560                          True   \n",
       "2                  34.557533                          True   \n",
       "3                  31.258860                          True   \n",
       "4                  53.930698                          True   \n",
       "...                      ...                           ...   \n",
       "92219              43.720516                          True   \n",
       "92220              46.338512                          True   \n",
       "92221              50.108425                          True   \n",
       "92222               7.906345                          True   \n",
       "92223               0.000000                          True   \n",
       "\n",
       "      wheelSpeed.wheelSpdFr  wheelSpeed.isWheelSpdFrValid  \\\n",
       "0                  0.000000                          True   \n",
       "1                 21.572279                          True   \n",
       "2                 34.609894                          True   \n",
       "3                 31.101780                          True   \n",
       "4                 54.192497                          True   \n",
       "...                     ...                           ...   \n",
       "92219             44.034676                          True   \n",
       "92220             46.705032                          True   \n",
       "92221             50.632023                          True   \n",
       "92222              7.958705                          True   \n",
       "92223              0.000000                          True   \n",
       "\n",
       "       wheelSpeed.wheelSpdRl wheelSpeed.wheelSpdFl  \\\n",
       "0                   0.000000              0.000000   \n",
       "1                  21.572279             21.624640   \n",
       "2                  34.557533             34.400455   \n",
       "3                  31.363581             31.101780   \n",
       "4                  54.192497             54.192497   \n",
       "...                      ...                   ...   \n",
       "92219              43.772877             43.825237   \n",
       "92220              46.966831             47.123909   \n",
       "92221              50.632023             50.789104   \n",
       "92222               8.011065              8.011065   \n",
       "92223               0.000000              0.000000   \n",
       "\n",
       "      wheelSpeed.isWheelSpdFlValid  \n",
       "0                             True  \n",
       "1                             True  \n",
       "2                             True  \n",
       "3                             True  \n",
       "4                             True  \n",
       "...                            ...  \n",
       "92219                         True  \n",
       "92220                         True  \n",
       "92221                         True  \n",
       "92222                         True  \n",
       "92223                         True  \n",
       "\n",
       "[92224 rows x 31 columns]"
      ]
     },
     "execution_count": 9,
     "metadata": {},
     "output_type": "execute_result"
    }
   ],
   "source": [
    "dict_chassis[\"2bc6ebb8-a529-11ee-88ec-eb6a8d5269b4\"]"
   ]
  },
  {
   "cell_type": "markdown",
   "id": "a7dff265-5962-47f8-963f-ea25552029f8",
   "metadata": {},
   "source": [
    "The output of this box will be messed up. It automatically sets row 0 to True. Not sure why, but it doesn't count as a transition in the end.\n",
    "We are also counting emergency mode as MANUAL\n"
   ]
  },
  {
   "cell_type": "code",
   "execution_count": 10,
   "id": "c692446b-fcff-4ea1-b0cf-a70d6d7a5384",
   "metadata": {},
   "outputs": [
    {
     "name": "stdout",
     "output_type": "stream",
     "text": [
      "(92224, 31)\n",
      "0: transition\n",
      "False    92195\n",
      "True        29\n",
      "Name: count, dtype: int64\n",
      "transitionType\n",
      "NONE     92201\n",
      "M->A        11\n",
      "A->M        11\n",
      "ERROR        1\n",
      "Name: count, dtype: int64\n",
      "(102616, 31)\n",
      "1: transition\n",
      "False    102574\n",
      "True         42\n",
      "Name: count, dtype: int64\n",
      "transitionType\n",
      "NONE     102589\n",
      "A->M         13\n",
      "M->A         13\n",
      "ERROR         1\n",
      "Name: count, dtype: int64\n",
      "(43236, 31)\n",
      "2: transition\n",
      "False    43219\n",
      "True        17\n",
      "Name: count, dtype: int64\n",
      "transitionType\n",
      "NONE     43223\n",
      "M->A         6\n",
      "A->M         6\n",
      "ERROR        1\n",
      "Name: count, dtype: int64\n",
      "(45928, 31)\n",
      "3: transition\n",
      "False    45921\n",
      "True         7\n",
      "Name: count, dtype: int64\n",
      "transitionType\n",
      "NONE     45923\n",
      "M->A         2\n",
      "A->M         2\n",
      "ERROR        1\n",
      "Name: count, dtype: int64\n",
      "(99538, 31)\n",
      "4: transition\n",
      "False    99519\n",
      "True        19\n",
      "Name: count, dtype: int64\n",
      "transitionType\n",
      "NONE     99523\n",
      "M->A         7\n",
      "A->M         7\n",
      "ERROR        1\n",
      "Name: count, dtype: int64\n",
      "(54776, 31)\n",
      "5: transition\n",
      "False    54711\n",
      "True        65\n",
      "Name: count, dtype: int64\n",
      "transitionType\n",
      "NONE     54739\n",
      "M->A        18\n",
      "A->M        18\n",
      "ERROR        1\n",
      "Name: count, dtype: int64\n",
      "(44617, 31)\n",
      "6: transition\n",
      "False    44590\n",
      "True        27\n",
      "Name: count, dtype: int64\n",
      "transitionType\n",
      "NONE     44598\n",
      "M->A         9\n",
      "A->M         9\n",
      "ERROR        1\n",
      "Name: count, dtype: int64\n",
      "(110026, 31)\n",
      "7: transition\n",
      "False    110009\n",
      "True         17\n",
      "Name: count, dtype: int64\n",
      "transitionType\n",
      "NONE     110009\n",
      "M->A          8\n",
      "A->M          8\n",
      "ERROR         1\n",
      "Name: count, dtype: int64\n",
      "(95940, 31)\n",
      "8: transition\n",
      "False    95924\n",
      "True        16\n",
      "Name: count, dtype: int64\n",
      "transitionType\n",
      "NONE     95928\n",
      "A->M         6\n",
      "M->A         5\n",
      "ERROR        1\n",
      "Name: count, dtype: int64\n",
      "(94714, 31)\n",
      "9: transition\n",
      "False    94685\n",
      "True        29\n",
      "Name: count, dtype: int64\n",
      "transitionType\n",
      "NONE     94692\n",
      "A->M        11\n",
      "M->A        10\n",
      "ERROR        1\n",
      "Name: count, dtype: int64\n",
      "(92510, 31)\n",
      "10: transition\n",
      "False    92500\n",
      "True        10\n",
      "Name: count, dtype: int64\n",
      "transitionType\n",
      "NONE     92501\n",
      "M->A         4\n",
      "A->M         4\n",
      "ERROR        1\n",
      "Name: count, dtype: int64\n",
      "(43362, 31)\n",
      "11: transition\n",
      "False    43359\n",
      "True         3\n",
      "Name: count, dtype: int64\n",
      "transitionType\n",
      "NONE     43359\n",
      "ERROR        1\n",
      "M->A         1\n",
      "A->M         1\n",
      "Name: count, dtype: int64\n",
      "(31903, 31)\n",
      "12: transition\n",
      "False    31854\n",
      "True        49\n",
      "Name: count, dtype: int64\n",
      "transitionType\n",
      "NONE     31870\n",
      "M->A        16\n",
      "A->M        16\n",
      "ERROR        1\n",
      "Name: count, dtype: int64\n",
      "(51703, 31)\n",
      "13: transition\n",
      "False    51643\n",
      "True        60\n",
      "Name: count, dtype: int64\n",
      "transitionType\n",
      "NONE     51664\n",
      "M->A        19\n",
      "A->M        19\n",
      "ERROR        1\n",
      "Name: count, dtype: int64\n",
      "(96636, 31)\n",
      "14: transition\n",
      "False    96635\n",
      "True         1\n",
      "Name: count, dtype: int64\n",
      "transitionType\n",
      "NONE     96635\n",
      "ERROR        1\n",
      "Name: count, dtype: int64\n",
      "(96977, 31)\n",
      "15: transition\n",
      "False    96960\n",
      "True        17\n",
      "Name: count, dtype: int64\n",
      "transitionType\n",
      "NONE     96964\n",
      "M->A         6\n",
      "A->M         6\n",
      "ERROR        1\n",
      "Name: count, dtype: int64\n",
      "(52458, 31)\n",
      "16: transition\n",
      "False    52405\n",
      "True        53\n",
      "Name: count, dtype: int64\n",
      "transitionType\n",
      "NONE     52425\n",
      "M->A        16\n",
      "A->M        16\n",
      "ERROR        1\n",
      "Name: count, dtype: int64\n",
      "(98215, 31)\n",
      "17: transition\n",
      "False    98190\n",
      "True        25\n",
      "Name: count, dtype: int64\n",
      "transitionType\n",
      "NONE     98196\n",
      "M->A         9\n",
      "A->M         9\n",
      "ERROR        1\n",
      "Name: count, dtype: int64\n",
      "(74415, 31)\n",
      "18: transition\n",
      "False    74401\n",
      "True        14\n",
      "Name: count, dtype: int64\n",
      "transitionType\n",
      "NONE     74402\n",
      "M->A         6\n",
      "A->M         6\n",
      "ERROR        1\n",
      "Name: count, dtype: int64\n",
      "(104411, 31)\n",
      "19: transition\n",
      "False    104373\n",
      "True         38\n",
      "Name: count, dtype: int64\n",
      "transitionType\n",
      "NONE     104378\n",
      "M->A         16\n",
      "A->M         16\n",
      "ERROR         1\n",
      "Name: count, dtype: int64\n",
      "(53187, 31)\n",
      "20: transition\n",
      "False    53104\n",
      "True        83\n",
      "Name: count, dtype: int64\n",
      "transitionType\n",
      "NONE     53134\n",
      "M->A        26\n",
      "A->M        26\n",
      "ERROR        1\n",
      "Name: count, dtype: int64\n",
      "(26911, 31)\n",
      "21: transition\n",
      "False    26871\n",
      "True        40\n",
      "Name: count, dtype: int64\n",
      "transitionType\n",
      "NONE     26878\n",
      "M->A        16\n",
      "A->M        16\n",
      "ERROR        1\n",
      "Name: count, dtype: int64\n",
      "(94677, 31)\n",
      "22: transition\n",
      "False    94646\n",
      "True        31\n",
      "Name: count, dtype: int64\n",
      "transitionType\n",
      "NONE     94650\n",
      "M->A        13\n",
      "A->M        13\n",
      "ERROR        1\n",
      "Name: count, dtype: int64\n",
      "(97046, 31)\n",
      "23: transition\n",
      "False    97025\n",
      "True        21\n",
      "Name: count, dtype: int64\n",
      "transitionType\n",
      "NONE     97031\n",
      "M->A         7\n",
      "A->M         7\n",
      "ERROR        1\n",
      "Name: count, dtype: int64\n",
      "(105045, 31)\n",
      "24: transition\n",
      "False    105022\n",
      "True         23\n",
      "Name: count, dtype: int64\n",
      "transitionType\n",
      "NONE     105026\n",
      "M->A          9\n",
      "A->M          9\n",
      "ERROR         1\n",
      "Name: count, dtype: int64\n",
      "(98571, 31)\n",
      "25: transition\n",
      "False    98542\n",
      "True        29\n",
      "Name: count, dtype: int64\n",
      "transitionType\n",
      "NONE     98548\n",
      "M->A        11\n",
      "A->M        11\n",
      "ERROR        1\n",
      "Name: count, dtype: int64\n",
      "(92997, 31)\n",
      "26: transition\n",
      "False    92963\n",
      "True        34\n",
      "Name: count, dtype: int64\n",
      "transitionType\n",
      "NONE     92970\n",
      "M->A        13\n",
      "A->M        13\n",
      "ERROR        1\n",
      "Name: count, dtype: int64\n",
      "(43768, 31)\n",
      "27: transition\n",
      "False    43761\n",
      "True         7\n",
      "Name: count, dtype: int64\n",
      "transitionType\n",
      "NONE     43763\n",
      "M->A         2\n",
      "A->M         2\n",
      "ERROR        1\n",
      "Name: count, dtype: int64\n",
      "(96366, 31)\n",
      "28: transition\n",
      "False    96336\n",
      "True        30\n",
      "Name: count, dtype: int64\n",
      "transitionType\n",
      "NONE     96344\n",
      "A->M        11\n",
      "M->A        10\n",
      "ERROR        1\n",
      "Name: count, dtype: int64\n",
      "(55659, 31)\n",
      "29: transition\n",
      "False    55601\n",
      "True        58\n",
      "Name: count, dtype: int64\n",
      "transitionType\n",
      "NONE     55620\n",
      "M->A        19\n",
      "A->M        19\n",
      "ERROR        1\n",
      "Name: count, dtype: int64\n",
      "(108425, 31)\n",
      "30: transition\n",
      "False    108395\n",
      "True         30\n",
      "Name: count, dtype: int64\n",
      "transitionType\n",
      "NONE     108400\n",
      "M->A         12\n",
      "A->M         12\n",
      "ERROR         1\n",
      "Name: count, dtype: int64\n",
      "(97269, 31)\n",
      "31: transition\n",
      "False    97256\n",
      "True        13\n",
      "Name: count, dtype: int64\n",
      "transitionType\n",
      "NONE     97258\n",
      "M->A         5\n",
      "A->M         5\n",
      "ERROR        1\n",
      "Name: count, dtype: int64\n",
      "(47236, 31)\n",
      "32: transition\n",
      "False    47192\n",
      "True        44\n",
      "Name: count, dtype: int64\n",
      "transitionType\n",
      "NONE     47206\n",
      "M->A        15\n",
      "A->M        14\n",
      "ERROR        1\n",
      "Name: count, dtype: int64\n",
      "(100339, 31)\n",
      "33: transition\n",
      "False    100289\n",
      "True         50\n",
      "Name: count, dtype: int64\n",
      "transitionType\n",
      "NONE     100298\n",
      "M->A         20\n",
      "A->M         20\n",
      "ERROR         1\n",
      "Name: count, dtype: int64\n",
      "(83521, 31)\n",
      "34: transition\n",
      "False    83520\n",
      "True         1\n",
      "Name: count, dtype: int64\n",
      "transitionType\n",
      "NONE     83520\n",
      "ERROR        1\n",
      "Name: count, dtype: int64\n",
      "(20433, 31)\n",
      "35: transition\n",
      "False    20399\n",
      "True        34\n",
      "Name: count, dtype: int64\n",
      "transitionType\n",
      "NONE     20412\n",
      "M->A        10\n",
      "A->M        10\n",
      "ERROR        1\n",
      "Name: count, dtype: int64\n",
      "(55896, 31)\n",
      "36: transition\n",
      "False    55854\n",
      "True        42\n",
      "Name: count, dtype: int64\n",
      "transitionType\n",
      "NONE     55867\n",
      "M->A        14\n",
      "A->M        14\n",
      "ERROR        1\n",
      "Name: count, dtype: int64\n",
      "(44345, 31)\n",
      "37: transition\n",
      "False    44335\n",
      "True        10\n",
      "Name: count, dtype: int64\n",
      "transitionType\n",
      "NONE     44338\n",
      "M->A         3\n",
      "A->M         3\n",
      "ERROR        1\n",
      "Name: count, dtype: int64\n",
      "(54917, 31)\n",
      "38: transition\n",
      "False    54861\n",
      "True        56\n",
      "Name: count, dtype: int64\n",
      "transitionType\n",
      "NONE     54880\n",
      "M->A        18\n",
      "A->M        18\n",
      "ERROR        1\n",
      "Name: count, dtype: int64\n",
      "(48895, 31)\n",
      "39: transition\n",
      "False    48852\n",
      "True        43\n",
      "Name: count, dtype: int64\n",
      "transitionType\n",
      "NONE     48869\n",
      "M->A        13\n",
      "A->M        12\n",
      "ERROR        1\n",
      "Name: count, dtype: int64\n",
      "(46634, 31)\n",
      "40: transition\n",
      "False    46611\n",
      "True        23\n",
      "Name: count, dtype: int64\n",
      "transitionType\n",
      "NONE     46617\n",
      "M->A         8\n",
      "A->M         8\n",
      "ERROR        1\n",
      "Name: count, dtype: int64\n",
      "(51922, 31)\n",
      "41: transition\n",
      "False    51876\n",
      "True        46\n",
      "Name: count, dtype: int64\n",
      "transitionType\n",
      "NONE     51892\n",
      "A->M        15\n",
      "M->A        14\n",
      "ERROR        1\n",
      "Name: count, dtype: int64\n",
      "(89802, 31)\n",
      "42: transition\n",
      "False    89772\n",
      "True        30\n",
      "Name: count, dtype: int64\n",
      "transitionType\n",
      "NONE     89789\n",
      "M->A         6\n",
      "A->M         6\n",
      "ERROR        1\n",
      "Name: count, dtype: int64\n",
      "(29251, 31)\n",
      "43: transition\n",
      "False    29250\n",
      "True         1\n",
      "Name: count, dtype: int64\n",
      "transitionType\n",
      "NONE     29250\n",
      "ERROR        1\n",
      "Name: count, dtype: int64\n",
      "(96892, 31)\n",
      "44: transition\n",
      "False    96846\n",
      "True        46\n",
      "Name: count, dtype: int64\n",
      "transitionType\n",
      "NONE     96858\n",
      "A->M        17\n",
      "M->A        16\n",
      "ERROR        1\n",
      "Name: count, dtype: int64\n",
      "(33498, 31)\n",
      "45: transition\n",
      "False    33483\n",
      "True        15\n",
      "Name: count, dtype: int64\n",
      "transitionType\n",
      "NONE     33486\n",
      "A->M         6\n",
      "M->A         5\n",
      "ERROR        1\n",
      "Name: count, dtype: int64\n",
      "(45939, 31)\n",
      "46: transition\n",
      "False    45927\n",
      "True        12\n",
      "Name: count, dtype: int64\n",
      "transitionType\n",
      "NONE     45934\n",
      "M->A         2\n",
      "A->M         2\n",
      "ERROR        1\n",
      "Name: count, dtype: int64\n",
      "(28737, 31)\n",
      "47: transition\n",
      "False    28733\n",
      "True         4\n",
      "Name: count, dtype: int64\n",
      "transitionType\n",
      "NONE     28733\n",
      "A->M         2\n",
      "ERROR        1\n",
      "M->A         1\n",
      "Name: count, dtype: int64\n",
      "(42781, 31)\n",
      "48: transition\n",
      "False    42775\n",
      "True         6\n",
      "Name: count, dtype: int64\n",
      "transitionType\n",
      "NONE     42776\n",
      "M->A         2\n",
      "A->M         2\n",
      "ERROR        1\n",
      "Name: count, dtype: int64\n",
      "(51210, 31)\n",
      "49: transition\n",
      "False    51156\n",
      "True        54\n",
      "Name: count, dtype: int64\n",
      "transitionType\n",
      "NONE     51178\n",
      "M->A        16\n",
      "A->M        15\n",
      "ERROR        1\n",
      "Name: count, dtype: int64\n",
      "(44106, 31)\n",
      "50: transition\n",
      "False    44103\n",
      "True         3\n",
      "Name: count, dtype: int64\n",
      "transitionType\n",
      "NONE     44103\n",
      "ERROR        1\n",
      "M->A         1\n",
      "A->M         1\n",
      "Name: count, dtype: int64\n",
      "(26107, 31)\n",
      "51: transition\n",
      "False    26062\n",
      "True        45\n",
      "Name: count, dtype: int64\n",
      "transitionType\n",
      "NONE     26072\n",
      "M->A        17\n",
      "A->M        17\n",
      "ERROR        1\n",
      "Name: count, dtype: int64\n",
      "(86510, 31)\n",
      "52: transition\n",
      "False    86496\n",
      "True        14\n",
      "Name: count, dtype: int64\n",
      "transitionType\n",
      "NONE     86499\n",
      "M->A         5\n",
      "A->M         5\n",
      "ERROR        1\n",
      "Name: count, dtype: int64\n",
      "(57241, 31)\n",
      "53: transition\n",
      "False    57196\n",
      "True        45\n",
      "Name: count, dtype: int64\n",
      "transitionType\n",
      "NONE     57210\n",
      "M->A        15\n",
      "A->M        15\n",
      "ERROR        1\n",
      "Name: count, dtype: int64\n",
      "(53207, 31)\n",
      "54: transition\n",
      "False    53147\n",
      "True        60\n",
      "Name: count, dtype: int64\n",
      "transitionType\n",
      "NONE     53166\n",
      "M->A        20\n",
      "A->M        20\n",
      "ERROR        1\n",
      "Name: count, dtype: int64\n",
      "(12180, 31)\n",
      "55: transition\n",
      "False    12177\n",
      "True         3\n",
      "Name: count, dtype: int64\n",
      "transitionType\n",
      "NONE     12177\n",
      "ERROR        1\n",
      "M->A         1\n",
      "A->M         1\n",
      "Name: count, dtype: int64\n",
      "(23541, 31)\n",
      "56: transition\n",
      "False    23531\n",
      "True        10\n",
      "Name: count, dtype: int64\n",
      "transitionType\n",
      "NONE     23535\n",
      "A->M         3\n",
      "M->A         2\n",
      "ERROR        1\n",
      "Name: count, dtype: int64\n",
      "(8231, 31)\n",
      "57: transition\n",
      "False    8221\n",
      "True       10\n",
      "Name: count, dtype: int64\n",
      "transitionType\n",
      "NONE     8225\n",
      "A->M        3\n",
      "M->A        2\n",
      "ERROR       1\n",
      "Name: count, dtype: int64\n",
      "(44389, 31)\n",
      "58: transition\n",
      "False    44386\n",
      "True         3\n",
      "Name: count, dtype: int64\n",
      "transitionType\n",
      "NONE     44386\n",
      "ERROR        1\n",
      "M->A         1\n",
      "A->M         1\n",
      "Name: count, dtype: int64\n"
     ]
    }
   ],
   "source": [
    "def getState(old, new):\n",
    "    if old == \"COMPLETE_AUTO_DRIVE\" and new == \"COMPLETE_MANUAL\":\n",
    "        return \"A->M\"\n",
    "    elif old == \"COMPLETE_AUTO_DRIVE\" and new == \"EMERGENCY_MODE\":\n",
    "        return \"A->M\"\n",
    "    elif old == \"COMPLETE_MANUAL\" and new == \"COMPLETE_AUTO_DRIVE\":\n",
    "        return \"M->A\"\n",
    "    elif old == \"COMPLETE_MANUAL\" and new == \"EMERGENCY_MODE\":\n",
    "        return \"NONE\"\n",
    "    elif old == \"EMERGENCY_MODE\" and new == \"COMPLETE_AUTO_DRIVE\":\n",
    "        return \"M->A\"\n",
    "    elif old == \"EMERGENCY_MODE\" and new == \"COMPLETE_MANUAL\":\n",
    "        return \"NONE\"\n",
    "    elif old == new:\n",
    "        return \"NONE\"\n",
    "    else:\n",
    "        return \"ERROR\"\n",
    "    \n",
    "    \n",
    "pts_dict = {}\n",
    "\n",
    "i = 0\n",
    "for gmID in gmIDs[\"groupMetadataID\"]:\n",
    "    # read the timeSorted csv\n",
    "    temp_pts = dict_chassis[gmID].copy()\n",
    "    \n",
    "    temp_pts = temp_pts.sort_values('time')\n",
    "    \n",
    "    print(temp_pts.shape)\n",
    "    # reduce df to only time and drivingMode\n",
    "    temp_pts = temp_pts[[\"time\", \"drivingMode\"]]\n",
    "    # function to tell us what state transition it is\n",
    "\n",
    "\n",
    "\n",
    "\n",
    "    # we shift the drivingMode column down by 1\n",
    "    temp_pts[\"shift\"] = temp_pts[\"drivingMode\"].shift()\n",
    "    # create transition field\n",
    "    temp_pts['transition'] = (temp_pts[\"drivingMode\"] != temp_pts[\"shift\"])\n",
    "    # set Transition type to NONE for all\n",
    "    temp_pts['transitionType'] = \"NONE\"\n",
    "    # Set first transition to False, since it was auto True\n",
    "    temp_pts.loc[0, 'transition'] = False\n",
    "    #print(temp_pts['transition'])\n",
    "    # Show counts for transitions\n",
    "    print(f\"{i}: {temp_pts['transition'].value_counts()}\")\n",
    "    # iterate over all rows and find the ones where transition is true. Then we compare shift and dM to see what\n",
    "    # transition Type we have.\n",
    "    for index, row in temp_pts.iterrows():\n",
    "        if temp_pts['transition'][index] == True:\n",
    "            old = temp_pts['shift'][index]\n",
    "            new = temp_pts['drivingMode'][index]\n",
    "            temp_pts.loc[index, \"transitionType\"] = getState(old, new)\n",
    "    print(temp_pts['transitionType'].value_counts())\n",
    "    temp_pts = temp_pts[['time', 'drivingMode', 'transition', 'transitionType']]\n",
    "    temp_pts = temp_pts.sort_values('time')\n",
    "    temp_pts['time'] = temp_pts['time'].astype(float)\n",
    "    temp_pts['time'] = temp_pts['time'].astype('datetime64[ns]')\n",
    "    temp_pts['time'] = temp_pts['time'].astype('datetime64[s]')\n",
    "    #temp_pts[['time']]\n",
    "    \n",
    "    pts_dict.update({gmID:temp_pts})\n",
    "    \n",
    "    i += 1\n",
    "\n",
    "    # show(temp_pts)\n",
    "    "
   ]
  },
  {
   "cell_type": "code",
   "execution_count": 11,
   "id": "007bb51e",
   "metadata": {},
   "outputs": [
    {
     "data": {
      "text/html": [
       "<div>\n",
       "<style scoped>\n",
       "    .dataframe tbody tr th:only-of-type {\n",
       "        vertical-align: middle;\n",
       "    }\n",
       "\n",
       "    .dataframe tbody tr th {\n",
       "        vertical-align: top;\n",
       "    }\n",
       "\n",
       "    .dataframe thead th {\n",
       "        text-align: right;\n",
       "    }\n",
       "</style>\n",
       "<table border=\"1\" class=\"dataframe\">\n",
       "  <thead>\n",
       "    <tr style=\"text-align: right;\">\n",
       "      <th></th>\n",
       "      <th>time</th>\n",
       "      <th>drivingMode</th>\n",
       "      <th>transition</th>\n",
       "      <th>transitionType</th>\n",
       "    </tr>\n",
       "  </thead>\n",
       "  <tbody>\n",
       "    <tr>\n",
       "      <th>56639</th>\n",
       "      <td>2023-10-02 16:48:41</td>\n",
       "      <td>COMPLETE_MANUAL</td>\n",
       "      <td>True</td>\n",
       "      <td>ERROR</td>\n",
       "    </tr>\n",
       "    <tr>\n",
       "      <th>21595</th>\n",
       "      <td>2023-10-02 16:48:41</td>\n",
       "      <td>COMPLETE_MANUAL</td>\n",
       "      <td>False</td>\n",
       "      <td>NONE</td>\n",
       "    </tr>\n",
       "    <tr>\n",
       "      <th>78088</th>\n",
       "      <td>2023-10-02 16:48:41</td>\n",
       "      <td>COMPLETE_MANUAL</td>\n",
       "      <td>False</td>\n",
       "      <td>NONE</td>\n",
       "    </tr>\n",
       "    <tr>\n",
       "      <th>43513</th>\n",
       "      <td>2023-10-02 16:48:42</td>\n",
       "      <td>COMPLETE_MANUAL</td>\n",
       "      <td>False</td>\n",
       "      <td>NONE</td>\n",
       "    </tr>\n",
       "    <tr>\n",
       "      <th>15217</th>\n",
       "      <td>2023-10-02 16:48:42</td>\n",
       "      <td>COMPLETE_MANUAL</td>\n",
       "      <td>False</td>\n",
       "      <td>NONE</td>\n",
       "    </tr>\n",
       "    <tr>\n",
       "      <th>...</th>\n",
       "      <td>...</td>\n",
       "      <td>...</td>\n",
       "      <td>...</td>\n",
       "      <td>...</td>\n",
       "    </tr>\n",
       "    <tr>\n",
       "      <th>45062</th>\n",
       "      <td>2023-10-02 17:19:29</td>\n",
       "      <td>EMERGENCY_MODE</td>\n",
       "      <td>False</td>\n",
       "      <td>NONE</td>\n",
       "    </tr>\n",
       "    <tr>\n",
       "      <th>64869</th>\n",
       "      <td>2023-10-02 17:19:29</td>\n",
       "      <td>EMERGENCY_MODE</td>\n",
       "      <td>False</td>\n",
       "      <td>NONE</td>\n",
       "    </tr>\n",
       "    <tr>\n",
       "      <th>49725</th>\n",
       "      <td>2023-10-02 17:19:29</td>\n",
       "      <td>EMERGENCY_MODE</td>\n",
       "      <td>False</td>\n",
       "      <td>NONE</td>\n",
       "    </tr>\n",
       "    <tr>\n",
       "      <th>54151</th>\n",
       "      <td>2023-10-02 17:19:29</td>\n",
       "      <td>EMERGENCY_MODE</td>\n",
       "      <td>False</td>\n",
       "      <td>NONE</td>\n",
       "    </tr>\n",
       "    <tr>\n",
       "      <th>81229</th>\n",
       "      <td>2023-10-02 17:19:29</td>\n",
       "      <td>EMERGENCY_MODE</td>\n",
       "      <td>False</td>\n",
       "      <td>NONE</td>\n",
       "    </tr>\n",
       "  </tbody>\n",
       "</table>\n",
       "<p>92224 rows × 4 columns</p>\n",
       "</div>"
      ],
      "text/plain": [
       "                     time      drivingMode  transition transitionType\n",
       "56639 2023-10-02 16:48:41  COMPLETE_MANUAL        True          ERROR\n",
       "21595 2023-10-02 16:48:41  COMPLETE_MANUAL       False           NONE\n",
       "78088 2023-10-02 16:48:41  COMPLETE_MANUAL       False           NONE\n",
       "43513 2023-10-02 16:48:42  COMPLETE_MANUAL       False           NONE\n",
       "15217 2023-10-02 16:48:42  COMPLETE_MANUAL       False           NONE\n",
       "...                   ...              ...         ...            ...\n",
       "45062 2023-10-02 17:19:29   EMERGENCY_MODE       False           NONE\n",
       "64869 2023-10-02 17:19:29   EMERGENCY_MODE       False           NONE\n",
       "49725 2023-10-02 17:19:29   EMERGENCY_MODE       False           NONE\n",
       "54151 2023-10-02 17:19:29   EMERGENCY_MODE       False           NONE\n",
       "81229 2023-10-02 17:19:29   EMERGENCY_MODE       False           NONE\n",
       "\n",
       "[92224 rows x 4 columns]"
      ]
     },
     "execution_count": 11,
     "metadata": {},
     "output_type": "execute_result"
    }
   ],
   "source": [
    "pts_dict[\"2bc6ebb8-a529-11ee-88ec-eb6a8d5269b4\"]"
   ]
  },
  {
   "cell_type": "code",
   "execution_count": 12,
   "id": "4ba8ee8e-c2bf-46e5-a1bc-5f805200ee6a",
   "metadata": {},
   "outputs": [
    {
     "name": "stdout",
     "output_type": "stream",
     "text": [
      "30: M->A\n",
      "no pair for 30: M->A\n",
      "346: A->M\n",
      "352: M->A\n",
      "433: A->M\n",
      "478: M->A\n",
      "591: A->M\n",
      "629: M->A\n",
      "684: A->M\n",
      "709: M->A\n",
      "761: A->M\n",
      "772: M->A\n",
      "1051: A->M\n",
      "1060: M->A\n",
      "1220: A->M\n",
      "1257: M->A\n",
      "1281: A->M\n",
      "1307: M->A\n",
      "1365: A->M\n",
      "1608: M->A\n",
      "1737: A->M\n",
      "1758: M->A\n",
      "1826: A->M\n",
      "198: A->M\n",
      "250: M->A\n",
      "323: A->M\n",
      "330: M->A\n",
      "476: A->M\n",
      "494: M->A\n",
      "527: A->M\n",
      "560: M->A\n",
      "586: A->M\n",
      "623: M->A\n",
      "858: A->M\n",
      "868: M->A\n",
      "886: A->M\n",
      "915: M->A\n",
      "1177: A->M\n",
      "1188: M->A\n",
      "1326: A->M\n",
      "1340: M->A\n",
      "1347: A->M\n",
      "1359: M->A\n",
      "1567: A->M\n",
      "1626: M->A\n",
      "1676: A->M\n",
      "1705: M->A\n",
      "1708: A->M\n",
      "1721: M->A\n",
      "17: M->A\n",
      "no pair for 17: M->A\n",
      "154: A->M\n",
      "172: M->A\n",
      "489: A->M\n",
      "508: M->A\n",
      "743: A->M\n",
      "755: M->A\n",
      "766: A->M\n",
      "781: M->A\n",
      "794: A->M\n",
      "803: M->A\n",
      "861: A->M\n",
      "9: M->A\n",
      "no pair for 9: M->A\n",
      "487: A->M\n",
      "516: M->A\n",
      "905: A->M\n",
      "9: M->A\n",
      "no pair for 9: M->A\n",
      "122: A->M\n",
      "325: M->A\n",
      "341: A->M\n",
      "351: M->A\n",
      "657: A->M\n",
      "663: M->A\n",
      "1265: A->M\n",
      "1275: M->A\n",
      "1278: A->M\n",
      "1286: M->A\n",
      "1294: A->M\n",
      "1333: M->A\n",
      "1949: A->M\n",
      "40: M->A\n",
      "no pair for 40: M->A\n",
      "135: A->M\n",
      "170: M->A\n",
      "326: A->M\n",
      "338: M->A\n",
      "384: A->M\n",
      "402: M->A\n",
      "405: A->M\n",
      "409: M->A\n",
      "427: A->M\n",
      "453: M->A\n",
      "494: A->M\n",
      "575: M->A\n",
      "710: A->M\n",
      "721: M->A\n",
      "745: A->M\n",
      "766: M->A\n",
      "769: A->M\n",
      "777: M->A\n",
      "807: A->M\n",
      "817: M->A\n",
      "921: A->M\n",
      "928: M->A\n",
      "1268: A->M\n",
      "1279: M->A\n",
      "1321: A->M\n",
      "1326: M->A\n",
      "1379: A->M\n",
      "1392: M->A\n",
      "1418: A->M\n",
      "1451: M->A\n",
      "1558: A->M\n",
      "1570: M->A\n",
      "1755: A->M\n",
      "1763: M->A\n",
      "1804: A->M\n",
      "1: M->A\n",
      "no pair for 1: M->A\n",
      "55: A->M\n",
      "79: M->A\n",
      "122: A->M\n",
      "132: M->A\n",
      "314: A->M\n",
      "339: M->A\n",
      "615: A->M\n",
      "628: M->A\n",
      "658: A->M\n",
      "678: M->A\n",
      "694: A->M\n",
      "710: M->A\n",
      "736: A->M\n",
      "779: M->A\n",
      "804: A->M\n",
      "824: M->A\n",
      "900: A->M\n",
      "0: ERROR\n",
      "no pair for 0: ERROR\n",
      "9: M->A\n",
      "no pair for 9: M->A\n",
      "102: A->M\n",
      "313: M->A\n",
      "458: A->M\n",
      "470: M->A\n",
      "1050: A->M\n",
      "1132: M->A\n",
      "1162: A->M\n",
      "1175: M->A\n",
      "1199: A->M\n",
      "1253: M->A\n",
      "1400: A->M\n",
      "1500: M->A\n",
      "1882: A->M\n",
      "1892: M->A\n",
      "1948: A->M\n",
      "183: A->M\n",
      "223: M->A\n",
      "929: A->M\n",
      "951: M->A\n",
      "1446: A->M\n",
      "1456: M->A\n",
      "1472: A->M\n",
      "1484: M->A\n",
      "1539: A->M\n",
      "1566: M->A\n",
      "1919: A->M\n",
      "0: ERROR\n",
      "no pair for 0: ERROR\n",
      "12: A->M\n",
      "19: M->A\n",
      "93: A->M\n",
      "298: M->A\n",
      "329: A->M\n",
      "365: M->A\n",
      "575: A->M\n",
      "627: M->A\n",
      "987: A->M\n",
      "1032: M->A\n",
      "1213: A->M\n",
      "1241: M->A\n",
      "1316: A->M\n",
      "1332: M->A\n",
      "1385: A->M\n",
      "1413: M->A\n",
      "1724: A->M\n",
      "1745: M->A\n",
      "1855: A->M\n",
      "1887: M->A\n",
      "1912: A->M\n",
      "16: M->A\n",
      "no pair for 16: M->A\n",
      "209: A->M\n",
      "263: M->A\n",
      "1007: A->M\n",
      "1497: M->A\n",
      "1715: A->M\n",
      "1727: M->A\n",
      "1850: A->M\n",
      "19: M->A\n",
      "no pair for 19: M->A\n",
      "861: A->M\n",
      "52: M->A\n",
      "no pair for 52: M->A\n",
      "137: A->M\n",
      "169: M->A\n",
      "227: A->M\n",
      "236: M->A\n",
      "289: A->M\n",
      "353: M->A\n",
      "373: A->M\n",
      "379: M->A\n",
      "399: A->M\n",
      "413: M->A\n",
      "501: A->M\n",
      "506: M->A\n",
      "568: A->M\n",
      "576: M->A\n",
      "777: A->M\n",
      "780: M->A\n",
      "806: A->M\n",
      "814: M->A\n",
      "875: A->M\n",
      "889: M->A\n",
      "891: A->M\n",
      "896: M->A\n",
      "912: A->M\n",
      "916: M->A\n",
      "949: A->M\n",
      "954: M->A\n",
      "978: A->M\n",
      "991: M->A\n",
      "993: A->M\n",
      "999: M->A\n",
      "1240: A->M\n",
      "36: M->A\n",
      "no pair for 36: M->A\n",
      "123: A->M\n",
      "153: M->A\n",
      "200: A->M\n",
      "206: M->A\n",
      "262: A->M\n",
      "274: M->A\n",
      "334: A->M\n",
      "424: M->A\n",
      "465: A->M\n",
      "470: M->A\n",
      "479: A->M\n",
      "484: M->A\n",
      "490: A->M\n",
      "519: M->A\n",
      "582: A->M\n",
      "588: M->A\n",
      "601: A->M\n",
      "612: M->A\n",
      "639: A->M\n",
      "652: M->A\n",
      "702: A->M\n",
      "723: M->A\n",
      "756: A->M\n",
      "769: M->A\n",
      "985: A->M\n",
      "1000: M->A\n",
      "1148: A->M\n",
      "1159: M->A\n",
      "1195: A->M\n",
      "1200: M->A\n",
      "1264: A->M\n",
      "1270: M->A\n",
      "1294: A->M\n",
      "1311: M->A\n",
      "1490: A->M\n",
      "1509: M->A\n",
      "1714: A->M\n",
      "4: M->A\n",
      "no pair for 4: M->A\n",
      "209: A->M\n",
      "259: M->A\n",
      "878: A->M\n",
      "904: M->A\n",
      "1314: A->M\n",
      "1421: M->A\n",
      "1532: A->M\n",
      "1592: M->A\n",
      "1733: A->M\n",
      "1758: M->A\n",
      "1845: A->M\n",
      "54: M->A\n",
      "no pair for 54: M->A\n",
      "150: A->M\n",
      "189: M->A\n",
      "226: A->M\n",
      "234: M->A\n",
      "319: A->M\n",
      "333: M->A\n",
      "352: A->M\n",
      "376: M->A\n",
      "435: A->M\n",
      "486: M->A\n",
      "647: A->M\n",
      "657: M->A\n",
      "686: A->M\n",
      "699: M->A\n",
      "736: A->M\n",
      "743: M->A\n",
      "1108: A->M\n",
      "1116: M->A\n",
      "1156: A->M\n",
      "1166: M->A\n",
      "1191: A->M\n",
      "1195: M->A\n",
      "1206: A->M\n",
      "1213: M->A\n",
      "1288: A->M\n",
      "1318: M->A\n",
      "1397: A->M\n",
      "1407: M->A\n",
      "1633: A->M\n",
      "1638: M->A\n",
      "1723: A->M\n",
      "7: M->A\n",
      "no pair for 7: M->A\n",
      "206: A->M\n",
      "254: M->A\n",
      "614: A->M\n",
      "624: M->A\n",
      "647: A->M\n",
      "681: M->A\n",
      "713: A->M\n",
      "736: M->A\n",
      "757: A->M\n",
      "767: M->A\n",
      "974: A->M\n",
      "984: M->A\n",
      "1296: A->M\n",
      "1308: M->A\n",
      "1567: A->M\n",
      "1616: M->A\n",
      "1978: A->M\n",
      "157: M->A\n",
      "no pair for 157: M->A\n",
      "479: A->M\n",
      "561: M->A\n",
      "787: A->M\n",
      "828: M->A\n",
      "857: A->M\n",
      "882: M->A\n",
      "954: A->M\n",
      "968: M->A\n",
      "1263: A->M\n",
      "1309: M->A\n",
      "1409: A->M\n",
      "0: ERROR\n",
      "no pair for 0: ERROR\n",
      "30: M->A\n",
      "no pair for 30: M->A\n",
      "53: A->M\n",
      "59: M->A\n",
      "92: A->M\n",
      "104: M->A\n",
      "107: A->M\n",
      "126: M->A\n",
      "128: A->M\n",
      "284: M->A\n",
      "297: A->M\n",
      "329: M->A\n",
      "522: A->M\n",
      "566: M->A\n",
      "641: A->M\n",
      "665: M->A\n",
      "939: A->M\n",
      "1053: M->A\n",
      "1102: A->M\n",
      "1111: M->A\n",
      "1140: A->M\n",
      "1152: M->A\n",
      "1243: A->M\n",
      "1293: M->A\n",
      "1322: A->M\n",
      "1373: M->A\n",
      "1443: A->M\n",
      "1466: M->A\n",
      "1749: A->M\n",
      "1886: M->A\n",
      "1985: A->M\n",
      "2073: M->A\n",
      "2114: A->M\n",
      "13: M->A\n",
      "no pair for 13: M->A\n",
      "104: A->M\n",
      "141: M->A\n",
      "160: A->M\n",
      "171: M->A\n",
      "189: A->M\n",
      "197: M->A\n",
      "214: A->M\n",
      "247: M->A\n",
      "252: A->M\n",
      "254: M->A\n",
      "268: A->M\n",
      "311: M->A\n",
      "314: A->M\n",
      "346: M->A\n",
      "350: A->M\n",
      "356: M->A\n",
      "399: A->M\n",
      "410: M->A\n",
      "419: A->M\n",
      "475: M->A\n",
      "490: A->M\n",
      "520: M->A\n",
      "526: A->M\n",
      "530: M->A\n",
      "540: A->M\n",
      "581: M->A\n",
      "602: A->M\n",
      "610: M->A\n",
      "739: A->M\n",
      "753: M->A\n",
      "785: A->M\n",
      "796: M->A\n",
      "826: A->M\n",
      "831: M->A\n",
      "836: A->M\n",
      "844: M->A\n",
      "1194: A->M\n",
      "1211: M->A\n",
      "1289: A->M\n",
      "1301: M->A\n",
      "1357: A->M\n",
      "1375: M->A\n",
      "1436: A->M\n",
      "1456: M->A\n",
      "1528: A->M\n",
      "1537: M->A\n",
      "1570: A->M\n",
      "1574: M->A\n",
      "1577: A->M\n",
      "1586: M->A\n",
      "1783: A->M\n",
      "56: M->A\n",
      "no pair for 56: M->A\n",
      "111: A->M\n",
      "133: M->A\n",
      "193: A->M\n",
      "200: M->A\n",
      "234: A->M\n",
      "237: M->A\n",
      "242: A->M\n",
      "268: M->A\n",
      "287: A->M\n",
      "298: M->A\n",
      "305: A->M\n",
      "323: M->A\n",
      "339: A->M\n",
      "342: M->A\n",
      "395: A->M\n",
      "408: M->A\n",
      "418: A->M\n",
      "436: M->A\n",
      "445: A->M\n",
      "450: M->A\n",
      "592: A->M\n",
      "599: M->A\n",
      "611: A->M\n",
      "613: M->A\n",
      "631: A->M\n",
      "709: M->A\n",
      "762: A->M\n",
      "768: M->A\n",
      "791: A->M\n",
      "798: M->A\n",
      "1055: A->M\n",
      "0: ERROR\n",
      "no pair for 0: ERROR\n",
      "80: M->A\n",
      "no pair for 80: M->A\n",
      "305: A->M\n",
      "322: M->A\n",
      "714: A->M\n",
      "744: M->A\n",
      "825: A->M\n",
      "849: M->A\n",
      "911: A->M\n",
      "921: M->A\n",
      "957: A->M\n",
      "968: M->A\n",
      "989: A->M\n",
      "1012: M->A\n",
      "1098: A->M\n",
      "1108: M->A\n",
      "1215: A->M\n",
      "1226: M->A\n",
      "1613: A->M\n",
      "1651: M->A\n",
      "1739: A->M\n",
      "1764: M->A\n",
      "1788: A->M\n",
      "1829: M->A\n",
      "1845: A->M\n",
      "1883: M->A\n",
      "1900: A->M\n",
      "16: M->A\n",
      "no pair for 16: M->A\n",
      "224: A->M\n",
      "259: M->A\n",
      "826: A->M\n",
      "855: M->A\n",
      "1333: A->M\n",
      "1338: M->A\n",
      "1480: A->M\n",
      "1484: M->A\n",
      "1568: A->M\n",
      "1596: M->A\n",
      "1736: A->M\n",
      "1751: M->A\n",
      "1955: A->M\n",
      "20: M->A\n",
      "no pair for 20: M->A\n",
      "70: A->M\n",
      "187: M->A\n",
      "195: A->M\n",
      "245: M->A\n",
      "305: A->M\n",
      "319: M->A\n",
      "467: A->M\n",
      "702: M->A\n",
      "1137: A->M\n",
      "1151: M->A\n",
      "1304: A->M\n",
      "1354: M->A\n",
      "1439: A->M\n",
      "1451: M->A\n",
      "1830: A->M\n",
      "1874: M->A\n",
      "1912: A->M\n",
      "0: ERROR\n",
      "no pair for 0: ERROR\n",
      "6: M->A\n",
      "no pair for 6: M->A\n",
      "33: A->M\n",
      "39: M->A\n",
      "127: A->M\n",
      "204: M->A\n",
      "262: A->M\n",
      "286: M->A\n",
      "302: A->M\n",
      "309: M->A\n",
      "453: A->M\n",
      "532: M->A\n",
      "596: A->M\n",
      "603: M->A\n",
      "1213: A->M\n",
      "1275: M->A\n",
      "1302: A->M\n",
      "1358: M->A\n",
      "1381: A->M\n",
      "1391: M->A\n",
      "1760: A->M\n",
      "1810: M->A\n",
      "1924: A->M\n",
      "22: M->A\n",
      "no pair for 22: M->A\n",
      "337: A->M\n",
      "365: M->A\n",
      "397: A->M\n",
      "415: M->A\n",
      "680: A->M\n",
      "707: M->A\n",
      "750: A->M\n",
      "783: M->A\n",
      "984: A->M\n",
      "1014: M->A\n",
      "1022: A->M\n",
      "1109: M->A\n",
      "1145: A->M\n",
      "1150: M->A\n",
      "1223: A->M\n",
      "1272: M->A\n",
      "1474: A->M\n",
      "1494: M->A\n",
      "1555: A->M\n",
      "1571: M->A\n",
      "1587: A->M\n",
      "1693: M->A\n",
      "1843: A->M\n",
      "1862: M->A\n",
      "1863: A->M\n",
      "14: M->A\n",
      "no pair for 14: M->A\n",
      "499: A->M\n",
      "533: M->A\n",
      "864: A->M\n",
      "44: A->M\n",
      "59: M->A\n",
      "421: A->M\n",
      "432: M->A\n",
      "622: A->M\n",
      "637: M->A\n",
      "638: A->M\n",
      "647: M->A\n",
      "1022: A->M\n",
      "1052: M->A\n",
      "1164: A->M\n",
      "1196: M->A\n",
      "1236: A->M\n",
      "1243: M->A\n",
      "1308: A->M\n",
      "1325: M->A\n",
      "1402: A->M\n",
      "1408: M->A\n",
      "1718: A->M\n",
      "1798: M->A\n",
      "1910: A->M\n",
      "38: M->A\n",
      "no pair for 38: M->A\n",
      "71: A->M\n",
      "78: M->A\n",
      "138: A->M\n",
      "170: M->A\n",
      "310: A->M\n",
      "348: M->A\n",
      "370: A->M\n",
      "375: M->A\n",
      "379: A->M\n",
      "391: M->A\n",
      "399: A->M\n",
      "403: M->A\n",
      "413: A->M\n",
      "456: M->A\n",
      "506: A->M\n",
      "516: M->A\n",
      "528: A->M\n",
      "571: M->A\n",
      "619: A->M\n",
      "727: M->A\n",
      "764: A->M\n",
      "772: M->A\n",
      "997: A->M\n",
      "1004: M->A\n",
      "1013: A->M\n",
      "1018: M->A\n",
      "1034: A->M\n",
      "1122: M->A\n",
      "1268: A->M\n",
      "1277: M->A\n",
      "1300: A->M\n",
      "1319: M->A\n",
      "1367: A->M\n",
      "1389: M->A\n",
      "1408: A->M\n",
      "1416: M->A\n",
      "1725: A->M\n",
      "265: M->A\n",
      "no pair for 265: M->A\n",
      "320: A->M\n",
      "339: M->A\n",
      "460: A->M\n",
      "584: M->A\n",
      "1062: A->M\n",
      "1073: M->A\n",
      "1118: A->M\n",
      "1144: M->A\n",
      "1222: A->M\n",
      "1232: M->A\n",
      "1294: A->M\n",
      "1361: M->A\n",
      "1444: A->M\n",
      "1460: M->A\n",
      "1630: A->M\n",
      "1669: M->A\n",
      "1690: A->M\n",
      "1725: M->A\n",
      "1781: A->M\n",
      "1813: M->A\n",
      "1838: A->M\n",
      "1903: M->A\n",
      "2107: A->M\n",
      "0: ERROR\n",
      "no pair for 0: ERROR\n",
      "80: M->A\n",
      "no pair for 80: M->A\n",
      "349: A->M\n",
      "355: M->A\n",
      "1004: A->M\n",
      "1038: M->A\n",
      "1726: A->M\n",
      "1749: M->A\n",
      "1798: A->M\n",
      "1822: M->A\n",
      "1913: A->M\n",
      "95: M->A\n",
      "no pair for 95: M->A\n",
      "170: A->M\n",
      "204: M->A\n",
      "316: A->M\n",
      "414: M->A\n",
      "439: A->M\n",
      "471: M->A\n",
      "482: A->M\n",
      "491: M->A\n",
      "502: A->M\n",
      "537: M->A\n",
      "563: A->M\n",
      "571: M->A\n",
      "749: A->M\n",
      "758: M->A\n",
      "1025: A->M\n",
      "1035: M->A\n",
      "1095: A->M\n",
      "1165: M->A\n",
      "1240: A->M\n",
      "1257: M->A\n",
      "1317: A->M\n",
      "1331: M->A\n",
      "1340: A->M\n",
      "1377: M->A\n",
      "1471: A->M\n",
      "1502: M->A\n",
      "1550: A->M\n",
      "1561: M->A\n",
      "0: ERROR\n",
      "no pair for 0: ERROR\n",
      "74: M->A\n",
      "no pair for 74: M->A\n",
      "94: A->M\n",
      "113: M->A\n",
      "125: A->M\n",
      "145: M->A\n",
      "155: A->M\n",
      "202: M->A\n",
      "219: A->M\n",
      "280: M->A\n",
      "287: A->M\n",
      "324: M->A\n",
      "337: A->M\n",
      "351: M->A\n",
      "377: A->M\n",
      "394: M->A\n",
      "455: A->M\n",
      "465: M->A\n",
      "624: A->M\n",
      "645: M->A\n",
      "649: A->M\n",
      "659: M->A\n",
      "940: A->M\n",
      "953: M->A\n",
      "1023: A->M\n",
      "1032: M->A\n",
      "1088: A->M\n",
      "1110: M->A\n",
      "1204: A->M\n",
      "1212: M->A\n",
      "1280: A->M\n",
      "1314: M->A\n",
      "1346: A->M\n",
      "1391: M->A\n",
      "1454: A->M\n",
      "1470: M->A\n",
      "1741: A->M\n",
      "1824: M->A\n",
      "1946: A->M\n",
      "1969: M->A\n",
      "1994: A->M\n",
      "39: M->A\n",
      "no pair for 39: M->A\n",
      "56: A->M\n",
      "70: M->A\n",
      "132: A->M\n",
      "173: M->A\n",
      "198: A->M\n",
      "208: M->A\n",
      "283: A->M\n",
      "419: M->A\n",
      "446: A->M\n",
      "474: M->A\n",
      "479: A->M\n",
      "485: M->A\n",
      "501: A->M\n",
      "529: M->A\n",
      "580: A->M\n",
      "589: M->A\n",
      "641: A->M\n",
      "655: M->A\n",
      "691: A->M\n",
      "0: ERROR\n",
      "no pair for 0: ERROR\n",
      "274: A->M\n",
      "336: M->A\n",
      "361: A->M\n",
      "386: M->A\n",
      "396: A->M\n",
      "400: M->A\n",
      "412: A->M\n",
      "441: M->A\n",
      "679: A->M\n",
      "688: M->A\n",
      "725: A->M\n",
      "733: M->A\n",
      "775: A->M\n",
      "779: M->A\n",
      "1082: A->M\n",
      "1091: M->A\n",
      "1120: A->M\n",
      "1138: M->A\n",
      "1368: A->M\n",
      "1375: A->M\n",
      "1376: M->A\n",
      "no pair for 1376: M->A\n",
      "1379: M->A\n",
      "no pair for 1379: M->A\n",
      "1396: A->M\n",
      "1432: M->A\n",
      "1583: A->M\n",
      "1590: M->A\n",
      "1830: A->M\n",
      "0: ERROR\n",
      "no pair for 0: ERROR\n",
      "42: M->A\n",
      "no pair for 42: M->A\n",
      "166: A->M\n",
      "198: M->A\n",
      "772: A->M\n",
      "808: M->A\n",
      "889: A->M\n",
      "8: M->A\n",
      "no pair for 8: M->A\n",
      "100: A->M\n",
      "162: M->A\n",
      "261: A->M\n",
      "393: M->A\n",
      "405: A->M\n",
      "451: M->A\n",
      "470: A->M\n",
      "487: M->A\n",
      "489: A->M\n",
      "493: M->A\n",
      "513: A->M\n",
      "519: M->A\n",
      "528: A->M\n",
      "536: M->A\n",
      "547: A->M\n",
      "565: M->A\n",
      "669: A->M\n",
      "673: M->A\n",
      "784: A->M\n",
      "790: M->A\n",
      "801: A->M\n",
      "812: M->A\n",
      "924: A->M\n",
      "930: M->A\n",
      "1144: A->M\n",
      "1158: M->A\n",
      "1182: A->M\n",
      "1196: M->A\n",
      "1225: A->M\n",
      "1281: M->A\n",
      "1414: A->M\n",
      "1418: M->A\n",
      "1531: A->M\n",
      "1545: M->A\n",
      "1844: A->M\n",
      "45: M->A\n",
      "no pair for 45: M->A\n",
      "134: A->M\n",
      "167: M->A\n",
      "253: A->M\n",
      "257: M->A\n",
      "260: A->M\n",
      "271: M->A\n",
      "283: A->M\n",
      "420: M->A\n",
      "440: A->M\n",
      "464: M->A\n",
      "476: A->M\n",
      "531: M->A\n",
      "643: A->M\n",
      "652: M->A\n",
      "699: A->M\n",
      "755: M->A\n",
      "840: A->M\n",
      "848: M->A\n",
      "1008: A->M\n",
      "1034: M->A\n",
      "1284: A->M\n",
      "1368: M->A\n",
      "1383: A->M\n",
      "1397: M->A\n",
      "0: ERROR\n",
      "no pair for 0: ERROR\n",
      "52: M->A\n",
      "no pair for 52: M->A\n",
      "117: A->M\n",
      "140: M->A\n",
      "153: A->M\n",
      "191: M->A\n",
      "502: A->M\n",
      "521: M->A\n",
      "834: A->M\n",
      "841: M->A\n",
      "850: A->M\n",
      "857: M->A\n",
      "868: A->M\n",
      "884: M->A\n",
      "886: A->M\n",
      "890: M->A\n",
      "923: A->M\n",
      "80: A->M\n",
      "120: M->A\n",
      "256: A->M\n",
      "264: M->A\n",
      "273: A->M\n",
      "290: M->A\n",
      "292: A->M\n",
      "303: M->A\n",
      "310: A->M\n",
      "364: M->A\n",
      "415: A->M\n",
      "422: M->A\n",
      "428: A->M\n",
      "495: M->A\n",
      "519: A->M\n",
      "528: M->A\n",
      "655: A->M\n",
      "674: M->A\n",
      "704: A->M\n",
      "715: M->A\n",
      "732: A->M\n",
      "746: M->A\n",
      "1077: A->M\n",
      "1089: M->A\n",
      "1287: A->M\n",
      "1303: M->A\n",
      "1455: A->M\n",
      "1460: M->A\n",
      "1698: A->M\n",
      "23: M->A\n",
      "no pair for 23: M->A\n",
      "53: A->M\n",
      "204: M->A\n",
      "576: A->M\n",
      "639: M->A\n",
      "698: A->M\n",
      "705: M->A\n",
      "1217: A->M\n",
      "1334: M->A\n",
      "1401: A->M\n",
      "1462: M->A\n",
      "1686: A->M\n",
      "0: ERROR\n",
      "no pair for 0: ERROR\n",
      "205: A->M\n",
      "240: M->A\n",
      "485: A->M\n",
      "517: M->A\n",
      "709: A->M\n",
      "716: M->A\n",
      "749: A->M\n",
      "759: M->A\n",
      "814: A->M\n",
      "838: M->A\n",
      "842: A->M\n",
      "848: M->A\n",
      "864: A->M\n",
      "894: M->A\n",
      "984: A->M\n",
      "994: M->A\n",
      "1349: A->M\n",
      "1358: M->A\n",
      "1586: A->M\n",
      "1613: M->A\n",
      "1657: A->M\n",
      "1683: M->A\n",
      "1748: A->M\n",
      "1775: M->A\n",
      "1799: A->M\n",
      "1810: M->A\n",
      "1829: A->M\n",
      "1862: M->A\n",
      "1872: A->M\n",
      "1893: M->A\n",
      "1911: A->M\n",
      "1921: M->A\n",
      "1972: A->M\n",
      "0: ERROR\n",
      "no pair for 0: ERROR\n",
      "21: A->M\n",
      "71: M->A\n",
      "166: A->M\n",
      "219: M->A\n",
      "254: A->M\n",
      "263: M->A\n",
      "267: A->M\n",
      "285: M->A\n",
      "300: A->M\n",
      "308: M->A\n",
      "446: A->M\n",
      "4: M->A\n",
      "no pair for 4: M->A\n",
      "495: A->M\n",
      "825: M->A\n",
      "908: A->M\n",
      "265: A->M\n",
      "392: M->A\n",
      "569: A->M\n",
      "30: M->A\n",
      "no pair for 30: M->A\n",
      "75: A->M\n",
      "106: M->A\n",
      "848: A->M\n",
      "72: M->A\n",
      "no pair for 72: M->A\n",
      "167: A->M\n",
      "229: M->A\n",
      "301: A->M\n",
      "366: M->A\n",
      "378: A->M\n",
      "559: M->A\n",
      "582: A->M\n",
      "628: M->A\n",
      "634: A->M\n",
      "687: M->A\n",
      "767: A->M\n",
      "777: M->A\n",
      "923: A->M\n",
      "949: M->A\n",
      "985: A->M\n",
      "995: M->A\n",
      "1075: A->M\n",
      "1086: M->A\n",
      "1412: A->M\n",
      "1419: M->A\n",
      "1466: A->M\n",
      "1473: M->A\n",
      "1486: A->M\n",
      "1537: M->A\n",
      "1627: A->M\n",
      "1637: M->A\n",
      "1649: A->M\n",
      "1675: M->A\n",
      "1680: A->M\n",
      "1692: M->A\n",
      "17: M->A\n",
      "no pair for 17: M->A\n",
      "877: A->M\n",
      "77: M->A\n",
      "no pair for 77: M->A\n",
      "132: A->M\n",
      "174: M->A\n",
      "246: A->M\n",
      "254: M->A\n",
      "285: A->M\n",
      "333: M->A\n",
      "347: A->M\n",
      "355: M->A\n",
      "359: A->M\n",
      "366: M->A\n",
      "372: A->M\n",
      "387: M->A\n",
      "479: A->M\n",
      "492: M->A\n",
      "511: A->M\n",
      "515: M->A\n",
      "534: A->M\n",
      "538: M->A\n",
      "736: A->M\n",
      "743: M->A\n",
      "757: A->M\n",
      "763: M->A\n",
      "812: A->M\n",
      "825: M->A\n",
      "847: A->M\n",
      "854: M->A\n",
      "867: A->M\n",
      "871: M->A\n",
      "893: A->M\n",
      "898: M->A\n",
      "1040: A->M\n",
      "1045: M->A\n",
      "1068: A->M\n",
      "27: M->A\n",
      "no pair for 27: M->A\n",
      "50: A->M\n",
      "75: M->A\n",
      "346: A->M\n",
      "353: M->A\n",
      "965: A->M\n",
      "986: M->A\n",
      "1002: A->M\n",
      "1032: M->A\n",
      "1653: A->M\n",
      "0: ERROR\n",
      "no pair for 0: ERROR\n",
      "12: M->A\n",
      "no pair for 12: M->A\n",
      "107: A->M\n",
      "149: M->A\n",
      "253: A->M\n",
      "276: M->A\n",
      "327: A->M\n",
      "348: M->A\n",
      "361: A->M\n",
      "405: M->A\n",
      "451: A->M\n",
      "455: M->A\n",
      "473: A->M\n",
      "483: M->A\n",
      "491: A->M\n",
      "509: M->A\n",
      "704: A->M\n",
      "757: M->A\n",
      "770: A->M\n",
      "780: M->A\n",
      "1225: A->M\n",
      "1241: M->A\n",
      "1378: A->M\n",
      "1412: M->A\n",
      "1470: A->M\n",
      "1506: M->A\n",
      "1602: A->M\n",
      "1616: M->A\n",
      "1700: A->M\n",
      "1805: M->A\n",
      "1838: A->M\n",
      "57: M->A\n",
      "no pair for 57: M->A\n",
      "145: A->M\n",
      "179: M->A\n",
      "201: A->M\n",
      "208: M->A\n",
      "241: A->M\n",
      "252: M->A\n",
      "340: A->M\n",
      "351: M->A\n",
      "373: A->M\n",
      "465: M->A\n",
      "502: A->M\n",
      "513: M->A\n",
      "523: A->M\n",
      "529: M->A\n",
      "541: A->M\n",
      "567: M->A\n",
      "727: A->M\n",
      "738: M->A\n",
      "886: A->M\n",
      "889: M->A\n",
      "1048: A->M\n",
      "1134: M->A\n",
      "1163: A->M\n",
      "1182: M->A\n",
      "1252: A->M\n",
      "1261: M->A\n",
      "1286: A->M\n",
      "1335: M->A\n",
      "1459: A->M\n",
      "1469: M->A\n",
      "1509: A->M\n",
      "1515: M->A\n",
      "1626: A->M\n",
      "1640: M->A\n",
      "1707: A->M\n",
      "1731: M->A\n",
      "1748: A->M\n",
      "1754: M->A\n",
      "1780: A->M\n",
      "0: ERROR\n",
      "no pair for 0: ERROR\n",
      "74: M->A\n",
      "no pair for 74: M->A\n",
      "160: A->M\n",
      "0: ERROR\n",
      "no pair for 0: ERROR\n",
      "101: A->M\n",
      "130: M->A\n",
      "415: A->M\n",
      "430: M->A\n",
      "463: A->M\n",
      "6: A->M\n",
      "25: M->A\n",
      "28: A->M\n",
      "49: M->A\n",
      "77: A->M\n",
      "0: ERROR\n",
      "no pair for 0: ERROR\n",
      "36: M->A\n",
      "no pair for 36: M->A\n",
      "886: A->M\n"
     ]
    }
   ],
   "source": [
    "\n",
    "autoOutput_dict = {}\n",
    "\n",
    "for gmID in gmIDs[\"groupMetadataID\"]:\n",
    "    temp_pose = dict_pose[gmID]\n",
    "    \n",
    "    temp_pts = pts_dict[gmID]\n",
    "    \n",
    "    bestPos = temp_pose.copy()\n",
    "    bestPos = bestPos.sort_values('time')\n",
    "    bestPos['time'] = bestPos['time'].astype(float)\n",
    "    bestPos['time'] = bestPos['time'].astype('datetime64[ns]')\n",
    "    bestPos['time'] = bestPos['time'].astype('datetime64[s]')\n",
    "    bestPos = bestPos[['time', 'latitude', 'longitude']]\n",
    "    \n",
    "    full_merged_df = pd.merge(temp_pts, bestPos, on='time').drop_duplicates()\n",
    "    full_merged_df = full_merged_df.reset_index(drop = True).sort_values('time')\n",
    "    \n",
    "    merged_df = full_merged_df.drop_duplicates(\n",
    "        subset=['time', 'transitionType']).copy().reset_index().rename(columns={\"index\":\"full_index\"})\n",
    "    # remove all NONE transition columns\n",
    "    automatedDF = merged_df[(merged_df['transitionType'] != 'NONE')].copy()\n",
    "    # show(automatedDF)\n",
    "    # create a pairing system so we know start and end positions\n",
    "    pair = True\n",
    "    # list to hold the entries\n",
    "    documents = []\n",
    "    # iterate over the list\n",
    "    for index, row in automatedDF.iterrows():\n",
    "        print(f\"{index}:\", row['transitionType'])\n",
    "        if pair == False:\n",
    "            # log the end time of transitioning back into automatic\n",
    "            endTime = row['time']\n",
    "            endingLoc = [row['latitude'], row['longitude']]\n",
    "            stoppingIndex = row[\"full_index\"]\n",
    "            \n",
    "            # create our document here since we know we have a pair at the moment\n",
    "            document = {\n",
    "                'gmID': gmID,\n",
    "                'Start Time': startTime,\n",
    "                'Stop Time': endTime,\n",
    "                'Start Lat': startingLoc[0],\n",
    "                'Start Long': startingLoc[1],\n",
    "                'Start Index': startingIndex,\n",
    "                'Stop Lat': endingLoc[0],\n",
    "                'Stop Long': endingLoc[1],\n",
    "                'Stop Index': stoppingIndex,\n",
    "                'Notes': '',\n",
    "                'Features Present': '',\n",
    "                'Image': ''\n",
    "            }\n",
    "            documents.append(document)\n",
    "            pair = True\n",
    "        elif row['transitionType'] == 'A->M':\n",
    "            startTime = row['time']\n",
    "            startingLoc = [row['latitude'], row['longitude']]\n",
    "            startingIndex = row[\"full_index\"]\n",
    "            # print(f'{startTime} location: {startingLoc}')\n",
    "            pair = False\n",
    "        else:\n",
    "            print(f\"no pair for {index}:\", row['transitionType'])\n",
    "            # raise Exception(\"Error!\")\n",
    "    # print(documents)\n",
    "    autoOutput = pd.DataFrame(documents)\n",
    "    \n",
    "    data_dict = {\n",
    "        \"full\": full_merged_df,\n",
    "        \"merged\": merged_df,\n",
    "        \"auto\": autoOutput\n",
    "        \n",
    "    }\n",
    "    autoOutput_dict.update({gmID:data_dict})"
   ]
  },
  {
   "cell_type": "code",
   "execution_count": 13,
   "id": "f4edb23b",
   "metadata": {},
   "outputs": [
    {
     "data": {
      "text/html": [
       "<div>\n",
       "<style scoped>\n",
       "    .dataframe tbody tr th:only-of-type {\n",
       "        vertical-align: middle;\n",
       "    }\n",
       "\n",
       "    .dataframe tbody tr th {\n",
       "        vertical-align: top;\n",
       "    }\n",
       "\n",
       "    .dataframe thead th {\n",
       "        text-align: right;\n",
       "    }\n",
       "</style>\n",
       "<table border=\"1\" class=\"dataframe\">\n",
       "  <thead>\n",
       "    <tr style=\"text-align: right;\">\n",
       "      <th></th>\n",
       "      <th>gmID</th>\n",
       "      <th>Start Time</th>\n",
       "      <th>Stop Time</th>\n",
       "      <th>Start Lat</th>\n",
       "      <th>Start Long</th>\n",
       "      <th>Start Index</th>\n",
       "      <th>Stop Lat</th>\n",
       "      <th>Stop Long</th>\n",
       "      <th>Stop Index</th>\n",
       "      <th>Notes</th>\n",
       "      <th>Features Present</th>\n",
       "      <th>Image</th>\n",
       "    </tr>\n",
       "  </thead>\n",
       "  <tbody>\n",
       "    <tr>\n",
       "      <th>0</th>\n",
       "      <td>2bc6ebb8-a529-11ee-88ec-eb6a8d5269b4</td>\n",
       "      <td>2023-10-02 16:54:27</td>\n",
       "      <td>2023-10-02 16:54:32</td>\n",
       "      <td>39.379658</td>\n",
       "      <td>-82.135662</td>\n",
       "      <td>347</td>\n",
       "      <td>39.380076</td>\n",
       "      <td>-82.135798</td>\n",
       "      <td>356</td>\n",
       "      <td></td>\n",
       "      <td></td>\n",
       "      <td></td>\n",
       "    </tr>\n",
       "    <tr>\n",
       "      <th>1</th>\n",
       "      <td>2bc6ebb8-a529-11ee-88ec-eb6a8d5269b4</td>\n",
       "      <td>2023-10-02 16:55:52</td>\n",
       "      <td>2023-10-02 16:56:36</td>\n",
       "      <td>39.387659</td>\n",
       "      <td>-82.140056</td>\n",
       "      <td>438</td>\n",
       "      <td>39.386642</td>\n",
       "      <td>-82.142747</td>\n",
       "      <td>486</td>\n",
       "      <td></td>\n",
       "      <td></td>\n",
       "      <td></td>\n",
       "    </tr>\n",
       "    <tr>\n",
       "      <th>2</th>\n",
       "      <td>2bc6ebb8-a529-11ee-88ec-eb6a8d5269b4</td>\n",
       "      <td>2023-10-02 16:58:28</td>\n",
       "      <td>2023-10-02 16:59:05</td>\n",
       "      <td>39.377511</td>\n",
       "      <td>-82.142396</td>\n",
       "      <td>600</td>\n",
       "      <td>39.377175</td>\n",
       "      <td>-82.140835</td>\n",
       "      <td>639</td>\n",
       "      <td></td>\n",
       "      <td></td>\n",
       "      <td></td>\n",
       "    </tr>\n",
       "    <tr>\n",
       "      <th>3</th>\n",
       "      <td>2bc6ebb8-a529-11ee-88ec-eb6a8d5269b4</td>\n",
       "      <td>2023-10-02 17:00:00</td>\n",
       "      <td>2023-10-02 17:00:23</td>\n",
       "      <td>39.378287</td>\n",
       "      <td>-82.135879</td>\n",
       "      <td>695</td>\n",
       "      <td>39.376737</td>\n",
       "      <td>-82.134789</td>\n",
       "      <td>722</td>\n",
       "      <td></td>\n",
       "      <td></td>\n",
       "      <td></td>\n",
       "    </tr>\n",
       "    <tr>\n",
       "      <th>4</th>\n",
       "      <td>2bc6ebb8-a529-11ee-88ec-eb6a8d5269b4</td>\n",
       "      <td>2023-10-02 17:01:14</td>\n",
       "      <td>2023-10-02 17:01:24</td>\n",
       "      <td>39.369747</td>\n",
       "      <td>-82.132521</td>\n",
       "      <td>775</td>\n",
       "      <td>39.368478</td>\n",
       "      <td>-82.132104</td>\n",
       "      <td>789</td>\n",
       "      <td></td>\n",
       "      <td></td>\n",
       "      <td></td>\n",
       "    </tr>\n",
       "    <tr>\n",
       "      <th>5</th>\n",
       "      <td>2bc6ebb8-a529-11ee-88ec-eb6a8d5269b4</td>\n",
       "      <td>2023-10-02 17:06:02</td>\n",
       "      <td>2023-10-02 17:06:10</td>\n",
       "      <td>39.332271</td>\n",
       "      <td>-82.130520</td>\n",
       "      <td>1069</td>\n",
       "      <td>39.331545</td>\n",
       "      <td>-82.129552</td>\n",
       "      <td>1079</td>\n",
       "      <td></td>\n",
       "      <td></td>\n",
       "      <td></td>\n",
       "    </tr>\n",
       "    <tr>\n",
       "      <th>6</th>\n",
       "      <td>2bc6ebb8-a529-11ee-88ec-eb6a8d5269b4</td>\n",
       "      <td>2023-10-02 17:08:49</td>\n",
       "      <td>2023-10-02 17:09:25</td>\n",
       "      <td>39.320451</td>\n",
       "      <td>-82.107188</td>\n",
       "      <td>1240</td>\n",
       "      <td>39.320273</td>\n",
       "      <td>-82.105155</td>\n",
       "      <td>1278</td>\n",
       "      <td></td>\n",
       "      <td></td>\n",
       "      <td></td>\n",
       "    </tr>\n",
       "    <tr>\n",
       "      <th>7</th>\n",
       "      <td>2bc6ebb8-a529-11ee-88ec-eb6a8d5269b4</td>\n",
       "      <td>2023-10-02 17:09:48</td>\n",
       "      <td>2023-10-02 17:10:13</td>\n",
       "      <td>39.322450</td>\n",
       "      <td>-82.104504</td>\n",
       "      <td>1303</td>\n",
       "      <td>39.324962</td>\n",
       "      <td>-82.103846</td>\n",
       "      <td>1332</td>\n",
       "      <td></td>\n",
       "      <td></td>\n",
       "      <td></td>\n",
       "    </tr>\n",
       "    <tr>\n",
       "      <th>8</th>\n",
       "      <td>2bc6ebb8-a529-11ee-88ec-eb6a8d5269b4</td>\n",
       "      <td>2023-10-02 17:11:10</td>\n",
       "      <td>2023-10-02 17:15:12</td>\n",
       "      <td>39.327783</td>\n",
       "      <td>-82.101341</td>\n",
       "      <td>1391</td>\n",
       "      <td>39.329285</td>\n",
       "      <td>-82.105693</td>\n",
       "      <td>1635</td>\n",
       "      <td></td>\n",
       "      <td></td>\n",
       "      <td></td>\n",
       "    </tr>\n",
       "    <tr>\n",
       "      <th>9</th>\n",
       "      <td>2bc6ebb8-a529-11ee-88ec-eb6a8d5269b4</td>\n",
       "      <td>2023-10-02 17:17:20</td>\n",
       "      <td>2023-10-02 17:17:40</td>\n",
       "      <td>39.330150</td>\n",
       "      <td>-82.118777</td>\n",
       "      <td>1765</td>\n",
       "      <td>39.330962</td>\n",
       "      <td>-82.120780</td>\n",
       "      <td>1789</td>\n",
       "      <td></td>\n",
       "      <td></td>\n",
       "      <td></td>\n",
       "    </tr>\n",
       "  </tbody>\n",
       "</table>\n",
       "</div>"
      ],
      "text/plain": [
       "                                   gmID          Start Time  \\\n",
       "0  2bc6ebb8-a529-11ee-88ec-eb6a8d5269b4 2023-10-02 16:54:27   \n",
       "1  2bc6ebb8-a529-11ee-88ec-eb6a8d5269b4 2023-10-02 16:55:52   \n",
       "2  2bc6ebb8-a529-11ee-88ec-eb6a8d5269b4 2023-10-02 16:58:28   \n",
       "3  2bc6ebb8-a529-11ee-88ec-eb6a8d5269b4 2023-10-02 17:00:00   \n",
       "4  2bc6ebb8-a529-11ee-88ec-eb6a8d5269b4 2023-10-02 17:01:14   \n",
       "5  2bc6ebb8-a529-11ee-88ec-eb6a8d5269b4 2023-10-02 17:06:02   \n",
       "6  2bc6ebb8-a529-11ee-88ec-eb6a8d5269b4 2023-10-02 17:08:49   \n",
       "7  2bc6ebb8-a529-11ee-88ec-eb6a8d5269b4 2023-10-02 17:09:48   \n",
       "8  2bc6ebb8-a529-11ee-88ec-eb6a8d5269b4 2023-10-02 17:11:10   \n",
       "9  2bc6ebb8-a529-11ee-88ec-eb6a8d5269b4 2023-10-02 17:17:20   \n",
       "\n",
       "            Stop Time  Start Lat  Start Long  Start Index   Stop Lat  \\\n",
       "0 2023-10-02 16:54:32  39.379658  -82.135662          347  39.380076   \n",
       "1 2023-10-02 16:56:36  39.387659  -82.140056          438  39.386642   \n",
       "2 2023-10-02 16:59:05  39.377511  -82.142396          600  39.377175   \n",
       "3 2023-10-02 17:00:23  39.378287  -82.135879          695  39.376737   \n",
       "4 2023-10-02 17:01:24  39.369747  -82.132521          775  39.368478   \n",
       "5 2023-10-02 17:06:10  39.332271  -82.130520         1069  39.331545   \n",
       "6 2023-10-02 17:09:25  39.320451  -82.107188         1240  39.320273   \n",
       "7 2023-10-02 17:10:13  39.322450  -82.104504         1303  39.324962   \n",
       "8 2023-10-02 17:15:12  39.327783  -82.101341         1391  39.329285   \n",
       "9 2023-10-02 17:17:40  39.330150  -82.118777         1765  39.330962   \n",
       "\n",
       "   Stop Long  Stop Index Notes Features Present Image  \n",
       "0 -82.135798         356                               \n",
       "1 -82.142747         486                               \n",
       "2 -82.140835         639                               \n",
       "3 -82.134789         722                               \n",
       "4 -82.132104         789                               \n",
       "5 -82.129552        1079                               \n",
       "6 -82.105155        1278                               \n",
       "7 -82.103846        1332                               \n",
       "8 -82.105693        1635                               \n",
       "9 -82.120780        1789                               "
      ]
     },
     "execution_count": 13,
     "metadata": {},
     "output_type": "execute_result"
    }
   ],
   "source": [
    "autoOutput_dict[\"2bc6ebb8-a529-11ee-88ec-eb6a8d5269b4\"][\"auto\"]"
   ]
  },
  {
   "cell_type": "markdown",
   "id": "56c7cd4d-5c68-471d-a473-a37fcbfeac6c",
   "metadata": {},
   "source": [
    "### Mapping\n"
   ]
  },
  {
   "cell_type": "code",
   "execution_count": 14,
   "id": "59adfe8a-3bf3-4587-b105-5cbd73893c3d",
   "metadata": {
    "scrolled": true
   },
   "outputs": [
    {
     "name": "stdout",
     "output_type": "stream",
     "text": [
      "Start: 342\n",
      "Stop: 361\n",
      "lat: 39.37965838525872, Long: -82.13566247663064\n"
     ]
    },
    {
     "name": "stderr",
     "output_type": "stream",
     "text": [
      "/home/vhepola_linux/do-env/lib/python3.10/site-packages/plotly/express/_core.py:2065: FutureWarning: When grouping with a length-1 list-like, you will need to pass a length-1 tuple to get_group in a future version of pandas. Pass `(name,)` instead of `name` to silence this warning.\n",
      "  sf: grouped.get_group(s if len(s) > 1 else s[0])\n"
     ]
    },
    {
     "data": {
      "application/vnd.plotly.v1+json": {
       "config": {
        "plotlyServerURL": "https://plot.ly"
       },
       "data": [
        {
         "customdata": [
          [
           "2023-10-02T16:54:23",
           "COMPLETE_AUTO_DRIVE",
           "NONE"
          ],
          [
           "2023-10-02T16:54:24",
           "COMPLETE_AUTO_DRIVE",
           "NONE"
          ],
          [
           "2023-10-02T16:54:25",
           "COMPLETE_AUTO_DRIVE",
           "NONE"
          ],
          [
           "2023-10-02T16:54:26",
           "COMPLETE_AUTO_DRIVE",
           "NONE"
          ],
          [
           "2023-10-02T16:54:27",
           "COMPLETE_AUTO_DRIVE",
           "NONE"
          ],
          [
           "2023-10-02T16:54:32",
           "COMPLETE_AUTO_DRIVE",
           "NONE"
          ],
          [
           "2023-10-02T16:54:32",
           "COMPLETE_AUTO_DRIVE",
           "M->A"
          ],
          [
           "2023-10-02T16:54:33",
           "COMPLETE_AUTO_DRIVE",
           "NONE"
          ],
          [
           "2023-10-02T16:54:34",
           "COMPLETE_AUTO_DRIVE",
           "NONE"
          ],
          [
           "2023-10-02T16:54:35",
           "COMPLETE_AUTO_DRIVE",
           "NONE"
          ]
         ],
         "hovertemplate": "drivingMode=%{customdata[1]}<br>latitude=%{lat}<br>longitude=%{lon}<br>time=%{customdata[0]}<br>transitionType=%{customdata[2]}<extra></extra>",
         "lat": [
          39.37925154246636,
          39.37935987967917,
          39.37946566282863,
          39.3795658922844,
          39.37965838525872,
          39.38007639878601,
          39.38007639878601,
          39.38016590210127,
          39.380241273133976,
          39.38030762283113
         ],
         "legendgroup": "COMPLETE_AUTO_DRIVE",
         "lon": [
          -82.13552440411816,
          -82.13556146296,
          -82.13559717323714,
          -82.13563104626171,
          -82.13566247663064,
          -82.135797942462,
          -82.135797942462,
          -82.13582604694108,
          -82.13584914996184,
          -82.13586805050903
         ],
         "marker": {
          "color": "#63ACBE",
          "size": 8
         },
         "mode": "markers",
         "name": "COMPLETE_AUTO_DRIVE",
         "showlegend": true,
         "subplot": "mapbox",
         "type": "scattermapbox"
        },
        {
         "customdata": [
          [
           "2023-10-02T16:54:27",
           "EMERGENCY_MODE",
           "A->M"
          ],
          [
           "2023-10-02T16:54:27",
           "EMERGENCY_MODE",
           "NONE"
          ],
          [
           "2023-10-02T16:54:28",
           "EMERGENCY_MODE",
           "NONE"
          ],
          [
           "2023-10-02T16:54:29",
           "EMERGENCY_MODE",
           "NONE"
          ],
          [
           "2023-10-02T16:54:30",
           "EMERGENCY_MODE",
           "NONE"
          ],
          [
           "2023-10-02T16:54:31",
           "EMERGENCY_MODE",
           "NONE"
          ]
         ],
         "hovertemplate": "drivingMode=%{customdata[1]}<br>latitude=%{lat}<br>longitude=%{lon}<br>time=%{customdata[0]}<br>transitionType=%{customdata[2]}<extra></extra>",
         "lat": [
          39.37965838525872,
          39.37965838525872,
          39.37973228765713,
          39.379803334620135,
          39.37988097590423,
          39.37997242839642
         ],
         "legendgroup": "EMERGENCY_MODE",
         "lon": [
          -82.13566247663064,
          -82.13566247663064,
          -82.13568739758436,
          -82.13571096144105,
          -82.13573628629638,
          -82.13576529843634
         ],
         "marker": {
          "color": "#EE442F",
          "size": 8
         },
         "mode": "markers",
         "name": "EMERGENCY_MODE",
         "showlegend": true,
         "subplot": "mapbox",
         "type": "scattermapbox"
        },
        {
         "customdata": [
          [
           "2023-10-02T16:54:31",
           "COMPLETE_MANUAL",
           "NONE"
          ],
          [
           "2023-10-02T16:54:31",
           "COMPLETE_MANUAL",
           "NONE"
          ],
          [
           "2023-10-02T16:54:32",
           "COMPLETE_MANUAL",
           "NONE"
          ]
         ],
         "hovertemplate": "drivingMode=%{customdata[1]}<br>latitude=%{lat}<br>longitude=%{lon}<br>time=%{customdata[0]}<br>transitionType=%{customdata[2]}<extra></extra>",
         "lat": [
          39.37997242839642,
          39.37997242839642,
          39.38007639878601
         ],
         "legendgroup": "COMPLETE_MANUAL",
         "lon": [
          -82.13576529843634,
          -82.13576529843634,
          -82.135797942462
         ],
         "marker": {
          "color": "#601A4A",
          "size": 8
         },
         "mode": "markers",
         "name": "COMPLETE_MANUAL",
         "showlegend": true,
         "subplot": "mapbox",
         "type": "scattermapbox"
        }
       ],
       "layout": {
        "height": 700,
        "legend": {
         "title": {
          "text": "drivingMode"
         },
         "tracegroupgap": 0
        },
        "mapbox": {
         "center": {
          "lat": 39.37983663214894,
          "lon": -82.13571942799462
         },
         "domain": {
          "x": [
           0,
           1
          ],
          "y": [
           0,
           1
          ]
         },
         "style": "open-street-map",
         "zoom": 17
        },
        "margin": {
         "b": 0,
         "l": 0,
         "r": 0,
         "t": 0
        },
        "template": {
         "data": {
          "bar": [
           {
            "error_x": {
             "color": "#2a3f5f"
            },
            "error_y": {
             "color": "#2a3f5f"
            },
            "marker": {
             "line": {
              "color": "#E5ECF6",
              "width": 0.5
             },
             "pattern": {
              "fillmode": "overlay",
              "size": 10,
              "solidity": 0.2
             }
            },
            "type": "bar"
           }
          ],
          "barpolar": [
           {
            "marker": {
             "line": {
              "color": "#E5ECF6",
              "width": 0.5
             },
             "pattern": {
              "fillmode": "overlay",
              "size": 10,
              "solidity": 0.2
             }
            },
            "type": "barpolar"
           }
          ],
          "carpet": [
           {
            "aaxis": {
             "endlinecolor": "#2a3f5f",
             "gridcolor": "white",
             "linecolor": "white",
             "minorgridcolor": "white",
             "startlinecolor": "#2a3f5f"
            },
            "baxis": {
             "endlinecolor": "#2a3f5f",
             "gridcolor": "white",
             "linecolor": "white",
             "minorgridcolor": "white",
             "startlinecolor": "#2a3f5f"
            },
            "type": "carpet"
           }
          ],
          "choropleth": [
           {
            "colorbar": {
             "outlinewidth": 0,
             "ticks": ""
            },
            "type": "choropleth"
           }
          ],
          "contour": [
           {
            "colorbar": {
             "outlinewidth": 0,
             "ticks": ""
            },
            "colorscale": [
             [
              0,
              "#0d0887"
             ],
             [
              0.1111111111111111,
              "#46039f"
             ],
             [
              0.2222222222222222,
              "#7201a8"
             ],
             [
              0.3333333333333333,
              "#9c179e"
             ],
             [
              0.4444444444444444,
              "#bd3786"
             ],
             [
              0.5555555555555556,
              "#d8576b"
             ],
             [
              0.6666666666666666,
              "#ed7953"
             ],
             [
              0.7777777777777778,
              "#fb9f3a"
             ],
             [
              0.8888888888888888,
              "#fdca26"
             ],
             [
              1,
              "#f0f921"
             ]
            ],
            "type": "contour"
           }
          ],
          "contourcarpet": [
           {
            "colorbar": {
             "outlinewidth": 0,
             "ticks": ""
            },
            "type": "contourcarpet"
           }
          ],
          "heatmap": [
           {
            "colorbar": {
             "outlinewidth": 0,
             "ticks": ""
            },
            "colorscale": [
             [
              0,
              "#0d0887"
             ],
             [
              0.1111111111111111,
              "#46039f"
             ],
             [
              0.2222222222222222,
              "#7201a8"
             ],
             [
              0.3333333333333333,
              "#9c179e"
             ],
             [
              0.4444444444444444,
              "#bd3786"
             ],
             [
              0.5555555555555556,
              "#d8576b"
             ],
             [
              0.6666666666666666,
              "#ed7953"
             ],
             [
              0.7777777777777778,
              "#fb9f3a"
             ],
             [
              0.8888888888888888,
              "#fdca26"
             ],
             [
              1,
              "#f0f921"
             ]
            ],
            "type": "heatmap"
           }
          ],
          "heatmapgl": [
           {
            "colorbar": {
             "outlinewidth": 0,
             "ticks": ""
            },
            "colorscale": [
             [
              0,
              "#0d0887"
             ],
             [
              0.1111111111111111,
              "#46039f"
             ],
             [
              0.2222222222222222,
              "#7201a8"
             ],
             [
              0.3333333333333333,
              "#9c179e"
             ],
             [
              0.4444444444444444,
              "#bd3786"
             ],
             [
              0.5555555555555556,
              "#d8576b"
             ],
             [
              0.6666666666666666,
              "#ed7953"
             ],
             [
              0.7777777777777778,
              "#fb9f3a"
             ],
             [
              0.8888888888888888,
              "#fdca26"
             ],
             [
              1,
              "#f0f921"
             ]
            ],
            "type": "heatmapgl"
           }
          ],
          "histogram": [
           {
            "marker": {
             "pattern": {
              "fillmode": "overlay",
              "size": 10,
              "solidity": 0.2
             }
            },
            "type": "histogram"
           }
          ],
          "histogram2d": [
           {
            "colorbar": {
             "outlinewidth": 0,
             "ticks": ""
            },
            "colorscale": [
             [
              0,
              "#0d0887"
             ],
             [
              0.1111111111111111,
              "#46039f"
             ],
             [
              0.2222222222222222,
              "#7201a8"
             ],
             [
              0.3333333333333333,
              "#9c179e"
             ],
             [
              0.4444444444444444,
              "#bd3786"
             ],
             [
              0.5555555555555556,
              "#d8576b"
             ],
             [
              0.6666666666666666,
              "#ed7953"
             ],
             [
              0.7777777777777778,
              "#fb9f3a"
             ],
             [
              0.8888888888888888,
              "#fdca26"
             ],
             [
              1,
              "#f0f921"
             ]
            ],
            "type": "histogram2d"
           }
          ],
          "histogram2dcontour": [
           {
            "colorbar": {
             "outlinewidth": 0,
             "ticks": ""
            },
            "colorscale": [
             [
              0,
              "#0d0887"
             ],
             [
              0.1111111111111111,
              "#46039f"
             ],
             [
              0.2222222222222222,
              "#7201a8"
             ],
             [
              0.3333333333333333,
              "#9c179e"
             ],
             [
              0.4444444444444444,
              "#bd3786"
             ],
             [
              0.5555555555555556,
              "#d8576b"
             ],
             [
              0.6666666666666666,
              "#ed7953"
             ],
             [
              0.7777777777777778,
              "#fb9f3a"
             ],
             [
              0.8888888888888888,
              "#fdca26"
             ],
             [
              1,
              "#f0f921"
             ]
            ],
            "type": "histogram2dcontour"
           }
          ],
          "mesh3d": [
           {
            "colorbar": {
             "outlinewidth": 0,
             "ticks": ""
            },
            "type": "mesh3d"
           }
          ],
          "parcoords": [
           {
            "line": {
             "colorbar": {
              "outlinewidth": 0,
              "ticks": ""
             }
            },
            "type": "parcoords"
           }
          ],
          "pie": [
           {
            "automargin": true,
            "type": "pie"
           }
          ],
          "scatter": [
           {
            "fillpattern": {
             "fillmode": "overlay",
             "size": 10,
             "solidity": 0.2
            },
            "type": "scatter"
           }
          ],
          "scatter3d": [
           {
            "line": {
             "colorbar": {
              "outlinewidth": 0,
              "ticks": ""
             }
            },
            "marker": {
             "colorbar": {
              "outlinewidth": 0,
              "ticks": ""
             }
            },
            "type": "scatter3d"
           }
          ],
          "scattercarpet": [
           {
            "marker": {
             "colorbar": {
              "outlinewidth": 0,
              "ticks": ""
             }
            },
            "type": "scattercarpet"
           }
          ],
          "scattergeo": [
           {
            "marker": {
             "colorbar": {
              "outlinewidth": 0,
              "ticks": ""
             }
            },
            "type": "scattergeo"
           }
          ],
          "scattergl": [
           {
            "marker": {
             "colorbar": {
              "outlinewidth": 0,
              "ticks": ""
             }
            },
            "type": "scattergl"
           }
          ],
          "scattermapbox": [
           {
            "marker": {
             "colorbar": {
              "outlinewidth": 0,
              "ticks": ""
             }
            },
            "type": "scattermapbox"
           }
          ],
          "scatterpolar": [
           {
            "marker": {
             "colorbar": {
              "outlinewidth": 0,
              "ticks": ""
             }
            },
            "type": "scatterpolar"
           }
          ],
          "scatterpolargl": [
           {
            "marker": {
             "colorbar": {
              "outlinewidth": 0,
              "ticks": ""
             }
            },
            "type": "scatterpolargl"
           }
          ],
          "scatterternary": [
           {
            "marker": {
             "colorbar": {
              "outlinewidth": 0,
              "ticks": ""
             }
            },
            "type": "scatterternary"
           }
          ],
          "surface": [
           {
            "colorbar": {
             "outlinewidth": 0,
             "ticks": ""
            },
            "colorscale": [
             [
              0,
              "#0d0887"
             ],
             [
              0.1111111111111111,
              "#46039f"
             ],
             [
              0.2222222222222222,
              "#7201a8"
             ],
             [
              0.3333333333333333,
              "#9c179e"
             ],
             [
              0.4444444444444444,
              "#bd3786"
             ],
             [
              0.5555555555555556,
              "#d8576b"
             ],
             [
              0.6666666666666666,
              "#ed7953"
             ],
             [
              0.7777777777777778,
              "#fb9f3a"
             ],
             [
              0.8888888888888888,
              "#fdca26"
             ],
             [
              1,
              "#f0f921"
             ]
            ],
            "type": "surface"
           }
          ],
          "table": [
           {
            "cells": {
             "fill": {
              "color": "#EBF0F8"
             },
             "line": {
              "color": "white"
             }
            },
            "header": {
             "fill": {
              "color": "#C8D4E3"
             },
             "line": {
              "color": "white"
             }
            },
            "type": "table"
           }
          ]
         },
         "layout": {
          "annotationdefaults": {
           "arrowcolor": "#2a3f5f",
           "arrowhead": 0,
           "arrowwidth": 1
          },
          "autotypenumbers": "strict",
          "coloraxis": {
           "colorbar": {
            "outlinewidth": 0,
            "ticks": ""
           }
          },
          "colorscale": {
           "diverging": [
            [
             0,
             "#8e0152"
            ],
            [
             0.1,
             "#c51b7d"
            ],
            [
             0.2,
             "#de77ae"
            ],
            [
             0.3,
             "#f1b6da"
            ],
            [
             0.4,
             "#fde0ef"
            ],
            [
             0.5,
             "#f7f7f7"
            ],
            [
             0.6,
             "#e6f5d0"
            ],
            [
             0.7,
             "#b8e186"
            ],
            [
             0.8,
             "#7fbc41"
            ],
            [
             0.9,
             "#4d9221"
            ],
            [
             1,
             "#276419"
            ]
           ],
           "sequential": [
            [
             0,
             "#0d0887"
            ],
            [
             0.1111111111111111,
             "#46039f"
            ],
            [
             0.2222222222222222,
             "#7201a8"
            ],
            [
             0.3333333333333333,
             "#9c179e"
            ],
            [
             0.4444444444444444,
             "#bd3786"
            ],
            [
             0.5555555555555556,
             "#d8576b"
            ],
            [
             0.6666666666666666,
             "#ed7953"
            ],
            [
             0.7777777777777778,
             "#fb9f3a"
            ],
            [
             0.8888888888888888,
             "#fdca26"
            ],
            [
             1,
             "#f0f921"
            ]
           ],
           "sequentialminus": [
            [
             0,
             "#0d0887"
            ],
            [
             0.1111111111111111,
             "#46039f"
            ],
            [
             0.2222222222222222,
             "#7201a8"
            ],
            [
             0.3333333333333333,
             "#9c179e"
            ],
            [
             0.4444444444444444,
             "#bd3786"
            ],
            [
             0.5555555555555556,
             "#d8576b"
            ],
            [
             0.6666666666666666,
             "#ed7953"
            ],
            [
             0.7777777777777778,
             "#fb9f3a"
            ],
            [
             0.8888888888888888,
             "#fdca26"
            ],
            [
             1,
             "#f0f921"
            ]
           ]
          },
          "colorway": [
           "#636efa",
           "#EF553B",
           "#00cc96",
           "#ab63fa",
           "#FFA15A",
           "#19d3f3",
           "#FF6692",
           "#B6E880",
           "#FF97FF",
           "#FECB52"
          ],
          "font": {
           "color": "#2a3f5f"
          },
          "geo": {
           "bgcolor": "white",
           "lakecolor": "white",
           "landcolor": "#E5ECF6",
           "showlakes": true,
           "showland": true,
           "subunitcolor": "white"
          },
          "hoverlabel": {
           "align": "left"
          },
          "hovermode": "closest",
          "mapbox": {
           "style": "light"
          },
          "paper_bgcolor": "white",
          "plot_bgcolor": "#E5ECF6",
          "polar": {
           "angularaxis": {
            "gridcolor": "white",
            "linecolor": "white",
            "ticks": ""
           },
           "bgcolor": "#E5ECF6",
           "radialaxis": {
            "gridcolor": "white",
            "linecolor": "white",
            "ticks": ""
           }
          },
          "scene": {
           "xaxis": {
            "backgroundcolor": "#E5ECF6",
            "gridcolor": "white",
            "gridwidth": 2,
            "linecolor": "white",
            "showbackground": true,
            "ticks": "",
            "zerolinecolor": "white"
           },
           "yaxis": {
            "backgroundcolor": "#E5ECF6",
            "gridcolor": "white",
            "gridwidth": 2,
            "linecolor": "white",
            "showbackground": true,
            "ticks": "",
            "zerolinecolor": "white"
           },
           "zaxis": {
            "backgroundcolor": "#E5ECF6",
            "gridcolor": "white",
            "gridwidth": 2,
            "linecolor": "white",
            "showbackground": true,
            "ticks": "",
            "zerolinecolor": "white"
           }
          },
          "shapedefaults": {
           "line": {
            "color": "#2a3f5f"
           }
          },
          "ternary": {
           "aaxis": {
            "gridcolor": "white",
            "linecolor": "white",
            "ticks": ""
           },
           "baxis": {
            "gridcolor": "white",
            "linecolor": "white",
            "ticks": ""
           },
           "bgcolor": "#E5ECF6",
           "caxis": {
            "gridcolor": "white",
            "linecolor": "white",
            "ticks": ""
           }
          },
          "title": {
           "x": 0.05
          },
          "xaxis": {
           "automargin": true,
           "gridcolor": "white",
           "linecolor": "white",
           "ticks": "",
           "title": {
            "standoff": 15
           },
           "zerolinecolor": "white",
           "zerolinewidth": 2
          },
          "yaxis": {
           "automargin": true,
           "gridcolor": "white",
           "linecolor": "white",
           "ticks": "",
           "title": {
            "standoff": 15
           },
           "zerolinecolor": "white",
           "zerolinewidth": 2
          }
         }
        },
        "width": 1000
       }
      }
     },
     "metadata": {},
     "output_type": "display_data"
    }
   ],
   "source": [
    "i = 0\n",
    "start = autoOutput_dict[\"2bc6ebb8-a529-11ee-88ec-eb6a8d5269b4\"][\"auto\"].iloc[i][\"Start Index\"] - \\\n",
    "    min(autoOutput_dict[\"2bc6ebb8-a529-11ee-88ec-eb6a8d5269b4\"][\"auto\"].iloc[i][\"Start Index\"], 5)\n",
    "stop = autoOutput_dict[\"2bc6ebb8-a529-11ee-88ec-eb6a8d5269b4\"][\"auto\"].iloc[i][\"Stop Index\"] + \\\n",
    "    min(autoOutput_dict[\"2bc6ebb8-a529-11ee-88ec-eb6a8d5269b4\"][\"full\"].shape[0] -1- autoOutput_dict[\"2bc6ebb8-a529-11ee-88ec-eb6a8d5269b4\"][\"auto\"].iloc[i][\"Stop Index\"], 5)\n",
    "print(\"Start:\", start)\n",
    "print(\"Stop:\", stop)\n",
    "lat = autoOutput_dict[\"2bc6ebb8-a529-11ee-88ec-eb6a8d5269b4\"][\"auto\"].iloc[i][\"Start Lat\"]\n",
    "long = autoOutput_dict[\"2bc6ebb8-a529-11ee-88ec-eb6a8d5269b4\"][\"auto\"].iloc[i][\"Start Long\"]\n",
    "print(f\"lat: {lat}, Long: {long}\")\n",
    "\n",
    "# first full transition\n",
    "tran = autoOutput_dict[\"2bc6ebb8-a529-11ee-88ec-eb6a8d5269b4\"][\"full\"][start:stop]\n",
    "#tran.head()\n",
    "\n",
    "# Show the first transition\n",
    "fig = px.scatter_mapbox(tran, lat=\"latitude\", lon=\"longitude\",\n",
    "                        hover_data=[\"time\", \"drivingMode\", \"transitionType\"], color=\"drivingMode\", zoom=17, height=700, width=1000,\n",
    "                        color_discrete_map={\n",
    "                            \"COMPLETE_MANUAL\": \"#601A4A\",\n",
    "                            \"COMPLETE_AUTO_DRIVE\": \"#63ACBE\",\n",
    "                            \"EMERGENCY_MODE\": \"#EE442F\",\n",
    "                        }\n",
    "                        )\n",
    "\n",
    "fig.update_traces(marker=dict(size=8))\n",
    "\n",
    "# Layout settings\n",
    "fig.update_layout(\n",
    "    mapbox_style=\"open-street-map\",\n",
    "    margin={\"r\": 0, \"t\": 0, \"l\": 0, \"b\": 0},\n",
    ")\n",
    "\n",
    "name = \"test.jpeg\"\n",
    "\n",
    "fig.write_image(name, engine=\"kaleido\")\n",
    "\n",
    "# Display the map\n",
    "fig.show()"
   ]
  },
  {
   "cell_type": "code",
   "execution_count": 15,
   "id": "0bae4397",
   "metadata": {},
   "outputs": [
    {
     "name": "stdout",
     "output_type": "stream",
     "text": [
      "Start: 342 Stop: 361\n"
     ]
    },
    {
     "name": "stderr",
     "output_type": "stream",
     "text": [
      "/home/vhepola_linux/do-env/lib/python3.10/site-packages/plotly/express/_core.py:2065: FutureWarning:\n",
      "\n",
      "When grouping with a length-1 list-like, you will need to pass a length-1 tuple to get_group in a future version of pandas. Pass `(name,)` instead of `name` to silence this warning.\n",
      "\n"
     ]
    },
    {
     "name": "stdout",
     "output_type": "stream",
     "text": [
      "Start: 433 Stop: 491\n"
     ]
    },
    {
     "name": "stderr",
     "output_type": "stream",
     "text": [
      "/home/vhepola_linux/do-env/lib/python3.10/site-packages/plotly/express/_core.py:2065: FutureWarning:\n",
      "\n",
      "When grouping with a length-1 list-like, you will need to pass a length-1 tuple to get_group in a future version of pandas. Pass `(name,)` instead of `name` to silence this warning.\n",
      "\n"
     ]
    },
    {
     "name": "stdout",
     "output_type": "stream",
     "text": [
      "Start: 595 Stop: 644\n"
     ]
    },
    {
     "name": "stderr",
     "output_type": "stream",
     "text": [
      "/home/vhepola_linux/do-env/lib/python3.10/site-packages/plotly/express/_core.py:2065: FutureWarning:\n",
      "\n",
      "When grouping with a length-1 list-like, you will need to pass a length-1 tuple to get_group in a future version of pandas. Pass `(name,)` instead of `name` to silence this warning.\n",
      "\n"
     ]
    },
    {
     "name": "stdout",
     "output_type": "stream",
     "text": [
      "Start: 690 Stop: 727\n"
     ]
    },
    {
     "name": "stderr",
     "output_type": "stream",
     "text": [
      "/home/vhepola_linux/do-env/lib/python3.10/site-packages/plotly/express/_core.py:2065: FutureWarning:\n",
      "\n",
      "When grouping with a length-1 list-like, you will need to pass a length-1 tuple to get_group in a future version of pandas. Pass `(name,)` instead of `name` to silence this warning.\n",
      "\n"
     ]
    },
    {
     "name": "stdout",
     "output_type": "stream",
     "text": [
      "Start: 770 Stop: 794\n"
     ]
    },
    {
     "name": "stderr",
     "output_type": "stream",
     "text": [
      "/home/vhepola_linux/do-env/lib/python3.10/site-packages/plotly/express/_core.py:2065: FutureWarning:\n",
      "\n",
      "When grouping with a length-1 list-like, you will need to pass a length-1 tuple to get_group in a future version of pandas. Pass `(name,)` instead of `name` to silence this warning.\n",
      "\n"
     ]
    },
    {
     "name": "stdout",
     "output_type": "stream",
     "text": [
      "Start: 1064 Stop: 1084\n"
     ]
    },
    {
     "name": "stderr",
     "output_type": "stream",
     "text": [
      "/home/vhepola_linux/do-env/lib/python3.10/site-packages/plotly/express/_core.py:2065: FutureWarning:\n",
      "\n",
      "When grouping with a length-1 list-like, you will need to pass a length-1 tuple to get_group in a future version of pandas. Pass `(name,)` instead of `name` to silence this warning.\n",
      "\n"
     ]
    },
    {
     "name": "stdout",
     "output_type": "stream",
     "text": [
      "Start: 1235 Stop: 1283\n"
     ]
    },
    {
     "name": "stderr",
     "output_type": "stream",
     "text": [
      "/home/vhepola_linux/do-env/lib/python3.10/site-packages/plotly/express/_core.py:2065: FutureWarning:\n",
      "\n",
      "When grouping with a length-1 list-like, you will need to pass a length-1 tuple to get_group in a future version of pandas. Pass `(name,)` instead of `name` to silence this warning.\n",
      "\n"
     ]
    },
    {
     "name": "stdout",
     "output_type": "stream",
     "text": [
      "Start: 1298 Stop: 1337\n"
     ]
    },
    {
     "name": "stderr",
     "output_type": "stream",
     "text": [
      "/home/vhepola_linux/do-env/lib/python3.10/site-packages/plotly/express/_core.py:2065: FutureWarning:\n",
      "\n",
      "When grouping with a length-1 list-like, you will need to pass a length-1 tuple to get_group in a future version of pandas. Pass `(name,)` instead of `name` to silence this warning.\n",
      "\n"
     ]
    },
    {
     "name": "stdout",
     "output_type": "stream",
     "text": [
      "Start: 1386 Stop: 1640\n"
     ]
    },
    {
     "name": "stderr",
     "output_type": "stream",
     "text": [
      "/home/vhepola_linux/do-env/lib/python3.10/site-packages/plotly/express/_core.py:2065: FutureWarning:\n",
      "\n",
      "When grouping with a length-1 list-like, you will need to pass a length-1 tuple to get_group in a future version of pandas. Pass `(name,)` instead of `name` to silence this warning.\n",
      "\n"
     ]
    },
    {
     "name": "stdout",
     "output_type": "stream",
     "text": [
      "Start: 1760 Stop: 1794\n"
     ]
    },
    {
     "name": "stderr",
     "output_type": "stream",
     "text": [
      "/home/vhepola_linux/do-env/lib/python3.10/site-packages/plotly/express/_core.py:2065: FutureWarning:\n",
      "\n",
      "When grouping with a length-1 list-like, you will need to pass a length-1 tuple to get_group in a future version of pandas. Pass `(name,)` instead of `name` to silence this warning.\n",
      "\n"
     ]
    },
    {
     "name": "stdout",
     "output_type": "stream",
     "text": [
      "Start: 193 Stop: 256\n"
     ]
    },
    {
     "name": "stderr",
     "output_type": "stream",
     "text": [
      "/home/vhepola_linux/do-env/lib/python3.10/site-packages/plotly/express/_core.py:2065: FutureWarning:\n",
      "\n",
      "When grouping with a length-1 list-like, you will need to pass a length-1 tuple to get_group in a future version of pandas. Pass `(name,)` instead of `name` to silence this warning.\n",
      "\n"
     ]
    },
    {
     "name": "stdout",
     "output_type": "stream",
     "text": [
      "Start: 320 Stop: 340\n"
     ]
    },
    {
     "name": "stderr",
     "output_type": "stream",
     "text": [
      "/home/vhepola_linux/do-env/lib/python3.10/site-packages/plotly/express/_core.py:2065: FutureWarning:\n",
      "\n",
      "When grouping with a length-1 list-like, you will need to pass a length-1 tuple to get_group in a future version of pandas. Pass `(name,)` instead of `name` to silence this warning.\n",
      "\n"
     ]
    },
    {
     "name": "stdout",
     "output_type": "stream",
     "text": [
      "Start: 477 Stop: 507\n"
     ]
    },
    {
     "name": "stderr",
     "output_type": "stream",
     "text": [
      "/home/vhepola_linux/do-env/lib/python3.10/site-packages/plotly/express/_core.py:2065: FutureWarning:\n",
      "\n",
      "When grouping with a length-1 list-like, you will need to pass a length-1 tuple to get_group in a future version of pandas. Pass `(name,)` instead of `name` to silence this warning.\n",
      "\n"
     ]
    },
    {
     "name": "stdout",
     "output_type": "stream",
     "text": [
      "Start: 531 Stop: 577\n"
     ]
    },
    {
     "name": "stderr",
     "output_type": "stream",
     "text": [
      "/home/vhepola_linux/do-env/lib/python3.10/site-packages/plotly/express/_core.py:2065: FutureWarning:\n",
      "\n",
      "When grouping with a length-1 list-like, you will need to pass a length-1 tuple to get_group in a future version of pandas. Pass `(name,)` instead of `name` to silence this warning.\n",
      "\n"
     ]
    },
    {
     "name": "stdout",
     "output_type": "stream",
     "text": [
      "Start: 594 Stop: 644\n"
     ]
    },
    {
     "name": "stderr",
     "output_type": "stream",
     "text": [
      "/home/vhepola_linux/do-env/lib/python3.10/site-packages/plotly/express/_core.py:2065: FutureWarning:\n",
      "\n",
      "When grouping with a length-1 list-like, you will need to pass a length-1 tuple to get_group in a future version of pandas. Pass `(name,)` instead of `name` to silence this warning.\n",
      "\n"
     ]
    },
    {
     "name": "stdout",
     "output_type": "stream",
     "text": [
      "Start: 870 Stop: 893\n"
     ]
    },
    {
     "name": "stderr",
     "output_type": "stream",
     "text": [
      "/home/vhepola_linux/do-env/lib/python3.10/site-packages/plotly/express/_core.py:2065: FutureWarning:\n",
      "\n",
      "When grouping with a length-1 list-like, you will need to pass a length-1 tuple to get_group in a future version of pandas. Pass `(name,)` instead of `name` to silence this warning.\n",
      "\n"
     ]
    },
    {
     "name": "stdout",
     "output_type": "stream",
     "text": [
      "Start: 902 Stop: 944\n"
     ]
    },
    {
     "name": "stderr",
     "output_type": "stream",
     "text": [
      "/home/vhepola_linux/do-env/lib/python3.10/site-packages/plotly/express/_core.py:2065: FutureWarning:\n",
      "\n",
      "When grouping with a length-1 list-like, you will need to pass a length-1 tuple to get_group in a future version of pandas. Pass `(name,)` instead of `name` to silence this warning.\n",
      "\n"
     ]
    },
    {
     "name": "stdout",
     "output_type": "stream",
     "text": [
      "Start: 1197 Stop: 1221\n"
     ]
    },
    {
     "name": "stderr",
     "output_type": "stream",
     "text": [
      "/home/vhepola_linux/do-env/lib/python3.10/site-packages/plotly/express/_core.py:2065: FutureWarning:\n",
      "\n",
      "When grouping with a length-1 list-like, you will need to pass a length-1 tuple to get_group in a future version of pandas. Pass `(name,)` instead of `name` to silence this warning.\n",
      "\n"
     ]
    },
    {
     "name": "stdout",
     "output_type": "stream",
     "text": [
      "Start: 1350 Stop: 1377\n"
     ]
    },
    {
     "name": "stderr",
     "output_type": "stream",
     "text": [
      "/home/vhepola_linux/do-env/lib/python3.10/site-packages/plotly/express/_core.py:2065: FutureWarning:\n",
      "\n",
      "When grouping with a length-1 list-like, you will need to pass a length-1 tuple to get_group in a future version of pandas. Pass `(name,)` instead of `name` to silence this warning.\n",
      "\n"
     ]
    },
    {
     "name": "stdout",
     "output_type": "stream",
     "text": [
      "Start: 1375 Stop: 1401\n"
     ]
    },
    {
     "name": "stderr",
     "output_type": "stream",
     "text": [
      "/home/vhepola_linux/do-env/lib/python3.10/site-packages/plotly/express/_core.py:2065: FutureWarning:\n",
      "\n",
      "When grouping with a length-1 list-like, you will need to pass a length-1 tuple to get_group in a future version of pandas. Pass `(name,)` instead of `name` to silence this warning.\n",
      "\n"
     ]
    },
    {
     "name": "stdout",
     "output_type": "stream",
     "text": [
      "Start: 1599 Stop: 1671\n"
     ]
    },
    {
     "name": "stderr",
     "output_type": "stream",
     "text": [
      "/home/vhepola_linux/do-env/lib/python3.10/site-packages/plotly/express/_core.py:2065: FutureWarning:\n",
      "\n",
      "When grouping with a length-1 list-like, you will need to pass a length-1 tuple to get_group in a future version of pandas. Pass `(name,)` instead of `name` to silence this warning.\n",
      "\n"
     ]
    },
    {
     "name": "stdout",
     "output_type": "stream",
     "text": [
      "Start: 1712 Stop: 1757\n"
     ]
    },
    {
     "name": "stderr",
     "output_type": "stream",
     "text": [
      "/home/vhepola_linux/do-env/lib/python3.10/site-packages/plotly/express/_core.py:2065: FutureWarning:\n",
      "\n",
      "When grouping with a length-1 list-like, you will need to pass a length-1 tuple to get_group in a future version of pandas. Pass `(name,)` instead of `name` to silence this warning.\n",
      "\n"
     ]
    },
    {
     "name": "stdout",
     "output_type": "stream",
     "text": [
      "Start: 1751 Stop: 1777\n"
     ]
    },
    {
     "name": "stderr",
     "output_type": "stream",
     "text": [
      "/home/vhepola_linux/do-env/lib/python3.10/site-packages/plotly/express/_core.py:2065: FutureWarning:\n",
      "\n",
      "When grouping with a length-1 list-like, you will need to pass a length-1 tuple to get_group in a future version of pandas. Pass `(name,)` instead of `name` to silence this warning.\n",
      "\n"
     ]
    },
    {
     "name": "stdout",
     "output_type": "stream",
     "text": [
      "Start: 150 Stop: 181\n"
     ]
    },
    {
     "name": "stderr",
     "output_type": "stream",
     "text": [
      "/home/vhepola_linux/do-env/lib/python3.10/site-packages/plotly/express/_core.py:2065: FutureWarning:\n",
      "\n",
      "When grouping with a length-1 list-like, you will need to pass a length-1 tuple to get_group in a future version of pandas. Pass `(name,)` instead of `name` to silence this warning.\n",
      "\n"
     ]
    },
    {
     "name": "stdout",
     "output_type": "stream",
     "text": [
      "Start: 489 Stop: 519\n"
     ]
    },
    {
     "name": "stderr",
     "output_type": "stream",
     "text": [
      "/home/vhepola_linux/do-env/lib/python3.10/site-packages/plotly/express/_core.py:2065: FutureWarning:\n",
      "\n",
      "When grouping with a length-1 list-like, you will need to pass a length-1 tuple to get_group in a future version of pandas. Pass `(name,)` instead of `name` to silence this warning.\n",
      "\n"
     ]
    },
    {
     "name": "stdout",
     "output_type": "stream",
     "text": [
      "Start: 745 Stop: 770\n"
     ]
    },
    {
     "name": "stderr",
     "output_type": "stream",
     "text": [
      "/home/vhepola_linux/do-env/lib/python3.10/site-packages/plotly/express/_core.py:2065: FutureWarning:\n",
      "\n",
      "When grouping with a length-1 list-like, you will need to pass a length-1 tuple to get_group in a future version of pandas. Pass `(name,)` instead of `name` to silence this warning.\n",
      "\n"
     ]
    },
    {
     "name": "stdout",
     "output_type": "stream",
     "text": [
      "Start: 772 Stop: 800\n"
     ]
    },
    {
     "name": "stderr",
     "output_type": "stream",
     "text": [
      "/home/vhepola_linux/do-env/lib/python3.10/site-packages/plotly/express/_core.py:2065: FutureWarning:\n",
      "\n",
      "When grouping with a length-1 list-like, you will need to pass a length-1 tuple to get_group in a future version of pandas. Pass `(name,)` instead of `name` to silence this warning.\n",
      "\n"
     ]
    },
    {
     "name": "stdout",
     "output_type": "stream",
     "text": [
      "Start: 803 Stop: 825\n"
     ]
    },
    {
     "name": "stderr",
     "output_type": "stream",
     "text": [
      "/home/vhepola_linux/do-env/lib/python3.10/site-packages/plotly/express/_core.py:2065: FutureWarning:\n",
      "\n",
      "When grouping with a length-1 list-like, you will need to pass a length-1 tuple to get_group in a future version of pandas. Pass `(name,)` instead of `name` to silence this warning.\n",
      "\n"
     ]
    },
    {
     "name": "stdout",
     "output_type": "stream",
     "text": [
      "Start: 485 Stop: 527\n"
     ]
    },
    {
     "name": "stderr",
     "output_type": "stream",
     "text": [
      "/home/vhepola_linux/do-env/lib/python3.10/site-packages/plotly/express/_core.py:2065: FutureWarning:\n",
      "\n",
      "When grouping with a length-1 list-like, you will need to pass a length-1 tuple to get_group in a future version of pandas. Pass `(name,)` instead of `name` to silence this warning.\n",
      "\n"
     ]
    },
    {
     "name": "stdout",
     "output_type": "stream",
     "text": [
      "Start: 118 Stop: 332\n"
     ]
    },
    {
     "name": "stderr",
     "output_type": "stream",
     "text": [
      "/home/vhepola_linux/do-env/lib/python3.10/site-packages/plotly/express/_core.py:2065: FutureWarning:\n",
      "\n",
      "When grouping with a length-1 list-like, you will need to pass a length-1 tuple to get_group in a future version of pandas. Pass `(name,)` instead of `name` to silence this warning.\n",
      "\n"
     ]
    },
    {
     "name": "stdout",
     "output_type": "stream",
     "text": [
      "Start: 339 Stop: 362\n"
     ]
    },
    {
     "name": "stderr",
     "output_type": "stream",
     "text": [
      "/home/vhepola_linux/do-env/lib/python3.10/site-packages/plotly/express/_core.py:2065: FutureWarning:\n",
      "\n",
      "When grouping with a length-1 list-like, you will need to pass a length-1 tuple to get_group in a future version of pandas. Pass `(name,)` instead of `name` to silence this warning.\n",
      "\n"
     ]
    },
    {
     "name": "stdout",
     "output_type": "stream",
     "text": [
      "Start: 659 Stop: 678\n"
     ]
    },
    {
     "name": "stderr",
     "output_type": "stream",
     "text": [
      "/home/vhepola_linux/do-env/lib/python3.10/site-packages/plotly/express/_core.py:2065: FutureWarning:\n",
      "\n",
      "When grouping with a length-1 list-like, you will need to pass a length-1 tuple to get_group in a future version of pandas. Pass `(name,)` instead of `name` to silence this warning.\n",
      "\n"
     ]
    },
    {
     "name": "stdout",
     "output_type": "stream",
     "text": [
      "Start: 1271 Stop: 1294\n"
     ]
    },
    {
     "name": "stderr",
     "output_type": "stream",
     "text": [
      "/home/vhepola_linux/do-env/lib/python3.10/site-packages/plotly/express/_core.py:2065: FutureWarning:\n",
      "\n",
      "When grouping with a length-1 list-like, you will need to pass a length-1 tuple to get_group in a future version of pandas. Pass `(name,)` instead of `name` to silence this warning.\n",
      "\n"
     ]
    },
    {
     "name": "stdout",
     "output_type": "stream",
     "text": [
      "Start: 1288 Stop: 1309\n"
     ]
    },
    {
     "name": "stderr",
     "output_type": "stream",
     "text": [
      "/home/vhepola_linux/do-env/lib/python3.10/site-packages/plotly/express/_core.py:2065: FutureWarning:\n",
      "\n",
      "When grouping with a length-1 list-like, you will need to pass a length-1 tuple to get_group in a future version of pandas. Pass `(name,)` instead of `name` to silence this warning.\n",
      "\n"
     ]
    },
    {
     "name": "stdout",
     "output_type": "stream",
     "text": [
      "Start: 1308 Stop: 1358\n"
     ]
    },
    {
     "name": "stderr",
     "output_type": "stream",
     "text": [
      "/home/vhepola_linux/do-env/lib/python3.10/site-packages/plotly/express/_core.py:2065: FutureWarning:\n",
      "\n",
      "When grouping with a length-1 list-like, you will need to pass a length-1 tuple to get_group in a future version of pandas. Pass `(name,)` instead of `name` to silence this warning.\n",
      "\n"
     ]
    },
    {
     "name": "stdout",
     "output_type": "stream",
     "text": [
      "Start: 133 Stop: 180\n"
     ]
    },
    {
     "name": "stderr",
     "output_type": "stream",
     "text": [
      "/home/vhepola_linux/do-env/lib/python3.10/site-packages/plotly/express/_core.py:2065: FutureWarning:\n",
      "\n",
      "When grouping with a length-1 list-like, you will need to pass a length-1 tuple to get_group in a future version of pandas. Pass `(name,)` instead of `name` to silence this warning.\n",
      "\n"
     ]
    },
    {
     "name": "stdout",
     "output_type": "stream",
     "text": [
      "Start: 327 Stop: 356\n"
     ]
    },
    {
     "name": "stderr",
     "output_type": "stream",
     "text": [
      "/home/vhepola_linux/do-env/lib/python3.10/site-packages/plotly/express/_core.py:2065: FutureWarning:\n",
      "\n",
      "When grouping with a length-1 list-like, you will need to pass a length-1 tuple to get_group in a future version of pandas. Pass `(name,)` instead of `name` to silence this warning.\n",
      "\n"
     ]
    },
    {
     "name": "stdout",
     "output_type": "stream",
     "text": [
      "Start: 393 Stop: 424\n"
     ]
    },
    {
     "name": "stderr",
     "output_type": "stream",
     "text": [
      "/home/vhepola_linux/do-env/lib/python3.10/site-packages/plotly/express/_core.py:2065: FutureWarning:\n",
      "\n",
      "When grouping with a length-1 list-like, you will need to pass a length-1 tuple to get_group in a future version of pandas. Pass `(name,)` instead of `name` to silence this warning.\n",
      "\n"
     ]
    },
    {
     "name": "stdout",
     "output_type": "stream",
     "text": [
      "Start: 418 Stop: 435\n"
     ]
    },
    {
     "name": "stderr",
     "output_type": "stream",
     "text": [
      "/home/vhepola_linux/do-env/lib/python3.10/site-packages/plotly/express/_core.py:2065: FutureWarning:\n",
      "\n",
      "When grouping with a length-1 list-like, you will need to pass a length-1 tuple to get_group in a future version of pandas. Pass `(name,)` instead of `name` to silence this warning.\n",
      "\n"
     ]
    },
    {
     "name": "stdout",
     "output_type": "stream",
     "text": [
      "Start: 445 Stop: 484\n"
     ]
    },
    {
     "name": "stderr",
     "output_type": "stream",
     "text": [
      "/home/vhepola_linux/do-env/lib/python3.10/site-packages/plotly/express/_core.py:2065: FutureWarning:\n",
      "\n",
      "When grouping with a length-1 list-like, you will need to pass a length-1 tuple to get_group in a future version of pandas. Pass `(name,)` instead of `name` to silence this warning.\n",
      "\n"
     ]
    },
    {
     "name": "stdout",
     "output_type": "stream",
     "text": [
      "Start: 515 Stop: 608\n"
     ]
    },
    {
     "name": "stderr",
     "output_type": "stream",
     "text": [
      "/home/vhepola_linux/do-env/lib/python3.10/site-packages/plotly/express/_core.py:2065: FutureWarning:\n",
      "\n",
      "When grouping with a length-1 list-like, you will need to pass a length-1 tuple to get_group in a future version of pandas. Pass `(name,)` instead of `name` to silence this warning.\n",
      "\n"
     ]
    },
    {
     "name": "stdout",
     "output_type": "stream",
     "text": [
      "Start: 734 Stop: 766\n"
     ]
    },
    {
     "name": "stderr",
     "output_type": "stream",
     "text": [
      "/home/vhepola_linux/do-env/lib/python3.10/site-packages/plotly/express/_core.py:2065: FutureWarning:\n",
      "\n",
      "When grouping with a length-1 list-like, you will need to pass a length-1 tuple to get_group in a future version of pandas. Pass `(name,)` instead of `name` to silence this warning.\n",
      "\n"
     ]
    },
    {
     "name": "stdout",
     "output_type": "stream",
     "text": [
      "Start: 781 Stop: 815\n"
     ]
    },
    {
     "name": "stderr",
     "output_type": "stream",
     "text": [
      "/home/vhepola_linux/do-env/lib/python3.10/site-packages/plotly/express/_core.py:2065: FutureWarning:\n",
      "\n",
      "When grouping with a length-1 list-like, you will need to pass a length-1 tuple to get_group in a future version of pandas. Pass `(name,)` instead of `name` to silence this warning.\n",
      "\n"
     ]
    },
    {
     "name": "stdout",
     "output_type": "stream",
     "text": [
      "Start: 808 Stop: 829\n"
     ]
    },
    {
     "name": "stderr",
     "output_type": "stream",
     "text": [
      "/home/vhepola_linux/do-env/lib/python3.10/site-packages/plotly/express/_core.py:2065: FutureWarning:\n",
      "\n",
      "When grouping with a length-1 list-like, you will need to pass a length-1 tuple to get_group in a future version of pandas. Pass `(name,)` instead of `name` to silence this warning.\n",
      "\n"
     ]
    },
    {
     "name": "stdout",
     "output_type": "stream",
     "text": [
      "Start: 850 Stop: 873\n"
     ]
    },
    {
     "name": "stderr",
     "output_type": "stream",
     "text": [
      "/home/vhepola_linux/do-env/lib/python3.10/site-packages/plotly/express/_core.py:2065: FutureWarning:\n",
      "\n",
      "When grouping with a length-1 list-like, you will need to pass a length-1 tuple to get_group in a future version of pandas. Pass `(name,)` instead of `name` to silence this warning.\n",
      "\n"
     ]
    },
    {
     "name": "stdout",
     "output_type": "stream",
     "text": [
      "Start: 968 Stop: 988\n"
     ]
    },
    {
     "name": "stderr",
     "output_type": "stream",
     "text": [
      "/home/vhepola_linux/do-env/lib/python3.10/site-packages/plotly/express/_core.py:2065: FutureWarning:\n",
      "\n",
      "When grouping with a length-1 list-like, you will need to pass a length-1 tuple to get_group in a future version of pandas. Pass `(name,)` instead of `name` to silence this warning.\n",
      "\n"
     ]
    },
    {
     "name": "stdout",
     "output_type": "stream",
     "text": [
      "Start: 1319 Stop: 1343\n"
     ]
    },
    {
     "name": "stderr",
     "output_type": "stream",
     "text": [
      "/home/vhepola_linux/do-env/lib/python3.10/site-packages/plotly/express/_core.py:2065: FutureWarning:\n",
      "\n",
      "When grouping with a length-1 list-like, you will need to pass a length-1 tuple to get_group in a future version of pandas. Pass `(name,)` instead of `name` to silence this warning.\n",
      "\n"
     ]
    },
    {
     "name": "stdout",
     "output_type": "stream",
     "text": [
      "Start: 1376 Stop: 1394\n"
     ]
    },
    {
     "name": "stderr",
     "output_type": "stream",
     "text": [
      "/home/vhepola_linux/do-env/lib/python3.10/site-packages/plotly/express/_core.py:2065: FutureWarning:\n",
      "\n",
      "When grouping with a length-1 list-like, you will need to pass a length-1 tuple to get_group in a future version of pandas. Pass `(name,)` instead of `name` to silence this warning.\n",
      "\n"
     ]
    },
    {
     "name": "stdout",
     "output_type": "stream",
     "text": [
      "Start: 1437 Stop: 1467\n"
     ]
    },
    {
     "name": "stderr",
     "output_type": "stream",
     "text": [
      "/home/vhepola_linux/do-env/lib/python3.10/site-packages/plotly/express/_core.py:2065: FutureWarning:\n",
      "\n",
      "When grouping with a length-1 list-like, you will need to pass a length-1 tuple to get_group in a future version of pandas. Pass `(name,)` instead of `name` to silence this warning.\n",
      "\n"
     ]
    },
    {
     "name": "stdout",
     "output_type": "stream",
     "text": [
      "Start: 1484 Stop: 1533\n"
     ]
    },
    {
     "name": "stderr",
     "output_type": "stream",
     "text": [
      "/home/vhepola_linux/do-env/lib/python3.10/site-packages/plotly/express/_core.py:2065: FutureWarning:\n",
      "\n",
      "When grouping with a length-1 list-like, you will need to pass a length-1 tuple to get_group in a future version of pandas. Pass `(name,)` instead of `name` to silence this warning.\n",
      "\n"
     ]
    },
    {
     "name": "stdout",
     "output_type": "stream",
     "text": [
      "Start: 1631 Stop: 1656\n"
     ]
    },
    {
     "name": "stderr",
     "output_type": "stream",
     "text": [
      "/home/vhepola_linux/do-env/lib/python3.10/site-packages/plotly/express/_core.py:2065: FutureWarning:\n",
      "\n",
      "When grouping with a length-1 list-like, you will need to pass a length-1 tuple to get_group in a future version of pandas. Pass `(name,)` instead of `name` to silence this warning.\n",
      "\n"
     ]
    },
    {
     "name": "stdout",
     "output_type": "stream",
     "text": [
      "Start: 1833 Stop: 1853\n"
     ]
    },
    {
     "name": "stderr",
     "output_type": "stream",
     "text": [
      "/home/vhepola_linux/do-env/lib/python3.10/site-packages/plotly/express/_core.py:2065: FutureWarning:\n",
      "\n",
      "When grouping with a length-1 list-like, you will need to pass a length-1 tuple to get_group in a future version of pandas. Pass `(name,)` instead of `name` to silence this warning.\n",
      "\n"
     ]
    },
    {
     "name": "stdout",
     "output_type": "stream",
     "text": [
      "Start: 51 Stop: 88\n"
     ]
    },
    {
     "name": "stderr",
     "output_type": "stream",
     "text": [
      "/home/vhepola_linux/do-env/lib/python3.10/site-packages/plotly/express/_core.py:2065: FutureWarning:\n",
      "\n",
      "When grouping with a length-1 list-like, you will need to pass a length-1 tuple to get_group in a future version of pandas. Pass `(name,)` instead of `name` to silence this warning.\n",
      "\n"
     ]
    },
    {
     "name": "stdout",
     "output_type": "stream",
     "text": [
      "Start: 122 Stop: 145\n"
     ]
    },
    {
     "name": "stderr",
     "output_type": "stream",
     "text": [
      "/home/vhepola_linux/do-env/lib/python3.10/site-packages/plotly/express/_core.py:2065: FutureWarning:\n",
      "\n",
      "When grouping with a length-1 list-like, you will need to pass a length-1 tuple to get_group in a future version of pandas. Pass `(name,)` instead of `name` to silence this warning.\n",
      "\n"
     ]
    },
    {
     "name": "stdout",
     "output_type": "stream",
     "text": [
      "Start: 318 Stop: 357\n"
     ]
    },
    {
     "name": "stderr",
     "output_type": "stream",
     "text": [
      "/home/vhepola_linux/do-env/lib/python3.10/site-packages/plotly/express/_core.py:2065: FutureWarning:\n",
      "\n",
      "When grouping with a length-1 list-like, you will need to pass a length-1 tuple to get_group in a future version of pandas. Pass `(name,)` instead of `name` to silence this warning.\n",
      "\n"
     ]
    },
    {
     "name": "stdout",
     "output_type": "stream",
     "text": [
      "Start: 623 Stop: 649\n"
     ]
    },
    {
     "name": "stderr",
     "output_type": "stream",
     "text": [
      "/home/vhepola_linux/do-env/lib/python3.10/site-packages/plotly/express/_core.py:2065: FutureWarning:\n",
      "\n",
      "When grouping with a length-1 list-like, you will need to pass a length-1 tuple to get_group in a future version of pandas. Pass `(name,)` instead of `name` to silence this warning.\n",
      "\n"
     ]
    },
    {
     "name": "stdout",
     "output_type": "stream",
     "text": [
      "Start: 671 Stop: 703\n"
     ]
    },
    {
     "name": "stderr",
     "output_type": "stream",
     "text": [
      "/home/vhepola_linux/do-env/lib/python3.10/site-packages/plotly/express/_core.py:2065: FutureWarning:\n",
      "\n",
      "When grouping with a length-1 list-like, you will need to pass a length-1 tuple to get_group in a future version of pandas. Pass `(name,)` instead of `name` to silence this warning.\n",
      "\n"
     ]
    },
    {
     "name": "stdout",
     "output_type": "stream",
     "text": [
      "Start: 710 Stop: 739\n"
     ]
    },
    {
     "name": "stderr",
     "output_type": "stream",
     "text": [
      "/home/vhepola_linux/do-env/lib/python3.10/site-packages/plotly/express/_core.py:2065: FutureWarning:\n",
      "\n",
      "When grouping with a length-1 list-like, you will need to pass a length-1 tuple to get_group in a future version of pandas. Pass `(name,)` instead of `name` to silence this warning.\n",
      "\n"
     ]
    },
    {
     "name": "stdout",
     "output_type": "stream",
     "text": [
      "Start: 756 Stop: 812\n"
     ]
    },
    {
     "name": "stderr",
     "output_type": "stream",
     "text": [
      "/home/vhepola_linux/do-env/lib/python3.10/site-packages/plotly/express/_core.py:2065: FutureWarning:\n",
      "\n",
      "When grouping with a length-1 list-like, you will need to pass a length-1 tuple to get_group in a future version of pandas. Pass `(name,)` instead of `name` to silence this warning.\n",
      "\n"
     ]
    },
    {
     "name": "stdout",
     "output_type": "stream",
     "text": [
      "Start: 828 Stop: 860\n"
     ]
    },
    {
     "name": "stderr",
     "output_type": "stream",
     "text": [
      "/home/vhepola_linux/do-env/lib/python3.10/site-packages/plotly/express/_core.py:2065: FutureWarning:\n",
      "\n",
      "When grouping with a length-1 list-like, you will need to pass a length-1 tuple to get_group in a future version of pandas. Pass `(name,)` instead of `name` to silence this warning.\n",
      "\n"
     ]
    },
    {
     "name": "stdout",
     "output_type": "stream",
     "text": [
      "Start: 98 Stop: 320\n"
     ]
    },
    {
     "name": "stderr",
     "output_type": "stream",
     "text": [
      "/home/vhepola_linux/do-env/lib/python3.10/site-packages/plotly/express/_core.py:2065: FutureWarning:\n",
      "\n",
      "When grouping with a length-1 list-like, you will need to pass a length-1 tuple to get_group in a future version of pandas. Pass `(name,)` instead of `name` to silence this warning.\n",
      "\n"
     ]
    },
    {
     "name": "stdout",
     "output_type": "stream",
     "text": [
      "Start: 456 Stop: 479\n"
     ]
    },
    {
     "name": "stderr",
     "output_type": "stream",
     "text": [
      "/home/vhepola_linux/do-env/lib/python3.10/site-packages/plotly/express/_core.py:2065: FutureWarning:\n",
      "\n",
      "When grouping with a length-1 list-like, you will need to pass a length-1 tuple to get_group in a future version of pandas. Pass `(name,)` instead of `name` to silence this warning.\n",
      "\n"
     ]
    },
    {
     "name": "stdout",
     "output_type": "stream",
     "text": [
      "Start: 1050 Stop: 1143\n"
     ]
    },
    {
     "name": "stderr",
     "output_type": "stream",
     "text": [
      "/home/vhepola_linux/do-env/lib/python3.10/site-packages/plotly/express/_core.py:2065: FutureWarning:\n",
      "\n",
      "When grouping with a length-1 list-like, you will need to pass a length-1 tuple to get_group in a future version of pandas. Pass `(name,)` instead of `name` to silence this warning.\n",
      "\n"
     ]
    },
    {
     "name": "stdout",
     "output_type": "stream",
     "text": [
      "Start: 1164 Stop: 1188\n"
     ]
    },
    {
     "name": "stderr",
     "output_type": "stream",
     "text": [
      "/home/vhepola_linux/do-env/lib/python3.10/site-packages/plotly/express/_core.py:2065: FutureWarning:\n",
      "\n",
      "When grouping with a length-1 list-like, you will need to pass a length-1 tuple to get_group in a future version of pandas. Pass `(name,)` instead of `name` to silence this warning.\n",
      "\n"
     ]
    },
    {
     "name": "stdout",
     "output_type": "stream",
     "text": [
      "Start: 1203 Stop: 1268\n"
     ]
    },
    {
     "name": "stderr",
     "output_type": "stream",
     "text": [
      "/home/vhepola_linux/do-env/lib/python3.10/site-packages/plotly/express/_core.py:2065: FutureWarning:\n",
      "\n",
      "When grouping with a length-1 list-like, you will need to pass a length-1 tuple to get_group in a future version of pandas. Pass `(name,)` instead of `name` to silence this warning.\n",
      "\n"
     ]
    },
    {
     "name": "stdout",
     "output_type": "stream",
     "text": [
      "Start: 1407 Stop: 1517\n"
     ]
    },
    {
     "name": "stderr",
     "output_type": "stream",
     "text": [
      "/home/vhepola_linux/do-env/lib/python3.10/site-packages/plotly/express/_core.py:2065: FutureWarning:\n",
      "\n",
      "When grouping with a length-1 list-like, you will need to pass a length-1 tuple to get_group in a future version of pandas. Pass `(name,)` instead of `name` to silence this warning.\n",
      "\n"
     ]
    },
    {
     "name": "stdout",
     "output_type": "stream",
     "text": [
      "Start: 1889 Stop: 1910\n"
     ]
    },
    {
     "name": "stderr",
     "output_type": "stream",
     "text": [
      "/home/vhepola_linux/do-env/lib/python3.10/site-packages/plotly/express/_core.py:2065: FutureWarning:\n",
      "\n",
      "When grouping with a length-1 list-like, you will need to pass a length-1 tuple to get_group in a future version of pandas. Pass `(name,)` instead of `name` to silence this warning.\n",
      "\n"
     ]
    },
    {
     "name": "stdout",
     "output_type": "stream",
     "text": [
      "Start: 178 Stop: 230\n"
     ]
    },
    {
     "name": "stderr",
     "output_type": "stream",
     "text": [
      "/home/vhepola_linux/do-env/lib/python3.10/site-packages/plotly/express/_core.py:2065: FutureWarning:\n",
      "\n",
      "When grouping with a length-1 list-like, you will need to pass a length-1 tuple to get_group in a future version of pandas. Pass `(name,)` instead of `name` to silence this warning.\n",
      "\n"
     ]
    },
    {
     "name": "stdout",
     "output_type": "stream",
     "text": [
      "Start: 926 Stop: 962\n"
     ]
    },
    {
     "name": "stderr",
     "output_type": "stream",
     "text": [
      "/home/vhepola_linux/do-env/lib/python3.10/site-packages/plotly/express/_core.py:2065: FutureWarning:\n",
      "\n",
      "When grouping with a length-1 list-like, you will need to pass a length-1 tuple to get_group in a future version of pandas. Pass `(name,)` instead of `name` to silence this warning.\n",
      "\n"
     ]
    },
    {
     "name": "stdout",
     "output_type": "stream",
     "text": [
      "Start: 1447 Stop: 1470\n"
     ]
    },
    {
     "name": "stderr",
     "output_type": "stream",
     "text": [
      "/home/vhepola_linux/do-env/lib/python3.10/site-packages/plotly/express/_core.py:2065: FutureWarning:\n",
      "\n",
      "When grouping with a length-1 list-like, you will need to pass a length-1 tuple to get_group in a future version of pandas. Pass `(name,)` instead of `name` to silence this warning.\n",
      "\n"
     ]
    },
    {
     "name": "stdout",
     "output_type": "stream",
     "text": [
      "Start: 1477 Stop: 1502\n"
     ]
    },
    {
     "name": "stderr",
     "output_type": "stream",
     "text": [
      "/home/vhepola_linux/do-env/lib/python3.10/site-packages/plotly/express/_core.py:2065: FutureWarning:\n",
      "\n",
      "When grouping with a length-1 list-like, you will need to pass a length-1 tuple to get_group in a future version of pandas. Pass `(name,)` instead of `name` to silence this warning.\n",
      "\n"
     ]
    },
    {
     "name": "stdout",
     "output_type": "stream",
     "text": [
      "Start: 1548 Stop: 1588\n"
     ]
    },
    {
     "name": "stderr",
     "output_type": "stream",
     "text": [
      "/home/vhepola_linux/do-env/lib/python3.10/site-packages/plotly/express/_core.py:2065: FutureWarning:\n",
      "\n",
      "When grouping with a length-1 list-like, you will need to pass a length-1 tuple to get_group in a future version of pandas. Pass `(name,)` instead of `name` to silence this warning.\n",
      "\n"
     ]
    },
    {
     "name": "stdout",
     "output_type": "stream",
     "text": [
      "Start: 7 Stop: 27\n"
     ]
    },
    {
     "name": "stderr",
     "output_type": "stream",
     "text": [
      "/home/vhepola_linux/do-env/lib/python3.10/site-packages/plotly/express/_core.py:2065: FutureWarning:\n",
      "\n",
      "When grouping with a length-1 list-like, you will need to pass a length-1 tuple to get_group in a future version of pandas. Pass `(name,)` instead of `name` to silence this warning.\n",
      "\n"
     ]
    },
    {
     "name": "stdout",
     "output_type": "stream",
     "text": [
      "Start: 92 Stop: 310\n"
     ]
    },
    {
     "name": "stderr",
     "output_type": "stream",
     "text": [
      "/home/vhepola_linux/do-env/lib/python3.10/site-packages/plotly/express/_core.py:2065: FutureWarning:\n",
      "\n",
      "When grouping with a length-1 list-like, you will need to pass a length-1 tuple to get_group in a future version of pandas. Pass `(name,)` instead of `name` to silence this warning.\n",
      "\n"
     ]
    },
    {
     "name": "stdout",
     "output_type": "stream",
     "text": [
      "Start: 331 Stop: 380\n"
     ]
    },
    {
     "name": "stderr",
     "output_type": "stream",
     "text": [
      "/home/vhepola_linux/do-env/lib/python3.10/site-packages/plotly/express/_core.py:2065: FutureWarning:\n",
      "\n",
      "When grouping with a length-1 list-like, you will need to pass a length-1 tuple to get_group in a future version of pandas. Pass `(name,)` instead of `name` to silence this warning.\n",
      "\n"
     ]
    },
    {
     "name": "stdout",
     "output_type": "stream",
     "text": [
      "Start: 581 Stop: 645\n"
     ]
    },
    {
     "name": "stderr",
     "output_type": "stream",
     "text": [
      "/home/vhepola_linux/do-env/lib/python3.10/site-packages/plotly/express/_core.py:2065: FutureWarning:\n",
      "\n",
      "When grouping with a length-1 list-like, you will need to pass a length-1 tuple to get_group in a future version of pandas. Pass `(name,)` instead of `name` to silence this warning.\n",
      "\n"
     ]
    },
    {
     "name": "stdout",
     "output_type": "stream",
     "text": [
      "Start: 996 Stop: 1052\n"
     ]
    },
    {
     "name": "stderr",
     "output_type": "stream",
     "text": [
      "/home/vhepola_linux/do-env/lib/python3.10/site-packages/plotly/express/_core.py:2065: FutureWarning:\n",
      "\n",
      "When grouping with a length-1 list-like, you will need to pass a length-1 tuple to get_group in a future version of pandas. Pass `(name,)` instead of `name` to silence this warning.\n",
      "\n"
     ]
    },
    {
     "name": "stdout",
     "output_type": "stream",
     "text": [
      "Start: 1224 Stop: 1263\n"
     ]
    },
    {
     "name": "stderr",
     "output_type": "stream",
     "text": [
      "/home/vhepola_linux/do-env/lib/python3.10/site-packages/plotly/express/_core.py:2065: FutureWarning:\n",
      "\n",
      "When grouping with a length-1 list-like, you will need to pass a length-1 tuple to get_group in a future version of pandas. Pass `(name,)` instead of `name` to silence this warning.\n",
      "\n"
     ]
    },
    {
     "name": "stdout",
     "output_type": "stream",
     "text": [
      "Start: 1329 Stop: 1358\n"
     ]
    },
    {
     "name": "stderr",
     "output_type": "stream",
     "text": [
      "/home/vhepola_linux/do-env/lib/python3.10/site-packages/plotly/express/_core.py:2065: FutureWarning:\n",
      "\n",
      "When grouping with a length-1 list-like, you will need to pass a length-1 tuple to get_group in a future version of pandas. Pass `(name,)` instead of `name` to silence this warning.\n",
      "\n"
     ]
    },
    {
     "name": "stdout",
     "output_type": "stream",
     "text": [
      "Start: 1402 Stop: 1440\n"
     ]
    },
    {
     "name": "stderr",
     "output_type": "stream",
     "text": [
      "/home/vhepola_linux/do-env/lib/python3.10/site-packages/plotly/express/_core.py:2065: FutureWarning:\n",
      "\n",
      "When grouping with a length-1 list-like, you will need to pass a length-1 tuple to get_group in a future version of pandas. Pass `(name,)` instead of `name` to silence this warning.\n",
      "\n"
     ]
    },
    {
     "name": "stdout",
     "output_type": "stream",
     "text": [
      "Start: 1742 Stop: 1776\n"
     ]
    },
    {
     "name": "stderr",
     "output_type": "stream",
     "text": [
      "/home/vhepola_linux/do-env/lib/python3.10/site-packages/plotly/express/_core.py:2065: FutureWarning:\n",
      "\n",
      "When grouping with a length-1 list-like, you will need to pass a length-1 tuple to get_group in a future version of pandas. Pass `(name,)` instead of `name` to silence this warning.\n",
      "\n"
     ]
    },
    {
     "name": "stdout",
     "output_type": "stream",
     "text": [
      "Start: 1877 Stop: 1920\n"
     ]
    },
    {
     "name": "stderr",
     "output_type": "stream",
     "text": [
      "/home/vhepola_linux/do-env/lib/python3.10/site-packages/plotly/express/_core.py:2065: FutureWarning:\n",
      "\n",
      "When grouping with a length-1 list-like, you will need to pass a length-1 tuple to get_group in a future version of pandas. Pass `(name,)` instead of `name` to silence this warning.\n",
      "\n"
     ]
    },
    {
     "name": "stdout",
     "output_type": "stream",
     "text": [
      "Start: 205 Stop: 270\n"
     ]
    },
    {
     "name": "stderr",
     "output_type": "stream",
     "text": [
      "/home/vhepola_linux/do-env/lib/python3.10/site-packages/plotly/express/_core.py:2065: FutureWarning:\n",
      "\n",
      "When grouping with a length-1 list-like, you will need to pass a length-1 tuple to get_group in a future version of pandas. Pass `(name,)` instead of `name` to silence this warning.\n",
      "\n"
     ]
    },
    {
     "name": "stdout",
     "output_type": "stream",
     "text": [
      "Start: 1005 Stop: 1508\n"
     ]
    },
    {
     "name": "stderr",
     "output_type": "stream",
     "text": [
      "/home/vhepola_linux/do-env/lib/python3.10/site-packages/plotly/express/_core.py:2065: FutureWarning:\n",
      "\n",
      "When grouping with a length-1 list-like, you will need to pass a length-1 tuple to get_group in a future version of pandas. Pass `(name,)` instead of `name` to silence this warning.\n",
      "\n"
     ]
    },
    {
     "name": "stdout",
     "output_type": "stream",
     "text": [
      "Start: 1717 Stop: 1741\n"
     ]
    },
    {
     "name": "stderr",
     "output_type": "stream",
     "text": [
      "/home/vhepola_linux/do-env/lib/python3.10/site-packages/plotly/express/_core.py:2065: FutureWarning:\n",
      "\n",
      "When grouping with a length-1 list-like, you will need to pass a length-1 tuple to get_group in a future version of pandas. Pass `(name,)` instead of `name` to silence this warning.\n",
      "\n"
     ]
    },
    {
     "name": "stdout",
     "output_type": "stream",
     "text": [
      "Start: 150 Stop: 199\n"
     ]
    },
    {
     "name": "stderr",
     "output_type": "stream",
     "text": [
      "/home/vhepola_linux/do-env/lib/python3.10/site-packages/plotly/express/_core.py:2065: FutureWarning:\n",
      "\n",
      "When grouping with a length-1 list-like, you will need to pass a length-1 tuple to get_group in a future version of pandas. Pass `(name,)` instead of `name` to silence this warning.\n",
      "\n"
     ]
    },
    {
     "name": "stdout",
     "output_type": "stream",
     "text": [
      "Start: 282 Stop: 312\n"
     ]
    },
    {
     "name": "stderr",
     "output_type": "stream",
     "text": [
      "/home/vhepola_linux/do-env/lib/python3.10/site-packages/plotly/express/_core.py:2065: FutureWarning:\n",
      "\n",
      "When grouping with a length-1 list-like, you will need to pass a length-1 tuple to get_group in a future version of pandas. Pass `(name,)` instead of `name` to silence this warning.\n",
      "\n"
     ]
    },
    {
     "name": "stdout",
     "output_type": "stream",
     "text": [
      "Start: 400 Stop: 543\n"
     ]
    },
    {
     "name": "stderr",
     "output_type": "stream",
     "text": [
      "/home/vhepola_linux/do-env/lib/python3.10/site-packages/plotly/express/_core.py:2065: FutureWarning:\n",
      "\n",
      "When grouping with a length-1 list-like, you will need to pass a length-1 tuple to get_group in a future version of pandas. Pass `(name,)` instead of `name` to silence this warning.\n",
      "\n"
     ]
    },
    {
     "name": "stdout",
     "output_type": "stream",
     "text": [
      "Start: 567 Stop: 592\n"
     ]
    },
    {
     "name": "stderr",
     "output_type": "stream",
     "text": [
      "/home/vhepola_linux/do-env/lib/python3.10/site-packages/plotly/express/_core.py:2065: FutureWarning:\n",
      "\n",
      "When grouping with a length-1 list-like, you will need to pass a length-1 tuple to get_group in a future version of pandas. Pass `(name,)` instead of `name` to silence this warning.\n",
      "\n"
     ]
    },
    {
     "name": "stdout",
     "output_type": "stream",
     "text": [
      "Start: 622 Stop: 668\n"
     ]
    },
    {
     "name": "stderr",
     "output_type": "stream",
     "text": [
      "/home/vhepola_linux/do-env/lib/python3.10/site-packages/plotly/express/_core.py:2065: FutureWarning:\n",
      "\n",
      "When grouping with a length-1 list-like, you will need to pass a length-1 tuple to get_group in a future version of pandas. Pass `(name,)` instead of `name` to silence this warning.\n",
      "\n"
     ]
    },
    {
     "name": "stdout",
     "output_type": "stream",
     "text": [
      "Start: 838 Stop: 870\n"
     ]
    },
    {
     "name": "stderr",
     "output_type": "stream",
     "text": [
      "/home/vhepola_linux/do-env/lib/python3.10/site-packages/plotly/express/_core.py:2065: FutureWarning:\n",
      "\n",
      "When grouping with a length-1 list-like, you will need to pass a length-1 tuple to get_group in a future version of pandas. Pass `(name,)` instead of `name` to silence this warning.\n",
      "\n"
     ]
    },
    {
     "name": "stdout",
     "output_type": "stream",
     "text": [
      "Start: 950 Stop: 979\n"
     ]
    },
    {
     "name": "stderr",
     "output_type": "stream",
     "text": [
      "/home/vhepola_linux/do-env/lib/python3.10/site-packages/plotly/express/_core.py:2065: FutureWarning:\n",
      "\n",
      "When grouping with a length-1 list-like, you will need to pass a length-1 tuple to get_group in a future version of pandas. Pass `(name,)` instead of `name` to silence this warning.\n",
      "\n"
     ]
    },
    {
     "name": "stdout",
     "output_type": "stream",
     "text": [
      "Start: 1294 Stop: 1312\n"
     ]
    },
    {
     "name": "stderr",
     "output_type": "stream",
     "text": [
      "/home/vhepola_linux/do-env/lib/python3.10/site-packages/plotly/express/_core.py:2065: FutureWarning:\n",
      "\n",
      "When grouping with a length-1 list-like, you will need to pass a length-1 tuple to get_group in a future version of pandas. Pass `(name,)` instead of `name` to silence this warning.\n",
      "\n"
     ]
    },
    {
     "name": "stdout",
     "output_type": "stream",
     "text": [
      "Start: 1337 Stop: 1358\n"
     ]
    },
    {
     "name": "stderr",
     "output_type": "stream",
     "text": [
      "/home/vhepola_linux/do-env/lib/python3.10/site-packages/plotly/express/_core.py:2065: FutureWarning:\n",
      "\n",
      "When grouping with a length-1 list-like, you will need to pass a length-1 tuple to get_group in a future version of pandas. Pass `(name,)` instead of `name` to silence this warning.\n",
      "\n"
     ]
    },
    {
     "name": "stdout",
     "output_type": "stream",
     "text": [
      "Start: 1420 Stop: 1467\n"
     ]
    },
    {
     "name": "stderr",
     "output_type": "stream",
     "text": [
      "/home/vhepola_linux/do-env/lib/python3.10/site-packages/plotly/express/_core.py:2065: FutureWarning:\n",
      "\n",
      "When grouping with a length-1 list-like, you will need to pass a length-1 tuple to get_group in a future version of pandas. Pass `(name,)` instead of `name` to silence this warning.\n",
      "\n"
     ]
    },
    {
     "name": "stdout",
     "output_type": "stream",
     "text": [
      "Start: 1461 Stop: 1478\n"
     ]
    },
    {
     "name": "stderr",
     "output_type": "stream",
     "text": [
      "/home/vhepola_linux/do-env/lib/python3.10/site-packages/plotly/express/_core.py:2065: FutureWarning:\n",
      "\n",
      "When grouping with a length-1 list-like, you will need to pass a length-1 tuple to get_group in a future version of pandas. Pass `(name,)` instead of `name` to silence this warning.\n",
      "\n"
     ]
    },
    {
     "name": "stdout",
     "output_type": "stream",
     "text": [
      "Start: 1501 Stop: 1525\n"
     ]
    },
    {
     "name": "stderr",
     "output_type": "stream",
     "text": [
      "/home/vhepola_linux/do-env/lib/python3.10/site-packages/plotly/express/_core.py:2065: FutureWarning:\n",
      "\n",
      "When grouping with a length-1 list-like, you will need to pass a length-1 tuple to get_group in a future version of pandas. Pass `(name,)` instead of `name` to silence this warning.\n",
      "\n"
     ]
    },
    {
     "name": "stdout",
     "output_type": "stream",
     "text": [
      "Start: 1589 Stop: 1607\n"
     ]
    },
    {
     "name": "stderr",
     "output_type": "stream",
     "text": [
      "/home/vhepola_linux/do-env/lib/python3.10/site-packages/plotly/express/_core.py:2065: FutureWarning:\n",
      "\n",
      "When grouping with a length-1 list-like, you will need to pass a length-1 tuple to get_group in a future version of pandas. Pass `(name,)` instead of `name` to silence this warning.\n",
      "\n"
     ]
    },
    {
     "name": "stdout",
     "output_type": "stream",
     "text": [
      "Start: 1648 Stop: 1688\n"
     ]
    },
    {
     "name": "stderr",
     "output_type": "stream",
     "text": [
      "/home/vhepola_linux/do-env/lib/python3.10/site-packages/plotly/express/_core.py:2065: FutureWarning:\n",
      "\n",
      "When grouping with a length-1 list-like, you will need to pass a length-1 tuple to get_group in a future version of pandas. Pass `(name,)` instead of `name` to silence this warning.\n",
      "\n"
     ]
    },
    {
     "name": "stdout",
     "output_type": "stream",
     "text": [
      "Start: 1682 Stop: 1709\n"
     ]
    },
    {
     "name": "stderr",
     "output_type": "stream",
     "text": [
      "/home/vhepola_linux/do-env/lib/python3.10/site-packages/plotly/express/_core.py:2065: FutureWarning:\n",
      "\n",
      "When grouping with a length-1 list-like, you will need to pass a length-1 tuple to get_group in a future version of pandas. Pass `(name,)` instead of `name` to silence this warning.\n",
      "\n"
     ]
    },
    {
     "name": "stdout",
     "output_type": "stream",
     "text": [
      "Start: 120 Stop: 163\n"
     ]
    },
    {
     "name": "stderr",
     "output_type": "stream",
     "text": [
      "/home/vhepola_linux/do-env/lib/python3.10/site-packages/plotly/express/_core.py:2065: FutureWarning:\n",
      "\n",
      "When grouping with a length-1 list-like, you will need to pass a length-1 tuple to get_group in a future version of pandas. Pass `(name,)` instead of `name` to silence this warning.\n",
      "\n"
     ]
    },
    {
     "name": "stdout",
     "output_type": "stream",
     "text": [
      "Start: 201 Stop: 220\n"
     ]
    },
    {
     "name": "stderr",
     "output_type": "stream",
     "text": [
      "/home/vhepola_linux/do-env/lib/python3.10/site-packages/plotly/express/_core.py:2065: FutureWarning:\n",
      "\n",
      "When grouping with a length-1 list-like, you will need to pass a length-1 tuple to get_group in a future version of pandas. Pass `(name,)` instead of `name` to silence this warning.\n",
      "\n"
     ]
    },
    {
     "name": "stdout",
     "output_type": "stream",
     "text": [
      "Start: 267 Stop: 292\n"
     ]
    },
    {
     "name": "stderr",
     "output_type": "stream",
     "text": [
      "/home/vhepola_linux/do-env/lib/python3.10/site-packages/plotly/express/_core.py:2065: FutureWarning:\n",
      "\n",
      "When grouping with a length-1 list-like, you will need to pass a length-1 tuple to get_group in a future version of pandas. Pass `(name,)` instead of `name` to silence this warning.\n",
      "\n"
     ]
    },
    {
     "name": "stdout",
     "output_type": "stream",
     "text": [
      "Start: 343 Stop: 446\n"
     ]
    },
    {
     "name": "stderr",
     "output_type": "stream",
     "text": [
      "/home/vhepola_linux/do-env/lib/python3.10/site-packages/plotly/express/_core.py:2065: FutureWarning:\n",
      "\n",
      "When grouping with a length-1 list-like, you will need to pass a length-1 tuple to get_group in a future version of pandas. Pass `(name,)` instead of `name` to silence this warning.\n",
      "\n"
     ]
    },
    {
     "name": "stdout",
     "output_type": "stream",
     "text": [
      "Start: 478 Stop: 495\n"
     ]
    },
    {
     "name": "stderr",
     "output_type": "stream",
     "text": [
      "/home/vhepola_linux/do-env/lib/python3.10/site-packages/plotly/express/_core.py:2065: FutureWarning:\n",
      "\n",
      "When grouping with a length-1 list-like, you will need to pass a length-1 tuple to get_group in a future version of pandas. Pass `(name,)` instead of `name` to silence this warning.\n",
      "\n"
     ]
    },
    {
     "name": "stdout",
     "output_type": "stream",
     "text": [
      "Start: 495 Stop: 514\n"
     ]
    },
    {
     "name": "stderr",
     "output_type": "stream",
     "text": [
      "/home/vhepola_linux/do-env/lib/python3.10/site-packages/plotly/express/_core.py:2065: FutureWarning:\n",
      "\n",
      "When grouping with a length-1 list-like, you will need to pass a length-1 tuple to get_group in a future version of pandas. Pass `(name,)` instead of `name` to silence this warning.\n",
      "\n"
     ]
    },
    {
     "name": "stdout",
     "output_type": "stream",
     "text": [
      "Start: 510 Stop: 552\n"
     ]
    },
    {
     "name": "stderr",
     "output_type": "stream",
     "text": [
      "/home/vhepola_linux/do-env/lib/python3.10/site-packages/plotly/express/_core.py:2065: FutureWarning:\n",
      "\n",
      "When grouping with a length-1 list-like, you will need to pass a length-1 tuple to get_group in a future version of pandas. Pass `(name,)` instead of `name` to silence this warning.\n",
      "\n"
     ]
    },
    {
     "name": "stdout",
     "output_type": "stream",
     "text": [
      "Start: 606 Stop: 625\n"
     ]
    },
    {
     "name": "stderr",
     "output_type": "stream",
     "text": [
      "/home/vhepola_linux/do-env/lib/python3.10/site-packages/plotly/express/_core.py:2065: FutureWarning:\n",
      "\n",
      "When grouping with a length-1 list-like, you will need to pass a length-1 tuple to get_group in a future version of pandas. Pass `(name,)` instead of `name` to silence this warning.\n",
      "\n"
     ]
    },
    {
     "name": "stdout",
     "output_type": "stream",
     "text": [
      "Start: 630 Stop: 657\n"
     ]
    },
    {
     "name": "stderr",
     "output_type": "stream",
     "text": [
      "/home/vhepola_linux/do-env/lib/python3.10/site-packages/plotly/express/_core.py:2065: FutureWarning:\n",
      "\n",
      "When grouping with a length-1 list-like, you will need to pass a length-1 tuple to get_group in a future version of pandas. Pass `(name,)` instead of `name` to silence this warning.\n",
      "\n"
     ]
    },
    {
     "name": "stdout",
     "output_type": "stream",
     "text": [
      "Start: 675 Stop: 700\n"
     ]
    },
    {
     "name": "stderr",
     "output_type": "stream",
     "text": [
      "/home/vhepola_linux/do-env/lib/python3.10/site-packages/plotly/express/_core.py:2065: FutureWarning:\n",
      "\n",
      "When grouping with a length-1 list-like, you will need to pass a length-1 tuple to get_group in a future version of pandas. Pass `(name,)` instead of `name` to silence this warning.\n",
      "\n"
     ]
    },
    {
     "name": "stdout",
     "output_type": "stream",
     "text": [
      "Start: 741 Stop: 775\n"
     ]
    },
    {
     "name": "stderr",
     "output_type": "stream",
     "text": [
      "/home/vhepola_linux/do-env/lib/python3.10/site-packages/plotly/express/_core.py:2065: FutureWarning:\n",
      "\n",
      "When grouping with a length-1 list-like, you will need to pass a length-1 tuple to get_group in a future version of pandas. Pass `(name,)` instead of `name` to silence this warning.\n",
      "\n"
     ]
    },
    {
     "name": "stdout",
     "output_type": "stream",
     "text": [
      "Start: 799 Stop: 825\n"
     ]
    },
    {
     "name": "stderr",
     "output_type": "stream",
     "text": [
      "/home/vhepola_linux/do-env/lib/python3.10/site-packages/plotly/express/_core.py:2065: FutureWarning:\n",
      "\n",
      "When grouping with a length-1 list-like, you will need to pass a length-1 tuple to get_group in a future version of pandas. Pass `(name,)` instead of `name` to silence this warning.\n",
      "\n"
     ]
    },
    {
     "name": "stdout",
     "output_type": "stream",
     "text": [
      "Start: 1032 Stop: 1060\n"
     ]
    },
    {
     "name": "stderr",
     "output_type": "stream",
     "text": [
      "/home/vhepola_linux/do-env/lib/python3.10/site-packages/plotly/express/_core.py:2065: FutureWarning:\n",
      "\n",
      "When grouping with a length-1 list-like, you will need to pass a length-1 tuple to get_group in a future version of pandas. Pass `(name,)` instead of `name` to silence this warning.\n",
      "\n"
     ]
    },
    {
     "name": "stdout",
     "output_type": "stream",
     "text": [
      "Start: 1199 Stop: 1222\n"
     ]
    },
    {
     "name": "stderr",
     "output_type": "stream",
     "text": [
      "/home/vhepola_linux/do-env/lib/python3.10/site-packages/plotly/express/_core.py:2065: FutureWarning:\n",
      "\n",
      "When grouping with a length-1 list-like, you will need to pass a length-1 tuple to get_group in a future version of pandas. Pass `(name,)` instead of `name` to silence this warning.\n",
      "\n"
     ]
    },
    {
     "name": "stdout",
     "output_type": "stream",
     "text": [
      "Start: 1249 Stop: 1268\n"
     ]
    },
    {
     "name": "stderr",
     "output_type": "stream",
     "text": [
      "/home/vhepola_linux/do-env/lib/python3.10/site-packages/plotly/express/_core.py:2065: FutureWarning:\n",
      "\n",
      "When grouping with a length-1 list-like, you will need to pass a length-1 tuple to get_group in a future version of pandas. Pass `(name,)` instead of `name` to silence this warning.\n",
      "\n"
     ]
    },
    {
     "name": "stdout",
     "output_type": "stream",
     "text": [
      "Start: 1322 Stop: 1341\n"
     ]
    },
    {
     "name": "stderr",
     "output_type": "stream",
     "text": [
      "/home/vhepola_linux/do-env/lib/python3.10/site-packages/plotly/express/_core.py:2065: FutureWarning:\n",
      "\n",
      "When grouping with a length-1 list-like, you will need to pass a length-1 tuple to get_group in a future version of pandas. Pass `(name,)` instead of `name` to silence this warning.\n",
      "\n"
     ]
    },
    {
     "name": "stdout",
     "output_type": "stream",
     "text": [
      "Start: 1356 Stop: 1385\n"
     ]
    },
    {
     "name": "stderr",
     "output_type": "stream",
     "text": [
      "/home/vhepola_linux/do-env/lib/python3.10/site-packages/plotly/express/_core.py:2065: FutureWarning:\n",
      "\n",
      "When grouping with a length-1 list-like, you will need to pass a length-1 tuple to get_group in a future version of pandas. Pass `(name,)` instead of `name` to silence this warning.\n",
      "\n"
     ]
    },
    {
     "name": "stdout",
     "output_type": "stream",
     "text": [
      "Start: 1556 Stop: 1587\n"
     ]
    },
    {
     "name": "stderr",
     "output_type": "stream",
     "text": [
      "/home/vhepola_linux/do-env/lib/python3.10/site-packages/plotly/express/_core.py:2065: FutureWarning:\n",
      "\n",
      "When grouping with a length-1 list-like, you will need to pass a length-1 tuple to get_group in a future version of pandas. Pass `(name,)` instead of `name` to silence this warning.\n",
      "\n"
     ]
    },
    {
     "name": "stdout",
     "output_type": "stream",
     "text": [
      "Start: 205 Stop: 266\n"
     ]
    },
    {
     "name": "stderr",
     "output_type": "stream",
     "text": [
      "/home/vhepola_linux/do-env/lib/python3.10/site-packages/plotly/express/_core.py:2065: FutureWarning:\n",
      "\n",
      "When grouping with a length-1 list-like, you will need to pass a length-1 tuple to get_group in a future version of pandas. Pass `(name,)` instead of `name` to silence this warning.\n",
      "\n"
     ]
    },
    {
     "name": "stdout",
     "output_type": "stream",
     "text": [
      "Start: 876 Stop: 915\n"
     ]
    },
    {
     "name": "stderr",
     "output_type": "stream",
     "text": [
      "/home/vhepola_linux/do-env/lib/python3.10/site-packages/plotly/express/_core.py:2065: FutureWarning:\n",
      "\n",
      "When grouping with a length-1 list-like, you will need to pass a length-1 tuple to get_group in a future version of pandas. Pass `(name,)` instead of `name` to silence this warning.\n",
      "\n"
     ]
    },
    {
     "name": "stdout",
     "output_type": "stream",
     "text": [
      "Start: 1316 Stop: 1437\n"
     ]
    },
    {
     "name": "stderr",
     "output_type": "stream",
     "text": [
      "/home/vhepola_linux/do-env/lib/python3.10/site-packages/plotly/express/_core.py:2065: FutureWarning:\n",
      "\n",
      "When grouping with a length-1 list-like, you will need to pass a length-1 tuple to get_group in a future version of pandas. Pass `(name,)` instead of `name` to silence this warning.\n",
      "\n"
     ]
    },
    {
     "name": "stdout",
     "output_type": "stream",
     "text": [
      "Start: 1538 Stop: 1611\n"
     ]
    },
    {
     "name": "stderr",
     "output_type": "stream",
     "text": [
      "/home/vhepola_linux/do-env/lib/python3.10/site-packages/plotly/express/_core.py:2065: FutureWarning:\n",
      "\n",
      "When grouping with a length-1 list-like, you will need to pass a length-1 tuple to get_group in a future version of pandas. Pass `(name,)` instead of `name` to silence this warning.\n",
      "\n"
     ]
    },
    {
     "name": "stdout",
     "output_type": "stream",
     "text": [
      "Start: 1743 Stop: 1780\n"
     ]
    },
    {
     "name": "stderr",
     "output_type": "stream",
     "text": [
      "/home/vhepola_linux/do-env/lib/python3.10/site-packages/plotly/express/_core.py:2065: FutureWarning:\n",
      "\n",
      "When grouping with a length-1 list-like, you will need to pass a length-1 tuple to get_group in a future version of pandas. Pass `(name,)` instead of `name` to silence this warning.\n",
      "\n"
     ]
    },
    {
     "name": "stdout",
     "output_type": "stream",
     "text": [
      "Start: 148 Stop: 200\n"
     ]
    },
    {
     "name": "stderr",
     "output_type": "stream",
     "text": [
      "/home/vhepola_linux/do-env/lib/python3.10/site-packages/plotly/express/_core.py:2065: FutureWarning:\n",
      "\n",
      "When grouping with a length-1 list-like, you will need to pass a length-1 tuple to get_group in a future version of pandas. Pass `(name,)` instead of `name` to silence this warning.\n",
      "\n"
     ]
    },
    {
     "name": "stdout",
     "output_type": "stream",
     "text": [
      "Start: 228 Stop: 253\n"
     ]
    },
    {
     "name": "stderr",
     "output_type": "stream",
     "text": [
      "/home/vhepola_linux/do-env/lib/python3.10/site-packages/plotly/express/_core.py:2065: FutureWarning:\n",
      "\n",
      "When grouping with a length-1 list-like, you will need to pass a length-1 tuple to get_group in a future version of pandas. Pass `(name,)` instead of `name` to silence this warning.\n",
      "\n"
     ]
    },
    {
     "name": "stdout",
     "output_type": "stream",
     "text": [
      "Start: 329 Stop: 356\n"
     ]
    },
    {
     "name": "stderr",
     "output_type": "stream",
     "text": [
      "/home/vhepola_linux/do-env/lib/python3.10/site-packages/plotly/express/_core.py:2065: FutureWarning:\n",
      "\n",
      "When grouping with a length-1 list-like, you will need to pass a length-1 tuple to get_group in a future version of pandas. Pass `(name,)` instead of `name` to silence this warning.\n",
      "\n"
     ]
    },
    {
     "name": "stdout",
     "output_type": "stream",
     "text": [
      "Start: 366 Stop: 404\n"
     ]
    },
    {
     "name": "stderr",
     "output_type": "stream",
     "text": [
      "/home/vhepola_linux/do-env/lib/python3.10/site-packages/plotly/express/_core.py:2065: FutureWarning:\n",
      "\n",
      "When grouping with a length-1 list-like, you will need to pass a length-1 tuple to get_group in a future version of pandas. Pass `(name,)` instead of `name` to silence this warning.\n",
      "\n"
     ]
    },
    {
     "name": "stdout",
     "output_type": "stream",
     "text": [
      "Start: 453 Stop: 517\n"
     ]
    },
    {
     "name": "stderr",
     "output_type": "stream",
     "text": [
      "/home/vhepola_linux/do-env/lib/python3.10/site-packages/plotly/express/_core.py:2065: FutureWarning:\n",
      "\n",
      "When grouping with a length-1 list-like, you will need to pass a length-1 tuple to get_group in a future version of pandas. Pass `(name,)` instead of `name` to silence this warning.\n",
      "\n"
     ]
    },
    {
     "name": "stdout",
     "output_type": "stream",
     "text": [
      "Start: 669 Stop: 691\n"
     ]
    },
    {
     "name": "stderr",
     "output_type": "stream",
     "text": [
      "/home/vhepola_linux/do-env/lib/python3.10/site-packages/plotly/express/_core.py:2065: FutureWarning:\n",
      "\n",
      "When grouping with a length-1 list-like, you will need to pass a length-1 tuple to get_group in a future version of pandas. Pass `(name,)` instead of `name` to silence this warning.\n",
      "\n"
     ]
    },
    {
     "name": "stdout",
     "output_type": "stream",
     "text": [
      "Start: 711 Stop: 737\n"
     ]
    },
    {
     "name": "stderr",
     "output_type": "stream",
     "text": [
      "/home/vhepola_linux/do-env/lib/python3.10/site-packages/plotly/express/_core.py:2065: FutureWarning:\n",
      "\n",
      "When grouping with a length-1 list-like, you will need to pass a length-1 tuple to get_group in a future version of pandas. Pass `(name,)` instead of `name` to silence this warning.\n",
      "\n"
     ]
    },
    {
     "name": "stdout",
     "output_type": "stream",
     "text": [
      "Start: 765 Stop: 785\n"
     ]
    },
    {
     "name": "stderr",
     "output_type": "stream",
     "text": [
      "/home/vhepola_linux/do-env/lib/python3.10/site-packages/plotly/express/_core.py:2065: FutureWarning:\n",
      "\n",
      "When grouping with a length-1 list-like, you will need to pass a length-1 tuple to get_group in a future version of pandas. Pass `(name,)` instead of `name` to silence this warning.\n",
      "\n"
     ]
    },
    {
     "name": "stdout",
     "output_type": "stream",
     "text": [
      "Start: 1141 Stop: 1162\n"
     ]
    },
    {
     "name": "stderr",
     "output_type": "stream",
     "text": [
      "/home/vhepola_linux/do-env/lib/python3.10/site-packages/plotly/express/_core.py:2065: FutureWarning:\n",
      "\n",
      "When grouping with a length-1 list-like, you will need to pass a length-1 tuple to get_group in a future version of pandas. Pass `(name,)` instead of `name` to silence this warning.\n",
      "\n"
     ]
    },
    {
     "name": "stdout",
     "output_type": "stream",
     "text": [
      "Start: 1194 Stop: 1216\n"
     ]
    },
    {
     "name": "stderr",
     "output_type": "stream",
     "text": [
      "/home/vhepola_linux/do-env/lib/python3.10/site-packages/plotly/express/_core.py:2065: FutureWarning:\n",
      "\n",
      "When grouping with a length-1 list-like, you will need to pass a length-1 tuple to get_group in a future version of pandas. Pass `(name,)` instead of `name` to silence this warning.\n",
      "\n"
     ]
    },
    {
     "name": "stdout",
     "output_type": "stream",
     "text": [
      "Start: 1232 Stop: 1249\n"
     ]
    },
    {
     "name": "stderr",
     "output_type": "stream",
     "text": [
      "/home/vhepola_linux/do-env/lib/python3.10/site-packages/plotly/express/_core.py:2065: FutureWarning:\n",
      "\n",
      "When grouping with a length-1 list-like, you will need to pass a length-1 tuple to get_group in a future version of pandas. Pass `(name,)` instead of `name` to silence this warning.\n",
      "\n"
     ]
    },
    {
     "name": "stdout",
     "output_type": "stream",
     "text": [
      "Start: 1252 Stop: 1270\n"
     ]
    },
    {
     "name": "stderr",
     "output_type": "stream",
     "text": [
      "/home/vhepola_linux/do-env/lib/python3.10/site-packages/plotly/express/_core.py:2065: FutureWarning:\n",
      "\n",
      "When grouping with a length-1 list-like, you will need to pass a length-1 tuple to get_group in a future version of pandas. Pass `(name,)` instead of `name` to silence this warning.\n",
      "\n"
     ]
    },
    {
     "name": "stdout",
     "output_type": "stream",
     "text": [
      "Start: 1337 Stop: 1379\n"
     ]
    },
    {
     "name": "stderr",
     "output_type": "stream",
     "text": [
      "/home/vhepola_linux/do-env/lib/python3.10/site-packages/plotly/express/_core.py:2065: FutureWarning:\n",
      "\n",
      "When grouping with a length-1 list-like, you will need to pass a length-1 tuple to get_group in a future version of pandas. Pass `(name,)` instead of `name` to silence this warning.\n",
      "\n"
     ]
    },
    {
     "name": "stdout",
     "output_type": "stream",
     "text": [
      "Start: 1449 Stop: 1476\n"
     ]
    },
    {
     "name": "stderr",
     "output_type": "stream",
     "text": [
      "/home/vhepola_linux/do-env/lib/python3.10/site-packages/plotly/express/_core.py:2065: FutureWarning:\n",
      "\n",
      "When grouping with a length-1 list-like, you will need to pass a length-1 tuple to get_group in a future version of pandas. Pass `(name,)` instead of `name` to silence this warning.\n",
      "\n"
     ]
    },
    {
     "name": "stdout",
     "output_type": "stream",
     "text": [
      "Start: 1693 Stop: 1711\n"
     ]
    },
    {
     "name": "stderr",
     "output_type": "stream",
     "text": [
      "/home/vhepola_linux/do-env/lib/python3.10/site-packages/plotly/express/_core.py:2065: FutureWarning:\n",
      "\n",
      "When grouping with a length-1 list-like, you will need to pass a length-1 tuple to get_group in a future version of pandas. Pass `(name,)` instead of `name` to silence this warning.\n",
      "\n"
     ]
    },
    {
     "name": "stdout",
     "output_type": "stream",
     "text": [
      "Start: 202 Stop: 261\n"
     ]
    },
    {
     "name": "stderr",
     "output_type": "stream",
     "text": [
      "/home/vhepola_linux/do-env/lib/python3.10/site-packages/plotly/express/_core.py:2065: FutureWarning:\n",
      "\n",
      "When grouping with a length-1 list-like, you will need to pass a length-1 tuple to get_group in a future version of pandas. Pass `(name,)` instead of `name` to silence this warning.\n",
      "\n"
     ]
    },
    {
     "name": "stdout",
     "output_type": "stream",
     "text": [
      "Start: 612 Stop: 635\n"
     ]
    },
    {
     "name": "stderr",
     "output_type": "stream",
     "text": [
      "/home/vhepola_linux/do-env/lib/python3.10/site-packages/plotly/express/_core.py:2065: FutureWarning:\n",
      "\n",
      "When grouping with a length-1 list-like, you will need to pass a length-1 tuple to get_group in a future version of pandas. Pass `(name,)` instead of `name` to silence this warning.\n",
      "\n"
     ]
    },
    {
     "name": "stdout",
     "output_type": "stream",
     "text": [
      "Start: 649 Stop: 696\n"
     ]
    },
    {
     "name": "stderr",
     "output_type": "stream",
     "text": [
      "/home/vhepola_linux/do-env/lib/python3.10/site-packages/plotly/express/_core.py:2065: FutureWarning:\n",
      "\n",
      "When grouping with a length-1 list-like, you will need to pass a length-1 tuple to get_group in a future version of pandas. Pass `(name,)` instead of `name` to silence this warning.\n",
      "\n"
     ]
    },
    {
     "name": "stdout",
     "output_type": "stream",
     "text": [
      "Start: 719 Stop: 755\n"
     ]
    },
    {
     "name": "stderr",
     "output_type": "stream",
     "text": [
      "/home/vhepola_linux/do-env/lib/python3.10/site-packages/plotly/express/_core.py:2065: FutureWarning:\n",
      "\n",
      "When grouping with a length-1 list-like, you will need to pass a length-1 tuple to get_group in a future version of pandas. Pass `(name,)` instead of `name` to silence this warning.\n",
      "\n"
     ]
    },
    {
     "name": "stdout",
     "output_type": "stream",
     "text": [
      "Start: 767 Stop: 790\n"
     ]
    },
    {
     "name": "stderr",
     "output_type": "stream",
     "text": [
      "/home/vhepola_linux/do-env/lib/python3.10/site-packages/plotly/express/_core.py:2065: FutureWarning:\n",
      "\n",
      "When grouping with a length-1 list-like, you will need to pass a length-1 tuple to get_group in a future version of pandas. Pass `(name,)` instead of `name` to silence this warning.\n",
      "\n"
     ]
    },
    {
     "name": "stdout",
     "output_type": "stream",
     "text": [
      "Start: 988 Stop: 1011\n"
     ]
    },
    {
     "name": "stderr",
     "output_type": "stream",
     "text": [
      "/home/vhepola_linux/do-env/lib/python3.10/site-packages/plotly/express/_core.py:2065: FutureWarning:\n",
      "\n",
      "When grouping with a length-1 list-like, you will need to pass a length-1 tuple to get_group in a future version of pandas. Pass `(name,)` instead of `name` to silence this warning.\n",
      "\n"
     ]
    },
    {
     "name": "stdout",
     "output_type": "stream",
     "text": [
      "Start: 1314 Stop: 1340\n"
     ]
    },
    {
     "name": "stderr",
     "output_type": "stream",
     "text": [
      "/home/vhepola_linux/do-env/lib/python3.10/site-packages/plotly/express/_core.py:2065: FutureWarning:\n",
      "\n",
      "When grouping with a length-1 list-like, you will need to pass a length-1 tuple to get_group in a future version of pandas. Pass `(name,)` instead of `name` to silence this warning.\n",
      "\n"
     ]
    },
    {
     "name": "stdout",
     "output_type": "stream",
     "text": [
      "Start: 1589 Stop: 1649\n"
     ]
    },
    {
     "name": "stderr",
     "output_type": "stream",
     "text": [
      "/home/vhepola_linux/do-env/lib/python3.10/site-packages/plotly/express/_core.py:2065: FutureWarning:\n",
      "\n",
      "When grouping with a length-1 list-like, you will need to pass a length-1 tuple to get_group in a future version of pandas. Pass `(name,)` instead of `name` to silence this warning.\n",
      "\n"
     ]
    },
    {
     "name": "stdout",
     "output_type": "stream",
     "text": [
      "Start: 475 Stop: 569\n"
     ]
    },
    {
     "name": "stderr",
     "output_type": "stream",
     "text": [
      "/home/vhepola_linux/do-env/lib/python3.10/site-packages/plotly/express/_core.py:2065: FutureWarning:\n",
      "\n",
      "When grouping with a length-1 list-like, you will need to pass a length-1 tuple to get_group in a future version of pandas. Pass `(name,)` instead of `name` to silence this warning.\n",
      "\n"
     ]
    },
    {
     "name": "stdout",
     "output_type": "stream",
     "text": [
      "Start: 786 Stop: 838\n"
     ]
    },
    {
     "name": "stderr",
     "output_type": "stream",
     "text": [
      "/home/vhepola_linux/do-env/lib/python3.10/site-packages/plotly/express/_core.py:2065: FutureWarning:\n",
      "\n",
      "When grouping with a length-1 list-like, you will need to pass a length-1 tuple to get_group in a future version of pandas. Pass `(name,)` instead of `name` to silence this warning.\n",
      "\n"
     ]
    },
    {
     "name": "stdout",
     "output_type": "stream",
     "text": [
      "Start: 858 Stop: 894\n"
     ]
    },
    {
     "name": "stderr",
     "output_type": "stream",
     "text": [
      "/home/vhepola_linux/do-env/lib/python3.10/site-packages/plotly/express/_core.py:2065: FutureWarning:\n",
      "\n",
      "When grouping with a length-1 list-like, you will need to pass a length-1 tuple to get_group in a future version of pandas. Pass `(name,)` instead of `name` to silence this warning.\n",
      "\n"
     ]
    },
    {
     "name": "stdout",
     "output_type": "stream",
     "text": [
      "Start: 957 Stop: 982\n"
     ]
    },
    {
     "name": "stderr",
     "output_type": "stream",
     "text": [
      "/home/vhepola_linux/do-env/lib/python3.10/site-packages/plotly/express/_core.py:2065: FutureWarning:\n",
      "\n",
      "When grouping with a length-1 list-like, you will need to pass a length-1 tuple to get_group in a future version of pandas. Pass `(name,)` instead of `name` to silence this warning.\n",
      "\n"
     ]
    },
    {
     "name": "stdout",
     "output_type": "stream",
     "text": [
      "Start: 1269 Stop: 1326\n"
     ]
    },
    {
     "name": "stderr",
     "output_type": "stream",
     "text": [
      "/home/vhepola_linux/do-env/lib/python3.10/site-packages/plotly/express/_core.py:2065: FutureWarning:\n",
      "\n",
      "When grouping with a length-1 list-like, you will need to pass a length-1 tuple to get_group in a future version of pandas. Pass `(name,)` instead of `name` to silence this warning.\n",
      "\n"
     ]
    },
    {
     "name": "stdout",
     "output_type": "stream",
     "text": [
      "Start: 49 Stop: 67\n"
     ]
    },
    {
     "name": "stderr",
     "output_type": "stream",
     "text": [
      "/home/vhepola_linux/do-env/lib/python3.10/site-packages/plotly/express/_core.py:2065: FutureWarning:\n",
      "\n",
      "When grouping with a length-1 list-like, you will need to pass a length-1 tuple to get_group in a future version of pandas. Pass `(name,)` instead of `name` to silence this warning.\n",
      "\n"
     ]
    },
    {
     "name": "stdout",
     "output_type": "stream",
     "text": [
      "Start: 91 Stop: 116\n"
     ]
    },
    {
     "name": "stderr",
     "output_type": "stream",
     "text": [
      "/home/vhepola_linux/do-env/lib/python3.10/site-packages/plotly/express/_core.py:2065: FutureWarning:\n",
      "\n",
      "When grouping with a length-1 list-like, you will need to pass a length-1 tuple to get_group in a future version of pandas. Pass `(name,)` instead of `name` to silence this warning.\n",
      "\n"
     ]
    },
    {
     "name": "stdout",
     "output_type": "stream",
     "text": [
      "Start: 110 Stop: 140\n"
     ]
    },
    {
     "name": "stderr",
     "output_type": "stream",
     "text": [
      "/home/vhepola_linux/do-env/lib/python3.10/site-packages/plotly/express/_core.py:2065: FutureWarning:\n",
      "\n",
      "When grouping with a length-1 list-like, you will need to pass a length-1 tuple to get_group in a future version of pandas. Pass `(name,)` instead of `name` to silence this warning.\n",
      "\n"
     ]
    },
    {
     "name": "stdout",
     "output_type": "stream",
     "text": [
      "Start: 133 Stop: 302\n"
     ]
    },
    {
     "name": "stderr",
     "output_type": "stream",
     "text": [
      "/home/vhepola_linux/do-env/lib/python3.10/site-packages/plotly/express/_core.py:2065: FutureWarning:\n",
      "\n",
      "When grouping with a length-1 list-like, you will need to pass a length-1 tuple to get_group in a future version of pandas. Pass `(name,)` instead of `name` to silence this warning.\n",
      "\n"
     ]
    },
    {
     "name": "stdout",
     "output_type": "stream",
     "text": [
      "Start: 306 Stop: 351\n"
     ]
    },
    {
     "name": "stderr",
     "output_type": "stream",
     "text": [
      "/home/vhepola_linux/do-env/lib/python3.10/site-packages/plotly/express/_core.py:2065: FutureWarning:\n",
      "\n",
      "When grouping with a length-1 list-like, you will need to pass a length-1 tuple to get_group in a future version of pandas. Pass `(name,)` instead of `name` to silence this warning.\n",
      "\n"
     ]
    },
    {
     "name": "stdout",
     "output_type": "stream",
     "text": [
      "Start: 535 Stop: 590\n"
     ]
    },
    {
     "name": "stderr",
     "output_type": "stream",
     "text": [
      "/home/vhepola_linux/do-env/lib/python3.10/site-packages/plotly/express/_core.py:2065: FutureWarning:\n",
      "\n",
      "When grouping with a length-1 list-like, you will need to pass a length-1 tuple to get_group in a future version of pandas. Pass `(name,)` instead of `name` to silence this warning.\n",
      "\n"
     ]
    },
    {
     "name": "stdout",
     "output_type": "stream",
     "text": [
      "Start: 655 Stop: 689\n"
     ]
    },
    {
     "name": "stderr",
     "output_type": "stream",
     "text": [
      "/home/vhepola_linux/do-env/lib/python3.10/site-packages/plotly/express/_core.py:2065: FutureWarning:\n",
      "\n",
      "When grouping with a length-1 list-like, you will need to pass a length-1 tuple to get_group in a future version of pandas. Pass `(name,)` instead of `name` to silence this warning.\n",
      "\n"
     ]
    },
    {
     "name": "stdout",
     "output_type": "stream",
     "text": [
      "Start: 954 Stop: 1079\n"
     ]
    },
    {
     "name": "stderr",
     "output_type": "stream",
     "text": [
      "/home/vhepola_linux/do-env/lib/python3.10/site-packages/plotly/express/_core.py:2065: FutureWarning:\n",
      "\n",
      "When grouping with a length-1 list-like, you will need to pass a length-1 tuple to get_group in a future version of pandas. Pass `(name,)` instead of `name` to silence this warning.\n",
      "\n"
     ]
    },
    {
     "name": "stdout",
     "output_type": "stream",
     "text": [
      "Start: 1119 Stop: 1141\n"
     ]
    },
    {
     "name": "stderr",
     "output_type": "stream",
     "text": [
      "/home/vhepola_linux/do-env/lib/python3.10/site-packages/plotly/express/_core.py:2065: FutureWarning:\n",
      "\n",
      "When grouping with a length-1 list-like, you will need to pass a length-1 tuple to get_group in a future version of pandas. Pass `(name,)` instead of `name` to silence this warning.\n",
      "\n"
     ]
    },
    {
     "name": "stdout",
     "output_type": "stream",
     "text": [
      "Start: 1161 Stop: 1185\n"
     ]
    },
    {
     "name": "stderr",
     "output_type": "stream",
     "text": [
      "/home/vhepola_linux/do-env/lib/python3.10/site-packages/plotly/express/_core.py:2065: FutureWarning:\n",
      "\n",
      "When grouping with a length-1 list-like, you will need to pass a length-1 tuple to get_group in a future version of pandas. Pass `(name,)` instead of `name` to silence this warning.\n",
      "\n"
     ]
    },
    {
     "name": "stdout",
     "output_type": "stream",
     "text": [
      "Start: 1266 Stop: 1327\n"
     ]
    },
    {
     "name": "stderr",
     "output_type": "stream",
     "text": [
      "/home/vhepola_linux/do-env/lib/python3.10/site-packages/plotly/express/_core.py:2065: FutureWarning:\n",
      "\n",
      "When grouping with a length-1 list-like, you will need to pass a length-1 tuple to get_group in a future version of pandas. Pass `(name,)` instead of `name` to silence this warning.\n",
      "\n"
     ]
    },
    {
     "name": "stdout",
     "output_type": "stream",
     "text": [
      "Start: 1347 Stop: 1409\n"
     ]
    },
    {
     "name": "stderr",
     "output_type": "stream",
     "text": [
      "/home/vhepola_linux/do-env/lib/python3.10/site-packages/plotly/express/_core.py:2065: FutureWarning:\n",
      "\n",
      "When grouping with a length-1 list-like, you will need to pass a length-1 tuple to get_group in a future version of pandas. Pass `(name,)` instead of `name` to silence this warning.\n",
      "\n"
     ]
    },
    {
     "name": "stdout",
     "output_type": "stream",
     "text": [
      "Start: 1470 Stop: 1504\n"
     ]
    },
    {
     "name": "stderr",
     "output_type": "stream",
     "text": [
      "/home/vhepola_linux/do-env/lib/python3.10/site-packages/plotly/express/_core.py:2065: FutureWarning:\n",
      "\n",
      "When grouping with a length-1 list-like, you will need to pass a length-1 tuple to get_group in a future version of pandas. Pass `(name,)` instead of `name` to silence this warning.\n",
      "\n"
     ]
    },
    {
     "name": "stdout",
     "output_type": "stream",
     "text": [
      "Start: 1778 Stop: 1926\n"
     ]
    },
    {
     "name": "stderr",
     "output_type": "stream",
     "text": [
      "/home/vhepola_linux/do-env/lib/python3.10/site-packages/plotly/express/_core.py:2065: FutureWarning:\n",
      "\n",
      "When grouping with a length-1 list-like, you will need to pass a length-1 tuple to get_group in a future version of pandas. Pass `(name,)` instead of `name` to silence this warning.\n",
      "\n"
     ]
    },
    {
     "name": "stdout",
     "output_type": "stream",
     "text": [
      "Start: 2016 Stop: 2115\n"
     ]
    },
    {
     "name": "stderr",
     "output_type": "stream",
     "text": [
      "/home/vhepola_linux/do-env/lib/python3.10/site-packages/plotly/express/_core.py:2065: FutureWarning:\n",
      "\n",
      "When grouping with a length-1 list-like, you will need to pass a length-1 tuple to get_group in a future version of pandas. Pass `(name,)` instead of `name` to silence this warning.\n",
      "\n"
     ]
    },
    {
     "name": "stdout",
     "output_type": "stream",
     "text": [
      "Start: 100 Stop: 148\n"
     ]
    },
    {
     "name": "stderr",
     "output_type": "stream",
     "text": [
      "/home/vhepola_linux/do-env/lib/python3.10/site-packages/plotly/express/_core.py:2065: FutureWarning:\n",
      "\n",
      "When grouping with a length-1 list-like, you will need to pass a length-1 tuple to get_group in a future version of pandas. Pass `(name,)` instead of `name` to silence this warning.\n",
      "\n"
     ]
    },
    {
     "name": "stdout",
     "output_type": "stream",
     "text": [
      "Start: 158 Stop: 186\n"
     ]
    },
    {
     "name": "stderr",
     "output_type": "stream",
     "text": [
      "/home/vhepola_linux/do-env/lib/python3.10/site-packages/plotly/express/_core.py:2065: FutureWarning:\n",
      "\n",
      "When grouping with a length-1 list-like, you will need to pass a length-1 tuple to get_group in a future version of pandas. Pass `(name,)` instead of `name` to silence this warning.\n",
      "\n"
     ]
    },
    {
     "name": "stdout",
     "output_type": "stream",
     "text": [
      "Start: 194 Stop: 218\n"
     ]
    },
    {
     "name": "stderr",
     "output_type": "stream",
     "text": [
      "/home/vhepola_linux/do-env/lib/python3.10/site-packages/plotly/express/_core.py:2065: FutureWarning:\n",
      "\n",
      "When grouping with a length-1 list-like, you will need to pass a length-1 tuple to get_group in a future version of pandas. Pass `(name,)` instead of `name` to silence this warning.\n",
      "\n"
     ]
    },
    {
     "name": "stdout",
     "output_type": "stream",
     "text": [
      "Start: 226 Stop: 272\n"
     ]
    },
    {
     "name": "stderr",
     "output_type": "stream",
     "text": [
      "/home/vhepola_linux/do-env/lib/python3.10/site-packages/plotly/express/_core.py:2065: FutureWarning:\n",
      "\n",
      "When grouping with a length-1 list-like, you will need to pass a length-1 tuple to get_group in a future version of pandas. Pass `(name,)` instead of `name` to silence this warning.\n",
      "\n"
     ]
    },
    {
     "name": "stdout",
     "output_type": "stream",
     "text": [
      "Start: 268 Stop: 283\n"
     ]
    },
    {
     "name": "stderr",
     "output_type": "stream",
     "text": [
      "/home/vhepola_linux/do-env/lib/python3.10/site-packages/plotly/express/_core.py:2065: FutureWarning:\n",
      "\n",
      "When grouping with a length-1 list-like, you will need to pass a length-1 tuple to get_group in a future version of pandas. Pass `(name,)` instead of `name` to silence this warning.\n",
      "\n"
     ]
    },
    {
     "name": "stdout",
     "output_type": "stream",
     "text": [
      "Start: 288 Stop: 344\n"
     ]
    },
    {
     "name": "stderr",
     "output_type": "stream",
     "text": [
      "/home/vhepola_linux/do-env/lib/python3.10/site-packages/plotly/express/_core.py:2065: FutureWarning:\n",
      "\n",
      "When grouping with a length-1 list-like, you will need to pass a length-1 tuple to get_group in a future version of pandas. Pass `(name,)` instead of `name` to silence this warning.\n",
      "\n"
     ]
    },
    {
     "name": "stdout",
     "output_type": "stream",
     "text": [
      "Start: 338 Stop: 383\n"
     ]
    },
    {
     "name": "stderr",
     "output_type": "stream",
     "text": [
      "/home/vhepola_linux/do-env/lib/python3.10/site-packages/plotly/express/_core.py:2065: FutureWarning:\n",
      "\n",
      "When grouping with a length-1 list-like, you will need to pass a length-1 tuple to get_group in a future version of pandas. Pass `(name,)` instead of `name` to silence this warning.\n",
      "\n"
     ]
    },
    {
     "name": "stdout",
     "output_type": "stream",
     "text": [
      "Start: 378 Stop: 397\n"
     ]
    },
    {
     "name": "stderr",
     "output_type": "stream",
     "text": [
      "/home/vhepola_linux/do-env/lib/python3.10/site-packages/plotly/express/_core.py:2065: FutureWarning:\n",
      "\n",
      "When grouping with a length-1 list-like, you will need to pass a length-1 tuple to get_group in a future version of pandas. Pass `(name,)` instead of `name` to silence this warning.\n",
      "\n"
     ]
    },
    {
     "name": "stdout",
     "output_type": "stream",
     "text": [
      "Start: 430 Stop: 454\n"
     ]
    },
    {
     "name": "stderr",
     "output_type": "stream",
     "text": [
      "/home/vhepola_linux/do-env/lib/python3.10/site-packages/plotly/express/_core.py:2065: FutureWarning:\n",
      "\n",
      "When grouping with a length-1 list-like, you will need to pass a length-1 tuple to get_group in a future version of pandas. Pass `(name,)` instead of `name` to silence this warning.\n",
      "\n"
     ]
    },
    {
     "name": "stdout",
     "output_type": "stream",
     "text": [
      "Start: 454 Stop: 523\n"
     ]
    },
    {
     "name": "stderr",
     "output_type": "stream",
     "text": [
      "/home/vhepola_linux/do-env/lib/python3.10/site-packages/plotly/express/_core.py:2065: FutureWarning:\n",
      "\n",
      "When grouping with a length-1 list-like, you will need to pass a length-1 tuple to get_group in a future version of pandas. Pass `(name,)` instead of `name` to silence this warning.\n",
      "\n"
     ]
    },
    {
     "name": "stdout",
     "output_type": "stream",
     "text": [
      "Start: 530 Stop: 572\n"
     ]
    },
    {
     "name": "stderr",
     "output_type": "stream",
     "text": [
      "/home/vhepola_linux/do-env/lib/python3.10/site-packages/plotly/express/_core.py:2065: FutureWarning:\n",
      "\n",
      "When grouping with a length-1 list-like, you will need to pass a length-1 tuple to get_group in a future version of pandas. Pass `(name,)` instead of `name` to silence this warning.\n",
      "\n"
     ]
    },
    {
     "name": "stdout",
     "output_type": "stream",
     "text": [
      "Start: 569 Stop: 586\n"
     ]
    },
    {
     "name": "stderr",
     "output_type": "stream",
     "text": [
      "/home/vhepola_linux/do-env/lib/python3.10/site-packages/plotly/express/_core.py:2065: FutureWarning:\n",
      "\n",
      "When grouping with a length-1 list-like, you will need to pass a length-1 tuple to get_group in a future version of pandas. Pass `(name,)` instead of `name` to silence this warning.\n",
      "\n"
     ]
    },
    {
     "name": "stdout",
     "output_type": "stream",
     "text": [
      "Start: 588 Stop: 641\n"
     ]
    },
    {
     "name": "stderr",
     "output_type": "stream",
     "text": [
      "/home/vhepola_linux/do-env/lib/python3.10/site-packages/plotly/express/_core.py:2065: FutureWarning:\n",
      "\n",
      "When grouping with a length-1 list-like, you will need to pass a length-1 tuple to get_group in a future version of pandas. Pass `(name,)` instead of `name` to silence this warning.\n",
      "\n"
     ]
    },
    {
     "name": "stdout",
     "output_type": "stream",
     "text": [
      "Start: 653 Stop: 674\n"
     ]
    },
    {
     "name": "stderr",
     "output_type": "stream",
     "text": [
      "/home/vhepola_linux/do-env/lib/python3.10/site-packages/plotly/express/_core.py:2065: FutureWarning:\n",
      "\n",
      "When grouping with a length-1 list-like, you will need to pass a length-1 tuple to get_group in a future version of pandas. Pass `(name,)` instead of `name` to silence this warning.\n",
      "\n"
     ]
    },
    {
     "name": "stdout",
     "output_type": "stream",
     "text": [
      "Start: 794 Stop: 820\n"
     ]
    },
    {
     "name": "stderr",
     "output_type": "stream",
     "text": [
      "/home/vhepola_linux/do-env/lib/python3.10/site-packages/plotly/express/_core.py:2065: FutureWarning:\n",
      "\n",
      "When grouping with a length-1 list-like, you will need to pass a length-1 tuple to get_group in a future version of pandas. Pass `(name,)` instead of `name` to silence this warning.\n",
      "\n"
     ]
    },
    {
     "name": "stdout",
     "output_type": "stream",
     "text": [
      "Start: 843 Stop: 866\n"
     ]
    },
    {
     "name": "stderr",
     "output_type": "stream",
     "text": [
      "/home/vhepola_linux/do-env/lib/python3.10/site-packages/plotly/express/_core.py:2065: FutureWarning:\n",
      "\n",
      "When grouping with a length-1 list-like, you will need to pass a length-1 tuple to get_group in a future version of pandas. Pass `(name,)` instead of `name` to silence this warning.\n",
      "\n"
     ]
    },
    {
     "name": "stdout",
     "output_type": "stream",
     "text": [
      "Start: 887 Stop: 905\n"
     ]
    },
    {
     "name": "stderr",
     "output_type": "stream",
     "text": [
      "/home/vhepola_linux/do-env/lib/python3.10/site-packages/plotly/express/_core.py:2065: FutureWarning:\n",
      "\n",
      "When grouping with a length-1 list-like, you will need to pass a length-1 tuple to get_group in a future version of pandas. Pass `(name,)` instead of `name` to silence this warning.\n",
      "\n"
     ]
    },
    {
     "name": "stdout",
     "output_type": "stream",
     "text": [
      "Start: 901 Stop: 922\n"
     ]
    },
    {
     "name": "stderr",
     "output_type": "stream",
     "text": [
      "/home/vhepola_linux/do-env/lib/python3.10/site-packages/plotly/express/_core.py:2065: FutureWarning:\n",
      "\n",
      "When grouping with a length-1 list-like, you will need to pass a length-1 tuple to get_group in a future version of pandas. Pass `(name,)` instead of `name` to silence this warning.\n",
      "\n"
     ]
    },
    {
     "name": "stdout",
     "output_type": "stream",
     "text": [
      "Start: 1264 Stop: 1293\n"
     ]
    },
    {
     "name": "stderr",
     "output_type": "stream",
     "text": [
      "/home/vhepola_linux/do-env/lib/python3.10/site-packages/plotly/express/_core.py:2065: FutureWarning:\n",
      "\n",
      "When grouping with a length-1 list-like, you will need to pass a length-1 tuple to get_group in a future version of pandas. Pass `(name,)` instead of `name` to silence this warning.\n",
      "\n"
     ]
    },
    {
     "name": "stdout",
     "output_type": "stream",
     "text": [
      "Start: 1362 Stop: 1387\n"
     ]
    },
    {
     "name": "stderr",
     "output_type": "stream",
     "text": [
      "/home/vhepola_linux/do-env/lib/python3.10/site-packages/plotly/express/_core.py:2065: FutureWarning:\n",
      "\n",
      "When grouping with a length-1 list-like, you will need to pass a length-1 tuple to get_group in a future version of pandas. Pass `(name,)` instead of `name` to silence this warning.\n",
      "\n"
     ]
    },
    {
     "name": "stdout",
     "output_type": "stream",
     "text": [
      "Start: 1434 Stop: 1465\n"
     ]
    },
    {
     "name": "stderr",
     "output_type": "stream",
     "text": [
      "/home/vhepola_linux/do-env/lib/python3.10/site-packages/plotly/express/_core.py:2065: FutureWarning:\n",
      "\n",
      "When grouping with a length-1 list-like, you will need to pass a length-1 tuple to get_group in a future version of pandas. Pass `(name,)` instead of `name` to silence this warning.\n",
      "\n"
     ]
    },
    {
     "name": "stdout",
     "output_type": "stream",
     "text": [
      "Start: 1518 Stop: 1550\n"
     ]
    },
    {
     "name": "stderr",
     "output_type": "stream",
     "text": [
      "/home/vhepola_linux/do-env/lib/python3.10/site-packages/plotly/express/_core.py:2065: FutureWarning:\n",
      "\n",
      "When grouping with a length-1 list-like, you will need to pass a length-1 tuple to get_group in a future version of pandas. Pass `(name,)` instead of `name` to silence this warning.\n",
      "\n"
     ]
    },
    {
     "name": "stdout",
     "output_type": "stream",
     "text": [
      "Start: 1613 Stop: 1639\n"
     ]
    },
    {
     "name": "stderr",
     "output_type": "stream",
     "text": [
      "/home/vhepola_linux/do-env/lib/python3.10/site-packages/plotly/express/_core.py:2065: FutureWarning:\n",
      "\n",
      "When grouping with a length-1 list-like, you will need to pass a length-1 tuple to get_group in a future version of pandas. Pass `(name,)` instead of `name` to silence this warning.\n",
      "\n"
     ]
    },
    {
     "name": "stdout",
     "output_type": "stream",
     "text": [
      "Start: 1663 Stop: 1679\n"
     ]
    },
    {
     "name": "stderr",
     "output_type": "stream",
     "text": [
      "/home/vhepola_linux/do-env/lib/python3.10/site-packages/plotly/express/_core.py:2065: FutureWarning:\n",
      "\n",
      "When grouping with a length-1 list-like, you will need to pass a length-1 tuple to get_group in a future version of pandas. Pass `(name,)` instead of `name` to silence this warning.\n",
      "\n"
     ]
    },
    {
     "name": "stdout",
     "output_type": "stream",
     "text": [
      "Start: 1673 Stop: 1695\n"
     ]
    },
    {
     "name": "stderr",
     "output_type": "stream",
     "text": [
      "/home/vhepola_linux/do-env/lib/python3.10/site-packages/plotly/express/_core.py:2065: FutureWarning:\n",
      "\n",
      "When grouping with a length-1 list-like, you will need to pass a length-1 tuple to get_group in a future version of pandas. Pass `(name,)` instead of `name` to silence this warning.\n",
      "\n"
     ]
    },
    {
     "name": "stdout",
     "output_type": "stream",
     "text": [
      "Start: 174 Stop: 224\n"
     ]
    },
    {
     "name": "stderr",
     "output_type": "stream",
     "text": [
      "/home/vhepola_linux/do-env/lib/python3.10/site-packages/plotly/express/_core.py:2065: FutureWarning:\n",
      "\n",
      "When grouping with a length-1 list-like, you will need to pass a length-1 tuple to get_group in a future version of pandas. Pass `(name,)` instead of `name` to silence this warning.\n",
      "\n"
     ]
    },
    {
     "name": "stdout",
     "output_type": "stream",
     "text": [
      "Start: 337 Stop: 364\n"
     ]
    },
    {
     "name": "stderr",
     "output_type": "stream",
     "text": [
      "/home/vhepola_linux/do-env/lib/python3.10/site-packages/plotly/express/_core.py:2065: FutureWarning:\n",
      "\n",
      "When grouping with a length-1 list-like, you will need to pass a length-1 tuple to get_group in a future version of pandas. Pass `(name,)` instead of `name` to silence this warning.\n",
      "\n"
     ]
    },
    {
     "name": "stdout",
     "output_type": "stream",
     "text": [
      "Start: 425 Stop: 445\n"
     ]
    },
    {
     "name": "stderr",
     "output_type": "stream",
     "text": [
      "/home/vhepola_linux/do-env/lib/python3.10/site-packages/plotly/express/_core.py:2065: FutureWarning:\n",
      "\n",
      "When grouping with a length-1 list-like, you will need to pass a length-1 tuple to get_group in a future version of pandas. Pass `(name,)` instead of `name` to silence this warning.\n",
      "\n"
     ]
    },
    {
     "name": "stdout",
     "output_type": "stream",
     "text": [
      "Start: 441 Stop: 510\n"
     ]
    },
    {
     "name": "stderr",
     "output_type": "stream",
     "text": [
      "/home/vhepola_linux/do-env/lib/python3.10/site-packages/plotly/express/_core.py:2065: FutureWarning:\n",
      "\n",
      "When grouping with a length-1 list-like, you will need to pass a length-1 tuple to get_group in a future version of pandas. Pass `(name,)` instead of `name` to silence this warning.\n",
      "\n"
     ]
    },
    {
     "name": "stdout",
     "output_type": "stream",
     "text": [
      "Start: 527 Stop: 560\n"
     ]
    },
    {
     "name": "stderr",
     "output_type": "stream",
     "text": [
      "/home/vhepola_linux/do-env/lib/python3.10/site-packages/plotly/express/_core.py:2065: FutureWarning:\n",
      "\n",
      "When grouping with a length-1 list-like, you will need to pass a length-1 tuple to get_group in a future version of pandas. Pass `(name,)` instead of `name` to silence this warning.\n",
      "\n"
     ]
    },
    {
     "name": "stdout",
     "output_type": "stream",
     "text": [
      "Start: 568 Stop: 611\n"
     ]
    },
    {
     "name": "stderr",
     "output_type": "stream",
     "text": [
      "/home/vhepola_linux/do-env/lib/python3.10/site-packages/plotly/express/_core.py:2065: FutureWarning:\n",
      "\n",
      "When grouping with a length-1 list-like, you will need to pass a length-1 tuple to get_group in a future version of pandas. Pass `(name,)` instead of `name` to silence this warning.\n",
      "\n"
     ]
    },
    {
     "name": "stdout",
     "output_type": "stream",
     "text": [
      "Start: 633 Stop: 659\n"
     ]
    },
    {
     "name": "stderr",
     "output_type": "stream",
     "text": [
      "/home/vhepola_linux/do-env/lib/python3.10/site-packages/plotly/express/_core.py:2065: FutureWarning:\n",
      "\n",
      "When grouping with a length-1 list-like, you will need to pass a length-1 tuple to get_group in a future version of pandas. Pass `(name,)` instead of `name` to silence this warning.\n",
      "\n"
     ]
    },
    {
     "name": "stdout",
     "output_type": "stream",
     "text": [
      "Start: 750 Stop: 784\n"
     ]
    },
    {
     "name": "stderr",
     "output_type": "stream",
     "text": [
      "/home/vhepola_linux/do-env/lib/python3.10/site-packages/plotly/express/_core.py:2065: FutureWarning:\n",
      "\n",
      "When grouping with a length-1 list-like, you will need to pass a length-1 tuple to get_group in a future version of pandas. Pass `(name,)` instead of `name` to silence this warning.\n",
      "\n"
     ]
    },
    {
     "name": "stdout",
     "output_type": "stream",
     "text": [
      "Start: 806 Stop: 848\n"
     ]
    },
    {
     "name": "stderr",
     "output_type": "stream",
     "text": [
      "/home/vhepola_linux/do-env/lib/python3.10/site-packages/plotly/express/_core.py:2065: FutureWarning:\n",
      "\n",
      "When grouping with a length-1 list-like, you will need to pass a length-1 tuple to get_group in a future version of pandas. Pass `(name,)` instead of `name` to silence this warning.\n",
      "\n"
     ]
    },
    {
     "name": "stdout",
     "output_type": "stream",
     "text": [
      "Start: 850 Stop: 875\n"
     ]
    },
    {
     "name": "stderr",
     "output_type": "stream",
     "text": [
      "/home/vhepola_linux/do-env/lib/python3.10/site-packages/plotly/express/_core.py:2065: FutureWarning:\n",
      "\n",
      "When grouping with a length-1 list-like, you will need to pass a length-1 tuple to get_group in a future version of pandas. Pass `(name,)` instead of `name` to silence this warning.\n",
      "\n"
     ]
    },
    {
     "name": "stdout",
     "output_type": "stream",
     "text": [
      "Start: 1126 Stop: 1147\n"
     ]
    },
    {
     "name": "stderr",
     "output_type": "stream",
     "text": [
      "/home/vhepola_linux/do-env/lib/python3.10/site-packages/plotly/express/_core.py:2065: FutureWarning:\n",
      "\n",
      "When grouping with a length-1 list-like, you will need to pass a length-1 tuple to get_group in a future version of pandas. Pass `(name,)` instead of `name` to silence this warning.\n",
      "\n"
     ]
    },
    {
     "name": "stdout",
     "output_type": "stream",
     "text": [
      "Start: 1161 Stop: 1208\n"
     ]
    },
    {
     "name": "stderr",
     "output_type": "stream",
     "text": [
      "/home/vhepola_linux/do-env/lib/python3.10/site-packages/plotly/express/_core.py:2065: FutureWarning:\n",
      "\n",
      "When grouping with a length-1 list-like, you will need to pass a length-1 tuple to get_group in a future version of pandas. Pass `(name,)` instead of `name` to silence this warning.\n",
      "\n"
     ]
    },
    {
     "name": "stdout",
     "output_type": "stream",
     "text": [
      "Start: 1227 Stop: 1354\n"
     ]
    },
    {
     "name": "stderr",
     "output_type": "stream",
     "text": [
      "/home/vhepola_linux/do-env/lib/python3.10/site-packages/plotly/express/_core.py:2065: FutureWarning:\n",
      "\n",
      "When grouping with a length-1 list-like, you will need to pass a length-1 tuple to get_group in a future version of pandas. Pass `(name,)` instead of `name` to silence this warning.\n",
      "\n"
     ]
    },
    {
     "name": "stdout",
     "output_type": "stream",
     "text": [
      "Start: 1460 Stop: 1489\n"
     ]
    },
    {
     "name": "stderr",
     "output_type": "stream",
     "text": [
      "/home/vhepola_linux/do-env/lib/python3.10/site-packages/plotly/express/_core.py:2065: FutureWarning:\n",
      "\n",
      "When grouping with a length-1 list-like, you will need to pass a length-1 tuple to get_group in a future version of pandas. Pass `(name,)` instead of `name` to silence this warning.\n",
      "\n"
     ]
    },
    {
     "name": "stdout",
     "output_type": "stream",
     "text": [
      "Start: 1522 Stop: 1548\n"
     ]
    },
    {
     "name": "stderr",
     "output_type": "stream",
     "text": [
      "/home/vhepola_linux/do-env/lib/python3.10/site-packages/plotly/express/_core.py:2065: FutureWarning:\n",
      "\n",
      "When grouping with a length-1 list-like, you will need to pass a length-1 tuple to get_group in a future version of pandas. Pass `(name,)` instead of `name` to silence this warning.\n",
      "\n"
     ]
    },
    {
     "name": "stdout",
     "output_type": "stream",
     "text": [
      "Start: 301 Stop: 331\n"
     ]
    },
    {
     "name": "stderr",
     "output_type": "stream",
     "text": [
      "/home/vhepola_linux/do-env/lib/python3.10/site-packages/plotly/express/_core.py:2065: FutureWarning:\n",
      "\n",
      "When grouping with a length-1 list-like, you will need to pass a length-1 tuple to get_group in a future version of pandas. Pass `(name,)` instead of `name` to silence this warning.\n",
      "\n"
     ]
    },
    {
     "name": "stdout",
     "output_type": "stream",
     "text": [
      "Start: 714 Stop: 755\n"
     ]
    },
    {
     "name": "stderr",
     "output_type": "stream",
     "text": [
      "/home/vhepola_linux/do-env/lib/python3.10/site-packages/plotly/express/_core.py:2065: FutureWarning:\n",
      "\n",
      "When grouping with a length-1 list-like, you will need to pass a length-1 tuple to get_group in a future version of pandas. Pass `(name,)` instead of `name` to silence this warning.\n",
      "\n"
     ]
    },
    {
     "name": "stdout",
     "output_type": "stream",
     "text": [
      "Start: 827 Stop: 862\n"
     ]
    },
    {
     "name": "stderr",
     "output_type": "stream",
     "text": [
      "/home/vhepola_linux/do-env/lib/python3.10/site-packages/plotly/express/_core.py:2065: FutureWarning:\n",
      "\n",
      "When grouping with a length-1 list-like, you will need to pass a length-1 tuple to get_group in a future version of pandas. Pass `(name,)` instead of `name` to silence this warning.\n",
      "\n"
     ]
    },
    {
     "name": "stdout",
     "output_type": "stream",
     "text": [
      "Start: 915 Stop: 938\n"
     ]
    },
    {
     "name": "stderr",
     "output_type": "stream",
     "text": [
      "/home/vhepola_linux/do-env/lib/python3.10/site-packages/plotly/express/_core.py:2065: FutureWarning:\n",
      "\n",
      "When grouping with a length-1 list-like, you will need to pass a length-1 tuple to get_group in a future version of pandas. Pass `(name,)` instead of `name` to silence this warning.\n",
      "\n"
     ]
    },
    {
     "name": "stdout",
     "output_type": "stream",
     "text": [
      "Start: 965 Stop: 989\n"
     ]
    },
    {
     "name": "stderr",
     "output_type": "stream",
     "text": [
      "/home/vhepola_linux/do-env/lib/python3.10/site-packages/plotly/express/_core.py:2065: FutureWarning:\n",
      "\n",
      "When grouping with a length-1 list-like, you will need to pass a length-1 tuple to get_group in a future version of pandas. Pass `(name,)` instead of `name` to silence this warning.\n",
      "\n"
     ]
    },
    {
     "name": "stdout",
     "output_type": "stream",
     "text": [
      "Start: 1001 Stop: 1035\n"
     ]
    },
    {
     "name": "stderr",
     "output_type": "stream",
     "text": [
      "/home/vhepola_linux/do-env/lib/python3.10/site-packages/plotly/express/_core.py:2065: FutureWarning:\n",
      "\n",
      "When grouping with a length-1 list-like, you will need to pass a length-1 tuple to get_group in a future version of pandas. Pass `(name,)` instead of `name` to silence this warning.\n",
      "\n"
     ]
    },
    {
     "name": "stdout",
     "output_type": "stream",
     "text": [
      "Start: 1112 Stop: 1134\n"
     ]
    },
    {
     "name": "stderr",
     "output_type": "stream",
     "text": [
      "/home/vhepola_linux/do-env/lib/python3.10/site-packages/plotly/express/_core.py:2065: FutureWarning:\n",
      "\n",
      "When grouping with a length-1 list-like, you will need to pass a length-1 tuple to get_group in a future version of pandas. Pass `(name,)` instead of `name` to silence this warning.\n",
      "\n"
     ]
    },
    {
     "name": "stdout",
     "output_type": "stream",
     "text": [
      "Start: 1231 Stop: 1255\n"
     ]
    },
    {
     "name": "stderr",
     "output_type": "stream",
     "text": [
      "/home/vhepola_linux/do-env/lib/python3.10/site-packages/plotly/express/_core.py:2065: FutureWarning:\n",
      "\n",
      "When grouping with a length-1 list-like, you will need to pass a length-1 tuple to get_group in a future version of pandas. Pass `(name,)` instead of `name` to silence this warning.\n",
      "\n"
     ]
    },
    {
     "name": "stdout",
     "output_type": "stream",
     "text": [
      "Start: 1633 Stop: 1682\n"
     ]
    },
    {
     "name": "stderr",
     "output_type": "stream",
     "text": [
      "/home/vhepola_linux/do-env/lib/python3.10/site-packages/plotly/express/_core.py:2065: FutureWarning:\n",
      "\n",
      "When grouping with a length-1 list-like, you will need to pass a length-1 tuple to get_group in a future version of pandas. Pass `(name,)` instead of `name` to silence this warning.\n",
      "\n"
     ]
    },
    {
     "name": "stdout",
     "output_type": "stream",
     "text": [
      "Start: 1761 Stop: 1797\n"
     ]
    },
    {
     "name": "stderr",
     "output_type": "stream",
     "text": [
      "/home/vhepola_linux/do-env/lib/python3.10/site-packages/plotly/express/_core.py:2065: FutureWarning:\n",
      "\n",
      "When grouping with a length-1 list-like, you will need to pass a length-1 tuple to get_group in a future version of pandas. Pass `(name,)` instead of `name` to silence this warning.\n",
      "\n"
     ]
    },
    {
     "name": "stdout",
     "output_type": "stream",
     "text": [
      "Start: 1812 Stop: 1864\n"
     ]
    },
    {
     "name": "stderr",
     "output_type": "stream",
     "text": [
      "/home/vhepola_linux/do-env/lib/python3.10/site-packages/plotly/express/_core.py:2065: FutureWarning:\n",
      "\n",
      "When grouping with a length-1 list-like, you will need to pass a length-1 tuple to get_group in a future version of pandas. Pass `(name,)` instead of `name` to silence this warning.\n",
      "\n"
     ]
    },
    {
     "name": "stdout",
     "output_type": "stream",
     "text": [
      "Start: 1871 Stop: 1920\n"
     ]
    },
    {
     "name": "stderr",
     "output_type": "stream",
     "text": [
      "/home/vhepola_linux/do-env/lib/python3.10/site-packages/plotly/express/_core.py:2065: FutureWarning:\n",
      "\n",
      "When grouping with a length-1 list-like, you will need to pass a length-1 tuple to get_group in a future version of pandas. Pass `(name,)` instead of `name` to silence this warning.\n",
      "\n"
     ]
    },
    {
     "name": "stdout",
     "output_type": "stream",
     "text": [
      "Start: 220 Stop: 268\n"
     ]
    },
    {
     "name": "stderr",
     "output_type": "stream",
     "text": [
      "/home/vhepola_linux/do-env/lib/python3.10/site-packages/plotly/express/_core.py:2065: FutureWarning:\n",
      "\n",
      "When grouping with a length-1 list-like, you will need to pass a length-1 tuple to get_group in a future version of pandas. Pass `(name,)` instead of `name` to silence this warning.\n",
      "\n"
     ]
    },
    {
     "name": "stdout",
     "output_type": "stream",
     "text": [
      "Start: 826 Stop: 868\n"
     ]
    },
    {
     "name": "stderr",
     "output_type": "stream",
     "text": [
      "/home/vhepola_linux/do-env/lib/python3.10/site-packages/plotly/express/_core.py:2065: FutureWarning:\n",
      "\n",
      "When grouping with a length-1 list-like, you will need to pass a length-1 tuple to get_group in a future version of pandas. Pass `(name,)` instead of `name` to silence this warning.\n",
      "\n"
     ]
    },
    {
     "name": "stdout",
     "output_type": "stream",
     "text": [
      "Start: 1337 Stop: 1355\n"
     ]
    },
    {
     "name": "stderr",
     "output_type": "stream",
     "text": [
      "/home/vhepola_linux/do-env/lib/python3.10/site-packages/plotly/express/_core.py:2065: FutureWarning:\n",
      "\n",
      "When grouping with a length-1 list-like, you will need to pass a length-1 tuple to get_group in a future version of pandas. Pass `(name,)` instead of `name` to silence this warning.\n",
      "\n"
     ]
    },
    {
     "name": "stdout",
     "output_type": "stream",
     "text": [
      "Start: 1488 Stop: 1506\n"
     ]
    },
    {
     "name": "stderr",
     "output_type": "stream",
     "text": [
      "/home/vhepola_linux/do-env/lib/python3.10/site-packages/plotly/express/_core.py:2065: FutureWarning:\n",
      "\n",
      "When grouping with a length-1 list-like, you will need to pass a length-1 tuple to get_group in a future version of pandas. Pass `(name,)` instead of `name` to silence this warning.\n",
      "\n"
     ]
    },
    {
     "name": "stdout",
     "output_type": "stream",
     "text": [
      "Start: 1580 Stop: 1621\n"
     ]
    },
    {
     "name": "stderr",
     "output_type": "stream",
     "text": [
      "/home/vhepola_linux/do-env/lib/python3.10/site-packages/plotly/express/_core.py:2065: FutureWarning:\n",
      "\n",
      "When grouping with a length-1 list-like, you will need to pass a length-1 tuple to get_group in a future version of pandas. Pass `(name,)` instead of `name` to silence this warning.\n",
      "\n"
     ]
    },
    {
     "name": "stdout",
     "output_type": "stream",
     "text": [
      "Start: 1752 Stop: 1780\n"
     ]
    },
    {
     "name": "stderr",
     "output_type": "stream",
     "text": [
      "/home/vhepola_linux/do-env/lib/python3.10/site-packages/plotly/express/_core.py:2065: FutureWarning:\n",
      "\n",
      "When grouping with a length-1 list-like, you will need to pass a length-1 tuple to get_group in a future version of pandas. Pass `(name,)` instead of `name` to silence this warning.\n",
      "\n"
     ]
    },
    {
     "name": "stdout",
     "output_type": "stream",
     "text": [
      "Start: 66 Stop: 194\n"
     ]
    },
    {
     "name": "stderr",
     "output_type": "stream",
     "text": [
      "/home/vhepola_linux/do-env/lib/python3.10/site-packages/plotly/express/_core.py:2065: FutureWarning:\n",
      "\n",
      "When grouping with a length-1 list-like, you will need to pass a length-1 tuple to get_group in a future version of pandas. Pass `(name,)` instead of `name` to silence this warning.\n",
      "\n"
     ]
    },
    {
     "name": "stdout",
     "output_type": "stream",
     "text": [
      "Start: 193 Stop: 253\n"
     ]
    },
    {
     "name": "stderr",
     "output_type": "stream",
     "text": [
      "/home/vhepola_linux/do-env/lib/python3.10/site-packages/plotly/express/_core.py:2065: FutureWarning:\n",
      "\n",
      "When grouping with a length-1 list-like, you will need to pass a length-1 tuple to get_group in a future version of pandas. Pass `(name,)` instead of `name` to silence this warning.\n",
      "\n"
     ]
    },
    {
     "name": "stdout",
     "output_type": "stream",
     "text": [
      "Start: 304 Stop: 331\n"
     ]
    },
    {
     "name": "stderr",
     "output_type": "stream",
     "text": [
      "/home/vhepola_linux/do-env/lib/python3.10/site-packages/plotly/express/_core.py:2065: FutureWarning:\n",
      "\n",
      "When grouping with a length-1 list-like, you will need to pass a length-1 tuple to get_group in a future version of pandas. Pass `(name,)` instead of `name` to silence this warning.\n",
      "\n"
     ]
    },
    {
     "name": "stdout",
     "output_type": "stream",
     "text": [
      "Start: 470 Stop: 716\n"
     ]
    },
    {
     "name": "stderr",
     "output_type": "stream",
     "text": [
      "/home/vhepola_linux/do-env/lib/python3.10/site-packages/plotly/express/_core.py:2065: FutureWarning:\n",
      "\n",
      "When grouping with a length-1 list-like, you will need to pass a length-1 tuple to get_group in a future version of pandas. Pass `(name,)` instead of `name` to silence this warning.\n",
      "\n"
     ]
    },
    {
     "name": "stdout",
     "output_type": "stream",
     "text": [
      "Start: 1142 Stop: 1169\n"
     ]
    },
    {
     "name": "stderr",
     "output_type": "stream",
     "text": [
      "/home/vhepola_linux/do-env/lib/python3.10/site-packages/plotly/express/_core.py:2065: FutureWarning:\n",
      "\n",
      "When grouping with a length-1 list-like, you will need to pass a length-1 tuple to get_group in a future version of pandas. Pass `(name,)` instead of `name` to silence this warning.\n",
      "\n"
     ]
    },
    {
     "name": "stdout",
     "output_type": "stream",
     "text": [
      "Start: 1313 Stop: 1377\n"
     ]
    },
    {
     "name": "stderr",
     "output_type": "stream",
     "text": [
      "/home/vhepola_linux/do-env/lib/python3.10/site-packages/plotly/express/_core.py:2065: FutureWarning:\n",
      "\n",
      "When grouping with a length-1 list-like, you will need to pass a length-1 tuple to get_group in a future version of pandas. Pass `(name,)` instead of `name` to silence this warning.\n",
      "\n"
     ]
    },
    {
     "name": "stdout",
     "output_type": "stream",
     "text": [
      "Start: 1452 Stop: 1477\n"
     ]
    },
    {
     "name": "stderr",
     "output_type": "stream",
     "text": [
      "/home/vhepola_linux/do-env/lib/python3.10/site-packages/plotly/express/_core.py:2065: FutureWarning:\n",
      "\n",
      "When grouping with a length-1 list-like, you will need to pass a length-1 tuple to get_group in a future version of pandas. Pass `(name,)` instead of `name` to silence this warning.\n",
      "\n"
     ]
    },
    {
     "name": "stdout",
     "output_type": "stream",
     "text": [
      "Start: 1847 Stop: 1902\n"
     ]
    },
    {
     "name": "stderr",
     "output_type": "stream",
     "text": [
      "/home/vhepola_linux/do-env/lib/python3.10/site-packages/plotly/express/_core.py:2065: FutureWarning:\n",
      "\n",
      "When grouping with a length-1 list-like, you will need to pass a length-1 tuple to get_group in a future version of pandas. Pass `(name,)` instead of `name` to silence this warning.\n",
      "\n"
     ]
    },
    {
     "name": "stdout",
     "output_type": "stream",
     "text": [
      "Start: 29 Stop: 48\n"
     ]
    },
    {
     "name": "stderr",
     "output_type": "stream",
     "text": [
      "/home/vhepola_linux/do-env/lib/python3.10/site-packages/plotly/express/_core.py:2065: FutureWarning:\n",
      "\n",
      "When grouping with a length-1 list-like, you will need to pass a length-1 tuple to get_group in a future version of pandas. Pass `(name,)` instead of `name` to silence this warning.\n",
      "\n"
     ]
    },
    {
     "name": "stdout",
     "output_type": "stream",
     "text": [
      "Start: 127 Stop: 217\n"
     ]
    },
    {
     "name": "stderr",
     "output_type": "stream",
     "text": [
      "/home/vhepola_linux/do-env/lib/python3.10/site-packages/plotly/express/_core.py:2065: FutureWarning:\n",
      "\n",
      "When grouping with a length-1 list-like, you will need to pass a length-1 tuple to get_group in a future version of pandas. Pass `(name,)` instead of `name` to silence this warning.\n",
      "\n"
     ]
    },
    {
     "name": "stdout",
     "output_type": "stream",
     "text": [
      "Start: 266 Stop: 303\n"
     ]
    },
    {
     "name": "stderr",
     "output_type": "stream",
     "text": [
      "/home/vhepola_linux/do-env/lib/python3.10/site-packages/plotly/express/_core.py:2065: FutureWarning:\n",
      "\n",
      "When grouping with a length-1 list-like, you will need to pass a length-1 tuple to get_group in a future version of pandas. Pass `(name,)` instead of `name` to silence this warning.\n",
      "\n"
     ]
    },
    {
     "name": "stdout",
     "output_type": "stream",
     "text": [
      "Start: 310 Stop: 329\n"
     ]
    },
    {
     "name": "stderr",
     "output_type": "stream",
     "text": [
      "/home/vhepola_linux/do-env/lib/python3.10/site-packages/plotly/express/_core.py:2065: FutureWarning:\n",
      "\n",
      "When grouping with a length-1 list-like, you will need to pass a length-1 tuple to get_group in a future version of pandas. Pass `(name,)` instead of `name` to silence this warning.\n",
      "\n"
     ]
    },
    {
     "name": "stdout",
     "output_type": "stream",
     "text": [
      "Start: 464 Stop: 554\n"
     ]
    },
    {
     "name": "stderr",
     "output_type": "stream",
     "text": [
      "/home/vhepola_linux/do-env/lib/python3.10/site-packages/plotly/express/_core.py:2065: FutureWarning:\n",
      "\n",
      "When grouping with a length-1 list-like, you will need to pass a length-1 tuple to get_group in a future version of pandas. Pass `(name,)` instead of `name` to silence this warning.\n",
      "\n"
     ]
    },
    {
     "name": "stdout",
     "output_type": "stream",
     "text": [
      "Start: 609 Stop: 629\n"
     ]
    },
    {
     "name": "stderr",
     "output_type": "stream",
     "text": [
      "/home/vhepola_linux/do-env/lib/python3.10/site-packages/plotly/express/_core.py:2065: FutureWarning:\n",
      "\n",
      "When grouping with a length-1 list-like, you will need to pass a length-1 tuple to get_group in a future version of pandas. Pass `(name,)` instead of `name` to silence this warning.\n",
      "\n"
     ]
    },
    {
     "name": "stdout",
     "output_type": "stream",
     "text": [
      "Start: 1230 Stop: 1304\n"
     ]
    },
    {
     "name": "stderr",
     "output_type": "stream",
     "text": [
      "/home/vhepola_linux/do-env/lib/python3.10/site-packages/plotly/express/_core.py:2065: FutureWarning:\n",
      "\n",
      "When grouping with a length-1 list-like, you will need to pass a length-1 tuple to get_group in a future version of pandas. Pass `(name,)` instead of `name` to silence this warning.\n",
      "\n"
     ]
    },
    {
     "name": "stdout",
     "output_type": "stream",
     "text": [
      "Start: 1321 Stop: 1390\n"
     ]
    },
    {
     "name": "stderr",
     "output_type": "stream",
     "text": [
      "/home/vhepola_linux/do-env/lib/python3.10/site-packages/plotly/express/_core.py:2065: FutureWarning:\n",
      "\n",
      "When grouping with a length-1 list-like, you will need to pass a length-1 tuple to get_group in a future version of pandas. Pass `(name,)` instead of `name` to silence this warning.\n",
      "\n"
     ]
    },
    {
     "name": "stdout",
     "output_type": "stream",
     "text": [
      "Start: 1405 Stop: 1425\n"
     ]
    },
    {
     "name": "stderr",
     "output_type": "stream",
     "text": [
      "/home/vhepola_linux/do-env/lib/python3.10/site-packages/plotly/express/_core.py:2065: FutureWarning:\n",
      "\n",
      "When grouping with a length-1 list-like, you will need to pass a length-1 tuple to get_group in a future version of pandas. Pass `(name,)` instead of `name` to silence this warning.\n",
      "\n"
     ]
    },
    {
     "name": "stdout",
     "output_type": "stream",
     "text": [
      "Start: 1785 Stop: 1846\n"
     ]
    },
    {
     "name": "stderr",
     "output_type": "stream",
     "text": [
      "/home/vhepola_linux/do-env/lib/python3.10/site-packages/plotly/express/_core.py:2065: FutureWarning:\n",
      "\n",
      "When grouping with a length-1 list-like, you will need to pass a length-1 tuple to get_group in a future version of pandas. Pass `(name,)` instead of `name` to silence this warning.\n",
      "\n"
     ]
    },
    {
     "name": "stdout",
     "output_type": "stream",
     "text": [
      "Start: 333 Stop: 374\n"
     ]
    },
    {
     "name": "stderr",
     "output_type": "stream",
     "text": [
      "/home/vhepola_linux/do-env/lib/python3.10/site-packages/plotly/express/_core.py:2065: FutureWarning:\n",
      "\n",
      "When grouping with a length-1 list-like, you will need to pass a length-1 tuple to get_group in a future version of pandas. Pass `(name,)` instead of `name` to silence this warning.\n",
      "\n"
     ]
    },
    {
     "name": "stdout",
     "output_type": "stream",
     "text": [
      "Start: 397 Stop: 428\n"
     ]
    },
    {
     "name": "stderr",
     "output_type": "stream",
     "text": [
      "/home/vhepola_linux/do-env/lib/python3.10/site-packages/plotly/express/_core.py:2065: FutureWarning:\n",
      "\n",
      "When grouping with a length-1 list-like, you will need to pass a length-1 tuple to get_group in a future version of pandas. Pass `(name,)` instead of `name` to silence this warning.\n",
      "\n"
     ]
    },
    {
     "name": "stdout",
     "output_type": "stream",
     "text": [
      "Start: 685 Stop: 725\n"
     ]
    },
    {
     "name": "stderr",
     "output_type": "stream",
     "text": [
      "/home/vhepola_linux/do-env/lib/python3.10/site-packages/plotly/express/_core.py:2065: FutureWarning:\n",
      "\n",
      "When grouping with a length-1 list-like, you will need to pass a length-1 tuple to get_group in a future version of pandas. Pass `(name,)` instead of `name` to silence this warning.\n",
      "\n"
     ]
    },
    {
     "name": "stdout",
     "output_type": "stream",
     "text": [
      "Start: 758 Stop: 804\n"
     ]
    },
    {
     "name": "stderr",
     "output_type": "stream",
     "text": [
      "/home/vhepola_linux/do-env/lib/python3.10/site-packages/plotly/express/_core.py:2065: FutureWarning:\n",
      "\n",
      "When grouping with a length-1 list-like, you will need to pass a length-1 tuple to get_group in a future version of pandas. Pass `(name,)` instead of `name` to silence this warning.\n",
      "\n"
     ]
    },
    {
     "name": "stdout",
     "output_type": "stream",
     "text": [
      "Start: 996 Stop: 1037\n"
     ]
    },
    {
     "name": "stderr",
     "output_type": "stream",
     "text": [
      "/home/vhepola_linux/do-env/lib/python3.10/site-packages/plotly/express/_core.py:2065: FutureWarning:\n",
      "\n",
      "When grouping with a length-1 list-like, you will need to pass a length-1 tuple to get_group in a future version of pandas. Pass `(name,)` instead of `name` to silence this warning.\n",
      "\n"
     ]
    },
    {
     "name": "stdout",
     "output_type": "stream",
     "text": [
      "Start: 1036 Stop: 1136\n"
     ]
    },
    {
     "name": "stderr",
     "output_type": "stream",
     "text": [
      "/home/vhepola_linux/do-env/lib/python3.10/site-packages/plotly/express/_core.py:2065: FutureWarning:\n",
      "\n",
      "When grouping with a length-1 list-like, you will need to pass a length-1 tuple to get_group in a future version of pandas. Pass `(name,)` instead of `name` to silence this warning.\n",
      "\n"
     ]
    },
    {
     "name": "stdout",
     "output_type": "stream",
     "text": [
      "Start: 1163 Stop: 1180\n"
     ]
    },
    {
     "name": "stderr",
     "output_type": "stream",
     "text": [
      "/home/vhepola_linux/do-env/lib/python3.10/site-packages/plotly/express/_core.py:2065: FutureWarning:\n",
      "\n",
      "When grouping with a length-1 list-like, you will need to pass a length-1 tuple to get_group in a future version of pandas. Pass `(name,)` instead of `name` to silence this warning.\n",
      "\n"
     ]
    },
    {
     "name": "stdout",
     "output_type": "stream",
     "text": [
      "Start: 1244 Stop: 1304\n"
     ]
    },
    {
     "name": "stderr",
     "output_type": "stream",
     "text": [
      "/home/vhepola_linux/do-env/lib/python3.10/site-packages/plotly/express/_core.py:2065: FutureWarning:\n",
      "\n",
      "When grouping with a length-1 list-like, you will need to pass a length-1 tuple to get_group in a future version of pandas. Pass `(name,)` instead of `name` to silence this warning.\n",
      "\n"
     ]
    },
    {
     "name": "stdout",
     "output_type": "stream",
     "text": [
      "Start: 1497 Stop: 1530\n"
     ]
    },
    {
     "name": "stderr",
     "output_type": "stream",
     "text": [
      "/home/vhepola_linux/do-env/lib/python3.10/site-packages/plotly/express/_core.py:2065: FutureWarning:\n",
      "\n",
      "When grouping with a length-1 list-like, you will need to pass a length-1 tuple to get_group in a future version of pandas. Pass `(name,)` instead of `name` to silence this warning.\n",
      "\n"
     ]
    },
    {
     "name": "stdout",
     "output_type": "stream",
     "text": [
      "Start: 1582 Stop: 1609\n"
     ]
    },
    {
     "name": "stderr",
     "output_type": "stream",
     "text": [
      "/home/vhepola_linux/do-env/lib/python3.10/site-packages/plotly/express/_core.py:2065: FutureWarning:\n",
      "\n",
      "When grouping with a length-1 list-like, you will need to pass a length-1 tuple to get_group in a future version of pandas. Pass `(name,)` instead of `name` to silence this warning.\n",
      "\n"
     ]
    },
    {
     "name": "stdout",
     "output_type": "stream",
     "text": [
      "Start: 1616 Stop: 1733\n"
     ]
    },
    {
     "name": "stderr",
     "output_type": "stream",
     "text": [
      "/home/vhepola_linux/do-env/lib/python3.10/site-packages/plotly/express/_core.py:2065: FutureWarning:\n",
      "\n",
      "When grouping with a length-1 list-like, you will need to pass a length-1 tuple to get_group in a future version of pandas. Pass `(name,)` instead of `name` to silence this warning.\n",
      "\n"
     ]
    },
    {
     "name": "stdout",
     "output_type": "stream",
     "text": [
      "Start: 1874 Stop: 1904\n"
     ]
    },
    {
     "name": "stderr",
     "output_type": "stream",
     "text": [
      "/home/vhepola_linux/do-env/lib/python3.10/site-packages/plotly/express/_core.py:2065: FutureWarning:\n",
      "\n",
      "When grouping with a length-1 list-like, you will need to pass a length-1 tuple to get_group in a future version of pandas. Pass `(name,)` instead of `name` to silence this warning.\n",
      "\n"
     ]
    },
    {
     "name": "stdout",
     "output_type": "stream",
     "text": [
      "Start: 496 Stop: 544\n"
     ]
    },
    {
     "name": "stderr",
     "output_type": "stream",
     "text": [
      "/home/vhepola_linux/do-env/lib/python3.10/site-packages/plotly/express/_core.py:2065: FutureWarning:\n",
      "\n",
      "When grouping with a length-1 list-like, you will need to pass a length-1 tuple to get_group in a future version of pandas. Pass `(name,)` instead of `name` to silence this warning.\n",
      "\n"
     ]
    },
    {
     "name": "stdout",
     "output_type": "stream",
     "text": [
      "Start: 40 Stop: 67\n"
     ]
    },
    {
     "name": "stderr",
     "output_type": "stream",
     "text": [
      "/home/vhepola_linux/do-env/lib/python3.10/site-packages/plotly/express/_core.py:2065: FutureWarning:\n",
      "\n",
      "When grouping with a length-1 list-like, you will need to pass a length-1 tuple to get_group in a future version of pandas. Pass `(name,)` instead of `name` to silence this warning.\n",
      "\n"
     ]
    },
    {
     "name": "stdout",
     "output_type": "stream",
     "text": [
      "Start: 421 Stop: 445\n"
     ]
    },
    {
     "name": "stderr",
     "output_type": "stream",
     "text": [
      "/home/vhepola_linux/do-env/lib/python3.10/site-packages/plotly/express/_core.py:2065: FutureWarning:\n",
      "\n",
      "When grouping with a length-1 list-like, you will need to pass a length-1 tuple to get_group in a future version of pandas. Pass `(name,)` instead of `name` to silence this warning.\n",
      "\n"
     ]
    },
    {
     "name": "stdout",
     "output_type": "stream",
     "text": [
      "Start: 626 Stop: 652\n"
     ]
    },
    {
     "name": "stderr",
     "output_type": "stream",
     "text": [
      "/home/vhepola_linux/do-env/lib/python3.10/site-packages/plotly/express/_core.py:2065: FutureWarning:\n",
      "\n",
      "When grouping with a length-1 list-like, you will need to pass a length-1 tuple to get_group in a future version of pandas. Pass `(name,)` instead of `name` to silence this warning.\n",
      "\n"
     ]
    },
    {
     "name": "stdout",
     "output_type": "stream",
     "text": [
      "Start: 645 Stop: 666\n"
     ]
    },
    {
     "name": "stderr",
     "output_type": "stream",
     "text": [
      "/home/vhepola_linux/do-env/lib/python3.10/site-packages/plotly/express/_core.py:2065: FutureWarning:\n",
      "\n",
      "When grouping with a length-1 list-like, you will need to pass a length-1 tuple to get_group in a future version of pandas. Pass `(name,)` instead of `name` to silence this warning.\n",
      "\n"
     ]
    },
    {
     "name": "stdout",
     "output_type": "stream",
     "text": [
      "Start: 1033 Stop: 1075\n"
     ]
    },
    {
     "name": "stderr",
     "output_type": "stream",
     "text": [
      "/home/vhepola_linux/do-env/lib/python3.10/site-packages/plotly/express/_core.py:2065: FutureWarning:\n",
      "\n",
      "When grouping with a length-1 list-like, you will need to pass a length-1 tuple to get_group in a future version of pandas. Pass `(name,)` instead of `name` to silence this warning.\n",
      "\n"
     ]
    },
    {
     "name": "stdout",
     "output_type": "stream",
     "text": [
      "Start: 1178 Stop: 1223\n"
     ]
    },
    {
     "name": "stderr",
     "output_type": "stream",
     "text": [
      "/home/vhepola_linux/do-env/lib/python3.10/site-packages/plotly/express/_core.py:2065: FutureWarning:\n",
      "\n",
      "When grouping with a length-1 list-like, you will need to pass a length-1 tuple to get_group in a future version of pandas. Pass `(name,)` instead of `name` to silence this warning.\n",
      "\n"
     ]
    },
    {
     "name": "stdout",
     "output_type": "stream",
     "text": [
      "Start: 1254 Stop: 1274\n"
     ]
    },
    {
     "name": "stderr",
     "output_type": "stream",
     "text": [
      "/home/vhepola_linux/do-env/lib/python3.10/site-packages/plotly/express/_core.py:2065: FutureWarning:\n",
      "\n",
      "When grouping with a length-1 list-like, you will need to pass a length-1 tuple to get_group in a future version of pandas. Pass `(name,)` instead of `name` to silence this warning.\n",
      "\n"
     ]
    },
    {
     "name": "stdout",
     "output_type": "stream",
     "text": [
      "Start: 1330 Stop: 1358\n"
     ]
    },
    {
     "name": "stderr",
     "output_type": "stream",
     "text": [
      "/home/vhepola_linux/do-env/lib/python3.10/site-packages/plotly/express/_core.py:2065: FutureWarning:\n",
      "\n",
      "When grouping with a length-1 list-like, you will need to pass a length-1 tuple to get_group in a future version of pandas. Pass `(name,)` instead of `name` to silence this warning.\n",
      "\n"
     ]
    },
    {
     "name": "stdout",
     "output_type": "stream",
     "text": [
      "Start: 1426 Stop: 1446\n"
     ]
    },
    {
     "name": "stderr",
     "output_type": "stream",
     "text": [
      "/home/vhepola_linux/do-env/lib/python3.10/site-packages/plotly/express/_core.py:2065: FutureWarning:\n",
      "\n",
      "When grouping with a length-1 list-like, you will need to pass a length-1 tuple to get_group in a future version of pandas. Pass `(name,)` instead of `name` to silence this warning.\n",
      "\n"
     ]
    },
    {
     "name": "stdout",
     "output_type": "stream",
     "text": [
      "Start: 1746 Stop: 1839\n"
     ]
    },
    {
     "name": "stderr",
     "output_type": "stream",
     "text": [
      "/home/vhepola_linux/do-env/lib/python3.10/site-packages/plotly/express/_core.py:2065: FutureWarning:\n",
      "\n",
      "When grouping with a length-1 list-like, you will need to pass a length-1 tuple to get_group in a future version of pandas. Pass `(name,)` instead of `name` to silence this warning.\n",
      "\n"
     ]
    },
    {
     "name": "stdout",
     "output_type": "stream",
     "text": [
      "Start: 69 Stop: 88\n"
     ]
    },
    {
     "name": "stderr",
     "output_type": "stream",
     "text": [
      "/home/vhepola_linux/do-env/lib/python3.10/site-packages/plotly/express/_core.py:2065: FutureWarning:\n",
      "\n",
      "When grouping with a length-1 list-like, you will need to pass a length-1 tuple to get_group in a future version of pandas. Pass `(name,)` instead of `name` to silence this warning.\n",
      "\n"
     ]
    },
    {
     "name": "stdout",
     "output_type": "stream",
     "text": [
      "Start: 139 Stop: 184\n"
     ]
    },
    {
     "name": "stderr",
     "output_type": "stream",
     "text": [
      "/home/vhepola_linux/do-env/lib/python3.10/site-packages/plotly/express/_core.py:2065: FutureWarning:\n",
      "\n",
      "When grouping with a length-1 list-like, you will need to pass a length-1 tuple to get_group in a future version of pandas. Pass `(name,)` instead of `name` to silence this warning.\n",
      "\n"
     ]
    },
    {
     "name": "stdout",
     "output_type": "stream",
     "text": [
      "Start: 315 Stop: 365\n"
     ]
    },
    {
     "name": "stderr",
     "output_type": "stream",
     "text": [
      "/home/vhepola_linux/do-env/lib/python3.10/site-packages/plotly/express/_core.py:2065: FutureWarning:\n",
      "\n",
      "When grouping with a length-1 list-like, you will need to pass a length-1 tuple to get_group in a future version of pandas. Pass `(name,)` instead of `name` to silence this warning.\n",
      "\n"
     ]
    },
    {
     "name": "stdout",
     "output_type": "stream",
     "text": [
      "Start: 378 Stop: 395\n"
     ]
    },
    {
     "name": "stderr",
     "output_type": "stream",
     "text": [
      "/home/vhepola_linux/do-env/lib/python3.10/site-packages/plotly/express/_core.py:2065: FutureWarning:\n",
      "\n",
      "When grouping with a length-1 list-like, you will need to pass a length-1 tuple to get_group in a future version of pandas. Pass `(name,)` instead of `name` to silence this warning.\n",
      "\n"
     ]
    },
    {
     "name": "stdout",
     "output_type": "stream",
     "text": [
      "Start: 390 Stop: 415\n"
     ]
    },
    {
     "name": "stderr",
     "output_type": "stream",
     "text": [
      "/home/vhepola_linux/do-env/lib/python3.10/site-packages/plotly/express/_core.py:2065: FutureWarning:\n",
      "\n",
      "When grouping with a length-1 list-like, you will need to pass a length-1 tuple to get_group in a future version of pandas. Pass `(name,)` instead of `name` to silence this warning.\n",
      "\n"
     ]
    },
    {
     "name": "stdout",
     "output_type": "stream",
     "text": [
      "Start: 413 Stop: 430\n"
     ]
    },
    {
     "name": "stderr",
     "output_type": "stream",
     "text": [
      "/home/vhepola_linux/do-env/lib/python3.10/site-packages/plotly/express/_core.py:2065: FutureWarning:\n",
      "\n",
      "When grouping with a length-1 list-like, you will need to pass a length-1 tuple to get_group in a future version of pandas. Pass `(name,)` instead of `name` to silence this warning.\n",
      "\n"
     ]
    },
    {
     "name": "stdout",
     "output_type": "stream",
     "text": [
      "Start: 431 Stop: 487\n"
     ]
    },
    {
     "name": "stderr",
     "output_type": "stream",
     "text": [
      "/home/vhepola_linux/do-env/lib/python3.10/site-packages/plotly/express/_core.py:2065: FutureWarning:\n",
      "\n",
      "When grouping with a length-1 list-like, you will need to pass a length-1 tuple to get_group in a future version of pandas. Pass `(name,)` instead of `name` to silence this warning.\n",
      "\n"
     ]
    },
    {
     "name": "stdout",
     "output_type": "stream",
     "text": [
      "Start: 528 Stop: 550\n"
     ]
    },
    {
     "name": "stderr",
     "output_type": "stream",
     "text": [
      "/home/vhepola_linux/do-env/lib/python3.10/site-packages/plotly/express/_core.py:2065: FutureWarning:\n",
      "\n",
      "When grouping with a length-1 list-like, you will need to pass a length-1 tuple to get_group in a future version of pandas. Pass `(name,)` instead of `name` to silence this warning.\n",
      "\n"
     ]
    },
    {
     "name": "stdout",
     "output_type": "stream",
     "text": [
      "Start: 554 Stop: 609\n"
     ]
    },
    {
     "name": "stderr",
     "output_type": "stream",
     "text": [
      "/home/vhepola_linux/do-env/lib/python3.10/site-packages/plotly/express/_core.py:2065: FutureWarning:\n",
      "\n",
      "When grouping with a length-1 list-like, you will need to pass a length-1 tuple to get_group in a future version of pandas. Pass `(name,)` instead of `name` to silence this warning.\n",
      "\n"
     ]
    },
    {
     "name": "stdout",
     "output_type": "stream",
     "text": [
      "Start: 648 Stop: 769\n"
     ]
    },
    {
     "name": "stderr",
     "output_type": "stream",
     "text": [
      "/home/vhepola_linux/do-env/lib/python3.10/site-packages/plotly/express/_core.py:2065: FutureWarning:\n",
      "\n",
      "When grouping with a length-1 list-like, you will need to pass a length-1 tuple to get_group in a future version of pandas. Pass `(name,)` instead of `name` to silence this warning.\n",
      "\n"
     ]
    },
    {
     "name": "stdout",
     "output_type": "stream",
     "text": [
      "Start: 797 Stop: 818\n"
     ]
    },
    {
     "name": "stderr",
     "output_type": "stream",
     "text": [
      "/home/vhepola_linux/do-env/lib/python3.10/site-packages/plotly/express/_core.py:2065: FutureWarning:\n",
      "\n",
      "When grouping with a length-1 list-like, you will need to pass a length-1 tuple to get_group in a future version of pandas. Pass `(name,)` instead of `name` to silence this warning.\n",
      "\n"
     ]
    },
    {
     "name": "stdout",
     "output_type": "stream",
     "text": [
      "Start: 1034 Stop: 1054\n"
     ]
    },
    {
     "name": "stderr",
     "output_type": "stream",
     "text": [
      "/home/vhepola_linux/do-env/lib/python3.10/site-packages/plotly/express/_core.py:2065: FutureWarning:\n",
      "\n",
      "When grouping with a length-1 list-like, you will need to pass a length-1 tuple to get_group in a future version of pandas. Pass `(name,)` instead of `name` to silence this warning.\n",
      "\n"
     ]
    },
    {
     "name": "stdout",
     "output_type": "stream",
     "text": [
      "Start: 1054 Stop: 1072\n"
     ]
    },
    {
     "name": "stderr",
     "output_type": "stream",
     "text": [
      "/home/vhepola_linux/do-env/lib/python3.10/site-packages/plotly/express/_core.py:2065: FutureWarning:\n",
      "\n",
      "When grouping with a length-1 list-like, you will need to pass a length-1 tuple to get_group in a future version of pandas. Pass `(name,)` instead of `name` to silence this warning.\n",
      "\n"
     ]
    },
    {
     "name": "stdout",
     "output_type": "stream",
     "text": [
      "Start: 1078 Stop: 1179\n"
     ]
    },
    {
     "name": "stderr",
     "output_type": "stream",
     "text": [
      "/home/vhepola_linux/do-env/lib/python3.10/site-packages/plotly/express/_core.py:2065: FutureWarning:\n",
      "\n",
      "When grouping with a length-1 list-like, you will need to pass a length-1 tuple to get_group in a future version of pandas. Pass `(name,)` instead of `name` to silence this warning.\n",
      "\n"
     ]
    },
    {
     "name": "stdout",
     "output_type": "stream",
     "text": [
      "Start: 1316 Stop: 1339\n"
     ]
    },
    {
     "name": "stderr",
     "output_type": "stream",
     "text": [
      "/home/vhepola_linux/do-env/lib/python3.10/site-packages/plotly/express/_core.py:2065: FutureWarning:\n",
      "\n",
      "When grouping with a length-1 list-like, you will need to pass a length-1 tuple to get_group in a future version of pandas. Pass `(name,)` instead of `name` to silence this warning.\n",
      "\n"
     ]
    },
    {
     "name": "stdout",
     "output_type": "stream",
     "text": [
      "Start: 1352 Stop: 1384\n"
     ]
    },
    {
     "name": "stderr",
     "output_type": "stream",
     "text": [
      "/home/vhepola_linux/do-env/lib/python3.10/site-packages/plotly/express/_core.py:2065: FutureWarning:\n",
      "\n",
      "When grouping with a length-1 list-like, you will need to pass a length-1 tuple to get_group in a future version of pandas. Pass `(name,)` instead of `name` to silence this warning.\n",
      "\n"
     ]
    },
    {
     "name": "stdout",
     "output_type": "stream",
     "text": [
      "Start: 1423 Stop: 1458\n"
     ]
    },
    {
     "name": "stderr",
     "output_type": "stream",
     "text": [
      "/home/vhepola_linux/do-env/lib/python3.10/site-packages/plotly/express/_core.py:2065: FutureWarning:\n",
      "\n",
      "When grouping with a length-1 list-like, you will need to pass a length-1 tuple to get_group in a future version of pandas. Pass `(name,)` instead of `name` to silence this warning.\n",
      "\n"
     ]
    },
    {
     "name": "stdout",
     "output_type": "stream",
     "text": [
      "Start: 1468 Stop: 1489\n"
     ]
    },
    {
     "name": "stderr",
     "output_type": "stream",
     "text": [
      "/home/vhepola_linux/do-env/lib/python3.10/site-packages/plotly/express/_core.py:2065: FutureWarning:\n",
      "\n",
      "When grouping with a length-1 list-like, you will need to pass a length-1 tuple to get_group in a future version of pandas. Pass `(name,)` instead of `name` to silence this warning.\n",
      "\n"
     ]
    },
    {
     "name": "stdout",
     "output_type": "stream",
     "text": [
      "Start: 316 Stop: 349\n"
     ]
    },
    {
     "name": "stderr",
     "output_type": "stream",
     "text": [
      "/home/vhepola_linux/do-env/lib/python3.10/site-packages/plotly/express/_core.py:2065: FutureWarning:\n",
      "\n",
      "When grouping with a length-1 list-like, you will need to pass a length-1 tuple to get_group in a future version of pandas. Pass `(name,)` instead of `name` to silence this warning.\n",
      "\n"
     ]
    },
    {
     "name": "stdout",
     "output_type": "stream",
     "text": [
      "Start: 460 Stop: 595\n"
     ]
    },
    {
     "name": "stderr",
     "output_type": "stream",
     "text": [
      "/home/vhepola_linux/do-env/lib/python3.10/site-packages/plotly/express/_core.py:2065: FutureWarning:\n",
      "\n",
      "When grouping with a length-1 list-like, you will need to pass a length-1 tuple to get_group in a future version of pandas. Pass `(name,)` instead of `name` to silence this warning.\n",
      "\n"
     ]
    },
    {
     "name": "stdout",
     "output_type": "stream",
     "text": [
      "Start: 1063 Stop: 1087\n"
     ]
    },
    {
     "name": "stderr",
     "output_type": "stream",
     "text": [
      "/home/vhepola_linux/do-env/lib/python3.10/site-packages/plotly/express/_core.py:2065: FutureWarning:\n",
      "\n",
      "When grouping with a length-1 list-like, you will need to pass a length-1 tuple to get_group in a future version of pandas. Pass `(name,)` instead of `name` to silence this warning.\n",
      "\n"
     ]
    },
    {
     "name": "stdout",
     "output_type": "stream",
     "text": [
      "Start: 1123 Stop: 1160\n"
     ]
    },
    {
     "name": "stderr",
     "output_type": "stream",
     "text": [
      "/home/vhepola_linux/do-env/lib/python3.10/site-packages/plotly/express/_core.py:2065: FutureWarning:\n",
      "\n",
      "When grouping with a length-1 list-like, you will need to pass a length-1 tuple to get_group in a future version of pandas. Pass `(name,)` instead of `name` to silence this warning.\n",
      "\n"
     ]
    },
    {
     "name": "stdout",
     "output_type": "stream",
     "text": [
      "Start: 1229 Stop: 1252\n"
     ]
    },
    {
     "name": "stderr",
     "output_type": "stream",
     "text": [
      "/home/vhepola_linux/do-env/lib/python3.10/site-packages/plotly/express/_core.py:2065: FutureWarning:\n",
      "\n",
      "When grouping with a length-1 list-like, you will need to pass a length-1 tuple to get_group in a future version of pandas. Pass `(name,)` instead of `name` to silence this warning.\n",
      "\n"
     ]
    },
    {
     "name": "stdout",
     "output_type": "stream",
     "text": [
      "Start: 1305 Stop: 1385\n"
     ]
    },
    {
     "name": "stderr",
     "output_type": "stream",
     "text": [
      "/home/vhepola_linux/do-env/lib/python3.10/site-packages/plotly/express/_core.py:2065: FutureWarning:\n",
      "\n",
      "When grouping with a length-1 list-like, you will need to pass a length-1 tuple to get_group in a future version of pandas. Pass `(name,)` instead of `name` to silence this warning.\n",
      "\n"
     ]
    },
    {
     "name": "stdout",
     "output_type": "stream",
     "text": [
      "Start: 1459 Stop: 1488\n"
     ]
    },
    {
     "name": "stderr",
     "output_type": "stream",
     "text": [
      "/home/vhepola_linux/do-env/lib/python3.10/site-packages/plotly/express/_core.py:2065: FutureWarning:\n",
      "\n",
      "When grouping with a length-1 list-like, you will need to pass a length-1 tuple to get_group in a future version of pandas. Pass `(name,)` instead of `name` to silence this warning.\n",
      "\n"
     ]
    },
    {
     "name": "stdout",
     "output_type": "stream",
     "text": [
      "Start: 1649 Stop: 1700\n"
     ]
    },
    {
     "name": "stderr",
     "output_type": "stream",
     "text": [
      "/home/vhepola_linux/do-env/lib/python3.10/site-packages/plotly/express/_core.py:2065: FutureWarning:\n",
      "\n",
      "When grouping with a length-1 list-like, you will need to pass a length-1 tuple to get_group in a future version of pandas. Pass `(name,)` instead of `name` to silence this warning.\n",
      "\n"
     ]
    },
    {
     "name": "stdout",
     "output_type": "stream",
     "text": [
      "Start: 1711 Stop: 1757\n"
     ]
    },
    {
     "name": "stderr",
     "output_type": "stream",
     "text": [
      "/home/vhepola_linux/do-env/lib/python3.10/site-packages/plotly/express/_core.py:2065: FutureWarning:\n",
      "\n",
      "When grouping with a length-1 list-like, you will need to pass a length-1 tuple to get_group in a future version of pandas. Pass `(name,)` instead of `name` to silence this warning.\n",
      "\n"
     ]
    },
    {
     "name": "stdout",
     "output_type": "stream",
     "text": [
      "Start: 1803 Stop: 1846\n"
     ]
    },
    {
     "name": "stderr",
     "output_type": "stream",
     "text": [
      "/home/vhepola_linux/do-env/lib/python3.10/site-packages/plotly/express/_core.py:2065: FutureWarning:\n",
      "\n",
      "When grouping with a length-1 list-like, you will need to pass a length-1 tuple to get_group in a future version of pandas. Pass `(name,)` instead of `name` to silence this warning.\n",
      "\n"
     ]
    },
    {
     "name": "stdout",
     "output_type": "stream",
     "text": [
      "Start: 1863 Stop: 1938\n"
     ]
    },
    {
     "name": "stderr",
     "output_type": "stream",
     "text": [
      "/home/vhepola_linux/do-env/lib/python3.10/site-packages/plotly/express/_core.py:2065: FutureWarning:\n",
      "\n",
      "When grouping with a length-1 list-like, you will need to pass a length-1 tuple to get_group in a future version of pandas. Pass `(name,)` instead of `name` to silence this warning.\n",
      "\n"
     ]
    },
    {
     "name": "stdout",
     "output_type": "stream",
     "text": [
      "Start: 346 Stop: 364\n"
     ]
    },
    {
     "name": "stderr",
     "output_type": "stream",
     "text": [
      "/home/vhepola_linux/do-env/lib/python3.10/site-packages/plotly/express/_core.py:2065: FutureWarning:\n",
      "\n",
      "When grouping with a length-1 list-like, you will need to pass a length-1 tuple to get_group in a future version of pandas. Pass `(name,)` instead of `name` to silence this warning.\n",
      "\n"
     ]
    },
    {
     "name": "stdout",
     "output_type": "stream",
     "text": [
      "Start: 1004 Stop: 1049\n"
     ]
    },
    {
     "name": "stderr",
     "output_type": "stream",
     "text": [
      "/home/vhepola_linux/do-env/lib/python3.10/site-packages/plotly/express/_core.py:2065: FutureWarning:\n",
      "\n",
      "When grouping with a length-1 list-like, you will need to pass a length-1 tuple to get_group in a future version of pandas. Pass `(name,)` instead of `name` to silence this warning.\n",
      "\n"
     ]
    },
    {
     "name": "stdout",
     "output_type": "stream",
     "text": [
      "Start: 1728 Stop: 1764\n"
     ]
    },
    {
     "name": "stderr",
     "output_type": "stream",
     "text": [
      "/home/vhepola_linux/do-env/lib/python3.10/site-packages/plotly/express/_core.py:2065: FutureWarning:\n",
      "\n",
      "When grouping with a length-1 list-like, you will need to pass a length-1 tuple to get_group in a future version of pandas. Pass `(name,)` instead of `name` to silence this warning.\n",
      "\n"
     ]
    },
    {
     "name": "stdout",
     "output_type": "stream",
     "text": [
      "Start: 1804 Stop: 1839\n"
     ]
    },
    {
     "name": "stderr",
     "output_type": "stream",
     "text": [
      "/home/vhepola_linux/do-env/lib/python3.10/site-packages/plotly/express/_core.py:2065: FutureWarning:\n",
      "\n",
      "When grouping with a length-1 list-like, you will need to pass a length-1 tuple to get_group in a future version of pandas. Pass `(name,)` instead of `name` to silence this warning.\n",
      "\n"
     ]
    },
    {
     "name": "stdout",
     "output_type": "stream",
     "text": [
      "Start: 166 Stop: 213\n"
     ]
    },
    {
     "name": "stderr",
     "output_type": "stream",
     "text": [
      "/home/vhepola_linux/do-env/lib/python3.10/site-packages/plotly/express/_core.py:2065: FutureWarning:\n",
      "\n",
      "When grouping with a length-1 list-like, you will need to pass a length-1 tuple to get_group in a future version of pandas. Pass `(name,)` instead of `name` to silence this warning.\n",
      "\n"
     ]
    },
    {
     "name": "stdout",
     "output_type": "stream",
     "text": [
      "Start: 316 Stop: 427\n"
     ]
    },
    {
     "name": "stderr",
     "output_type": "stream",
     "text": [
      "/home/vhepola_linux/do-env/lib/python3.10/site-packages/plotly/express/_core.py:2065: FutureWarning:\n",
      "\n",
      "When grouping with a length-1 list-like, you will need to pass a length-1 tuple to get_group in a future version of pandas. Pass `(name,)` instead of `name` to silence this warning.\n",
      "\n"
     ]
    },
    {
     "name": "stdout",
     "output_type": "stream",
     "text": [
      "Start: 443 Stop: 488\n"
     ]
    },
    {
     "name": "stderr",
     "output_type": "stream",
     "text": [
      "/home/vhepola_linux/do-env/lib/python3.10/site-packages/plotly/express/_core.py:2065: FutureWarning:\n",
      "\n",
      "When grouping with a length-1 list-like, you will need to pass a length-1 tuple to get_group in a future version of pandas. Pass `(name,)` instead of `name` to silence this warning.\n",
      "\n"
     ]
    },
    {
     "name": "stdout",
     "output_type": "stream",
     "text": [
      "Start: 490 Stop: 511\n"
     ]
    },
    {
     "name": "stderr",
     "output_type": "stream",
     "text": [
      "/home/vhepola_linux/do-env/lib/python3.10/site-packages/plotly/express/_core.py:2065: FutureWarning:\n",
      "\n",
      "When grouping with a length-1 list-like, you will need to pass a length-1 tuple to get_group in a future version of pandas. Pass `(name,)` instead of `name` to silence this warning.\n",
      "\n"
     ]
    },
    {
     "name": "stdout",
     "output_type": "stream",
     "text": [
      "Start: 513 Stop: 561\n"
     ]
    },
    {
     "name": "stderr",
     "output_type": "stream",
     "text": [
      "/home/vhepola_linux/do-env/lib/python3.10/site-packages/plotly/express/_core.py:2065: FutureWarning:\n",
      "\n",
      "When grouping with a length-1 list-like, you will need to pass a length-1 tuple to get_group in a future version of pandas. Pass `(name,)` instead of `name` to silence this warning.\n",
      "\n"
     ]
    },
    {
     "name": "stdout",
     "output_type": "stream",
     "text": [
      "Start: 577 Stop: 598\n"
     ]
    },
    {
     "name": "stderr",
     "output_type": "stream",
     "text": [
      "/home/vhepola_linux/do-env/lib/python3.10/site-packages/plotly/express/_core.py:2065: FutureWarning:\n",
      "\n",
      "When grouping with a length-1 list-like, you will need to pass a length-1 tuple to get_group in a future version of pandas. Pass `(name,)` instead of `name` to silence this warning.\n",
      "\n"
     ]
    },
    {
     "name": "stdout",
     "output_type": "stream",
     "text": [
      "Start: 767 Stop: 789\n"
     ]
    },
    {
     "name": "stderr",
     "output_type": "stream",
     "text": [
      "/home/vhepola_linux/do-env/lib/python3.10/site-packages/plotly/express/_core.py:2065: FutureWarning:\n",
      "\n",
      "When grouping with a length-1 list-like, you will need to pass a length-1 tuple to get_group in a future version of pandas. Pass `(name,)` instead of `name` to silence this warning.\n",
      "\n"
     ]
    },
    {
     "name": "stdout",
     "output_type": "stream",
     "text": [
      "Start: 1047 Stop: 1070\n"
     ]
    },
    {
     "name": "stderr",
     "output_type": "stream",
     "text": [
      "/home/vhepola_linux/do-env/lib/python3.10/site-packages/plotly/express/_core.py:2065: FutureWarning:\n",
      "\n",
      "When grouping with a length-1 list-like, you will need to pass a length-1 tuple to get_group in a future version of pandas. Pass `(name,)` instead of `name` to silence this warning.\n",
      "\n"
     ]
    },
    {
     "name": "stdout",
     "output_type": "stream",
     "text": [
      "Start: 1121 Stop: 1204\n"
     ]
    },
    {
     "name": "stderr",
     "output_type": "stream",
     "text": [
      "/home/vhepola_linux/do-env/lib/python3.10/site-packages/plotly/express/_core.py:2065: FutureWarning:\n",
      "\n",
      "When grouping with a length-1 list-like, you will need to pass a length-1 tuple to get_group in a future version of pandas. Pass `(name,)` instead of `name` to silence this warning.\n",
      "\n"
     ]
    },
    {
     "name": "stdout",
     "output_type": "stream",
     "text": [
      "Start: 1270 Stop: 1299\n"
     ]
    },
    {
     "name": "stderr",
     "output_type": "stream",
     "text": [
      "/home/vhepola_linux/do-env/lib/python3.10/site-packages/plotly/express/_core.py:2065: FutureWarning:\n",
      "\n",
      "When grouping with a length-1 list-like, you will need to pass a length-1 tuple to get_group in a future version of pandas. Pass `(name,)` instead of `name` to silence this warning.\n",
      "\n"
     ]
    },
    {
     "name": "stdout",
     "output_type": "stream",
     "text": [
      "Start: 1350 Stop: 1377\n"
     ]
    },
    {
     "name": "stderr",
     "output_type": "stream",
     "text": [
      "/home/vhepola_linux/do-env/lib/python3.10/site-packages/plotly/express/_core.py:2065: FutureWarning:\n",
      "\n",
      "When grouping with a length-1 list-like, you will need to pass a length-1 tuple to get_group in a future version of pandas. Pass `(name,)` instead of `name` to silence this warning.\n",
      "\n"
     ]
    },
    {
     "name": "stdout",
     "output_type": "stream",
     "text": [
      "Start: 1378 Stop: 1427\n"
     ]
    },
    {
     "name": "stderr",
     "output_type": "stream",
     "text": [
      "/home/vhepola_linux/do-env/lib/python3.10/site-packages/plotly/express/_core.py:2065: FutureWarning:\n",
      "\n",
      "When grouping with a length-1 list-like, you will need to pass a length-1 tuple to get_group in a future version of pandas. Pass `(name,)` instead of `name` to silence this warning.\n",
      "\n"
     ]
    },
    {
     "name": "stdout",
     "output_type": "stream",
     "text": [
      "Start: 1512 Stop: 1556\n"
     ]
    },
    {
     "name": "stderr",
     "output_type": "stream",
     "text": [
      "/home/vhepola_linux/do-env/lib/python3.10/site-packages/plotly/express/_core.py:2065: FutureWarning:\n",
      "\n",
      "When grouping with a length-1 list-like, you will need to pass a length-1 tuple to get_group in a future version of pandas. Pass `(name,)` instead of `name` to silence this warning.\n",
      "\n"
     ]
    },
    {
     "name": "stdout",
     "output_type": "stream",
     "text": [
      "Start: 1596 Stop: 1620\n"
     ]
    },
    {
     "name": "stderr",
     "output_type": "stream",
     "text": [
      "/home/vhepola_linux/do-env/lib/python3.10/site-packages/plotly/express/_core.py:2065: FutureWarning:\n",
      "\n",
      "When grouping with a length-1 list-like, you will need to pass a length-1 tuple to get_group in a future version of pandas. Pass `(name,)` instead of `name` to silence this warning.\n",
      "\n"
     ]
    },
    {
     "name": "stdout",
     "output_type": "stream",
     "text": [
      "Start: 90 Stop: 120\n"
     ]
    },
    {
     "name": "stderr",
     "output_type": "stream",
     "text": [
      "/home/vhepola_linux/do-env/lib/python3.10/site-packages/plotly/express/_core.py:2065: FutureWarning:\n",
      "\n",
      "When grouping with a length-1 list-like, you will need to pass a length-1 tuple to get_group in a future version of pandas. Pass `(name,)` instead of `name` to silence this warning.\n",
      "\n"
     ]
    },
    {
     "name": "stdout",
     "output_type": "stream",
     "text": [
      "Start: 123 Stop: 154\n"
     ]
    },
    {
     "name": "stderr",
     "output_type": "stream",
     "text": [
      "/home/vhepola_linux/do-env/lib/python3.10/site-packages/plotly/express/_core.py:2065: FutureWarning:\n",
      "\n",
      "When grouping with a length-1 list-like, you will need to pass a length-1 tuple to get_group in a future version of pandas. Pass `(name,)` instead of `name` to silence this warning.\n",
      "\n"
     ]
    },
    {
     "name": "stdout",
     "output_type": "stream",
     "text": [
      "Start: 155 Stop: 213\n"
     ]
    },
    {
     "name": "stderr",
     "output_type": "stream",
     "text": [
      "/home/vhepola_linux/do-env/lib/python3.10/site-packages/plotly/express/_core.py:2065: FutureWarning:\n",
      "\n",
      "When grouping with a length-1 list-like, you will need to pass a length-1 tuple to get_group in a future version of pandas. Pass `(name,)` instead of `name` to silence this warning.\n",
      "\n"
     ]
    },
    {
     "name": "stdout",
     "output_type": "stream",
     "text": [
      "Start: 221 Stop: 293\n"
     ]
    },
    {
     "name": "stderr",
     "output_type": "stream",
     "text": [
      "/home/vhepola_linux/do-env/lib/python3.10/site-packages/plotly/express/_core.py:2065: FutureWarning:\n",
      "\n",
      "When grouping with a length-1 list-like, you will need to pass a length-1 tuple to get_group in a future version of pandas. Pass `(name,)` instead of `name` to silence this warning.\n",
      "\n"
     ]
    },
    {
     "name": "stdout",
     "output_type": "stream",
     "text": [
      "Start: 290 Stop: 338\n"
     ]
    },
    {
     "name": "stderr",
     "output_type": "stream",
     "text": [
      "/home/vhepola_linux/do-env/lib/python3.10/site-packages/plotly/express/_core.py:2065: FutureWarning:\n",
      "\n",
      "When grouping with a length-1 list-like, you will need to pass a length-1 tuple to get_group in a future version of pandas. Pass `(name,)` instead of `name` to silence this warning.\n",
      "\n"
     ]
    },
    {
     "name": "stdout",
     "output_type": "stream",
     "text": [
      "Start: 342 Stop: 367\n"
     ]
    },
    {
     "name": "stderr",
     "output_type": "stream",
     "text": [
      "/home/vhepola_linux/do-env/lib/python3.10/site-packages/plotly/express/_core.py:2065: FutureWarning:\n",
      "\n",
      "When grouping with a length-1 list-like, you will need to pass a length-1 tuple to get_group in a future version of pandas. Pass `(name,)` instead of `name` to silence this warning.\n",
      "\n"
     ]
    },
    {
     "name": "stdout",
     "output_type": "stream",
     "text": [
      "Start: 384 Stop: 412\n"
     ]
    },
    {
     "name": "stderr",
     "output_type": "stream",
     "text": [
      "/home/vhepola_linux/do-env/lib/python3.10/site-packages/plotly/express/_core.py:2065: FutureWarning:\n",
      "\n",
      "When grouping with a length-1 list-like, you will need to pass a length-1 tuple to get_group in a future version of pandas. Pass `(name,)` instead of `name` to silence this warning.\n",
      "\n"
     ]
    },
    {
     "name": "stdout",
     "output_type": "stream",
     "text": [
      "Start: 464 Stop: 487\n"
     ]
    },
    {
     "name": "stderr",
     "output_type": "stream",
     "text": [
      "/home/vhepola_linux/do-env/lib/python3.10/site-packages/plotly/express/_core.py:2065: FutureWarning:\n",
      "\n",
      "When grouping with a length-1 list-like, you will need to pass a length-1 tuple to get_group in a future version of pandas. Pass `(name,)` instead of `name` to silence this warning.\n",
      "\n"
     ]
    },
    {
     "name": "stdout",
     "output_type": "stream",
     "text": [
      "Start: 637 Stop: 669\n"
     ]
    },
    {
     "name": "stderr",
     "output_type": "stream",
     "text": [
      "/home/vhepola_linux/do-env/lib/python3.10/site-packages/plotly/express/_core.py:2065: FutureWarning:\n",
      "\n",
      "When grouping with a length-1 list-like, you will need to pass a length-1 tuple to get_group in a future version of pandas. Pass `(name,)` instead of `name` to silence this warning.\n",
      "\n"
     ]
    },
    {
     "name": "stdout",
     "output_type": "stream",
     "text": [
      "Start: 664 Stop: 687\n"
     ]
    },
    {
     "name": "stderr",
     "output_type": "stream",
     "text": [
      "/home/vhepola_linux/do-env/lib/python3.10/site-packages/plotly/express/_core.py:2065: FutureWarning:\n",
      "\n",
      "When grouping with a length-1 list-like, you will need to pass a length-1 tuple to get_group in a future version of pandas. Pass `(name,)` instead of `name` to silence this warning.\n",
      "\n"
     ]
    },
    {
     "name": "stdout",
     "output_type": "stream",
     "text": [
      "Start: 959 Stop: 985\n"
     ]
    },
    {
     "name": "stderr",
     "output_type": "stream",
     "text": [
      "/home/vhepola_linux/do-env/lib/python3.10/site-packages/plotly/express/_core.py:2065: FutureWarning:\n",
      "\n",
      "When grouping with a length-1 list-like, you will need to pass a length-1 tuple to get_group in a future version of pandas. Pass `(name,)` instead of `name` to silence this warning.\n",
      "\n"
     ]
    },
    {
     "name": "stdout",
     "output_type": "stream",
     "text": [
      "Start: 1046 Stop: 1068\n"
     ]
    },
    {
     "name": "stderr",
     "output_type": "stream",
     "text": [
      "/home/vhepola_linux/do-env/lib/python3.10/site-packages/plotly/express/_core.py:2065: FutureWarning:\n",
      "\n",
      "When grouping with a length-1 list-like, you will need to pass a length-1 tuple to get_group in a future version of pandas. Pass `(name,)` instead of `name` to silence this warning.\n",
      "\n"
     ]
    },
    {
     "name": "stdout",
     "output_type": "stream",
     "text": [
      "Start: 1115 Stop: 1150\n"
     ]
    },
    {
     "name": "stderr",
     "output_type": "stream",
     "text": [
      "/home/vhepola_linux/do-env/lib/python3.10/site-packages/plotly/express/_core.py:2065: FutureWarning:\n",
      "\n",
      "When grouping with a length-1 list-like, you will need to pass a length-1 tuple to get_group in a future version of pandas. Pass `(name,)` instead of `name` to silence this warning.\n",
      "\n"
     ]
    },
    {
     "name": "stdout",
     "output_type": "stream",
     "text": [
      "Start: 1234 Stop: 1253\n"
     ]
    },
    {
     "name": "stderr",
     "output_type": "stream",
     "text": [
      "/home/vhepola_linux/do-env/lib/python3.10/site-packages/plotly/express/_core.py:2065: FutureWarning:\n",
      "\n",
      "When grouping with a length-1 list-like, you will need to pass a length-1 tuple to get_group in a future version of pandas. Pass `(name,)` instead of `name` to silence this warning.\n",
      "\n"
     ]
    },
    {
     "name": "stdout",
     "output_type": "stream",
     "text": [
      "Start: 1312 Stop: 1359\n"
     ]
    },
    {
     "name": "stderr",
     "output_type": "stream",
     "text": [
      "/home/vhepola_linux/do-env/lib/python3.10/site-packages/plotly/express/_core.py:2065: FutureWarning:\n",
      "\n",
      "When grouping with a length-1 list-like, you will need to pass a length-1 tuple to get_group in a future version of pandas. Pass `(name,)` instead of `name` to silence this warning.\n",
      "\n"
     ]
    },
    {
     "name": "stdout",
     "output_type": "stream",
     "text": [
      "Start: 1382 Stop: 1438\n"
     ]
    },
    {
     "name": "stderr",
     "output_type": "stream",
     "text": [
      "/home/vhepola_linux/do-env/lib/python3.10/site-packages/plotly/express/_core.py:2065: FutureWarning:\n",
      "\n",
      "When grouping with a length-1 list-like, you will need to pass a length-1 tuple to get_group in a future version of pandas. Pass `(name,)` instead of `name` to silence this warning.\n",
      "\n"
     ]
    },
    {
     "name": "stdout",
     "output_type": "stream",
     "text": [
      "Start: 1492 Stop: 1519\n"
     ]
    },
    {
     "name": "stderr",
     "output_type": "stream",
     "text": [
      "/home/vhepola_linux/do-env/lib/python3.10/site-packages/plotly/express/_core.py:2065: FutureWarning:\n",
      "\n",
      "When grouping with a length-1 list-like, you will need to pass a length-1 tuple to get_group in a future version of pandas. Pass `(name,)` instead of `name` to silence this warning.\n",
      "\n"
     ]
    },
    {
     "name": "stdout",
     "output_type": "stream",
     "text": [
      "Start: 1781 Stop: 1879\n"
     ]
    },
    {
     "name": "stderr",
     "output_type": "stream",
     "text": [
      "/home/vhepola_linux/do-env/lib/python3.10/site-packages/plotly/express/_core.py:2065: FutureWarning:\n",
      "\n",
      "When grouping with a length-1 list-like, you will need to pass a length-1 tuple to get_group in a future version of pandas. Pass `(name,)` instead of `name` to silence this warning.\n",
      "\n"
     ]
    },
    {
     "name": "stdout",
     "output_type": "stream",
     "text": [
      "Start: 1992 Stop: 2029\n"
     ]
    },
    {
     "name": "stderr",
     "output_type": "stream",
     "text": [
      "/home/vhepola_linux/do-env/lib/python3.10/site-packages/plotly/express/_core.py:2065: FutureWarning:\n",
      "\n",
      "When grouping with a length-1 list-like, you will need to pass a length-1 tuple to get_group in a future version of pandas. Pass `(name,)` instead of `name` to silence this warning.\n",
      "\n"
     ]
    },
    {
     "name": "stdout",
     "output_type": "stream",
     "text": [
      "Start: 52 Stop: 79\n"
     ]
    },
    {
     "name": "stderr",
     "output_type": "stream",
     "text": [
      "/home/vhepola_linux/do-env/lib/python3.10/site-packages/plotly/express/_core.py:2065: FutureWarning:\n",
      "\n",
      "When grouping with a length-1 list-like, you will need to pass a length-1 tuple to get_group in a future version of pandas. Pass `(name,)` instead of `name` to silence this warning.\n",
      "\n"
     ]
    },
    {
     "name": "stdout",
     "output_type": "stream",
     "text": [
      "Start: 132 Stop: 186\n"
     ]
    },
    {
     "name": "stderr",
     "output_type": "stream",
     "text": [
      "/home/vhepola_linux/do-env/lib/python3.10/site-packages/plotly/express/_core.py:2065: FutureWarning:\n",
      "\n",
      "When grouping with a length-1 list-like, you will need to pass a length-1 tuple to get_group in a future version of pandas. Pass `(name,)` instead of `name` to silence this warning.\n",
      "\n"
     ]
    },
    {
     "name": "stdout",
     "output_type": "stream",
     "text": [
      "Start: 202 Stop: 225\n"
     ]
    },
    {
     "name": "stderr",
     "output_type": "stream",
     "text": [
      "/home/vhepola_linux/do-env/lib/python3.10/site-packages/plotly/express/_core.py:2065: FutureWarning:\n",
      "\n",
      "When grouping with a length-1 list-like, you will need to pass a length-1 tuple to get_group in a future version of pandas. Pass `(name,)` instead of `name` to silence this warning.\n",
      "\n"
     ]
    },
    {
     "name": "stdout",
     "output_type": "stream",
     "text": [
      "Start: 291 Stop: 441\n"
     ]
    },
    {
     "name": "stderr",
     "output_type": "stream",
     "text": [
      "/home/vhepola_linux/do-env/lib/python3.10/site-packages/plotly/express/_core.py:2065: FutureWarning:\n",
      "\n",
      "When grouping with a length-1 list-like, you will need to pass a length-1 tuple to get_group in a future version of pandas. Pass `(name,)` instead of `name` to silence this warning.\n",
      "\n"
     ]
    },
    {
     "name": "stdout",
     "output_type": "stream",
     "text": [
      "Start: 458 Stop: 503\n"
     ]
    },
    {
     "name": "stderr",
     "output_type": "stream",
     "text": [
      "/home/vhepola_linux/do-env/lib/python3.10/site-packages/plotly/express/_core.py:2065: FutureWarning:\n",
      "\n",
      "When grouping with a length-1 list-like, you will need to pass a length-1 tuple to get_group in a future version of pandas. Pass `(name,)` instead of `name` to silence this warning.\n",
      "\n"
     ]
    },
    {
     "name": "stdout",
     "output_type": "stream",
     "text": [
      "Start: 500 Stop: 517\n"
     ]
    },
    {
     "name": "stderr",
     "output_type": "stream",
     "text": [
      "/home/vhepola_linux/do-env/lib/python3.10/site-packages/plotly/express/_core.py:2065: FutureWarning:\n",
      "\n",
      "When grouping with a length-1 list-like, you will need to pass a length-1 tuple to get_group in a future version of pandas. Pass `(name,)` instead of `name` to silence this warning.\n",
      "\n"
     ]
    },
    {
     "name": "stdout",
     "output_type": "stream",
     "text": [
      "Start: 524 Stop: 564\n"
     ]
    },
    {
     "name": "stderr",
     "output_type": "stream",
     "text": [
      "/home/vhepola_linux/do-env/lib/python3.10/site-packages/plotly/express/_core.py:2065: FutureWarning:\n",
      "\n",
      "When grouping with a length-1 list-like, you will need to pass a length-1 tuple to get_group in a future version of pandas. Pass `(name,)` instead of `name` to silence this warning.\n",
      "\n"
     ]
    },
    {
     "name": "stdout",
     "output_type": "stream",
     "text": [
      "Start: 606 Stop: 628\n"
     ]
    },
    {
     "name": "stderr",
     "output_type": "stream",
     "text": [
      "/home/vhepola_linux/do-env/lib/python3.10/site-packages/plotly/express/_core.py:2065: FutureWarning:\n",
      "\n",
      "When grouping with a length-1 list-like, you will need to pass a length-1 tuple to get_group in a future version of pandas. Pass `(name,)` instead of `name` to silence this warning.\n",
      "\n"
     ]
    },
    {
     "name": "stdout",
     "output_type": "stream",
     "text": [
      "Start: 671 Stop: 701\n"
     ]
    },
    {
     "name": "stderr",
     "output_type": "stream",
     "text": [
      "/home/vhepola_linux/do-env/lib/python3.10/site-packages/plotly/express/_core.py:2065: FutureWarning:\n",
      "\n",
      "When grouping with a length-1 list-like, you will need to pass a length-1 tuple to get_group in a future version of pandas. Pass `(name,)` instead of `name` to silence this warning.\n",
      "\n"
     ]
    },
    {
     "name": "stdout",
     "output_type": "stream",
     "text": [
      "Start: 269 Stop: 345\n"
     ]
    },
    {
     "name": "stderr",
     "output_type": "stream",
     "text": [
      "/home/vhepola_linux/do-env/lib/python3.10/site-packages/plotly/express/_core.py:2065: FutureWarning:\n",
      "\n",
      "When grouping with a length-1 list-like, you will need to pass a length-1 tuple to get_group in a future version of pandas. Pass `(name,)` instead of `name` to silence this warning.\n",
      "\n"
     ]
    },
    {
     "name": "stdout",
     "output_type": "stream",
     "text": [
      "Start: 360 Stop: 398\n"
     ]
    },
    {
     "name": "stderr",
     "output_type": "stream",
     "text": [
      "/home/vhepola_linux/do-env/lib/python3.10/site-packages/plotly/express/_core.py:2065: FutureWarning:\n",
      "\n",
      "When grouping with a length-1 list-like, you will need to pass a length-1 tuple to get_group in a future version of pandas. Pass `(name,)` instead of `name` to silence this warning.\n",
      "\n"
     ]
    },
    {
     "name": "stdout",
     "output_type": "stream",
     "text": [
      "Start: 399 Stop: 416\n"
     ]
    },
    {
     "name": "stderr",
     "output_type": "stream",
     "text": [
      "/home/vhepola_linux/do-env/lib/python3.10/site-packages/plotly/express/_core.py:2065: FutureWarning:\n",
      "\n",
      "When grouping with a length-1 list-like, you will need to pass a length-1 tuple to get_group in a future version of pandas. Pass `(name,)` instead of `name` to silence this warning.\n",
      "\n"
     ]
    },
    {
     "name": "stdout",
     "output_type": "stream",
     "text": [
      "Start: 419 Stop: 460\n"
     ]
    },
    {
     "name": "stderr",
     "output_type": "stream",
     "text": [
      "/home/vhepola_linux/do-env/lib/python3.10/site-packages/plotly/express/_core.py:2065: FutureWarning:\n",
      "\n",
      "When grouping with a length-1 list-like, you will need to pass a length-1 tuple to get_group in a future version of pandas. Pass `(name,)` instead of `name` to silence this warning.\n",
      "\n"
     ]
    },
    {
     "name": "stdout",
     "output_type": "stream",
     "text": [
      "Start: 689 Stop: 711\n"
     ]
    },
    {
     "name": "stderr",
     "output_type": "stream",
     "text": [
      "/home/vhepola_linux/do-env/lib/python3.10/site-packages/plotly/express/_core.py:2065: FutureWarning:\n",
      "\n",
      "When grouping with a length-1 list-like, you will need to pass a length-1 tuple to get_group in a future version of pandas. Pass `(name,)` instead of `name` to silence this warning.\n",
      "\n"
     ]
    },
    {
     "name": "stdout",
     "output_type": "stream",
     "text": [
      "Start: 739 Stop: 761\n"
     ]
    },
    {
     "name": "stderr",
     "output_type": "stream",
     "text": [
      "/home/vhepola_linux/do-env/lib/python3.10/site-packages/plotly/express/_core.py:2065: FutureWarning:\n",
      "\n",
      "When grouping with a length-1 list-like, you will need to pass a length-1 tuple to get_group in a future version of pandas. Pass `(name,)` instead of `name` to silence this warning.\n",
      "\n"
     ]
    },
    {
     "name": "stdout",
     "output_type": "stream",
     "text": [
      "Start: 793 Stop: 810\n"
     ]
    },
    {
     "name": "stderr",
     "output_type": "stream",
     "text": [
      "/home/vhepola_linux/do-env/lib/python3.10/site-packages/plotly/express/_core.py:2065: FutureWarning:\n",
      "\n",
      "When grouping with a length-1 list-like, you will need to pass a length-1 tuple to get_group in a future version of pandas. Pass `(name,)` instead of `name` to silence this warning.\n",
      "\n"
     ]
    },
    {
     "name": "stdout",
     "output_type": "stream",
     "text": [
      "Start: 1104 Stop: 1126\n"
     ]
    },
    {
     "name": "stderr",
     "output_type": "stream",
     "text": [
      "/home/vhepola_linux/do-env/lib/python3.10/site-packages/plotly/express/_core.py:2065: FutureWarning:\n",
      "\n",
      "When grouping with a length-1 list-like, you will need to pass a length-1 tuple to get_group in a future version of pandas. Pass `(name,)` instead of `name` to silence this warning.\n",
      "\n"
     ]
    },
    {
     "name": "stdout",
     "output_type": "stream",
     "text": [
      "Start: 1146 Stop: 1177\n"
     ]
    },
    {
     "name": "stderr",
     "output_type": "stream",
     "text": [
      "/home/vhepola_linux/do-env/lib/python3.10/site-packages/plotly/express/_core.py:2065: FutureWarning:\n",
      "\n",
      "When grouping with a length-1 list-like, you will need to pass a length-1 tuple to get_group in a future version of pandas. Pass `(name,)` instead of `name` to silence this warning.\n",
      "\n"
     ]
    },
    {
     "name": "stdout",
     "output_type": "stream",
     "text": [
      "Start: 1397 Stop: 1419\n"
     ]
    },
    {
     "name": "stderr",
     "output_type": "stream",
     "text": [
      "/home/vhepola_linux/do-env/lib/python3.10/site-packages/plotly/express/_core.py:2065: FutureWarning:\n",
      "\n",
      "When grouping with a length-1 list-like, you will need to pass a length-1 tuple to get_group in a future version of pandas. Pass `(name,)` instead of `name` to silence this warning.\n",
      "\n"
     ]
    },
    {
     "name": "stdout",
     "output_type": "stream",
     "text": [
      "Start: 1433 Stop: 1482\n"
     ]
    },
    {
     "name": "stderr",
     "output_type": "stream",
     "text": [
      "/home/vhepola_linux/do-env/lib/python3.10/site-packages/plotly/express/_core.py:2065: FutureWarning:\n",
      "\n",
      "When grouping with a length-1 list-like, you will need to pass a length-1 tuple to get_group in a future version of pandas. Pass `(name,)` instead of `name` to silence this warning.\n",
      "\n"
     ]
    },
    {
     "name": "stdout",
     "output_type": "stream",
     "text": [
      "Start: 1624 Stop: 1644\n"
     ]
    },
    {
     "name": "stderr",
     "output_type": "stream",
     "text": [
      "/home/vhepola_linux/do-env/lib/python3.10/site-packages/plotly/express/_core.py:2065: FutureWarning:\n",
      "\n",
      "When grouping with a length-1 list-like, you will need to pass a length-1 tuple to get_group in a future version of pandas. Pass `(name,)` instead of `name` to silence this warning.\n",
      "\n"
     ]
    },
    {
     "name": "stdout",
     "output_type": "stream",
     "text": [
      "Start: 164 Stop: 209\n"
     ]
    },
    {
     "name": "stderr",
     "output_type": "stream",
     "text": [
      "/home/vhepola_linux/do-env/lib/python3.10/site-packages/plotly/express/_core.py:2065: FutureWarning:\n",
      "\n",
      "When grouping with a length-1 list-like, you will need to pass a length-1 tuple to get_group in a future version of pandas. Pass `(name,)` instead of `name` to silence this warning.\n",
      "\n"
     ]
    },
    {
     "name": "stdout",
     "output_type": "stream",
     "text": [
      "Start: 774 Stop: 823\n"
     ]
    },
    {
     "name": "stderr",
     "output_type": "stream",
     "text": [
      "/home/vhepola_linux/do-env/lib/python3.10/site-packages/plotly/express/_core.py:2065: FutureWarning:\n",
      "\n",
      "When grouping with a length-1 list-like, you will need to pass a length-1 tuple to get_group in a future version of pandas. Pass `(name,)` instead of `name` to silence this warning.\n",
      "\n"
     ]
    },
    {
     "name": "stdout",
     "output_type": "stream",
     "text": [
      "Start: 96 Stop: 171\n"
     ]
    },
    {
     "name": "stderr",
     "output_type": "stream",
     "text": [
      "/home/vhepola_linux/do-env/lib/python3.10/site-packages/plotly/express/_core.py:2065: FutureWarning:\n",
      "\n",
      "When grouping with a length-1 list-like, you will need to pass a length-1 tuple to get_group in a future version of pandas. Pass `(name,)` instead of `name` to silence this warning.\n",
      "\n"
     ]
    },
    {
     "name": "stdout",
     "output_type": "stream",
     "text": [
      "Start: 262 Stop: 407\n"
     ]
    },
    {
     "name": "stderr",
     "output_type": "stream",
     "text": [
      "/home/vhepola_linux/do-env/lib/python3.10/site-packages/plotly/express/_core.py:2065: FutureWarning:\n",
      "\n",
      "When grouping with a length-1 list-like, you will need to pass a length-1 tuple to get_group in a future version of pandas. Pass `(name,)` instead of `name` to silence this warning.\n",
      "\n"
     ]
    },
    {
     "name": "stdout",
     "output_type": "stream",
     "text": [
      "Start: 409 Stop: 468\n"
     ]
    },
    {
     "name": "stderr",
     "output_type": "stream",
     "text": [
      "/home/vhepola_linux/do-env/lib/python3.10/site-packages/plotly/express/_core.py:2065: FutureWarning:\n",
      "\n",
      "When grouping with a length-1 list-like, you will need to pass a length-1 tuple to get_group in a future version of pandas. Pass `(name,)` instead of `name` to silence this warning.\n",
      "\n"
     ]
    },
    {
     "name": "stdout",
     "output_type": "stream",
     "text": [
      "Start: 478 Stop: 507\n"
     ]
    },
    {
     "name": "stderr",
     "output_type": "stream",
     "text": [
      "/home/vhepola_linux/do-env/lib/python3.10/site-packages/plotly/express/_core.py:2065: FutureWarning:\n",
      "\n",
      "When grouping with a length-1 list-like, you will need to pass a length-1 tuple to get_group in a future version of pandas. Pass `(name,)` instead of `name` to silence this warning.\n",
      "\n"
     ]
    },
    {
     "name": "stdout",
     "output_type": "stream",
     "text": [
      "Start: 500 Stop: 517\n"
     ]
    },
    {
     "name": "stderr",
     "output_type": "stream",
     "text": [
      "/home/vhepola_linux/do-env/lib/python3.10/site-packages/plotly/express/_core.py:2065: FutureWarning:\n",
      "\n",
      "When grouping with a length-1 list-like, you will need to pass a length-1 tuple to get_group in a future version of pandas. Pass `(name,)` instead of `name` to silence this warning.\n",
      "\n"
     ]
    },
    {
     "name": "stdout",
     "output_type": "stream",
     "text": [
      "Start: 528 Stop: 546\n"
     ]
    },
    {
     "name": "stderr",
     "output_type": "stream",
     "text": [
      "/home/vhepola_linux/do-env/lib/python3.10/site-packages/plotly/express/_core.py:2065: FutureWarning:\n",
      "\n",
      "When grouping with a length-1 list-like, you will need to pass a length-1 tuple to get_group in a future version of pandas. Pass `(name,)` instead of `name` to silence this warning.\n",
      "\n"
     ]
    },
    {
     "name": "stdout",
     "output_type": "stream",
     "text": [
      "Start: 546 Stop: 567\n"
     ]
    },
    {
     "name": "stderr",
     "output_type": "stream",
     "text": [
      "/home/vhepola_linux/do-env/lib/python3.10/site-packages/plotly/express/_core.py:2065: FutureWarning:\n",
      "\n",
      "When grouping with a length-1 list-like, you will need to pass a length-1 tuple to get_group in a future version of pandas. Pass `(name,)` instead of `name` to silence this warning.\n",
      "\n"
     ]
    },
    {
     "name": "stdout",
     "output_type": "stream",
     "text": [
      "Start: 569 Stop: 600\n"
     ]
    },
    {
     "name": "stderr",
     "output_type": "stream",
     "text": [
      "/home/vhepola_linux/do-env/lib/python3.10/site-packages/plotly/express/_core.py:2065: FutureWarning:\n",
      "\n",
      "When grouping with a length-1 list-like, you will need to pass a length-1 tuple to get_group in a future version of pandas. Pass `(name,)` instead of `name` to silence this warning.\n",
      "\n"
     ]
    },
    {
     "name": "stdout",
     "output_type": "stream",
     "text": [
      "Start: 695 Stop: 712\n"
     ]
    },
    {
     "name": "stderr",
     "output_type": "stream",
     "text": [
      "/home/vhepola_linux/do-env/lib/python3.10/site-packages/plotly/express/_core.py:2065: FutureWarning:\n",
      "\n",
      "When grouping with a length-1 list-like, you will need to pass a length-1 tuple to get_group in a future version of pandas. Pass `(name,)` instead of `name` to silence this warning.\n",
      "\n"
     ]
    },
    {
     "name": "stdout",
     "output_type": "stream",
     "text": [
      "Start: 813 Stop: 831\n"
     ]
    },
    {
     "name": "stderr",
     "output_type": "stream",
     "text": [
      "/home/vhepola_linux/do-env/lib/python3.10/site-packages/plotly/express/_core.py:2065: FutureWarning:\n",
      "\n",
      "When grouping with a length-1 list-like, you will need to pass a length-1 tuple to get_group in a future version of pandas. Pass `(name,)` instead of `name` to silence this warning.\n",
      "\n"
     ]
    },
    {
     "name": "stdout",
     "output_type": "stream",
     "text": [
      "Start: 834 Stop: 856\n"
     ]
    },
    {
     "name": "stderr",
     "output_type": "stream",
     "text": [
      "/home/vhepola_linux/do-env/lib/python3.10/site-packages/plotly/express/_core.py:2065: FutureWarning:\n",
      "\n",
      "When grouping with a length-1 list-like, you will need to pass a length-1 tuple to get_group in a future version of pandas. Pass `(name,)` instead of `name` to silence this warning.\n",
      "\n"
     ]
    },
    {
     "name": "stdout",
     "output_type": "stream",
     "text": [
      "Start: 959 Stop: 978\n"
     ]
    },
    {
     "name": "stderr",
     "output_type": "stream",
     "text": [
      "/home/vhepola_linux/do-env/lib/python3.10/site-packages/plotly/express/_core.py:2065: FutureWarning:\n",
      "\n",
      "When grouping with a length-1 list-like, you will need to pass a length-1 tuple to get_group in a future version of pandas. Pass `(name,)` instead of `name` to silence this warning.\n",
      "\n"
     ]
    },
    {
     "name": "stdout",
     "output_type": "stream",
     "text": [
      "Start: 1183 Stop: 1210\n"
     ]
    },
    {
     "name": "stderr",
     "output_type": "stream",
     "text": [
      "/home/vhepola_linux/do-env/lib/python3.10/site-packages/plotly/express/_core.py:2065: FutureWarning:\n",
      "\n",
      "When grouping with a length-1 list-like, you will need to pass a length-1 tuple to get_group in a future version of pandas. Pass `(name,)` instead of `name` to silence this warning.\n",
      "\n"
     ]
    },
    {
     "name": "stdout",
     "output_type": "stream",
     "text": [
      "Start: 1225 Stop: 1252\n"
     ]
    },
    {
     "name": "stderr",
     "output_type": "stream",
     "text": [
      "/home/vhepola_linux/do-env/lib/python3.10/site-packages/plotly/express/_core.py:2065: FutureWarning:\n",
      "\n",
      "When grouping with a length-1 list-like, you will need to pass a length-1 tuple to get_group in a future version of pandas. Pass `(name,)` instead of `name` to silence this warning.\n",
      "\n"
     ]
    },
    {
     "name": "stdout",
     "output_type": "stream",
     "text": [
      "Start: 1272 Stop: 1344\n"
     ]
    },
    {
     "name": "stderr",
     "output_type": "stream",
     "text": [
      "/home/vhepola_linux/do-env/lib/python3.10/site-packages/plotly/express/_core.py:2065: FutureWarning:\n",
      "\n",
      "When grouping with a length-1 list-like, you will need to pass a length-1 tuple to get_group in a future version of pandas. Pass `(name,)` instead of `name` to silence this warning.\n",
      "\n"
     ]
    },
    {
     "name": "stdout",
     "output_type": "stream",
     "text": [
      "Start: 1468 Stop: 1485\n"
     ]
    },
    {
     "name": "stderr",
     "output_type": "stream",
     "text": [
      "/home/vhepola_linux/do-env/lib/python3.10/site-packages/plotly/express/_core.py:2065: FutureWarning:\n",
      "\n",
      "When grouping with a length-1 list-like, you will need to pass a length-1 tuple to get_group in a future version of pandas. Pass `(name,)` instead of `name` to silence this warning.\n",
      "\n"
     ]
    },
    {
     "name": "stdout",
     "output_type": "stream",
     "text": [
      "Start: 1589 Stop: 1616\n"
     ]
    },
    {
     "name": "stderr",
     "output_type": "stream",
     "text": [
      "/home/vhepola_linux/do-env/lib/python3.10/site-packages/plotly/express/_core.py:2065: FutureWarning:\n",
      "\n",
      "When grouping with a length-1 list-like, you will need to pass a length-1 tuple to get_group in a future version of pandas. Pass `(name,)` instead of `name` to silence this warning.\n",
      "\n"
     ]
    },
    {
     "name": "stdout",
     "output_type": "stream",
     "text": [
      "Start: 131 Stop: 177\n"
     ]
    },
    {
     "name": "stderr",
     "output_type": "stream",
     "text": [
      "/home/vhepola_linux/do-env/lib/python3.10/site-packages/plotly/express/_core.py:2065: FutureWarning:\n",
      "\n",
      "When grouping with a length-1 list-like, you will need to pass a length-1 tuple to get_group in a future version of pandas. Pass `(name,)` instead of `name` to silence this warning.\n",
      "\n"
     ]
    },
    {
     "name": "stdout",
     "output_type": "stream",
     "text": [
      "Start: 254 Stop: 271\n"
     ]
    },
    {
     "name": "stderr",
     "output_type": "stream",
     "text": [
      "/home/vhepola_linux/do-env/lib/python3.10/site-packages/plotly/express/_core.py:2065: FutureWarning:\n",
      "\n",
      "When grouping with a length-1 list-like, you will need to pass a length-1 tuple to get_group in a future version of pandas. Pass `(name,)` instead of `name` to silence this warning.\n",
      "\n"
     ]
    },
    {
     "name": "stdout",
     "output_type": "stream",
     "text": [
      "Start: 265 Stop: 289\n"
     ]
    },
    {
     "name": "stderr",
     "output_type": "stream",
     "text": [
      "/home/vhepola_linux/do-env/lib/python3.10/site-packages/plotly/express/_core.py:2065: FutureWarning:\n",
      "\n",
      "When grouping with a length-1 list-like, you will need to pass a length-1 tuple to get_group in a future version of pandas. Pass `(name,)` instead of `name` to silence this warning.\n",
      "\n"
     ]
    },
    {
     "name": "stdout",
     "output_type": "stream",
     "text": [
      "Start: 292 Stop: 442\n"
     ]
    },
    {
     "name": "stderr",
     "output_type": "stream",
     "text": [
      "/home/vhepola_linux/do-env/lib/python3.10/site-packages/plotly/express/_core.py:2065: FutureWarning:\n",
      "\n",
      "When grouping with a length-1 list-like, you will need to pass a length-1 tuple to get_group in a future version of pandas. Pass `(name,)` instead of `name` to silence this warning.\n",
      "\n"
     ]
    },
    {
     "name": "stdout",
     "output_type": "stream",
     "text": [
      "Start: 453 Stop: 490\n"
     ]
    },
    {
     "name": "stderr",
     "output_type": "stream",
     "text": [
      "/home/vhepola_linux/do-env/lib/python3.10/site-packages/plotly/express/_core.py:2065: FutureWarning:\n",
      "\n",
      "When grouping with a length-1 list-like, you will need to pass a length-1 tuple to get_group in a future version of pandas. Pass `(name,)` instead of `name` to silence this warning.\n",
      "\n"
     ]
    },
    {
     "name": "stdout",
     "output_type": "stream",
     "text": [
      "Start: 493 Stop: 561\n"
     ]
    },
    {
     "name": "stderr",
     "output_type": "stream",
     "text": [
      "/home/vhepola_linux/do-env/lib/python3.10/site-packages/plotly/express/_core.py:2065: FutureWarning:\n",
      "\n",
      "When grouping with a length-1 list-like, you will need to pass a length-1 tuple to get_group in a future version of pandas. Pass `(name,)` instead of `name` to silence this warning.\n",
      "\n"
     ]
    },
    {
     "name": "stdout",
     "output_type": "stream",
     "text": [
      "Start: 663 Stop: 685\n"
     ]
    },
    {
     "name": "stderr",
     "output_type": "stream",
     "text": [
      "/home/vhepola_linux/do-env/lib/python3.10/site-packages/plotly/express/_core.py:2065: FutureWarning:\n",
      "\n",
      "When grouping with a length-1 list-like, you will need to pass a length-1 tuple to get_group in a future version of pandas. Pass `(name,)` instead of `name` to silence this warning.\n",
      "\n"
     ]
    },
    {
     "name": "stdout",
     "output_type": "stream",
     "text": [
      "Start: 723 Stop: 792\n"
     ]
    },
    {
     "name": "stderr",
     "output_type": "stream",
     "text": [
      "/home/vhepola_linux/do-env/lib/python3.10/site-packages/plotly/express/_core.py:2065: FutureWarning:\n",
      "\n",
      "When grouping with a length-1 list-like, you will need to pass a length-1 tuple to get_group in a future version of pandas. Pass `(name,)` instead of `name` to silence this warning.\n",
      "\n"
     ]
    },
    {
     "name": "stdout",
     "output_type": "stream",
     "text": [
      "Start: 868 Stop: 890\n"
     ]
    },
    {
     "name": "stderr",
     "output_type": "stream",
     "text": [
      "/home/vhepola_linux/do-env/lib/python3.10/site-packages/plotly/express/_core.py:2065: FutureWarning:\n",
      "\n",
      "When grouping with a length-1 list-like, you will need to pass a length-1 tuple to get_group in a future version of pandas. Pass `(name,)` instead of `name` to silence this warning.\n",
      "\n"
     ]
    },
    {
     "name": "stdout",
     "output_type": "stream",
     "text": [
      "Start: 1039 Stop: 1078\n"
     ]
    },
    {
     "name": "stderr",
     "output_type": "stream",
     "text": [
      "/home/vhepola_linux/do-env/lib/python3.10/site-packages/plotly/express/_core.py:2065: FutureWarning:\n",
      "\n",
      "When grouping with a length-1 list-like, you will need to pass a length-1 tuple to get_group in a future version of pandas. Pass `(name,)` instead of `name` to silence this warning.\n",
      "\n"
     ]
    },
    {
     "name": "stdout",
     "output_type": "stream",
     "text": [
      "Start: 1319 Stop: 1420\n"
     ]
    },
    {
     "name": "stderr",
     "output_type": "stream",
     "text": [
      "/home/vhepola_linux/do-env/lib/python3.10/site-packages/plotly/express/_core.py:2065: FutureWarning:\n",
      "\n",
      "When grouping with a length-1 list-like, you will need to pass a length-1 tuple to get_group in a future version of pandas. Pass `(name,)` instead of `name` to silence this warning.\n",
      "\n"
     ]
    },
    {
     "name": "stdout",
     "output_type": "stream",
     "text": [
      "Start: 1426 Stop: 1457\n"
     ]
    },
    {
     "name": "stderr",
     "output_type": "stream",
     "text": [
      "/home/vhepola_linux/do-env/lib/python3.10/site-packages/plotly/express/_core.py:2065: FutureWarning:\n",
      "\n",
      "When grouping with a length-1 list-like, you will need to pass a length-1 tuple to get_group in a future version of pandas. Pass `(name,)` instead of `name` to silence this warning.\n",
      "\n"
     ]
    },
    {
     "name": "stdout",
     "output_type": "stream",
     "text": [
      "Start: 113 Stop: 149\n"
     ]
    },
    {
     "name": "stderr",
     "output_type": "stream",
     "text": [
      "/home/vhepola_linux/do-env/lib/python3.10/site-packages/plotly/express/_core.py:2065: FutureWarning:\n",
      "\n",
      "When grouping with a length-1 list-like, you will need to pass a length-1 tuple to get_group in a future version of pandas. Pass `(name,)` instead of `name` to silence this warning.\n",
      "\n"
     ]
    },
    {
     "name": "stdout",
     "output_type": "stream",
     "text": [
      "Start: 153 Stop: 204\n"
     ]
    },
    {
     "name": "stderr",
     "output_type": "stream",
     "text": [
      "/home/vhepola_linux/do-env/lib/python3.10/site-packages/plotly/express/_core.py:2065: FutureWarning:\n",
      "\n",
      "When grouping with a length-1 list-like, you will need to pass a length-1 tuple to get_group in a future version of pandas. Pass `(name,)` instead of `name` to silence this warning.\n",
      "\n"
     ]
    },
    {
     "name": "stdout",
     "output_type": "stream",
     "text": [
      "Start: 506 Stop: 536\n"
     ]
    },
    {
     "name": "stderr",
     "output_type": "stream",
     "text": [
      "/home/vhepola_linux/do-env/lib/python3.10/site-packages/plotly/express/_core.py:2065: FutureWarning:\n",
      "\n",
      "When grouping with a length-1 list-like, you will need to pass a length-1 tuple to get_group in a future version of pandas. Pass `(name,)` instead of `name` to silence this warning.\n",
      "\n"
     ]
    },
    {
     "name": "stdout",
     "output_type": "stream",
     "text": [
      "Start: 840 Stop: 861\n"
     ]
    },
    {
     "name": "stderr",
     "output_type": "stream",
     "text": [
      "/home/vhepola_linux/do-env/lib/python3.10/site-packages/plotly/express/_core.py:2065: FutureWarning:\n",
      "\n",
      "When grouping with a length-1 list-like, you will need to pass a length-1 tuple to get_group in a future version of pandas. Pass `(name,)` instead of `name` to silence this warning.\n",
      "\n"
     ]
    },
    {
     "name": "stdout",
     "output_type": "stream",
     "text": [
      "Start: 860 Stop: 880\n"
     ]
    },
    {
     "name": "stderr",
     "output_type": "stream",
     "text": [
      "/home/vhepola_linux/do-env/lib/python3.10/site-packages/plotly/express/_core.py:2065: FutureWarning:\n",
      "\n",
      "When grouping with a length-1 list-like, you will need to pass a length-1 tuple to get_group in a future version of pandas. Pass `(name,)` instead of `name` to silence this warning.\n",
      "\n"
     ]
    },
    {
     "name": "stdout",
     "output_type": "stream",
     "text": [
      "Start: 882 Stop: 911\n"
     ]
    },
    {
     "name": "stderr",
     "output_type": "stream",
     "text": [
      "/home/vhepola_linux/do-env/lib/python3.10/site-packages/plotly/express/_core.py:2065: FutureWarning:\n",
      "\n",
      "When grouping with a length-1 list-like, you will need to pass a length-1 tuple to get_group in a future version of pandas. Pass `(name,)` instead of `name` to silence this warning.\n",
      "\n"
     ]
    },
    {
     "name": "stdout",
     "output_type": "stream",
     "text": [
      "Start: 904 Stop: 921\n"
     ]
    },
    {
     "name": "stderr",
     "output_type": "stream",
     "text": [
      "/home/vhepola_linux/do-env/lib/python3.10/site-packages/plotly/express/_core.py:2065: FutureWarning:\n",
      "\n",
      "When grouping with a length-1 list-like, you will need to pass a length-1 tuple to get_group in a future version of pandas. Pass `(name,)` instead of `name` to silence this warning.\n",
      "\n"
     ]
    },
    {
     "name": "stdout",
     "output_type": "stream",
     "text": [
      "Start: 75 Stop: 129\n"
     ]
    },
    {
     "name": "stderr",
     "output_type": "stream",
     "text": [
      "/home/vhepola_linux/do-env/lib/python3.10/site-packages/plotly/express/_core.py:2065: FutureWarning:\n",
      "\n",
      "When grouping with a length-1 list-like, you will need to pass a length-1 tuple to get_group in a future version of pandas. Pass `(name,)` instead of `name` to silence this warning.\n",
      "\n"
     ]
    },
    {
     "name": "stdout",
     "output_type": "stream",
     "text": [
      "Start: 255 Stop: 276\n"
     ]
    },
    {
     "name": "stderr",
     "output_type": "stream",
     "text": [
      "/home/vhepola_linux/do-env/lib/python3.10/site-packages/plotly/express/_core.py:2065: FutureWarning:\n",
      "\n",
      "When grouping with a length-1 list-like, you will need to pass a length-1 tuple to get_group in a future version of pandas. Pass `(name,)` instead of `name` to silence this warning.\n",
      "\n"
     ]
    },
    {
     "name": "stdout",
     "output_type": "stream",
     "text": [
      "Start: 276 Stop: 306\n"
     ]
    },
    {
     "name": "stderr",
     "output_type": "stream",
     "text": [
      "/home/vhepola_linux/do-env/lib/python3.10/site-packages/plotly/express/_core.py:2065: FutureWarning:\n",
      "\n",
      "When grouping with a length-1 list-like, you will need to pass a length-1 tuple to get_group in a future version of pandas. Pass `(name,)` instead of `name` to silence this warning.\n",
      "\n"
     ]
    },
    {
     "name": "stdout",
     "output_type": "stream",
     "text": [
      "Start: 298 Stop: 322\n"
     ]
    },
    {
     "name": "stderr",
     "output_type": "stream",
     "text": [
      "/home/vhepola_linux/do-env/lib/python3.10/site-packages/plotly/express/_core.py:2065: FutureWarning:\n",
      "\n",
      "When grouping with a length-1 list-like, you will need to pass a length-1 tuple to get_group in a future version of pandas. Pass `(name,)` instead of `name` to silence this warning.\n",
      "\n"
     ]
    },
    {
     "name": "stdout",
     "output_type": "stream",
     "text": [
      "Start: 320 Stop: 387\n"
     ]
    },
    {
     "name": "stderr",
     "output_type": "stream",
     "text": [
      "/home/vhepola_linux/do-env/lib/python3.10/site-packages/plotly/express/_core.py:2065: FutureWarning:\n",
      "\n",
      "When grouping with a length-1 list-like, you will need to pass a length-1 tuple to get_group in a future version of pandas. Pass `(name,)` instead of `name` to silence this warning.\n",
      "\n"
     ]
    },
    {
     "name": "stdout",
     "output_type": "stream",
     "text": [
      "Start: 430 Stop: 448\n"
     ]
    },
    {
     "name": "stderr",
     "output_type": "stream",
     "text": [
      "/home/vhepola_linux/do-env/lib/python3.10/site-packages/plotly/express/_core.py:2065: FutureWarning:\n",
      "\n",
      "When grouping with a length-1 list-like, you will need to pass a length-1 tuple to get_group in a future version of pandas. Pass `(name,)` instead of `name` to silence this warning.\n",
      "\n"
     ]
    },
    {
     "name": "stdout",
     "output_type": "stream",
     "text": [
      "Start: 445 Stop: 525\n"
     ]
    },
    {
     "name": "stderr",
     "output_type": "stream",
     "text": [
      "/home/vhepola_linux/do-env/lib/python3.10/site-packages/plotly/express/_core.py:2065: FutureWarning:\n",
      "\n",
      "When grouping with a length-1 list-like, you will need to pass a length-1 tuple to get_group in a future version of pandas. Pass `(name,)` instead of `name` to silence this warning.\n",
      "\n"
     ]
    },
    {
     "name": "stdout",
     "output_type": "stream",
     "text": [
      "Start: 540 Stop: 566\n"
     ]
    },
    {
     "name": "stderr",
     "output_type": "stream",
     "text": [
      "/home/vhepola_linux/do-env/lib/python3.10/site-packages/plotly/express/_core.py:2065: FutureWarning:\n",
      "\n",
      "When grouping with a length-1 list-like, you will need to pass a length-1 tuple to get_group in a future version of pandas. Pass `(name,)` instead of `name` to silence this warning.\n",
      "\n"
     ]
    },
    {
     "name": "stdout",
     "output_type": "stream",
     "text": [
      "Start: 683 Stop: 715\n"
     ]
    },
    {
     "name": "stderr",
     "output_type": "stream",
     "text": [
      "/home/vhepola_linux/do-env/lib/python3.10/site-packages/plotly/express/_core.py:2065: FutureWarning:\n",
      "\n",
      "When grouping with a length-1 list-like, you will need to pass a length-1 tuple to get_group in a future version of pandas. Pass `(name,)` instead of `name` to silence this warning.\n",
      "\n"
     ]
    },
    {
     "name": "stdout",
     "output_type": "stream",
     "text": [
      "Start: 736 Stop: 760\n"
     ]
    },
    {
     "name": "stderr",
     "output_type": "stream",
     "text": [
      "/home/vhepola_linux/do-env/lib/python3.10/site-packages/plotly/express/_core.py:2065: FutureWarning:\n",
      "\n",
      "When grouping with a length-1 list-like, you will need to pass a length-1 tuple to get_group in a future version of pandas. Pass `(name,)` instead of `name` to silence this warning.\n",
      "\n"
     ]
    },
    {
     "name": "stdout",
     "output_type": "stream",
     "text": [
      "Start: 768 Stop: 794\n"
     ]
    },
    {
     "name": "stderr",
     "output_type": "stream",
     "text": [
      "/home/vhepola_linux/do-env/lib/python3.10/site-packages/plotly/express/_core.py:2065: FutureWarning:\n",
      "\n",
      "When grouping with a length-1 list-like, you will need to pass a length-1 tuple to get_group in a future version of pandas. Pass `(name,)` instead of `name` to silence this warning.\n",
      "\n"
     ]
    },
    {
     "name": "stdout",
     "output_type": "stream",
     "text": [
      "Start: 1116 Stop: 1142\n"
     ]
    },
    {
     "name": "stderr",
     "output_type": "stream",
     "text": [
      "/home/vhepola_linux/do-env/lib/python3.10/site-packages/plotly/express/_core.py:2065: FutureWarning:\n",
      "\n",
      "When grouping with a length-1 list-like, you will need to pass a length-1 tuple to get_group in a future version of pandas. Pass `(name,)` instead of `name` to silence this warning.\n",
      "\n"
     ]
    },
    {
     "name": "stdout",
     "output_type": "stream",
     "text": [
      "Start: 1330 Stop: 1359\n"
     ]
    },
    {
     "name": "stderr",
     "output_type": "stream",
     "text": [
      "/home/vhepola_linux/do-env/lib/python3.10/site-packages/plotly/express/_core.py:2065: FutureWarning:\n",
      "\n",
      "When grouping with a length-1 list-like, you will need to pass a length-1 tuple to get_group in a future version of pandas. Pass `(name,)` instead of `name` to silence this warning.\n",
      "\n"
     ]
    },
    {
     "name": "stdout",
     "output_type": "stream",
     "text": [
      "Start: 1502 Stop: 1520\n"
     ]
    },
    {
     "name": "stderr",
     "output_type": "stream",
     "text": [
      "/home/vhepola_linux/do-env/lib/python3.10/site-packages/plotly/express/_core.py:2065: FutureWarning:\n",
      "\n",
      "When grouping with a length-1 list-like, you will need to pass a length-1 tuple to get_group in a future version of pandas. Pass `(name,)` instead of `name` to silence this warning.\n",
      "\n"
     ]
    },
    {
     "name": "stdout",
     "output_type": "stream",
     "text": [
      "Start: 49 Stop: 223\n"
     ]
    },
    {
     "name": "stderr",
     "output_type": "stream",
     "text": [
      "/home/vhepola_linux/do-env/lib/python3.10/site-packages/plotly/express/_core.py:2065: FutureWarning:\n",
      "\n",
      "When grouping with a length-1 list-like, you will need to pass a length-1 tuple to get_group in a future version of pandas. Pass `(name,)` instead of `name` to silence this warning.\n",
      "\n"
     ]
    },
    {
     "name": "stdout",
     "output_type": "stream",
     "text": [
      "Start: 587 Stop: 662\n"
     ]
    },
    {
     "name": "stderr",
     "output_type": "stream",
     "text": [
      "/home/vhepola_linux/do-env/lib/python3.10/site-packages/plotly/express/_core.py:2065: FutureWarning:\n",
      "\n",
      "When grouping with a length-1 list-like, you will need to pass a length-1 tuple to get_group in a future version of pandas. Pass `(name,)` instead of `name` to silence this warning.\n",
      "\n"
     ]
    },
    {
     "name": "stdout",
     "output_type": "stream",
     "text": [
      "Start: 712 Stop: 732\n"
     ]
    },
    {
     "name": "stderr",
     "output_type": "stream",
     "text": [
      "/home/vhepola_linux/do-env/lib/python3.10/site-packages/plotly/express/_core.py:2065: FutureWarning:\n",
      "\n",
      "When grouping with a length-1 list-like, you will need to pass a length-1 tuple to get_group in a future version of pandas. Pass `(name,)` instead of `name` to silence this warning.\n",
      "\n"
     ]
    },
    {
     "name": "stdout",
     "output_type": "stream",
     "text": [
      "Start: 1235 Stop: 1366\n"
     ]
    },
    {
     "name": "stderr",
     "output_type": "stream",
     "text": [
      "/home/vhepola_linux/do-env/lib/python3.10/site-packages/plotly/express/_core.py:2065: FutureWarning:\n",
      "\n",
      "When grouping with a length-1 list-like, you will need to pass a length-1 tuple to get_group in a future version of pandas. Pass `(name,)` instead of `name` to silence this warning.\n",
      "\n"
     ]
    },
    {
     "name": "stdout",
     "output_type": "stream",
     "text": [
      "Start: 1423 Stop: 1497\n"
     ]
    },
    {
     "name": "stderr",
     "output_type": "stream",
     "text": [
      "/home/vhepola_linux/do-env/lib/python3.10/site-packages/plotly/express/_core.py:2065: FutureWarning:\n",
      "\n",
      "When grouping with a length-1 list-like, you will need to pass a length-1 tuple to get_group in a future version of pandas. Pass `(name,)` instead of `name` to silence this warning.\n",
      "\n"
     ]
    },
    {
     "name": "stdout",
     "output_type": "stream",
     "text": [
      "Start: 200 Stop: 248\n"
     ]
    },
    {
     "name": "stderr",
     "output_type": "stream",
     "text": [
      "/home/vhepola_linux/do-env/lib/python3.10/site-packages/plotly/express/_core.py:2065: FutureWarning:\n",
      "\n",
      "When grouping with a length-1 list-like, you will need to pass a length-1 tuple to get_group in a future version of pandas. Pass `(name,)` instead of `name` to silence this warning.\n",
      "\n"
     ]
    },
    {
     "name": "stdout",
     "output_type": "stream",
     "text": [
      "Start: 485 Stop: 527\n"
     ]
    },
    {
     "name": "stderr",
     "output_type": "stream",
     "text": [
      "/home/vhepola_linux/do-env/lib/python3.10/site-packages/plotly/express/_core.py:2065: FutureWarning:\n",
      "\n",
      "When grouping with a length-1 list-like, you will need to pass a length-1 tuple to get_group in a future version of pandas. Pass `(name,)` instead of `name` to silence this warning.\n",
      "\n"
     ]
    },
    {
     "name": "stdout",
     "output_type": "stream",
     "text": [
      "Start: 710 Stop: 730\n"
     ]
    },
    {
     "name": "stderr",
     "output_type": "stream",
     "text": [
      "/home/vhepola_linux/do-env/lib/python3.10/site-packages/plotly/express/_core.py:2065: FutureWarning:\n",
      "\n",
      "When grouping with a length-1 list-like, you will need to pass a length-1 tuple to get_group in a future version of pandas. Pass `(name,)` instead of `name` to silence this warning.\n",
      "\n"
     ]
    },
    {
     "name": "stdout",
     "output_type": "stream",
     "text": [
      "Start: 754 Stop: 777\n"
     ]
    },
    {
     "name": "stderr",
     "output_type": "stream",
     "text": [
      "/home/vhepola_linux/do-env/lib/python3.10/site-packages/plotly/express/_core.py:2065: FutureWarning:\n",
      "\n",
      "When grouping with a length-1 list-like, you will need to pass a length-1 tuple to get_group in a future version of pandas. Pass `(name,)` instead of `name` to silence this warning.\n",
      "\n"
     ]
    },
    {
     "name": "stdout",
     "output_type": "stream",
     "text": [
      "Start: 823 Stop: 858\n"
     ]
    },
    {
     "name": "stderr",
     "output_type": "stream",
     "text": [
      "/home/vhepola_linux/do-env/lib/python3.10/site-packages/plotly/express/_core.py:2065: FutureWarning:\n",
      "\n",
      "When grouping with a length-1 list-like, you will need to pass a length-1 tuple to get_group in a future version of pandas. Pass `(name,)` instead of `name` to silence this warning.\n",
      "\n"
     ]
    },
    {
     "name": "stdout",
     "output_type": "stream",
     "text": [
      "Start: 853 Stop: 872\n"
     ]
    },
    {
     "name": "stderr",
     "output_type": "stream",
     "text": [
      "/home/vhepola_linux/do-env/lib/python3.10/site-packages/plotly/express/_core.py:2065: FutureWarning:\n",
      "\n",
      "When grouping with a length-1 list-like, you will need to pass a length-1 tuple to get_group in a future version of pandas. Pass `(name,)` instead of `name` to silence this warning.\n",
      "\n"
     ]
    },
    {
     "name": "stdout",
     "output_type": "stream",
     "text": [
      "Start: 879 Stop: 920\n"
     ]
    },
    {
     "name": "stderr",
     "output_type": "stream",
     "text": [
      "/home/vhepola_linux/do-env/lib/python3.10/site-packages/plotly/express/_core.py:2065: FutureWarning:\n",
      "\n",
      "When grouping with a length-1 list-like, you will need to pass a length-1 tuple to get_group in a future version of pandas. Pass `(name,)` instead of `name` to silence this warning.\n",
      "\n"
     ]
    },
    {
     "name": "stdout",
     "output_type": "stream",
     "text": [
      "Start: 1001 Stop: 1024\n"
     ]
    },
    {
     "name": "stderr",
     "output_type": "stream",
     "text": [
      "/home/vhepola_linux/do-env/lib/python3.10/site-packages/plotly/express/_core.py:2065: FutureWarning:\n",
      "\n",
      "When grouping with a length-1 list-like, you will need to pass a length-1 tuple to get_group in a future version of pandas. Pass `(name,)` instead of `name` to silence this warning.\n",
      "\n"
     ]
    },
    {
     "name": "stdout",
     "output_type": "stream",
     "text": [
      "Start: 1370 Stop: 1392\n"
     ]
    },
    {
     "name": "stderr",
     "output_type": "stream",
     "text": [
      "/home/vhepola_linux/do-env/lib/python3.10/site-packages/plotly/express/_core.py:2065: FutureWarning:\n",
      "\n",
      "When grouping with a length-1 list-like, you will need to pass a length-1 tuple to get_group in a future version of pandas. Pass `(name,)` instead of `name` to silence this warning.\n",
      "\n"
     ]
    },
    {
     "name": "stdout",
     "output_type": "stream",
     "text": [
      "Start: 1612 Stop: 1651\n"
     ]
    },
    {
     "name": "stderr",
     "output_type": "stream",
     "text": [
      "/home/vhepola_linux/do-env/lib/python3.10/site-packages/plotly/express/_core.py:2065: FutureWarning:\n",
      "\n",
      "When grouping with a length-1 list-like, you will need to pass a length-1 tuple to get_group in a future version of pandas. Pass `(name,)` instead of `name` to silence this warning.\n",
      "\n"
     ]
    },
    {
     "name": "stdout",
     "output_type": "stream",
     "text": [
      "Start: 1686 Stop: 1725\n"
     ]
    },
    {
     "name": "stderr",
     "output_type": "stream",
     "text": [
      "/home/vhepola_linux/do-env/lib/python3.10/site-packages/plotly/express/_core.py:2065: FutureWarning:\n",
      "\n",
      "When grouping with a length-1 list-like, you will need to pass a length-1 tuple to get_group in a future version of pandas. Pass `(name,)` instead of `name` to silence this warning.\n",
      "\n"
     ]
    },
    {
     "name": "stdout",
     "output_type": "stream",
     "text": [
      "Start: 1781 Stop: 1821\n"
     ]
    },
    {
     "name": "stderr",
     "output_type": "stream",
     "text": [
      "/home/vhepola_linux/do-env/lib/python3.10/site-packages/plotly/express/_core.py:2065: FutureWarning:\n",
      "\n",
      "When grouping with a length-1 list-like, you will need to pass a length-1 tuple to get_group in a future version of pandas. Pass `(name,)` instead of `name` to silence this warning.\n",
      "\n"
     ]
    },
    {
     "name": "stdout",
     "output_type": "stream",
     "text": [
      "Start: 1836 Stop: 1859\n"
     ]
    },
    {
     "name": "stderr",
     "output_type": "stream",
     "text": [
      "/home/vhepola_linux/do-env/lib/python3.10/site-packages/plotly/express/_core.py:2065: FutureWarning:\n",
      "\n",
      "When grouping with a length-1 list-like, you will need to pass a length-1 tuple to get_group in a future version of pandas. Pass `(name,)` instead of `name` to silence this warning.\n",
      "\n"
     ]
    },
    {
     "name": "stdout",
     "output_type": "stream",
     "text": [
      "Start: 1869 Stop: 1915\n"
     ]
    },
    {
     "name": "stderr",
     "output_type": "stream",
     "text": [
      "/home/vhepola_linux/do-env/lib/python3.10/site-packages/plotly/express/_core.py:2065: FutureWarning:\n",
      "\n",
      "When grouping with a length-1 list-like, you will need to pass a length-1 tuple to get_group in a future version of pandas. Pass `(name,)` instead of `name` to silence this warning.\n",
      "\n"
     ]
    },
    {
     "name": "stdout",
     "output_type": "stream",
     "text": [
      "Start: 1916 Stop: 1948\n"
     ]
    },
    {
     "name": "stderr",
     "output_type": "stream",
     "text": [
      "/home/vhepola_linux/do-env/lib/python3.10/site-packages/plotly/express/_core.py:2065: FutureWarning:\n",
      "\n",
      "When grouping with a length-1 list-like, you will need to pass a length-1 tuple to get_group in a future version of pandas. Pass `(name,)` instead of `name` to silence this warning.\n",
      "\n"
     ]
    },
    {
     "name": "stdout",
     "output_type": "stream",
     "text": [
      "Start: 1957 Stop: 1980\n"
     ]
    },
    {
     "name": "stderr",
     "output_type": "stream",
     "text": [
      "/home/vhepola_linux/do-env/lib/python3.10/site-packages/plotly/express/_core.py:2065: FutureWarning:\n",
      "\n",
      "When grouping with a length-1 list-like, you will need to pass a length-1 tuple to get_group in a future version of pandas. Pass `(name,)` instead of `name` to silence this warning.\n",
      "\n"
     ]
    },
    {
     "name": "stdout",
     "output_type": "stream",
     "text": [
      "Start: 16 Stop: 77\n"
     ]
    },
    {
     "name": "stderr",
     "output_type": "stream",
     "text": [
      "/home/vhepola_linux/do-env/lib/python3.10/site-packages/plotly/express/_core.py:2065: FutureWarning:\n",
      "\n",
      "When grouping with a length-1 list-like, you will need to pass a length-1 tuple to get_group in a future version of pandas. Pass `(name,)` instead of `name` to silence this warning.\n",
      "\n"
     ]
    },
    {
     "name": "stdout",
     "output_type": "stream",
     "text": [
      "Start: 163 Stop: 227\n"
     ]
    },
    {
     "name": "stderr",
     "output_type": "stream",
     "text": [
      "/home/vhepola_linux/do-env/lib/python3.10/site-packages/plotly/express/_core.py:2065: FutureWarning:\n",
      "\n",
      "When grouping with a length-1 list-like, you will need to pass a length-1 tuple to get_group in a future version of pandas. Pass `(name,)` instead of `name` to silence this warning.\n",
      "\n"
     ]
    },
    {
     "name": "stdout",
     "output_type": "stream",
     "text": [
      "Start: 253 Stop: 275\n"
     ]
    },
    {
     "name": "stderr",
     "output_type": "stream",
     "text": [
      "/home/vhepola_linux/do-env/lib/python3.10/site-packages/plotly/express/_core.py:2065: FutureWarning:\n",
      "\n",
      "When grouping with a length-1 list-like, you will need to pass a length-1 tuple to get_group in a future version of pandas. Pass `(name,)` instead of `name` to silence this warning.\n",
      "\n"
     ]
    },
    {
     "name": "stdout",
     "output_type": "stream",
     "text": [
      "Start: 270 Stop: 301\n"
     ]
    },
    {
     "name": "stderr",
     "output_type": "stream",
     "text": [
      "/home/vhepola_linux/do-env/lib/python3.10/site-packages/plotly/express/_core.py:2065: FutureWarning:\n",
      "\n",
      "When grouping with a length-1 list-like, you will need to pass a length-1 tuple to get_group in a future version of pandas. Pass `(name,)` instead of `name` to silence this warning.\n",
      "\n"
     ]
    },
    {
     "name": "stdout",
     "output_type": "stream",
     "text": [
      "Start: 307 Stop: 328\n"
     ]
    },
    {
     "name": "stderr",
     "output_type": "stream",
     "text": [
      "/home/vhepola_linux/do-env/lib/python3.10/site-packages/plotly/express/_core.py:2065: FutureWarning:\n",
      "\n",
      "When grouping with a length-1 list-like, you will need to pass a length-1 tuple to get_group in a future version of pandas. Pass `(name,)` instead of `name` to silence this warning.\n",
      "\n"
     ]
    },
    {
     "name": "stdout",
     "output_type": "stream",
     "text": [
      "Start: 491 Stop: 846\n"
     ]
    },
    {
     "name": "stderr",
     "output_type": "stream",
     "text": [
      "/home/vhepola_linux/do-env/lib/python3.10/site-packages/plotly/express/_core.py:2065: FutureWarning:\n",
      "\n",
      "When grouping with a length-1 list-like, you will need to pass a length-1 tuple to get_group in a future version of pandas. Pass `(name,)` instead of `name` to silence this warning.\n",
      "\n"
     ]
    },
    {
     "name": "stdout",
     "output_type": "stream",
     "text": [
      "Start: 260 Stop: 398\n"
     ]
    },
    {
     "name": "stderr",
     "output_type": "stream",
     "text": [
      "/home/vhepola_linux/do-env/lib/python3.10/site-packages/plotly/express/_core.py:2065: FutureWarning:\n",
      "\n",
      "When grouping with a length-1 list-like, you will need to pass a length-1 tuple to get_group in a future version of pandas. Pass `(name,)` instead of `name` to silence this warning.\n",
      "\n"
     ]
    },
    {
     "name": "stdout",
     "output_type": "stream",
     "text": [
      "Start: 71 Stop: 115\n"
     ]
    },
    {
     "name": "stderr",
     "output_type": "stream",
     "text": [
      "/home/vhepola_linux/do-env/lib/python3.10/site-packages/plotly/express/_core.py:2065: FutureWarning:\n",
      "\n",
      "When grouping with a length-1 list-like, you will need to pass a length-1 tuple to get_group in a future version of pandas. Pass `(name,)` instead of `name` to silence this warning.\n",
      "\n"
     ]
    },
    {
     "name": "stdout",
     "output_type": "stream",
     "text": [
      "Start: 165 Stop: 240\n"
     ]
    },
    {
     "name": "stderr",
     "output_type": "stream",
     "text": [
      "/home/vhepola_linux/do-env/lib/python3.10/site-packages/plotly/express/_core.py:2065: FutureWarning:\n",
      "\n",
      "When grouping with a length-1 list-like, you will need to pass a length-1 tuple to get_group in a future version of pandas. Pass `(name,)` instead of `name` to silence this warning.\n",
      "\n"
     ]
    },
    {
     "name": "stdout",
     "output_type": "stream",
     "text": [
      "Start: 303 Stop: 381\n"
     ]
    },
    {
     "name": "stderr",
     "output_type": "stream",
     "text": [
      "/home/vhepola_linux/do-env/lib/python3.10/site-packages/plotly/express/_core.py:2065: FutureWarning:\n",
      "\n",
      "When grouping with a length-1 list-like, you will need to pass a length-1 tuple to get_group in a future version of pandas. Pass `(name,)` instead of `name` to silence this warning.\n",
      "\n"
     ]
    },
    {
     "name": "stdout",
     "output_type": "stream",
     "text": [
      "Start: 385 Stop: 578\n"
     ]
    },
    {
     "name": "stderr",
     "output_type": "stream",
     "text": [
      "/home/vhepola_linux/do-env/lib/python3.10/site-packages/plotly/express/_core.py:2065: FutureWarning:\n",
      "\n",
      "When grouping with a length-1 list-like, you will need to pass a length-1 tuple to get_group in a future version of pandas. Pass `(name,)` instead of `name` to silence this warning.\n",
      "\n"
     ]
    },
    {
     "name": "stdout",
     "output_type": "stream",
     "text": [
      "Start: 592 Stop: 651\n"
     ]
    },
    {
     "name": "stderr",
     "output_type": "stream",
     "text": [
      "/home/vhepola_linux/do-env/lib/python3.10/site-packages/plotly/express/_core.py:2065: FutureWarning:\n",
      "\n",
      "When grouping with a length-1 list-like, you will need to pass a length-1 tuple to get_group in a future version of pandas. Pass `(name,)` instead of `name` to silence this warning.\n",
      "\n"
     ]
    },
    {
     "name": "stdout",
     "output_type": "stream",
     "text": [
      "Start: 648 Stop: 714\n"
     ]
    },
    {
     "name": "stderr",
     "output_type": "stream",
     "text": [
      "/home/vhepola_linux/do-env/lib/python3.10/site-packages/plotly/express/_core.py:2065: FutureWarning:\n",
      "\n",
      "When grouping with a length-1 list-like, you will need to pass a length-1 tuple to get_group in a future version of pandas. Pass `(name,)` instead of `name` to silence this warning.\n",
      "\n"
     ]
    },
    {
     "name": "stdout",
     "output_type": "stream",
     "text": [
      "Start: 785 Stop: 808\n"
     ]
    },
    {
     "name": "stderr",
     "output_type": "stream",
     "text": [
      "/home/vhepola_linux/do-env/lib/python3.10/site-packages/plotly/express/_core.py:2065: FutureWarning:\n",
      "\n",
      "When grouping with a length-1 list-like, you will need to pass a length-1 tuple to get_group in a future version of pandas. Pass `(name,)` instead of `name` to silence this warning.\n",
      "\n"
     ]
    },
    {
     "name": "stdout",
     "output_type": "stream",
     "text": [
      "Start: 946 Stop: 983\n"
     ]
    },
    {
     "name": "stderr",
     "output_type": "stream",
     "text": [
      "/home/vhepola_linux/do-env/lib/python3.10/site-packages/plotly/express/_core.py:2065: FutureWarning:\n",
      "\n",
      "When grouping with a length-1 list-like, you will need to pass a length-1 tuple to get_group in a future version of pandas. Pass `(name,)` instead of `name` to silence this warning.\n",
      "\n"
     ]
    },
    {
     "name": "stdout",
     "output_type": "stream",
     "text": [
      "Start: 1010 Stop: 1033\n"
     ]
    },
    {
     "name": "stderr",
     "output_type": "stream",
     "text": [
      "/home/vhepola_linux/do-env/lib/python3.10/site-packages/plotly/express/_core.py:2065: FutureWarning:\n",
      "\n",
      "When grouping with a length-1 list-like, you will need to pass a length-1 tuple to get_group in a future version of pandas. Pass `(name,)` instead of `name` to silence this warning.\n",
      "\n"
     ]
    },
    {
     "name": "stdout",
     "output_type": "stream",
     "text": [
      "Start: 1104 Stop: 1130\n"
     ]
    },
    {
     "name": "stderr",
     "output_type": "stream",
     "text": [
      "/home/vhepola_linux/do-env/lib/python3.10/site-packages/plotly/express/_core.py:2065: FutureWarning:\n",
      "\n",
      "When grouping with a length-1 list-like, you will need to pass a length-1 tuple to get_group in a future version of pandas. Pass `(name,)` instead of `name` to silence this warning.\n",
      "\n"
     ]
    },
    {
     "name": "stdout",
     "output_type": "stream",
     "text": [
      "Start: 1447 Stop: 1471\n"
     ]
    },
    {
     "name": "stderr",
     "output_type": "stream",
     "text": [
      "/home/vhepola_linux/do-env/lib/python3.10/site-packages/plotly/express/_core.py:2065: FutureWarning:\n",
      "\n",
      "When grouping with a length-1 list-like, you will need to pass a length-1 tuple to get_group in a future version of pandas. Pass `(name,)` instead of `name` to silence this warning.\n",
      "\n"
     ]
    },
    {
     "name": "stdout",
     "output_type": "stream",
     "text": [
      "Start: 1509 Stop: 1529\n"
     ]
    },
    {
     "name": "stderr",
     "output_type": "stream",
     "text": [
      "/home/vhepola_linux/do-env/lib/python3.10/site-packages/plotly/express/_core.py:2065: FutureWarning:\n",
      "\n",
      "When grouping with a length-1 list-like, you will need to pass a length-1 tuple to get_group in a future version of pandas. Pass `(name,)` instead of `name` to silence this warning.\n",
      "\n"
     ]
    },
    {
     "name": "stdout",
     "output_type": "stream",
     "text": [
      "Start: 1533 Stop: 1597\n"
     ]
    },
    {
     "name": "stderr",
     "output_type": "stream",
     "text": [
      "/home/vhepola_linux/do-env/lib/python3.10/site-packages/plotly/express/_core.py:2065: FutureWarning:\n",
      "\n",
      "When grouping with a length-1 list-like, you will need to pass a length-1 tuple to get_group in a future version of pandas. Pass `(name,)` instead of `name` to silence this warning.\n",
      "\n"
     ]
    },
    {
     "name": "stdout",
     "output_type": "stream",
     "text": [
      "Start: 1678 Stop: 1701\n"
     ]
    },
    {
     "name": "stderr",
     "output_type": "stream",
     "text": [
      "/home/vhepola_linux/do-env/lib/python3.10/site-packages/plotly/express/_core.py:2065: FutureWarning:\n",
      "\n",
      "When grouping with a length-1 list-like, you will need to pass a length-1 tuple to get_group in a future version of pandas. Pass `(name,)` instead of `name` to silence this warning.\n",
      "\n"
     ]
    },
    {
     "name": "stdout",
     "output_type": "stream",
     "text": [
      "Start: 1704 Stop: 1743\n"
     ]
    },
    {
     "name": "stderr",
     "output_type": "stream",
     "text": [
      "/home/vhepola_linux/do-env/lib/python3.10/site-packages/plotly/express/_core.py:2065: FutureWarning:\n",
      "\n",
      "When grouping with a length-1 list-like, you will need to pass a length-1 tuple to get_group in a future version of pandas. Pass `(name,)` instead of `name` to silence this warning.\n",
      "\n"
     ]
    },
    {
     "name": "stdout",
     "output_type": "stream",
     "text": [
      "Start: 1739 Stop: 1768\n"
     ]
    },
    {
     "name": "stderr",
     "output_type": "stream",
     "text": [
      "/home/vhepola_linux/do-env/lib/python3.10/site-packages/plotly/express/_core.py:2065: FutureWarning:\n",
      "\n",
      "When grouping with a length-1 list-like, you will need to pass a length-1 tuple to get_group in a future version of pandas. Pass `(name,)` instead of `name` to silence this warning.\n",
      "\n"
     ]
    },
    {
     "name": "stdout",
     "output_type": "stream",
     "text": [
      "Start: 178 Stop: 252\n"
     ]
    },
    {
     "name": "stderr",
     "output_type": "stream",
     "text": [
      "/home/vhepola_linux/do-env/lib/python3.10/site-packages/plotly/express/_core.py:2065: FutureWarning:\n",
      "\n",
      "When grouping with a length-1 list-like, you will need to pass a length-1 tuple to get_group in a future version of pandas. Pass `(name,)` instead of `name` to silence this warning.\n",
      "\n"
     ]
    },
    {
     "name": "stdout",
     "output_type": "stream",
     "text": [
      "Start: 376 Stop: 403\n"
     ]
    },
    {
     "name": "stderr",
     "output_type": "stream",
     "text": [
      "/home/vhepola_linux/do-env/lib/python3.10/site-packages/plotly/express/_core.py:2065: FutureWarning:\n",
      "\n",
      "When grouping with a length-1 list-like, you will need to pass a length-1 tuple to get_group in a future version of pandas. Pass `(name,)` instead of `name` to silence this warning.\n",
      "\n"
     ]
    },
    {
     "name": "stdout",
     "output_type": "stream",
     "text": [
      "Start: 467 Stop: 577\n"
     ]
    },
    {
     "name": "stderr",
     "output_type": "stream",
     "text": [
      "/home/vhepola_linux/do-env/lib/python3.10/site-packages/plotly/express/_core.py:2065: FutureWarning:\n",
      "\n",
      "When grouping with a length-1 list-like, you will need to pass a length-1 tuple to get_group in a future version of pandas. Pass `(name,)` instead of `name` to silence this warning.\n",
      "\n"
     ]
    },
    {
     "name": "stdout",
     "output_type": "stream",
     "text": [
      "Start: 599 Stop: 627\n"
     ]
    },
    {
     "name": "stderr",
     "output_type": "stream",
     "text": [
      "/home/vhepola_linux/do-env/lib/python3.10/site-packages/plotly/express/_core.py:2065: FutureWarning:\n",
      "\n",
      "When grouping with a length-1 list-like, you will need to pass a length-1 tuple to get_group in a future version of pandas. Pass `(name,)` instead of `name` to silence this warning.\n",
      "\n"
     ]
    },
    {
     "name": "stdout",
     "output_type": "stream",
     "text": [
      "Start: 621 Stop: 640\n"
     ]
    },
    {
     "name": "stderr",
     "output_type": "stream",
     "text": [
      "/home/vhepola_linux/do-env/lib/python3.10/site-packages/plotly/express/_core.py:2065: FutureWarning:\n",
      "\n",
      "When grouping with a length-1 list-like, you will need to pass a length-1 tuple to get_group in a future version of pandas. Pass `(name,)` instead of `name` to silence this warning.\n",
      "\n"
     ]
    },
    {
     "name": "stdout",
     "output_type": "stream",
     "text": [
      "Start: 647 Stop: 694\n"
     ]
    },
    {
     "name": "stderr",
     "output_type": "stream",
     "text": [
      "/home/vhepola_linux/do-env/lib/python3.10/site-packages/plotly/express/_core.py:2065: FutureWarning:\n",
      "\n",
      "When grouping with a length-1 list-like, you will need to pass a length-1 tuple to get_group in a future version of pandas. Pass `(name,)` instead of `name` to silence this warning.\n",
      "\n"
     ]
    },
    {
     "name": "stdout",
     "output_type": "stream",
     "text": [
      "Start: 863 Stop: 898\n"
     ]
    },
    {
     "name": "stderr",
     "output_type": "stream",
     "text": [
      "/home/vhepola_linux/do-env/lib/python3.10/site-packages/plotly/express/_core.py:2065: FutureWarning:\n",
      "\n",
      "When grouping with a length-1 list-like, you will need to pass a length-1 tuple to get_group in a future version of pandas. Pass `(name,)` instead of `name` to silence this warning.\n",
      "\n"
     ]
    },
    {
     "name": "stdout",
     "output_type": "stream",
     "text": [
      "Start: 919 Stop: 938\n"
     ]
    },
    {
     "name": "stderr",
     "output_type": "stream",
     "text": [
      "/home/vhepola_linux/do-env/lib/python3.10/site-packages/plotly/express/_core.py:2065: FutureWarning:\n",
      "\n",
      "When grouping with a length-1 list-like, you will need to pass a length-1 tuple to get_group in a future version of pandas. Pass `(name,)` instead of `name` to silence this warning.\n",
      "\n"
     ]
    },
    {
     "name": "stdout",
     "output_type": "stream",
     "text": [
      "Start: 968 Stop: 995\n"
     ]
    },
    {
     "name": "stderr",
     "output_type": "stream",
     "text": [
      "/home/vhepola_linux/do-env/lib/python3.10/site-packages/plotly/express/_core.py:2065: FutureWarning:\n",
      "\n",
      "When grouping with a length-1 list-like, you will need to pass a length-1 tuple to get_group in a future version of pandas. Pass `(name,)` instead of `name` to silence this warning.\n",
      "\n"
     ]
    },
    {
     "name": "stdout",
     "output_type": "stream",
     "text": [
      "Start: 1355 Stop: 1378\n"
     ]
    },
    {
     "name": "stderr",
     "output_type": "stream",
     "text": [
      "/home/vhepola_linux/do-env/lib/python3.10/site-packages/plotly/express/_core.py:2065: FutureWarning:\n",
      "\n",
      "When grouping with a length-1 list-like, you will need to pass a length-1 tuple to get_group in a future version of pandas. Pass `(name,)` instead of `name` to silence this warning.\n",
      "\n"
     ]
    },
    {
     "name": "stdout",
     "output_type": "stream",
     "text": [
      "Start: 1413 Stop: 1429\n"
     ]
    },
    {
     "name": "stderr",
     "output_type": "stream",
     "text": [
      "/home/vhepola_linux/do-env/lib/python3.10/site-packages/plotly/express/_core.py:2065: FutureWarning:\n",
      "\n",
      "When grouping with a length-1 list-like, you will need to pass a length-1 tuple to get_group in a future version of pandas. Pass `(name,)` instead of `name` to silence this warning.\n",
      "\n"
     ]
    },
    {
     "name": "stdout",
     "output_type": "stream",
     "text": [
      "Start: 1515 Stop: 1555\n"
     ]
    },
    {
     "name": "stderr",
     "output_type": "stream",
     "text": [
      "/home/vhepola_linux/do-env/lib/python3.10/site-packages/plotly/express/_core.py:2065: FutureWarning:\n",
      "\n",
      "When grouping with a length-1 list-like, you will need to pass a length-1 tuple to get_group in a future version of pandas. Pass `(name,)` instead of `name` to silence this warning.\n",
      "\n"
     ]
    },
    {
     "name": "stdout",
     "output_type": "stream",
     "text": [
      "Start: 1584 Stop: 1614\n"
     ]
    },
    {
     "name": "stderr",
     "output_type": "stream",
     "text": [
      "/home/vhepola_linux/do-env/lib/python3.10/site-packages/plotly/express/_core.py:2065: FutureWarning:\n",
      "\n",
      "When grouping with a length-1 list-like, you will need to pass a length-1 tuple to get_group in a future version of pandas. Pass `(name,)` instead of `name` to silence this warning.\n",
      "\n"
     ]
    },
    {
     "name": "stdout",
     "output_type": "stream",
     "text": [
      "Start: 1625 Stop: 1638\n"
     ]
    },
    {
     "name": "stderr",
     "output_type": "stream",
     "text": [
      "/home/vhepola_linux/do-env/lib/python3.10/site-packages/plotly/express/_core.py:2065: FutureWarning:\n",
      "\n",
      "When grouping with a length-1 list-like, you will need to pass a length-1 tuple to get_group in a future version of pandas. Pass `(name,)` instead of `name` to silence this warning.\n",
      "\n"
     ]
    },
    {
     "name": "stdout",
     "output_type": "stream",
     "text": [
      "Start: 1666 Stop: 1684\n"
     ]
    },
    {
     "name": "stderr",
     "output_type": "stream",
     "text": [
      "/home/vhepola_linux/do-env/lib/python3.10/site-packages/plotly/express/_core.py:2065: FutureWarning:\n",
      "\n",
      "When grouping with a length-1 list-like, you will need to pass a length-1 tuple to get_group in a future version of pandas. Pass `(name,)` instead of `name` to silence this warning.\n",
      "\n"
     ]
    },
    {
     "name": "stdout",
     "output_type": "stream",
     "text": [
      "Start: 1935 Stop: 1954\n"
     ]
    },
    {
     "name": "stderr",
     "output_type": "stream",
     "text": [
      "/home/vhepola_linux/do-env/lib/python3.10/site-packages/plotly/express/_core.py:2065: FutureWarning:\n",
      "\n",
      "When grouping with a length-1 list-like, you will need to pass a length-1 tuple to get_group in a future version of pandas. Pass `(name,)` instead of `name` to silence this warning.\n",
      "\n"
     ]
    },
    {
     "name": "stdout",
     "output_type": "stream",
     "text": [
      "Start: 47 Stop: 84\n"
     ]
    },
    {
     "name": "stderr",
     "output_type": "stream",
     "text": [
      "/home/vhepola_linux/do-env/lib/python3.10/site-packages/plotly/express/_core.py:2065: FutureWarning:\n",
      "\n",
      "When grouping with a length-1 list-like, you will need to pass a length-1 tuple to get_group in a future version of pandas. Pass `(name,)` instead of `name` to silence this warning.\n",
      "\n"
     ]
    },
    {
     "name": "stdout",
     "output_type": "stream",
     "text": [
      "Start: 346 Stop: 366\n"
     ]
    },
    {
     "name": "stderr",
     "output_type": "stream",
     "text": [
      "/home/vhepola_linux/do-env/lib/python3.10/site-packages/plotly/express/_core.py:2065: FutureWarning:\n",
      "\n",
      "When grouping with a length-1 list-like, you will need to pass a length-1 tuple to get_group in a future version of pandas. Pass `(name,)` instead of `name` to silence this warning.\n",
      "\n"
     ]
    },
    {
     "name": "stdout",
     "output_type": "stream",
     "text": [
      "Start: 969 Stop: 1003\n"
     ]
    },
    {
     "name": "stderr",
     "output_type": "stream",
     "text": [
      "/home/vhepola_linux/do-env/lib/python3.10/site-packages/plotly/express/_core.py:2065: FutureWarning:\n",
      "\n",
      "When grouping with a length-1 list-like, you will need to pass a length-1 tuple to get_group in a future version of pandas. Pass `(name,)` instead of `name` to silence this warning.\n",
      "\n"
     ]
    },
    {
     "name": "stdout",
     "output_type": "stream",
     "text": [
      "Start: 1010 Stop: 1051\n"
     ]
    },
    {
     "name": "stderr",
     "output_type": "stream",
     "text": [
      "/home/vhepola_linux/do-env/lib/python3.10/site-packages/plotly/express/_core.py:2065: FutureWarning:\n",
      "\n",
      "When grouping with a length-1 list-like, you will need to pass a length-1 tuple to get_group in a future version of pandas. Pass `(name,)` instead of `name` to silence this warning.\n",
      "\n"
     ]
    },
    {
     "name": "stdout",
     "output_type": "stream",
     "text": [
      "Start: 103 Stop: 158\n"
     ]
    },
    {
     "name": "stderr",
     "output_type": "stream",
     "text": [
      "/home/vhepola_linux/do-env/lib/python3.10/site-packages/plotly/express/_core.py:2065: FutureWarning:\n",
      "\n",
      "When grouping with a length-1 list-like, you will need to pass a length-1 tuple to get_group in a future version of pandas. Pass `(name,)` instead of `name` to silence this warning.\n",
      "\n"
     ]
    },
    {
     "name": "stdout",
     "output_type": "stream",
     "text": [
      "Start: 253 Stop: 288\n"
     ]
    },
    {
     "name": "stderr",
     "output_type": "stream",
     "text": [
      "/home/vhepola_linux/do-env/lib/python3.10/site-packages/plotly/express/_core.py:2065: FutureWarning:\n",
      "\n",
      "When grouping with a length-1 list-like, you will need to pass a length-1 tuple to get_group in a future version of pandas. Pass `(name,)` instead of `name` to silence this warning.\n",
      "\n"
     ]
    },
    {
     "name": "stdout",
     "output_type": "stream",
     "text": [
      "Start: 330 Stop: 364\n"
     ]
    },
    {
     "name": "stderr",
     "output_type": "stream",
     "text": [
      "/home/vhepola_linux/do-env/lib/python3.10/site-packages/plotly/express/_core.py:2065: FutureWarning:\n",
      "\n",
      "When grouping with a length-1 list-like, you will need to pass a length-1 tuple to get_group in a future version of pandas. Pass `(name,)` instead of `name` to silence this warning.\n",
      "\n"
     ]
    },
    {
     "name": "stdout",
     "output_type": "stream",
     "text": [
      "Start: 368 Stop: 425\n"
     ]
    },
    {
     "name": "stderr",
     "output_type": "stream",
     "text": [
      "/home/vhepola_linux/do-env/lib/python3.10/site-packages/plotly/express/_core.py:2065: FutureWarning:\n",
      "\n",
      "When grouping with a length-1 list-like, you will need to pass a length-1 tuple to get_group in a future version of pandas. Pass `(name,)` instead of `name` to silence this warning.\n",
      "\n"
     ]
    },
    {
     "name": "stdout",
     "output_type": "stream",
     "text": [
      "Start: 461 Stop: 478\n"
     ]
    },
    {
     "name": "stderr",
     "output_type": "stream",
     "text": [
      "/home/vhepola_linux/do-env/lib/python3.10/site-packages/plotly/express/_core.py:2065: FutureWarning:\n",
      "\n",
      "When grouping with a length-1 list-like, you will need to pass a length-1 tuple to get_group in a future version of pandas. Pass `(name,)` instead of `name` to silence this warning.\n",
      "\n"
     ]
    },
    {
     "name": "stdout",
     "output_type": "stream",
     "text": [
      "Start: 488 Stop: 509\n"
     ]
    },
    {
     "name": "stderr",
     "output_type": "stream",
     "text": [
      "/home/vhepola_linux/do-env/lib/python3.10/site-packages/plotly/express/_core.py:2065: FutureWarning:\n",
      "\n",
      "When grouping with a length-1 list-like, you will need to pass a length-1 tuple to get_group in a future version of pandas. Pass `(name,)` instead of `name` to silence this warning.\n",
      "\n"
     ]
    },
    {
     "name": "stdout",
     "output_type": "stream",
     "text": [
      "Start: 508 Stop: 539\n"
     ]
    },
    {
     "name": "stderr",
     "output_type": "stream",
     "text": [
      "/home/vhepola_linux/do-env/lib/python3.10/site-packages/plotly/express/_core.py:2065: FutureWarning:\n",
      "\n",
      "When grouping with a length-1 list-like, you will need to pass a length-1 tuple to get_group in a future version of pandas. Pass `(name,)` instead of `name` to silence this warning.\n",
      "\n"
     ]
    },
    {
     "name": "stdout",
     "output_type": "stream",
     "text": [
      "Start: 725 Stop: 791\n"
     ]
    },
    {
     "name": "stderr",
     "output_type": "stream",
     "text": [
      "/home/vhepola_linux/do-env/lib/python3.10/site-packages/plotly/express/_core.py:2065: FutureWarning:\n",
      "\n",
      "When grouping with a length-1 list-like, you will need to pass a length-1 tuple to get_group in a future version of pandas. Pass `(name,)` instead of `name` to silence this warning.\n",
      "\n"
     ]
    },
    {
     "name": "stdout",
     "output_type": "stream",
     "text": [
      "Start: 795 Stop: 818\n"
     ]
    },
    {
     "name": "stderr",
     "output_type": "stream",
     "text": [
      "/home/vhepola_linux/do-env/lib/python3.10/site-packages/plotly/express/_core.py:2065: FutureWarning:\n",
      "\n",
      "When grouping with a length-1 list-like, you will need to pass a length-1 tuple to get_group in a future version of pandas. Pass `(name,)` instead of `name` to silence this warning.\n",
      "\n"
     ]
    },
    {
     "name": "stdout",
     "output_type": "stream",
     "text": [
      "Start: 1254 Stop: 1283\n"
     ]
    },
    {
     "name": "stderr",
     "output_type": "stream",
     "text": [
      "/home/vhepola_linux/do-env/lib/python3.10/site-packages/plotly/express/_core.py:2065: FutureWarning:\n",
      "\n",
      "When grouping with a length-1 list-like, you will need to pass a length-1 tuple to get_group in a future version of pandas. Pass `(name,)` instead of `name` to silence this warning.\n",
      "\n"
     ]
    },
    {
     "name": "stdout",
     "output_type": "stream",
     "text": [
      "Start: 1410 Stop: 1457\n"
     ]
    },
    {
     "name": "stderr",
     "output_type": "stream",
     "text": [
      "/home/vhepola_linux/do-env/lib/python3.10/site-packages/plotly/express/_core.py:2065: FutureWarning:\n",
      "\n",
      "When grouping with a length-1 list-like, you will need to pass a length-1 tuple to get_group in a future version of pandas. Pass `(name,)` instead of `name` to silence this warning.\n",
      "\n"
     ]
    },
    {
     "name": "stdout",
     "output_type": "stream",
     "text": [
      "Start: 1506 Stop: 1555\n"
     ]
    },
    {
     "name": "stderr",
     "output_type": "stream",
     "text": [
      "/home/vhepola_linux/do-env/lib/python3.10/site-packages/plotly/express/_core.py:2065: FutureWarning:\n",
      "\n",
      "When grouping with a length-1 list-like, you will need to pass a length-1 tuple to get_group in a future version of pandas. Pass `(name,)` instead of `name` to silence this warning.\n",
      "\n"
     ]
    },
    {
     "name": "stdout",
     "output_type": "stream",
     "text": [
      "Start: 1641 Stop: 1668\n"
     ]
    },
    {
     "name": "stderr",
     "output_type": "stream",
     "text": [
      "/home/vhepola_linux/do-env/lib/python3.10/site-packages/plotly/express/_core.py:2065: FutureWarning:\n",
      "\n",
      "When grouping with a length-1 list-like, you will need to pass a length-1 tuple to get_group in a future version of pandas. Pass `(name,)` instead of `name` to silence this warning.\n",
      "\n"
     ]
    },
    {
     "name": "stdout",
     "output_type": "stream",
     "text": [
      "Start: 1743 Stop: 1861\n"
     ]
    },
    {
     "name": "stderr",
     "output_type": "stream",
     "text": [
      "/home/vhepola_linux/do-env/lib/python3.10/site-packages/plotly/express/_core.py:2065: FutureWarning:\n",
      "\n",
      "When grouping with a length-1 list-like, you will need to pass a length-1 tuple to get_group in a future version of pandas. Pass `(name,)` instead of `name` to silence this warning.\n",
      "\n"
     ]
    },
    {
     "name": "stdout",
     "output_type": "stream",
     "text": [
      "Start: 141 Stop: 188\n"
     ]
    },
    {
     "name": "stderr",
     "output_type": "stream",
     "text": [
      "/home/vhepola_linux/do-env/lib/python3.10/site-packages/plotly/express/_core.py:2065: FutureWarning:\n",
      "\n",
      "When grouping with a length-1 list-like, you will need to pass a length-1 tuple to get_group in a future version of pandas. Pass `(name,)` instead of `name` to silence this warning.\n",
      "\n"
     ]
    },
    {
     "name": "stdout",
     "output_type": "stream",
     "text": [
      "Start: 201 Stop: 221\n"
     ]
    },
    {
     "name": "stderr",
     "output_type": "stream",
     "text": [
      "/home/vhepola_linux/do-env/lib/python3.10/site-packages/plotly/express/_core.py:2065: FutureWarning:\n",
      "\n",
      "When grouping with a length-1 list-like, you will need to pass a length-1 tuple to get_group in a future version of pandas. Pass `(name,)` instead of `name` to silence this warning.\n",
      "\n"
     ]
    },
    {
     "name": "stdout",
     "output_type": "stream",
     "text": [
      "Start: 244 Stop: 268\n"
     ]
    },
    {
     "name": "stderr",
     "output_type": "stream",
     "text": [
      "/home/vhepola_linux/do-env/lib/python3.10/site-packages/plotly/express/_core.py:2065: FutureWarning:\n",
      "\n",
      "When grouping with a length-1 list-like, you will need to pass a length-1 tuple to get_group in a future version of pandas. Pass `(name,)` instead of `name` to silence this warning.\n",
      "\n"
     ]
    },
    {
     "name": "stdout",
     "output_type": "stream",
     "text": [
      "Start: 347 Stop: 371\n"
     ]
    },
    {
     "name": "stderr",
     "output_type": "stream",
     "text": [
      "/home/vhepola_linux/do-env/lib/python3.10/site-packages/plotly/express/_core.py:2065: FutureWarning:\n",
      "\n",
      "When grouping with a length-1 list-like, you will need to pass a length-1 tuple to get_group in a future version of pandas. Pass `(name,)` instead of `name` to silence this warning.\n",
      "\n"
     ]
    },
    {
     "name": "stdout",
     "output_type": "stream",
     "text": [
      "Start: 384 Stop: 488\n"
     ]
    },
    {
     "name": "stderr",
     "output_type": "stream",
     "text": [
      "/home/vhepola_linux/do-env/lib/python3.10/site-packages/plotly/express/_core.py:2065: FutureWarning:\n",
      "\n",
      "When grouping with a length-1 list-like, you will need to pass a length-1 tuple to get_group in a future version of pandas. Pass `(name,)` instead of `name` to silence this warning.\n",
      "\n"
     ]
    },
    {
     "name": "stdout",
     "output_type": "stream",
     "text": [
      "Start: 516 Stop: 540\n"
     ]
    },
    {
     "name": "stderr",
     "output_type": "stream",
     "text": [
      "/home/vhepola_linux/do-env/lib/python3.10/site-packages/plotly/express/_core.py:2065: FutureWarning:\n",
      "\n",
      "When grouping with a length-1 list-like, you will need to pass a length-1 tuple to get_group in a future version of pandas. Pass `(name,)` instead of `name` to silence this warning.\n",
      "\n"
     ]
    },
    {
     "name": "stdout",
     "output_type": "stream",
     "text": [
      "Start: 541 Stop: 559\n"
     ]
    },
    {
     "name": "stderr",
     "output_type": "stream",
     "text": [
      "/home/vhepola_linux/do-env/lib/python3.10/site-packages/plotly/express/_core.py:2065: FutureWarning:\n",
      "\n",
      "When grouping with a length-1 list-like, you will need to pass a length-1 tuple to get_group in a future version of pandas. Pass `(name,)` instead of `name` to silence this warning.\n",
      "\n"
     ]
    },
    {
     "name": "stdout",
     "output_type": "stream",
     "text": [
      "Start: 562 Stop: 602\n"
     ]
    },
    {
     "name": "stderr",
     "output_type": "stream",
     "text": [
      "/home/vhepola_linux/do-env/lib/python3.10/site-packages/plotly/express/_core.py:2065: FutureWarning:\n",
      "\n",
      "When grouping with a length-1 list-like, you will need to pass a length-1 tuple to get_group in a future version of pandas. Pass `(name,)` instead of `name` to silence this warning.\n",
      "\n"
     ]
    },
    {
     "name": "stdout",
     "output_type": "stream",
     "text": [
      "Start: 753 Stop: 776\n"
     ]
    },
    {
     "name": "stderr",
     "output_type": "stream",
     "text": [
      "/home/vhepola_linux/do-env/lib/python3.10/site-packages/plotly/express/_core.py:2065: FutureWarning:\n",
      "\n",
      "When grouping with a length-1 list-like, you will need to pass a length-1 tuple to get_group in a future version of pandas. Pass `(name,)` instead of `name` to silence this warning.\n",
      "\n"
     ]
    },
    {
     "name": "stdout",
     "output_type": "stream",
     "text": [
      "Start: 915 Stop: 931\n"
     ]
    },
    {
     "name": "stderr",
     "output_type": "stream",
     "text": [
      "/home/vhepola_linux/do-env/lib/python3.10/site-packages/plotly/express/_core.py:2065: FutureWarning:\n",
      "\n",
      "When grouping with a length-1 list-like, you will need to pass a length-1 tuple to get_group in a future version of pandas. Pass `(name,)` instead of `name` to silence this warning.\n",
      "\n"
     ]
    },
    {
     "name": "stdout",
     "output_type": "stream",
     "text": [
      "Start: 1081 Stop: 1180\n"
     ]
    },
    {
     "name": "stderr",
     "output_type": "stream",
     "text": [
      "/home/vhepola_linux/do-env/lib/python3.10/site-packages/plotly/express/_core.py:2065: FutureWarning:\n",
      "\n",
      "When grouping with a length-1 list-like, you will need to pass a length-1 tuple to get_group in a future version of pandas. Pass `(name,)` instead of `name` to silence this warning.\n",
      "\n"
     ]
    },
    {
     "name": "stdout",
     "output_type": "stream",
     "text": [
      "Start: 1200 Stop: 1232\n"
     ]
    },
    {
     "name": "stderr",
     "output_type": "stream",
     "text": [
      "/home/vhepola_linux/do-env/lib/python3.10/site-packages/plotly/express/_core.py:2065: FutureWarning:\n",
      "\n",
      "When grouping with a length-1 list-like, you will need to pass a length-1 tuple to get_group in a future version of pandas. Pass `(name,)` instead of `name` to silence this warning.\n",
      "\n"
     ]
    },
    {
     "name": "stdout",
     "output_type": "stream",
     "text": [
      "Start: 1294 Stop: 1315\n"
     ]
    },
    {
     "name": "stderr",
     "output_type": "stream",
     "text": [
      "/home/vhepola_linux/do-env/lib/python3.10/site-packages/plotly/express/_core.py:2065: FutureWarning:\n",
      "\n",
      "When grouping with a length-1 list-like, you will need to pass a length-1 tuple to get_group in a future version of pandas. Pass `(name,)` instead of `name` to silence this warning.\n",
      "\n"
     ]
    },
    {
     "name": "stdout",
     "output_type": "stream",
     "text": [
      "Start: 1331 Stop: 1393\n"
     ]
    },
    {
     "name": "stderr",
     "output_type": "stream",
     "text": [
      "/home/vhepola_linux/do-env/lib/python3.10/site-packages/plotly/express/_core.py:2065: FutureWarning:\n",
      "\n",
      "When grouping with a length-1 list-like, you will need to pass a length-1 tuple to get_group in a future version of pandas. Pass `(name,)` instead of `name` to silence this warning.\n",
      "\n"
     ]
    },
    {
     "name": "stdout",
     "output_type": "stream",
     "text": [
      "Start: 1508 Stop: 1531\n"
     ]
    },
    {
     "name": "stderr",
     "output_type": "stream",
     "text": [
      "/home/vhepola_linux/do-env/lib/python3.10/site-packages/plotly/express/_core.py:2065: FutureWarning:\n",
      "\n",
      "When grouping with a length-1 list-like, you will need to pass a length-1 tuple to get_group in a future version of pandas. Pass `(name,)` instead of `name` to silence this warning.\n",
      "\n"
     ]
    },
    {
     "name": "stdout",
     "output_type": "stream",
     "text": [
      "Start: 1562 Stop: 1582\n"
     ]
    },
    {
     "name": "stderr",
     "output_type": "stream",
     "text": [
      "/home/vhepola_linux/do-env/lib/python3.10/site-packages/plotly/express/_core.py:2065: FutureWarning:\n",
      "\n",
      "When grouping with a length-1 list-like, you will need to pass a length-1 tuple to get_group in a future version of pandas. Pass `(name,)` instead of `name` to silence this warning.\n",
      "\n"
     ]
    },
    {
     "name": "stdout",
     "output_type": "stream",
     "text": [
      "Start: 1683 Stop: 1710\n"
     ]
    },
    {
     "name": "stderr",
     "output_type": "stream",
     "text": [
      "/home/vhepola_linux/do-env/lib/python3.10/site-packages/plotly/express/_core.py:2065: FutureWarning:\n",
      "\n",
      "When grouping with a length-1 list-like, you will need to pass a length-1 tuple to get_group in a future version of pandas. Pass `(name,)` instead of `name` to silence this warning.\n",
      "\n"
     ]
    },
    {
     "name": "stdout",
     "output_type": "stream",
     "text": [
      "Start: 1768 Stop: 1805\n"
     ]
    },
    {
     "name": "stderr",
     "output_type": "stream",
     "text": [
      "/home/vhepola_linux/do-env/lib/python3.10/site-packages/plotly/express/_core.py:2065: FutureWarning:\n",
      "\n",
      "When grouping with a length-1 list-like, you will need to pass a length-1 tuple to get_group in a future version of pandas. Pass `(name,)` instead of `name` to silence this warning.\n",
      "\n"
     ]
    },
    {
     "name": "stdout",
     "output_type": "stream",
     "text": [
      "Start: 1813 Stop: 1832\n"
     ]
    },
    {
     "name": "stderr",
     "output_type": "stream",
     "text": [
      "/home/vhepola_linux/do-env/lib/python3.10/site-packages/plotly/express/_core.py:2065: FutureWarning:\n",
      "\n",
      "When grouping with a length-1 list-like, you will need to pass a length-1 tuple to get_group in a future version of pandas. Pass `(name,)` instead of `name` to silence this warning.\n",
      "\n"
     ]
    },
    {
     "name": "stdout",
     "output_type": "stream",
     "text": [
      "Start: 96 Stop: 141\n"
     ]
    },
    {
     "name": "stderr",
     "output_type": "stream",
     "text": [
      "/home/vhepola_linux/do-env/lib/python3.10/site-packages/plotly/express/_core.py:2065: FutureWarning:\n",
      "\n",
      "When grouping with a length-1 list-like, you will need to pass a length-1 tuple to get_group in a future version of pandas. Pass `(name,)` instead of `name` to silence this warning.\n",
      "\n"
     ]
    },
    {
     "name": "stdout",
     "output_type": "stream",
     "text": [
      "Start: 417 Stop: 445\n"
     ]
    },
    {
     "name": "stderr",
     "output_type": "stream",
     "text": [
      "/home/vhepola_linux/do-env/lib/python3.10/site-packages/plotly/express/_core.py:2065: FutureWarning:\n",
      "\n",
      "When grouping with a length-1 list-like, you will need to pass a length-1 tuple to get_group in a future version of pandas. Pass `(name,)` instead of `name` to silence this warning.\n",
      "\n"
     ]
    },
    {
     "name": "stdout",
     "output_type": "stream",
     "text": [
      "Start: 1 Stop: 37\n"
     ]
    },
    {
     "name": "stderr",
     "output_type": "stream",
     "text": [
      "/home/vhepola_linux/do-env/lib/python3.10/site-packages/plotly/express/_core.py:2065: FutureWarning:\n",
      "\n",
      "When grouping with a length-1 list-like, you will need to pass a length-1 tuple to get_group in a future version of pandas. Pass `(name,)` instead of `name` to silence this warning.\n",
      "\n"
     ]
    },
    {
     "name": "stdout",
     "output_type": "stream",
     "text": [
      "Start: 31 Stop: 64\n"
     ]
    },
    {
     "name": "stderr",
     "output_type": "stream",
     "text": [
      "/home/vhepola_linux/do-env/lib/python3.10/site-packages/plotly/express/_core.py:2065: FutureWarning:\n",
      "\n",
      "When grouping with a length-1 list-like, you will need to pass a length-1 tuple to get_group in a future version of pandas. Pass `(name,)` instead of `name` to silence this warning.\n",
      "\n"
     ]
    }
   ],
   "source": [
    "\n",
    "\n",
    "if not os.path.exists(f\"./images/bulk\"):\n",
    "    os.makedirs(f\"./images/bulk\")\n",
    "\n",
    "links = []\n",
    "bulkAutoOut = pd.DataFrame()\n",
    "\n",
    "\n",
    "i = 0\n",
    "\n",
    "for gmID in gmIDs[\"groupMetadataID\"]:\n",
    "    \n",
    "    autoOutput = autoOutput_dict[gmID][\"auto\"]\n",
    "    full_merged_df = autoOutput_dict[gmID][\"full\"]\n",
    "    \n",
    "    bulkAutoOut = pd.concat([bulkAutoOut,autoOutput])\n",
    "    \n",
    "    for index, row in autoOutput.iterrows():\n",
    "        \n",
    "        start = autoOutput.iloc[index][\"Start Index\"] - \\\n",
    "            min(autoOutput.iloc[index][\"Start Index\"], 5)\n",
    "        stop = autoOutput.iloc[index][\"Stop Index\"] + \\\n",
    "            min(full_merged_df.shape[0] -1 - autoOutput.iloc[index][\"Stop Index\"] , 5)\n",
    "        print(\"Start:\", start, \"Stop:\", stop)\n",
    "        temp_tran = full_merged_df[start:stop]\n",
    "\n",
    "        fig = px.scatter_mapbox(temp_tran, lat=\"latitude\", lon=\"longitude\",\n",
    "                                hover_data=[\"time\", \"drivingMode\", \"transitionType\"], color=\"drivingMode\", zoom=17, height=700, width=1000,\n",
    "                                color_discrete_map={\n",
    "                                    \"COMPLETE_MANUAL\": \"#601A4A\",\n",
    "                                    \"COMPLETE_AUTO_DRIVE\": \"#63ACBE\",\n",
    "                                    \"EMERGENCY_MODE\": \"#EE442F\",\n",
    "                                }\n",
    "                                )\n",
    "\n",
    "        # Layout settings\n",
    "        fig.update_layout(\n",
    "            mapbox_style=\"open-street-map\",\n",
    "            margin={\"r\": 0, \"t\": 0, \"l\": 0, \"b\": 0},\n",
    "        )\n",
    "\n",
    "        fig.update_traces(marker=dict(size=8))\n",
    "\n",
    "        name = f\"./images/bulk/tran_{i}.jpeg\"\n",
    "        links.append(name)\n",
    "        fig.write_image(name, engine=\"kaleido\")\n",
    "        \n",
    "        i+= 1"
   ]
  },
  {
   "cell_type": "code",
   "execution_count": 16,
   "id": "658e1072",
   "metadata": {},
   "outputs": [],
   "source": [
    "#autoOutput[\"Image\"] = links\n",
    "#autoOutput"
   ]
  },
  {
   "cell_type": "code",
   "execution_count": 17,
   "id": "fe531ecb",
   "metadata": {},
   "outputs": [
    {
     "data": {
      "text/plain": [
       "['./images/bulk/tran_0.jpeg',\n",
       " './images/bulk/tran_1.jpeg',\n",
       " './images/bulk/tran_2.jpeg',\n",
       " './images/bulk/tran_3.jpeg',\n",
       " './images/bulk/tran_4.jpeg',\n",
       " './images/bulk/tran_5.jpeg',\n",
       " './images/bulk/tran_6.jpeg',\n",
       " './images/bulk/tran_7.jpeg',\n",
       " './images/bulk/tran_8.jpeg',\n",
       " './images/bulk/tran_9.jpeg',\n",
       " './images/bulk/tran_10.jpeg',\n",
       " './images/bulk/tran_11.jpeg',\n",
       " './images/bulk/tran_12.jpeg',\n",
       " './images/bulk/tran_13.jpeg',\n",
       " './images/bulk/tran_14.jpeg',\n",
       " './images/bulk/tran_15.jpeg',\n",
       " './images/bulk/tran_16.jpeg',\n",
       " './images/bulk/tran_17.jpeg',\n",
       " './images/bulk/tran_18.jpeg',\n",
       " './images/bulk/tran_19.jpeg',\n",
       " './images/bulk/tran_20.jpeg',\n",
       " './images/bulk/tran_21.jpeg',\n",
       " './images/bulk/tran_22.jpeg',\n",
       " './images/bulk/tran_23.jpeg',\n",
       " './images/bulk/tran_24.jpeg',\n",
       " './images/bulk/tran_25.jpeg',\n",
       " './images/bulk/tran_26.jpeg',\n",
       " './images/bulk/tran_27.jpeg',\n",
       " './images/bulk/tran_28.jpeg',\n",
       " './images/bulk/tran_29.jpeg',\n",
       " './images/bulk/tran_30.jpeg',\n",
       " './images/bulk/tran_31.jpeg',\n",
       " './images/bulk/tran_32.jpeg',\n",
       " './images/bulk/tran_33.jpeg',\n",
       " './images/bulk/tran_34.jpeg',\n",
       " './images/bulk/tran_35.jpeg',\n",
       " './images/bulk/tran_36.jpeg',\n",
       " './images/bulk/tran_37.jpeg',\n",
       " './images/bulk/tran_38.jpeg',\n",
       " './images/bulk/tran_39.jpeg',\n",
       " './images/bulk/tran_40.jpeg',\n",
       " './images/bulk/tran_41.jpeg',\n",
       " './images/bulk/tran_42.jpeg',\n",
       " './images/bulk/tran_43.jpeg',\n",
       " './images/bulk/tran_44.jpeg',\n",
       " './images/bulk/tran_45.jpeg',\n",
       " './images/bulk/tran_46.jpeg',\n",
       " './images/bulk/tran_47.jpeg',\n",
       " './images/bulk/tran_48.jpeg',\n",
       " './images/bulk/tran_49.jpeg',\n",
       " './images/bulk/tran_50.jpeg',\n",
       " './images/bulk/tran_51.jpeg',\n",
       " './images/bulk/tran_52.jpeg',\n",
       " './images/bulk/tran_53.jpeg',\n",
       " './images/bulk/tran_54.jpeg',\n",
       " './images/bulk/tran_55.jpeg',\n",
       " './images/bulk/tran_56.jpeg',\n",
       " './images/bulk/tran_57.jpeg',\n",
       " './images/bulk/tran_58.jpeg',\n",
       " './images/bulk/tran_59.jpeg',\n",
       " './images/bulk/tran_60.jpeg',\n",
       " './images/bulk/tran_61.jpeg',\n",
       " './images/bulk/tran_62.jpeg',\n",
       " './images/bulk/tran_63.jpeg',\n",
       " './images/bulk/tran_64.jpeg',\n",
       " './images/bulk/tran_65.jpeg',\n",
       " './images/bulk/tran_66.jpeg',\n",
       " './images/bulk/tran_67.jpeg',\n",
       " './images/bulk/tran_68.jpeg',\n",
       " './images/bulk/tran_69.jpeg',\n",
       " './images/bulk/tran_70.jpeg',\n",
       " './images/bulk/tran_71.jpeg',\n",
       " './images/bulk/tran_72.jpeg',\n",
       " './images/bulk/tran_73.jpeg',\n",
       " './images/bulk/tran_74.jpeg',\n",
       " './images/bulk/tran_75.jpeg',\n",
       " './images/bulk/tran_76.jpeg',\n",
       " './images/bulk/tran_77.jpeg',\n",
       " './images/bulk/tran_78.jpeg',\n",
       " './images/bulk/tran_79.jpeg',\n",
       " './images/bulk/tran_80.jpeg',\n",
       " './images/bulk/tran_81.jpeg',\n",
       " './images/bulk/tran_82.jpeg',\n",
       " './images/bulk/tran_83.jpeg',\n",
       " './images/bulk/tran_84.jpeg',\n",
       " './images/bulk/tran_85.jpeg',\n",
       " './images/bulk/tran_86.jpeg',\n",
       " './images/bulk/tran_87.jpeg',\n",
       " './images/bulk/tran_88.jpeg',\n",
       " './images/bulk/tran_89.jpeg',\n",
       " './images/bulk/tran_90.jpeg',\n",
       " './images/bulk/tran_91.jpeg',\n",
       " './images/bulk/tran_92.jpeg',\n",
       " './images/bulk/tran_93.jpeg',\n",
       " './images/bulk/tran_94.jpeg',\n",
       " './images/bulk/tran_95.jpeg',\n",
       " './images/bulk/tran_96.jpeg',\n",
       " './images/bulk/tran_97.jpeg',\n",
       " './images/bulk/tran_98.jpeg',\n",
       " './images/bulk/tran_99.jpeg',\n",
       " './images/bulk/tran_100.jpeg',\n",
       " './images/bulk/tran_101.jpeg',\n",
       " './images/bulk/tran_102.jpeg',\n",
       " './images/bulk/tran_103.jpeg',\n",
       " './images/bulk/tran_104.jpeg',\n",
       " './images/bulk/tran_105.jpeg',\n",
       " './images/bulk/tran_106.jpeg',\n",
       " './images/bulk/tran_107.jpeg',\n",
       " './images/bulk/tran_108.jpeg',\n",
       " './images/bulk/tran_109.jpeg',\n",
       " './images/bulk/tran_110.jpeg',\n",
       " './images/bulk/tran_111.jpeg',\n",
       " './images/bulk/tran_112.jpeg',\n",
       " './images/bulk/tran_113.jpeg',\n",
       " './images/bulk/tran_114.jpeg',\n",
       " './images/bulk/tran_115.jpeg',\n",
       " './images/bulk/tran_116.jpeg',\n",
       " './images/bulk/tran_117.jpeg',\n",
       " './images/bulk/tran_118.jpeg',\n",
       " './images/bulk/tran_119.jpeg',\n",
       " './images/bulk/tran_120.jpeg',\n",
       " './images/bulk/tran_121.jpeg',\n",
       " './images/bulk/tran_122.jpeg',\n",
       " './images/bulk/tran_123.jpeg',\n",
       " './images/bulk/tran_124.jpeg',\n",
       " './images/bulk/tran_125.jpeg',\n",
       " './images/bulk/tran_126.jpeg',\n",
       " './images/bulk/tran_127.jpeg',\n",
       " './images/bulk/tran_128.jpeg',\n",
       " './images/bulk/tran_129.jpeg',\n",
       " './images/bulk/tran_130.jpeg',\n",
       " './images/bulk/tran_131.jpeg',\n",
       " './images/bulk/tran_132.jpeg',\n",
       " './images/bulk/tran_133.jpeg',\n",
       " './images/bulk/tran_134.jpeg',\n",
       " './images/bulk/tran_135.jpeg',\n",
       " './images/bulk/tran_136.jpeg',\n",
       " './images/bulk/tran_137.jpeg',\n",
       " './images/bulk/tran_138.jpeg',\n",
       " './images/bulk/tran_139.jpeg',\n",
       " './images/bulk/tran_140.jpeg',\n",
       " './images/bulk/tran_141.jpeg',\n",
       " './images/bulk/tran_142.jpeg',\n",
       " './images/bulk/tran_143.jpeg',\n",
       " './images/bulk/tran_144.jpeg',\n",
       " './images/bulk/tran_145.jpeg',\n",
       " './images/bulk/tran_146.jpeg',\n",
       " './images/bulk/tran_147.jpeg',\n",
       " './images/bulk/tran_148.jpeg',\n",
       " './images/bulk/tran_149.jpeg',\n",
       " './images/bulk/tran_150.jpeg',\n",
       " './images/bulk/tran_151.jpeg',\n",
       " './images/bulk/tran_152.jpeg',\n",
       " './images/bulk/tran_153.jpeg',\n",
       " './images/bulk/tran_154.jpeg',\n",
       " './images/bulk/tran_155.jpeg',\n",
       " './images/bulk/tran_156.jpeg',\n",
       " './images/bulk/tran_157.jpeg',\n",
       " './images/bulk/tran_158.jpeg',\n",
       " './images/bulk/tran_159.jpeg',\n",
       " './images/bulk/tran_160.jpeg',\n",
       " './images/bulk/tran_161.jpeg',\n",
       " './images/bulk/tran_162.jpeg',\n",
       " './images/bulk/tran_163.jpeg',\n",
       " './images/bulk/tran_164.jpeg',\n",
       " './images/bulk/tran_165.jpeg',\n",
       " './images/bulk/tran_166.jpeg',\n",
       " './images/bulk/tran_167.jpeg',\n",
       " './images/bulk/tran_168.jpeg',\n",
       " './images/bulk/tran_169.jpeg',\n",
       " './images/bulk/tran_170.jpeg',\n",
       " './images/bulk/tran_171.jpeg',\n",
       " './images/bulk/tran_172.jpeg',\n",
       " './images/bulk/tran_173.jpeg',\n",
       " './images/bulk/tran_174.jpeg',\n",
       " './images/bulk/tran_175.jpeg',\n",
       " './images/bulk/tran_176.jpeg',\n",
       " './images/bulk/tran_177.jpeg',\n",
       " './images/bulk/tran_178.jpeg',\n",
       " './images/bulk/tran_179.jpeg',\n",
       " './images/bulk/tran_180.jpeg',\n",
       " './images/bulk/tran_181.jpeg',\n",
       " './images/bulk/tran_182.jpeg',\n",
       " './images/bulk/tran_183.jpeg',\n",
       " './images/bulk/tran_184.jpeg',\n",
       " './images/bulk/tran_185.jpeg',\n",
       " './images/bulk/tran_186.jpeg',\n",
       " './images/bulk/tran_187.jpeg',\n",
       " './images/bulk/tran_188.jpeg',\n",
       " './images/bulk/tran_189.jpeg',\n",
       " './images/bulk/tran_190.jpeg',\n",
       " './images/bulk/tran_191.jpeg',\n",
       " './images/bulk/tran_192.jpeg',\n",
       " './images/bulk/tran_193.jpeg',\n",
       " './images/bulk/tran_194.jpeg',\n",
       " './images/bulk/tran_195.jpeg',\n",
       " './images/bulk/tran_196.jpeg',\n",
       " './images/bulk/tran_197.jpeg',\n",
       " './images/bulk/tran_198.jpeg',\n",
       " './images/bulk/tran_199.jpeg',\n",
       " './images/bulk/tran_200.jpeg',\n",
       " './images/bulk/tran_201.jpeg',\n",
       " './images/bulk/tran_202.jpeg',\n",
       " './images/bulk/tran_203.jpeg',\n",
       " './images/bulk/tran_204.jpeg',\n",
       " './images/bulk/tran_205.jpeg',\n",
       " './images/bulk/tran_206.jpeg',\n",
       " './images/bulk/tran_207.jpeg',\n",
       " './images/bulk/tran_208.jpeg',\n",
       " './images/bulk/tran_209.jpeg',\n",
       " './images/bulk/tran_210.jpeg',\n",
       " './images/bulk/tran_211.jpeg',\n",
       " './images/bulk/tran_212.jpeg',\n",
       " './images/bulk/tran_213.jpeg',\n",
       " './images/bulk/tran_214.jpeg',\n",
       " './images/bulk/tran_215.jpeg',\n",
       " './images/bulk/tran_216.jpeg',\n",
       " './images/bulk/tran_217.jpeg',\n",
       " './images/bulk/tran_218.jpeg',\n",
       " './images/bulk/tran_219.jpeg',\n",
       " './images/bulk/tran_220.jpeg',\n",
       " './images/bulk/tran_221.jpeg',\n",
       " './images/bulk/tran_222.jpeg',\n",
       " './images/bulk/tran_223.jpeg',\n",
       " './images/bulk/tran_224.jpeg',\n",
       " './images/bulk/tran_225.jpeg',\n",
       " './images/bulk/tran_226.jpeg',\n",
       " './images/bulk/tran_227.jpeg',\n",
       " './images/bulk/tran_228.jpeg',\n",
       " './images/bulk/tran_229.jpeg',\n",
       " './images/bulk/tran_230.jpeg',\n",
       " './images/bulk/tran_231.jpeg',\n",
       " './images/bulk/tran_232.jpeg',\n",
       " './images/bulk/tran_233.jpeg',\n",
       " './images/bulk/tran_234.jpeg',\n",
       " './images/bulk/tran_235.jpeg',\n",
       " './images/bulk/tran_236.jpeg',\n",
       " './images/bulk/tran_237.jpeg',\n",
       " './images/bulk/tran_238.jpeg',\n",
       " './images/bulk/tran_239.jpeg',\n",
       " './images/bulk/tran_240.jpeg',\n",
       " './images/bulk/tran_241.jpeg',\n",
       " './images/bulk/tran_242.jpeg',\n",
       " './images/bulk/tran_243.jpeg',\n",
       " './images/bulk/tran_244.jpeg',\n",
       " './images/bulk/tran_245.jpeg',\n",
       " './images/bulk/tran_246.jpeg',\n",
       " './images/bulk/tran_247.jpeg',\n",
       " './images/bulk/tran_248.jpeg',\n",
       " './images/bulk/tran_249.jpeg',\n",
       " './images/bulk/tran_250.jpeg',\n",
       " './images/bulk/tran_251.jpeg',\n",
       " './images/bulk/tran_252.jpeg',\n",
       " './images/bulk/tran_253.jpeg',\n",
       " './images/bulk/tran_254.jpeg',\n",
       " './images/bulk/tran_255.jpeg',\n",
       " './images/bulk/tran_256.jpeg',\n",
       " './images/bulk/tran_257.jpeg',\n",
       " './images/bulk/tran_258.jpeg',\n",
       " './images/bulk/tran_259.jpeg',\n",
       " './images/bulk/tran_260.jpeg',\n",
       " './images/bulk/tran_261.jpeg',\n",
       " './images/bulk/tran_262.jpeg',\n",
       " './images/bulk/tran_263.jpeg',\n",
       " './images/bulk/tran_264.jpeg',\n",
       " './images/bulk/tran_265.jpeg',\n",
       " './images/bulk/tran_266.jpeg',\n",
       " './images/bulk/tran_267.jpeg',\n",
       " './images/bulk/tran_268.jpeg',\n",
       " './images/bulk/tran_269.jpeg',\n",
       " './images/bulk/tran_270.jpeg',\n",
       " './images/bulk/tran_271.jpeg',\n",
       " './images/bulk/tran_272.jpeg',\n",
       " './images/bulk/tran_273.jpeg',\n",
       " './images/bulk/tran_274.jpeg',\n",
       " './images/bulk/tran_275.jpeg',\n",
       " './images/bulk/tran_276.jpeg',\n",
       " './images/bulk/tran_277.jpeg',\n",
       " './images/bulk/tran_278.jpeg',\n",
       " './images/bulk/tran_279.jpeg',\n",
       " './images/bulk/tran_280.jpeg',\n",
       " './images/bulk/tran_281.jpeg',\n",
       " './images/bulk/tran_282.jpeg',\n",
       " './images/bulk/tran_283.jpeg',\n",
       " './images/bulk/tran_284.jpeg',\n",
       " './images/bulk/tran_285.jpeg',\n",
       " './images/bulk/tran_286.jpeg',\n",
       " './images/bulk/tran_287.jpeg',\n",
       " './images/bulk/tran_288.jpeg',\n",
       " './images/bulk/tran_289.jpeg',\n",
       " './images/bulk/tran_290.jpeg',\n",
       " './images/bulk/tran_291.jpeg',\n",
       " './images/bulk/tran_292.jpeg',\n",
       " './images/bulk/tran_293.jpeg',\n",
       " './images/bulk/tran_294.jpeg',\n",
       " './images/bulk/tran_295.jpeg',\n",
       " './images/bulk/tran_296.jpeg',\n",
       " './images/bulk/tran_297.jpeg',\n",
       " './images/bulk/tran_298.jpeg',\n",
       " './images/bulk/tran_299.jpeg',\n",
       " './images/bulk/tran_300.jpeg',\n",
       " './images/bulk/tran_301.jpeg',\n",
       " './images/bulk/tran_302.jpeg',\n",
       " './images/bulk/tran_303.jpeg',\n",
       " './images/bulk/tran_304.jpeg',\n",
       " './images/bulk/tran_305.jpeg',\n",
       " './images/bulk/tran_306.jpeg',\n",
       " './images/bulk/tran_307.jpeg',\n",
       " './images/bulk/tran_308.jpeg',\n",
       " './images/bulk/tran_309.jpeg',\n",
       " './images/bulk/tran_310.jpeg',\n",
       " './images/bulk/tran_311.jpeg',\n",
       " './images/bulk/tran_312.jpeg',\n",
       " './images/bulk/tran_313.jpeg',\n",
       " './images/bulk/tran_314.jpeg',\n",
       " './images/bulk/tran_315.jpeg',\n",
       " './images/bulk/tran_316.jpeg',\n",
       " './images/bulk/tran_317.jpeg',\n",
       " './images/bulk/tran_318.jpeg',\n",
       " './images/bulk/tran_319.jpeg',\n",
       " './images/bulk/tran_320.jpeg',\n",
       " './images/bulk/tran_321.jpeg',\n",
       " './images/bulk/tran_322.jpeg',\n",
       " './images/bulk/tran_323.jpeg',\n",
       " './images/bulk/tran_324.jpeg',\n",
       " './images/bulk/tran_325.jpeg',\n",
       " './images/bulk/tran_326.jpeg',\n",
       " './images/bulk/tran_327.jpeg',\n",
       " './images/bulk/tran_328.jpeg',\n",
       " './images/bulk/tran_329.jpeg',\n",
       " './images/bulk/tran_330.jpeg',\n",
       " './images/bulk/tran_331.jpeg',\n",
       " './images/bulk/tran_332.jpeg',\n",
       " './images/bulk/tran_333.jpeg',\n",
       " './images/bulk/tran_334.jpeg',\n",
       " './images/bulk/tran_335.jpeg',\n",
       " './images/bulk/tran_336.jpeg',\n",
       " './images/bulk/tran_337.jpeg',\n",
       " './images/bulk/tran_338.jpeg',\n",
       " './images/bulk/tran_339.jpeg',\n",
       " './images/bulk/tran_340.jpeg',\n",
       " './images/bulk/tran_341.jpeg',\n",
       " './images/bulk/tran_342.jpeg',\n",
       " './images/bulk/tran_343.jpeg',\n",
       " './images/bulk/tran_344.jpeg',\n",
       " './images/bulk/tran_345.jpeg',\n",
       " './images/bulk/tran_346.jpeg',\n",
       " './images/bulk/tran_347.jpeg',\n",
       " './images/bulk/tran_348.jpeg',\n",
       " './images/bulk/tran_349.jpeg',\n",
       " './images/bulk/tran_350.jpeg',\n",
       " './images/bulk/tran_351.jpeg',\n",
       " './images/bulk/tran_352.jpeg',\n",
       " './images/bulk/tran_353.jpeg',\n",
       " './images/bulk/tran_354.jpeg',\n",
       " './images/bulk/tran_355.jpeg',\n",
       " './images/bulk/tran_356.jpeg',\n",
       " './images/bulk/tran_357.jpeg',\n",
       " './images/bulk/tran_358.jpeg',\n",
       " './images/bulk/tran_359.jpeg',\n",
       " './images/bulk/tran_360.jpeg',\n",
       " './images/bulk/tran_361.jpeg',\n",
       " './images/bulk/tran_362.jpeg',\n",
       " './images/bulk/tran_363.jpeg',\n",
       " './images/bulk/tran_364.jpeg',\n",
       " './images/bulk/tran_365.jpeg',\n",
       " './images/bulk/tran_366.jpeg',\n",
       " './images/bulk/tran_367.jpeg',\n",
       " './images/bulk/tran_368.jpeg',\n",
       " './images/bulk/tran_369.jpeg',\n",
       " './images/bulk/tran_370.jpeg',\n",
       " './images/bulk/tran_371.jpeg',\n",
       " './images/bulk/tran_372.jpeg',\n",
       " './images/bulk/tran_373.jpeg',\n",
       " './images/bulk/tran_374.jpeg',\n",
       " './images/bulk/tran_375.jpeg',\n",
       " './images/bulk/tran_376.jpeg',\n",
       " './images/bulk/tran_377.jpeg',\n",
       " './images/bulk/tran_378.jpeg',\n",
       " './images/bulk/tran_379.jpeg',\n",
       " './images/bulk/tran_380.jpeg',\n",
       " './images/bulk/tran_381.jpeg',\n",
       " './images/bulk/tran_382.jpeg',\n",
       " './images/bulk/tran_383.jpeg',\n",
       " './images/bulk/tran_384.jpeg',\n",
       " './images/bulk/tran_385.jpeg',\n",
       " './images/bulk/tran_386.jpeg',\n",
       " './images/bulk/tran_387.jpeg',\n",
       " './images/bulk/tran_388.jpeg',\n",
       " './images/bulk/tran_389.jpeg',\n",
       " './images/bulk/tran_390.jpeg',\n",
       " './images/bulk/tran_391.jpeg',\n",
       " './images/bulk/tran_392.jpeg',\n",
       " './images/bulk/tran_393.jpeg',\n",
       " './images/bulk/tran_394.jpeg',\n",
       " './images/bulk/tran_395.jpeg',\n",
       " './images/bulk/tran_396.jpeg',\n",
       " './images/bulk/tran_397.jpeg',\n",
       " './images/bulk/tran_398.jpeg',\n",
       " './images/bulk/tran_399.jpeg',\n",
       " './images/bulk/tran_400.jpeg',\n",
       " './images/bulk/tran_401.jpeg',\n",
       " './images/bulk/tran_402.jpeg',\n",
       " './images/bulk/tran_403.jpeg',\n",
       " './images/bulk/tran_404.jpeg',\n",
       " './images/bulk/tran_405.jpeg',\n",
       " './images/bulk/tran_406.jpeg',\n",
       " './images/bulk/tran_407.jpeg',\n",
       " './images/bulk/tran_408.jpeg',\n",
       " './images/bulk/tran_409.jpeg',\n",
       " './images/bulk/tran_410.jpeg',\n",
       " './images/bulk/tran_411.jpeg',\n",
       " './images/bulk/tran_412.jpeg',\n",
       " './images/bulk/tran_413.jpeg',\n",
       " './images/bulk/tran_414.jpeg',\n",
       " './images/bulk/tran_415.jpeg',\n",
       " './images/bulk/tran_416.jpeg',\n",
       " './images/bulk/tran_417.jpeg',\n",
       " './images/bulk/tran_418.jpeg',\n",
       " './images/bulk/tran_419.jpeg',\n",
       " './images/bulk/tran_420.jpeg',\n",
       " './images/bulk/tran_421.jpeg',\n",
       " './images/bulk/tran_422.jpeg',\n",
       " './images/bulk/tran_423.jpeg',\n",
       " './images/bulk/tran_424.jpeg',\n",
       " './images/bulk/tran_425.jpeg',\n",
       " './images/bulk/tran_426.jpeg',\n",
       " './images/bulk/tran_427.jpeg',\n",
       " './images/bulk/tran_428.jpeg',\n",
       " './images/bulk/tran_429.jpeg',\n",
       " './images/bulk/tran_430.jpeg',\n",
       " './images/bulk/tran_431.jpeg',\n",
       " './images/bulk/tran_432.jpeg',\n",
       " './images/bulk/tran_433.jpeg',\n",
       " './images/bulk/tran_434.jpeg',\n",
       " './images/bulk/tran_435.jpeg',\n",
       " './images/bulk/tran_436.jpeg',\n",
       " './images/bulk/tran_437.jpeg',\n",
       " './images/bulk/tran_438.jpeg',\n",
       " './images/bulk/tran_439.jpeg',\n",
       " './images/bulk/tran_440.jpeg',\n",
       " './images/bulk/tran_441.jpeg',\n",
       " './images/bulk/tran_442.jpeg',\n",
       " './images/bulk/tran_443.jpeg',\n",
       " './images/bulk/tran_444.jpeg',\n",
       " './images/bulk/tran_445.jpeg',\n",
       " './images/bulk/tran_446.jpeg',\n",
       " './images/bulk/tran_447.jpeg',\n",
       " './images/bulk/tran_448.jpeg',\n",
       " './images/bulk/tran_449.jpeg',\n",
       " './images/bulk/tran_450.jpeg',\n",
       " './images/bulk/tran_451.jpeg',\n",
       " './images/bulk/tran_452.jpeg',\n",
       " './images/bulk/tran_453.jpeg',\n",
       " './images/bulk/tran_454.jpeg',\n",
       " './images/bulk/tran_455.jpeg',\n",
       " './images/bulk/tran_456.jpeg',\n",
       " './images/bulk/tran_457.jpeg',\n",
       " './images/bulk/tran_458.jpeg',\n",
       " './images/bulk/tran_459.jpeg',\n",
       " './images/bulk/tran_460.jpeg',\n",
       " './images/bulk/tran_461.jpeg',\n",
       " './images/bulk/tran_462.jpeg',\n",
       " './images/bulk/tran_463.jpeg',\n",
       " './images/bulk/tran_464.jpeg',\n",
       " './images/bulk/tran_465.jpeg',\n",
       " './images/bulk/tran_466.jpeg',\n",
       " './images/bulk/tran_467.jpeg',\n",
       " './images/bulk/tran_468.jpeg',\n",
       " './images/bulk/tran_469.jpeg',\n",
       " './images/bulk/tran_470.jpeg',\n",
       " './images/bulk/tran_471.jpeg',\n",
       " './images/bulk/tran_472.jpeg',\n",
       " './images/bulk/tran_473.jpeg',\n",
       " './images/bulk/tran_474.jpeg',\n",
       " './images/bulk/tran_475.jpeg',\n",
       " './images/bulk/tran_476.jpeg',\n",
       " './images/bulk/tran_477.jpeg',\n",
       " './images/bulk/tran_478.jpeg',\n",
       " './images/bulk/tran_479.jpeg',\n",
       " './images/bulk/tran_480.jpeg',\n",
       " './images/bulk/tran_481.jpeg',\n",
       " './images/bulk/tran_482.jpeg',\n",
       " './images/bulk/tran_483.jpeg',\n",
       " './images/bulk/tran_484.jpeg',\n",
       " './images/bulk/tran_485.jpeg',\n",
       " './images/bulk/tran_486.jpeg',\n",
       " './images/bulk/tran_487.jpeg',\n",
       " './images/bulk/tran_488.jpeg',\n",
       " './images/bulk/tran_489.jpeg',\n",
       " './images/bulk/tran_490.jpeg',\n",
       " './images/bulk/tran_491.jpeg',\n",
       " './images/bulk/tran_492.jpeg',\n",
       " './images/bulk/tran_493.jpeg',\n",
       " './images/bulk/tran_494.jpeg',\n",
       " './images/bulk/tran_495.jpeg',\n",
       " './images/bulk/tran_496.jpeg',\n",
       " './images/bulk/tran_497.jpeg',\n",
       " './images/bulk/tran_498.jpeg',\n",
       " './images/bulk/tran_499.jpeg',\n",
       " './images/bulk/tran_500.jpeg',\n",
       " './images/bulk/tran_501.jpeg',\n",
       " './images/bulk/tran_502.jpeg',\n",
       " './images/bulk/tran_503.jpeg',\n",
       " './images/bulk/tran_504.jpeg']"
      ]
     },
     "execution_count": 17,
     "metadata": {},
     "output_type": "execute_result"
    }
   ],
   "source": [
    "links"
   ]
  },
  {
   "cell_type": "code",
   "execution_count": 18,
   "id": "2660c52c",
   "metadata": {},
   "outputs": [
    {
     "name": "stdout",
     "output_type": "stream",
     "text": [
      "./images/bulk/tran_0.jpeg\n",
      "./images/bulk/tran_1.jpeg\n",
      "./images/bulk/tran_2.jpeg\n",
      "./images/bulk/tran_3.jpeg\n",
      "./images/bulk/tran_4.jpeg\n",
      "./images/bulk/tran_5.jpeg\n",
      "./images/bulk/tran_6.jpeg\n",
      "./images/bulk/tran_7.jpeg\n",
      "./images/bulk/tran_8.jpeg\n",
      "./images/bulk/tran_9.jpeg\n",
      "./images/bulk/tran_10.jpeg\n",
      "./images/bulk/tran_11.jpeg\n",
      "./images/bulk/tran_12.jpeg\n",
      "./images/bulk/tran_13.jpeg\n",
      "./images/bulk/tran_14.jpeg\n",
      "./images/bulk/tran_15.jpeg\n",
      "./images/bulk/tran_16.jpeg\n",
      "./images/bulk/tran_17.jpeg\n",
      "./images/bulk/tran_18.jpeg\n",
      "./images/bulk/tran_19.jpeg\n",
      "./images/bulk/tran_20.jpeg\n",
      "./images/bulk/tran_21.jpeg\n",
      "./images/bulk/tran_22.jpeg\n",
      "./images/bulk/tran_23.jpeg\n",
      "./images/bulk/tran_24.jpeg\n",
      "./images/bulk/tran_25.jpeg\n",
      "./images/bulk/tran_26.jpeg\n",
      "./images/bulk/tran_27.jpeg\n",
      "./images/bulk/tran_28.jpeg\n",
      "./images/bulk/tran_29.jpeg\n",
      "./images/bulk/tran_30.jpeg\n",
      "./images/bulk/tran_31.jpeg\n",
      "./images/bulk/tran_32.jpeg\n",
      "./images/bulk/tran_33.jpeg\n",
      "./images/bulk/tran_34.jpeg\n",
      "./images/bulk/tran_35.jpeg\n",
      "./images/bulk/tran_36.jpeg\n",
      "./images/bulk/tran_37.jpeg\n",
      "./images/bulk/tran_38.jpeg\n",
      "./images/bulk/tran_39.jpeg\n",
      "./images/bulk/tran_40.jpeg\n",
      "./images/bulk/tran_41.jpeg\n",
      "./images/bulk/tran_42.jpeg\n",
      "./images/bulk/tran_43.jpeg\n",
      "./images/bulk/tran_44.jpeg\n",
      "./images/bulk/tran_45.jpeg\n",
      "./images/bulk/tran_46.jpeg\n",
      "./images/bulk/tran_47.jpeg\n",
      "./images/bulk/tran_48.jpeg\n",
      "./images/bulk/tran_49.jpeg\n",
      "./images/bulk/tran_50.jpeg\n",
      "./images/bulk/tran_51.jpeg\n",
      "./images/bulk/tran_52.jpeg\n",
      "./images/bulk/tran_53.jpeg\n",
      "./images/bulk/tran_54.jpeg\n",
      "./images/bulk/tran_55.jpeg\n",
      "./images/bulk/tran_56.jpeg\n",
      "./images/bulk/tran_57.jpeg\n",
      "./images/bulk/tran_58.jpeg\n",
      "./images/bulk/tran_59.jpeg\n",
      "./images/bulk/tran_60.jpeg\n",
      "./images/bulk/tran_61.jpeg\n",
      "./images/bulk/tran_62.jpeg\n",
      "./images/bulk/tran_63.jpeg\n",
      "./images/bulk/tran_64.jpeg\n",
      "./images/bulk/tran_65.jpeg\n",
      "./images/bulk/tran_66.jpeg\n",
      "./images/bulk/tran_67.jpeg\n",
      "./images/bulk/tran_68.jpeg\n",
      "./images/bulk/tran_69.jpeg\n",
      "./images/bulk/tran_70.jpeg\n",
      "./images/bulk/tran_71.jpeg\n",
      "./images/bulk/tran_72.jpeg\n",
      "./images/bulk/tran_73.jpeg\n",
      "./images/bulk/tran_74.jpeg\n",
      "./images/bulk/tran_75.jpeg\n",
      "./images/bulk/tran_76.jpeg\n",
      "./images/bulk/tran_77.jpeg\n",
      "./images/bulk/tran_78.jpeg\n",
      "./images/bulk/tran_79.jpeg\n",
      "./images/bulk/tran_80.jpeg\n",
      "./images/bulk/tran_81.jpeg\n",
      "./images/bulk/tran_82.jpeg\n",
      "./images/bulk/tran_83.jpeg\n",
      "./images/bulk/tran_84.jpeg\n",
      "./images/bulk/tran_85.jpeg\n",
      "./images/bulk/tran_86.jpeg\n",
      "./images/bulk/tran_87.jpeg\n",
      "./images/bulk/tran_88.jpeg\n",
      "./images/bulk/tran_89.jpeg\n",
      "./images/bulk/tran_90.jpeg\n",
      "./images/bulk/tran_91.jpeg\n",
      "./images/bulk/tran_92.jpeg\n",
      "./images/bulk/tran_93.jpeg\n",
      "./images/bulk/tran_94.jpeg\n",
      "./images/bulk/tran_95.jpeg\n",
      "./images/bulk/tran_96.jpeg\n",
      "./images/bulk/tran_97.jpeg\n",
      "./images/bulk/tran_98.jpeg\n",
      "./images/bulk/tran_99.jpeg\n",
      "./images/bulk/tran_100.jpeg\n",
      "./images/bulk/tran_101.jpeg\n",
      "./images/bulk/tran_102.jpeg\n",
      "./images/bulk/tran_103.jpeg\n",
      "./images/bulk/tran_104.jpeg\n",
      "./images/bulk/tran_105.jpeg\n",
      "./images/bulk/tran_106.jpeg\n",
      "./images/bulk/tran_107.jpeg\n",
      "./images/bulk/tran_108.jpeg\n",
      "./images/bulk/tran_109.jpeg\n",
      "./images/bulk/tran_110.jpeg\n",
      "./images/bulk/tran_111.jpeg\n",
      "./images/bulk/tran_112.jpeg\n",
      "./images/bulk/tran_113.jpeg\n",
      "./images/bulk/tran_114.jpeg\n",
      "./images/bulk/tran_115.jpeg\n",
      "./images/bulk/tran_116.jpeg\n",
      "./images/bulk/tran_117.jpeg\n",
      "./images/bulk/tran_118.jpeg\n",
      "./images/bulk/tran_119.jpeg\n",
      "./images/bulk/tran_120.jpeg\n",
      "./images/bulk/tran_121.jpeg\n",
      "./images/bulk/tran_122.jpeg\n",
      "./images/bulk/tran_123.jpeg\n",
      "./images/bulk/tran_124.jpeg\n",
      "./images/bulk/tran_125.jpeg\n",
      "./images/bulk/tran_126.jpeg\n",
      "./images/bulk/tran_127.jpeg\n",
      "./images/bulk/tran_128.jpeg\n",
      "./images/bulk/tran_129.jpeg\n",
      "./images/bulk/tran_130.jpeg\n",
      "./images/bulk/tran_131.jpeg\n",
      "./images/bulk/tran_132.jpeg\n",
      "./images/bulk/tran_133.jpeg\n",
      "./images/bulk/tran_134.jpeg\n",
      "./images/bulk/tran_135.jpeg\n",
      "./images/bulk/tran_136.jpeg\n",
      "./images/bulk/tran_137.jpeg\n",
      "./images/bulk/tran_138.jpeg\n",
      "./images/bulk/tran_139.jpeg\n",
      "./images/bulk/tran_140.jpeg\n",
      "./images/bulk/tran_141.jpeg\n",
      "./images/bulk/tran_142.jpeg\n",
      "./images/bulk/tran_143.jpeg\n",
      "./images/bulk/tran_144.jpeg\n",
      "./images/bulk/tran_145.jpeg\n",
      "./images/bulk/tran_146.jpeg\n",
      "./images/bulk/tran_147.jpeg\n",
      "./images/bulk/tran_148.jpeg\n",
      "./images/bulk/tran_149.jpeg\n",
      "./images/bulk/tran_150.jpeg\n",
      "./images/bulk/tran_151.jpeg\n",
      "./images/bulk/tran_152.jpeg\n",
      "./images/bulk/tran_153.jpeg\n",
      "./images/bulk/tran_154.jpeg\n",
      "./images/bulk/tran_155.jpeg\n",
      "./images/bulk/tran_156.jpeg\n",
      "./images/bulk/tran_157.jpeg\n",
      "./images/bulk/tran_158.jpeg\n",
      "./images/bulk/tran_159.jpeg\n",
      "./images/bulk/tran_160.jpeg\n",
      "./images/bulk/tran_161.jpeg\n",
      "./images/bulk/tran_162.jpeg\n",
      "./images/bulk/tran_163.jpeg\n",
      "./images/bulk/tran_164.jpeg\n",
      "./images/bulk/tran_165.jpeg\n",
      "./images/bulk/tran_166.jpeg\n",
      "./images/bulk/tran_167.jpeg\n",
      "./images/bulk/tran_168.jpeg\n",
      "./images/bulk/tran_169.jpeg\n",
      "./images/bulk/tran_170.jpeg\n",
      "./images/bulk/tran_171.jpeg\n",
      "./images/bulk/tran_172.jpeg\n",
      "./images/bulk/tran_173.jpeg\n",
      "./images/bulk/tran_174.jpeg\n",
      "./images/bulk/tran_175.jpeg\n",
      "./images/bulk/tran_176.jpeg\n",
      "./images/bulk/tran_177.jpeg\n",
      "./images/bulk/tran_178.jpeg\n",
      "./images/bulk/tran_179.jpeg\n",
      "./images/bulk/tran_180.jpeg\n",
      "./images/bulk/tran_181.jpeg\n",
      "./images/bulk/tran_182.jpeg\n",
      "./images/bulk/tran_183.jpeg\n",
      "./images/bulk/tran_184.jpeg\n",
      "./images/bulk/tran_185.jpeg\n",
      "./images/bulk/tran_186.jpeg\n",
      "./images/bulk/tran_187.jpeg\n",
      "./images/bulk/tran_188.jpeg\n",
      "./images/bulk/tran_189.jpeg\n",
      "./images/bulk/tran_190.jpeg\n",
      "./images/bulk/tran_191.jpeg\n",
      "./images/bulk/tran_192.jpeg\n",
      "./images/bulk/tran_193.jpeg\n",
      "./images/bulk/tran_194.jpeg\n",
      "./images/bulk/tran_195.jpeg\n",
      "./images/bulk/tran_196.jpeg\n",
      "./images/bulk/tran_197.jpeg\n",
      "./images/bulk/tran_198.jpeg\n",
      "./images/bulk/tran_199.jpeg\n",
      "./images/bulk/tran_200.jpeg\n",
      "./images/bulk/tran_201.jpeg\n",
      "./images/bulk/tran_202.jpeg\n",
      "./images/bulk/tran_203.jpeg\n",
      "./images/bulk/tran_204.jpeg\n",
      "./images/bulk/tran_205.jpeg\n",
      "./images/bulk/tran_206.jpeg\n",
      "./images/bulk/tran_207.jpeg\n",
      "./images/bulk/tran_208.jpeg\n",
      "./images/bulk/tran_209.jpeg\n",
      "./images/bulk/tran_210.jpeg\n",
      "./images/bulk/tran_211.jpeg\n",
      "./images/bulk/tran_212.jpeg\n",
      "./images/bulk/tran_213.jpeg\n",
      "./images/bulk/tran_214.jpeg\n",
      "./images/bulk/tran_215.jpeg\n",
      "./images/bulk/tran_216.jpeg\n",
      "./images/bulk/tran_217.jpeg\n",
      "./images/bulk/tran_218.jpeg\n",
      "./images/bulk/tran_219.jpeg\n",
      "./images/bulk/tran_220.jpeg\n",
      "./images/bulk/tran_221.jpeg\n",
      "./images/bulk/tran_222.jpeg\n",
      "./images/bulk/tran_223.jpeg\n",
      "./images/bulk/tran_224.jpeg\n",
      "./images/bulk/tran_225.jpeg\n",
      "./images/bulk/tran_226.jpeg\n",
      "./images/bulk/tran_227.jpeg\n",
      "./images/bulk/tran_228.jpeg\n",
      "./images/bulk/tran_229.jpeg\n",
      "./images/bulk/tran_230.jpeg\n",
      "./images/bulk/tran_231.jpeg\n",
      "./images/bulk/tran_232.jpeg\n",
      "./images/bulk/tran_233.jpeg\n",
      "./images/bulk/tran_234.jpeg\n",
      "./images/bulk/tran_235.jpeg\n",
      "./images/bulk/tran_236.jpeg\n",
      "./images/bulk/tran_237.jpeg\n",
      "./images/bulk/tran_238.jpeg\n",
      "./images/bulk/tran_239.jpeg\n",
      "./images/bulk/tran_240.jpeg\n",
      "./images/bulk/tran_241.jpeg\n",
      "./images/bulk/tran_242.jpeg\n",
      "./images/bulk/tran_243.jpeg\n",
      "./images/bulk/tran_244.jpeg\n",
      "./images/bulk/tran_245.jpeg\n",
      "./images/bulk/tran_246.jpeg\n",
      "./images/bulk/tran_247.jpeg\n",
      "./images/bulk/tran_248.jpeg\n",
      "./images/bulk/tran_249.jpeg\n",
      "./images/bulk/tran_250.jpeg\n",
      "./images/bulk/tran_251.jpeg\n",
      "./images/bulk/tran_252.jpeg\n",
      "./images/bulk/tran_253.jpeg\n",
      "./images/bulk/tran_254.jpeg\n",
      "./images/bulk/tran_255.jpeg\n",
      "./images/bulk/tran_256.jpeg\n",
      "./images/bulk/tran_257.jpeg\n",
      "./images/bulk/tran_258.jpeg\n",
      "./images/bulk/tran_259.jpeg\n",
      "./images/bulk/tran_260.jpeg\n",
      "./images/bulk/tran_261.jpeg\n",
      "./images/bulk/tran_262.jpeg\n",
      "./images/bulk/tran_263.jpeg\n",
      "./images/bulk/tran_264.jpeg\n",
      "./images/bulk/tran_265.jpeg\n",
      "./images/bulk/tran_266.jpeg\n",
      "./images/bulk/tran_267.jpeg\n",
      "./images/bulk/tran_268.jpeg\n",
      "./images/bulk/tran_269.jpeg\n",
      "./images/bulk/tran_270.jpeg\n",
      "./images/bulk/tran_271.jpeg\n",
      "./images/bulk/tran_272.jpeg\n",
      "./images/bulk/tran_273.jpeg\n",
      "./images/bulk/tran_274.jpeg\n",
      "./images/bulk/tran_275.jpeg\n",
      "./images/bulk/tran_276.jpeg\n",
      "./images/bulk/tran_277.jpeg\n",
      "./images/bulk/tran_278.jpeg\n",
      "./images/bulk/tran_279.jpeg\n",
      "./images/bulk/tran_280.jpeg\n",
      "./images/bulk/tran_281.jpeg\n",
      "./images/bulk/tran_282.jpeg\n",
      "./images/bulk/tran_283.jpeg\n",
      "./images/bulk/tran_284.jpeg\n",
      "./images/bulk/tran_285.jpeg\n",
      "./images/bulk/tran_286.jpeg\n",
      "./images/bulk/tran_287.jpeg\n",
      "./images/bulk/tran_288.jpeg\n",
      "./images/bulk/tran_289.jpeg\n",
      "./images/bulk/tran_290.jpeg\n",
      "./images/bulk/tran_291.jpeg\n",
      "./images/bulk/tran_292.jpeg\n",
      "./images/bulk/tran_293.jpeg\n",
      "./images/bulk/tran_294.jpeg\n",
      "./images/bulk/tran_295.jpeg\n",
      "./images/bulk/tran_296.jpeg\n",
      "./images/bulk/tran_297.jpeg\n",
      "./images/bulk/tran_298.jpeg\n",
      "./images/bulk/tran_299.jpeg\n",
      "./images/bulk/tran_300.jpeg\n",
      "./images/bulk/tran_301.jpeg\n",
      "./images/bulk/tran_302.jpeg\n",
      "./images/bulk/tran_303.jpeg\n",
      "./images/bulk/tran_304.jpeg\n",
      "./images/bulk/tran_305.jpeg\n",
      "./images/bulk/tran_306.jpeg\n",
      "./images/bulk/tran_307.jpeg\n",
      "./images/bulk/tran_308.jpeg\n",
      "./images/bulk/tran_309.jpeg\n",
      "./images/bulk/tran_310.jpeg\n",
      "./images/bulk/tran_311.jpeg\n",
      "./images/bulk/tran_312.jpeg\n",
      "./images/bulk/tran_313.jpeg\n",
      "./images/bulk/tran_314.jpeg\n",
      "./images/bulk/tran_315.jpeg\n",
      "./images/bulk/tran_316.jpeg\n",
      "./images/bulk/tran_317.jpeg\n",
      "./images/bulk/tran_318.jpeg\n",
      "./images/bulk/tran_319.jpeg\n",
      "./images/bulk/tran_320.jpeg\n",
      "./images/bulk/tran_321.jpeg\n",
      "./images/bulk/tran_322.jpeg\n",
      "./images/bulk/tran_323.jpeg\n",
      "./images/bulk/tran_324.jpeg\n",
      "./images/bulk/tran_325.jpeg\n",
      "./images/bulk/tran_326.jpeg\n",
      "./images/bulk/tran_327.jpeg\n",
      "./images/bulk/tran_328.jpeg\n",
      "./images/bulk/tran_329.jpeg\n",
      "./images/bulk/tran_330.jpeg\n",
      "./images/bulk/tran_331.jpeg\n",
      "./images/bulk/tran_332.jpeg\n",
      "./images/bulk/tran_333.jpeg\n",
      "./images/bulk/tran_334.jpeg\n",
      "./images/bulk/tran_335.jpeg\n",
      "./images/bulk/tran_336.jpeg\n",
      "./images/bulk/tran_337.jpeg\n",
      "./images/bulk/tran_338.jpeg\n",
      "./images/bulk/tran_339.jpeg\n",
      "./images/bulk/tran_340.jpeg\n",
      "./images/bulk/tran_341.jpeg\n",
      "./images/bulk/tran_342.jpeg\n",
      "./images/bulk/tran_343.jpeg\n",
      "./images/bulk/tran_344.jpeg\n",
      "./images/bulk/tran_345.jpeg\n",
      "./images/bulk/tran_346.jpeg\n",
      "./images/bulk/tran_347.jpeg\n",
      "./images/bulk/tran_348.jpeg\n",
      "./images/bulk/tran_349.jpeg\n",
      "./images/bulk/tran_350.jpeg\n",
      "./images/bulk/tran_351.jpeg\n",
      "./images/bulk/tran_352.jpeg\n",
      "./images/bulk/tran_353.jpeg\n",
      "./images/bulk/tran_354.jpeg\n",
      "./images/bulk/tran_355.jpeg\n",
      "./images/bulk/tran_356.jpeg\n",
      "./images/bulk/tran_357.jpeg\n",
      "./images/bulk/tran_358.jpeg\n",
      "./images/bulk/tran_359.jpeg\n",
      "./images/bulk/tran_360.jpeg\n",
      "./images/bulk/tran_361.jpeg\n",
      "./images/bulk/tran_362.jpeg\n",
      "./images/bulk/tran_363.jpeg\n",
      "./images/bulk/tran_364.jpeg\n",
      "./images/bulk/tran_365.jpeg\n",
      "./images/bulk/tran_366.jpeg\n",
      "./images/bulk/tran_367.jpeg\n",
      "./images/bulk/tran_368.jpeg\n",
      "./images/bulk/tran_369.jpeg\n",
      "./images/bulk/tran_370.jpeg\n",
      "./images/bulk/tran_371.jpeg\n",
      "./images/bulk/tran_372.jpeg\n",
      "./images/bulk/tran_373.jpeg\n",
      "./images/bulk/tran_374.jpeg\n",
      "./images/bulk/tran_375.jpeg\n",
      "./images/bulk/tran_376.jpeg\n",
      "./images/bulk/tran_377.jpeg\n",
      "./images/bulk/tran_378.jpeg\n",
      "./images/bulk/tran_379.jpeg\n",
      "./images/bulk/tran_380.jpeg\n",
      "./images/bulk/tran_381.jpeg\n",
      "./images/bulk/tran_382.jpeg\n",
      "./images/bulk/tran_383.jpeg\n",
      "./images/bulk/tran_384.jpeg\n",
      "./images/bulk/tran_385.jpeg\n",
      "./images/bulk/tran_386.jpeg\n",
      "./images/bulk/tran_387.jpeg\n",
      "./images/bulk/tran_388.jpeg\n",
      "./images/bulk/tran_389.jpeg\n",
      "./images/bulk/tran_390.jpeg\n",
      "./images/bulk/tran_391.jpeg\n",
      "./images/bulk/tran_392.jpeg\n",
      "./images/bulk/tran_393.jpeg\n",
      "./images/bulk/tran_394.jpeg\n",
      "./images/bulk/tran_395.jpeg\n",
      "./images/bulk/tran_396.jpeg\n",
      "./images/bulk/tran_397.jpeg\n",
      "./images/bulk/tran_398.jpeg\n",
      "./images/bulk/tran_399.jpeg\n",
      "./images/bulk/tran_400.jpeg\n",
      "./images/bulk/tran_401.jpeg\n",
      "./images/bulk/tran_402.jpeg\n",
      "./images/bulk/tran_403.jpeg\n",
      "./images/bulk/tran_404.jpeg\n",
      "./images/bulk/tran_405.jpeg\n",
      "./images/bulk/tran_406.jpeg\n",
      "./images/bulk/tran_407.jpeg\n",
      "./images/bulk/tran_408.jpeg\n",
      "./images/bulk/tran_409.jpeg\n",
      "./images/bulk/tran_410.jpeg\n",
      "./images/bulk/tran_411.jpeg\n",
      "./images/bulk/tran_412.jpeg\n",
      "./images/bulk/tran_413.jpeg\n",
      "./images/bulk/tran_414.jpeg\n",
      "./images/bulk/tran_415.jpeg\n",
      "./images/bulk/tran_416.jpeg\n",
      "./images/bulk/tran_417.jpeg\n",
      "./images/bulk/tran_418.jpeg\n",
      "./images/bulk/tran_419.jpeg\n",
      "./images/bulk/tran_420.jpeg\n",
      "./images/bulk/tran_421.jpeg\n",
      "./images/bulk/tran_422.jpeg\n",
      "./images/bulk/tran_423.jpeg\n",
      "./images/bulk/tran_424.jpeg\n",
      "./images/bulk/tran_425.jpeg\n",
      "./images/bulk/tran_426.jpeg\n",
      "./images/bulk/tran_427.jpeg\n",
      "./images/bulk/tran_428.jpeg\n",
      "./images/bulk/tran_429.jpeg\n",
      "./images/bulk/tran_430.jpeg\n",
      "./images/bulk/tran_431.jpeg\n",
      "./images/bulk/tran_432.jpeg\n",
      "./images/bulk/tran_433.jpeg\n",
      "./images/bulk/tran_434.jpeg\n",
      "./images/bulk/tran_435.jpeg\n",
      "./images/bulk/tran_436.jpeg\n",
      "./images/bulk/tran_437.jpeg\n",
      "./images/bulk/tran_438.jpeg\n",
      "./images/bulk/tran_439.jpeg\n",
      "./images/bulk/tran_440.jpeg\n",
      "./images/bulk/tran_441.jpeg\n",
      "./images/bulk/tran_442.jpeg\n",
      "./images/bulk/tran_443.jpeg\n",
      "./images/bulk/tran_444.jpeg\n",
      "./images/bulk/tran_445.jpeg\n",
      "./images/bulk/tran_446.jpeg\n",
      "./images/bulk/tran_447.jpeg\n",
      "./images/bulk/tran_448.jpeg\n",
      "./images/bulk/tran_449.jpeg\n",
      "./images/bulk/tran_450.jpeg\n",
      "./images/bulk/tran_451.jpeg\n",
      "./images/bulk/tran_452.jpeg\n",
      "./images/bulk/tran_453.jpeg\n",
      "./images/bulk/tran_454.jpeg\n",
      "./images/bulk/tran_455.jpeg\n",
      "./images/bulk/tran_456.jpeg\n",
      "./images/bulk/tran_457.jpeg\n",
      "./images/bulk/tran_458.jpeg\n",
      "./images/bulk/tran_459.jpeg\n",
      "./images/bulk/tran_460.jpeg\n",
      "./images/bulk/tran_461.jpeg\n",
      "./images/bulk/tran_462.jpeg\n",
      "./images/bulk/tran_463.jpeg\n",
      "./images/bulk/tran_464.jpeg\n",
      "./images/bulk/tran_465.jpeg\n",
      "./images/bulk/tran_466.jpeg\n",
      "./images/bulk/tran_467.jpeg\n",
      "./images/bulk/tran_468.jpeg\n",
      "./images/bulk/tran_469.jpeg\n",
      "./images/bulk/tran_470.jpeg\n",
      "./images/bulk/tran_471.jpeg\n",
      "./images/bulk/tran_472.jpeg\n",
      "./images/bulk/tran_473.jpeg\n",
      "./images/bulk/tran_474.jpeg\n",
      "./images/bulk/tran_475.jpeg\n",
      "./images/bulk/tran_476.jpeg\n",
      "./images/bulk/tran_477.jpeg\n",
      "./images/bulk/tran_478.jpeg\n",
      "./images/bulk/tran_479.jpeg\n",
      "./images/bulk/tran_480.jpeg\n",
      "./images/bulk/tran_481.jpeg\n",
      "./images/bulk/tran_482.jpeg\n",
      "./images/bulk/tran_483.jpeg\n",
      "./images/bulk/tran_484.jpeg\n",
      "./images/bulk/tran_485.jpeg\n",
      "./images/bulk/tran_486.jpeg\n",
      "./images/bulk/tran_487.jpeg\n",
      "./images/bulk/tran_488.jpeg\n",
      "./images/bulk/tran_489.jpeg\n",
      "./images/bulk/tran_490.jpeg\n",
      "./images/bulk/tran_491.jpeg\n",
      "./images/bulk/tran_492.jpeg\n",
      "./images/bulk/tran_493.jpeg\n",
      "./images/bulk/tran_494.jpeg\n",
      "./images/bulk/tran_495.jpeg\n",
      "./images/bulk/tran_496.jpeg\n",
      "./images/bulk/tran_497.jpeg\n",
      "./images/bulk/tran_498.jpeg\n",
      "./images/bulk/tran_499.jpeg\n",
      "./images/bulk/tran_500.jpeg\n",
      "./images/bulk/tran_501.jpeg\n",
      "./images/bulk/tran_502.jpeg\n",
      "./images/bulk/tran_503.jpeg\n",
      "./images/bulk/tran_504.jpeg\n"
     ]
    }
   ],
   "source": [
    "\n",
    "writer = pd.ExcelWriter(f\"./data/logged/bulk.xlsx\", engine=\"xlsxwriter\")\n",
    "bulkAutoOut.to_excel(writer, sheet_name='Sheet1')\n",
    "\n",
    "workbook = writer.book\n",
    "worksheet = writer.sheets[\"Sheet1\"]\n",
    "# resize cells\n",
    "# worksheet.set_column('B1:B5', 7)\n",
    "# worksheet.set_column(first_col=1, last_col=10, width=20)\n",
    "worksheet.autofit()\n",
    "\n",
    "worksheet.set_column(first_col=2, last_col=3, width=25)\n",
    "worksheet.set_column(first_col=10, last_col=11, width=50)\n",
    "worksheet.set_column(first_col=12, last_col=12, width=50)\n",
    "worksheet.set_row(row=0, height=15)\n",
    "\n",
    "\n",
    "image_row = 1\n",
    "image_col = 12\n",
    "for image in links:\n",
    "    print(image)\n",
    "    worksheet.set_row(row=image_row, height=300)\n",
    "    worksheet.insert_image(image_row,\n",
    "                          image_col,\n",
    "                          image,\n",
    "                          {   'x_scale': .5,\n",
    "                               'y_scale': .5,\n",
    "                               'x_offset': 5,\n",
    "                               'y_offset': 5,\n",
    "                              'positioning': 1,\n",
    "                          })\n",
    "    # positioning = 1 allows move and size with cells (may not always perform as expected)\n",
    "    image_row += 1\n",
    "\n",
    "#workbook.filename = f'./data/logged/{gmID}.xlsm'\n",
    "\n",
    "#workbook.add_vba_project('./vbaProject.bin')\n",
    "\n",
    "\n",
    "workbook.close()"
   ]
  }
 ],
 "metadata": {
  "kernelspec": {
   "display_name": "Python 3 (ipykernel)",
   "language": "python",
   "name": "python3"
  },
  "language_info": {
   "codemirror_mode": {
    "name": "ipython",
    "version": 3
   },
   "file_extension": ".py",
   "mimetype": "text/x-python",
   "name": "python",
   "nbconvert_exporter": "python",
   "pygments_lexer": "ipython3",
   "version": "3.10.12"
  }
 },
 "nbformat": 4,
 "nbformat_minor": 5
}
