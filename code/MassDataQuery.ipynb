{
 "cells": [
  {
   "cell_type": "markdown",
   "id": "7d5fff77-da4e-4611-8ab4-7953dd8568be",
   "metadata": {},
   "source": [
    "# Mass Data Query (all metadata IDs)\n"
   ]
  },
  {
   "cell_type": "markdown",
   "id": "15e075c7",
   "metadata": {},
   "source": [
    "#### **ONLY RUN IF MASSIVE AMOUNTS OF DATA IS YOUR GOAL**\n",
    "\n",
    "This notebook runs a query for each groupMetadataID in a csv file, retrieving chassis and pose data.\n",
    "\n",
    "It could likely be sped up by querying on once for all pose and chassis data, then breaking down by each ID and topic.\n"
   ]
  },
  {
   "cell_type": "code",
   "execution_count": 1,
   "id": "41f9a81a-de71-4baa-9809-fcac81157f8f",
   "metadata": {},
   "outputs": [],
   "source": [
    "import plotly.express as px\n",
    "import pandas as pd\n",
    "import numpy as np\n",
    "import os\n",
    "\n",
    "# Import plotly.express to utilize map"
   ]
  },
  {
   "cell_type": "markdown",
   "id": "62f79d62-f471-415c-9ff1-847bf328c327",
   "metadata": {},
   "source": [
    "### Import your groupMetadataIDs below and choose to query data or not\n"
   ]
  },
  {
   "cell_type": "code",
   "execution_count": 2,
   "id": "0189332f",
   "metadata": {},
   "outputs": [],
   "source": [
    "from boto3.dynamodb.conditions import Key, Attr\n",
    "import boto3\n",
    "\n",
    "# Get the service resource\n",
    "dynamodb = boto3.resource('dynamodb')\n",
    "# Instantiate table resource objects\n",
    "table = dynamodb.Table('ads_passenger_processed')\n",
    "meta_table = dynamodb.Table('ads_passenger_processed_metadata')"
   ]
  },
  {
   "cell_type": "markdown",
   "id": "e44cc5ea",
   "metadata": {},
   "source": [
    "### Query Best_pose data\n"
   ]
  },
  {
   "cell_type": "code",
   "execution_count": 3,
   "id": "a0c8af00-2e62-49a8-a8fb-f89a1faf396d",
   "metadata": {},
   "outputs": [
    {
     "name": "stdout",
     "output_type": "stream",
     "text": [
      "done querying best_pose data\n"
     ]
    }
   ],
   "source": [
    "# query arguments for best_pose data\n",
    "keywords = dict(\n",
    "    IndexName='topic-index',\n",
    "    KeyConditionExpression=Key('topic').eq(\n",
    "        '/apollo/sensor/gnss/best_pose'),\n",
    "    ProjectionExpression=\"groupMetadataID, #t, solStatus, solType, latitudeStdDev, longitudeStdDev, numSatsTracked, numSatsMulti, numSatsInSolution, differentialAge, solutionAge, latitude, longitude\",\n",
    "\n",
    "    Limit=1500,\n",
    "    ExpressionAttributeNames={'#t': 'time'},\n",
    ")\n",
    "\n",
    "# run initial query and coerce results into a dataframe\n",
    "res = table.query(**keywords)\n",
    "df_pose = pd.DataFrame.from_dict(\n",
    "    pd.json_normalize(res['Items']), orient='columns')\n",
    "\n",
    "# track evaluated last key to get new data\n",
    "done = False\n",
    "leek = res[\"LastEvaluatedKey\"]\n",
    "\n",
    "while not done:\n",
    "    try:\n",
    "        # repeat query until we've exhausted the dataset\n",
    "        leek = res[\"LastEvaluatedKey\"]\n",
    "        keywords[\"ExclusiveStartKey\"] = leek\n",
    "        res = table.query(**keywords)\n",
    "        tmpDF = pd.DataFrame.from_dict(\n",
    "            pd.json_normalize(res['Items']), orient='columns')\n",
    "        df_pose = pd.concat([df_pose, tmpDF])\n",
    "    except KeyError:\n",
    "        print(f\"done querying best_pose data\")\n",
    "        done = True"
   ]
  },
  {
   "cell_type": "markdown",
   "id": "703c91a7",
   "metadata": {},
   "source": [
    "### Query Chassis data\n"
   ]
  },
  {
   "cell_type": "markdown",
   "id": "36e7a711",
   "metadata": {},
   "source": [
    "Warning: This query can take awhile. 2+ hours at 48 groupMetadataIDs\n"
   ]
  },
  {
   "cell_type": "code",
   "execution_count": 4,
   "id": "a5634079",
   "metadata": {},
   "outputs": [
    {
     "name": "stdout",
     "output_type": "stream",
     "text": [
      "done querying chassis data\n"
     ]
    }
   ],
   "source": [
    "# query arguments for chassis data\n",
    "keywords = dict(\n",
    "    IndexName='topic-index',\n",
    "    KeyConditionExpression=Key('topic').eq(\n",
    "        '/apollo/canbus/chassis'),\n",
    "    Limit=2000,\n",
    ")\n",
    "\n",
    "# run initial query and coerce results into a dataframe\n",
    "res = table.query(**keywords)\n",
    "df_chassis = pd.DataFrame.from_dict(\n",
    "    pd.json_normalize(res['Items']), orient='columns')\n",
    "\n",
    "# track evaluated last key to get new data\n",
    "done = False\n",
    "leek = res[\"LastEvaluatedKey\"]\n",
    "\n",
    "while not done:\n",
    "    try:\n",
    "        # repeat query until we've exhausted the dataset\n",
    "        leek = res[\"LastEvaluatedKey\"]\n",
    "        keywords[\"ExclusiveStartKey\"] = leek\n",
    "        res = table.query(**keywords)\n",
    "        tmpDF = pd.DataFrame.from_dict(\n",
    "            pd.json_normalize(res['Items']), orient='columns')\n",
    "        df_chassis = pd.concat([df_chassis, tmpDF])\n",
    "\n",
    "    except KeyError:\n",
    "        print(f\"done querying chassis data\")\n",
    "        done = True"
   ]
  },
  {
   "cell_type": "code",
   "execution_count": 5,
   "id": "72e5b668",
   "metadata": {},
   "outputs": [
    {
     "name": "stdout",
     "output_type": "stream",
     "text": [
      "\t\t\t(rows, columns)\n",
      "df_pose dimensions:\t (90086, 13)\n",
      "df_chassis dimensions:\t (3823886, 31)\n"
     ]
    }
   ],
   "source": [
    "print(\"\\t\\t\\t(rows, columns)\")\n",
    "print(\"df_pose dimensions:\\t\", df_pose.shape)\n",
    "print(\"df_chassis dimensions:\\t\", df_chassis.shape)"
   ]
  },
  {
   "cell_type": "code",
   "execution_count": 6,
   "id": "27b19a25",
   "metadata": {},
   "outputs": [],
   "source": [
    "temp_pose = df_pose.copy()\n",
    "temp_chassis = df_chassis.copy()"
   ]
  },
  {
   "cell_type": "code",
   "execution_count": 7,
   "id": "51554eb9",
   "metadata": {},
   "outputs": [
    {
     "data": {
      "text/plain": [
       "['06cbdbc0-db4d-11ee-a158-97f8443fd730',\n",
       " '072ef896-cbac-11ee-909c-e1dc60cf66f9',\n",
       " '154fab12-a43f-11ee-88ec-eb6a8d5269b4',\n",
       " '19b7ebd0-d9b7-11ee-a158-97f8443fd730',\n",
       " '1bbbfbae-c839-11ee-a7fc-dd032dba19e8',\n",
       " '25641404-cb66-11ee-909c-e1dc60cf66f9',\n",
       " '271fee10-cb8b-11ee-909c-e1dc60cf66f9',\n",
       " '2837eb9c-9542-11ee-956e-9da2d070324c',\n",
       " '286c70cc-d2f7-11ee-b437-336917683bb8',\n",
       " '2bc6ebb8-a529-11ee-88ec-eb6a8d5269b4',\n",
       " '39ba7438-d0d5-11ee-9435-f7e542e2436c',\n",
       " '3a116996-93a9-11ee-956e-9da2d070324c',\n",
       " '3a2a78cc-db21-11ee-a158-97f8443fd730',\n",
       " '3c415ade-d353-11ee-b437-336917683bb8',\n",
       " '3d8020aa-cb7f-11ee-909c-e1dc60cf66f9',\n",
       " '47561998-d9c3-11ee-a158-97f8443fd730',\n",
       " '51ef6da6-ca9f-11ee-909c-e1dc60cf66f9',\n",
       " '559495ca-d270-11ee-b437-336917683bb8',\n",
       " '58263e34-a45c-11ee-88ec-eb6a8d5269b4',\n",
       " '5976b77a-a504-11ee-88ec-eb6a8d5269b4',\n",
       " '64737d98-d312-11ee-b437-336917683bb8',\n",
       " '68c289fa-dbd4-11ee-a158-97f8443fd730',\n",
       " '69ab88ec-dc17-11ee-a158-97f8443fd730',\n",
       " '6af236d6-d98f-11ee-a158-97f8443fd730',\n",
       " '6d2ea45a-c839-11ee-a7fc-dd032dba19e8',\n",
       " '76683d3c-db18-11ee-a158-97f8443fd730',\n",
       " '787d9684-d2c2-11ee-b437-336917683bb8',\n",
       " '7f09f6c6-a5b0-11ee-88ec-eb6a8d5269b4',\n",
       " '7fb7b9c0-c881-11ee-a7fc-dd032dba19e8',\n",
       " '837fc882-cb5a-11ee-909c-e1dc60cf66f9',\n",
       " '8437f77a-cab7-11ee-909c-e1dc60cf66f9',\n",
       " '853ef120-cad3-11ee-909c-e1dc60cf66f9',\n",
       " '86841630-d9d0-11ee-a158-97f8443fd730',\n",
       " '88b0613a-d35d-11ee-b437-336917683bb8',\n",
       " '8b0593cc-cb4e-11ee-909c-e1dc60cf66f9',\n",
       " '8c57e8ac-dbec-11ee-a158-97f8443fd730',\n",
       " '8fa6fe80-c869-11ee-a7fc-dd032dba19e8',\n",
       " '90101c36-a621-11ee-88ec-eb6a8d5269b4',\n",
       " '9830d896-d2dc-11ee-b437-336917683bb8',\n",
       " 'a253145a-d2a6-11ee-b437-336917683bb8',\n",
       " 'a6539bd2-cb72-11ee-909c-e1dc60cf66f9',\n",
       " 'aa86a660-dc05-11ee-a158-97f8443fd730',\n",
       " 'b31aca98-cb95-11ee-909c-e1dc60cf66f9',\n",
       " 'ba6e1072-9524-11ee-956e-9da2d070324c',\n",
       " 'baf0e4be-bede-11ee-835b-599066b5eb60',\n",
       " 'c0624e24-d9aa-11ee-a158-97f8443fd730',\n",
       " 'c335d84c-a45c-11ee-88ec-eb6a8d5269b4',\n",
       " 'c338788a-d324-11ee-b437-336917683bb8',\n",
       " 'c9c6856c-d33c-11ee-b437-336917683bb8',\n",
       " 'd12cd1c4-caec-11ee-909c-e1dc60cf66f9',\n",
       " 'da853e0c-a10f-11ee-981c-d126ddbe9afa',\n",
       " 'dc39aa14-db32-11ee-a158-97f8443fd730',\n",
       " 'e2079a78-dc1d-11ee-a158-97f8443fd730',\n",
       " 'e6d7d384-db40-11ee-a158-97f8443fd730',\n",
       " 'ed352100-cba0-11ee-909c-e1dc60cf66f9',\n",
       " 'f671c05c-a5e4-11ee-88ec-eb6a8d5269b4',\n",
       " 'f6ac3c82-a445-11ee-88ec-eb6a8d5269b4',\n",
       " 'f9d62032-db2a-11ee-a158-97f8443fd730',\n",
       " 'feaf2ba8-d28d-11ee-b437-336917683bb8']"
      ]
     },
     "execution_count": 7,
     "metadata": {},
     "output_type": "execute_result"
    }
   ],
   "source": [
    "ChassisGmIDs = sorted(temp_chassis[\"groupMetadataID\"].unique())\n",
    "ChassisGmIDs"
   ]
  },
  {
   "cell_type": "code",
   "execution_count": 8,
   "id": "0f3577f4",
   "metadata": {},
   "outputs": [
    {
     "data": {
      "text/plain": [
       "['06cbdbc0-db4d-11ee-a158-97f8443fd730',\n",
       " '072ef896-cbac-11ee-909c-e1dc60cf66f9',\n",
       " '154fab12-a43f-11ee-88ec-eb6a8d5269b4',\n",
       " '19b7ebd0-d9b7-11ee-a158-97f8443fd730',\n",
       " '1bbbfbae-c839-11ee-a7fc-dd032dba19e8',\n",
       " '25641404-cb66-11ee-909c-e1dc60cf66f9',\n",
       " '271fee10-cb8b-11ee-909c-e1dc60cf66f9',\n",
       " '2837eb9c-9542-11ee-956e-9da2d070324c',\n",
       " '286c70cc-d2f7-11ee-b437-336917683bb8',\n",
       " '2bc6ebb8-a529-11ee-88ec-eb6a8d5269b4',\n",
       " '39ba7438-d0d5-11ee-9435-f7e542e2436c',\n",
       " '3a116996-93a9-11ee-956e-9da2d070324c',\n",
       " '3a2a78cc-db21-11ee-a158-97f8443fd730',\n",
       " '3c415ade-d353-11ee-b437-336917683bb8',\n",
       " '3d8020aa-cb7f-11ee-909c-e1dc60cf66f9',\n",
       " '47561998-d9c3-11ee-a158-97f8443fd730',\n",
       " '51ef6da6-ca9f-11ee-909c-e1dc60cf66f9',\n",
       " '559495ca-d270-11ee-b437-336917683bb8',\n",
       " '58263e34-a45c-11ee-88ec-eb6a8d5269b4',\n",
       " '5976b77a-a504-11ee-88ec-eb6a8d5269b4',\n",
       " '64737d98-d312-11ee-b437-336917683bb8',\n",
       " '68c289fa-dbd4-11ee-a158-97f8443fd730',\n",
       " '69ab88ec-dc17-11ee-a158-97f8443fd730',\n",
       " '6af236d6-d98f-11ee-a158-97f8443fd730',\n",
       " '6d2ea45a-c839-11ee-a7fc-dd032dba19e8',\n",
       " '76683d3c-db18-11ee-a158-97f8443fd730',\n",
       " '787d9684-d2c2-11ee-b437-336917683bb8',\n",
       " '7f09f6c6-a5b0-11ee-88ec-eb6a8d5269b4',\n",
       " '7fb7b9c0-c881-11ee-a7fc-dd032dba19e8',\n",
       " '837fc882-cb5a-11ee-909c-e1dc60cf66f9',\n",
       " '8437f77a-cab7-11ee-909c-e1dc60cf66f9',\n",
       " '853ef120-cad3-11ee-909c-e1dc60cf66f9',\n",
       " '86841630-d9d0-11ee-a158-97f8443fd730',\n",
       " '88b0613a-d35d-11ee-b437-336917683bb8',\n",
       " '8b0593cc-cb4e-11ee-909c-e1dc60cf66f9',\n",
       " '8c57e8ac-dbec-11ee-a158-97f8443fd730',\n",
       " '8fa6fe80-c869-11ee-a7fc-dd032dba19e8',\n",
       " '90101c36-a621-11ee-88ec-eb6a8d5269b4',\n",
       " '9830d896-d2dc-11ee-b437-336917683bb8',\n",
       " 'a253145a-d2a6-11ee-b437-336917683bb8',\n",
       " 'a6539bd2-cb72-11ee-909c-e1dc60cf66f9',\n",
       " 'aa86a660-dc05-11ee-a158-97f8443fd730',\n",
       " 'b31aca98-cb95-11ee-909c-e1dc60cf66f9',\n",
       " 'ba6e1072-9524-11ee-956e-9da2d070324c',\n",
       " 'baf0e4be-bede-11ee-835b-599066b5eb60',\n",
       " 'c0624e24-d9aa-11ee-a158-97f8443fd730',\n",
       " 'c335d84c-a45c-11ee-88ec-eb6a8d5269b4',\n",
       " 'c338788a-d324-11ee-b437-336917683bb8',\n",
       " 'c9c6856c-d33c-11ee-b437-336917683bb8',\n",
       " 'd12cd1c4-caec-11ee-909c-e1dc60cf66f9',\n",
       " 'da853e0c-a10f-11ee-981c-d126ddbe9afa',\n",
       " 'dc39aa14-db32-11ee-a158-97f8443fd730',\n",
       " 'e2079a78-dc1d-11ee-a158-97f8443fd730',\n",
       " 'e6d7d384-db40-11ee-a158-97f8443fd730',\n",
       " 'ed352100-cba0-11ee-909c-e1dc60cf66f9',\n",
       " 'f671c05c-a5e4-11ee-88ec-eb6a8d5269b4',\n",
       " 'f6ac3c82-a445-11ee-88ec-eb6a8d5269b4',\n",
       " 'f9d62032-db2a-11ee-a158-97f8443fd730',\n",
       " 'feaf2ba8-d28d-11ee-b437-336917683bb8']"
      ]
     },
     "execution_count": 8,
     "metadata": {},
     "output_type": "execute_result"
    }
   ],
   "source": [
    "PoseGmIDs = sorted(temp_pose[\"groupMetadataID\"].unique())\n",
    "PoseGmIDs"
   ]
  },
  {
   "cell_type": "code",
   "execution_count": 9,
   "id": "ee77d912",
   "metadata": {},
   "outputs": [
    {
     "name": "stdout",
     "output_type": "stream",
     "text": [
      "all gmIDs match\n"
     ]
    }
   ],
   "source": [
    "if len(ChassisGmIDs) == len(PoseGmIDs) and (np.array(ChassisGmIDs) == np.array(PoseGmIDs)).all():\n",
    "    print(\"all gmIDs match\")\n",
    "    gmIDs = ChassisGmIDs\n",
    "else:\n",
    "    print(\"some different gmIDs\")"
   ]
  },
  {
   "cell_type": "markdown",
   "id": "11272d47",
   "metadata": {},
   "source": [
    "### Query Metadata\n"
   ]
  },
  {
   "cell_type": "code",
   "execution_count": 10,
   "id": "11d0b3d0",
   "metadata": {},
   "outputs": [
    {
     "name": "stdout",
     "output_type": "stream",
     "text": [
      "df_meta dimensions:\t (59, 8)\n"
     ]
    }
   ],
   "source": [
    "# query for the bestPosData\n",
    "df_meta = pd.DataFrame()\n",
    "\n",
    "for id in ChassisGmIDs:\n",
    "\n",
    "    res = meta_table.query(\n",
    "        IndexName='groupMetadataID-index',\n",
    "        ProjectionExpression=\"groupMetadataID, #t, driver, #i, experimentID, #o.Weather, #o.#m, #o.Notes\",\n",
    "        KeyConditionExpression=Key('groupMetadataID').eq(id),\n",
    "        Limit=1,\n",
    "        ExpressionAttributeNames={'#t': 'time', \"#i\": '_id',\n",
    "                                  \"#o\": \"other\", \"#m\": \"Map\"},\n",
    "\n",
    "    )\n",
    "    tempDF = pd.DataFrame.from_dict(\n",
    "        pd.json_normalize(res['Items']), orient='columns')\n",
    "\n",
    "    df_meta = pd.concat([df_meta, tempDF])\n",
    "\n",
    "print(\"df_meta dimensions:\\t\", df_meta.shape)\n",
    "temp_meta = df_meta.copy()"
   ]
  },
  {
   "cell_type": "code",
   "execution_count": 11,
   "id": "67369408",
   "metadata": {},
   "outputs": [
    {
     "data": {
      "text/plain": [
       "['06cbdbc0-db4d-11ee-a158-97f8443fd730',\n",
       " '072ef896-cbac-11ee-909c-e1dc60cf66f9',\n",
       " '154fab12-a43f-11ee-88ec-eb6a8d5269b4',\n",
       " '19b7ebd0-d9b7-11ee-a158-97f8443fd730',\n",
       " '1bbbfbae-c839-11ee-a7fc-dd032dba19e8',\n",
       " '25641404-cb66-11ee-909c-e1dc60cf66f9',\n",
       " '271fee10-cb8b-11ee-909c-e1dc60cf66f9',\n",
       " '2837eb9c-9542-11ee-956e-9da2d070324c',\n",
       " '286c70cc-d2f7-11ee-b437-336917683bb8',\n",
       " '2bc6ebb8-a529-11ee-88ec-eb6a8d5269b4',\n",
       " '39ba7438-d0d5-11ee-9435-f7e542e2436c',\n",
       " '3a116996-93a9-11ee-956e-9da2d070324c',\n",
       " '3a2a78cc-db21-11ee-a158-97f8443fd730',\n",
       " '3c415ade-d353-11ee-b437-336917683bb8',\n",
       " '3d8020aa-cb7f-11ee-909c-e1dc60cf66f9',\n",
       " '47561998-d9c3-11ee-a158-97f8443fd730',\n",
       " '51ef6da6-ca9f-11ee-909c-e1dc60cf66f9',\n",
       " '559495ca-d270-11ee-b437-336917683bb8',\n",
       " '58263e34-a45c-11ee-88ec-eb6a8d5269b4',\n",
       " '5976b77a-a504-11ee-88ec-eb6a8d5269b4',\n",
       " '64737d98-d312-11ee-b437-336917683bb8',\n",
       " '68c289fa-dbd4-11ee-a158-97f8443fd730',\n",
       " '69ab88ec-dc17-11ee-a158-97f8443fd730',\n",
       " '6af236d6-d98f-11ee-a158-97f8443fd730',\n",
       " '6d2ea45a-c839-11ee-a7fc-dd032dba19e8',\n",
       " '76683d3c-db18-11ee-a158-97f8443fd730',\n",
       " '787d9684-d2c2-11ee-b437-336917683bb8',\n",
       " '7f09f6c6-a5b0-11ee-88ec-eb6a8d5269b4',\n",
       " '7fb7b9c0-c881-11ee-a7fc-dd032dba19e8',\n",
       " '837fc882-cb5a-11ee-909c-e1dc60cf66f9',\n",
       " '8437f77a-cab7-11ee-909c-e1dc60cf66f9',\n",
       " '853ef120-cad3-11ee-909c-e1dc60cf66f9',\n",
       " '86841630-d9d0-11ee-a158-97f8443fd730',\n",
       " '88b0613a-d35d-11ee-b437-336917683bb8',\n",
       " '8b0593cc-cb4e-11ee-909c-e1dc60cf66f9',\n",
       " '8c57e8ac-dbec-11ee-a158-97f8443fd730',\n",
       " '8fa6fe80-c869-11ee-a7fc-dd032dba19e8',\n",
       " '90101c36-a621-11ee-88ec-eb6a8d5269b4',\n",
       " '9830d896-d2dc-11ee-b437-336917683bb8',\n",
       " 'a253145a-d2a6-11ee-b437-336917683bb8',\n",
       " 'a6539bd2-cb72-11ee-909c-e1dc60cf66f9',\n",
       " 'aa86a660-dc05-11ee-a158-97f8443fd730',\n",
       " 'b31aca98-cb95-11ee-909c-e1dc60cf66f9',\n",
       " 'ba6e1072-9524-11ee-956e-9da2d070324c',\n",
       " 'baf0e4be-bede-11ee-835b-599066b5eb60',\n",
       " 'c0624e24-d9aa-11ee-a158-97f8443fd730',\n",
       " 'c335d84c-a45c-11ee-88ec-eb6a8d5269b4',\n",
       " 'c338788a-d324-11ee-b437-336917683bb8',\n",
       " 'c9c6856c-d33c-11ee-b437-336917683bb8',\n",
       " 'd12cd1c4-caec-11ee-909c-e1dc60cf66f9',\n",
       " 'da853e0c-a10f-11ee-981c-d126ddbe9afa',\n",
       " 'dc39aa14-db32-11ee-a158-97f8443fd730',\n",
       " 'e2079a78-dc1d-11ee-a158-97f8443fd730',\n",
       " 'e6d7d384-db40-11ee-a158-97f8443fd730',\n",
       " 'ed352100-cba0-11ee-909c-e1dc60cf66f9',\n",
       " 'f671c05c-a5e4-11ee-88ec-eb6a8d5269b4',\n",
       " 'f6ac3c82-a445-11ee-88ec-eb6a8d5269b4',\n",
       " 'f9d62032-db2a-11ee-a158-97f8443fd730',\n",
       " 'feaf2ba8-d28d-11ee-b437-336917683bb8']"
      ]
     },
     "execution_count": 11,
     "metadata": {},
     "output_type": "execute_result"
    }
   ],
   "source": [
    "MetaGmIDs = sorted(temp_meta[\"groupMetadataID\"].unique())\n",
    "MetaGmIDs"
   ]
  },
  {
   "cell_type": "code",
   "execution_count": 12,
   "id": "620bab52",
   "metadata": {},
   "outputs": [
    {
     "name": "stdout",
     "output_type": "stream",
     "text": [
      "06cbdbc0-db4d-11ee-a158-97f8443fd730\n",
      "072ef896-cbac-11ee-909c-e1dc60cf66f9\n",
      "154fab12-a43f-11ee-88ec-eb6a8d5269b4\n",
      "19b7ebd0-d9b7-11ee-a158-97f8443fd730\n",
      "1bbbfbae-c839-11ee-a7fc-dd032dba19e8\n",
      "25641404-cb66-11ee-909c-e1dc60cf66f9\n",
      "271fee10-cb8b-11ee-909c-e1dc60cf66f9\n",
      "2837eb9c-9542-11ee-956e-9da2d070324c\n",
      "286c70cc-d2f7-11ee-b437-336917683bb8\n",
      "2bc6ebb8-a529-11ee-88ec-eb6a8d5269b4\n",
      "39ba7438-d0d5-11ee-9435-f7e542e2436c\n",
      "3a116996-93a9-11ee-956e-9da2d070324c\n",
      "3a2a78cc-db21-11ee-a158-97f8443fd730\n",
      "3c415ade-d353-11ee-b437-336917683bb8\n",
      "3d8020aa-cb7f-11ee-909c-e1dc60cf66f9\n",
      "47561998-d9c3-11ee-a158-97f8443fd730\n",
      "51ef6da6-ca9f-11ee-909c-e1dc60cf66f9\n",
      "559495ca-d270-11ee-b437-336917683bb8\n",
      "58263e34-a45c-11ee-88ec-eb6a8d5269b4\n",
      "5976b77a-a504-11ee-88ec-eb6a8d5269b4\n",
      "64737d98-d312-11ee-b437-336917683bb8\n",
      "68c289fa-dbd4-11ee-a158-97f8443fd730\n",
      "69ab88ec-dc17-11ee-a158-97f8443fd730\n",
      "6af236d6-d98f-11ee-a158-97f8443fd730\n",
      "6d2ea45a-c839-11ee-a7fc-dd032dba19e8\n",
      "76683d3c-db18-11ee-a158-97f8443fd730\n",
      "787d9684-d2c2-11ee-b437-336917683bb8\n",
      "7f09f6c6-a5b0-11ee-88ec-eb6a8d5269b4\n",
      "7fb7b9c0-c881-11ee-a7fc-dd032dba19e8\n",
      "837fc882-cb5a-11ee-909c-e1dc60cf66f9\n",
      "8437f77a-cab7-11ee-909c-e1dc60cf66f9\n",
      "853ef120-cad3-11ee-909c-e1dc60cf66f9\n",
      "86841630-d9d0-11ee-a158-97f8443fd730\n",
      "88b0613a-d35d-11ee-b437-336917683bb8\n",
      "8b0593cc-cb4e-11ee-909c-e1dc60cf66f9\n",
      "8c57e8ac-dbec-11ee-a158-97f8443fd730\n",
      "8fa6fe80-c869-11ee-a7fc-dd032dba19e8\n",
      "90101c36-a621-11ee-88ec-eb6a8d5269b4\n",
      "9830d896-d2dc-11ee-b437-336917683bb8\n",
      "a253145a-d2a6-11ee-b437-336917683bb8\n",
      "a6539bd2-cb72-11ee-909c-e1dc60cf66f9\n",
      "aa86a660-dc05-11ee-a158-97f8443fd730\n",
      "b31aca98-cb95-11ee-909c-e1dc60cf66f9\n",
      "ba6e1072-9524-11ee-956e-9da2d070324c\n",
      "baf0e4be-bede-11ee-835b-599066b5eb60\n",
      "c0624e24-d9aa-11ee-a158-97f8443fd730\n",
      "c335d84c-a45c-11ee-88ec-eb6a8d5269b4\n",
      "c338788a-d324-11ee-b437-336917683bb8\n",
      "c9c6856c-d33c-11ee-b437-336917683bb8\n",
      "d12cd1c4-caec-11ee-909c-e1dc60cf66f9\n",
      "da853e0c-a10f-11ee-981c-d126ddbe9afa\n",
      "dc39aa14-db32-11ee-a158-97f8443fd730\n",
      "e2079a78-dc1d-11ee-a158-97f8443fd730\n",
      "e6d7d384-db40-11ee-a158-97f8443fd730\n",
      "ed352100-cba0-11ee-909c-e1dc60cf66f9\n",
      "f671c05c-a5e4-11ee-88ec-eb6a8d5269b4\n",
      "f6ac3c82-a445-11ee-88ec-eb6a8d5269b4\n",
      "f9d62032-db2a-11ee-a158-97f8443fd730\n",
      "feaf2ba8-d28d-11ee-b437-336917683bb8\n",
      "complete\n"
     ]
    }
   ],
   "source": [
    "if not os.path.exists(f\"./data/best_pose\"):\n",
    "    os.makedirs(f\"./data/best_pose\")\n",
    "\n",
    "if not os.path.exists(f\"./data/chassis\"):\n",
    "    os.makedirs(f\"./data/chassis\")\n",
    "\n",
    "if not os.path.exists(\"./data/metadata\"):\n",
    "    os.makedirs(\"./data/metadata\")\n",
    "\n",
    "i = 0\n",
    "\n",
    "for id in sorted(ChassisGmIDs):\n",
    "    print(f\"{i}: {id}\")\n",
    "    temp = temp_chassis[temp_chassis[\"groupMetadataID\"] == id]\n",
    "    temp.to_csv(f\"./data/chassis/{id}.csv\", index=False)\n",
    "\n",
    "    temp = temp_pose[temp_pose[\"groupMetadataID\"] == id]\n",
    "    temp.to_csv(f\"./data/best_pose/{id}.csv\", index=False)\n",
    "\n",
    "    temp = temp_meta[temp_meta[\"groupMetadataID\"] == id]\n",
    "    temp.to_csv(f\"./data/metadata/{id}.csv\", index=False)\n",
    "\n",
    "print(\"complete\")"
   ]
  }
 ],
 "metadata": {
  "kernelspec": {
   "display_name": "Python 3 (ipykernel)",
   "language": "python",
   "name": "python3"
  },
  "language_info": {
   "codemirror_mode": {
    "name": "ipython",
    "version": 3
   },
   "file_extension": ".py",
   "mimetype": "text/x-python",
   "name": "python",
   "nbconvert_exporter": "python",
   "pygments_lexer": "ipython3",
   "version": "3.10.12"
  }
 },
 "nbformat": 4,
 "nbformat_minor": 5
}
