{
 "cells": [
  {
   "cell_type": "markdown",
   "id": "7d5fff77-da4e-4611-8ab4-7953dd8568be",
   "metadata": {},
   "source": [
    "# Starter Transition-Mapping Template Notebook\n"
   ]
  },
  {
   "cell_type": "code",
   "execution_count": 59,
   "id": "41f9a81a-de71-4baa-9809-fcac81157f8f",
   "metadata": {},
   "outputs": [],
   "source": [
    "import plotly.express as px\n",
    "import pandas as pd\n",
    "\n",
    "import os"
   ]
  },
  {
   "cell_type": "markdown",
   "id": "62f79d62-f471-415c-9ff1-847bf328c327",
   "metadata": {},
   "source": [
    "### Import a chosen groupMetadataID below.\n",
    "\n",
    "If we already have the data, load it.\n"
   ]
  },
  {
   "cell_type": "code",
   "execution_count": 60,
   "id": "8aedcf9d-7ecb-458c-872e-f0e43b5d6803",
   "metadata": {},
   "outputs": [
    {
     "name": "stdout",
     "output_type": "stream",
     "text": [
      "no chassis csv. Query for data necessary.\n",
      "best_pose csv file found!\n",
      "metadata csv file found!\n"
     ]
    }
   ],
   "source": [
    "gmID = '3a2a78cc-db21-11ee-a158-97f8443fd730'\n",
    "\n",
    "# set to False if data is stored as .csv file.\n",
    "# otherwise, set to True\n",
    "\n",
    "if os.path.isfile(f\"./data/chassis/{gmID}.csv\"):\n",
    "    queryChassis = False\n",
    "    print(\"chassis csv file found!\")\n",
    "else:\n",
    "    queryChassis = True\n",
    "    print(\"no chassis csv. Query for data necessary.\")\n",
    "\n",
    "if os.path.isfile(f\"./data/best_pose/{gmID}.csv\"):\n",
    "    queryPose = False\n",
    "    print(\"best_pose csv file found!\")\n",
    "else:\n",
    "    queryPose = True\n",
    "    print(\"no best_ose csv. Query for data necessary.\")\n",
    "\n",
    "if os.path.isfile(f\"./data/metadata/{gmID}.csv\"):\n",
    "    queryMeta = False\n",
    "    print(\"metadata csv file found!\")\n",
    "else:\n",
    "    queryMeta = True\n",
    "    print(\"no metadata csv. Query for data necessary.\")"
   ]
  },
  {
   "cell_type": "markdown",
   "id": "6775d843",
   "metadata": {},
   "source": [
    "### Connect to database and query\n"
   ]
  },
  {
   "cell_type": "code",
   "execution_count": 61,
   "id": "0189332f",
   "metadata": {},
   "outputs": [],
   "source": [
    "from boto3.dynamodb.conditions import Key, Attr\n",
    "import boto3\n",
    "\n",
    "if queryPose or queryChassis or queryMeta:\n",
    "    # Get the service resource\n",
    "    dynamodb = boto3.resource('dynamodb')\n",
    "    # Instantiate a table resource object\n",
    "    table = dynamodb.Table('ads_passenger_processed')\n",
    "    table_meta = dynamodb.Table('ads_passenger_processed_metadata')"
   ]
  },
  {
   "cell_type": "code",
   "execution_count": 62,
   "id": "a0c8af00-2e62-49a8-a8fb-f89a1faf396d",
   "metadata": {},
   "outputs": [
    {
     "name": "stdout",
     "output_type": "stream",
     "text": [
      "Loaded best_pose data\n"
     ]
    },
    {
     "data": {
      "text/plain": [
       "(2001, 13)"
      ]
     },
     "execution_count": 62,
     "metadata": {},
     "output_type": "execute_result"
    }
   ],
   "source": [
    "if not os.path.exists(f\"./data/best_pose\"):\n",
    "        os.makedirs(f\"./data/best_pose\")\n",
    "if queryPose:\n",
    "\n",
    "    # query arguments for best_pose data\n",
    "    keywords = dict(\n",
    "        IndexName='topic-index',\n",
    "        KeyConditionExpression=Key('topic').eq(\n",
    "            '/apollo/sensor/gnss/best_pose'),\n",
    "        ProjectionExpression=\"groupMetadataID, #t, solStatus, solType, latitudeStdDev, longitudeStdDev, numSatsTracked, numSatsMulti, numSatsInSolution, differentialAge, solutionAge, latitude, longitude\",\n",
    "        Limit=1500,\n",
    "        ExpressionAttributeNames={'#t': 'time'},\n",
    "        FilterExpression=Key('groupMetadataID').eq(f'{gmID}')\n",
    "\n",
    "    )\n",
    "\n",
    "    # run initial query and coerce results into a dataframe\n",
    "    res = table.query(**keywords)\n",
    "    df_pose = pd.DataFrame.from_dict(\n",
    "        pd.json_normalize(res['Items']), orient='columns')\n",
    "\n",
    "    done = False\n",
    "    leek = res[\"LastEvaluatedKey\"]\n",
    "\n",
    "    while not done:\n",
    "        try:\n",
    "            leek = res[\"LastEvaluatedKey\"]\n",
    "            keywords[\"ExclusiveStartKey\"] = leek\n",
    "            res = table.query(**keywords)\n",
    "            tmpDF = pd.DataFrame.from_dict(\n",
    "                pd.json_normalize(res['Items']), orient='columns')\n",
    "            df_pose = pd.concat([df_pose, tmpDF])\n",
    "        except KeyError:\n",
    "            print(\"Done querying best_pose data\")\n",
    "            done = True\n",
    "\n",
    "    df_pose.to_csv(f\"./data/best_pose/{gmID}.csv\")\n",
    "    print(f\"Saved best_pose data at ./data/best_pose/{gmID}.csv\")\n",
    "\n",
    "\n",
    "else:\n",
    "    df_pose = pd.read_csv(f\"./data/best_pose/{gmID}.csv\")\n",
    "    print(\"Loaded best_pose data\")\n",
    "\n",
    "df_pose.shape"
   ]
  },
  {
   "cell_type": "code",
   "execution_count": 64,
   "id": "a5634079",
   "metadata": {},
   "outputs": [
    {
     "name": "stdout",
     "output_type": "stream",
     "text": [
      "{'_id': 'cc82e50c-db4a-11ee-a158-97f8443fd730', 'topic': '/apollo/canbus/chassis', 'time': Decimal('1692301504388532934')}\n",
      "{'_id': '15fa05e3-d2a4-11ee-b437-336917683bb8', 'topic': '/apollo/canbus/chassis', 'time': Decimal('1698253449947109077')}\n",
      "{'_id': '70806656-a520-11ee-88ec-eb6a8d5269b4', 'topic': '/apollo/canbus/chassis', 'time': Decimal('1695933146014667852')}\n",
      "{'_id': '94f1f0b4-cb84-11ee-909c-e1dc60cf66f9', 'topic': '/apollo/canbus/chassis', 'time': Decimal('1696533741090559411')}\n",
      "{'_id': '2b7bfbf6-cb92-11ee-909c-e1dc60cf66f9', 'topic': '/apollo/canbus/chassis', 'time': Decimal('1697138242295307523')}\n",
      "{'_id': '86676011-cb83-11ee-909c-e1dc60cf66f9', 'topic': '/apollo/canbus/chassis', 'time': Decimal('1696533657411429261')}\n",
      "{'_id': '27327ff6-a51a-11ee-88ec-eb6a8d5269b4', 'topic': '/apollo/canbus/chassis', 'time': Decimal('1695932808855487870')}\n",
      "{'_id': '1c9d1502-c867-11ee-a7fc-dd032dba19e8', 'topic': '/apollo/canbus/chassis', 'time': Decimal('1694625122048416187')}\n",
      "{'_id': '1e2dcbe6-ca9b-11ee-909c-e1dc60cf66f9', 'topic': '/apollo/canbus/chassis', 'time': Decimal('1695838505179368647')}\n",
      "{'_id': '1e145f18-cafc-11ee-909c-e1dc60cf66f9', 'topic': '/apollo/canbus/chassis', 'time': Decimal('1697651599968987329')}\n",
      "{'_id': '467053a0-d991-11ee-a158-97f8443fd730', 'topic': '/apollo/canbus/chassis', 'time': Decimal('1685639569821142141')}\n",
      "{'_id': 'e5c645d4-cad0-11ee-909c-e1dc60cf66f9', 'topic': '/apollo/canbus/chassis', 'time': Decimal('1696873497753610775')}\n",
      "{'_id': 'bcde63fd-c881-11ee-a7fc-dd032dba19e8', 'topic': '/apollo/canbus/chassis', 'time': Decimal('1695836814180160932')}\n",
      "{'_id': '1fad7820-caa0-11ee-909c-e1dc60cf66f9', 'topic': '/apollo/canbus/chassis', 'time': Decimal('1696436592720938494')}\n",
      "{'_id': 'b939d96d-a516-11ee-88ec-eb6a8d5269b4', 'topic': '/apollo/canbus/chassis', 'time': Decimal('1695932620436047886')}\n",
      "{'_id': '728677b3-d302-11ee-b437-336917683bb8', 'topic': '/apollo/canbus/chassis', 'time': Decimal('1706302628109702771')}\n",
      "{'_id': '292069b3-a432-11ee-88ec-eb6a8d5269b4', 'topic': '/apollo/canbus/chassis', 'time': Decimal('1685541947988853932')}\n",
      "{'_id': '3cb6d605-a412-11ee-88ec-eb6a8d5269b4', 'topic': '/apollo/canbus/chassis', 'time': Decimal('1674155967975190674')}\n",
      "{'_id': '8c86b53d-dc18-11ee-a158-97f8443fd730', 'topic': '/apollo/canbus/chassis', 'time': Decimal('1693925940502066590')}\n",
      "{'_id': 'aa7ae527-a4d7-11ee-88ec-eb6a8d5269b4', 'topic': '/apollo/canbus/chassis', 'time': Decimal('1694451633693542090')}\n",
      "{'_id': '4aa12932-d35d-11ee-b437-336917683bb8', 'topic': '/apollo/canbus/chassis', 'time': Decimal('1698348066226215912')}\n",
      "{'_id': 'bee02889-a50e-11ee-88ec-eb6a8d5269b4', 'topic': '/apollo/canbus/chassis', 'time': Decimal('1695932152518871255')}\n",
      "{'_id': '1345f348-d32c-11ee-b437-336917683bb8', 'topic': '/apollo/canbus/chassis', 'time': Decimal('1698081661427448564')}\n",
      "{'_id': 'aa957f7c-d99d-11ee-a158-97f8443fd730', 'topic': '/apollo/canbus/chassis', 'time': Decimal('1689271045235484853')}\n",
      "{'_id': '1f32323b-c867-11ee-a7fc-dd032dba19e8', 'topic': '/apollo/canbus/chassis', 'time': Decimal('1694625123005038686')}\n",
      "{'_id': 'd8e12750-d9d2-11ee-a158-97f8443fd730', 'topic': '/apollo/canbus/chassis', 'time': Decimal('1691505121339102465')}\n",
      "{'_id': 'beca82b0-dbe3-11ee-a158-97f8443fd730', 'topic': '/apollo/canbus/chassis', 'time': Decimal('1693500010843268413')}\n",
      "{'_id': 'c534825e-a40e-11ee-88ec-eb6a8d5269b4', 'topic': '/apollo/canbus/chassis', 'time': Decimal('1674155739974198401')}\n",
      "{'_id': 'b717ee71-d308-11ee-b437-336917683bb8', 'topic': '/apollo/canbus/chassis', 'time': Decimal('1706303133816388092')}\n",
      "{'_id': 'f67f49f3-d2dd-11ee-b437-336917683bb8', 'topic': '/apollo/canbus/chassis', 'time': Decimal('1706299339556494643')}\n",
      "{'_id': '16859f1b-d9ae-11ee-a158-97f8443fd730', 'topic': '/apollo/canbus/chassis', 'time': Decimal('1690478786568078580')}\n",
      "{'_id': 'cc3d8ca3-caa1-11ee-909c-e1dc60cf66f9', 'topic': '/apollo/canbus/chassis', 'time': Decimal('1696436713980846184')}\n",
      "{'_id': 'd3482985-a433-11ee-88ec-eb6a8d5269b4', 'topic': '/apollo/canbus/chassis', 'time': Decimal('1683313893290273837')}\n",
      "{'_id': 'bc588091-cb8d-11ee-909c-e1dc60cf66f9', 'topic': '/apollo/canbus/chassis', 'time': Decimal('1697137874175251427')}\n",
      "{'_id': '5f1736a0-db31-11ee-a158-97f8443fd730', 'topic': '/apollo/canbus/chassis', 'time': Decimal('1692289163090578154')}\n",
      "{'_id': '07676b58-d352-11ee-b437-336917683bb8', 'topic': '/apollo/canbus/chassis', 'time': Decimal('1698256666476238844')}\n",
      "{'_id': 'b98b594e-d9bd-11ee-a158-97f8443fd730', 'topic': '/apollo/canbus/chassis', 'time': Decimal('1690481204713027951')}\n",
      "{'_id': '2125ec4a-c879-11ee-a7fc-dd032dba19e8', 'topic': '/apollo/canbus/chassis', 'time': Decimal('1695228762430136876')}\n",
      "{'_id': 'd9676c07-d9ae-11ee-a158-97f8443fd730', 'topic': '/apollo/canbus/chassis', 'time': Decimal('1690478889788578130')}\n",
      "{'_id': 'fec45042-d352-11ee-b437-336917683bb8', 'topic': '/apollo/canbus/chassis', 'time': Decimal('1698256752755689780')}\n",
      "{'_id': 'e6b5572a-db42-11ee-a158-97f8443fd730', 'topic': '/apollo/canbus/chassis', 'time': Decimal('1692300392924365669')}\n",
      "{'_id': '74f4eb38-dc07-11ee-a158-97f8443fd730', 'topic': '/apollo/canbus/chassis', 'time': Decimal('1693508109930526196')}\n",
      "{'_id': 'bd454b90-cab8-11ee-909c-e1dc60cf66f9', 'topic': '/apollo/canbus/chassis', 'time': Decimal('1696871807354360071')}\n",
      "{'_id': 'cf6ab7f4-a420-11ee-88ec-eb6a8d5269b4', 'topic': '/apollo/canbus/chassis', 'time': Decimal('1674156866718663394')}\n",
      "{'_id': 'bb25b7a0-d2c6-11ee-b437-336917683bb8', 'topic': '/apollo/canbus/chassis', 'time': Decimal('1705954554436927814')}\n",
      "{'_id': '5345af67-d346-11ee-b437-336917683bb8', 'topic': '/apollo/canbus/chassis', 'time': Decimal('1698255653996801991')}\n",
      "{'_id': '46dc336d-d9d4-11ee-a158-97f8443fd730', 'topic': '/apollo/canbus/chassis', 'time': Decimal('1691505328943417479')}\n",
      "{'_id': '699e3308-cafa-11ee-909c-e1dc60cf66f9', 'topic': '/apollo/canbus/chassis', 'time': Decimal('1697651463288904104')}\n",
      "{'_id': '13e89019-c87e-11ee-a7fc-dd032dba19e8', 'topic': '/apollo/canbus/chassis', 'time': Decimal('1695229201389385623')}\n",
      "{'_id': '786bac41-cbb0-11ee-909c-e1dc60cf66f9', 'topic': '/apollo/canbus/chassis', 'time': Decimal('1697743390483876497')}\n",
      "{'_id': '3d2e3c27-d2e9-11ee-b437-336917683bb8', 'topic': '/apollo/canbus/chassis', 'time': Decimal('1706300245336282617')}\n",
      "{'_id': 'f542e86d-a437-11ee-88ec-eb6a8d5269b4', 'topic': '/apollo/canbus/chassis', 'time': Decimal('1683315130970700510')}\n",
      "{'_id': 'ff91e5c4-cae9-11ee-909c-e1dc60cf66f9', 'topic': '/apollo/canbus/chassis', 'time': Decimal('1697478279890652258')}\n",
      "{'_id': '61b7d384-cac5-11ee-909c-e1dc60cf66f9', 'topic': '/apollo/canbus/chassis', 'time': Decimal('1696872687193724556')}\n",
      "{'_id': '479cb56a-dbf3-11ee-a158-97f8443fd730', 'topic': '/apollo/canbus/chassis', 'time': Decimal('1693502745998908098')}\n",
      "{'_id': '5b16d4a1-cad7-11ee-909c-e1dc60cf66f9', 'topic': '/apollo/canbus/chassis', 'time': Decimal('1697476822410495662')}\n",
      "{'_id': 'dcc2cf96-dc2b-11ee-a158-97f8443fd730', 'topic': '/apollo/canbus/chassis', 'time': Decimal('1693929243202612000')}\n",
      "{'_id': 'a7303ef2-a439-11ee-88ec-eb6a8d5269b4', 'topic': '/apollo/canbus/chassis', 'time': Decimal('1684775833117581067')}\n",
      "{'_id': '337a1622-d349-11ee-b437-336917683bb8', 'topic': '/apollo/canbus/chassis', 'time': Decimal('1698255900497584505')}\n",
      "{'_id': '85c07db6-cb87-11ee-909c-e1dc60cf66f9', 'topic': '/apollo/canbus/chassis', 'time': Decimal('1696533974169245960')}\n",
      "{'_id': '0c308022-cae8-11ee-909c-e1dc60cf66f9', 'topic': '/apollo/canbus/chassis', 'time': Decimal('1697478127249511399')}\n",
      "{'_id': '9408df7b-d9c7-11ee-a158-97f8443fd730', 'topic': '/apollo/canbus/chassis', 'time': Decimal('1690482747562608187')}\n",
      "{'_id': '1824b202-d351-11ee-b437-336917683bb8', 'topic': '/apollo/canbus/chassis', 'time': Decimal('1698256582875564318')}\n",
      "{'_id': '63e0df3c-d335-11ee-b437-336917683bb8', 'topic': '/apollo/canbus/chassis', 'time': Decimal('1698082413627066941')}\n",
      "{'_id': '9b782bde-d9b6-11ee-a158-97f8443fd730', 'topic': '/apollo/canbus/chassis', 'time': Decimal('1690479977402899310')}\n",
      "{'_id': 'a61221c2-ca8b-11ee-909c-e1dc60cf66f9', 'topic': '/apollo/canbus/chassis', 'time': Decimal('1695837298000274359')}\n",
      "{'_id': '0c307f2b-cae8-11ee-909c-e1dc60cf66f9', 'topic': '/apollo/canbus/chassis', 'time': Decimal('1697478126969536599')}\n",
      "{'_id': '270a4dda-a437-11ee-88ec-eb6a8d5269b4', 'topic': '/apollo/canbus/chassis', 'time': Decimal('1683314871830708356')}\n",
      "{'_id': '269f4415-a5f4-11ee-88ec-eb6a8d5269b4', 'topic': '/apollo/canbus/chassis', 'time': Decimal('1697473969084498350')}\n",
      "{'_id': '7bb01825-d2d3-11ee-b437-336917683bb8', 'topic': '/apollo/canbus/chassis', 'time': Decimal('1705955535096322206')}\n",
      "{'_id': 'cee266a6-caee-11ee-909c-e1dc60cf66f9', 'topic': '/apollo/canbus/chassis', 'time': Decimal('1697650546488224572')}\n",
      "{'_id': '7f807a48-d34b-11ee-b437-336917683bb8', 'topic': '/apollo/canbus/chassis', 'time': Decimal('1698256095275931202')}\n",
      "{'_id': 'fbbd2c5f-a53b-11ee-88ec-eb6a8d5269b4', 'topic': '/apollo/canbus/chassis', 'time': Decimal('1696266191603770280')}\n",
      "{'_id': 'bbaef6cd-cae9-11ee-909c-e1dc60cf66f9', 'topic': '/apollo/canbus/chassis', 'time': Decimal('1697478258330435315')}\n",
      "{'_id': '3dfc8a8f-a436-11ee-88ec-eb6a8d5269b4', 'topic': '/apollo/canbus/chassis', 'time': Decimal('1683314608491347407')}\n",
      "{'_id': 'd8c6b887-cb94-11ee-909c-e1dc60cf66f9', 'topic': '/apollo/canbus/chassis', 'time': Decimal('1697138469176253367')}\n",
      "{'_id': '7b776028-d2ee-11ee-b437-336917683bb8', 'topic': '/apollo/canbus/chassis', 'time': Decimal('1706300663635592983')}\n",
      "{'_id': 'd2f8c0e8-a4c7-11ee-88ec-eb6a8d5269b4', 'topic': '/apollo/canbus/chassis', 'time': Decimal('1694450623992494222')}\n",
      "{'_id': 'd8a0ffa2-d283-11ee-b437-336917683bb8', 'topic': '/apollo/canbus/chassis', 'time': Decimal('1698079684857994690')}\n",
      "{'_id': 'e24315a5-a602-11ee-88ec-eb6a8d5269b4', 'topic': '/apollo/canbus/chassis', 'time': Decimal('1697474442285758513')}\n",
      "{'_id': '6666d164-d32d-11ee-b437-336917683bb8', 'topic': '/apollo/canbus/chassis', 'time': Decimal('1698081754945411893')}\n",
      "{'_id': '217741ea-db5a-11ee-a158-97f8443fd730', 'topic': '/apollo/canbus/chassis', 'time': Decimal('1693496044546664253')}\n",
      "{'_id': '1ee894de-cae1-11ee-909c-e1dc60cf66f9', 'topic': '/apollo/canbus/chassis', 'time': Decimal('1697477589949963201')}\n",
      "{'_id': '706b4521-d2ec-11ee-b437-336917683bb8', 'topic': '/apollo/canbus/chassis', 'time': Decimal('1706300503474997272')}\n",
      "{'_id': '73d63e67-d2ad-11ee-b437-336917683bb8', 'topic': '/apollo/canbus/chassis', 'time': Decimal('1705952290114778522')}\n",
      "{'_id': 'd86cb636-db48-11ee-a158-97f8443fd730', 'topic': '/apollo/canbus/chassis', 'time': Decimal('1692301228813274021')}\n",
      "{'_id': '3bed7744-c866-11ee-a7fc-dd032dba19e8', 'topic': '/apollo/canbus/chassis', 'time': Decimal('1694625040884016305')}\n",
      "{'_id': '64fc6ce0-d34a-11ee-b437-336917683bb8', 'topic': '/apollo/canbus/chassis', 'time': Decimal('1698256001476826817')}\n",
      "{'_id': '973ecfe2-d9a4-11ee-a158-97f8443fd730', 'topic': '/apollo/canbus/chassis', 'time': Decimal('1689271943264347571')}\n",
      "{'_id': '55f5408c-dc07-11ee-a158-97f8443fd730', 'topic': '/apollo/canbus/chassis', 'time': Decimal('1693508096369115244')}\n",
      "{'_id': '56899c41-a50e-11ee-88ec-eb6a8d5269b4', 'topic': '/apollo/canbus/chassis', 'time': Decimal('1695932126794330005')}\n",
      "{'_id': '407c40c0-cb5b-11ee-909c-e1dc60cf66f9', 'topic': '/apollo/canbus/chassis', 'time': Decimal('1695324150166340019')}\n",
      "{'_id': '9e7e6cfa-cb93-11ee-909c-e1dc60cf66f9', 'topic': '/apollo/canbus/chassis', 'time': Decimal('1697138363255973603')}\n",
      "{'_id': '07f37964-cbaa-11ee-909c-e1dc60cf66f9', 'topic': '/apollo/canbus/chassis', 'time': Decimal('1697742820944165644')}\n",
      "{'_id': '6e484bcd-d341-11ee-b437-336917683bb8', 'topic': '/apollo/canbus/chassis', 'time': Decimal('1698255239634897695')}\n",
      "{'_id': 'acc87b89-cb9e-11ee-909c-e1dc60cf66f9', 'topic': '/apollo/canbus/chassis', 'time': Decimal('1697139460036374641')}\n",
      "{'_id': 'ef22c5bb-d28e-11ee-b437-336917683bb8', 'topic': '/apollo/canbus/chassis', 'time': Decimal('1698251744429790107')}\n",
      "{'_id': '8573139e-cb84-11ee-909c-e1dc60cf66f9', 'topic': '/apollo/canbus/chassis', 'time': Decimal('1696533735849801975')}\n",
      "{'_id': 'c7c026be-dbed-11ee-a158-97f8443fd730', 'topic': '/apollo/canbus/chassis', 'time': Decimal('1693502161683913974')}\n",
      "{'_id': '7f55e1af-a4f2-11ee-88ec-eb6a8d5269b4', 'topic': '/apollo/canbus/chassis', 'time': Decimal('1695055136322453111')}\n",
      "{'_id': 'c45bec2d-d2d4-11ee-b437-336917683bb8', 'topic': '/apollo/canbus/chassis', 'time': Decimal('1705955631454741263')}\n",
      "{'_id': '783c5936-dc0a-11ee-a158-97f8443fd730', 'topic': '/apollo/canbus/chassis', 'time': Decimal('1693508418522954439')}\n",
      "{'_id': '88b2751e-d9bf-11ee-a158-97f8443fd730', 'topic': '/apollo/canbus/chassis', 'time': Decimal('1690481464384534270')}\n",
      "{'_id': 'fa5267fe-a434-11ee-88ec-eb6a8d5269b4', 'topic': '/apollo/canbus/chassis', 'time': Decimal('1683314232650346507')}\n",
      "{'_id': '7a028b31-d2b1-11ee-b437-336917683bb8', 'topic': '/apollo/canbus/chassis', 'time': Decimal('1705952609635426795')}\n",
      "{'_id': 'e87661cd-cb9a-11ee-909c-e1dc60cf66f9', 'topic': '/apollo/canbus/chassis', 'time': Decimal('1697139155996233071')}\n",
      "{'_id': '06464e4b-d2cf-11ee-b437-336917683bb8', 'topic': '/apollo/canbus/chassis', 'time': Decimal('1705955197375245339')}\n",
      "{'_id': '529330c5-cbb0-11ee-909c-e1dc60cf66f9', 'topic': '/apollo/canbus/chassis', 'time': Decimal('1697743378301311453')}\n",
      "{'_id': 'b59bb619-a417-11ee-88ec-eb6a8d5269b4', 'topic': '/apollo/canbus/chassis', 'time': Decimal('1674156306715490211')}\n",
      "{'_id': 'c6bedfcc-a4e2-11ee-88ec-eb6a8d5269b4', 'topic': '/apollo/canbus/chassis', 'time': Decimal('1694452307383896002')}\n",
      "{'_id': '1e75ef63-cafe-11ee-909c-e1dc60cf66f9', 'topic': '/apollo/canbus/chassis', 'time': Decimal('1697651761348834017')}\n",
      "{'_id': 'a31c27ef-d2d5-11ee-b437-336917683bb8', 'topic': '/apollo/canbus/chassis', 'time': Decimal('1705955698074767208')}\n",
      "{'_id': 'd634682e-c87e-11ee-a7fc-dd032dba19e8', 'topic': '/apollo/canbus/chassis', 'time': Decimal('1695229270368505570')}\n",
      "{'_id': '102eb8f7-d300-11ee-b437-336917683bb8', 'topic': '/apollo/canbus/chassis', 'time': Decimal('1706302435335201862')}\n",
      "{'_id': 'dd07004d-c86f-11ee-a7fc-dd032dba19e8', 'topic': '/apollo/canbus/chassis', 'time': Decimal('1695227967249801663')}\n",
      "{'_id': 'ea5262ed-d987-11ee-a158-97f8443fd730', 'topic': '/apollo/canbus/chassis', 'time': Decimal('1685632913092366366')}\n",
      "{'_id': 'f570ba87-d28e-11ee-b437-336917683bb8', 'topic': '/apollo/canbus/chassis', 'time': Decimal('1698251746668249971')}\n",
      "{'_id': 'c2513e66-db30-11ee-a158-97f8443fd730', 'topic': '/apollo/canbus/chassis', 'time': Decimal('1692289024337490919')}\n",
      "{'_id': '24379828-d27a-11ee-b437-336917683bb8', 'topic': '/apollo/canbus/chassis', 'time': Decimal('1698078948239497082')}\n",
      "{'_id': 'aa71e78c-ca8e-11ee-909c-e1dc60cf66f9', 'topic': '/apollo/canbus/chassis', 'time': Decimal('1695837530019415457')}\n",
      "{'_id': 'a5115bc6-d357-11ee-b437-336917683bb8', 'topic': '/apollo/canbus/chassis', 'time': Decimal('1698347584845161898')}\n",
      "{'_id': 'ace5833f-cab1-11ee-909c-e1dc60cf66f9', 'topic': '/apollo/canbus/chassis', 'time': Decimal('1696437917401870055')}\n",
      "{'_id': '65d3e0a6-d292-11ee-b437-336917683bb8', 'topic': '/apollo/canbus/chassis', 'time': Decimal('1698252025446861534')}\n",
      "{'_id': 'b9e4d11b-d278-11ee-b437-336917683bb8', 'topic': '/apollo/canbus/chassis', 'time': Decimal('1698078844859152594')}\n",
      "{'_id': '54bf3a89-d997-11ee-a158-97f8443fd730', 'topic': '/apollo/canbus/chassis', 'time': Decimal('1685640415247708062')}\n",
      "{'_id': 'ede5e702-db4c-11ee-a158-97f8443fd730', 'topic': '/apollo/canbus/chassis', 'time': Decimal('1692301805578116556')}\n",
      "{'_id': '961dac0e-d33d-11ee-b437-336917683bb8', 'topic': '/apollo/canbus/chassis', 'time': Decimal('1698254907495201127')}\n",
      "{'_id': '409d4f80-dc25-11ee-a158-97f8443fd730', 'topic': '/apollo/canbus/chassis', 'time': Decimal('1693928556543408756')}\n",
      "{'_id': 'c40b31ad-cae1-11ee-909c-e1dc60cf66f9', 'topic': '/apollo/canbus/chassis', 'time': Decimal('1697477639070466008')}\n",
      "{'_id': '88e1fb66-db45-11ee-a158-97f8443fd730', 'topic': '/apollo/canbus/chassis', 'time': Decimal('1692300757992476668')}\n",
      "{'_id': '1d4903c6-d983-11ee-a158-97f8443fd730', 'topic': '/apollo/canbus/chassis', 'time': Decimal('1685632267436191491')}\n",
      "{'_id': '51e10ee6-a52c-11ee-88ec-eb6a8d5269b4', 'topic': '/apollo/canbus/chassis', 'time': Decimal('1696265479203844317')}\n",
      "{'_id': '4a0b5846-a4eb-11ee-88ec-eb6a8d5269b4', 'topic': '/apollo/canbus/chassis', 'time': Decimal('1695054645202469338')}\n",
      "{'_id': 'de9a3770-d28f-11ee-b437-336917683bb8', 'topic': '/apollo/canbus/chassis', 'time': Decimal('1698251819606922529')}\n",
      "{'_id': 'ee317498-a4fa-11ee-88ec-eb6a8d5269b4', 'topic': '/apollo/canbus/chassis', 'time': Decimal('1695055704002977714')}\n",
      "{'_id': '69f7fc24-d9b0-11ee-a158-97f8443fd730', 'topic': '/apollo/canbus/chassis', 'time': Decimal('1690479110494359862')}\n",
      "{'_id': '86747a69-db45-11ee-a158-97f8443fd730', 'topic': '/apollo/canbus/chassis', 'time': Decimal('1692300756182420406')}\n",
      "{'_id': '803884f6-d2da-11ee-b437-336917683bb8', 'topic': '/apollo/canbus/chassis', 'time': Decimal('1705956068534840150')}\n",
      "{'_id': '1c378dc7-a40d-11ee-88ec-eb6a8d5269b4', 'topic': '/apollo/canbus/chassis', 'time': Decimal('1674155629155732787')}\n",
      "{'_id': '4d142ca6-a536-11ee-88ec-eb6a8d5269b4', 'topic': '/apollo/canbus/chassis', 'time': Decimal('1696265937184212857')}\n",
      "{'_id': 'ae8a7933-d9c6-11ee-a158-97f8443fd730', 'topic': '/apollo/canbus/chassis', 'time': Decimal('1690482622386948303')}\n",
      "{'_id': '8231ca01-a5e5-11ee-88ec-eb6a8d5269b4', 'topic': '/apollo/canbus/chassis', 'time': Decimal('1697473485347939818')}\n",
      "{'_id': '8e23f4c8-a5fe-11ee-88ec-eb6a8d5269b4', 'topic': '/apollo/canbus/chassis', 'time': Decimal('1697474303684451573')}\n",
      "{'_id': '00bc88c2-c87d-11ee-a7fc-dd032dba19e8', 'topic': '/apollo/canbus/chassis', 'time': Decimal('1695229101731038831')}\n",
      "{'_id': '760eb1ac-a4e5-11ee-88ec-eb6a8d5269b4', 'topic': '/apollo/canbus/chassis', 'time': Decimal('1694452474713259017')}\n",
      "{'_id': '27e73e3a-a4c9-11ee-88ec-eb6a8d5269b4', 'topic': '/apollo/canbus/chassis', 'time': Decimal('1694450714273492016')}\n",
      "{'_id': '539533cc-c87b-11ee-a7fc-dd032dba19e8', 'topic': '/apollo/canbus/chassis', 'time': Decimal('1695228955689949263')}\n",
      "{'_id': '9fa85e86-d9ce-11ee-a158-97f8443fd730', 'topic': '/apollo/canbus/chassis', 'time': Decimal('1690483701684807334')}\n",
      "{'_id': '829bd47e-cac5-11ee-909c-e1dc60cf66f9', 'topic': '/apollo/canbus/chassis', 'time': Decimal('1696872696633221927')}\n",
      "{'_id': '500d6a49-d320-11ee-b437-336917683bb8', 'topic': '/apollo/canbus/chassis', 'time': Decimal('1706908130433800719')}\n"
     ]
    },
    {
     "ename": "KeyboardInterrupt",
     "evalue": "",
     "output_type": "error",
     "traceback": [
      "\u001b[0;31m---------------------------------------------------------------------------\u001b[0m",
      "\u001b[0;31mKeyboardInterrupt\u001b[0m                         Traceback (most recent call last)",
      "Cell \u001b[0;32mIn[64], line 25\u001b[0m\n\u001b[1;32m     23\u001b[0m \u001b[38;5;28mprint\u001b[39m(leek)\n\u001b[1;32m     24\u001b[0m keywords[\u001b[38;5;124m\"\u001b[39m\u001b[38;5;124mExclusiveStartKey\u001b[39m\u001b[38;5;124m\"\u001b[39m] \u001b[38;5;241m=\u001b[39m leek\n\u001b[0;32m---> 25\u001b[0m res \u001b[38;5;241m=\u001b[39m \u001b[43mtable\u001b[49m\u001b[38;5;241;43m.\u001b[39;49m\u001b[43mquery\u001b[49m\u001b[43m(\u001b[49m\u001b[38;5;241;43m*\u001b[39;49m\u001b[38;5;241;43m*\u001b[39;49m\u001b[43mkeywords\u001b[49m\u001b[43m)\u001b[49m\n\u001b[1;32m     26\u001b[0m tmpDF \u001b[38;5;241m=\u001b[39m pd\u001b[38;5;241m.\u001b[39mDataFrame\u001b[38;5;241m.\u001b[39mfrom_dict(\n\u001b[1;32m     27\u001b[0m     pd\u001b[38;5;241m.\u001b[39mjson_normalize(res[\u001b[38;5;124m'\u001b[39m\u001b[38;5;124mItems\u001b[39m\u001b[38;5;124m'\u001b[39m]), orient\u001b[38;5;241m=\u001b[39m\u001b[38;5;124m'\u001b[39m\u001b[38;5;124mcolumns\u001b[39m\u001b[38;5;124m'\u001b[39m)\n\u001b[1;32m     28\u001b[0m df_chassis \u001b[38;5;241m=\u001b[39m pd\u001b[38;5;241m.\u001b[39mconcat([df_chassis, tmpDF])\n",
      "File \u001b[0;32m~/do-env/lib/python3.10/site-packages/boto3/resources/factory.py:581\u001b[0m, in \u001b[0;36mResourceFactory._create_action.<locals>.do_action\u001b[0;34m(self, *args, **kwargs)\u001b[0m\n\u001b[1;32m    580\u001b[0m \u001b[38;5;28;01mdef\u001b[39;00m \u001b[38;5;21mdo_action\u001b[39m(\u001b[38;5;28mself\u001b[39m, \u001b[38;5;241m*\u001b[39margs, \u001b[38;5;241m*\u001b[39m\u001b[38;5;241m*\u001b[39mkwargs):\n\u001b[0;32m--> 581\u001b[0m     response \u001b[38;5;241m=\u001b[39m \u001b[43maction\u001b[49m\u001b[43m(\u001b[49m\u001b[38;5;28;43mself\u001b[39;49m\u001b[43m,\u001b[49m\u001b[43m \u001b[49m\u001b[38;5;241;43m*\u001b[39;49m\u001b[43margs\u001b[49m\u001b[43m,\u001b[49m\u001b[43m \u001b[49m\u001b[38;5;241;43m*\u001b[39;49m\u001b[38;5;241;43m*\u001b[39;49m\u001b[43mkwargs\u001b[49m\u001b[43m)\u001b[49m\n\u001b[1;32m    583\u001b[0m     \u001b[38;5;28;01mif\u001b[39;00m \u001b[38;5;28mhasattr\u001b[39m(\u001b[38;5;28mself\u001b[39m, \u001b[38;5;124m'\u001b[39m\u001b[38;5;124mload\u001b[39m\u001b[38;5;124m'\u001b[39m):\n\u001b[1;32m    584\u001b[0m         \u001b[38;5;66;03m# Clear cached data. It will be reloaded the next\u001b[39;00m\n\u001b[1;32m    585\u001b[0m         \u001b[38;5;66;03m# time that an attribute is accessed.\u001b[39;00m\n\u001b[1;32m    586\u001b[0m         \u001b[38;5;66;03m# TODO: Make this configurable in the future?\u001b[39;00m\n\u001b[1;32m    587\u001b[0m         \u001b[38;5;28mself\u001b[39m\u001b[38;5;241m.\u001b[39mmeta\u001b[38;5;241m.\u001b[39mdata \u001b[38;5;241m=\u001b[39m \u001b[38;5;28;01mNone\u001b[39;00m\n",
      "File \u001b[0;32m~/do-env/lib/python3.10/site-packages/boto3/resources/action.py:88\u001b[0m, in \u001b[0;36mServiceAction.__call__\u001b[0;34m(self, parent, *args, **kwargs)\u001b[0m\n\u001b[1;32m     79\u001b[0m params\u001b[38;5;241m.\u001b[39mupdate(kwargs)\n\u001b[1;32m     81\u001b[0m logger\u001b[38;5;241m.\u001b[39mdebug(\n\u001b[1;32m     82\u001b[0m     \u001b[38;5;124m'\u001b[39m\u001b[38;5;124mCalling \u001b[39m\u001b[38;5;132;01m%s\u001b[39;00m\u001b[38;5;124m:\u001b[39m\u001b[38;5;132;01m%s\u001b[39;00m\u001b[38;5;124m with \u001b[39m\u001b[38;5;132;01m%r\u001b[39;00m\u001b[38;5;124m'\u001b[39m,\n\u001b[1;32m     83\u001b[0m     parent\u001b[38;5;241m.\u001b[39mmeta\u001b[38;5;241m.\u001b[39mservice_name,\n\u001b[1;32m     84\u001b[0m     operation_name,\n\u001b[1;32m     85\u001b[0m     params,\n\u001b[1;32m     86\u001b[0m )\n\u001b[0;32m---> 88\u001b[0m response \u001b[38;5;241m=\u001b[39m \u001b[38;5;28;43mgetattr\u001b[39;49m\u001b[43m(\u001b[49m\u001b[43mparent\u001b[49m\u001b[38;5;241;43m.\u001b[39;49m\u001b[43mmeta\u001b[49m\u001b[38;5;241;43m.\u001b[39;49m\u001b[43mclient\u001b[49m\u001b[43m,\u001b[49m\u001b[43m \u001b[49m\u001b[43moperation_name\u001b[49m\u001b[43m)\u001b[49m\u001b[43m(\u001b[49m\u001b[38;5;241;43m*\u001b[39;49m\u001b[43margs\u001b[49m\u001b[43m,\u001b[49m\u001b[43m \u001b[49m\u001b[38;5;241;43m*\u001b[39;49m\u001b[38;5;241;43m*\u001b[39;49m\u001b[43mparams\u001b[49m\u001b[43m)\u001b[49m\n\u001b[1;32m     90\u001b[0m logger\u001b[38;5;241m.\u001b[39mdebug(\u001b[38;5;124m'\u001b[39m\u001b[38;5;124mResponse: \u001b[39m\u001b[38;5;132;01m%r\u001b[39;00m\u001b[38;5;124m'\u001b[39m, response)\n\u001b[1;32m     92\u001b[0m \u001b[38;5;28;01mreturn\u001b[39;00m \u001b[38;5;28mself\u001b[39m\u001b[38;5;241m.\u001b[39m_response_handler(parent, params, response)\n",
      "File \u001b[0;32m~/do-env/lib/python3.10/site-packages/botocore/client.py:553\u001b[0m, in \u001b[0;36mClientCreator._create_api_method.<locals>._api_call\u001b[0;34m(self, *args, **kwargs)\u001b[0m\n\u001b[1;32m    549\u001b[0m     \u001b[38;5;28;01mraise\u001b[39;00m \u001b[38;5;167;01mTypeError\u001b[39;00m(\n\u001b[1;32m    550\u001b[0m         \u001b[38;5;124mf\u001b[39m\u001b[38;5;124m\"\u001b[39m\u001b[38;5;132;01m{\u001b[39;00mpy_operation_name\u001b[38;5;132;01m}\u001b[39;00m\u001b[38;5;124m() only accepts keyword arguments.\u001b[39m\u001b[38;5;124m\"\u001b[39m\n\u001b[1;32m    551\u001b[0m     )\n\u001b[1;32m    552\u001b[0m \u001b[38;5;66;03m# The \"self\" in this scope is referring to the BaseClient.\u001b[39;00m\n\u001b[0;32m--> 553\u001b[0m \u001b[38;5;28;01mreturn\u001b[39;00m \u001b[38;5;28;43mself\u001b[39;49m\u001b[38;5;241;43m.\u001b[39;49m\u001b[43m_make_api_call\u001b[49m\u001b[43m(\u001b[49m\u001b[43moperation_name\u001b[49m\u001b[43m,\u001b[49m\u001b[43m \u001b[49m\u001b[43mkwargs\u001b[49m\u001b[43m)\u001b[49m\n",
      "File \u001b[0;32m~/do-env/lib/python3.10/site-packages/botocore/client.py:989\u001b[0m, in \u001b[0;36mBaseClient._make_api_call\u001b[0;34m(self, operation_name, api_params)\u001b[0m\n\u001b[1;32m    985\u001b[0m     maybe_compress_request(\n\u001b[1;32m    986\u001b[0m         \u001b[38;5;28mself\u001b[39m\u001b[38;5;241m.\u001b[39mmeta\u001b[38;5;241m.\u001b[39mconfig, request_dict, operation_model\n\u001b[1;32m    987\u001b[0m     )\n\u001b[1;32m    988\u001b[0m     apply_request_checksum(request_dict)\n\u001b[0;32m--> 989\u001b[0m     http, parsed_response \u001b[38;5;241m=\u001b[39m \u001b[38;5;28;43mself\u001b[39;49m\u001b[38;5;241;43m.\u001b[39;49m\u001b[43m_make_request\u001b[49m\u001b[43m(\u001b[49m\n\u001b[1;32m    990\u001b[0m \u001b[43m        \u001b[49m\u001b[43moperation_model\u001b[49m\u001b[43m,\u001b[49m\u001b[43m \u001b[49m\u001b[43mrequest_dict\u001b[49m\u001b[43m,\u001b[49m\u001b[43m \u001b[49m\u001b[43mrequest_context\u001b[49m\n\u001b[1;32m    991\u001b[0m \u001b[43m    \u001b[49m\u001b[43m)\u001b[49m\n\u001b[1;32m    993\u001b[0m \u001b[38;5;28mself\u001b[39m\u001b[38;5;241m.\u001b[39mmeta\u001b[38;5;241m.\u001b[39mevents\u001b[38;5;241m.\u001b[39memit(\n\u001b[1;32m    994\u001b[0m     \u001b[38;5;124m'\u001b[39m\u001b[38;5;124mafter-call.\u001b[39m\u001b[38;5;132;01m{service_id}\u001b[39;00m\u001b[38;5;124m.\u001b[39m\u001b[38;5;132;01m{operation_name}\u001b[39;00m\u001b[38;5;124m'\u001b[39m\u001b[38;5;241m.\u001b[39mformat(\n\u001b[1;32m    995\u001b[0m         service_id\u001b[38;5;241m=\u001b[39mservice_id, operation_name\u001b[38;5;241m=\u001b[39moperation_name\n\u001b[0;32m   (...)\u001b[0m\n\u001b[1;32m   1000\u001b[0m     context\u001b[38;5;241m=\u001b[39mrequest_context,\n\u001b[1;32m   1001\u001b[0m )\n\u001b[1;32m   1003\u001b[0m \u001b[38;5;28;01mif\u001b[39;00m http\u001b[38;5;241m.\u001b[39mstatus_code \u001b[38;5;241m>\u001b[39m\u001b[38;5;241m=\u001b[39m \u001b[38;5;241m300\u001b[39m:\n",
      "File \u001b[0;32m~/do-env/lib/python3.10/site-packages/botocore/client.py:1015\u001b[0m, in \u001b[0;36mBaseClient._make_request\u001b[0;34m(self, operation_model, request_dict, request_context)\u001b[0m\n\u001b[1;32m   1013\u001b[0m \u001b[38;5;28;01mdef\u001b[39;00m \u001b[38;5;21m_make_request\u001b[39m(\u001b[38;5;28mself\u001b[39m, operation_model, request_dict, request_context):\n\u001b[1;32m   1014\u001b[0m     \u001b[38;5;28;01mtry\u001b[39;00m:\n\u001b[0;32m-> 1015\u001b[0m         \u001b[38;5;28;01mreturn\u001b[39;00m \u001b[38;5;28;43mself\u001b[39;49m\u001b[38;5;241;43m.\u001b[39;49m\u001b[43m_endpoint\u001b[49m\u001b[38;5;241;43m.\u001b[39;49m\u001b[43mmake_request\u001b[49m\u001b[43m(\u001b[49m\u001b[43moperation_model\u001b[49m\u001b[43m,\u001b[49m\u001b[43m \u001b[49m\u001b[43mrequest_dict\u001b[49m\u001b[43m)\u001b[49m\n\u001b[1;32m   1016\u001b[0m     \u001b[38;5;28;01mexcept\u001b[39;00m \u001b[38;5;167;01mException\u001b[39;00m \u001b[38;5;28;01mas\u001b[39;00m e:\n\u001b[1;32m   1017\u001b[0m         \u001b[38;5;28mself\u001b[39m\u001b[38;5;241m.\u001b[39mmeta\u001b[38;5;241m.\u001b[39mevents\u001b[38;5;241m.\u001b[39memit(\n\u001b[1;32m   1018\u001b[0m             \u001b[38;5;124m'\u001b[39m\u001b[38;5;124mafter-call-error.\u001b[39m\u001b[38;5;132;01m{service_id}\u001b[39;00m\u001b[38;5;124m.\u001b[39m\u001b[38;5;132;01m{operation_name}\u001b[39;00m\u001b[38;5;124m'\u001b[39m\u001b[38;5;241m.\u001b[39mformat(\n\u001b[1;32m   1019\u001b[0m                 service_id\u001b[38;5;241m=\u001b[39m\u001b[38;5;28mself\u001b[39m\u001b[38;5;241m.\u001b[39m_service_model\u001b[38;5;241m.\u001b[39mservice_id\u001b[38;5;241m.\u001b[39mhyphenize(),\n\u001b[0;32m   (...)\u001b[0m\n\u001b[1;32m   1023\u001b[0m             context\u001b[38;5;241m=\u001b[39mrequest_context,\n\u001b[1;32m   1024\u001b[0m         )\n",
      "File \u001b[0;32m~/do-env/lib/python3.10/site-packages/botocore/endpoint.py:119\u001b[0m, in \u001b[0;36mEndpoint.make_request\u001b[0;34m(self, operation_model, request_dict)\u001b[0m\n\u001b[1;32m    113\u001b[0m \u001b[38;5;28;01mdef\u001b[39;00m \u001b[38;5;21mmake_request\u001b[39m(\u001b[38;5;28mself\u001b[39m, operation_model, request_dict):\n\u001b[1;32m    114\u001b[0m     logger\u001b[38;5;241m.\u001b[39mdebug(\n\u001b[1;32m    115\u001b[0m         \u001b[38;5;124m\"\u001b[39m\u001b[38;5;124mMaking request for \u001b[39m\u001b[38;5;132;01m%s\u001b[39;00m\u001b[38;5;124m with params: \u001b[39m\u001b[38;5;132;01m%s\u001b[39;00m\u001b[38;5;124m\"\u001b[39m,\n\u001b[1;32m    116\u001b[0m         operation_model,\n\u001b[1;32m    117\u001b[0m         request_dict,\n\u001b[1;32m    118\u001b[0m     )\n\u001b[0;32m--> 119\u001b[0m     \u001b[38;5;28;01mreturn\u001b[39;00m \u001b[38;5;28;43mself\u001b[39;49m\u001b[38;5;241;43m.\u001b[39;49m\u001b[43m_send_request\u001b[49m\u001b[43m(\u001b[49m\u001b[43mrequest_dict\u001b[49m\u001b[43m,\u001b[49m\u001b[43m \u001b[49m\u001b[43moperation_model\u001b[49m\u001b[43m)\u001b[49m\n",
      "File \u001b[0;32m~/do-env/lib/python3.10/site-packages/botocore/endpoint.py:199\u001b[0m, in \u001b[0;36mEndpoint._send_request\u001b[0;34m(self, request_dict, operation_model)\u001b[0m\n\u001b[1;32m    197\u001b[0m \u001b[38;5;28mself\u001b[39m\u001b[38;5;241m.\u001b[39m_update_retries_context(context, attempts)\n\u001b[1;32m    198\u001b[0m request \u001b[38;5;241m=\u001b[39m \u001b[38;5;28mself\u001b[39m\u001b[38;5;241m.\u001b[39mcreate_request(request_dict, operation_model)\n\u001b[0;32m--> 199\u001b[0m success_response, exception \u001b[38;5;241m=\u001b[39m \u001b[38;5;28;43mself\u001b[39;49m\u001b[38;5;241;43m.\u001b[39;49m\u001b[43m_get_response\u001b[49m\u001b[43m(\u001b[49m\n\u001b[1;32m    200\u001b[0m \u001b[43m    \u001b[49m\u001b[43mrequest\u001b[49m\u001b[43m,\u001b[49m\u001b[43m \u001b[49m\u001b[43moperation_model\u001b[49m\u001b[43m,\u001b[49m\u001b[43m \u001b[49m\u001b[43mcontext\u001b[49m\n\u001b[1;32m    201\u001b[0m \u001b[43m\u001b[49m\u001b[43m)\u001b[49m\n\u001b[1;32m    202\u001b[0m \u001b[38;5;28;01mwhile\u001b[39;00m \u001b[38;5;28mself\u001b[39m\u001b[38;5;241m.\u001b[39m_needs_retry(\n\u001b[1;32m    203\u001b[0m     attempts,\n\u001b[1;32m    204\u001b[0m     operation_model,\n\u001b[0;32m   (...)\u001b[0m\n\u001b[1;32m    207\u001b[0m     exception,\n\u001b[1;32m    208\u001b[0m ):\n\u001b[1;32m    209\u001b[0m     attempts \u001b[38;5;241m+\u001b[39m\u001b[38;5;241m=\u001b[39m \u001b[38;5;241m1\u001b[39m\n",
      "File \u001b[0;32m~/do-env/lib/python3.10/site-packages/botocore/endpoint.py:241\u001b[0m, in \u001b[0;36mEndpoint._get_response\u001b[0;34m(self, request, operation_model, context)\u001b[0m\n\u001b[1;32m    235\u001b[0m \u001b[38;5;28;01mdef\u001b[39;00m \u001b[38;5;21m_get_response\u001b[39m(\u001b[38;5;28mself\u001b[39m, request, operation_model, context):\n\u001b[1;32m    236\u001b[0m     \u001b[38;5;66;03m# This will return a tuple of (success_response, exception)\u001b[39;00m\n\u001b[1;32m    237\u001b[0m     \u001b[38;5;66;03m# and success_response is itself a tuple of\u001b[39;00m\n\u001b[1;32m    238\u001b[0m     \u001b[38;5;66;03m# (http_response, parsed_dict).\u001b[39;00m\n\u001b[1;32m    239\u001b[0m     \u001b[38;5;66;03m# If an exception occurs then the success_response is None.\u001b[39;00m\n\u001b[1;32m    240\u001b[0m     \u001b[38;5;66;03m# If no exception occurs then exception is None.\u001b[39;00m\n\u001b[0;32m--> 241\u001b[0m     success_response, exception \u001b[38;5;241m=\u001b[39m \u001b[38;5;28;43mself\u001b[39;49m\u001b[38;5;241;43m.\u001b[39;49m\u001b[43m_do_get_response\u001b[49m\u001b[43m(\u001b[49m\n\u001b[1;32m    242\u001b[0m \u001b[43m        \u001b[49m\u001b[43mrequest\u001b[49m\u001b[43m,\u001b[49m\u001b[43m \u001b[49m\u001b[43moperation_model\u001b[49m\u001b[43m,\u001b[49m\u001b[43m \u001b[49m\u001b[43mcontext\u001b[49m\n\u001b[1;32m    243\u001b[0m \u001b[43m    \u001b[49m\u001b[43m)\u001b[49m\n\u001b[1;32m    244\u001b[0m     kwargs_to_emit \u001b[38;5;241m=\u001b[39m {\n\u001b[1;32m    245\u001b[0m         \u001b[38;5;124m'\u001b[39m\u001b[38;5;124mresponse_dict\u001b[39m\u001b[38;5;124m'\u001b[39m: \u001b[38;5;28;01mNone\u001b[39;00m,\n\u001b[1;32m    246\u001b[0m         \u001b[38;5;124m'\u001b[39m\u001b[38;5;124mparsed_response\u001b[39m\u001b[38;5;124m'\u001b[39m: \u001b[38;5;28;01mNone\u001b[39;00m,\n\u001b[1;32m    247\u001b[0m         \u001b[38;5;124m'\u001b[39m\u001b[38;5;124mcontext\u001b[39m\u001b[38;5;124m'\u001b[39m: context,\n\u001b[1;32m    248\u001b[0m         \u001b[38;5;124m'\u001b[39m\u001b[38;5;124mexception\u001b[39m\u001b[38;5;124m'\u001b[39m: exception,\n\u001b[1;32m    249\u001b[0m     }\n\u001b[1;32m    250\u001b[0m     \u001b[38;5;28;01mif\u001b[39;00m success_response \u001b[38;5;129;01mis\u001b[39;00m \u001b[38;5;129;01mnot\u001b[39;00m \u001b[38;5;28;01mNone\u001b[39;00m:\n",
      "File \u001b[0;32m~/do-env/lib/python3.10/site-packages/botocore/endpoint.py:281\u001b[0m, in \u001b[0;36mEndpoint._do_get_response\u001b[0;34m(self, request, operation_model, context)\u001b[0m\n\u001b[1;32m    279\u001b[0m     http_response \u001b[38;5;241m=\u001b[39m first_non_none_response(responses)\n\u001b[1;32m    280\u001b[0m     \u001b[38;5;28;01mif\u001b[39;00m http_response \u001b[38;5;129;01mis\u001b[39;00m \u001b[38;5;28;01mNone\u001b[39;00m:\n\u001b[0;32m--> 281\u001b[0m         http_response \u001b[38;5;241m=\u001b[39m \u001b[38;5;28;43mself\u001b[39;49m\u001b[38;5;241;43m.\u001b[39;49m\u001b[43m_send\u001b[49m\u001b[43m(\u001b[49m\u001b[43mrequest\u001b[49m\u001b[43m)\u001b[49m\n\u001b[1;32m    282\u001b[0m \u001b[38;5;28;01mexcept\u001b[39;00m HTTPClientError \u001b[38;5;28;01mas\u001b[39;00m e:\n\u001b[1;32m    283\u001b[0m     \u001b[38;5;28;01mreturn\u001b[39;00m (\u001b[38;5;28;01mNone\u001b[39;00m, e)\n",
      "File \u001b[0;32m~/do-env/lib/python3.10/site-packages/botocore/endpoint.py:377\u001b[0m, in \u001b[0;36mEndpoint._send\u001b[0;34m(self, request)\u001b[0m\n\u001b[1;32m    376\u001b[0m \u001b[38;5;28;01mdef\u001b[39;00m \u001b[38;5;21m_send\u001b[39m(\u001b[38;5;28mself\u001b[39m, request):\n\u001b[0;32m--> 377\u001b[0m     \u001b[38;5;28;01mreturn\u001b[39;00m \u001b[38;5;28;43mself\u001b[39;49m\u001b[38;5;241;43m.\u001b[39;49m\u001b[43mhttp_session\u001b[49m\u001b[38;5;241;43m.\u001b[39;49m\u001b[43msend\u001b[49m\u001b[43m(\u001b[49m\u001b[43mrequest\u001b[49m\u001b[43m)\u001b[49m\n",
      "File \u001b[0;32m~/do-env/lib/python3.10/site-packages/botocore/httpsession.py:464\u001b[0m, in \u001b[0;36mURLLib3Session.send\u001b[0;34m(self, request)\u001b[0m\n\u001b[1;32m    461\u001b[0m     conn\u001b[38;5;241m.\u001b[39mproxy_headers[\u001b[38;5;124m'\u001b[39m\u001b[38;5;124mhost\u001b[39m\u001b[38;5;124m'\u001b[39m] \u001b[38;5;241m=\u001b[39m host\n\u001b[1;32m    463\u001b[0m request_target \u001b[38;5;241m=\u001b[39m \u001b[38;5;28mself\u001b[39m\u001b[38;5;241m.\u001b[39m_get_request_target(request\u001b[38;5;241m.\u001b[39murl, proxy_url)\n\u001b[0;32m--> 464\u001b[0m urllib_response \u001b[38;5;241m=\u001b[39m \u001b[43mconn\u001b[49m\u001b[38;5;241;43m.\u001b[39;49m\u001b[43murlopen\u001b[49m\u001b[43m(\u001b[49m\n\u001b[1;32m    465\u001b[0m \u001b[43m    \u001b[49m\u001b[43mmethod\u001b[49m\u001b[38;5;241;43m=\u001b[39;49m\u001b[43mrequest\u001b[49m\u001b[38;5;241;43m.\u001b[39;49m\u001b[43mmethod\u001b[49m\u001b[43m,\u001b[49m\n\u001b[1;32m    466\u001b[0m \u001b[43m    \u001b[49m\u001b[43murl\u001b[49m\u001b[38;5;241;43m=\u001b[39;49m\u001b[43mrequest_target\u001b[49m\u001b[43m,\u001b[49m\n\u001b[1;32m    467\u001b[0m \u001b[43m    \u001b[49m\u001b[43mbody\u001b[49m\u001b[38;5;241;43m=\u001b[39;49m\u001b[43mrequest\u001b[49m\u001b[38;5;241;43m.\u001b[39;49m\u001b[43mbody\u001b[49m\u001b[43m,\u001b[49m\n\u001b[1;32m    468\u001b[0m \u001b[43m    \u001b[49m\u001b[43mheaders\u001b[49m\u001b[38;5;241;43m=\u001b[39;49m\u001b[43mrequest\u001b[49m\u001b[38;5;241;43m.\u001b[39;49m\u001b[43mheaders\u001b[49m\u001b[43m,\u001b[49m\n\u001b[1;32m    469\u001b[0m \u001b[43m    \u001b[49m\u001b[43mretries\u001b[49m\u001b[38;5;241;43m=\u001b[39;49m\u001b[43mRetry\u001b[49m\u001b[43m(\u001b[49m\u001b[38;5;28;43;01mFalse\u001b[39;49;00m\u001b[43m)\u001b[49m\u001b[43m,\u001b[49m\n\u001b[1;32m    470\u001b[0m \u001b[43m    \u001b[49m\u001b[43massert_same_host\u001b[49m\u001b[38;5;241;43m=\u001b[39;49m\u001b[38;5;28;43;01mFalse\u001b[39;49;00m\u001b[43m,\u001b[49m\n\u001b[1;32m    471\u001b[0m \u001b[43m    \u001b[49m\u001b[43mpreload_content\u001b[49m\u001b[38;5;241;43m=\u001b[39;49m\u001b[38;5;28;43;01mFalse\u001b[39;49;00m\u001b[43m,\u001b[49m\n\u001b[1;32m    472\u001b[0m \u001b[43m    \u001b[49m\u001b[43mdecode_content\u001b[49m\u001b[38;5;241;43m=\u001b[39;49m\u001b[38;5;28;43;01mFalse\u001b[39;49;00m\u001b[43m,\u001b[49m\n\u001b[1;32m    473\u001b[0m \u001b[43m    \u001b[49m\u001b[43mchunked\u001b[49m\u001b[38;5;241;43m=\u001b[39;49m\u001b[38;5;28;43mself\u001b[39;49m\u001b[38;5;241;43m.\u001b[39;49m\u001b[43m_chunked\u001b[49m\u001b[43m(\u001b[49m\u001b[43mrequest\u001b[49m\u001b[38;5;241;43m.\u001b[39;49m\u001b[43mheaders\u001b[49m\u001b[43m)\u001b[49m\u001b[43m,\u001b[49m\n\u001b[1;32m    474\u001b[0m \u001b[43m\u001b[49m\u001b[43m)\u001b[49m\n\u001b[1;32m    476\u001b[0m http_response \u001b[38;5;241m=\u001b[39m botocore\u001b[38;5;241m.\u001b[39mawsrequest\u001b[38;5;241m.\u001b[39mAWSResponse(\n\u001b[1;32m    477\u001b[0m     request\u001b[38;5;241m.\u001b[39murl,\n\u001b[1;32m    478\u001b[0m     urllib_response\u001b[38;5;241m.\u001b[39mstatus,\n\u001b[1;32m    479\u001b[0m     urllib_response\u001b[38;5;241m.\u001b[39mheaders,\n\u001b[1;32m    480\u001b[0m     urllib_response,\n\u001b[1;32m    481\u001b[0m )\n\u001b[1;32m    483\u001b[0m \u001b[38;5;28;01mif\u001b[39;00m \u001b[38;5;129;01mnot\u001b[39;00m request\u001b[38;5;241m.\u001b[39mstream_output:\n\u001b[1;32m    484\u001b[0m     \u001b[38;5;66;03m# Cause the raw stream to be exhausted immediately. We do it\u001b[39;00m\n\u001b[1;32m    485\u001b[0m     \u001b[38;5;66;03m# this way instead of using preload_content because\u001b[39;00m\n\u001b[1;32m    486\u001b[0m     \u001b[38;5;66;03m# preload_content will never buffer chunked responses\u001b[39;00m\n",
      "File \u001b[0;32m~/do-env/lib/python3.10/site-packages/urllib3/connectionpool.py:791\u001b[0m, in \u001b[0;36mHTTPConnectionPool.urlopen\u001b[0;34m(self, method, url, body, headers, retries, redirect, assert_same_host, timeout, pool_timeout, release_conn, chunked, body_pos, preload_content, decode_content, **response_kw)\u001b[0m\n\u001b[1;32m    788\u001b[0m response_conn \u001b[38;5;241m=\u001b[39m conn \u001b[38;5;28;01mif\u001b[39;00m \u001b[38;5;129;01mnot\u001b[39;00m release_conn \u001b[38;5;28;01melse\u001b[39;00m \u001b[38;5;28;01mNone\u001b[39;00m\n\u001b[1;32m    790\u001b[0m \u001b[38;5;66;03m# Make the request on the HTTPConnection object\u001b[39;00m\n\u001b[0;32m--> 791\u001b[0m response \u001b[38;5;241m=\u001b[39m \u001b[38;5;28;43mself\u001b[39;49m\u001b[38;5;241;43m.\u001b[39;49m\u001b[43m_make_request\u001b[49m\u001b[43m(\u001b[49m\n\u001b[1;32m    792\u001b[0m \u001b[43m    \u001b[49m\u001b[43mconn\u001b[49m\u001b[43m,\u001b[49m\n\u001b[1;32m    793\u001b[0m \u001b[43m    \u001b[49m\u001b[43mmethod\u001b[49m\u001b[43m,\u001b[49m\n\u001b[1;32m    794\u001b[0m \u001b[43m    \u001b[49m\u001b[43murl\u001b[49m\u001b[43m,\u001b[49m\n\u001b[1;32m    795\u001b[0m \u001b[43m    \u001b[49m\u001b[43mtimeout\u001b[49m\u001b[38;5;241;43m=\u001b[39;49m\u001b[43mtimeout_obj\u001b[49m\u001b[43m,\u001b[49m\n\u001b[1;32m    796\u001b[0m \u001b[43m    \u001b[49m\u001b[43mbody\u001b[49m\u001b[38;5;241;43m=\u001b[39;49m\u001b[43mbody\u001b[49m\u001b[43m,\u001b[49m\n\u001b[1;32m    797\u001b[0m \u001b[43m    \u001b[49m\u001b[43mheaders\u001b[49m\u001b[38;5;241;43m=\u001b[39;49m\u001b[43mheaders\u001b[49m\u001b[43m,\u001b[49m\n\u001b[1;32m    798\u001b[0m \u001b[43m    \u001b[49m\u001b[43mchunked\u001b[49m\u001b[38;5;241;43m=\u001b[39;49m\u001b[43mchunked\u001b[49m\u001b[43m,\u001b[49m\n\u001b[1;32m    799\u001b[0m \u001b[43m    \u001b[49m\u001b[43mretries\u001b[49m\u001b[38;5;241;43m=\u001b[39;49m\u001b[43mretries\u001b[49m\u001b[43m,\u001b[49m\n\u001b[1;32m    800\u001b[0m \u001b[43m    \u001b[49m\u001b[43mresponse_conn\u001b[49m\u001b[38;5;241;43m=\u001b[39;49m\u001b[43mresponse_conn\u001b[49m\u001b[43m,\u001b[49m\n\u001b[1;32m    801\u001b[0m \u001b[43m    \u001b[49m\u001b[43mpreload_content\u001b[49m\u001b[38;5;241;43m=\u001b[39;49m\u001b[43mpreload_content\u001b[49m\u001b[43m,\u001b[49m\n\u001b[1;32m    802\u001b[0m \u001b[43m    \u001b[49m\u001b[43mdecode_content\u001b[49m\u001b[38;5;241;43m=\u001b[39;49m\u001b[43mdecode_content\u001b[49m\u001b[43m,\u001b[49m\n\u001b[1;32m    803\u001b[0m \u001b[43m    \u001b[49m\u001b[38;5;241;43m*\u001b[39;49m\u001b[38;5;241;43m*\u001b[39;49m\u001b[43mresponse_kw\u001b[49m\u001b[43m,\u001b[49m\n\u001b[1;32m    804\u001b[0m \u001b[43m\u001b[49m\u001b[43m)\u001b[49m\n\u001b[1;32m    806\u001b[0m \u001b[38;5;66;03m# Everything went great!\u001b[39;00m\n\u001b[1;32m    807\u001b[0m clean_exit \u001b[38;5;241m=\u001b[39m \u001b[38;5;28;01mTrue\u001b[39;00m\n",
      "File \u001b[0;32m~/do-env/lib/python3.10/site-packages/urllib3/connectionpool.py:537\u001b[0m, in \u001b[0;36mHTTPConnectionPool._make_request\u001b[0;34m(self, conn, method, url, body, headers, retries, timeout, chunked, response_conn, preload_content, decode_content, enforce_content_length)\u001b[0m\n\u001b[1;32m    535\u001b[0m \u001b[38;5;66;03m# Receive the response from the server\u001b[39;00m\n\u001b[1;32m    536\u001b[0m \u001b[38;5;28;01mtry\u001b[39;00m:\n\u001b[0;32m--> 537\u001b[0m     response \u001b[38;5;241m=\u001b[39m \u001b[43mconn\u001b[49m\u001b[38;5;241;43m.\u001b[39;49m\u001b[43mgetresponse\u001b[49m\u001b[43m(\u001b[49m\u001b[43m)\u001b[49m\n\u001b[1;32m    538\u001b[0m \u001b[38;5;28;01mexcept\u001b[39;00m (BaseSSLError, \u001b[38;5;167;01mOSError\u001b[39;00m) \u001b[38;5;28;01mas\u001b[39;00m e:\n\u001b[1;32m    539\u001b[0m     \u001b[38;5;28mself\u001b[39m\u001b[38;5;241m.\u001b[39m_raise_timeout(err\u001b[38;5;241m=\u001b[39me, url\u001b[38;5;241m=\u001b[39murl, timeout_value\u001b[38;5;241m=\u001b[39mread_timeout)\n",
      "File \u001b[0;32m~/do-env/lib/python3.10/site-packages/urllib3/connection.py:461\u001b[0m, in \u001b[0;36mHTTPConnection.getresponse\u001b[0;34m(self)\u001b[0m\n\u001b[1;32m    458\u001b[0m \u001b[38;5;28;01mfrom\u001b[39;00m \u001b[38;5;21;01m.\u001b[39;00m\u001b[38;5;21;01mresponse\u001b[39;00m \u001b[38;5;28;01mimport\u001b[39;00m HTTPResponse\n\u001b[1;32m    460\u001b[0m \u001b[38;5;66;03m# Get the response from http.client.HTTPConnection\u001b[39;00m\n\u001b[0;32m--> 461\u001b[0m httplib_response \u001b[38;5;241m=\u001b[39m \u001b[38;5;28;43msuper\u001b[39;49m\u001b[43m(\u001b[49m\u001b[43m)\u001b[49m\u001b[38;5;241;43m.\u001b[39;49m\u001b[43mgetresponse\u001b[49m\u001b[43m(\u001b[49m\u001b[43m)\u001b[49m\n\u001b[1;32m    463\u001b[0m \u001b[38;5;28;01mtry\u001b[39;00m:\n\u001b[1;32m    464\u001b[0m     assert_header_parsing(httplib_response\u001b[38;5;241m.\u001b[39mmsg)\n",
      "File \u001b[0;32m/usr/lib/python3.10/http/client.py:1375\u001b[0m, in \u001b[0;36mHTTPConnection.getresponse\u001b[0;34m(self)\u001b[0m\n\u001b[1;32m   1373\u001b[0m \u001b[38;5;28;01mtry\u001b[39;00m:\n\u001b[1;32m   1374\u001b[0m     \u001b[38;5;28;01mtry\u001b[39;00m:\n\u001b[0;32m-> 1375\u001b[0m         \u001b[43mresponse\u001b[49m\u001b[38;5;241;43m.\u001b[39;49m\u001b[43mbegin\u001b[49m\u001b[43m(\u001b[49m\u001b[43m)\u001b[49m\n\u001b[1;32m   1376\u001b[0m     \u001b[38;5;28;01mexcept\u001b[39;00m \u001b[38;5;167;01mConnectionError\u001b[39;00m:\n\u001b[1;32m   1377\u001b[0m         \u001b[38;5;28mself\u001b[39m\u001b[38;5;241m.\u001b[39mclose()\n",
      "File \u001b[0;32m/usr/lib/python3.10/http/client.py:318\u001b[0m, in \u001b[0;36mHTTPResponse.begin\u001b[0;34m(self)\u001b[0m\n\u001b[1;32m    316\u001b[0m \u001b[38;5;66;03m# read until we get a non-100 response\u001b[39;00m\n\u001b[1;32m    317\u001b[0m \u001b[38;5;28;01mwhile\u001b[39;00m \u001b[38;5;28;01mTrue\u001b[39;00m:\n\u001b[0;32m--> 318\u001b[0m     version, status, reason \u001b[38;5;241m=\u001b[39m \u001b[38;5;28;43mself\u001b[39;49m\u001b[38;5;241;43m.\u001b[39;49m\u001b[43m_read_status\u001b[49m\u001b[43m(\u001b[49m\u001b[43m)\u001b[49m\n\u001b[1;32m    319\u001b[0m     \u001b[38;5;28;01mif\u001b[39;00m status \u001b[38;5;241m!=\u001b[39m CONTINUE:\n\u001b[1;32m    320\u001b[0m         \u001b[38;5;28;01mbreak\u001b[39;00m\n",
      "File \u001b[0;32m/usr/lib/python3.10/http/client.py:279\u001b[0m, in \u001b[0;36mHTTPResponse._read_status\u001b[0;34m(self)\u001b[0m\n\u001b[1;32m    278\u001b[0m \u001b[38;5;28;01mdef\u001b[39;00m \u001b[38;5;21m_read_status\u001b[39m(\u001b[38;5;28mself\u001b[39m):\n\u001b[0;32m--> 279\u001b[0m     line \u001b[38;5;241m=\u001b[39m \u001b[38;5;28mstr\u001b[39m(\u001b[38;5;28;43mself\u001b[39;49m\u001b[38;5;241;43m.\u001b[39;49m\u001b[43mfp\u001b[49m\u001b[38;5;241;43m.\u001b[39;49m\u001b[43mreadline\u001b[49m\u001b[43m(\u001b[49m\u001b[43m_MAXLINE\u001b[49m\u001b[43m \u001b[49m\u001b[38;5;241;43m+\u001b[39;49m\u001b[43m \u001b[49m\u001b[38;5;241;43m1\u001b[39;49m\u001b[43m)\u001b[49m, \u001b[38;5;124m\"\u001b[39m\u001b[38;5;124miso-8859-1\u001b[39m\u001b[38;5;124m\"\u001b[39m)\n\u001b[1;32m    280\u001b[0m     \u001b[38;5;28;01mif\u001b[39;00m \u001b[38;5;28mlen\u001b[39m(line) \u001b[38;5;241m>\u001b[39m _MAXLINE:\n\u001b[1;32m    281\u001b[0m         \u001b[38;5;28;01mraise\u001b[39;00m LineTooLong(\u001b[38;5;124m\"\u001b[39m\u001b[38;5;124mstatus line\u001b[39m\u001b[38;5;124m\"\u001b[39m)\n",
      "File \u001b[0;32m/usr/lib/python3.10/socket.py:705\u001b[0m, in \u001b[0;36mSocketIO.readinto\u001b[0;34m(self, b)\u001b[0m\n\u001b[1;32m    703\u001b[0m \u001b[38;5;28;01mwhile\u001b[39;00m \u001b[38;5;28;01mTrue\u001b[39;00m:\n\u001b[1;32m    704\u001b[0m     \u001b[38;5;28;01mtry\u001b[39;00m:\n\u001b[0;32m--> 705\u001b[0m         \u001b[38;5;28;01mreturn\u001b[39;00m \u001b[38;5;28;43mself\u001b[39;49m\u001b[38;5;241;43m.\u001b[39;49m\u001b[43m_sock\u001b[49m\u001b[38;5;241;43m.\u001b[39;49m\u001b[43mrecv_into\u001b[49m\u001b[43m(\u001b[49m\u001b[43mb\u001b[49m\u001b[43m)\u001b[49m\n\u001b[1;32m    706\u001b[0m     \u001b[38;5;28;01mexcept\u001b[39;00m timeout:\n\u001b[1;32m    707\u001b[0m         \u001b[38;5;28mself\u001b[39m\u001b[38;5;241m.\u001b[39m_timeout_occurred \u001b[38;5;241m=\u001b[39m \u001b[38;5;28;01mTrue\u001b[39;00m\n",
      "File \u001b[0;32m/usr/lib/python3.10/ssl.py:1303\u001b[0m, in \u001b[0;36mSSLSocket.recv_into\u001b[0;34m(self, buffer, nbytes, flags)\u001b[0m\n\u001b[1;32m   1299\u001b[0m     \u001b[38;5;28;01mif\u001b[39;00m flags \u001b[38;5;241m!=\u001b[39m \u001b[38;5;241m0\u001b[39m:\n\u001b[1;32m   1300\u001b[0m         \u001b[38;5;28;01mraise\u001b[39;00m \u001b[38;5;167;01mValueError\u001b[39;00m(\n\u001b[1;32m   1301\u001b[0m           \u001b[38;5;124m\"\u001b[39m\u001b[38;5;124mnon-zero flags not allowed in calls to recv_into() on \u001b[39m\u001b[38;5;132;01m%s\u001b[39;00m\u001b[38;5;124m\"\u001b[39m \u001b[38;5;241m%\u001b[39m\n\u001b[1;32m   1302\u001b[0m           \u001b[38;5;28mself\u001b[39m\u001b[38;5;241m.\u001b[39m\u001b[38;5;18m__class__\u001b[39m)\n\u001b[0;32m-> 1303\u001b[0m     \u001b[38;5;28;01mreturn\u001b[39;00m \u001b[38;5;28;43mself\u001b[39;49m\u001b[38;5;241;43m.\u001b[39;49m\u001b[43mread\u001b[49m\u001b[43m(\u001b[49m\u001b[43mnbytes\u001b[49m\u001b[43m,\u001b[49m\u001b[43m \u001b[49m\u001b[43mbuffer\u001b[49m\u001b[43m)\u001b[49m\n\u001b[1;32m   1304\u001b[0m \u001b[38;5;28;01melse\u001b[39;00m:\n\u001b[1;32m   1305\u001b[0m     \u001b[38;5;28;01mreturn\u001b[39;00m \u001b[38;5;28msuper\u001b[39m()\u001b[38;5;241m.\u001b[39mrecv_into(buffer, nbytes, flags)\n",
      "File \u001b[0;32m/usr/lib/python3.10/ssl.py:1159\u001b[0m, in \u001b[0;36mSSLSocket.read\u001b[0;34m(self, len, buffer)\u001b[0m\n\u001b[1;32m   1157\u001b[0m \u001b[38;5;28;01mtry\u001b[39;00m:\n\u001b[1;32m   1158\u001b[0m     \u001b[38;5;28;01mif\u001b[39;00m buffer \u001b[38;5;129;01mis\u001b[39;00m \u001b[38;5;129;01mnot\u001b[39;00m \u001b[38;5;28;01mNone\u001b[39;00m:\n\u001b[0;32m-> 1159\u001b[0m         \u001b[38;5;28;01mreturn\u001b[39;00m \u001b[38;5;28;43mself\u001b[39;49m\u001b[38;5;241;43m.\u001b[39;49m\u001b[43m_sslobj\u001b[49m\u001b[38;5;241;43m.\u001b[39;49m\u001b[43mread\u001b[49m\u001b[43m(\u001b[49m\u001b[38;5;28;43mlen\u001b[39;49m\u001b[43m,\u001b[49m\u001b[43m \u001b[49m\u001b[43mbuffer\u001b[49m\u001b[43m)\u001b[49m\n\u001b[1;32m   1160\u001b[0m     \u001b[38;5;28;01melse\u001b[39;00m:\n\u001b[1;32m   1161\u001b[0m         \u001b[38;5;28;01mreturn\u001b[39;00m \u001b[38;5;28mself\u001b[39m\u001b[38;5;241m.\u001b[39m_sslobj\u001b[38;5;241m.\u001b[39mread(\u001b[38;5;28mlen\u001b[39m)\n",
      "\u001b[0;31mKeyboardInterrupt\u001b[0m: "
     ]
    }
   ],
   "source": [
    "if not os.path.exists(f\"./data/chassis\"):\n",
    "        os.makedirs(f\"./data/chassis\")\n",
    "\n",
    "if queryChassis:\n",
    "    keywords = dict(\n",
    "        IndexName='topic-index',\n",
    "        KeyConditionExpression=Key('topic').eq(\n",
    "            '/apollo/canbus/chassis'),\n",
    "        Limit=2000,\n",
    "        FilterExpression=Key('groupMetadataID').eq(gmID)\n",
    "    )\n",
    "\n",
    "    res = table.query(**keywords)\n",
    "    df_chassis = pd.DataFrame.from_dict(\n",
    "        pd.json_normalize(res['Items']), orient='columns')\n",
    "\n",
    "    done = False\n",
    "    leek = res[\"LastEvaluatedKey\"]\n",
    "\n",
    "    while not done:\n",
    "        try:\n",
    "            leek = res[\"LastEvaluatedKey\"]\n",
    "            print(leek)\n",
    "            keywords[\"ExclusiveStartKey\"] = leek\n",
    "            res = table.query(**keywords)\n",
    "            tmpDF = pd.DataFrame.from_dict(\n",
    "                pd.json_normalize(res['Items']), orient='columns')\n",
    "            df_chassis = pd.concat([df_chassis, tmpDF])\n",
    "\n",
    "        except KeyError:\n",
    "            print(f\"done querying for chassis data\")\n",
    "            done = True\n",
    "\n",
    "    df_chassis.to_csv(f\"./data/chassis/{gmID}.csv\")\n",
    "    print(f\"Saved chassis data at ./data/chassis/{gmID}.csv\")\n",
    "else:\n",
    "    df_chassis = pd.read_csv(f\"./data/chassis/{gmID}.csv\")\n",
    "    print(\"Loaded chassis data\")\n",
    "\n",
    "print(df_chassis.shape)"
   ]
  },
  {
   "cell_type": "code",
   "execution_count": null,
   "id": "07ff1bed",
   "metadata": {},
   "outputs": [
    {
     "name": "stdout",
     "output_type": "stream",
     "text": [
      "Loaded metadata\n",
      "(1, 8)\n"
     ]
    }
   ],
   "source": [
    "if not os.path.exists(f\"./data/metadata\"):\n",
    "        os.makedirs(f\"./data/metadata\")\n",
    "\n",
    "if queryMeta:\n",
    "\n",
    "    res = table_meta.query(\n",
    "        IndexName='groupMetadataID-index',\n",
    "        KeyConditionExpression=Key(\"groupMetadataID\").eq(gmID),\n",
    "        ProjectionExpression=\"groupMetadataID, #o.Weather, #o.#m, #o.Notes\",\n",
    "        Limit=1500,\n",
    "        ExpressionAttributeNames={\"#o\": \"other\", \"#m\": \"Map\"},\n",
    "    )\n",
    "\n",
    "    df_meta = pd.DataFrame.from_dict(\n",
    "        pd.json_normalize(res['Items']), orient='columns').drop_duplicates()\n",
    "\n",
    "    df_meta.to_csv(f\"./data/metadata/{gmID}.csv\")\n",
    "    print(f\"Saved metadata data at ./data/metadata/{gmID}.csv\")\n",
    "\n",
    "else:\n",
    "    df_meta = pd.read_csv(f\"./data/metadata/{gmID}.csv\")\n",
    "    print(\"Loaded metadata\")\n",
    "\n",
    "\n",
    "print(df_meta.shape)"
   ]
  },
  {
   "cell_type": "markdown",
   "id": "a7dff265-5962-47f8-963f-ea25552029f8",
   "metadata": {},
   "source": [
    "The output of this box will be messed up. It automatically sets row 0 to True. Not sure why, but it doesn't count as a transition in the end.\n",
    "We are also counting emergency mode as MANUAL\n"
   ]
  },
  {
   "cell_type": "code",
   "execution_count": null,
   "id": "c692446b-fcff-4ea1-b0cf-a70d6d7a5384",
   "metadata": {},
   "outputs": [
    {
     "name": "stdout",
     "output_type": "stream",
     "text": [
      "transition\n",
      "False    33483\n",
      "True        15\n",
      "Name: count, dtype: int64\n"
     ]
    },
    {
     "name": "stdout",
     "output_type": "stream",
     "text": [
      "transitionType\n",
      "NONE    33487\n",
      "A->M        6\n",
      "M->A        5\n",
      "Name: count, dtype: int64\n"
     ]
    },
    {
     "data": {
      "text/html": [
       "<div>\n",
       "<style scoped>\n",
       "    .dataframe tbody tr th:only-of-type {\n",
       "        vertical-align: middle;\n",
       "    }\n",
       "\n",
       "    .dataframe tbody tr th {\n",
       "        vertical-align: top;\n",
       "    }\n",
       "\n",
       "    .dataframe thead th {\n",
       "        text-align: right;\n",
       "    }\n",
       "</style>\n",
       "<table border=\"1\" class=\"dataframe\">\n",
       "  <thead>\n",
       "    <tr style=\"text-align: right;\">\n",
       "      <th></th>\n",
       "      <th>time</th>\n",
       "    </tr>\n",
       "  </thead>\n",
       "  <tbody>\n",
       "    <tr>\n",
       "      <th>229</th>\n",
       "      <td>2023-05-31 13:55:02</td>\n",
       "    </tr>\n",
       "    <tr>\n",
       "      <th>6170</th>\n",
       "      <td>2023-05-31 13:55:02</td>\n",
       "    </tr>\n",
       "    <tr>\n",
       "      <th>2348</th>\n",
       "      <td>2023-05-31 13:55:02</td>\n",
       "    </tr>\n",
       "    <tr>\n",
       "      <th>12706</th>\n",
       "      <td>2023-05-31 13:55:02</td>\n",
       "    </tr>\n",
       "    <tr>\n",
       "      <th>4063</th>\n",
       "      <td>2023-05-31 13:55:02</td>\n",
       "    </tr>\n",
       "    <tr>\n",
       "      <th>...</th>\n",
       "      <td>...</td>\n",
       "    </tr>\n",
       "    <tr>\n",
       "      <th>947</th>\n",
       "      <td>2023-05-31 14:06:12</td>\n",
       "    </tr>\n",
       "    <tr>\n",
       "      <th>26339</th>\n",
       "      <td>2023-05-31 14:06:12</td>\n",
       "    </tr>\n",
       "    <tr>\n",
       "      <th>21380</th>\n",
       "      <td>2023-05-31 14:06:12</td>\n",
       "    </tr>\n",
       "    <tr>\n",
       "      <th>7061</th>\n",
       "      <td>2023-05-31 14:06:12</td>\n",
       "    </tr>\n",
       "    <tr>\n",
       "      <th>19222</th>\n",
       "      <td>2023-05-31 14:06:12</td>\n",
       "    </tr>\n",
       "  </tbody>\n",
       "</table>\n",
       "<p>33498 rows × 1 columns</p>\n",
       "</div>"
      ],
      "text/plain": [
       "                     time\n",
       "229   2023-05-31 13:55:02\n",
       "6170  2023-05-31 13:55:02\n",
       "2348  2023-05-31 13:55:02\n",
       "12706 2023-05-31 13:55:02\n",
       "4063  2023-05-31 13:55:02\n",
       "...                   ...\n",
       "947   2023-05-31 14:06:12\n",
       "26339 2023-05-31 14:06:12\n",
       "21380 2023-05-31 14:06:12\n",
       "7061  2023-05-31 14:06:12\n",
       "19222 2023-05-31 14:06:12\n",
       "\n",
       "[33498 rows x 1 columns]"
      ]
     },
     "execution_count": 53,
     "metadata": {},
     "output_type": "execute_result"
    }
   ],
   "source": [
    "# read the timeSorted csv\n",
    "pts = df_chassis.copy()\n",
    "pts = pts.sort_values('time')\n",
    "# reduce df to only time and drivingMode\n",
    "pts = pts[[\"time\", \"drivingMode\"]]\n",
    "# function to tell us what state transition it is\n",
    "\n",
    "\n",
    "def getState(old, new):\n",
    "    if old == \"COMPLETE_AUTO_DRIVE\" and new == \"COMPLETE_MANUAL\":\n",
    "        return \"A->M\"\n",
    "    elif old == \"COMPLETE_AUTO_DRIVE\" and new == \"EMERGENCY_MODE\":\n",
    "        return \"A->M\"\n",
    "    elif old == \"COMPLETE_MANUAL\" and new == \"COMPLETE_AUTO_DRIVE\":\n",
    "        return \"M->A\"\n",
    "    elif old == \"EMERGENCY_MODE\" and new == \"COMPLETE_AUTO_DRIVE\":\n",
    "        return \"M->A\"\n",
    "    else:\n",
    "        return \"NONE\"\n",
    "\n",
    "\n",
    "# we shift the drivingMode column down by 1\n",
    "pts[\"shift\"] = pts[\"drivingMode\"].shift()\n",
    "# create transition field\n",
    "pts['transition'] = (pts[\"drivingMode\"] != pts[\"shift\"])\n",
    "# set Transition type to NONE for all\n",
    "pts['transitionType'] = \"NONE\"\n",
    "# Set first transition to False, since it was auto True\n",
    "pts.loc[0, 'transition'] = False\n",
    "# print(pts['transition'])\n",
    "# Show counts for transitions\n",
    "print(pts['transition'].value_counts())\n",
    "# iterate over all rows and find the ones where transition is true. Then we compare shift and dM to see what\n",
    "# transition Type we have.\n",
    "for index, row in pts.iterrows():\n",
    "    if pts['transition'][index] == True:\n",
    "        old = pts['shift'][index]\n",
    "        new = pts['drivingMode'][index]\n",
    "        pts.loc[index, \"transitionType\"] = getState(old, new)\n",
    "print(pts['transitionType'].value_counts())\n",
    "pts = pts[['time', 'drivingMode', 'transition', 'transitionType']]\n",
    "pts = pts.sort_values('time')\n",
    "pts['time'] = pts['time'].astype(float)\n",
    "pts['time'] = pts['time'].astype('datetime64[ns]')\n",
    "pts['time'] = pts['time'].astype('datetime64[s]')\n",
    "pts[['time']]\n",
    "\n",
    "# show(pts)"
   ]
  },
  {
   "cell_type": "code",
   "execution_count": null,
   "id": "4ba8ee8e-c2bf-46e5-a1bc-5f805200ee6a",
   "metadata": {},
   "outputs": [],
   "source": [
    "ll = df_pose.copy()\n",
    "ll = ll.sort_values('time')\n",
    "ll['time'] = ll['time'].astype(float)\n",
    "ll['time'] = ll['time'].astype('datetime64[ns]')\n",
    "ll['time'] = ll['time'].astype('datetime64[s]')\n",
    "ll = ll[[\"groupMetadataID\", 'time', 'latitude', 'longitude']]\n",
    "merged_df = pd.merge(pts, ll, on='time')"
   ]
  },
  {
   "cell_type": "code",
   "execution_count": null,
   "id": "dd75db80",
   "metadata": {},
   "outputs": [
    {
     "data": {
      "text/html": [
       "<div>\n",
       "<style scoped>\n",
       "    .dataframe tbody tr th:only-of-type {\n",
       "        vertical-align: middle;\n",
       "    }\n",
       "\n",
       "    .dataframe tbody tr th {\n",
       "        vertical-align: top;\n",
       "    }\n",
       "\n",
       "    .dataframe thead th {\n",
       "        text-align: right;\n",
       "    }\n",
       "</style>\n",
       "<table border=\"1\" class=\"dataframe\">\n",
       "  <thead>\n",
       "    <tr style=\"text-align: right;\">\n",
       "      <th></th>\n",
       "      <th>time</th>\n",
       "      <th>drivingMode</th>\n",
       "      <th>transition</th>\n",
       "      <th>transitionType</th>\n",
       "      <th>groupMetadataID</th>\n",
       "      <th>latitude</th>\n",
       "      <th>longitude</th>\n",
       "    </tr>\n",
       "  </thead>\n",
       "  <tbody>\n",
       "    <tr>\n",
       "      <th>0</th>\n",
       "      <td>2023-05-31 13:55:02</td>\n",
       "      <td>COMPLETE_AUTO_DRIVE</td>\n",
       "      <td>True</td>\n",
       "      <td>NONE</td>\n",
       "      <td>ba6e1072-9524-11ee-956e-9da2d070324c</td>\n",
       "      <td>39.325937</td>\n",
       "      <td>-82.103313</td>\n",
       "    </tr>\n",
       "    <tr>\n",
       "      <th>1</th>\n",
       "      <td>2023-05-31 13:55:02</td>\n",
       "      <td>COMPLETE_AUTO_DRIVE</td>\n",
       "      <td>False</td>\n",
       "      <td>NONE</td>\n",
       "      <td>ba6e1072-9524-11ee-956e-9da2d070324c</td>\n",
       "      <td>39.325937</td>\n",
       "      <td>-82.103313</td>\n",
       "    </tr>\n",
       "    <tr>\n",
       "      <th>30</th>\n",
       "      <td>2023-05-31 13:55:03</td>\n",
       "      <td>COMPLETE_AUTO_DRIVE</td>\n",
       "      <td>False</td>\n",
       "      <td>NONE</td>\n",
       "      <td>ba6e1072-9524-11ee-956e-9da2d070324c</td>\n",
       "      <td>39.326024</td>\n",
       "      <td>-82.103266</td>\n",
       "    </tr>\n",
       "    <tr>\n",
       "      <th>80</th>\n",
       "      <td>2023-05-31 13:55:04</td>\n",
       "      <td>COMPLETE_AUTO_DRIVE</td>\n",
       "      <td>False</td>\n",
       "      <td>NONE</td>\n",
       "      <td>ba6e1072-9524-11ee-956e-9da2d070324c</td>\n",
       "      <td>39.326106</td>\n",
       "      <td>-82.103222</td>\n",
       "    </tr>\n",
       "    <tr>\n",
       "      <th>130</th>\n",
       "      <td>2023-05-31 13:55:05</td>\n",
       "      <td>COMPLETE_AUTO_DRIVE</td>\n",
       "      <td>False</td>\n",
       "      <td>NONE</td>\n",
       "      <td>ba6e1072-9524-11ee-956e-9da2d070324c</td>\n",
       "      <td>39.326184</td>\n",
       "      <td>-82.103181</td>\n",
       "    </tr>\n",
       "    <tr>\n",
       "      <th>...</th>\n",
       "      <td>...</td>\n",
       "      <td>...</td>\n",
       "      <td>...</td>\n",
       "      <td>...</td>\n",
       "      <td>...</td>\n",
       "      <td>...</td>\n",
       "      <td>...</td>\n",
       "    </tr>\n",
       "    <tr>\n",
       "      <th>33269</th>\n",
       "      <td>2023-05-31 14:06:08</td>\n",
       "      <td>EMERGENCY_MODE</td>\n",
       "      <td>False</td>\n",
       "      <td>NONE</td>\n",
       "      <td>ba6e1072-9524-11ee-956e-9da2d070324c</td>\n",
       "      <td>39.331453</td>\n",
       "      <td>-82.126043</td>\n",
       "    </tr>\n",
       "    <tr>\n",
       "      <th>33319</th>\n",
       "      <td>2023-05-31 14:06:09</td>\n",
       "      <td>EMERGENCY_MODE</td>\n",
       "      <td>False</td>\n",
       "      <td>NONE</td>\n",
       "      <td>ba6e1072-9524-11ee-956e-9da2d070324c</td>\n",
       "      <td>39.331453</td>\n",
       "      <td>-82.126043</td>\n",
       "    </tr>\n",
       "    <tr>\n",
       "      <th>33369</th>\n",
       "      <td>2023-05-31 14:06:10</td>\n",
       "      <td>EMERGENCY_MODE</td>\n",
       "      <td>False</td>\n",
       "      <td>NONE</td>\n",
       "      <td>ba6e1072-9524-11ee-956e-9da2d070324c</td>\n",
       "      <td>39.331453</td>\n",
       "      <td>-82.126043</td>\n",
       "    </tr>\n",
       "    <tr>\n",
       "      <th>33419</th>\n",
       "      <td>2023-05-31 14:06:11</td>\n",
       "      <td>EMERGENCY_MODE</td>\n",
       "      <td>False</td>\n",
       "      <td>NONE</td>\n",
       "      <td>ba6e1072-9524-11ee-956e-9da2d070324c</td>\n",
       "      <td>39.331453</td>\n",
       "      <td>-82.126043</td>\n",
       "    </tr>\n",
       "    <tr>\n",
       "      <th>33469</th>\n",
       "      <td>2023-05-31 14:06:12</td>\n",
       "      <td>EMERGENCY_MODE</td>\n",
       "      <td>False</td>\n",
       "      <td>NONE</td>\n",
       "      <td>ba6e1072-9524-11ee-956e-9da2d070324c</td>\n",
       "      <td>39.331453</td>\n",
       "      <td>-82.126043</td>\n",
       "    </tr>\n",
       "  </tbody>\n",
       "</table>\n",
       "<p>700 rows × 7 columns</p>\n",
       "</div>"
      ],
      "text/plain": [
       "                     time          drivingMode  transition transitionType  \\\n",
       "0     2023-05-31 13:55:02  COMPLETE_AUTO_DRIVE        True           NONE   \n",
       "1     2023-05-31 13:55:02  COMPLETE_AUTO_DRIVE       False           NONE   \n",
       "30    2023-05-31 13:55:03  COMPLETE_AUTO_DRIVE       False           NONE   \n",
       "80    2023-05-31 13:55:04  COMPLETE_AUTO_DRIVE       False           NONE   \n",
       "130   2023-05-31 13:55:05  COMPLETE_AUTO_DRIVE       False           NONE   \n",
       "...                   ...                  ...         ...            ...   \n",
       "33269 2023-05-31 14:06:08       EMERGENCY_MODE       False           NONE   \n",
       "33319 2023-05-31 14:06:09       EMERGENCY_MODE       False           NONE   \n",
       "33369 2023-05-31 14:06:10       EMERGENCY_MODE       False           NONE   \n",
       "33419 2023-05-31 14:06:11       EMERGENCY_MODE       False           NONE   \n",
       "33469 2023-05-31 14:06:12       EMERGENCY_MODE       False           NONE   \n",
       "\n",
       "                            groupMetadataID   latitude  longitude  \n",
       "0      ba6e1072-9524-11ee-956e-9da2d070324c  39.325937 -82.103313  \n",
       "1      ba6e1072-9524-11ee-956e-9da2d070324c  39.325937 -82.103313  \n",
       "30     ba6e1072-9524-11ee-956e-9da2d070324c  39.326024 -82.103266  \n",
       "80     ba6e1072-9524-11ee-956e-9da2d070324c  39.326106 -82.103222  \n",
       "130    ba6e1072-9524-11ee-956e-9da2d070324c  39.326184 -82.103181  \n",
       "...                                     ...        ...        ...  \n",
       "33269  ba6e1072-9524-11ee-956e-9da2d070324c  39.331453 -82.126043  \n",
       "33319  ba6e1072-9524-11ee-956e-9da2d070324c  39.331453 -82.126043  \n",
       "33369  ba6e1072-9524-11ee-956e-9da2d070324c  39.331453 -82.126043  \n",
       "33419  ba6e1072-9524-11ee-956e-9da2d070324c  39.331453 -82.126043  \n",
       "33469  ba6e1072-9524-11ee-956e-9da2d070324c  39.331453 -82.126043  \n",
       "\n",
       "[700 rows x 7 columns]"
      ]
     },
     "execution_count": 55,
     "metadata": {},
     "output_type": "execute_result"
    }
   ],
   "source": [
    "merged_df = merged_df.drop_duplicates()\n",
    "merged_df"
   ]
  },
  {
   "cell_type": "code",
   "execution_count": null,
   "id": "2189c9f5",
   "metadata": {},
   "outputs": [],
   "source": [
    "merged_notes_df = pd.merge(merged_df, df_meta, on=\"groupMetadataID\")"
   ]
  },
  {
   "cell_type": "markdown",
   "id": "56c7cd4d-5c68-471d-a473-a37fcbfeac6c",
   "metadata": {},
   "source": [
    "### Mapping\n"
   ]
  },
  {
   "cell_type": "code",
   "execution_count": null,
   "id": "5377f62e",
   "metadata": {},
   "outputs": [
    {
     "name": "stderr",
     "output_type": "stream",
     "text": [
      "/home/vhepola_linux/do-env/lib/python3.10/site-packages/plotly/express/_core.py:2065: FutureWarning:\n",
      "\n",
      "When grouping with a length-1 list-like, you will need to pass a length-1 tuple to get_group in a future version of pandas. Pass `(name,)` instead of `name` to silence this warning.\n",
      "\n"
     ]
    },
    {
     "data": {
      "application/vnd.plotly.v1+json": {
       "config": {
        "plotlyServerURL": "https://plot.ly"
       },
       "data": [
        {
         "customdata": [
          [
           "2023-05-31T13:55:02",
           "COMPLETE_AUTO_DRIVE",
           "NONE"
          ],
          [
           "2023-05-31T13:55:02",
           "COMPLETE_AUTO_DRIVE",
           "NONE"
          ],
          [
           "2023-05-31T13:55:03",
           "COMPLETE_AUTO_DRIVE",
           "NONE"
          ],
          [
           "2023-05-31T13:55:04",
           "COMPLETE_AUTO_DRIVE",
           "NONE"
          ],
          [
           "2023-05-31T13:55:05",
           "COMPLETE_AUTO_DRIVE",
           "NONE"
          ],
          [
           "2023-05-31T13:55:06",
           "COMPLETE_AUTO_DRIVE",
           "NONE"
          ],
          [
           "2023-05-31T13:55:07",
           "COMPLETE_AUTO_DRIVE",
           "NONE"
          ],
          [
           "2023-05-31T13:55:08",
           "COMPLETE_AUTO_DRIVE",
           "NONE"
          ],
          [
           "2023-05-31T13:55:09",
           "COMPLETE_AUTO_DRIVE",
           "NONE"
          ],
          [
           "2023-05-31T13:55:10",
           "COMPLETE_AUTO_DRIVE",
           "NONE"
          ],
          [
           "2023-05-31T13:55:11",
           "COMPLETE_AUTO_DRIVE",
           "NONE"
          ],
          [
           "2023-05-31T13:55:12",
           "COMPLETE_AUTO_DRIVE",
           "NONE"
          ],
          [
           "2023-05-31T13:55:13",
           "COMPLETE_AUTO_DRIVE",
           "NONE"
          ],
          [
           "2023-05-31T13:55:14",
           "COMPLETE_AUTO_DRIVE",
           "NONE"
          ],
          [
           "2023-05-31T13:55:15",
           "COMPLETE_AUTO_DRIVE",
           "NONE"
          ],
          [
           "2023-05-31T13:55:16",
           "COMPLETE_AUTO_DRIVE",
           "NONE"
          ],
          [
           "2023-05-31T13:55:17",
           "COMPLETE_AUTO_DRIVE",
           "NONE"
          ],
          [
           "2023-05-31T13:55:18",
           "COMPLETE_AUTO_DRIVE",
           "NONE"
          ],
          [
           "2023-05-31T13:55:19",
           "COMPLETE_AUTO_DRIVE",
           "NONE"
          ],
          [
           "2023-05-31T13:55:20",
           "COMPLETE_AUTO_DRIVE",
           "NONE"
          ],
          [
           "2023-05-31T13:55:21",
           "COMPLETE_AUTO_DRIVE",
           "NONE"
          ],
          [
           "2023-05-31T13:56:10",
           "COMPLETE_AUTO_DRIVE",
           "M->A"
          ],
          [
           "2023-05-31T13:56:10",
           "COMPLETE_AUTO_DRIVE",
           "NONE"
          ],
          [
           "2023-05-31T13:56:11",
           "COMPLETE_AUTO_DRIVE",
           "NONE"
          ],
          [
           "2023-05-31T13:56:12",
           "COMPLETE_AUTO_DRIVE",
           "NONE"
          ],
          [
           "2023-05-31T13:56:13",
           "COMPLETE_AUTO_DRIVE",
           "NONE"
          ],
          [
           "2023-05-31T13:56:14",
           "COMPLETE_AUTO_DRIVE",
           "NONE"
          ],
          [
           "2023-05-31T13:56:15",
           "COMPLETE_AUTO_DRIVE",
           "NONE"
          ],
          [
           "2023-05-31T13:56:16",
           "COMPLETE_AUTO_DRIVE",
           "NONE"
          ],
          [
           "2023-05-31T13:56:17",
           "COMPLETE_AUTO_DRIVE",
           "NONE"
          ],
          [
           "2023-05-31T13:56:18",
           "COMPLETE_AUTO_DRIVE",
           "NONE"
          ],
          [
           "2023-05-31T13:56:19",
           "COMPLETE_AUTO_DRIVE",
           "NONE"
          ],
          [
           "2023-05-31T13:56:20",
           "COMPLETE_AUTO_DRIVE",
           "NONE"
          ],
          [
           "2023-05-31T13:56:21",
           "COMPLETE_AUTO_DRIVE",
           "NONE"
          ],
          [
           "2023-05-31T13:56:22",
           "COMPLETE_AUTO_DRIVE",
           "NONE"
          ],
          [
           "2023-05-31T13:56:23",
           "COMPLETE_AUTO_DRIVE",
           "NONE"
          ],
          [
           "2023-05-31T13:56:24",
           "COMPLETE_AUTO_DRIVE",
           "NONE"
          ],
          [
           "2023-05-31T13:56:25",
           "COMPLETE_AUTO_DRIVE",
           "NONE"
          ],
          [
           "2023-05-31T13:56:26",
           "COMPLETE_AUTO_DRIVE",
           "NONE"
          ],
          [
           "2023-05-31T13:56:27",
           "COMPLETE_AUTO_DRIVE",
           "NONE"
          ],
          [
           "2023-05-31T13:56:28",
           "COMPLETE_AUTO_DRIVE",
           "NONE"
          ],
          [
           "2023-05-31T13:56:29",
           "COMPLETE_AUTO_DRIVE",
           "NONE"
          ],
          [
           "2023-05-31T13:56:30",
           "COMPLETE_AUTO_DRIVE",
           "NONE"
          ],
          [
           "2023-05-31T13:56:31",
           "COMPLETE_AUTO_DRIVE",
           "NONE"
          ],
          [
           "2023-05-31T13:56:32",
           "COMPLETE_AUTO_DRIVE",
           "NONE"
          ],
          [
           "2023-05-31T13:56:33",
           "COMPLETE_AUTO_DRIVE",
           "NONE"
          ],
          [
           "2023-05-31T13:56:34",
           "COMPLETE_AUTO_DRIVE",
           "NONE"
          ],
          [
           "2023-05-31T13:56:35",
           "COMPLETE_AUTO_DRIVE",
           "NONE"
          ],
          [
           "2023-05-31T13:56:36",
           "COMPLETE_AUTO_DRIVE",
           "NONE"
          ],
          [
           "2023-05-31T13:56:37",
           "COMPLETE_AUTO_DRIVE",
           "NONE"
          ],
          [
           "2023-05-31T13:56:38",
           "COMPLETE_AUTO_DRIVE",
           "NONE"
          ],
          [
           "2023-05-31T13:56:39",
           "COMPLETE_AUTO_DRIVE",
           "NONE"
          ],
          [
           "2023-05-31T13:56:40",
           "COMPLETE_AUTO_DRIVE",
           "NONE"
          ],
          [
           "2023-05-31T13:56:41",
           "COMPLETE_AUTO_DRIVE",
           "NONE"
          ],
          [
           "2023-05-31T13:56:42",
           "COMPLETE_AUTO_DRIVE",
           "NONE"
          ],
          [
           "2023-05-31T13:56:43",
           "COMPLETE_AUTO_DRIVE",
           "NONE"
          ],
          [
           "2023-05-31T13:56:44",
           "COMPLETE_AUTO_DRIVE",
           "NONE"
          ],
          [
           "2023-05-31T13:56:45",
           "COMPLETE_AUTO_DRIVE",
           "NONE"
          ],
          [
           "2023-05-31T13:56:46",
           "COMPLETE_AUTO_DRIVE",
           "NONE"
          ],
          [
           "2023-05-31T13:56:47",
           "COMPLETE_AUTO_DRIVE",
           "NONE"
          ],
          [
           "2023-05-31T13:56:48",
           "COMPLETE_AUTO_DRIVE",
           "NONE"
          ],
          [
           "2023-05-31T13:56:49",
           "COMPLETE_AUTO_DRIVE",
           "NONE"
          ],
          [
           "2023-05-31T13:56:50",
           "COMPLETE_AUTO_DRIVE",
           "NONE"
          ],
          [
           "2023-05-31T13:56:51",
           "COMPLETE_AUTO_DRIVE",
           "NONE"
          ],
          [
           "2023-05-31T13:56:52",
           "COMPLETE_AUTO_DRIVE",
           "NONE"
          ],
          [
           "2023-05-31T13:56:53",
           "COMPLETE_AUTO_DRIVE",
           "NONE"
          ],
          [
           "2023-05-31T13:56:54",
           "COMPLETE_AUTO_DRIVE",
           "NONE"
          ],
          [
           "2023-05-31T13:56:55",
           "COMPLETE_AUTO_DRIVE",
           "NONE"
          ],
          [
           "2023-05-31T13:56:56",
           "COMPLETE_AUTO_DRIVE",
           "NONE"
          ],
          [
           "2023-05-31T13:56:57",
           "COMPLETE_AUTO_DRIVE",
           "NONE"
          ],
          [
           "2023-05-31T13:56:58",
           "COMPLETE_AUTO_DRIVE",
           "NONE"
          ],
          [
           "2023-05-31T13:56:59",
           "COMPLETE_AUTO_DRIVE",
           "NONE"
          ],
          [
           "2023-05-31T13:57:00",
           "COMPLETE_AUTO_DRIVE",
           "NONE"
          ],
          [
           "2023-05-31T13:57:01",
           "COMPLETE_AUTO_DRIVE",
           "NONE"
          ],
          [
           "2023-05-31T13:57:02",
           "COMPLETE_AUTO_DRIVE",
           "NONE"
          ],
          [
           "2023-05-31T13:57:03",
           "COMPLETE_AUTO_DRIVE",
           "NONE"
          ],
          [
           "2023-05-31T13:57:04",
           "COMPLETE_AUTO_DRIVE",
           "NONE"
          ],
          [
           "2023-05-31T13:57:05",
           "COMPLETE_AUTO_DRIVE",
           "NONE"
          ],
          [
           "2023-05-31T13:57:06",
           "COMPLETE_AUTO_DRIVE",
           "NONE"
          ],
          [
           "2023-05-31T13:57:07",
           "COMPLETE_AUTO_DRIVE",
           "NONE"
          ],
          [
           "2023-05-31T13:57:08",
           "COMPLETE_AUTO_DRIVE",
           "NONE"
          ],
          [
           "2023-05-31T13:57:09",
           "COMPLETE_AUTO_DRIVE",
           "NONE"
          ],
          [
           "2023-05-31T13:57:10",
           "COMPLETE_AUTO_DRIVE",
           "NONE"
          ],
          [
           "2023-05-31T13:57:11",
           "COMPLETE_AUTO_DRIVE",
           "NONE"
          ],
          [
           "2023-05-31T13:57:12",
           "COMPLETE_AUTO_DRIVE",
           "NONE"
          ],
          [
           "2023-05-31T13:57:13",
           "COMPLETE_AUTO_DRIVE",
           "NONE"
          ],
          [
           "2023-05-31T13:57:14",
           "COMPLETE_AUTO_DRIVE",
           "NONE"
          ],
          [
           "2023-05-31T13:57:15",
           "COMPLETE_AUTO_DRIVE",
           "NONE"
          ],
          [
           "2023-05-31T13:57:16",
           "COMPLETE_AUTO_DRIVE",
           "NONE"
          ],
          [
           "2023-05-31T13:57:17",
           "COMPLETE_AUTO_DRIVE",
           "NONE"
          ],
          [
           "2023-05-31T13:57:18",
           "COMPLETE_AUTO_DRIVE",
           "NONE"
          ],
          [
           "2023-05-31T13:57:19",
           "COMPLETE_AUTO_DRIVE",
           "NONE"
          ],
          [
           "2023-05-31T13:57:20",
           "COMPLETE_AUTO_DRIVE",
           "NONE"
          ],
          [
           "2023-05-31T13:57:21",
           "COMPLETE_AUTO_DRIVE",
           "NONE"
          ],
          [
           "2023-05-31T13:57:22",
           "COMPLETE_AUTO_DRIVE",
           "NONE"
          ],
          [
           "2023-05-31T13:57:23",
           "COMPLETE_AUTO_DRIVE",
           "NONE"
          ],
          [
           "2023-05-31T13:57:24",
           "COMPLETE_AUTO_DRIVE",
           "NONE"
          ],
          [
           "2023-05-31T13:57:25",
           "COMPLETE_AUTO_DRIVE",
           "NONE"
          ],
          [
           "2023-05-31T13:57:26",
           "COMPLETE_AUTO_DRIVE",
           "NONE"
          ],
          [
           "2023-05-31T13:57:27",
           "COMPLETE_AUTO_DRIVE",
           "NONE"
          ],
          [
           "2023-05-31T13:57:28",
           "COMPLETE_AUTO_DRIVE",
           "NONE"
          ],
          [
           "2023-05-31T13:57:29",
           "COMPLETE_AUTO_DRIVE",
           "NONE"
          ],
          [
           "2023-05-31T13:57:30",
           "COMPLETE_AUTO_DRIVE",
           "NONE"
          ],
          [
           "2023-05-31T13:57:31",
           "COMPLETE_AUTO_DRIVE",
           "NONE"
          ],
          [
           "2023-05-31T13:57:32",
           "COMPLETE_AUTO_DRIVE",
           "NONE"
          ],
          [
           "2023-05-31T13:57:33",
           "COMPLETE_AUTO_DRIVE",
           "NONE"
          ],
          [
           "2023-05-31T13:57:34",
           "COMPLETE_AUTO_DRIVE",
           "NONE"
          ],
          [
           "2023-05-31T13:57:35",
           "COMPLETE_AUTO_DRIVE",
           "NONE"
          ],
          [
           "2023-05-31T13:57:36",
           "COMPLETE_AUTO_DRIVE",
           "NONE"
          ],
          [
           "2023-05-31T13:57:37",
           "COMPLETE_AUTO_DRIVE",
           "NONE"
          ],
          [
           "2023-05-31T13:57:38",
           "COMPLETE_AUTO_DRIVE",
           "NONE"
          ],
          [
           "2023-05-31T13:57:39",
           "COMPLETE_AUTO_DRIVE",
           "NONE"
          ],
          [
           "2023-05-31T13:57:40",
           "COMPLETE_AUTO_DRIVE",
           "NONE"
          ],
          [
           "2023-05-31T13:57:41",
           "COMPLETE_AUTO_DRIVE",
           "NONE"
          ],
          [
           "2023-05-31T13:57:42",
           "COMPLETE_AUTO_DRIVE",
           "NONE"
          ],
          [
           "2023-05-31T13:57:43",
           "COMPLETE_AUTO_DRIVE",
           "NONE"
          ],
          [
           "2023-05-31T13:57:44",
           "COMPLETE_AUTO_DRIVE",
           "NONE"
          ],
          [
           "2023-05-31T13:58:36",
           "COMPLETE_AUTO_DRIVE",
           "M->A"
          ],
          [
           "2023-05-31T13:58:36",
           "COMPLETE_AUTO_DRIVE",
           "NONE"
          ],
          [
           "2023-05-31T13:58:37",
           "COMPLETE_AUTO_DRIVE",
           "NONE"
          ],
          [
           "2023-05-31T13:58:38",
           "COMPLETE_AUTO_DRIVE",
           "NONE"
          ],
          [
           "2023-05-31T13:58:39",
           "COMPLETE_AUTO_DRIVE",
           "NONE"
          ],
          [
           "2023-05-31T13:58:40",
           "COMPLETE_AUTO_DRIVE",
           "NONE"
          ],
          [
           "2023-05-31T13:58:41",
           "COMPLETE_AUTO_DRIVE",
           "NONE"
          ],
          [
           "2023-05-31T13:58:42",
           "COMPLETE_AUTO_DRIVE",
           "NONE"
          ],
          [
           "2023-05-31T13:58:43",
           "COMPLETE_AUTO_DRIVE",
           "NONE"
          ],
          [
           "2023-05-31T13:58:44",
           "COMPLETE_AUTO_DRIVE",
           "NONE"
          ],
          [
           "2023-05-31T13:58:45",
           "COMPLETE_AUTO_DRIVE",
           "NONE"
          ],
          [
           "2023-05-31T13:58:46",
           "COMPLETE_AUTO_DRIVE",
           "NONE"
          ],
          [
           "2023-05-31T13:58:47",
           "COMPLETE_AUTO_DRIVE",
           "NONE"
          ],
          [
           "2023-05-31T13:58:48",
           "COMPLETE_AUTO_DRIVE",
           "NONE"
          ],
          [
           "2023-05-31T13:58:49",
           "COMPLETE_AUTO_DRIVE",
           "NONE"
          ],
          [
           "2023-05-31T13:58:50",
           "COMPLETE_AUTO_DRIVE",
           "NONE"
          ],
          [
           "2023-05-31T13:58:51",
           "COMPLETE_AUTO_DRIVE",
           "NONE"
          ],
          [
           "2023-05-31T13:58:52",
           "COMPLETE_AUTO_DRIVE",
           "NONE"
          ],
          [
           "2023-05-31T13:58:53",
           "COMPLETE_AUTO_DRIVE",
           "NONE"
          ],
          [
           "2023-05-31T13:58:54",
           "COMPLETE_AUTO_DRIVE",
           "NONE"
          ],
          [
           "2023-05-31T13:58:55",
           "COMPLETE_AUTO_DRIVE",
           "NONE"
          ],
          [
           "2023-05-31T13:58:56",
           "COMPLETE_AUTO_DRIVE",
           "NONE"
          ],
          [
           "2023-05-31T13:58:57",
           "COMPLETE_AUTO_DRIVE",
           "NONE"
          ],
          [
           "2023-05-31T13:58:58",
           "COMPLETE_AUTO_DRIVE",
           "NONE"
          ],
          [
           "2023-05-31T13:58:59",
           "COMPLETE_AUTO_DRIVE",
           "NONE"
          ],
          [
           "2023-05-31T13:59:00",
           "COMPLETE_AUTO_DRIVE",
           "NONE"
          ],
          [
           "2023-05-31T13:59:01",
           "COMPLETE_AUTO_DRIVE",
           "NONE"
          ],
          [
           "2023-05-31T13:59:02",
           "COMPLETE_AUTO_DRIVE",
           "NONE"
          ],
          [
           "2023-05-31T13:59:03",
           "COMPLETE_AUTO_DRIVE",
           "NONE"
          ],
          [
           "2023-05-31T13:59:04",
           "COMPLETE_AUTO_DRIVE",
           "NONE"
          ],
          [
           "2023-05-31T13:59:05",
           "COMPLETE_AUTO_DRIVE",
           "NONE"
          ],
          [
           "2023-05-31T13:59:06",
           "COMPLETE_AUTO_DRIVE",
           "NONE"
          ],
          [
           "2023-05-31T13:59:07",
           "COMPLETE_AUTO_DRIVE",
           "NONE"
          ],
          [
           "2023-05-31T13:59:08",
           "COMPLETE_AUTO_DRIVE",
           "NONE"
          ],
          [
           "2023-05-31T13:59:09",
           "COMPLETE_AUTO_DRIVE",
           "NONE"
          ],
          [
           "2023-05-31T13:59:10",
           "COMPLETE_AUTO_DRIVE",
           "NONE"
          ],
          [
           "2023-05-31T13:59:18",
           "COMPLETE_AUTO_DRIVE",
           "M->A"
          ],
          [
           "2023-05-31T13:59:18",
           "COMPLETE_AUTO_DRIVE",
           "NONE"
          ],
          [
           "2023-05-31T13:59:19",
           "COMPLETE_AUTO_DRIVE",
           "NONE"
          ],
          [
           "2023-05-31T13:59:20",
           "COMPLETE_AUTO_DRIVE",
           "NONE"
          ],
          [
           "2023-05-31T13:59:21",
           "COMPLETE_AUTO_DRIVE",
           "NONE"
          ],
          [
           "2023-05-31T13:59:38",
           "COMPLETE_AUTO_DRIVE",
           "M->A"
          ],
          [
           "2023-05-31T13:59:38",
           "COMPLETE_AUTO_DRIVE",
           "NONE"
          ],
          [
           "2023-05-31T13:59:39",
           "COMPLETE_AUTO_DRIVE",
           "NONE"
          ],
          [
           "2023-05-31T13:59:40",
           "COMPLETE_AUTO_DRIVE",
           "NONE"
          ],
          [
           "2023-05-31T13:59:41",
           "COMPLETE_AUTO_DRIVE",
           "NONE"
          ],
          [
           "2023-05-31T13:59:42",
           "COMPLETE_AUTO_DRIVE",
           "NONE"
          ],
          [
           "2023-05-31T13:59:43",
           "COMPLETE_AUTO_DRIVE",
           "NONE"
          ],
          [
           "2023-05-31T13:59:44",
           "COMPLETE_AUTO_DRIVE",
           "NONE"
          ],
          [
           "2023-05-31T13:59:45",
           "COMPLETE_AUTO_DRIVE",
           "NONE"
          ],
          [
           "2023-05-31T13:59:46",
           "COMPLETE_AUTO_DRIVE",
           "NONE"
          ],
          [
           "2023-05-31T13:59:47",
           "COMPLETE_AUTO_DRIVE",
           "NONE"
          ],
          [
           "2023-05-31T13:59:48",
           "COMPLETE_AUTO_DRIVE",
           "NONE"
          ],
          [
           "2023-05-31T13:59:49",
           "COMPLETE_AUTO_DRIVE",
           "NONE"
          ],
          [
           "2023-05-31T13:59:50",
           "COMPLETE_AUTO_DRIVE",
           "NONE"
          ],
          [
           "2023-05-31T13:59:51",
           "COMPLETE_AUTO_DRIVE",
           "NONE"
          ],
          [
           "2023-05-31T13:59:52",
           "COMPLETE_AUTO_DRIVE",
           "NONE"
          ],
          [
           "2023-05-31T13:59:59",
           "COMPLETE_AUTO_DRIVE",
           "M->A"
          ],
          [
           "2023-05-31T13:59:59",
           "COMPLETE_AUTO_DRIVE",
           "NONE"
          ],
          [
           "2023-05-31T14:00:00",
           "COMPLETE_AUTO_DRIVE",
           "NONE"
          ],
          [
           "2023-05-31T14:00:01",
           "COMPLETE_AUTO_DRIVE",
           "NONE"
          ],
          [
           "2023-05-31T14:00:02",
           "COMPLETE_AUTO_DRIVE",
           "NONE"
          ],
          [
           "2023-05-31T14:00:03",
           "COMPLETE_AUTO_DRIVE",
           "NONE"
          ],
          [
           "2023-05-31T14:00:04",
           "COMPLETE_AUTO_DRIVE",
           "NONE"
          ],
          [
           "2023-05-31T14:00:05",
           "COMPLETE_AUTO_DRIVE",
           "NONE"
          ],
          [
           "2023-05-31T14:00:06",
           "COMPLETE_AUTO_DRIVE",
           "NONE"
          ],
          [
           "2023-05-31T14:00:07",
           "COMPLETE_AUTO_DRIVE",
           "NONE"
          ],
          [
           "2023-05-31T14:00:08",
           "COMPLETE_AUTO_DRIVE",
           "NONE"
          ],
          [
           "2023-05-31T14:00:09",
           "COMPLETE_AUTO_DRIVE",
           "NONE"
          ],
          [
           "2023-05-31T14:00:10",
           "COMPLETE_AUTO_DRIVE",
           "NONE"
          ],
          [
           "2023-05-31T14:00:11",
           "COMPLETE_AUTO_DRIVE",
           "NONE"
          ],
          [
           "2023-05-31T14:00:12",
           "COMPLETE_AUTO_DRIVE",
           "NONE"
          ],
          [
           "2023-05-31T14:00:13",
           "COMPLETE_AUTO_DRIVE",
           "NONE"
          ],
          [
           "2023-05-31T14:00:14",
           "COMPLETE_AUTO_DRIVE",
           "NONE"
          ],
          [
           "2023-05-31T14:00:15",
           "COMPLETE_AUTO_DRIVE",
           "NONE"
          ],
          [
           "2023-05-31T14:00:16",
           "COMPLETE_AUTO_DRIVE",
           "NONE"
          ],
          [
           "2023-05-31T14:00:17",
           "COMPLETE_AUTO_DRIVE",
           "NONE"
          ],
          [
           "2023-05-31T14:00:18",
           "COMPLETE_AUTO_DRIVE",
           "NONE"
          ],
          [
           "2023-05-31T14:00:19",
           "COMPLETE_AUTO_DRIVE",
           "NONE"
          ],
          [
           "2023-05-31T14:00:20",
           "COMPLETE_AUTO_DRIVE",
           "NONE"
          ],
          [
           "2023-05-31T14:00:21",
           "COMPLETE_AUTO_DRIVE",
           "NONE"
          ],
          [
           "2023-05-31T14:00:22",
           "COMPLETE_AUTO_DRIVE",
           "NONE"
          ],
          [
           "2023-05-31T14:00:23",
           "COMPLETE_AUTO_DRIVE",
           "NONE"
          ],
          [
           "2023-05-31T14:00:24",
           "COMPLETE_AUTO_DRIVE",
           "NONE"
          ],
          [
           "2023-05-31T14:00:25",
           "COMPLETE_AUTO_DRIVE",
           "NONE"
          ],
          [
           "2023-05-31T14:00:26",
           "COMPLETE_AUTO_DRIVE",
           "NONE"
          ],
          [
           "2023-05-31T14:00:27",
           "COMPLETE_AUTO_DRIVE",
           "NONE"
          ],
          [
           "2023-05-31T14:00:28",
           "COMPLETE_AUTO_DRIVE",
           "NONE"
          ],
          [
           "2023-05-31T14:00:29",
           "COMPLETE_AUTO_DRIVE",
           "NONE"
          ],
          [
           "2023-05-31T14:00:30",
           "COMPLETE_AUTO_DRIVE",
           "NONE"
          ],
          [
           "2023-05-31T14:00:31",
           "COMPLETE_AUTO_DRIVE",
           "NONE"
          ],
          [
           "2023-05-31T14:00:32",
           "COMPLETE_AUTO_DRIVE",
           "NONE"
          ],
          [
           "2023-05-31T14:00:33",
           "COMPLETE_AUTO_DRIVE",
           "NONE"
          ],
          [
           "2023-05-31T14:00:34",
           "COMPLETE_AUTO_DRIVE",
           "NONE"
          ],
          [
           "2023-05-31T14:00:35",
           "COMPLETE_AUTO_DRIVE",
           "NONE"
          ],
          [
           "2023-05-31T14:00:36",
           "COMPLETE_AUTO_DRIVE",
           "NONE"
          ],
          [
           "2023-05-31T14:00:37",
           "COMPLETE_AUTO_DRIVE",
           "NONE"
          ],
          [
           "2023-05-31T14:00:38",
           "COMPLETE_AUTO_DRIVE",
           "NONE"
          ],
          [
           "2023-05-31T14:00:39",
           "COMPLETE_AUTO_DRIVE",
           "NONE"
          ],
          [
           "2023-05-31T14:00:40",
           "COMPLETE_AUTO_DRIVE",
           "NONE"
          ],
          [
           "2023-05-31T14:00:41",
           "COMPLETE_AUTO_DRIVE",
           "NONE"
          ],
          [
           "2023-05-31T14:00:42",
           "COMPLETE_AUTO_DRIVE",
           "NONE"
          ],
          [
           "2023-05-31T14:00:43",
           "COMPLETE_AUTO_DRIVE",
           "NONE"
          ],
          [
           "2023-05-31T14:00:44",
           "COMPLETE_AUTO_DRIVE",
           "NONE"
          ],
          [
           "2023-05-31T14:00:45",
           "COMPLETE_AUTO_DRIVE",
           "NONE"
          ],
          [
           "2023-05-31T14:00:46",
           "COMPLETE_AUTO_DRIVE",
           "NONE"
          ],
          [
           "2023-05-31T14:00:47",
           "COMPLETE_AUTO_DRIVE",
           "NONE"
          ],
          [
           "2023-05-31T14:00:48",
           "COMPLETE_AUTO_DRIVE",
           "NONE"
          ],
          [
           "2023-05-31T14:00:49",
           "COMPLETE_AUTO_DRIVE",
           "NONE"
          ],
          [
           "2023-05-31T14:00:50",
           "COMPLETE_AUTO_DRIVE",
           "NONE"
          ],
          [
           "2023-05-31T14:00:51",
           "COMPLETE_AUTO_DRIVE",
           "NONE"
          ],
          [
           "2023-05-31T14:00:52",
           "COMPLETE_AUTO_DRIVE",
           "NONE"
          ],
          [
           "2023-05-31T14:00:53",
           "COMPLETE_AUTO_DRIVE",
           "NONE"
          ],
          [
           "2023-05-31T14:00:54",
           "COMPLETE_AUTO_DRIVE",
           "NONE"
          ],
          [
           "2023-05-31T14:00:55",
           "COMPLETE_AUTO_DRIVE",
           "NONE"
          ],
          [
           "2023-05-31T14:00:56",
           "COMPLETE_AUTO_DRIVE",
           "NONE"
          ],
          [
           "2023-05-31T14:00:57",
           "COMPLETE_AUTO_DRIVE",
           "NONE"
          ],
          [
           "2023-05-31T14:00:58",
           "COMPLETE_AUTO_DRIVE",
           "NONE"
          ],
          [
           "2023-05-31T14:00:59",
           "COMPLETE_AUTO_DRIVE",
           "NONE"
          ],
          [
           "2023-05-31T14:01:00",
           "COMPLETE_AUTO_DRIVE",
           "NONE"
          ],
          [
           "2023-05-31T14:01:01",
           "COMPLETE_AUTO_DRIVE",
           "NONE"
          ],
          [
           "2023-05-31T14:01:02",
           "COMPLETE_AUTO_DRIVE",
           "NONE"
          ],
          [
           "2023-05-31T14:01:03",
           "COMPLETE_AUTO_DRIVE",
           "NONE"
          ],
          [
           "2023-05-31T14:01:04",
           "COMPLETE_AUTO_DRIVE",
           "NONE"
          ],
          [
           "2023-05-31T14:01:05",
           "COMPLETE_AUTO_DRIVE",
           "NONE"
          ],
          [
           "2023-05-31T14:01:06",
           "COMPLETE_AUTO_DRIVE",
           "NONE"
          ],
          [
           "2023-05-31T14:01:07",
           "COMPLETE_AUTO_DRIVE",
           "NONE"
          ],
          [
           "2023-05-31T14:01:08",
           "COMPLETE_AUTO_DRIVE",
           "NONE"
          ],
          [
           "2023-05-31T14:01:09",
           "COMPLETE_AUTO_DRIVE",
           "NONE"
          ],
          [
           "2023-05-31T14:01:10",
           "COMPLETE_AUTO_DRIVE",
           "NONE"
          ],
          [
           "2023-05-31T14:01:11",
           "COMPLETE_AUTO_DRIVE",
           "NONE"
          ],
          [
           "2023-05-31T14:01:12",
           "COMPLETE_AUTO_DRIVE",
           "NONE"
          ],
          [
           "2023-05-31T14:01:13",
           "COMPLETE_AUTO_DRIVE",
           "NONE"
          ],
          [
           "2023-05-31T14:01:14",
           "COMPLETE_AUTO_DRIVE",
           "NONE"
          ],
          [
           "2023-05-31T14:01:15",
           "COMPLETE_AUTO_DRIVE",
           "NONE"
          ],
          [
           "2023-05-31T14:01:16",
           "COMPLETE_AUTO_DRIVE",
           "NONE"
          ],
          [
           "2023-05-31T14:01:17",
           "COMPLETE_AUTO_DRIVE",
           "NONE"
          ],
          [
           "2023-05-31T14:01:18",
           "COMPLETE_AUTO_DRIVE",
           "NONE"
          ],
          [
           "2023-05-31T14:01:19",
           "COMPLETE_AUTO_DRIVE",
           "NONE"
          ],
          [
           "2023-05-31T14:01:20",
           "COMPLETE_AUTO_DRIVE",
           "NONE"
          ],
          [
           "2023-05-31T14:01:21",
           "COMPLETE_AUTO_DRIVE",
           "NONE"
          ],
          [
           "2023-05-31T14:01:22",
           "COMPLETE_AUTO_DRIVE",
           "NONE"
          ],
          [
           "2023-05-31T14:01:23",
           "COMPLETE_AUTO_DRIVE",
           "NONE"
          ],
          [
           "2023-05-31T14:01:24",
           "COMPLETE_AUTO_DRIVE",
           "NONE"
          ],
          [
           "2023-05-31T14:01:25",
           "COMPLETE_AUTO_DRIVE",
           "NONE"
          ],
          [
           "2023-05-31T14:01:26",
           "COMPLETE_AUTO_DRIVE",
           "NONE"
          ],
          [
           "2023-05-31T14:01:27",
           "COMPLETE_AUTO_DRIVE",
           "NONE"
          ],
          [
           "2023-05-31T14:01:28",
           "COMPLETE_AUTO_DRIVE",
           "NONE"
          ],
          [
           "2023-05-31T14:01:29",
           "COMPLETE_AUTO_DRIVE",
           "NONE"
          ],
          [
           "2023-05-31T14:01:30",
           "COMPLETE_AUTO_DRIVE",
           "NONE"
          ],
          [
           "2023-05-31T14:01:31",
           "COMPLETE_AUTO_DRIVE",
           "NONE"
          ],
          [
           "2023-05-31T14:01:32",
           "COMPLETE_AUTO_DRIVE",
           "NONE"
          ],
          [
           "2023-05-31T14:01:33",
           "COMPLETE_AUTO_DRIVE",
           "NONE"
          ],
          [
           "2023-05-31T14:01:34",
           "COMPLETE_AUTO_DRIVE",
           "NONE"
          ],
          [
           "2023-05-31T14:01:35",
           "COMPLETE_AUTO_DRIVE",
           "NONE"
          ],
          [
           "2023-05-31T14:01:36",
           "COMPLETE_AUTO_DRIVE",
           "NONE"
          ],
          [
           "2023-05-31T14:01:37",
           "COMPLETE_AUTO_DRIVE",
           "NONE"
          ],
          [
           "2023-05-31T14:01:38",
           "COMPLETE_AUTO_DRIVE",
           "NONE"
          ],
          [
           "2023-05-31T14:01:39",
           "COMPLETE_AUTO_DRIVE",
           "NONE"
          ],
          [
           "2023-05-31T14:01:40",
           "COMPLETE_AUTO_DRIVE",
           "NONE"
          ],
          [
           "2023-05-31T14:01:41",
           "COMPLETE_AUTO_DRIVE",
           "NONE"
          ],
          [
           "2023-05-31T14:01:42",
           "COMPLETE_AUTO_DRIVE",
           "NONE"
          ],
          [
           "2023-05-31T14:01:43",
           "COMPLETE_AUTO_DRIVE",
           "NONE"
          ],
          [
           "2023-05-31T14:01:44",
           "COMPLETE_AUTO_DRIVE",
           "NONE"
          ],
          [
           "2023-05-31T14:01:45",
           "COMPLETE_AUTO_DRIVE",
           "NONE"
          ],
          [
           "2023-05-31T14:01:46",
           "COMPLETE_AUTO_DRIVE",
           "NONE"
          ],
          [
           "2023-05-31T14:01:47",
           "COMPLETE_AUTO_DRIVE",
           "NONE"
          ],
          [
           "2023-05-31T14:01:48",
           "COMPLETE_AUTO_DRIVE",
           "NONE"
          ],
          [
           "2023-05-31T14:01:49",
           "COMPLETE_AUTO_DRIVE",
           "NONE"
          ],
          [
           "2023-05-31T14:01:50",
           "COMPLETE_AUTO_DRIVE",
           "NONE"
          ],
          [
           "2023-05-31T14:01:51",
           "COMPLETE_AUTO_DRIVE",
           "NONE"
          ],
          [
           "2023-05-31T14:01:52",
           "COMPLETE_AUTO_DRIVE",
           "NONE"
          ],
          [
           "2023-05-31T14:01:53",
           "COMPLETE_AUTO_DRIVE",
           "NONE"
          ],
          [
           "2023-05-31T14:01:54",
           "COMPLETE_AUTO_DRIVE",
           "NONE"
          ],
          [
           "2023-05-31T14:01:55",
           "COMPLETE_AUTO_DRIVE",
           "NONE"
          ],
          [
           "2023-05-31T14:01:56",
           "COMPLETE_AUTO_DRIVE",
           "NONE"
          ],
          [
           "2023-05-31T14:01:57",
           "COMPLETE_AUTO_DRIVE",
           "NONE"
          ],
          [
           "2023-05-31T14:01:58",
           "COMPLETE_AUTO_DRIVE",
           "NONE"
          ],
          [
           "2023-05-31T14:01:59",
           "COMPLETE_AUTO_DRIVE",
           "NONE"
          ],
          [
           "2023-05-31T14:02:00",
           "COMPLETE_AUTO_DRIVE",
           "NONE"
          ],
          [
           "2023-05-31T14:02:01",
           "COMPLETE_AUTO_DRIVE",
           "NONE"
          ],
          [
           "2023-05-31T14:02:02",
           "COMPLETE_AUTO_DRIVE",
           "NONE"
          ],
          [
           "2023-05-31T14:02:03",
           "COMPLETE_AUTO_DRIVE",
           "NONE"
          ],
          [
           "2023-05-31T14:02:04",
           "COMPLETE_AUTO_DRIVE",
           "NONE"
          ],
          [
           "2023-05-31T14:02:05",
           "COMPLETE_AUTO_DRIVE",
           "NONE"
          ],
          [
           "2023-05-31T14:02:06",
           "COMPLETE_AUTO_DRIVE",
           "NONE"
          ],
          [
           "2023-05-31T14:02:07",
           "COMPLETE_AUTO_DRIVE",
           "NONE"
          ],
          [
           "2023-05-31T14:02:08",
           "COMPLETE_AUTO_DRIVE",
           "NONE"
          ],
          [
           "2023-05-31T14:02:09",
           "COMPLETE_AUTO_DRIVE",
           "NONE"
          ],
          [
           "2023-05-31T14:02:10",
           "COMPLETE_AUTO_DRIVE",
           "NONE"
          ],
          [
           "2023-05-31T14:02:11",
           "COMPLETE_AUTO_DRIVE",
           "NONE"
          ],
          [
           "2023-05-31T14:02:12",
           "COMPLETE_AUTO_DRIVE",
           "NONE"
          ],
          [
           "2023-05-31T14:02:13",
           "COMPLETE_AUTO_DRIVE",
           "NONE"
          ],
          [
           "2023-05-31T14:02:14",
           "COMPLETE_AUTO_DRIVE",
           "NONE"
          ],
          [
           "2023-05-31T14:02:15",
           "COMPLETE_AUTO_DRIVE",
           "NONE"
          ],
          [
           "2023-05-31T14:02:16",
           "COMPLETE_AUTO_DRIVE",
           "NONE"
          ]
         ],
         "hovertemplate": "drivingMode=%{customdata[1]}<br>latitude=%{lat}<br>longitude=%{lon}<br>time=%{customdata[0]}<br>transitionType=%{customdata[2]}<extra></extra>",
         "lat": [
          39.32593720656179,
          39.32593720656179,
          39.32602361744373,
          39.326105884725486,
          39.32618427092564,
          39.32625918026336,
          39.32633082209517,
          39.32639893873687,
          39.32646237982707,
          39.32652150944789,
          39.32657583091168,
          39.32662310315624,
          39.32666037956256,
          39.32668506038642,
          39.32669603196225,
          39.32669732402528,
          39.32669218976943,
          39.3266856493229,
          39.32667874091216,
          39.32667258806119,
          39.326667044710376,
          39.326802898207646,
          39.326802898207646,
          39.32683015107072,
          39.32685587440667,
          39.3268890188584,
          39.32693782392856,
          39.32699339093154,
          39.327045848346806,
          39.327094512304,
          39.32713818734122,
          39.327177331117454,
          39.32721159962169,
          39.32724071594349,
          39.32726589950362,
          39.32728734438055,
          39.32730551654023,
          39.32732035770565,
          39.3273291899412,
          39.32733252954194,
          39.327335329437766,
          39.32733905015501,
          39.32734226917973,
          39.327345135090304,
          39.32734925356984,
          39.32735490088959,
          39.327360814531495,
          39.32736139023627,
          39.32736130845206,
          39.3273612841731,
          39.32736130063413,
          39.32736129513823,
          39.32736125090654,
          39.32736126772499,
          39.32736125779015,
          39.32736124361181,
          39.32736126736969,
          39.32736126865795,
          39.32736126250949,
          39.327361242686464,
          39.32736127200399,
          39.327361274669045,
          39.32736127317237,
          39.3273612891492,
          39.32736123730385,
          39.32736129077955,
          39.327361256294616,
          39.32736124567572,
          39.3273612641663,
          39.32736124825673,
          39.327361228385165,
          39.327361244796535,
          39.32736119619364,
          39.32736123398266,
          39.32736123179264,
          39.32736124302252,
          39.32736127097478,
          39.32736124854765,
          39.3273615301585,
          39.327366714185125,
          39.32737890849003,
          39.32740778493715,
          39.3274491327774,
          39.327504707443474,
          39.32757287511036,
          39.32765004282581,
          39.32773517416747,
          39.32782660622564,
          39.3279218720889,
          39.32801834286429,
          39.32811504777814,
          39.32821184338573,
          39.32830691758503,
          39.328397409797375,
          39.32848221447321,
          39.32855949564949,
          39.32862894741372,
          39.32869017797259,
          39.32874492947739,
          39.32879473788146,
          39.32884017956874,
          39.32888429846894,
          39.328927022516304,
          39.32896530847435,
          39.32900010725261,
          39.32903424127054,
          39.3290649977308,
          39.32909722481398,
          39.32913061478688,
          39.3291633205268,
          39.329191288243045,
          39.329208174191976,
          39.32921846220287,
          39.329223653322565,
          39.32922710415026,
          39.32923066904708,
          39.3292345009702,
          39.32904608635014,
          39.32904608635014,
          39.32899936522602,
          39.32894501979666,
          39.32887865228104,
          39.3288025451347,
          39.32871803900073,
          39.32862726830841,
          39.32853470001234,
          39.32844285804118,
          39.32835554327703,
          39.328274128251024,
          39.32819954513165,
          39.32812947578478,
          39.32806798464602,
          39.32801456234535,
          39.32796912040811,
          39.32793053817903,
          39.327897735787374,
          39.327869772166,
          39.32784617526394,
          39.32782757128406,
          39.32781216971825,
          39.327800916082325,
          39.32779397744724,
          39.32779081780788,
          39.32778789609012,
          39.327785644499215,
          39.327785693021255,
          39.3277856662639,
          39.32778567260257,
          39.32778566927372,
          39.32778559493625,
          39.327785626280175,
          39.32778557833902,
          39.32778552797575,
          39.3276348639682,
          39.3276348639682,
          39.32763531681376,
          39.3276358932569,
          39.32763605738705,
          39.32811184895207,
          39.32811184895207,
          39.32815000837129,
          39.32819596289886,
          39.32825105921484,
          39.32831281879155,
          39.328379751235246,
          39.32844878720111,
          39.32851892979363,
          39.328589506168925,
          39.32866100096839,
          39.32873297396496,
          39.32880491217192,
          39.328875804643125,
          39.32894624097886,
          39.32901525260304,
          39.32927801620352,
          39.32927801620352,
          39.329284692477785,
          39.329291366237705,
          39.32929736877062,
          39.32930401660445,
          39.32931065597616,
          39.3293169644423,
          39.32932271022222,
          39.3293282192666,
          39.32933357030785,
          39.32933855152742,
          39.32934326045795,
          39.32934767700472,
          39.329351671534056,
          39.32935546665434,
          39.32935874898723,
          39.32936164952861,
          39.32936400465732,
          39.32936590145719,
          39.3293675113334,
          39.32936889947209,
          39.32937015234169,
          39.329371070095206,
          39.32937224454084,
          39.32937327049479,
          39.32937436720348,
          39.32937546426568,
          39.32937638988395,
          39.32937724839498,
          39.32937792113333,
          39.32937795270134,
          39.32937798065313,
          39.32937798750244,
          39.32937843624826,
          39.329381802681645,
          39.32938698041341,
          39.329395984684,
          39.32940919292255,
          39.32942767082845,
          39.329449312433056,
          39.32946796863986,
          39.32947693532341,
          39.32947110664352,
          39.32945387414604,
          39.32943439590862,
          39.32942726366689,
          39.3294306312447,
          39.32943695183352,
          39.32944336581544,
          39.32944974285736,
          39.32945617218804,
          39.32946296619896,
          39.32947030828015,
          39.32947824800771,
          39.32948610005306,
          39.32949332378396,
          39.32950073471967,
          39.32950842682676,
          39.3295159425858,
          39.32952373606715,
          39.32953190126924,
          39.32954037987042,
          39.32954899392372,
          39.329556915897854,
          39.329564641463946,
          39.32957270550103,
          39.329579570680366,
          39.32958597586432,
          39.32959234057478,
          39.329596890786334,
          39.32960067433604,
          39.32960374243874,
          39.32960635950206,
          39.32960831390488,
          39.32960957638476,
          39.329609586617,
          39.329609642099314,
          39.32960959769553,
          39.32960977245722,
          39.32961041892838,
          39.32961120293228,
          39.32961207201421,
          39.32961275375941,
          39.32961348127693,
          39.32961403956983,
          39.3296145208208,
          39.32961545741544,
          39.3296175888514,
          39.32962101642188,
          39.32962490543904,
          39.32962973745888,
          39.3296367387421,
          39.32964369123197,
          39.32965141799976,
          39.329659910131824,
          39.32967037324997,
          39.32968046789121,
          39.32969177876844,
          39.32970270744953,
          39.32971361142183,
          39.32972430069326,
          39.32973474205818,
          39.329744831880106,
          39.3297556886147,
          39.329766242191006,
          39.32977630079763,
          39.329786254475486,
          39.32979806466689,
          39.32980893814543,
          39.32981844905833,
          39.32982837743166,
          39.32983897769857,
          39.32984916570854,
          39.32985988103219,
          39.329870324797575,
          39.32988009249795,
          39.32989024662118,
          39.32989954412879,
          39.32990829475913,
          39.32991814708478,
          39.32992818337493,
          39.32993860090877,
          39.3299489243084,
          39.32995819846716,
          39.32996726357611,
          39.32997639763142,
          39.32998561907531,
          39.32999475006534,
          39.3300034279504,
          39.33001234729488,
          39.330020962328895,
          39.33002855075276,
          39.330035634935726,
          39.330041640180646,
          39.3300496795156,
          39.33006137728261,
          39.33007754469958,
          39.33009682929179
         ],
         "legendgroup": "COMPLETE_AUTO_DRIVE",
         "lon": [
          -82.10331328425825,
          -82.10331328425825,
          -82.10326646772735,
          -82.10322199289887,
          -82.10318055027729,
          -82.10314167783072,
          -82.10310496309882,
          -82.10306945469542,
          -82.10303391616013,
          -82.10299676502483,
          -82.10295574036166,
          -82.10290843017962,
          -82.10285240556681,
          -82.10278513192608,
          -82.1027094413598,
          -82.10262284428121,
          -82.10252984221658,
          -82.10243267285134,
          -82.10233447270019,
          -82.10224237697798,
          -82.10215317568012,
          -82.10142271335198,
          -82.10142271335198,
          -82.10142000652581,
          -82.10141784678592,
          -82.1014152163093,
          -82.10141142827074,
          -82.10140729006352,
          -82.10140307770607,
          -82.101399367573,
          -82.10139540065508,
          -82.10139183117866,
          -82.10138793751265,
          -82.10138483165603,
          -82.10138209804614,
          -82.10137976643762,
          -82.1013779014382,
          -82.10137639872768,
          -82.1013757994028,
          -82.10137561579795,
          -82.10137543689625,
          -82.10137511830492,
          -82.10137451838466,
          -82.10137427129861,
          -82.10137395087484,
          -82.1013735722541,
          -82.10137316820564,
          -82.10137314155565,
          -82.1013731015019,
          -82.10137308733239,
          -82.10137305198215,
          -82.10137314908704,
          -82.10137318928203,
          -82.10137313068228,
          -82.10137312906915,
          -82.10137312324943,
          -82.10137313231381,
          -82.10137311592095,
          -82.10137317228902,
          -82.10137307429584,
          -82.10137308410754,
          -82.10137314195416,
          -82.10137319381087,
          -82.10137315101792,
          -82.1013730884127,
          -82.10137312236633,
          -82.10137314193022,
          -82.10137306767108,
          -82.10137314326828,
          -82.10137316691655,
          -82.10137313398002,
          -82.10137317290501,
          -82.1013730632148,
          -82.10137313545998,
          -82.10137317259091,
          -82.10137319280301,
          -82.10137321607398,
          -82.10137319494108,
          -82.10137320895635,
          -82.10137274083587,
          -82.10137160643177,
          -82.10136932848633,
          -82.10136575299119,
          -82.10136106539595,
          -82.10135591958554,
          -82.10134959978399,
          -82.10134323979732,
          -82.10133558641286,
          -82.10132837395986,
          -82.10132090087066,
          -82.1013128009111,
          -82.10130386245045,
          -82.10129500479239,
          -82.101286234054,
          -82.10127797770829,
          -82.10127118695723,
          -82.10126750472263,
          -82.10126741074028,
          -82.10126929020798,
          -82.10127056531316,
          -82.10127090079155,
          -82.1012695205912,
          -82.1012662278517,
          -82.10126261302199,
          -82.10125896582653,
          -82.10125582789888,
          -82.1012536048535,
          -82.10125306828587,
          -82.10125677328429,
          -82.10126944856742,
          -82.10129618773693,
          -82.10133584709196,
          -82.10139256468564,
          -82.10146197520764,
          -82.1015378583139,
          -82.10161756826213,
          -82.10169730840471,
          -82.10261972861413,
          -82.10261972861413,
          -82.10262426194386,
          -82.10262906072258,
          -82.10263486229475,
          -82.10264207288638,
          -82.10265054095426,
          -82.10265922748329,
          -82.10266905752655,
          -82.10267721084305,
          -82.10268634508117,
          -82.10269544751048,
          -82.1027036633237,
          -82.1027104321641,
          -82.10271617482613,
          -82.10272090071581,
          -82.1027249534824,
          -82.10272769552165,
          -82.10272960160519,
          -82.10273153180447,
          -82.10273301233413,
          -82.1027351867423,
          -82.102736491745,
          -82.10273795161513,
          -82.10273838855473,
          -82.10273904121362,
          -82.10273936954526,
          -82.10273983629057,
          -82.10273977869686,
          -82.10273979002531,
          -82.10273981542255,
          -82.10273982083207,
          -82.1027397674639,
          -82.10273978808975,
          -82.10273942988262,
          -82.10273936550703,
          -82.10296913641434,
          -82.10296913641434,
          -82.10301281168579,
          -82.1030379646427,
          -82.10304269950775,
          -82.10397135977182,
          -82.10397135977182,
          -82.1040160147989,
          -82.104070219772,
          -82.10413457981494,
          -82.10420709731794,
          -82.10428563988079,
          -82.10436604850477,
          -82.10444746377264,
          -82.10453014249893,
          -82.104613615495,
          -82.1046979947582,
          -82.10478260402498,
          -82.10486572978819,
          -82.10494601500137,
          -82.10502401216482,
          -82.10565560680922,
          -82.10565560680922,
          -82.10575360927571,
          -82.10585322784011,
          -82.1059607027454,
          -82.10607322591953,
          -82.10618579254512,
          -82.10629366841911,
          -82.1063940620868,
          -82.10648546832792,
          -82.10656723704223,
          -82.10663932631293,
          -82.10670191536653,
          -82.10675568183774,
          -82.10680132790186,
          -82.1068393125905,
          -82.10687063435824,
          -82.1068960262647,
          -82.10691649965132,
          -82.10693293013932,
          -82.10694652282905,
          -82.106957830508,
          -82.10696721603468,
          -82.10697547391909,
          -82.10698325499719,
          -82.10699100581843,
          -82.10699851916384,
          -82.1070053855413,
          -82.10701110915002,
          -82.10701600845469,
          -82.1070200189544,
          -82.10702011535432,
          -82.10702008506135,
          -82.10702012386689,
          -82.1070228319565,
          -82.10703812830879,
          -82.10705774945896,
          -82.10708655737436,
          -82.10712180050122,
          -82.10716105645635,
          -82.10720291353954,
          -82.10724824884548,
          -82.10729895674235,
          -82.10735355293174,
          -82.1074135687739,
          -82.10748534525756,
          -82.10757094142637,
          -82.10766686257693,
          -82.10777173501863,
          -82.10788462180463,
          -82.10800326204877,
          -82.10812469250912,
          -82.10824737389434,
          -82.10837003674169,
          -82.10849327617541,
          -82.10861767388091,
          -82.10874319671488,
          -82.10886987281705,
          -82.10899720022829,
          -82.10912424514822,
          -82.10925069366026,
          -82.1093763606696,
          -82.10950176258471,
          -82.10962439197893,
          -82.10974265138789,
          -82.10985328929553,
          -82.10995542115376,
          -82.11004620984944,
          -82.11012561712822,
          -82.11019405671776,
          -82.110253070919,
          -82.11030304808371,
          -82.11034464383474,
          -82.1103786065605,
          -82.1104067284553,
          -82.11042365845712,
          -82.11042394129757,
          -82.11042386709582,
          -82.1104240353012,
          -82.11042624405987,
          -82.1104358303388,
          -82.1104488154399,
          -82.11046074605088,
          -82.11047130903957,
          -82.11048088253904,
          -82.11048936760454,
          -82.11049765663194,
          -82.11051076582314,
          -82.11054347154436,
          -82.11059859980128,
          -82.11066769982999,
          -82.11075692712296,
          -82.11086458788171,
          -82.1109859401636,
          -82.11112175104888,
          -82.11127257777538,
          -82.11143128217488,
          -82.11159900174185,
          -82.11177253688872,
          -82.1119499306662,
          -82.11213006365749,
          -82.11231187057425,
          -82.11249518398895,
          -82.11267989946558,
          -82.1128643207262,
          -82.11304770505524,
          -82.11322975077124,
          -82.11341069861582,
          -82.11358937579895,
          -82.11376997955168,
          -82.11395166497898,
          -82.11413390194129,
          -82.1143166694593,
          -82.11449981218155,
          -82.1146828437529,
          -82.11486524123393,
          -82.1150470321048,
          -82.11522834501905,
          -82.11540994137121,
          -82.11559211094328,
          -82.11577464441636,
          -82.11595683624006,
          -82.11613863340261,
          -82.11631973607021,
          -82.11650049257209,
          -82.11668149007414,
          -82.11686249569863,
          -82.11704327166832,
          -82.11722394817399,
          -82.1174031718569,
          -82.11757928322882,
          -82.11775136793918,
          -82.11791777946611,
          -82.1180732518338,
          -82.11821503017585,
          -82.11834178748245,
          -82.11845287726892,
          -82.11854745890595,
          -82.11862658239959
         ],
         "marker": {
          "color": "#63ACBE",
          "size": 8
         },
         "mode": "markers",
         "name": "COMPLETE_AUTO_DRIVE",
         "showlegend": true,
         "subplot": "mapbox",
         "type": "scattermapbox"
        },
        {
         "customdata": [
          [
           "2023-05-31T13:55:21",
           "COMPLETE_MANUAL",
           "A->M"
          ],
          [
           "2023-05-31T13:55:21",
           "COMPLETE_MANUAL",
           "NONE"
          ],
          [
           "2023-05-31T13:55:22",
           "COMPLETE_MANUAL",
           "NONE"
          ],
          [
           "2023-05-31T13:55:23",
           "COMPLETE_MANUAL",
           "NONE"
          ],
          [
           "2023-05-31T13:55:24",
           "COMPLETE_MANUAL",
           "NONE"
          ],
          [
           "2023-05-31T13:55:25",
           "COMPLETE_MANUAL",
           "NONE"
          ],
          [
           "2023-05-31T13:55:26",
           "COMPLETE_MANUAL",
           "NONE"
          ],
          [
           "2023-05-31T13:55:27",
           "COMPLETE_MANUAL",
           "NONE"
          ],
          [
           "2023-05-31T13:55:28",
           "COMPLETE_MANUAL",
           "NONE"
          ],
          [
           "2023-05-31T13:55:29",
           "COMPLETE_MANUAL",
           "NONE"
          ],
          [
           "2023-05-31T13:55:30",
           "COMPLETE_MANUAL",
           "NONE"
          ],
          [
           "2023-05-31T13:55:31",
           "COMPLETE_MANUAL",
           "NONE"
          ],
          [
           "2023-05-31T13:55:32",
           "COMPLETE_MANUAL",
           "NONE"
          ],
          [
           "2023-05-31T13:55:33",
           "COMPLETE_MANUAL",
           "NONE"
          ],
          [
           "2023-05-31T13:55:34",
           "COMPLETE_MANUAL",
           "NONE"
          ],
          [
           "2023-05-31T13:55:35",
           "COMPLETE_MANUAL",
           "NONE"
          ],
          [
           "2023-05-31T13:55:36",
           "COMPLETE_MANUAL",
           "NONE"
          ],
          [
           "2023-05-31T13:55:37",
           "COMPLETE_MANUAL",
           "NONE"
          ],
          [
           "2023-05-31T13:55:38",
           "COMPLETE_MANUAL",
           "NONE"
          ],
          [
           "2023-05-31T13:55:39",
           "COMPLETE_MANUAL",
           "NONE"
          ],
          [
           "2023-05-31T13:55:40",
           "COMPLETE_MANUAL",
           "NONE"
          ],
          [
           "2023-05-31T13:55:41",
           "COMPLETE_MANUAL",
           "NONE"
          ],
          [
           "2023-05-31T13:55:42",
           "COMPLETE_MANUAL",
           "NONE"
          ],
          [
           "2023-05-31T13:55:43",
           "COMPLETE_MANUAL",
           "NONE"
          ],
          [
           "2023-05-31T13:55:44",
           "COMPLETE_MANUAL",
           "NONE"
          ],
          [
           "2023-05-31T13:55:45",
           "COMPLETE_MANUAL",
           "NONE"
          ],
          [
           "2023-05-31T13:55:46",
           "COMPLETE_MANUAL",
           "NONE"
          ],
          [
           "2023-05-31T13:55:47",
           "COMPLETE_MANUAL",
           "NONE"
          ],
          [
           "2023-05-31T13:55:48",
           "COMPLETE_MANUAL",
           "NONE"
          ],
          [
           "2023-05-31T13:55:49",
           "COMPLETE_MANUAL",
           "NONE"
          ],
          [
           "2023-05-31T13:55:50",
           "COMPLETE_MANUAL",
           "NONE"
          ],
          [
           "2023-05-31T13:55:51",
           "COMPLETE_MANUAL",
           "NONE"
          ],
          [
           "2023-05-31T13:55:52",
           "COMPLETE_MANUAL",
           "NONE"
          ],
          [
           "2023-05-31T13:55:53",
           "COMPLETE_MANUAL",
           "NONE"
          ],
          [
           "2023-05-31T13:55:54",
           "COMPLETE_MANUAL",
           "NONE"
          ],
          [
           "2023-05-31T13:55:55",
           "COMPLETE_MANUAL",
           "NONE"
          ],
          [
           "2023-05-31T13:55:56",
           "COMPLETE_MANUAL",
           "NONE"
          ],
          [
           "2023-05-31T13:55:57",
           "COMPLETE_MANUAL",
           "NONE"
          ],
          [
           "2023-05-31T13:55:58",
           "COMPLETE_MANUAL",
           "NONE"
          ],
          [
           "2023-05-31T13:55:59",
           "COMPLETE_MANUAL",
           "NONE"
          ],
          [
           "2023-05-31T13:56:00",
           "COMPLETE_MANUAL",
           "NONE"
          ],
          [
           "2023-05-31T13:56:01",
           "COMPLETE_MANUAL",
           "NONE"
          ],
          [
           "2023-05-31T13:56:02",
           "COMPLETE_MANUAL",
           "NONE"
          ],
          [
           "2023-05-31T13:56:03",
           "COMPLETE_MANUAL",
           "NONE"
          ],
          [
           "2023-05-31T13:56:04",
           "COMPLETE_MANUAL",
           "NONE"
          ],
          [
           "2023-05-31T13:56:05",
           "COMPLETE_MANUAL",
           "NONE"
          ],
          [
           "2023-05-31T13:56:06",
           "COMPLETE_MANUAL",
           "NONE"
          ],
          [
           "2023-05-31T13:56:07",
           "COMPLETE_MANUAL",
           "NONE"
          ],
          [
           "2023-05-31T13:56:08",
           "COMPLETE_MANUAL",
           "NONE"
          ],
          [
           "2023-05-31T13:56:09",
           "COMPLETE_MANUAL",
           "NONE"
          ],
          [
           "2023-05-31T13:56:10",
           "COMPLETE_MANUAL",
           "NONE"
          ],
          [
           "2023-05-31T13:57:44",
           "COMPLETE_MANUAL",
           "A->M"
          ],
          [
           "2023-05-31T13:57:44",
           "COMPLETE_MANUAL",
           "NONE"
          ],
          [
           "2023-05-31T13:57:45",
           "COMPLETE_MANUAL",
           "NONE"
          ],
          [
           "2023-05-31T13:57:46",
           "COMPLETE_MANUAL",
           "NONE"
          ],
          [
           "2023-05-31T13:57:47",
           "COMPLETE_MANUAL",
           "NONE"
          ],
          [
           "2023-05-31T13:57:48",
           "COMPLETE_MANUAL",
           "NONE"
          ],
          [
           "2023-05-31T13:57:49",
           "COMPLETE_MANUAL",
           "NONE"
          ],
          [
           "2023-05-31T13:57:50",
           "COMPLETE_MANUAL",
           "NONE"
          ],
          [
           "2023-05-31T13:57:51",
           "COMPLETE_MANUAL",
           "NONE"
          ],
          [
           "2023-05-31T13:57:52",
           "COMPLETE_MANUAL",
           "NONE"
          ],
          [
           "2023-05-31T13:57:53",
           "COMPLETE_MANUAL",
           "NONE"
          ],
          [
           "2023-05-31T13:57:54",
           "COMPLETE_MANUAL",
           "NONE"
          ],
          [
           "2023-05-31T13:57:55",
           "COMPLETE_MANUAL",
           "NONE"
          ],
          [
           "2023-05-31T13:57:56",
           "COMPLETE_MANUAL",
           "NONE"
          ],
          [
           "2023-05-31T13:57:57",
           "COMPLETE_MANUAL",
           "NONE"
          ],
          [
           "2023-05-31T13:57:58",
           "COMPLETE_MANUAL",
           "NONE"
          ],
          [
           "2023-05-31T13:57:59",
           "COMPLETE_MANUAL",
           "NONE"
          ],
          [
           "2023-05-31T13:58:00",
           "COMPLETE_MANUAL",
           "NONE"
          ],
          [
           "2023-05-31T13:58:01",
           "COMPLETE_MANUAL",
           "NONE"
          ],
          [
           "2023-05-31T13:58:02",
           "COMPLETE_MANUAL",
           "NONE"
          ],
          [
           "2023-05-31T13:58:03",
           "COMPLETE_MANUAL",
           "NONE"
          ],
          [
           "2023-05-31T13:58:04",
           "COMPLETE_MANUAL",
           "NONE"
          ],
          [
           "2023-05-31T13:58:05",
           "COMPLETE_MANUAL",
           "NONE"
          ],
          [
           "2023-05-31T13:58:06",
           "COMPLETE_MANUAL",
           "NONE"
          ],
          [
           "2023-05-31T13:58:07",
           "COMPLETE_MANUAL",
           "NONE"
          ],
          [
           "2023-05-31T13:58:08",
           "COMPLETE_MANUAL",
           "NONE"
          ],
          [
           "2023-05-31T13:58:09",
           "COMPLETE_MANUAL",
           "NONE"
          ],
          [
           "2023-05-31T13:58:10",
           "COMPLETE_MANUAL",
           "NONE"
          ],
          [
           "2023-05-31T13:58:11",
           "COMPLETE_MANUAL",
           "NONE"
          ],
          [
           "2023-05-31T13:58:12",
           "COMPLETE_MANUAL",
           "NONE"
          ],
          [
           "2023-05-31T13:58:13",
           "COMPLETE_MANUAL",
           "NONE"
          ],
          [
           "2023-05-31T13:58:14",
           "COMPLETE_MANUAL",
           "NONE"
          ],
          [
           "2023-05-31T13:58:15",
           "COMPLETE_MANUAL",
           "NONE"
          ],
          [
           "2023-05-31T13:58:16",
           "COMPLETE_MANUAL",
           "NONE"
          ],
          [
           "2023-05-31T13:58:17",
           "COMPLETE_MANUAL",
           "NONE"
          ],
          [
           "2023-05-31T13:58:18",
           "COMPLETE_MANUAL",
           "NONE"
          ],
          [
           "2023-05-31T13:58:19",
           "COMPLETE_MANUAL",
           "NONE"
          ],
          [
           "2023-05-31T13:58:20",
           "COMPLETE_MANUAL",
           "NONE"
          ],
          [
           "2023-05-31T13:58:21",
           "COMPLETE_MANUAL",
           "NONE"
          ],
          [
           "2023-05-31T13:58:22",
           "COMPLETE_MANUAL",
           "NONE"
          ],
          [
           "2023-05-31T13:58:23",
           "COMPLETE_MANUAL",
           "NONE"
          ],
          [
           "2023-05-31T13:58:24",
           "COMPLETE_MANUAL",
           "NONE"
          ],
          [
           "2023-05-31T13:58:25",
           "COMPLETE_MANUAL",
           "NONE"
          ],
          [
           "2023-05-31T13:58:26",
           "COMPLETE_MANUAL",
           "NONE"
          ],
          [
           "2023-05-31T13:58:27",
           "COMPLETE_MANUAL",
           "NONE"
          ],
          [
           "2023-05-31T13:58:28",
           "COMPLETE_MANUAL",
           "NONE"
          ],
          [
           "2023-05-31T13:58:29",
           "COMPLETE_MANUAL",
           "NONE"
          ],
          [
           "2023-05-31T13:58:30",
           "COMPLETE_MANUAL",
           "NONE"
          ],
          [
           "2023-05-31T13:58:31",
           "COMPLETE_MANUAL",
           "NONE"
          ],
          [
           "2023-05-31T13:58:32",
           "COMPLETE_MANUAL",
           "NONE"
          ],
          [
           "2023-05-31T13:58:33",
           "COMPLETE_MANUAL",
           "NONE"
          ],
          [
           "2023-05-31T13:58:34",
           "COMPLETE_MANUAL",
           "NONE"
          ],
          [
           "2023-05-31T13:58:35",
           "COMPLETE_MANUAL",
           "NONE"
          ],
          [
           "2023-05-31T13:58:36",
           "COMPLETE_MANUAL",
           "NONE"
          ],
          [
           "2023-05-31T13:59:17",
           "COMPLETE_MANUAL",
           "NONE"
          ],
          [
           "2023-05-31T13:59:17",
           "COMPLETE_MANUAL",
           "NONE"
          ],
          [
           "2023-05-31T13:59:18",
           "COMPLETE_MANUAL",
           "NONE"
          ],
          [
           "2023-05-31T13:59:36",
           "COMPLETE_MANUAL",
           "NONE"
          ],
          [
           "2023-05-31T13:59:36",
           "COMPLETE_MANUAL",
           "NONE"
          ],
          [
           "2023-05-31T13:59:37",
           "COMPLETE_MANUAL",
           "NONE"
          ],
          [
           "2023-05-31T13:59:38",
           "COMPLETE_MANUAL",
           "NONE"
          ],
          [
           "2023-05-31T13:59:58",
           "COMPLETE_MANUAL",
           "NONE"
          ],
          [
           "2023-05-31T13:59:58",
           "COMPLETE_MANUAL",
           "NONE"
          ],
          [
           "2023-05-31T13:59:59",
           "COMPLETE_MANUAL",
           "NONE"
          ]
         ],
         "hovertemplate": "drivingMode=%{customdata[1]}<br>latitude=%{lat}<br>longitude=%{lon}<br>time=%{customdata[0]}<br>transitionType=%{customdata[2]}<extra></extra>",
         "lat": [
          39.326667044710376,
          39.326667044710376,
          39.32666259988705,
          39.326660152057485,
          39.32666354342743,
          39.32667125458895,
          39.32667786302086,
          39.32667999284014,
          39.32667798810114,
          39.32667431803439,
          39.32667210808384,
          39.32667175561925,
          39.32667177002674,
          39.32667208624213,
          39.326672102398895,
          39.326672053661575,
          39.32667201491146,
          39.32667201920474,
          39.32667196383003,
          39.32667191978759,
          39.326671959235775,
          39.32667191948414,
          39.326671890177536,
          39.32667192327612,
          39.326671895793226,
          39.32667187826805,
          39.32667191273546,
          39.32667187957564,
          39.32667190668888,
          39.32667190464984,
          39.326671875507365,
          39.3266719134356,
          39.32667191859441,
          39.32667188578274,
          39.326671948708125,
          39.32667192982828,
          39.32667192895602,
          39.32667196700461,
          39.32667192475118,
          39.32667191608519,
          39.326671964166366,
          39.32667197345151,
          39.32667155935425,
          39.326670370847786,
          39.32667088026074,
          39.32667837565537,
          39.32669351980155,
          39.32671545168518,
          39.32674244965524,
          39.3267728396122,
          39.326802898207646,
          39.3292345009702,
          39.3292345009702,
          39.32923813220632,
          39.32924166861131,
          39.32924492733693,
          39.32924778247937,
          39.32925028488407,
          39.3292523692765,
          39.32925371168879,
          39.32925476859661,
          39.32925607366363,
          39.32925809980936,
          39.32926237836821,
          39.32927081185397,
          39.32928019818208,
          39.32928670026028,
          39.32928986973667,
          39.32929119185991,
          39.32929214693191,
          39.32929250155839,
          39.32929256596156,
          39.32929260587361,
          39.3292925953683,
          39.32929260169237,
          39.32929257483259,
          39.329292623427136,
          39.32929263631053,
          39.32929263433313,
          39.32929263940562,
          39.32929264356743,
          39.329292619255554,
          39.32929267290913,
          39.32929268390177,
          39.329292635338334,
          39.32929265430517,
          39.32929268462058,
          39.32929265315758,
          39.32929267850434,
          39.32929266974647,
          39.32929266184142,
          39.32929267667768,
          39.329292844595095,
          39.32929355859205,
          39.32929479143781,
          39.329295159858894,
          39.32929076492733,
          39.32928074267938,
          39.32926398159115,
          39.32924030715735,
          39.32920927385818,
          39.32917255788101,
          39.32913263744089,
          39.32909044254424,
          39.32904608635014,
          39.32763408010116,
          39.32763408010116,
          39.3276348639682,
          39.32804187995685,
          39.32804187995685,
          39.32807620661308,
          39.32811184895207,
          39.32927159201329,
          39.32927159201329,
          39.32927801620352
         ],
         "legendgroup": "COMPLETE_MANUAL",
         "lon": [
          -82.10215317568012,
          -82.10215317568012,
          -82.10206931153834,
          -82.10199384430383,
          -82.10192596085409,
          -82.10185987522823,
          -82.10179265319152,
          -82.10172481718038,
          -82.10166049573684,
          -82.10160432656393,
          -82.10157486569776,
          -82.10157093050869,
          -82.1015710506277,
          -82.1015711023272,
          -82.10157116083852,
          -82.10157107869438,
          -82.101571083257,
          -82.10157108619717,
          -82.10157105643066,
          -82.1015710010327,
          -82.1015710334001,
          -82.1015710299975,
          -82.10157101954307,
          -82.10157099053028,
          -82.10157099677437,
          -82.10157098324828,
          -82.1015709980016,
          -82.10157099216734,
          -82.1015709704859,
          -82.10157101692548,
          -82.10157098661112,
          -82.10157097895396,
          -82.10157102191077,
          -82.1015709927543,
          -82.10157101966126,
          -82.10157099799999,
          -82.10157100627363,
          -82.1015710246442,
          -82.10157101946623,
          -82.10157096551706,
          -82.10157102269288,
          -82.101571025641,
          -82.1015657526257,
          -82.10154706505267,
          -82.10151778404742,
          -82.10148566769782,
          -82.10145864701312,
          -82.10143992977623,
          -82.10143069435642,
          -82.10142623595189,
          -82.10142271335198,
          -82.10169730840471,
          -82.10169730840471,
          -82.10177340832873,
          -82.10184580083934,
          -82.1019099048348,
          -82.10196529851638,
          -82.10201162999897,
          -82.10204857362346,
          -82.10207563569097,
          -82.10209937887076,
          -82.10212771912727,
          -82.10215989705587,
          -82.10219298350717,
          -82.10222390971116,
          -82.10225134407727,
          -82.10227693758802,
          -82.10230044622992,
          -82.10232161169378,
          -82.10233907797164,
          -82.10234788309009,
          -82.10234841708349,
          -82.10234845005826,
          -82.10234842192902,
          -82.10234841027196,
          -82.10234836172393,
          -82.10234841566557,
          -82.1023484138537,
          -82.10234838566771,
          -82.10234837574434,
          -82.10234838307782,
          -82.10234837459998,
          -82.10234836740527,
          -82.10234840622958,
          -82.10234835309753,
          -82.10234835502584,
          -82.10234838327476,
          -82.10234836030783,
          -82.10234837603038,
          -82.10234839782306,
          -82.10234836207715,
          -82.10234840379012,
          -82.1023512174754,
          -82.10236596618577,
          -82.10239395073795,
          -82.10243282777323,
          -82.10247715065725,
          -82.10251251466302,
          -82.10254489969783,
          -82.10257131869767,
          -82.10259034506193,
          -82.10260200157953,
          -82.1026087967745,
          -82.10261452939375,
          -82.10261972861413,
          -82.10291601121081,
          -82.10291601121081,
          -82.10296913641434,
          -82.10388922123452,
          -82.10388922123452,
          -82.103929343643,
          -82.10397135977182,
          -82.10555571285873,
          -82.10555571285873,
          -82.10565560680922
         ],
         "marker": {
          "color": "#601A4A",
          "size": 8
         },
         "mode": "markers",
         "name": "COMPLETE_MANUAL",
         "showlegend": true,
         "subplot": "mapbox",
         "type": "scattermapbox"
        },
        {
         "customdata": [
          [
           "2023-05-31T13:59:10",
           "EMERGENCY_MODE",
           "A->M"
          ],
          [
           "2023-05-31T13:59:10",
           "EMERGENCY_MODE",
           "NONE"
          ],
          [
           "2023-05-31T13:59:11",
           "EMERGENCY_MODE",
           "NONE"
          ],
          [
           "2023-05-31T13:59:12",
           "EMERGENCY_MODE",
           "NONE"
          ],
          [
           "2023-05-31T13:59:13",
           "EMERGENCY_MODE",
           "NONE"
          ],
          [
           "2023-05-31T13:59:14",
           "EMERGENCY_MODE",
           "NONE"
          ],
          [
           "2023-05-31T13:59:15",
           "EMERGENCY_MODE",
           "NONE"
          ],
          [
           "2023-05-31T13:59:16",
           "EMERGENCY_MODE",
           "NONE"
          ],
          [
           "2023-05-31T13:59:17",
           "EMERGENCY_MODE",
           "NONE"
          ],
          [
           "2023-05-31T13:59:21",
           "EMERGENCY_MODE",
           "A->M"
          ],
          [
           "2023-05-31T13:59:21",
           "EMERGENCY_MODE",
           "NONE"
          ],
          [
           "2023-05-31T13:59:22",
           "EMERGENCY_MODE",
           "NONE"
          ],
          [
           "2023-05-31T13:59:23",
           "EMERGENCY_MODE",
           "NONE"
          ],
          [
           "2023-05-31T13:59:24",
           "EMERGENCY_MODE",
           "NONE"
          ],
          [
           "2023-05-31T13:59:25",
           "EMERGENCY_MODE",
           "NONE"
          ],
          [
           "2023-05-31T13:59:26",
           "EMERGENCY_MODE",
           "NONE"
          ],
          [
           "2023-05-31T13:59:27",
           "EMERGENCY_MODE",
           "NONE"
          ],
          [
           "2023-05-31T13:59:28",
           "EMERGENCY_MODE",
           "NONE"
          ],
          [
           "2023-05-31T13:59:29",
           "EMERGENCY_MODE",
           "NONE"
          ],
          [
           "2023-05-31T13:59:30",
           "EMERGENCY_MODE",
           "NONE"
          ],
          [
           "2023-05-31T13:59:31",
           "EMERGENCY_MODE",
           "NONE"
          ],
          [
           "2023-05-31T13:59:32",
           "EMERGENCY_MODE",
           "NONE"
          ],
          [
           "2023-05-31T13:59:33",
           "EMERGENCY_MODE",
           "NONE"
          ],
          [
           "2023-05-31T13:59:34",
           "EMERGENCY_MODE",
           "NONE"
          ],
          [
           "2023-05-31T13:59:35",
           "EMERGENCY_MODE",
           "NONE"
          ],
          [
           "2023-05-31T13:59:36",
           "EMERGENCY_MODE",
           "NONE"
          ],
          [
           "2023-05-31T13:59:52",
           "EMERGENCY_MODE",
           "A->M"
          ],
          [
           "2023-05-31T13:59:52",
           "EMERGENCY_MODE",
           "NONE"
          ],
          [
           "2023-05-31T13:59:53",
           "EMERGENCY_MODE",
           "NONE"
          ],
          [
           "2023-05-31T13:59:54",
           "EMERGENCY_MODE",
           "NONE"
          ],
          [
           "2023-05-31T13:59:55",
           "EMERGENCY_MODE",
           "NONE"
          ],
          [
           "2023-05-31T13:59:56",
           "EMERGENCY_MODE",
           "NONE"
          ],
          [
           "2023-05-31T13:59:57",
           "EMERGENCY_MODE",
           "NONE"
          ],
          [
           "2023-05-31T13:59:58",
           "EMERGENCY_MODE",
           "NONE"
          ],
          [
           "2023-05-31T14:02:16",
           "EMERGENCY_MODE",
           "A->M"
          ],
          [
           "2023-05-31T14:02:16",
           "EMERGENCY_MODE",
           "NONE"
          ],
          [
           "2023-05-31T14:02:17",
           "EMERGENCY_MODE",
           "NONE"
          ],
          [
           "2023-05-31T14:02:18",
           "EMERGENCY_MODE",
           "NONE"
          ],
          [
           "2023-05-31T14:02:19",
           "EMERGENCY_MODE",
           "NONE"
          ],
          [
           "2023-05-31T14:02:20",
           "EMERGENCY_MODE",
           "NONE"
          ],
          [
           "2023-05-31T14:02:21",
           "EMERGENCY_MODE",
           "NONE"
          ],
          [
           "2023-05-31T14:02:22",
           "EMERGENCY_MODE",
           "NONE"
          ],
          [
           "2023-05-31T14:02:23",
           "EMERGENCY_MODE",
           "NONE"
          ],
          [
           "2023-05-31T14:02:24",
           "EMERGENCY_MODE",
           "NONE"
          ],
          [
           "2023-05-31T14:02:25",
           "EMERGENCY_MODE",
           "NONE"
          ],
          [
           "2023-05-31T14:02:26",
           "EMERGENCY_MODE",
           "NONE"
          ],
          [
           "2023-05-31T14:02:27",
           "EMERGENCY_MODE",
           "NONE"
          ],
          [
           "2023-05-31T14:02:28",
           "EMERGENCY_MODE",
           "NONE"
          ],
          [
           "2023-05-31T14:02:29",
           "EMERGENCY_MODE",
           "NONE"
          ],
          [
           "2023-05-31T14:02:30",
           "EMERGENCY_MODE",
           "NONE"
          ],
          [
           "2023-05-31T14:02:31",
           "EMERGENCY_MODE",
           "NONE"
          ],
          [
           "2023-05-31T14:02:32",
           "EMERGENCY_MODE",
           "NONE"
          ],
          [
           "2023-05-31T14:02:33",
           "EMERGENCY_MODE",
           "NONE"
          ],
          [
           "2023-05-31T14:02:34",
           "EMERGENCY_MODE",
           "NONE"
          ],
          [
           "2023-05-31T14:02:35",
           "EMERGENCY_MODE",
           "NONE"
          ],
          [
           "2023-05-31T14:02:36",
           "EMERGENCY_MODE",
           "NONE"
          ],
          [
           "2023-05-31T14:02:37",
           "EMERGENCY_MODE",
           "NONE"
          ],
          [
           "2023-05-31T14:02:38",
           "EMERGENCY_MODE",
           "NONE"
          ],
          [
           "2023-05-31T14:02:39",
           "EMERGENCY_MODE",
           "NONE"
          ],
          [
           "2023-05-31T14:02:40",
           "EMERGENCY_MODE",
           "NONE"
          ],
          [
           "2023-05-31T14:02:41",
           "EMERGENCY_MODE",
           "NONE"
          ],
          [
           "2023-05-31T14:02:42",
           "EMERGENCY_MODE",
           "NONE"
          ],
          [
           "2023-05-31T14:02:43",
           "EMERGENCY_MODE",
           "NONE"
          ],
          [
           "2023-05-31T14:02:44",
           "EMERGENCY_MODE",
           "NONE"
          ],
          [
           "2023-05-31T14:02:45",
           "EMERGENCY_MODE",
           "NONE"
          ],
          [
           "2023-05-31T14:02:46",
           "EMERGENCY_MODE",
           "NONE"
          ],
          [
           "2023-05-31T14:02:47",
           "EMERGENCY_MODE",
           "NONE"
          ],
          [
           "2023-05-31T14:02:48",
           "EMERGENCY_MODE",
           "NONE"
          ],
          [
           "2023-05-31T14:02:49",
           "EMERGENCY_MODE",
           "NONE"
          ],
          [
           "2023-05-31T14:02:50",
           "EMERGENCY_MODE",
           "NONE"
          ],
          [
           "2023-05-31T14:02:51",
           "EMERGENCY_MODE",
           "NONE"
          ],
          [
           "2023-05-31T14:02:52",
           "EMERGENCY_MODE",
           "NONE"
          ],
          [
           "2023-05-31T14:02:53",
           "EMERGENCY_MODE",
           "NONE"
          ],
          [
           "2023-05-31T14:02:54",
           "EMERGENCY_MODE",
           "NONE"
          ],
          [
           "2023-05-31T14:02:55",
           "EMERGENCY_MODE",
           "NONE"
          ],
          [
           "2023-05-31T14:02:56",
           "EMERGENCY_MODE",
           "NONE"
          ],
          [
           "2023-05-31T14:02:57",
           "EMERGENCY_MODE",
           "NONE"
          ],
          [
           "2023-05-31T14:02:58",
           "EMERGENCY_MODE",
           "NONE"
          ],
          [
           "2023-05-31T14:02:59",
           "EMERGENCY_MODE",
           "NONE"
          ],
          [
           "2023-05-31T14:03:00",
           "EMERGENCY_MODE",
           "NONE"
          ],
          [
           "2023-05-31T14:03:01",
           "EMERGENCY_MODE",
           "NONE"
          ],
          [
           "2023-05-31T14:03:02",
           "EMERGENCY_MODE",
           "NONE"
          ],
          [
           "2023-05-31T14:03:03",
           "EMERGENCY_MODE",
           "NONE"
          ],
          [
           "2023-05-31T14:03:04",
           "EMERGENCY_MODE",
           "NONE"
          ],
          [
           "2023-05-31T14:03:05",
           "EMERGENCY_MODE",
           "NONE"
          ],
          [
           "2023-05-31T14:03:06",
           "EMERGENCY_MODE",
           "NONE"
          ],
          [
           "2023-05-31T14:03:07",
           "EMERGENCY_MODE",
           "NONE"
          ],
          [
           "2023-05-31T14:03:08",
           "EMERGENCY_MODE",
           "NONE"
          ],
          [
           "2023-05-31T14:03:09",
           "EMERGENCY_MODE",
           "NONE"
          ],
          [
           "2023-05-31T14:03:10",
           "EMERGENCY_MODE",
           "NONE"
          ],
          [
           "2023-05-31T14:03:11",
           "EMERGENCY_MODE",
           "NONE"
          ],
          [
           "2023-05-31T14:03:12",
           "EMERGENCY_MODE",
           "NONE"
          ],
          [
           "2023-05-31T14:03:13",
           "EMERGENCY_MODE",
           "NONE"
          ],
          [
           "2023-05-31T14:03:14",
           "EMERGENCY_MODE",
           "NONE"
          ],
          [
           "2023-05-31T14:03:15",
           "EMERGENCY_MODE",
           "NONE"
          ],
          [
           "2023-05-31T14:03:16",
           "EMERGENCY_MODE",
           "NONE"
          ],
          [
           "2023-05-31T14:03:17",
           "EMERGENCY_MODE",
           "NONE"
          ],
          [
           "2023-05-31T14:03:18",
           "EMERGENCY_MODE",
           "NONE"
          ],
          [
           "2023-05-31T14:03:19",
           "EMERGENCY_MODE",
           "NONE"
          ],
          [
           "2023-05-31T14:03:20",
           "EMERGENCY_MODE",
           "NONE"
          ],
          [
           "2023-05-31T14:03:21",
           "EMERGENCY_MODE",
           "NONE"
          ],
          [
           "2023-05-31T14:03:22",
           "EMERGENCY_MODE",
           "NONE"
          ],
          [
           "2023-05-31T14:03:23",
           "EMERGENCY_MODE",
           "NONE"
          ],
          [
           "2023-05-31T14:03:24",
           "EMERGENCY_MODE",
           "NONE"
          ],
          [
           "2023-05-31T14:03:25",
           "EMERGENCY_MODE",
           "NONE"
          ],
          [
           "2023-05-31T14:03:26",
           "EMERGENCY_MODE",
           "NONE"
          ],
          [
           "2023-05-31T14:03:27",
           "EMERGENCY_MODE",
           "NONE"
          ],
          [
           "2023-05-31T14:03:28",
           "EMERGENCY_MODE",
           "NONE"
          ],
          [
           "2023-05-31T14:03:29",
           "EMERGENCY_MODE",
           "NONE"
          ],
          [
           "2023-05-31T14:03:30",
           "EMERGENCY_MODE",
           "NONE"
          ],
          [
           "2023-05-31T14:03:31",
           "EMERGENCY_MODE",
           "NONE"
          ],
          [
           "2023-05-31T14:03:32",
           "EMERGENCY_MODE",
           "NONE"
          ],
          [
           "2023-05-31T14:03:33",
           "EMERGENCY_MODE",
           "NONE"
          ],
          [
           "2023-05-31T14:03:34",
           "EMERGENCY_MODE",
           "NONE"
          ],
          [
           "2023-05-31T14:03:35",
           "EMERGENCY_MODE",
           "NONE"
          ],
          [
           "2023-05-31T14:03:36",
           "EMERGENCY_MODE",
           "NONE"
          ],
          [
           "2023-05-31T14:03:37",
           "EMERGENCY_MODE",
           "NONE"
          ],
          [
           "2023-05-31T14:03:38",
           "EMERGENCY_MODE",
           "NONE"
          ],
          [
           "2023-05-31T14:03:39",
           "EMERGENCY_MODE",
           "NONE"
          ],
          [
           "2023-05-31T14:03:40",
           "EMERGENCY_MODE",
           "NONE"
          ],
          [
           "2023-05-31T14:03:41",
           "EMERGENCY_MODE",
           "NONE"
          ],
          [
           "2023-05-31T14:03:42",
           "EMERGENCY_MODE",
           "NONE"
          ],
          [
           "2023-05-31T14:03:43",
           "EMERGENCY_MODE",
           "NONE"
          ],
          [
           "2023-05-31T14:03:44",
           "EMERGENCY_MODE",
           "NONE"
          ],
          [
           "2023-05-31T14:03:45",
           "EMERGENCY_MODE",
           "NONE"
          ],
          [
           "2023-05-31T14:03:46",
           "EMERGENCY_MODE",
           "NONE"
          ],
          [
           "2023-05-31T14:03:47",
           "EMERGENCY_MODE",
           "NONE"
          ],
          [
           "2023-05-31T14:03:48",
           "EMERGENCY_MODE",
           "NONE"
          ],
          [
           "2023-05-31T14:03:49",
           "EMERGENCY_MODE",
           "NONE"
          ],
          [
           "2023-05-31T14:03:50",
           "EMERGENCY_MODE",
           "NONE"
          ],
          [
           "2023-05-31T14:03:51",
           "EMERGENCY_MODE",
           "NONE"
          ],
          [
           "2023-05-31T14:03:52",
           "EMERGENCY_MODE",
           "NONE"
          ],
          [
           "2023-05-31T14:03:53",
           "EMERGENCY_MODE",
           "NONE"
          ],
          [
           "2023-05-31T14:03:54",
           "EMERGENCY_MODE",
           "NONE"
          ],
          [
           "2023-05-31T14:03:55",
           "EMERGENCY_MODE",
           "NONE"
          ],
          [
           "2023-05-31T14:03:56",
           "EMERGENCY_MODE",
           "NONE"
          ],
          [
           "2023-05-31T14:03:57",
           "EMERGENCY_MODE",
           "NONE"
          ],
          [
           "2023-05-31T14:03:58",
           "EMERGENCY_MODE",
           "NONE"
          ],
          [
           "2023-05-31T14:03:59",
           "EMERGENCY_MODE",
           "NONE"
          ],
          [
           "2023-05-31T14:04:00",
           "EMERGENCY_MODE",
           "NONE"
          ],
          [
           "2023-05-31T14:04:01",
           "EMERGENCY_MODE",
           "NONE"
          ],
          [
           "2023-05-31T14:04:02",
           "EMERGENCY_MODE",
           "NONE"
          ],
          [
           "2023-05-31T14:04:03",
           "EMERGENCY_MODE",
           "NONE"
          ],
          [
           "2023-05-31T14:04:04",
           "EMERGENCY_MODE",
           "NONE"
          ],
          [
           "2023-05-31T14:04:05",
           "EMERGENCY_MODE",
           "NONE"
          ],
          [
           "2023-05-31T14:04:06",
           "EMERGENCY_MODE",
           "NONE"
          ],
          [
           "2023-05-31T14:04:07",
           "EMERGENCY_MODE",
           "NONE"
          ],
          [
           "2023-05-31T14:04:08",
           "EMERGENCY_MODE",
           "NONE"
          ],
          [
           "2023-05-31T14:04:09",
           "EMERGENCY_MODE",
           "NONE"
          ],
          [
           "2023-05-31T14:04:10",
           "EMERGENCY_MODE",
           "NONE"
          ],
          [
           "2023-05-31T14:04:11",
           "EMERGENCY_MODE",
           "NONE"
          ],
          [
           "2023-05-31T14:04:12",
           "EMERGENCY_MODE",
           "NONE"
          ],
          [
           "2023-05-31T14:04:13",
           "EMERGENCY_MODE",
           "NONE"
          ],
          [
           "2023-05-31T14:04:14",
           "EMERGENCY_MODE",
           "NONE"
          ],
          [
           "2023-05-31T14:04:15",
           "EMERGENCY_MODE",
           "NONE"
          ],
          [
           "2023-05-31T14:04:16",
           "EMERGENCY_MODE",
           "NONE"
          ],
          [
           "2023-05-31T14:04:17",
           "EMERGENCY_MODE",
           "NONE"
          ],
          [
           "2023-05-31T14:04:18",
           "EMERGENCY_MODE",
           "NONE"
          ],
          [
           "2023-05-31T14:04:19",
           "EMERGENCY_MODE",
           "NONE"
          ],
          [
           "2023-05-31T14:04:20",
           "EMERGENCY_MODE",
           "NONE"
          ],
          [
           "2023-05-31T14:04:21",
           "EMERGENCY_MODE",
           "NONE"
          ],
          [
           "2023-05-31T14:04:22",
           "EMERGENCY_MODE",
           "NONE"
          ],
          [
           "2023-05-31T14:04:23",
           "EMERGENCY_MODE",
           "NONE"
          ],
          [
           "2023-05-31T14:04:24",
           "EMERGENCY_MODE",
           "NONE"
          ],
          [
           "2023-05-31T14:04:25",
           "EMERGENCY_MODE",
           "NONE"
          ],
          [
           "2023-05-31T14:04:26",
           "EMERGENCY_MODE",
           "NONE"
          ],
          [
           "2023-05-31T14:04:27",
           "EMERGENCY_MODE",
           "NONE"
          ],
          [
           "2023-05-31T14:04:28",
           "EMERGENCY_MODE",
           "NONE"
          ],
          [
           "2023-05-31T14:04:29",
           "EMERGENCY_MODE",
           "NONE"
          ],
          [
           "2023-05-31T14:04:30",
           "EMERGENCY_MODE",
           "NONE"
          ],
          [
           "2023-05-31T14:04:31",
           "EMERGENCY_MODE",
           "NONE"
          ],
          [
           "2023-05-31T14:04:32",
           "EMERGENCY_MODE",
           "NONE"
          ],
          [
           "2023-05-31T14:04:33",
           "EMERGENCY_MODE",
           "NONE"
          ],
          [
           "2023-05-31T14:04:34",
           "EMERGENCY_MODE",
           "NONE"
          ],
          [
           "2023-05-31T14:04:35",
           "EMERGENCY_MODE",
           "NONE"
          ],
          [
           "2023-05-31T14:04:36",
           "EMERGENCY_MODE",
           "NONE"
          ],
          [
           "2023-05-31T14:04:37",
           "EMERGENCY_MODE",
           "NONE"
          ],
          [
           "2023-05-31T14:04:38",
           "EMERGENCY_MODE",
           "NONE"
          ],
          [
           "2023-05-31T14:04:39",
           "EMERGENCY_MODE",
           "NONE"
          ],
          [
           "2023-05-31T14:04:40",
           "EMERGENCY_MODE",
           "NONE"
          ],
          [
           "2023-05-31T14:04:41",
           "EMERGENCY_MODE",
           "NONE"
          ],
          [
           "2023-05-31T14:04:42",
           "EMERGENCY_MODE",
           "NONE"
          ],
          [
           "2023-05-31T14:04:43",
           "EMERGENCY_MODE",
           "NONE"
          ],
          [
           "2023-05-31T14:04:44",
           "EMERGENCY_MODE",
           "NONE"
          ],
          [
           "2023-05-31T14:04:45",
           "EMERGENCY_MODE",
           "NONE"
          ],
          [
           "2023-05-31T14:04:46",
           "EMERGENCY_MODE",
           "NONE"
          ],
          [
           "2023-05-31T14:04:47",
           "EMERGENCY_MODE",
           "NONE"
          ],
          [
           "2023-05-31T14:04:48",
           "EMERGENCY_MODE",
           "NONE"
          ],
          [
           "2023-05-31T14:04:49",
           "EMERGENCY_MODE",
           "NONE"
          ],
          [
           "2023-05-31T14:04:50",
           "EMERGENCY_MODE",
           "NONE"
          ],
          [
           "2023-05-31T14:04:51",
           "EMERGENCY_MODE",
           "NONE"
          ],
          [
           "2023-05-31T14:04:52",
           "EMERGENCY_MODE",
           "NONE"
          ],
          [
           "2023-05-31T14:04:53",
           "EMERGENCY_MODE",
           "NONE"
          ],
          [
           "2023-05-31T14:04:54",
           "EMERGENCY_MODE",
           "NONE"
          ],
          [
           "2023-05-31T14:04:55",
           "EMERGENCY_MODE",
           "NONE"
          ],
          [
           "2023-05-31T14:04:56",
           "EMERGENCY_MODE",
           "NONE"
          ],
          [
           "2023-05-31T14:04:57",
           "EMERGENCY_MODE",
           "NONE"
          ],
          [
           "2023-05-31T14:04:58",
           "EMERGENCY_MODE",
           "NONE"
          ],
          [
           "2023-05-31T14:04:59",
           "EMERGENCY_MODE",
           "NONE"
          ],
          [
           "2023-05-31T14:05:00",
           "EMERGENCY_MODE",
           "NONE"
          ],
          [
           "2023-05-31T14:05:01",
           "EMERGENCY_MODE",
           "NONE"
          ],
          [
           "2023-05-31T14:05:02",
           "EMERGENCY_MODE",
           "NONE"
          ],
          [
           "2023-05-31T14:05:03",
           "EMERGENCY_MODE",
           "NONE"
          ],
          [
           "2023-05-31T14:05:04",
           "EMERGENCY_MODE",
           "NONE"
          ],
          [
           "2023-05-31T14:05:05",
           "EMERGENCY_MODE",
           "NONE"
          ],
          [
           "2023-05-31T14:05:06",
           "EMERGENCY_MODE",
           "NONE"
          ],
          [
           "2023-05-31T14:05:07",
           "EMERGENCY_MODE",
           "NONE"
          ],
          [
           "2023-05-31T14:05:08",
           "EMERGENCY_MODE",
           "NONE"
          ],
          [
           "2023-05-31T14:05:09",
           "EMERGENCY_MODE",
           "NONE"
          ],
          [
           "2023-05-31T14:05:10",
           "EMERGENCY_MODE",
           "NONE"
          ],
          [
           "2023-05-31T14:05:11",
           "EMERGENCY_MODE",
           "NONE"
          ],
          [
           "2023-05-31T14:05:12",
           "EMERGENCY_MODE",
           "NONE"
          ],
          [
           "2023-05-31T14:05:13",
           "EMERGENCY_MODE",
           "NONE"
          ],
          [
           "2023-05-31T14:05:14",
           "EMERGENCY_MODE",
           "NONE"
          ],
          [
           "2023-05-31T14:05:15",
           "EMERGENCY_MODE",
           "NONE"
          ],
          [
           "2023-05-31T14:05:16",
           "EMERGENCY_MODE",
           "NONE"
          ],
          [
           "2023-05-31T14:05:17",
           "EMERGENCY_MODE",
           "NONE"
          ],
          [
           "2023-05-31T14:05:18",
           "EMERGENCY_MODE",
           "NONE"
          ],
          [
           "2023-05-31T14:05:19",
           "EMERGENCY_MODE",
           "NONE"
          ],
          [
           "2023-05-31T14:05:20",
           "EMERGENCY_MODE",
           "NONE"
          ],
          [
           "2023-05-31T14:05:21",
           "EMERGENCY_MODE",
           "NONE"
          ],
          [
           "2023-05-31T14:05:22",
           "EMERGENCY_MODE",
           "NONE"
          ],
          [
           "2023-05-31T14:05:23",
           "EMERGENCY_MODE",
           "NONE"
          ],
          [
           "2023-05-31T14:05:24",
           "EMERGENCY_MODE",
           "NONE"
          ],
          [
           "2023-05-31T14:05:25",
           "EMERGENCY_MODE",
           "NONE"
          ],
          [
           "2023-05-31T14:05:26",
           "EMERGENCY_MODE",
           "NONE"
          ],
          [
           "2023-05-31T14:05:27",
           "EMERGENCY_MODE",
           "NONE"
          ],
          [
           "2023-05-31T14:05:28",
           "EMERGENCY_MODE",
           "NONE"
          ],
          [
           "2023-05-31T14:05:29",
           "EMERGENCY_MODE",
           "NONE"
          ],
          [
           "2023-05-31T14:05:30",
           "EMERGENCY_MODE",
           "NONE"
          ],
          [
           "2023-05-31T14:05:31",
           "EMERGENCY_MODE",
           "NONE"
          ],
          [
           "2023-05-31T14:05:32",
           "EMERGENCY_MODE",
           "NONE"
          ],
          [
           "2023-05-31T14:05:33",
           "EMERGENCY_MODE",
           "NONE"
          ],
          [
           "2023-05-31T14:05:34",
           "EMERGENCY_MODE",
           "NONE"
          ],
          [
           "2023-05-31T14:05:35",
           "EMERGENCY_MODE",
           "NONE"
          ],
          [
           "2023-05-31T14:05:36",
           "EMERGENCY_MODE",
           "NONE"
          ],
          [
           "2023-05-31T14:05:37",
           "EMERGENCY_MODE",
           "NONE"
          ],
          [
           "2023-05-31T14:05:38",
           "EMERGENCY_MODE",
           "NONE"
          ],
          [
           "2023-05-31T14:05:39",
           "EMERGENCY_MODE",
           "NONE"
          ],
          [
           "2023-05-31T14:05:40",
           "EMERGENCY_MODE",
           "NONE"
          ],
          [
           "2023-05-31T14:05:41",
           "EMERGENCY_MODE",
           "NONE"
          ],
          [
           "2023-05-31T14:05:42",
           "EMERGENCY_MODE",
           "NONE"
          ],
          [
           "2023-05-31T14:05:43",
           "EMERGENCY_MODE",
           "NONE"
          ],
          [
           "2023-05-31T14:05:44",
           "EMERGENCY_MODE",
           "NONE"
          ],
          [
           "2023-05-31T14:05:45",
           "EMERGENCY_MODE",
           "NONE"
          ],
          [
           "2023-05-31T14:05:46",
           "EMERGENCY_MODE",
           "NONE"
          ],
          [
           "2023-05-31T14:05:47",
           "EMERGENCY_MODE",
           "NONE"
          ],
          [
           "2023-05-31T14:05:48",
           "EMERGENCY_MODE",
           "NONE"
          ],
          [
           "2023-05-31T14:05:49",
           "EMERGENCY_MODE",
           "NONE"
          ],
          [
           "2023-05-31T14:05:50",
           "EMERGENCY_MODE",
           "NONE"
          ],
          [
           "2023-05-31T14:05:51",
           "EMERGENCY_MODE",
           "NONE"
          ],
          [
           "2023-05-31T14:05:52",
           "EMERGENCY_MODE",
           "NONE"
          ],
          [
           "2023-05-31T14:05:53",
           "EMERGENCY_MODE",
           "NONE"
          ],
          [
           "2023-05-31T14:05:54",
           "EMERGENCY_MODE",
           "NONE"
          ],
          [
           "2023-05-31T14:05:55",
           "EMERGENCY_MODE",
           "NONE"
          ],
          [
           "2023-05-31T14:05:56",
           "EMERGENCY_MODE",
           "NONE"
          ],
          [
           "2023-05-31T14:05:57",
           "EMERGENCY_MODE",
           "NONE"
          ],
          [
           "2023-05-31T14:05:58",
           "EMERGENCY_MODE",
           "NONE"
          ],
          [
           "2023-05-31T14:05:59",
           "EMERGENCY_MODE",
           "NONE"
          ],
          [
           "2023-05-31T14:06:00",
           "EMERGENCY_MODE",
           "NONE"
          ],
          [
           "2023-05-31T14:06:01",
           "EMERGENCY_MODE",
           "NONE"
          ],
          [
           "2023-05-31T14:06:02",
           "EMERGENCY_MODE",
           "NONE"
          ],
          [
           "2023-05-31T14:06:03",
           "EMERGENCY_MODE",
           "NONE"
          ],
          [
           "2023-05-31T14:06:04",
           "EMERGENCY_MODE",
           "NONE"
          ],
          [
           "2023-05-31T14:06:05",
           "EMERGENCY_MODE",
           "NONE"
          ],
          [
           "2023-05-31T14:06:06",
           "EMERGENCY_MODE",
           "NONE"
          ],
          [
           "2023-05-31T14:06:07",
           "EMERGENCY_MODE",
           "NONE"
          ],
          [
           "2023-05-31T14:06:08",
           "EMERGENCY_MODE",
           "NONE"
          ],
          [
           "2023-05-31T14:06:09",
           "EMERGENCY_MODE",
           "NONE"
          ],
          [
           "2023-05-31T14:06:10",
           "EMERGENCY_MODE",
           "NONE"
          ],
          [
           "2023-05-31T14:06:11",
           "EMERGENCY_MODE",
           "NONE"
          ],
          [
           "2023-05-31T14:06:12",
           "EMERGENCY_MODE",
           "NONE"
          ]
         ],
         "hovertemplate": "drivingMode=%{customdata[1]}<br>latitude=%{lat}<br>longitude=%{lon}<br>time=%{customdata[0]}<br>transitionType=%{customdata[2]}<extra></extra>",
         "lat": [
          39.32778552797575,
          39.32778552797575,
          39.327775943589046,
          39.32774930284423,
          39.327715073469015,
          39.32767908415408,
          39.32765048543799,
          39.327636188287606,
          39.32763408010116,
          39.32763605738705,
          39.32763605738705,
          39.32763616378245,
          39.32763732590706,
          39.32764029979721,
          39.327644858153775,
          39.32765312583816,
          39.32766873186463,
          39.32769464710627,
          39.32773198767089,
          39.32777775757625,
          39.32782530063116,
          39.32787224320488,
          39.32791809125222,
          39.32796215111216,
          39.32800366916313,
          39.32804187995685,
          39.32901525260304,
          39.32901525260304,
          39.32908201650426,
          39.329145291985256,
          39.329196653878114,
          39.3292336502772,
          39.32925822311093,
          39.32927159201329,
          39.33009682929179,
          39.33009682929179,
          39.33011714719641,
          39.33014287379232,
          39.33017660073741,
          39.33021911027694,
          39.33026968103771,
          39.33032574555644,
          39.33038421926759,
          39.33044199358071,
          39.33050169630994,
          39.3305627495978,
          39.33062322039318,
          39.3306808107621,
          39.3307349900942,
          39.33078359043755,
          39.33082547623187,
          39.33086039859936,
          39.33088830682475,
          39.3309106173051,
          39.33092866202647,
          39.33094457020877,
          39.33096014332505,
          39.33097371621923,
          39.330988632309534,
          39.33100220558968,
          39.33101501637692,
          39.33102749987477,
          39.33103809517669,
          39.33104733927385,
          39.33105506800164,
          39.33106108726584,
          39.331065639975286,
          39.33106910626918,
          39.33107177240035,
          39.33107217731428,
          39.33107271670336,
          39.33107258226707,
          39.33107190900635,
          39.33107092877537,
          39.33106982056548,
          39.33106912419117,
          39.33106866872327,
          39.331068543329565,
          39.33106866896073,
          39.3310688015188,
          39.33106897705584,
          39.33106898519161,
          39.33106858897988,
          39.331067797279104,
          39.3310664570576,
          39.33106444744841,
          39.33106142612856,
          39.33105675346592,
          39.33105010437612,
          39.33104088386759,
          39.3310288541578,
          39.33101508620479,
          39.33100067363784,
          39.33098546208571,
          39.3309695145056,
          39.3309529342828,
          39.33093669672287,
          39.330921431515584,
          39.33091041966588,
          39.33091269253539,
          39.33093006471859,
          39.33096055874266,
          39.33100095534972,
          39.33104659579821,
          39.331095769485465,
          39.33114615824322,
          39.33119657653281,
          39.33124634033472,
          39.33129537741687,
          39.33134327998723,
          39.33138935808016,
          39.33143287690451,
          39.33147452552338,
          39.3315124879753,
          39.331542536048886,
          39.33155900277783,
          39.3315602549733,
          39.33155105785465,
          39.33153779274808,
          39.331523884840415,
          39.33151063380322,
          39.331497326574,
          39.33148393650331,
          39.3314707290812,
          39.33145904613815,
          39.33145386814782,
          39.33145343280151,
          39.33145350824349,
          39.3314534404539,
          39.33145344380768,
          39.33145343143169,
          39.331453434958085,
          39.33145342623713,
          39.331453424153,
          39.33145342152674,
          39.33145346342386,
          39.33145344300316,
          39.331453428821824,
          39.33145345857606,
          39.33145343291264,
          39.33145345895179,
          39.33145344478837,
          39.33145339736523,
          39.33145343457304,
          39.33145342539901,
          39.33145341375588,
          39.33145341803552,
          39.33145339881364,
          39.3314534205372,
          39.33145339778894,
          39.33145340270744,
          39.33145341652546,
          39.3314534478053,
          39.33145339379334,
          39.3314533859261,
          39.33145338429581,
          39.33145339172198,
          39.3314533920183,
          39.33145342244965,
          39.33145343290999,
          39.331453411214426,
          39.33145339507431,
          39.331453420480486,
          39.331453407224295,
          39.33145340308527,
          39.33145340357868,
          39.33145340998026,
          39.33145342718316,
          39.331453417219656,
          39.33145339474893,
          39.33145343472808,
          39.33145339457268,
          39.33145341659358,
          39.33145345086506,
          39.331453417889655,
          39.3314534604952,
          39.33145344853718,
          39.33145343780256,
          39.3314534387066,
          39.331453427118745,
          39.33145343551632,
          39.3314534528221,
          39.33145341008146,
          39.331453427692864,
          39.33145342931891,
          39.33145341430739,
          39.331453446482165,
          39.33145342835752,
          39.33145342562591,
          39.3314534090612,
          39.33145343122725,
          39.33145341907881,
          39.33145342265645,
          39.33145341991637,
          39.33145342352827,
          39.331453459065855,
          39.331453427121616,
          39.33145341659338,
          39.33145342476523,
          39.331453412107486,
          39.33145340126025,
          39.33145339549529,
          39.3314534133457,
          39.33145338588885,
          39.33145343780794,
          39.33145342465249,
          39.33145342248933,
          39.331453437129205,
          39.331453432611006,
          39.33145343539834,
          39.33145341045659,
          39.33145341594172,
          39.331453442844165,
          39.33145342011826,
          39.33145343078371,
          39.331453409358026,
          39.33145339860833,
          39.33145340634544,
          39.33145342116665,
          39.33145339914165,
          39.331453415122255,
          39.3314534026149,
          39.33145339785676,
          39.33145341038297,
          39.33145343423469,
          39.331453398608616,
          39.33145343257745,
          39.33145340713981,
          39.33145338785241,
          39.33145341068967,
          39.33145339587485,
          39.3314534053152,
          39.33145341205799,
          39.3314533767113,
          39.33145339462038,
          39.3314533867811,
          39.33145339149912,
          39.33145340243995,
          39.331453408244144,
          39.331453412857854,
          39.33145338060157,
          39.33145341633819,
          39.3314533729396,
          39.33145337015711,
          39.33145337748319,
          39.33145340796707,
          39.33145337304832,
          39.331453380368814,
          39.33145340753886,
          39.33145338574571,
          39.33145336942911,
          39.331453400008776,
          39.331453378934135,
          39.33145339153685,
          39.331453387267125,
          39.3314534005768,
          39.33145337609497,
          39.331453398347385,
          39.33145338391156,
          39.33145340923827,
          39.33145340061858,
          39.33145339466007,
          39.33145337529382,
          39.33145342088747,
          39.33145338382879,
          39.33145342753942,
          39.33145342222402,
          39.33145338891423,
          39.33145338347463,
          39.33145342112656,
          39.33145336872402,
          39.33145340720705
         ],
         "legendgroup": "EMERGENCY_MODE",
         "lon": [
          -82.10273936550703,
          -82.10273936550703,
          -82.10274045456052,
          -82.10274329228558,
          -82.10275182237862,
          -82.10277399912806,
          -82.10281336171722,
          -82.10286352866062,
          -82.10291601121081,
          -82.10304269950775,
          -82.10304269950775,
          -82.10304932191289,
          -82.10308062785057,
          -82.10313851660642,
          -82.10321196290626,
          -82.10328835989739,
          -82.10336595987327,
          -82.10344274465105,
          -82.103515021023,
          -82.10357707024532,
          -82.10363413201355,
          -82.10368977868657,
          -82.1037439755024,
          -82.10379655755332,
          -82.1038456269313,
          -82.10388922123452,
          -82.10502401216482,
          -82.10502401216482,
          -82.10510140437776,
          -82.10518265547958,
          -82.10527046955632,
          -82.10536190595836,
          -82.10545714107326,
          -82.10555571285873,
          -82.11862658239959,
          -82.11862658239959,
          -82.11869299104683,
          -82.11876239843869,
          -82.11883934586348,
          -82.1189219005543,
          -82.11900803354074,
          -82.1190973224832,
          -82.11918953344113,
          -82.11928076143558,
          -82.11937368381197,
          -82.1194699837105,
          -82.11956899412655,
          -82.11966772819108,
          -82.11976795422035,
          -82.11987146083088,
          -82.1199785663472,
          -82.12008961456603,
          -82.12020566672265,
          -82.12032711082368,
          -82.12045185323221,
          -82.12057874170367,
          -82.1207068287174,
          -82.12083661975765,
          -82.12096694126087,
          -82.12109762671984,
          -82.12122954228238,
          -82.12136251297954,
          -82.12149640859549,
          -82.12163118808793,
          -82.12176630341719,
          -82.12190080713334,
          -82.12203269111909,
          -82.12216033403286,
          -82.12228407874082,
          -82.12240715682067,
          -82.12252909580712,
          -82.12265074886514,
          -82.12277174447104,
          -82.12289227875276,
          -82.12301218058283,
          -82.12313227323745,
          -82.12325388943253,
          -82.1233768650866,
          -82.12350139546798,
          -82.12362713644016,
          -82.12375387005832,
          -82.12388139893086,
          -82.1240096236439,
          -82.12413809024761,
          -82.12426653147752,
          -82.1243946563806,
          -82.12452229521264,
          -82.12464922086932,
          -82.12477545424417,
          -82.12490125068136,
          -82.12502628831021,
          -82.12514776892331,
          -82.12526404382757,
          -82.12537515315448,
          -82.12548051088713,
          -82.12557743253396,
          -82.12566305151545,
          -82.12573624460755,
          -82.12579732899748,
          -82.12585129001316,
          -82.12589515294769,
          -82.1259267092564,
          -82.12594494475235,
          -82.12595899040038,
          -82.12597186119594,
          -82.12598197680543,
          -82.12598675939122,
          -82.12598734824991,
          -82.12598365441508,
          -82.12597478419555,
          -82.1259599184362,
          -82.12594238470868,
          -82.12593159780162,
          -82.12593420497531,
          -82.12595242194647,
          -82.12598150344701,
          -82.1260106792375,
          -82.12603076973349,
          -82.12604120255226,
          -82.12604555985688,
          -82.12604661354646,
          -82.12604596922742,
          -82.12604463324455,
          -82.12604358652085,
          -82.12604283368293,
          -82.12604268942309,
          -82.12604268839239,
          -82.12604278001845,
          -82.12604273699122,
          -82.12604271688866,
          -82.12604274516829,
          -82.12604276064293,
          -82.12604269884123,
          -82.12604272164974,
          -82.12604273425448,
          -82.12604276529407,
          -82.12604271665684,
          -82.12604273816208,
          -82.12604272164569,
          -82.12604270076778,
          -82.12604272321937,
          -82.12604271801042,
          -82.12604267117317,
          -82.1260426971587,
          -82.12604268970621,
          -82.12604265560967,
          -82.1260426771222,
          -82.12604269512597,
          -82.12604265845322,
          -82.12604269933396,
          -82.12604270621546,
          -82.12604270510411,
          -82.12604270146736,
          -82.12604270473685,
          -82.12604267450197,
          -82.12604269365036,
          -82.12604269068953,
          -82.12604268861553,
          -82.12604271885799,
          -82.12604275183895,
          -82.12604271608238,
          -82.12604268253035,
          -82.12604271145955,
          -82.12604268425092,
          -82.12604270622757,
          -82.12604266205078,
          -82.12604267395879,
          -82.12604269282298,
          -82.12604268602036,
          -82.12604264341991,
          -82.12604267747683,
          -82.12604271480801,
          -82.12604266682001,
          -82.12604269288518,
          -82.12604267703743,
          -82.12604273048724,
          -82.12604271151686,
          -82.12604267311205,
          -82.12604270630695,
          -82.12604267882858,
          -82.12604271487845,
          -82.12604271664975,
          -82.12604268436424,
          -82.12604267131954,
          -82.12604266653699,
          -82.12604262628396,
          -82.12604268309325,
          -82.12604266938594,
          -82.12604267778934,
          -82.1260426875771,
          -82.1260426666531,
          -82.12604267228718,
          -82.12604263158435,
          -82.12604266644794,
          -82.12604265388178,
          -82.12604268498751,
          -82.1260426505785,
          -82.12604268586989,
          -82.12604267006411,
          -82.12604266512155,
          -82.12604265818277,
          -82.12604266013884,
          -82.1260427070561,
          -82.12604268104846,
          -82.12604270344085,
          -82.12604270318249,
          -82.1260426852007,
          -82.12604271694646,
          -82.12604270511414,
          -82.12604268203907,
          -82.12604271039234,
          -82.1260427240807,
          -82.12604271570954,
          -82.12604271146498,
          -82.12604271341192,
          -82.12604270168194,
          -82.12604267556824,
          -82.12604270021521,
          -82.1260427105124,
          -82.12604273369122,
          -82.1260426903578,
          -82.12604269163447,
          -82.12604267092566,
          -82.12604269982864,
          -82.12604268711321,
          -82.12604271056891,
          -82.1260426981569,
          -82.1260427004192,
          -82.12604267892513,
          -82.12604273729369,
          -82.1260427442539,
          -82.12604273294285,
          -82.12604270238322,
          -82.12604269900632,
          -82.12604266191448,
          -82.12604270780416,
          -82.12604270899072,
          -82.12604271297285,
          -82.12604272988253,
          -82.1260427485523,
          -82.12604268014059,
          -82.12604274499044,
          -82.12604270057888,
          -82.12604270627571,
          -82.12604272028769,
          -82.12604273454104,
          -82.12604270297514,
          -82.12604271664755,
          -82.12604274671249,
          -82.12604276503968,
          -82.12604266620575,
          -82.1260427434665,
          -82.12604271937583,
          -82.12604271287627,
          -82.12604271584689,
          -82.12604270584964,
          -82.12604271830509,
          -82.12604270293764,
          -82.12604268985082,
          -82.12604271940154,
          -82.12604275695527,
          -82.12604271013124,
          -82.12604270336658,
          -82.12604272482513,
          -82.12604270476493,
          -82.12604277277728,
          -82.1260427631443,
          -82.12604268206556,
          -82.12604273878439,
          -82.12604276385612,
          -82.12604270620447,
          -82.12604273759479
         ],
         "marker": {
          "color": "#EE442F",
          "size": 8
         },
         "mode": "markers",
         "name": "EMERGENCY_MODE",
         "showlegend": true,
         "subplot": "mapbox",
         "type": "scattermapbox"
        }
       ],
       "layout": {
        "height": 1000,
        "legend": {
         "title": {
          "text": "drivingMode"
         },
         "tracegroupgap": 0
        },
        "mapbox": {
         "center": {
          "lat": 39.329379300242806,
          "lon": -82.11162705576301
         },
         "domain": {
          "x": [
           0,
           1
          ],
          "y": [
           0,
           1
          ]
         },
         "style": "open-street-map",
         "zoom": 13
        },
        "margin": {
         "b": 0,
         "l": 0,
         "r": 0,
         "t": 0
        },
        "template": {
         "data": {
          "bar": [
           {
            "error_x": {
             "color": "#2a3f5f"
            },
            "error_y": {
             "color": "#2a3f5f"
            },
            "marker": {
             "line": {
              "color": "#E5ECF6",
              "width": 0.5
             },
             "pattern": {
              "fillmode": "overlay",
              "size": 10,
              "solidity": 0.2
             }
            },
            "type": "bar"
           }
          ],
          "barpolar": [
           {
            "marker": {
             "line": {
              "color": "#E5ECF6",
              "width": 0.5
             },
             "pattern": {
              "fillmode": "overlay",
              "size": 10,
              "solidity": 0.2
             }
            },
            "type": "barpolar"
           }
          ],
          "carpet": [
           {
            "aaxis": {
             "endlinecolor": "#2a3f5f",
             "gridcolor": "white",
             "linecolor": "white",
             "minorgridcolor": "white",
             "startlinecolor": "#2a3f5f"
            },
            "baxis": {
             "endlinecolor": "#2a3f5f",
             "gridcolor": "white",
             "linecolor": "white",
             "minorgridcolor": "white",
             "startlinecolor": "#2a3f5f"
            },
            "type": "carpet"
           }
          ],
          "choropleth": [
           {
            "colorbar": {
             "outlinewidth": 0,
             "ticks": ""
            },
            "type": "choropleth"
           }
          ],
          "contour": [
           {
            "colorbar": {
             "outlinewidth": 0,
             "ticks": ""
            },
            "colorscale": [
             [
              0,
              "#0d0887"
             ],
             [
              0.1111111111111111,
              "#46039f"
             ],
             [
              0.2222222222222222,
              "#7201a8"
             ],
             [
              0.3333333333333333,
              "#9c179e"
             ],
             [
              0.4444444444444444,
              "#bd3786"
             ],
             [
              0.5555555555555556,
              "#d8576b"
             ],
             [
              0.6666666666666666,
              "#ed7953"
             ],
             [
              0.7777777777777778,
              "#fb9f3a"
             ],
             [
              0.8888888888888888,
              "#fdca26"
             ],
             [
              1,
              "#f0f921"
             ]
            ],
            "type": "contour"
           }
          ],
          "contourcarpet": [
           {
            "colorbar": {
             "outlinewidth": 0,
             "ticks": ""
            },
            "type": "contourcarpet"
           }
          ],
          "heatmap": [
           {
            "colorbar": {
             "outlinewidth": 0,
             "ticks": ""
            },
            "colorscale": [
             [
              0,
              "#0d0887"
             ],
             [
              0.1111111111111111,
              "#46039f"
             ],
             [
              0.2222222222222222,
              "#7201a8"
             ],
             [
              0.3333333333333333,
              "#9c179e"
             ],
             [
              0.4444444444444444,
              "#bd3786"
             ],
             [
              0.5555555555555556,
              "#d8576b"
             ],
             [
              0.6666666666666666,
              "#ed7953"
             ],
             [
              0.7777777777777778,
              "#fb9f3a"
             ],
             [
              0.8888888888888888,
              "#fdca26"
             ],
             [
              1,
              "#f0f921"
             ]
            ],
            "type": "heatmap"
           }
          ],
          "heatmapgl": [
           {
            "colorbar": {
             "outlinewidth": 0,
             "ticks": ""
            },
            "colorscale": [
             [
              0,
              "#0d0887"
             ],
             [
              0.1111111111111111,
              "#46039f"
             ],
             [
              0.2222222222222222,
              "#7201a8"
             ],
             [
              0.3333333333333333,
              "#9c179e"
             ],
             [
              0.4444444444444444,
              "#bd3786"
             ],
             [
              0.5555555555555556,
              "#d8576b"
             ],
             [
              0.6666666666666666,
              "#ed7953"
             ],
             [
              0.7777777777777778,
              "#fb9f3a"
             ],
             [
              0.8888888888888888,
              "#fdca26"
             ],
             [
              1,
              "#f0f921"
             ]
            ],
            "type": "heatmapgl"
           }
          ],
          "histogram": [
           {
            "marker": {
             "pattern": {
              "fillmode": "overlay",
              "size": 10,
              "solidity": 0.2
             }
            },
            "type": "histogram"
           }
          ],
          "histogram2d": [
           {
            "colorbar": {
             "outlinewidth": 0,
             "ticks": ""
            },
            "colorscale": [
             [
              0,
              "#0d0887"
             ],
             [
              0.1111111111111111,
              "#46039f"
             ],
             [
              0.2222222222222222,
              "#7201a8"
             ],
             [
              0.3333333333333333,
              "#9c179e"
             ],
             [
              0.4444444444444444,
              "#bd3786"
             ],
             [
              0.5555555555555556,
              "#d8576b"
             ],
             [
              0.6666666666666666,
              "#ed7953"
             ],
             [
              0.7777777777777778,
              "#fb9f3a"
             ],
             [
              0.8888888888888888,
              "#fdca26"
             ],
             [
              1,
              "#f0f921"
             ]
            ],
            "type": "histogram2d"
           }
          ],
          "histogram2dcontour": [
           {
            "colorbar": {
             "outlinewidth": 0,
             "ticks": ""
            },
            "colorscale": [
             [
              0,
              "#0d0887"
             ],
             [
              0.1111111111111111,
              "#46039f"
             ],
             [
              0.2222222222222222,
              "#7201a8"
             ],
             [
              0.3333333333333333,
              "#9c179e"
             ],
             [
              0.4444444444444444,
              "#bd3786"
             ],
             [
              0.5555555555555556,
              "#d8576b"
             ],
             [
              0.6666666666666666,
              "#ed7953"
             ],
             [
              0.7777777777777778,
              "#fb9f3a"
             ],
             [
              0.8888888888888888,
              "#fdca26"
             ],
             [
              1,
              "#f0f921"
             ]
            ],
            "type": "histogram2dcontour"
           }
          ],
          "mesh3d": [
           {
            "colorbar": {
             "outlinewidth": 0,
             "ticks": ""
            },
            "type": "mesh3d"
           }
          ],
          "parcoords": [
           {
            "line": {
             "colorbar": {
              "outlinewidth": 0,
              "ticks": ""
             }
            },
            "type": "parcoords"
           }
          ],
          "pie": [
           {
            "automargin": true,
            "type": "pie"
           }
          ],
          "scatter": [
           {
            "fillpattern": {
             "fillmode": "overlay",
             "size": 10,
             "solidity": 0.2
            },
            "type": "scatter"
           }
          ],
          "scatter3d": [
           {
            "line": {
             "colorbar": {
              "outlinewidth": 0,
              "ticks": ""
             }
            },
            "marker": {
             "colorbar": {
              "outlinewidth": 0,
              "ticks": ""
             }
            },
            "type": "scatter3d"
           }
          ],
          "scattercarpet": [
           {
            "marker": {
             "colorbar": {
              "outlinewidth": 0,
              "ticks": ""
             }
            },
            "type": "scattercarpet"
           }
          ],
          "scattergeo": [
           {
            "marker": {
             "colorbar": {
              "outlinewidth": 0,
              "ticks": ""
             }
            },
            "type": "scattergeo"
           }
          ],
          "scattergl": [
           {
            "marker": {
             "colorbar": {
              "outlinewidth": 0,
              "ticks": ""
             }
            },
            "type": "scattergl"
           }
          ],
          "scattermapbox": [
           {
            "marker": {
             "colorbar": {
              "outlinewidth": 0,
              "ticks": ""
             }
            },
            "type": "scattermapbox"
           }
          ],
          "scatterpolar": [
           {
            "marker": {
             "colorbar": {
              "outlinewidth": 0,
              "ticks": ""
             }
            },
            "type": "scatterpolar"
           }
          ],
          "scatterpolargl": [
           {
            "marker": {
             "colorbar": {
              "outlinewidth": 0,
              "ticks": ""
             }
            },
            "type": "scatterpolargl"
           }
          ],
          "scatterternary": [
           {
            "marker": {
             "colorbar": {
              "outlinewidth": 0,
              "ticks": ""
             }
            },
            "type": "scatterternary"
           }
          ],
          "surface": [
           {
            "colorbar": {
             "outlinewidth": 0,
             "ticks": ""
            },
            "colorscale": [
             [
              0,
              "#0d0887"
             ],
             [
              0.1111111111111111,
              "#46039f"
             ],
             [
              0.2222222222222222,
              "#7201a8"
             ],
             [
              0.3333333333333333,
              "#9c179e"
             ],
             [
              0.4444444444444444,
              "#bd3786"
             ],
             [
              0.5555555555555556,
              "#d8576b"
             ],
             [
              0.6666666666666666,
              "#ed7953"
             ],
             [
              0.7777777777777778,
              "#fb9f3a"
             ],
             [
              0.8888888888888888,
              "#fdca26"
             ],
             [
              1,
              "#f0f921"
             ]
            ],
            "type": "surface"
           }
          ],
          "table": [
           {
            "cells": {
             "fill": {
              "color": "#EBF0F8"
             },
             "line": {
              "color": "white"
             }
            },
            "header": {
             "fill": {
              "color": "#C8D4E3"
             },
             "line": {
              "color": "white"
             }
            },
            "type": "table"
           }
          ]
         },
         "layout": {
          "annotationdefaults": {
           "arrowcolor": "#2a3f5f",
           "arrowhead": 0,
           "arrowwidth": 1
          },
          "autotypenumbers": "strict",
          "coloraxis": {
           "colorbar": {
            "outlinewidth": 0,
            "ticks": ""
           }
          },
          "colorscale": {
           "diverging": [
            [
             0,
             "#8e0152"
            ],
            [
             0.1,
             "#c51b7d"
            ],
            [
             0.2,
             "#de77ae"
            ],
            [
             0.3,
             "#f1b6da"
            ],
            [
             0.4,
             "#fde0ef"
            ],
            [
             0.5,
             "#f7f7f7"
            ],
            [
             0.6,
             "#e6f5d0"
            ],
            [
             0.7,
             "#b8e186"
            ],
            [
             0.8,
             "#7fbc41"
            ],
            [
             0.9,
             "#4d9221"
            ],
            [
             1,
             "#276419"
            ]
           ],
           "sequential": [
            [
             0,
             "#0d0887"
            ],
            [
             0.1111111111111111,
             "#46039f"
            ],
            [
             0.2222222222222222,
             "#7201a8"
            ],
            [
             0.3333333333333333,
             "#9c179e"
            ],
            [
             0.4444444444444444,
             "#bd3786"
            ],
            [
             0.5555555555555556,
             "#d8576b"
            ],
            [
             0.6666666666666666,
             "#ed7953"
            ],
            [
             0.7777777777777778,
             "#fb9f3a"
            ],
            [
             0.8888888888888888,
             "#fdca26"
            ],
            [
             1,
             "#f0f921"
            ]
           ],
           "sequentialminus": [
            [
             0,
             "#0d0887"
            ],
            [
             0.1111111111111111,
             "#46039f"
            ],
            [
             0.2222222222222222,
             "#7201a8"
            ],
            [
             0.3333333333333333,
             "#9c179e"
            ],
            [
             0.4444444444444444,
             "#bd3786"
            ],
            [
             0.5555555555555556,
             "#d8576b"
            ],
            [
             0.6666666666666666,
             "#ed7953"
            ],
            [
             0.7777777777777778,
             "#fb9f3a"
            ],
            [
             0.8888888888888888,
             "#fdca26"
            ],
            [
             1,
             "#f0f921"
            ]
           ]
          },
          "colorway": [
           "#636efa",
           "#EF553B",
           "#00cc96",
           "#ab63fa",
           "#FFA15A",
           "#19d3f3",
           "#FF6692",
           "#B6E880",
           "#FF97FF",
           "#FECB52"
          ],
          "font": {
           "color": "#2a3f5f"
          },
          "geo": {
           "bgcolor": "white",
           "lakecolor": "white",
           "landcolor": "#E5ECF6",
           "showlakes": true,
           "showland": true,
           "subunitcolor": "white"
          },
          "hoverlabel": {
           "align": "left"
          },
          "hovermode": "closest",
          "mapbox": {
           "style": "light"
          },
          "paper_bgcolor": "white",
          "plot_bgcolor": "#E5ECF6",
          "polar": {
           "angularaxis": {
            "gridcolor": "white",
            "linecolor": "white",
            "ticks": ""
           },
           "bgcolor": "#E5ECF6",
           "radialaxis": {
            "gridcolor": "white",
            "linecolor": "white",
            "ticks": ""
           }
          },
          "scene": {
           "xaxis": {
            "backgroundcolor": "#E5ECF6",
            "gridcolor": "white",
            "gridwidth": 2,
            "linecolor": "white",
            "showbackground": true,
            "ticks": "",
            "zerolinecolor": "white"
           },
           "yaxis": {
            "backgroundcolor": "#E5ECF6",
            "gridcolor": "white",
            "gridwidth": 2,
            "linecolor": "white",
            "showbackground": true,
            "ticks": "",
            "zerolinecolor": "white"
           },
           "zaxis": {
            "backgroundcolor": "#E5ECF6",
            "gridcolor": "white",
            "gridwidth": 2,
            "linecolor": "white",
            "showbackground": true,
            "ticks": "",
            "zerolinecolor": "white"
           }
          },
          "shapedefaults": {
           "line": {
            "color": "#2a3f5f"
           }
          },
          "ternary": {
           "aaxis": {
            "gridcolor": "white",
            "linecolor": "white",
            "ticks": ""
           },
           "baxis": {
            "gridcolor": "white",
            "linecolor": "white",
            "ticks": ""
           },
           "bgcolor": "#E5ECF6",
           "caxis": {
            "gridcolor": "white",
            "linecolor": "white",
            "ticks": ""
           }
          },
          "title": {
           "x": 0.05
          },
          "xaxis": {
           "automargin": true,
           "gridcolor": "white",
           "linecolor": "white",
           "ticks": "",
           "title": {
            "standoff": 15
           },
           "zerolinecolor": "white",
           "zerolinewidth": 2
          },
          "yaxis": {
           "automargin": true,
           "gridcolor": "white",
           "linecolor": "white",
           "ticks": "",
           "title": {
            "standoff": 15
           },
           "zerolinecolor": "white",
           "zerolinewidth": 2
          }
         }
        },
        "width": 1200
       }
      }
     },
     "metadata": {},
     "output_type": "display_data"
    }
   ],
   "source": [
    "# Define your map with your dataframe name first and keep everything else the same\n",
    "fig = px.scatter_mapbox(merged_df, lat=\"latitude\",\n",
    "                        lon=\"longitude\",\n",
    "                        hover_data=[\"time\", \"drivingMode\", \"transitionType\"],\n",
    "                        color=\"drivingMode\",\n",
    "                        zoom=13,\n",
    "                        height=1000,\n",
    "                        width=1200,\n",
    "                        # color_discrete_map={\n",
    "                        #    \"COMPLETE_MANUAL\": \"#0e3f75\",\n",
    "                        #    \"COMPLETE_AUTO_DRIVE\": \"#009969\",\n",
    "                        #    \"EMERGENCY_MODE\": \"#c12637\",\n",
    "                        # }\n",
    "                        color_discrete_map={\n",
    "                            \"COMPLETE_MANUAL\": \"#601A4A\",\n",
    "                            \"COMPLETE_AUTO_DRIVE\": \"#63ACBE\",\n",
    "                            \"EMERGENCY_MODE\": \"#EE442F\",\n",
    "                        }\n",
    "\n",
    "                        )\n",
    "\n",
    "# Layout settings\n",
    "fig.update_layout(mapbox_style=\"open-street-map\")\n",
    "fig.update_layout(margin={\"r\": 0, \"t\": 0, \"l\": 0, \"b\": 0})\n",
    "\n",
    "fig.update_traces(marker=dict(size=8))\n",
    "\n",
    "# Display the map\n",
    "fig.show()"
   ]
  }
 ],
 "metadata": {
  "kernelspec": {
   "display_name": "Python 3 (ipykernel)",
   "language": "python",
   "name": "python3"
  },
  "language_info": {
   "codemirror_mode": {
    "name": "ipython",
    "version": 3
   },
   "file_extension": ".py",
   "mimetype": "text/x-python",
   "name": "python",
   "nbconvert_exporter": "python",
   "pygments_lexer": "ipython3",
   "version": "3.10.12"
  }
 },
 "nbformat": 4,
 "nbformat_minor": 5
}
