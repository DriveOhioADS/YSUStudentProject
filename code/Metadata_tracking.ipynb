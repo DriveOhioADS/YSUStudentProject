{
 "cells": [
  {
   "cell_type": "markdown",
   "id": "7d5fff77-da4e-4611-8ab4-7953dd8568be",
   "metadata": {},
   "source": [
    "# Transitions CSV Conversion\n"
   ]
  },
  {
   "cell_type": "code",
   "execution_count": 1,
   "id": "41f9a81a-de71-4baa-9809-fcac81157f8f",
   "metadata": {},
   "outputs": [],
   "source": [
    "from pandasgui import show\n",
    "import pandas as pd"
   ]
  },
  {
   "cell_type": "code",
   "execution_count": 2,
   "id": "0189332f",
   "metadata": {},
   "outputs": [],
   "source": [
    "from boto3.dynamodb.conditions import Key, Attr\n",
    "import boto3\n",
    "\n",
    "# Get the service resource\n",
    "dynamodb = boto3.resource('dynamodb')\n",
    "# Instantiate a table resource object\n",
    "table = dynamodb.Table('ads_passenger_processed')"
   ]
  },
  {
   "cell_type": "code",
   "execution_count": 3,
   "id": "d58f6d6a",
   "metadata": {},
   "outputs": [
    {
     "name": "stdout",
     "output_type": "stream",
     "text": [
      "done querying for pose data\n"
     ]
    }
   ],
   "source": [
    "\n",
    "# query for the bestPosData\n",
    "res = table.query(\n",
    "    IndexName='topic-index',\n",
    "    KeyConditionExpression=Key('topic').eq(\n",
    "        '/apollo/sensor/gnss/best_pose'),\n",
    "    Limit=1500,\n",
    ")\n",
    "df_pose = pd.DataFrame.from_dict(\n",
    "    pd.json_normalize(res['Items']), orient='columns')\n",
    "done = False\n",
    "leek = res[\"LastEvaluatedKey\"]\n",
    "keywords = {\n",
    "    \"IndexName\": 'topic-index',\n",
    "    \"KeyConditionExpression\": Key('topic').eq(\n",
    "        '/apollo/sensor/gnss/best_pose'),\n",
    "    \"Limit\": 1500,\n",
    "}\n",
    "while not done:\n",
    "    try:\n",
    "        leek = res[\"LastEvaluatedKey\"]\n",
    "        keywords[\"ExclusiveStartKey\"] = leek\n",
    "        res = table.query(**keywords)\n",
    "        tmpDF = pd.DataFrame.from_dict(\n",
    "            pd.json_normalize(res['Items']), orient='columns')\n",
    "        df_pose = pd.concat([df_pose, tmpDF])\n",
    "    except KeyError:\n",
    "        print(f\"done querying for pose data\")\n",
    "        # df.to_csv(f\"best_pose_58263e34-a45c-11ee-88ec-eb6a8d5269b4.csv\")\n",
    "        done = True"
   ]
  },
  {
   "cell_type": "code",
   "execution_count": 4,
   "id": "5473efbe",
   "metadata": {},
   "outputs": [
    {
     "name": "stdout",
     "output_type": "stream",
     "text": [
      "                         groupMetadataID\n",
      "0   2bc6ebb8-a529-11ee-88ec-eb6a8d5269b4\n",
      "1   8fa6fe80-c869-11ee-a7fc-dd032dba19e8\n",
      "2   837fc882-cb5a-11ee-909c-e1dc60cf66f9\n",
      "3   3d8020aa-cb7f-11ee-909c-e1dc60cf66f9\n",
      "4   559495ca-d270-11ee-b437-336917683bb8\n",
      "5   47561998-d9c3-11ee-a158-97f8443fd730\n",
      "6   25641404-cb66-11ee-909c-e1dc60cf66f9\n",
      "7   286c70cc-d2f7-11ee-b437-336917683bb8\n",
      "8   c9c6856c-d33c-11ee-b437-336917683bb8\n",
      "9   7f09f6c6-a5b0-11ee-88ec-eb6a8d5269b4\n",
      "10  d12cd1c4-caec-11ee-909c-e1dc60cf66f9\n",
      "11  3c415ade-d353-11ee-b437-336917683bb8\n",
      "12  3a2a78cc-db21-11ee-a158-97f8443fd730\n",
      "13  e6d7d384-db40-11ee-a158-97f8443fd730\n",
      "14  3a116996-93a9-11ee-956e-9da2d070324c\n",
      "15  8437f77a-cab7-11ee-909c-e1dc60cf66f9\n",
      "16  19b7ebd0-d9b7-11ee-a158-97f8443fd730\n",
      "17  853ef120-cad3-11ee-909c-e1dc60cf66f9\n",
      "18  64737d98-d312-11ee-b437-336917683bb8\n",
      "19  5976b77a-a504-11ee-88ec-eb6a8d5269b4\n",
      "20  baf0e4be-bede-11ee-835b-599066b5eb60\n",
      "21  76683d3c-db18-11ee-a158-97f8443fd730\n",
      "22  f671c05c-a5e4-11ee-88ec-eb6a8d5269b4\n",
      "23  c338788a-d324-11ee-b437-336917683bb8\n",
      "24  9830d896-d2dc-11ee-b437-336917683bb8\n",
      "25  787d9684-d2c2-11ee-b437-336917683bb8\n",
      "26  6d2ea45a-c839-11ee-a7fc-dd032dba19e8\n",
      "27  b31aca98-cb95-11ee-909c-e1dc60cf66f9\n",
      "28  7fb7b9c0-c881-11ee-a7fc-dd032dba19e8\n",
      "29  aa86a660-dc05-11ee-a158-97f8443fd730\n",
      "30  a253145a-d2a6-11ee-b437-336917683bb8\n",
      "31  feaf2ba8-d28d-11ee-b437-336917683bb8\n",
      "32  e2079a78-dc1d-11ee-a158-97f8443fd730\n",
      "33  58263e34-a45c-11ee-88ec-eb6a8d5269b4\n",
      "34  2837eb9c-9542-11ee-956e-9da2d070324c\n",
      "35  69ab88ec-dc17-11ee-a158-97f8443fd730\n",
      "36  dc39aa14-db32-11ee-a158-97f8443fd730\n",
      "37  072ef896-cbac-11ee-909c-e1dc60cf66f9\n",
      "38  6af236d6-d98f-11ee-a158-97f8443fd730\n",
      "39  8c57e8ac-dbec-11ee-a158-97f8443fd730\n",
      "40  8b0593cc-cb4e-11ee-909c-e1dc60cf66f9\n",
      "41  c0624e24-d9aa-11ee-a158-97f8443fd730\n",
      "42  51ef6da6-ca9f-11ee-909c-e1dc60cf66f9\n",
      "43  86841630-d9d0-11ee-a158-97f8443fd730\n",
      "44  c335d84c-a45c-11ee-88ec-eb6a8d5269b4\n",
      "45  ba6e1072-9524-11ee-956e-9da2d070324c\n",
      "46  a6539bd2-cb72-11ee-909c-e1dc60cf66f9\n",
      "47  154fab12-a43f-11ee-88ec-eb6a8d5269b4\n",
      "48  271fee10-cb8b-11ee-909c-e1dc60cf66f9\n",
      "49  68c289fa-dbd4-11ee-a158-97f8443fd730\n",
      "50  88b0613a-d35d-11ee-b437-336917683bb8\n",
      "51  f9d62032-db2a-11ee-a158-97f8443fd730\n",
      "52  90101c36-a621-11ee-88ec-eb6a8d5269b4\n",
      "53  39ba7438-d0d5-11ee-9435-f7e542e2436c\n",
      "54  06cbdbc0-db4d-11ee-a158-97f8443fd730\n",
      "55  f6ac3c82-a445-11ee-88ec-eb6a8d5269b4\n",
      "56  da853e0c-a10f-11ee-981c-d126ddbe9afa\n",
      "57  1bbbfbae-c839-11ee-a7fc-dd032dba19e8\n",
      "58  ed352100-cba0-11ee-909c-e1dc60cf66f9\n"
     ]
    }
   ],
   "source": [
    "IDs = df_pose[[\"groupMetadataID\"]].copy()\n",
    "IDs = IDs.drop_duplicates().reset_index(drop=True)\n",
    "print(IDs)"
   ]
  },
  {
   "cell_type": "code",
   "execution_count": 5,
   "id": "7dc7b625",
   "metadata": {},
   "outputs": [],
   "source": [
    "IDs.to_csv(\"gmIDs.csv\", index=False)"
   ]
  },
  {
   "cell_type": "code",
   "execution_count": null,
   "id": "b11c68ee",
   "metadata": {},
   "outputs": [],
   "source": []
  },
  {
   "cell_type": "code",
   "execution_count": null,
   "id": "764e3d56",
   "metadata": {},
   "outputs": [],
   "source": [
    "#                       groupMetadataID\n",
    "#  2bc6ebb8-a529-11ee-88ec-eb6a8d5269b4\n",
    "#  8fa6fe80-c869-11ee-a7fc-dd032dba19e8\n",
    "#  837fc882-cb5a-11ee-909c-e1dc60cf66f9\n",
    "#  3d8020aa-cb7f-11ee-909c-e1dc60cf66f9\n",
    "#  559495ca-d270-11ee-b437-336917683bb8\n",
    "#  47561998-d9c3-11ee-a158-97f8443fd730\n",
    "#  25641404-cb66-11ee-909c-e1dc60cf66f9\n",
    "#  286c70cc-d2f7-11ee-b437-336917683bb8\n",
    "#  c9c6856c-d33c-11ee-b437-336917683bb8\n",
    "#  7f09f6c6-a5b0-11ee-88ec-eb6a8d5269b4\n",
    "#  d12cd1c4-caec-11ee-909c-e1dc60cf66f9\n",
    "#  3c415ade-d353-11ee-b437-336917683bb8\n",
    "#  3a2a78cc-db21-11ee-a158-97f8443fd730\n",
    "#  e6d7d384-db40-11ee-a158-97f8443fd730\n",
    "#  3a116996-93a9-11ee-956e-9da2d070324c\n",
    "#  8437f77a-cab7-11ee-909c-e1dc60cf66f9\n",
    "#  19b7ebd0-d9b7-11ee-a158-97f8443fd730\n",
    "#  853ef120-cad3-11ee-909c-e1dc60cf66f9\n",
    "#  64737d98-d312-11ee-b437-336917683bb8\n",
    "#  5976b77a-a504-11ee-88ec-eb6a8d5269b4\n",
    "#  baf0e4be-bede-11ee-835b-599066b5eb60\n",
    "#  76683d3c-db18-11ee-a158-97f8443fd730\n",
    "#  f671c05c-a5e4-11ee-88ec-eb6a8d5269b4\n",
    "#  c338788a-d324-11ee-b437-336917683bb8\n",
    "#  9830d896-d2dc-11ee-b437-336917683bb8\n",
    "#  787d9684-d2c2-11ee-b437-336917683bb8\n",
    "#  6d2ea45a-c839-11ee-a7fc-dd032dba19e8\n",
    "#  b31aca98-cb95-11ee-909c-e1dc60cf66f9\n",
    "#  7fb7b9c0-c881-11ee-a7fc-dd032dba19e8\n",
    "#  aa86a660-dc05-11ee-a158-97f8443fd730\n",
    "#  a253145a-d2a6-11ee-b437-336917683bb8\n",
    "#  feaf2ba8-d28d-11ee-b437-336917683bb8\n",
    "#  e2079a78-dc1d-11ee-a158-97f8443fd730\n",
    "#  58263e34-a45c-11ee-88ec-eb6a8d5269b4\n",
    "#  2837eb9c-9542-11ee-956e-9da2d070324c\n",
    "#  69ab88ec-dc17-11ee-a158-97f8443fd730\n",
    "#  dc39aa14-db32-11ee-a158-97f8443fd730\n",
    "#  072ef896-cbac-11ee-909c-e1dc60cf66f9\n",
    "#  6af236d6-d98f-11ee-a158-97f8443fd730\n",
    "#  8c57e8ac-dbec-11ee-a158-97f8443fd730\n",
    "#  8b0593cc-cb4e-11ee-909c-e1dc60cf66f9\n",
    "#  c0624e24-d9aa-11ee-a158-97f8443fd730\n",
    "#  51ef6da6-ca9f-11ee-909c-e1dc60cf66f9\n",
    "#  86841630-d9d0-11ee-a158-97f8443fd730\n",
    "#  c335d84c-a45c-11ee-88ec-eb6a8d5269b4\n",
    "#  ba6e1072-9524-11ee-956e-9da2d070324c\n",
    "#  a6539bd2-cb72-11ee-909c-e1dc60cf66f9\n",
    "#  154fab12-a43f-11ee-88ec-eb6a8d5269b4\n",
    "#  271fee10-cb8b-11ee-909c-e1dc60cf66f9\n",
    "#  68c289fa-dbd4-11ee-a158-97f8443fd730\n",
    "#  88b0613a-d35d-11ee-b437-336917683bb8\n",
    "#  f9d62032-db2a-11ee-a158-97f8443fd730\n",
    "#  90101c36-a621-11ee-88ec-eb6a8d5269b4\n",
    "#  39ba7438-d0d5-11ee-9435-f7e542e2436c\n",
    "#  06cbdbc0-db4d-11ee-a158-97f8443fd730\n",
    "#  f6ac3c82-a445-11ee-88ec-eb6a8d5269b4\n",
    "#  da853e0c-a10f-11ee-981c-d126ddbe9afa\n",
    "#  1bbbfbae-c839-11ee-a7fc-dd032dba19e8\n",
    "#  ed352100-cba0-11ee-909c-e1dc60cf66f9"
   ]
  }
 ],
 "metadata": {
  "kernelspec": {
   "display_name": "Python 3 (ipykernel)",
   "language": "python",
   "name": "python3"
  },
  "language_info": {
   "codemirror_mode": {
    "name": "ipython",
    "version": 3
   },
   "file_extension": ".py",
   "mimetype": "text/x-python",
   "name": "python",
   "nbconvert_exporter": "python",
   "pygments_lexer": "ipython3",
   "version": "3.10.12"
  }
 },
 "nbformat": 4,
 "nbformat_minor": 5
}
